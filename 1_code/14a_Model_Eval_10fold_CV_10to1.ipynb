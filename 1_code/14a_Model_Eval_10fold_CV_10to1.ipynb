{
 "cells": [
  {
   "cell_type": "code",
   "execution_count": 1,
   "metadata": {},
   "outputs": [
    {
     "name": "stderr",
     "output_type": "stream",
     "text": [
      "/home/rogertu/projects/MechRepoNet/mrn_venv/lib/python3.8/site-packages/data_tools/df_processing.py:4: TqdmExperimentalWarning: Using `tqdm.autonotebook.tqdm` in notebook mode. Use `tqdm.tqdm` instead to force console mode (e.g. in jupyter console)\n",
      "  from tqdm.autonotebook import tqdm\n"
     ]
    }
   ],
   "source": [
    "import os\n",
    "import pickle\n",
    "import numpy as np\n",
    "import pandas as pd\n",
    "from time import time\n",
    "from pathlib import Path\n",
    "from tqdm.notebook import tqdm\n",
    "import data_tools.graphs as gt\n",
    "from hetnet_ml.extractor import MatrixFormattedGraph, piecewise_extraction"
   ]
  },
  {
   "cell_type": "code",
   "execution_count": 2,
   "metadata": {},
   "outputs": [
    {
     "data": {
      "text/plain": [
       "'13c_Model_Prep_Hyperparam_tuning_10to1'"
      ]
     },
     "execution_count": 2,
     "metadata": {},
     "output_type": "execute_result"
    }
   ],
   "source": [
    "next(filter(lambda d: d.startswith('13c') and d.endswith('10to1'), os.listdir(Path('../2_pipeline/test_ratio').resolve())))"
   ]
  },
  {
   "cell_type": "code",
   "execution_count": 3,
   "metadata": {},
   "outputs": [
    {
     "data": {
      "text/plain": [
       "['13c_Model_Prep_Hyperparam_tuning_1000to1',\n",
       " '13c_Model_Prep_Hyperparam_tuning_10to1']"
      ]
     },
     "execution_count": 3,
     "metadata": {},
     "output_type": "execute_result"
    }
   ],
   "source": [
    "os.listdir(os.path.join(Path('../2_pipeline/'),'test_ratio'))"
   ]
  },
  {
   "cell_type": "code",
   "execution_count": 4,
   "metadata": {
    "scrolled": false
   },
   "outputs": [],
   "source": [
    "load_dir = Path('../2_pipeline').resolve()\n",
    "\n",
    "hyp_name = next(filter(lambda d: d.startswith('13c') and d.endswith('10to1'), os.listdir(os.path.join(load_dir,'test_ratio'))))\n",
    "prep_name = next(filter(lambda d: d.startswith('13b'), os.listdir(load_dir)))\n",
    "nw_name = next(filter(lambda d: d.startswith('13a'), os.listdir(load_dir)))\n",
    "\n",
    "nw_dir = load_dir.joinpath(nw_name, 'out')\n",
    "prep_dir = load_dir.joinpath(prep_name, 'out')\n",
    "hyp_dir = load_dir.joinpath('test_ratio',hyp_name, 'out')"
   ]
  },
  {
   "cell_type": "code",
   "execution_count": 5,
   "metadata": {},
   "outputs": [],
   "source": [
    "this_name = '14a_Model_Eval_10fold_CV_10to1'\n",
    "out_dir = load_dir.joinpath(this_name, 'out')\n",
    "out_dir.mkdir(parents=True, exist_ok=True)"
   ]
  },
  {
   "cell_type": "code",
   "execution_count": 6,
   "metadata": {},
   "outputs": [
    {
     "name": "stdout",
     "output_type": "stream",
     "text": [
      "250,035 Nodes\n",
      "9,638,511 Edges\n",
      "CPU times: user 14.4 s, sys: 3.58 s, total: 18 s\n",
      "Wall time: 23.8 s\n"
     ]
    }
   ],
   "source": [
    "%%time\n",
    "nodes = gt.remove_colons(pd.read_csv(nw_dir.joinpath('nodes.csv'), dtype=str))\n",
    "edges = gt.remove_colons(pd.read_csv(nw_dir.joinpath('edges.csv'), dtype=str))\n",
    "\n",
    "print('{:,} Nodes'.format(len(nodes)))\n",
    "print('{:,} Edges'.format(len(edges)))"
   ]
  },
  {
   "cell_type": "code",
   "execution_count": 7,
   "metadata": {},
   "outputs": [
    {
     "data": {
      "text/plain": [
       "{'C': 0.13912362433541536,\n",
       " 'l1_ratio': 0.5489902557005799,\n",
       " 'w': 0.8604135949722}"
      ]
     },
     "execution_count": 7,
     "metadata": {},
     "output_type": "execute_result"
    }
   ],
   "source": [
    "best_param = pickle.load(open(hyp_dir.joinpath('best_param.pkl'), 'rb'))\n",
    "best_param"
   ]
  },
  {
   "cell_type": "markdown",
   "metadata": {},
   "source": [
    "## Routine for extracting information"
   ]
  },
  {
   "cell_type": "code",
   "execution_count": 8,
   "metadata": {},
   "outputs": [
    {
     "name": "stdout",
     "output_type": "stream",
     "text": [
      "Processing node and edge data...\n",
      "Initializing metagraph...\n",
      "Generating adjacency matrices...\n"
     ]
    },
    {
     "name": "stderr",
     "output_type": "stream",
     "text": [
      "100%|███████████████████████████████████████████████████████████████████████████████████| 68/68 [00:45<00:00,  1.49it/s]\n"
     ]
    },
    {
     "name": "stdout",
     "output_type": "stream",
     "text": [
      "\n",
      "Determining degrees for each node and metaedge\n"
     ]
    },
    {
     "name": "stderr",
     "output_type": "stream",
     "text": [
      "100%|███████████████████████████████████████████████████████████████████████████████████| 68/68 [00:24<00:00,  2.83it/s]\n"
     ]
    },
    {
     "name": "stdout",
     "output_type": "stream",
     "text": [
      "\n",
      "Weighting matrices by degree with dampening factor 0.8604135949722...\n"
     ]
    },
    {
     "name": "stderr",
     "output_type": "stream",
     "text": [
      "100%|██████████████████████████████████████████████████████████████████████████████████| 68/68 [00:00<00:00, 119.14it/s]\n"
     ]
    },
    {
     "name": "stdout",
     "output_type": "stream",
     "text": [
      "CPU times: user 31.6 s, sys: 10.3 s, total: 41.9 s\n",
      "Wall time: 1min 53s\n"
     ]
    }
   ],
   "source": [
    "%%time\n",
    "mg = MatrixFormattedGraph(nodes, edges, 'ChemicalSubstance', 'Disease', max_length=4, w=best_param['w'], n_jobs=32)"
   ]
  },
  {
   "cell_type": "markdown",
   "metadata": {},
   "source": [
    "#### Right away lets get the true positives as we will need them later"
   ]
  },
  {
   "cell_type": "code",
   "execution_count": 9,
   "metadata": {},
   "outputs": [],
   "source": [
    "pos_tups = (mg.edge_df.query('type == \"treats_CtD\"')[['start_id', 'end_id']]\n",
    "                      .apply(tuple, axis=1)\n",
    "                      .tolist())\n",
    "pos_tups = set(pos_tups)"
   ]
  },
  {
   "cell_type": "markdown",
   "metadata": {},
   "source": [
    "## Ideal Training Subset\n",
    "\n",
    "Ideally we need all compounds and diseases associated with training positives, as well as some negatives."
   ]
  },
  {
   "cell_type": "code",
   "execution_count": 10,
   "metadata": {},
   "outputs": [],
   "source": [
    "float_size = 32 # bits\n",
    "bits_per_gb = 8589934592\n",
    "\n",
    "def print_mem_info(n_comp, n_dis, n_mps):\n",
    "    print(\"{:,} Compounds * {:,} Diseases = {:,} C-D Pairs\".format(n_comp, n_dis,\n",
    "                                                                   n_comp * n_dis))\n",
    "    print(\"{:,} C-D Pairs * {:,} Metapaths = {:,} Matrix Values\".format(n_comp * n_dis,\n",
    "                                                                    n_mps, \n",
    "                                                                    n_comp * n_dis * n_mps))\n",
    "\n",
    "    print('{:1,.1f} GB of matrix values'.format(n_comp * n_dis * n_mps * float_size / (bits_per_gb)))\n",
    "    \n",
    "    print('{:1,.3f} GB per metapath'.format(n_comp * n_dis * float_size / (bits_per_gb)))"
   ]
  },
  {
   "cell_type": "code",
   "execution_count": 11,
   "metadata": {},
   "outputs": [],
   "source": [
    "ref_c = nodes.dropna(subset=['source'])['id'].tolist()"
   ]
  },
  {
   "cell_type": "code",
   "execution_count": 12,
   "metadata": {},
   "outputs": [],
   "source": [
    "neg_frac = 0.1\n",
    "rs = 20200201\n",
    "\n",
    "\n",
    "treat_comps = set(edges.query('type == \"treats_CtD\"')['start_id'])\n",
    "# Sample the negatives and subsample, but not Reframe negatvies... keep them as 'Unknown'\n",
    "keep_comps = set(nodes.query('id not in @treat_comps and id not in @ref_c and label == \"ChemicalSubstance\"')\n",
    "                                    .sample(frac=neg_frac, random_state=rs)['id'])\n",
    "# Merge togetehr\n",
    "keep_comps = sorted(list(keep_comps | treat_comps))\n",
    "\n",
    "treat_dis = set(edges.query('type == \"treats_CtD\"')['end_id'])\n",
    "# Sample the negatives \n",
    "keep_dis = set(nodes.query('label == \"Disease\" and id not in @treat_dis')\n",
    "                    .sample(frac=neg_frac, random_state=rs+1)['id'])\n",
    "# Merge together\n",
    "keep_dis = sorted(list(keep_dis | treat_dis))"
   ]
  },
  {
   "cell_type": "code",
   "execution_count": 13,
   "metadata": {},
   "outputs": [
    {
     "data": {
      "text/plain": [
       "55"
      ]
     },
     "execution_count": 13,
     "metadata": {},
     "output_type": "execute_result"
    }
   ],
   "source": [
    "mp_counts = pd.read_csv(prep_dir.joinpath('all_mp_counts.csv'))\n",
    "mp_qr = mp_counts.query('subset == \"all_pairs\" and sim_mp == False and pair_count > 0')\n",
    "mp_to_extract = mp_qr['mp'].tolist()\n",
    "\n",
    "mech_mps = pd.read_csv('../0_data/manual/mech_mps.txt', header=None)[0].values\n",
    "dmdb_feat = mp_counts.query('mp in @mech_mps and subset == \"all_pairs\" and pair_count > 0')['mp'].unique().tolist()\n",
    "len(dmdb_feat)"
   ]
  },
  {
   "cell_type": "code",
   "execution_count": 14,
   "metadata": {},
   "outputs": [
    {
     "name": "stdout",
     "output_type": "stream",
     "text": [
      "11,962 Compounds * 6,190 Diseases = 74,044,780 C-D Pairs\n",
      "74,044,780 C-D Pairs * 7,012 Metapaths = 519,201,997,360 Matrix Values\n",
      "1,934.2 GB of matrix values\n",
      "0.276 GB per metapath\n"
     ]
    }
   ],
   "source": [
    "print_mem_info(len(keep_comps), len(keep_dis), len(mp_to_extract))"
   ]
  },
  {
   "cell_type": "code",
   "execution_count": 15,
   "metadata": {},
   "outputs": [],
   "source": [
    "def display_time(seconds):\n",
    "    result = []\n",
    "    \n",
    "    intervals = (\n",
    "    ('weeks', 604800),  # 60 * 60 * 24 * 7\n",
    "    ('days', 86400),    # 60 * 60 * 24\n",
    "    ('hours', 3600),    # 60 * 60\n",
    "    ('minutes', 60),\n",
    "    ('seconds', 1),\n",
    "    )\n",
    "\n",
    "\n",
    "    for name, count in intervals:\n",
    "        value = seconds // count\n",
    "        if value:\n",
    "            seconds -= value * count\n",
    "            if value == 1:\n",
    "                name = name.rstrip('s')\n",
    "            result.append(\"{:1.0f} {}\".format(value, name))\n",
    "    return ', '.join(result)"
   ]
  },
  {
   "cell_type": "code",
   "execution_count": 16,
   "metadata": {},
   "outputs": [],
   "source": [
    "def sort_mps_for_pw_extraction(n_big_calcs, big_per_block):\n",
    "    \n",
    "    big_mp = mp_qr.sort_values('frac', ascending=False).head(n_big_calcs)['mp'].tolist()\n",
    "    other_mp = list(set(mp_to_extract) - set(big_mp))\n",
    "\n",
    "    block_size = len(other_mp) // (len(big_mp) // big_per_block)\n",
    "    n_blocks = ((len(big_mp) + len(other_mp)) // block_size)\n",
    "\n",
    "    out = []\n",
    "    for i in range(n_blocks):\n",
    "        for j in range(big_per_block):\n",
    "            idx = i*big_per_block + j\n",
    "            out.append(big_mp[idx])\n",
    "        out += other_mp[i*block_size:(i+1)*block_size] \n",
    "        \n",
    "    out += list(set(other_mp) - set(out))    \n",
    "    \n",
    "    return out, block_size"
   ]
  },
  {
   "cell_type": "code",
   "execution_count": 17,
   "metadata": {},
   "outputs": [],
   "source": [
    "mp_to_extract, block_size = sort_mps_for_pw_extraction(30, 5)"
   ]
  },
  {
   "cell_type": "code",
   "execution_count": 18,
   "metadata": {
    "scrolled": true
   },
   "outputs": [
    {
     "data": {
      "text/plain": [
       "(7012, 1163)"
      ]
     },
     "execution_count": 18,
     "metadata": {},
     "output_type": "execute_result"
    }
   ],
   "source": [
    "len(mp_to_extract), block_size"
   ]
  },
  {
   "cell_type": "markdown",
   "metadata": {},
   "source": [
    "# Build the CV Pipeline\n",
    "\n",
    "Bring in the functions needed for quick processing"
   ]
  },
  {
   "cell_type": "code",
   "execution_count": 19,
   "metadata": {},
   "outputs": [],
   "source": [
    "from scipy.sparse import issparse, csc_matrix, csr_matrix\n",
    "\n",
    "from sklearn.pipeline import Pipeline\n",
    "from sklearn.preprocessing import MaxAbsScaler\n",
    "from sklearn.model_selection import cross_validate, StratifiedKFold\n",
    "from sklearn.linear_model import LogisticRegression\n",
    "from sklearn.ensemble import RandomForestClassifier\n",
    "from sklearn.base import BaseEstimator, TransformerMixin\n",
    "from sklearn.feature_selection import SelectKBest, chi2, RFE, SelectFromModel\n",
    "from sklearn.metrics import roc_auc_score, average_precision_score\n",
    "\n",
    "from xgboost import XGBClassifier"
   ]
  },
  {
   "cell_type": "code",
   "execution_count": 20,
   "metadata": {},
   "outputs": [],
   "source": [
    "def get_target_values(train_pairs, test_pairs):\n",
    "    y_train = []\n",
    "    for row in tqdm(train_pairs.itertuples(), total=len(train_pairs)):\n",
    "        # pos_tups defined several cells above\n",
    "        if set([(row.chemicalsubstance_id, row.disease_id)]) & pos_tups:\n",
    "            y_train.append(1)\n",
    "        else:\n",
    "            y_train.append(0)\n",
    "\n",
    "    y_test = []\n",
    "    for row in tqdm(test_pairs.itertuples(), total=len(test_pairs)):\n",
    "        # pos_tups defined several cells above\n",
    "        if set([(row.chemicalsubstance_id, row.disease_id)]) & pos_tups:\n",
    "            y_test.append(1)\n",
    "        else:\n",
    "            y_test.append(0)\n",
    "            \n",
    "    return np.array(y_train), np.array(y_test)"
   ]
  },
  {
   "cell_type": "code",
   "execution_count": 21,
   "metadata": {},
   "outputs": [],
   "source": [
    "def cor_selector(X, y, feature_names, num_feats):\n",
    "    cor_list = []\n",
    "    # calculate the correlation with y for each feature\n",
    "    for i in range(X.shape[1]):\n",
    "        if issparse(X):\n",
    "            x = X[:, i].A.reshape(len(y))\n",
    "        else:\n",
    "            x = X[:, i]\n",
    "        cor = np.corrcoef(x, y)[0, 1]\n",
    "        cor_list.append(cor)\n",
    "    # replace NaN with 0\n",
    "    cor_list = [0 if np.isnan(i) else i for i in cor_list]\n",
    "    # feature name\n",
    "    cor_feature = np.array(feature_names)[np.argsort(np.abs(cor_list))[-num_feats:].tolist()].tolist()    \n",
    "    # feature selection? 0 for not select, 1 for select\n",
    "    return [True if i in cor_feature else False for i in feature_names]\n",
    "\n",
    "def chi2_selector(X, y, num_feats):\n",
    "    this_selector = SelectKBest(chi2, k=num_feats)\n",
    "    this_selector.fit(X, y)\n",
    "    return this_selector.get_support()\n",
    "\n",
    "def rfe_selector(X, y, num_feats, random_state=None):\n",
    "    this_selector = RFE(estimator=LogisticRegression(C=.1, solver='liblinear', random_state=random_state), \n",
    "                        n_features_to_select=num_feats, step=.2, verbose=5)\n",
    "    this_selector.fit(X, y)\n",
    "    return this_selector.get_support()\n",
    "\n",
    "def embeded_lr_selector(X, y, num_feats, random_state=None):\n",
    "    this_selector = SelectFromModel(LogisticRegression(penalty=\"l1\", solver='liblinear', random_state=random_state), \n",
    "                                    max_features=num_feats)\n",
    "    this_selector.fit(X, y)\n",
    "\n",
    "    return this_selector.get_support()\n",
    "\n",
    "def embeded_rf_selector(X, y, num_feats, n_jobs, random_state=None):\n",
    "    rfc = RandomForestClassifier(n_estimators=100, max_depth=50, n_jobs=n_jobs, random_state=random_state)\n",
    "    this_selector = SelectFromModel(rfc, max_features=num_feats)\n",
    "    this_selector.fit(X, y)\n",
    "    return this_selector.get_support()\n",
    "\n",
    "def embeded_xgb_selector(X, y, num_feats, n_jobs=1, random_state=None):\n",
    "    # XGBoost takes 0 as default random state\n",
    "    if random_state is None:\n",
    "        random_state = 0\n",
    "    # Paramaters optimized for speed, rather than accuracy (as we have 5 other estimators also providing votes)\n",
    "    xgbc = XGBClassifier(max_depth=5, n_estimators=200, learning_rate=.16, min_child_weight=1, colsample_bytree=.8,\n",
    "                         n_jobs=n_jobs, random_state=random_state)\n",
    "    this_selector = SelectFromModel(xgbc, max_features=num_feats)\n",
    "    this_selector.fit(X, y)\n",
    "    return this_selector.get_support()\n",
    "\n",
    "\n",
    "class FeatureSelector(BaseEstimator, TransformerMixin):\n",
    "    \n",
    "    def __init__(self, num_features=100, min_selections=4, n_jobs=1, feature_names=None, always_keep=None,\n",
    "                 random_state=None):\n",
    "        self.num_features = num_features\n",
    "        self.min_selections = min_selections\n",
    "        self.n_jobs = n_jobs\n",
    "        self.feature_names = feature_names\n",
    "        self.always_keep = always_keep\n",
    "        self.random_state = random_state\n",
    "        \n",
    "    def fit(self, X, y=None):\n",
    "                \n",
    "        X_norm = MaxAbsScaler().fit_transform(X)\n",
    "        if issparse(X):\n",
    "            if type(X) != csc_matrix:\n",
    "                X = X.tocsc()\n",
    "            X_norm = X_norm.tocsc()\n",
    "        \n",
    "        print('Running Cor')\n",
    "        cor_support = cor_selector(X, y, self.feature_names, self.num_features)\n",
    "        print('Running Chi2')\n",
    "        chi_support = chi2_selector(X_norm, y, self.num_features)\n",
    "        print('Running RFE')\n",
    "        rfe_support = rfe_selector(X_norm, y, self.num_features, self.random_state)\n",
    "        print('Running LR')\n",
    "        embeded_lr_support = embeded_lr_selector(X_norm, y, self.num_features, self.random_state)\n",
    "        print('Running RF')\n",
    "        embeded_rf_support = embeded_rf_selector(X, y, self.num_features, \n",
    "                                                 n_jobs=self.n_jobs, random_state=self.random_state)\n",
    "        print('Running XG')\n",
    "        embeded_xgb_support = embeded_xgb_selector(X, y, self.num_features, \n",
    "                                                   n_jobs=self.n_jobs, random_state=self.random_state)\n",
    "        \n",
    "        feature_selection_df = pd.DataFrame({'feature':self.feature_names, 'pearson':cor_support, 'chi_2':chi_support, \n",
    "                                             'rfe':rfe_support, 'logistics':embeded_lr_support,\n",
    "                                             'random_forest':embeded_rf_support, 'xgboost':embeded_xgb_support})  \n",
    "\n",
    "        feature_selection_df['total'] = np.sum(feature_selection_df, axis=1)\n",
    "        self.feature_selection_df_ = feature_selection_df\n",
    "        \n",
    "        keep_features = feature_selection_df.query('total >= {}'.format(self.min_selections))['feature'].tolist()\n",
    "        \n",
    "        # Keep the features that we always want (e.g. domain expertise)\n",
    "        if self.always_keep is not None:\n",
    "            keep_features.extend(self.always_keep)\n",
    "        \n",
    "        self.keep_features_ = [f for f in self.feature_names if f in keep_features]\n",
    "        \n",
    "        return self\n",
    "    \n",
    "    def transform(self, X, y=None):\n",
    "        \n",
    "        if issparse(X) and type(X) != csc_matrix:\n",
    "            X = X.tocsc()\n",
    "        return X[:, [i for i, f in enumerate(self.feature_names) if f in self.keep_features_]]"
   ]
  },
  {
   "cell_type": "code",
   "execution_count": 22,
   "metadata": {},
   "outputs": [],
   "source": [
    "class MeanScaledArcsinhTransformer(TransformerMixin):\n",
    "        \n",
    "    def fit(self, X, y=None):\n",
    "        if issparse(X):\n",
    "            self.initial_mean_ = X.tocoo().tocsc().mean(axis=0).A[0]\n",
    "        else:\n",
    "            self.initial_mean_ = X.mean(axis=0)\n",
    "\n",
    "        # If input was DataFrame, Converts resultant series to ndarray\n",
    "        try:\n",
    "            self.initial_mean_ = self.initial_mean_.values\n",
    "        except:\n",
    "            pass\n",
    "        \n",
    "        # If inital mean == 0, likely all values were zero\n",
    "        # this prevents issues later.\n",
    "        self.initial_mean_[np.where(self.initial_mean_ == 0.0)] = 1\n",
    "        \n",
    "        return self\n",
    "\n",
    "    def transform(self, X, y=None):\n",
    "        if issparse(X):\n",
    "            return np.arcsinh(X.tocoo().tocsc().multiply(self.initial_mean_**-1)).tocsc()\n",
    "        return np.arcsinh(X / self.initial_mean_)\n"
   ]
  },
  {
   "cell_type": "code",
   "execution_count": 23,
   "metadata": {},
   "outputs": [],
   "source": [
    "def sparse_std(data, axis=1):                                                                              \n",
    "    \"\"\"take the standard deviation of a sparse matrix\"\"\"                  \n",
    "\n",
    "    def get_vec_std(vec):                                                                                       \n",
    "        return vec.A.std(ddof=1)                                                                                \n",
    "\n",
    "    stds = []        \n",
    "    \n",
    "    # ensure the correct matrix type for easy row or column subsetting\n",
    "    if axis==1 and type(data) != csc_matrix:\n",
    "        data = data.tocoo().tocsc()\n",
    "    if axis==0 and type(data) != csr_matrix:\n",
    "        data = data.tocoo().tocsr()\n",
    "    \n",
    "    # Get the std for each vector along the given axis individually\n",
    "    for i in range(data.shape[axis]):                                                                              \n",
    "        if axis==1:\n",
    "            stds.append(get_vec_std(data.getcol(i)))       \n",
    "        elif axis==0:\n",
    "            stds.append(get_vec_std(data.getrow(i)))       \n",
    "        \n",
    "    return np.array(stds)\n",
    "    \n",
    "\n",
    "def get_model_coefs(model, X, f_names):                                                                                 \n",
    "    \"\"\"Helper Function to quickly return the model coefs and correspoding fetaure names\"\"\"                              \n",
    "                                                                                                                        \n",
    "    # Ensure we have a numpy array for the features                                                                     \n",
    "    if type(X) == pd.DataFrame:                                                                                         \n",
    "        X = X.values\n",
    "        \n",
    "                                                                                                                        \n",
    "    # Grab the coeffiencts                                                                                              \n",
    "    coef = model.coef_                                                                                                  \n",
    "    # Some models return a double dimension array, others only a single                                                 \n",
    "    if len(coef) != len(f_names):                                                                                       \n",
    "        coef = coef[0]                                                                                                  \n",
    "                                                                                                                        \n",
    "    # insert the intercept                                                                                              \n",
    "    coef = np.insert(coef, 0, model.intercept_)                                                                         \n",
    "    names = np.insert(f_names, 0, 'intercept')                                                                          \n",
    "                                                                                                                        \n",
    "    # Calculate z-score scaled coefficients based on the features                                                       \n",
    "    if issparse(X):\n",
    "        if type(X) != csc_matrix:\n",
    "            X = X.tocoo().tocsc()\n",
    "        z_intercept = coef[0] + sum(coef[1:] * X.mean(axis=0).A[0])\n",
    "        z_coef = coef[1:] * sparse_std(X, axis=1)\n",
    "        z_coef = np.insert(z_coef, 0, z_intercept)\n",
    "    else:\n",
    "        z_intercept = coef[0] + sum(coef[1:] * X.mean(axis=0))                                                              \n",
    "        z_coef = coef[1:] * X.std(axis=0)                                                                                   \n",
    "        z_coef = np.insert(z_coef, 0, z_intercept)                                                                          \n",
    "                                                                                                                        \n",
    "    # Return                                                                                                            \n",
    "    return pd.DataFrame([names, coef, z_coef]).T.rename(columns={0:'feature', 1:'coef', 2:'zcoef'})    "
   ]
  },
  {
   "cell_type": "code",
   "execution_count": 24,
   "metadata": {},
   "outputs": [],
   "source": [
    "fs = pickle.load(open(hyp_dir.joinpath('feature_selector.pkl'), 'rb'))"
   ]
  },
  {
   "cell_type": "code",
   "execution_count": 25,
   "metadata": {},
   "outputs": [],
   "source": [
    "mp_to_extract = list(set(fs.keep_features_) | set(dmdb_feat))"
   ]
  },
  {
   "cell_type": "code",
   "execution_count": 26,
   "metadata": {},
   "outputs": [],
   "source": [
    "enet_params = {k: v for k, v in best_param.items() if k != 'w'}\n",
    "\n",
    "post_extraction_pipeline = Pipeline(\n",
    "    [('transformer', MeanScaledArcsinhTransformer()),\n",
    "     #('feature_selection', FeatureSelector(num_features=500, min_selections=3, n_jobs=30,\n",
    "     #                                      feature_names=mp_to_extract, always_keep=dmdb_feat)),\n",
    "     ('maxabs_scale', MaxAbsScaler()),\n",
    "     ('e_net', LogisticRegression(penalty='elasticnet', solver='saga', max_iter=500, **enet_params))], verbose=True)"
   ]
  },
  {
   "cell_type": "code",
   "execution_count": 27,
   "metadata": {},
   "outputs": [],
   "source": [
    "# Get our compounds as ndarrays for easy indexing with sklearns StratifiedKFold\n",
    "keep_comps = np.array(keep_comps)"
   ]
  },
  {
   "cell_type": "code",
   "execution_count": 28,
   "metadata": {},
   "outputs": [
    {
     "name": "stdout",
     "output_type": "stream",
     "text": [
      "['CHEBI:100' 'CHEBI:100147' 'CHEBI:100148' 'CHEBI:100194' 'CHEBI:10023'\n",
      " 'CHEBI:100241' 'CHEBI:100246' 'CHEBI:10033' 'CHEBI:10034' 'CHEBI:10036']\n",
      "['WD:Q72496854' 'WD:Q72498509' 'WD:Q72499475' 'WD:Q72503697'\n",
      " 'WD:Q72506824' 'WD:Q72506931' 'WD:Q72507054' 'WD:Q72507066'\n",
      " 'WD:Q72507082' 'WD:Q72510490']\n"
     ]
    }
   ],
   "source": [
    "print(keep_comps[:10])\n",
    "print(keep_comps[-10:])"
   ]
  },
  {
   "cell_type": "code",
   "execution_count": 29,
   "metadata": {},
   "outputs": [
    {
     "name": "stdout",
     "output_type": "stream",
     "text": [
      "['IKEY:HPXIKMBHOXLFOR-LICLKQGHSA-N' 'CHEBI:92490' 'CHEBI:86557'\n",
      " 'IKEY:CYJWWQALTIKOAG-FLORRLIPSA-N' 'CHEBI:15920' 'MESH:C497332'\n",
      " 'IKEY:JSKFWUPVIZYJMR-UDOAKELVSA-N' 'MESH:C539419' 'CHEBI:91337'\n",
      " 'MESH:D012676']\n",
      "['MESH:C057058' 'IKEY:YWXYYJSYQOXTPL-JGWLITMVSA-N' 'WD:Q72480354'\n",
      " 'CHEBI:16464' 'MESH:C555559' 'IKEY:OWBFCJROIKNMGD-BQYQJAHWSA-N'\n",
      " 'MESH:C111148' 'MESH:D004876' 'CHEBI:127235' 'CHEBI:68845']\n"
     ]
    }
   ],
   "source": [
    "# Randomize the compounds\n",
    "np.random.seed(20200221)\n",
    "np.random.shuffle(keep_comps)\n",
    "print(keep_comps[:10])\n",
    "print(keep_comps[-10:])"
   ]
  },
  {
   "cell_type": "code",
   "execution_count": 30,
   "metadata": {},
   "outputs": [],
   "source": [
    "# Need to know how to properly stratify the split\n",
    "is_treat_comp = np.array([1 if c in treat_comps else 0 for c in keep_comps])"
   ]
  },
  {
   "cell_type": "code",
   "execution_count": 31,
   "metadata": {
    "scrolled": true
   },
   "outputs": [
    {
     "name": "stdout",
     "output_type": "stream",
     "text": [
      "Beginning Fold: 0\n",
      "Removing 4,682 Compound - TREATS - Disease edges.\n",
      "51,352 remain for training.\n"
     ]
    },
    {
     "name": "stderr",
     "output_type": "stream",
     "text": [
      "100%|█████████████████████████████████████████████████████████████████████████████████████| 1/1 [00:00<00:00, 41.75it/s]\n",
      "100%|█████████████████████████████████████████████████████████████████████████████████████| 1/1 [00:00<00:00,  8.66it/s]\n",
      "100%|█████████████████████████████████████████████████████████████████████████████████████| 1/1 [00:00<00:00, 49.13it/s]\n"
     ]
    },
    {
     "name": "stdout",
     "output_type": "stream",
     "text": [
      "Preparing function arguments...\n",
      "Calculating DWPCs...\n"
     ]
    },
    {
     "name": "stderr",
     "output_type": "stream",
     "text": [
      "100%|█████████████████████████████████████████████████████████████████████████████████| 177/177 [04:28<00:00,  1.52s/it]\n"
     ]
    },
    {
     "name": "stdout",
     "output_type": "stream",
     "text": [
      "\n",
      "Reshaping Result Matrices...\n"
     ]
    },
    {
     "name": "stderr",
     "output_type": "stream",
     "text": [
      "100%|█████████████████████████████████████████████████████████████████████████████████| 177/177 [01:04<00:00,  2.73it/s]\n"
     ]
    },
    {
     "name": "stdout",
     "output_type": "stream",
     "text": [
      "Stacking columns...\n",
      "Dividing training and test sets...\n",
      "Getting Target Values\n"
     ]
    },
    {
     "data": {
      "application/vnd.jupyter.widget-view+json": {
       "model_id": "f88efa5daf1241909184b13b74dc3589",
       "version_major": 2,
       "version_minor": 0
      },
      "text/plain": [
       "  0%|          | 0/66635350 [00:00<?, ?it/s]"
      ]
     },
     "metadata": {},
     "output_type": "display_data"
    },
    {
     "data": {
      "application/vnd.jupyter.widget-view+json": {
       "model_id": "d69ac0e75057496d9dedde9c9e1bb4f4",
       "version_major": 2,
       "version_minor": 0
      },
      "text/plain": [
       "  0%|          | 0/7409430 [00:01<?, ?it/s]"
      ]
     },
     "metadata": {},
     "output_type": "display_data"
    },
    {
     "name": "stdout",
     "output_type": "stream",
     "text": [
      "Subseting Training Examples\n",
      "Training Model\n",
      "[Pipeline] ....... (step 1 of 3) Processing transformer, total=   2.5s\n",
      "[Pipeline] ...... (step 2 of 3) Processing maxabs_scale, total=   0.2s\n",
      "[Pipeline] ............. (step 3 of 3) Processing e_net, total=  12.6s\n",
      "AUROC: 0.7703\n",
      "AUPR: 0.0233\n",
      "Fold 0 took: 9 minutes, 44 seconds\n",
      "\n",
      "\n",
      "\n",
      "Beginning Fold: 1\n",
      "Removing 5,313 Compound - TREATS - Disease edges.\n",
      "50,721 remain for training.\n"
     ]
    },
    {
     "name": "stderr",
     "output_type": "stream",
     "text": [
      "100%|█████████████████████████████████████████████████████████████████████████████████████| 1/1 [00:00<00:00, 36.67it/s]\n",
      "100%|█████████████████████████████████████████████████████████████████████████████████████| 1/1 [00:00<00:00,  9.08it/s]\n",
      "100%|█████████████████████████████████████████████████████████████████████████████████████| 1/1 [00:00<00:00, 50.81it/s]\n"
     ]
    },
    {
     "name": "stdout",
     "output_type": "stream",
     "text": [
      "Preparing function arguments...\n",
      "Calculating DWPCs...\n"
     ]
    },
    {
     "name": "stderr",
     "output_type": "stream",
     "text": [
      "100%|█████████████████████████████████████████████████████████████████████████████████| 177/177 [03:47<00:00,  1.28s/it]\n"
     ]
    },
    {
     "name": "stdout",
     "output_type": "stream",
     "text": [
      "\n",
      "Reshaping Result Matrices...\n"
     ]
    },
    {
     "name": "stderr",
     "output_type": "stream",
     "text": [
      "100%|█████████████████████████████████████████████████████████████████████████████████| 177/177 [01:05<00:00,  2.71it/s]\n"
     ]
    },
    {
     "name": "stdout",
     "output_type": "stream",
     "text": [
      "Stacking columns...\n",
      "Dividing training and test sets...\n",
      "Getting Target Values\n"
     ]
    },
    {
     "data": {
      "application/vnd.jupyter.widget-view+json": {
       "model_id": "29fe9336fd8043fba502cbb72faafd14",
       "version_major": 2,
       "version_minor": 0
      },
      "text/plain": [
       "  0%|          | 0/66635350 [00:00<?, ?it/s]"
      ]
     },
     "metadata": {},
     "output_type": "display_data"
    },
    {
     "data": {
      "application/vnd.jupyter.widget-view+json": {
       "model_id": "ec61cc864be74bd0a91deb8692c043d4",
       "version_major": 2,
       "version_minor": 0
      },
      "text/plain": [
       "  0%|          | 0/7409430 [00:00<?, ?it/s]"
      ]
     },
     "metadata": {},
     "output_type": "display_data"
    },
    {
     "name": "stdout",
     "output_type": "stream",
     "text": [
      "Subseting Training Examples\n",
      "Training Model\n",
      "[Pipeline] ....... (step 1 of 3) Processing transformer, total=   2.4s\n",
      "[Pipeline] ...... (step 2 of 3) Processing maxabs_scale, total=   0.2s\n",
      "[Pipeline] ............. (step 3 of 3) Processing e_net, total=  12.5s\n",
      "AUROC: 0.7920\n",
      "AUPR: 0.0241\n",
      "Fold 1 took: 9 minutes, 25 seconds\n",
      "\n",
      "\n",
      "\n",
      "Beginning Fold: 2\n",
      "Removing 6,514 Compound - TREATS - Disease edges.\n",
      "49,520 remain for training.\n"
     ]
    },
    {
     "name": "stderr",
     "output_type": "stream",
     "text": [
      "100%|█████████████████████████████████████████████████████████████████████████████████████| 1/1 [00:00<00:00, 34.28it/s]\n",
      "100%|█████████████████████████████████████████████████████████████████████████████████████| 1/1 [00:00<00:00,  8.35it/s]\n",
      "100%|█████████████████████████████████████████████████████████████████████████████████████| 1/1 [00:00<00:00, 52.45it/s]\n"
     ]
    },
    {
     "name": "stdout",
     "output_type": "stream",
     "text": [
      "Preparing function arguments...\n",
      "Calculating DWPCs...\n"
     ]
    },
    {
     "name": "stderr",
     "output_type": "stream",
     "text": [
      "100%|█████████████████████████████████████████████████████████████████████████████████| 177/177 [03:49<00:00,  1.29s/it]\n"
     ]
    },
    {
     "name": "stdout",
     "output_type": "stream",
     "text": [
      "\n",
      "Reshaping Result Matrices...\n"
     ]
    },
    {
     "name": "stderr",
     "output_type": "stream",
     "text": [
      "100%|█████████████████████████████████████████████████████████████████████████████████| 177/177 [01:05<00:00,  2.68it/s]\n"
     ]
    },
    {
     "name": "stdout",
     "output_type": "stream",
     "text": [
      "Stacking columns...\n",
      "Dividing training and test sets...\n",
      "Getting Target Values\n"
     ]
    },
    {
     "data": {
      "application/vnd.jupyter.widget-view+json": {
       "model_id": "84b48b7180a2421fab6e64d179618924",
       "version_major": 2,
       "version_minor": 0
      },
      "text/plain": [
       "  0%|          | 0/66641540 [00:00<?, ?it/s]"
      ]
     },
     "metadata": {},
     "output_type": "display_data"
    },
    {
     "data": {
      "application/vnd.jupyter.widget-view+json": {
       "model_id": "d729215ca7424f80832695575fbfd1cc",
       "version_major": 2,
       "version_minor": 0
      },
      "text/plain": [
       "  0%|          | 0/7403240 [00:00<?, ?it/s]"
      ]
     },
     "metadata": {},
     "output_type": "display_data"
    },
    {
     "name": "stdout",
     "output_type": "stream",
     "text": [
      "Subseting Training Examples\n",
      "Training Model\n",
      "[Pipeline] ....... (step 1 of 3) Processing transformer, total=   2.4s\n",
      "[Pipeline] ...... (step 2 of 3) Processing maxabs_scale, total=   0.2s\n",
      "[Pipeline] ............. (step 3 of 3) Processing e_net, total=  12.9s\n",
      "AUROC: 0.7952\n",
      "AUPR: 0.0239\n",
      "Fold 2 took: 9 minutes, 28 seconds\n",
      "\n",
      "\n",
      "\n",
      "Beginning Fold: 3\n",
      "Removing 5,265 Compound - TREATS - Disease edges.\n",
      "50,769 remain for training.\n"
     ]
    },
    {
     "name": "stderr",
     "output_type": "stream",
     "text": [
      "100%|█████████████████████████████████████████████████████████████████████████████████████| 1/1 [00:00<00:00, 36.03it/s]\n",
      "100%|█████████████████████████████████████████████████████████████████████████████████████| 1/1 [00:00<00:00,  7.86it/s]\n",
      "100%|█████████████████████████████████████████████████████████████████████████████████████| 1/1 [00:00<00:00, 54.43it/s]\n"
     ]
    },
    {
     "name": "stdout",
     "output_type": "stream",
     "text": [
      "Preparing function arguments...\n",
      "Calculating DWPCs...\n"
     ]
    },
    {
     "name": "stderr",
     "output_type": "stream",
     "text": [
      "100%|█████████████████████████████████████████████████████████████████████████████████| 177/177 [03:27<00:00,  1.17s/it]\n"
     ]
    },
    {
     "name": "stdout",
     "output_type": "stream",
     "text": [
      "\n",
      "Reshaping Result Matrices...\n"
     ]
    },
    {
     "name": "stderr",
     "output_type": "stream",
     "text": [
      "100%|█████████████████████████████████████████████████████████████████████████████████| 177/177 [01:05<00:00,  2.69it/s]\n"
     ]
    },
    {
     "name": "stdout",
     "output_type": "stream",
     "text": [
      "Stacking columns...\n",
      "Dividing training and test sets...\n",
      "Getting Target Values\n"
     ]
    },
    {
     "data": {
      "application/vnd.jupyter.widget-view+json": {
       "model_id": "f1c979efbf8f4f66bb3ac19755d8fcf5",
       "version_major": 2,
       "version_minor": 0
      },
      "text/plain": [
       "  0%|          | 0/66641540 [00:00<?, ?it/s]"
      ]
     },
     "metadata": {},
     "output_type": "display_data"
    },
    {
     "data": {
      "application/vnd.jupyter.widget-view+json": {
       "model_id": "623629aa019a4b82a0a51f26cde9308f",
       "version_major": 2,
       "version_minor": 0
      },
      "text/plain": [
       "  0%|          | 0/7403240 [00:00<?, ?it/s]"
      ]
     },
     "metadata": {},
     "output_type": "display_data"
    },
    {
     "name": "stdout",
     "output_type": "stream",
     "text": [
      "Subseting Training Examples\n",
      "Training Model\n",
      "[Pipeline] ....... (step 1 of 3) Processing transformer, total=   2.5s\n",
      "[Pipeline] ...... (step 2 of 3) Processing maxabs_scale, total=   0.2s\n",
      "[Pipeline] ............. (step 3 of 3) Processing e_net, total=  13.0s\n",
      "AUROC: 0.8187\n",
      "AUPR: 0.0338\n",
      "Fold 3 took: 9 minutes, 12 seconds\n",
      "\n",
      "\n",
      "\n",
      "Beginning Fold: 4\n",
      "Removing 5,623 Compound - TREATS - Disease edges.\n",
      "50,411 remain for training.\n"
     ]
    },
    {
     "name": "stderr",
     "output_type": "stream",
     "text": [
      "100%|█████████████████████████████████████████████████████████████████████████████████████| 1/1 [00:00<00:00, 33.87it/s]\n",
      "100%|█████████████████████████████████████████████████████████████████████████████████████| 1/1 [00:00<00:00,  8.43it/s]\n",
      "100%|█████████████████████████████████████████████████████████████████████████████████████| 1/1 [00:00<00:00, 49.70it/s]\n"
     ]
    },
    {
     "name": "stdout",
     "output_type": "stream",
     "text": [
      "Preparing function arguments...\n",
      "Calculating DWPCs...\n"
     ]
    },
    {
     "name": "stderr",
     "output_type": "stream",
     "text": [
      "100%|█████████████████████████████████████████████████████████████████████████████████| 177/177 [03:16<00:00,  1.11s/it]\n"
     ]
    },
    {
     "name": "stdout",
     "output_type": "stream",
     "text": [
      "\n",
      "Reshaping Result Matrices...\n"
     ]
    },
    {
     "name": "stderr",
     "output_type": "stream",
     "text": [
      "100%|█████████████████████████████████████████████████████████████████████████████████| 177/177 [01:07<00:00,  2.62it/s]\n"
     ]
    },
    {
     "name": "stdout",
     "output_type": "stream",
     "text": [
      "Stacking columns...\n",
      "Dividing training and test sets...\n",
      "Getting Target Values\n"
     ]
    },
    {
     "data": {
      "application/vnd.jupyter.widget-view+json": {
       "model_id": "20d4768ed8f04567a117146c1430a75a",
       "version_major": 2,
       "version_minor": 0
      },
      "text/plain": [
       "  0%|          | 0/66641540 [00:00<?, ?it/s]"
      ]
     },
     "metadata": {},
     "output_type": "display_data"
    },
    {
     "data": {
      "application/vnd.jupyter.widget-view+json": {
       "model_id": "c69e94edae0c4b42aed99144078653a3",
       "version_major": 2,
       "version_minor": 0
      },
      "text/plain": [
       "  0%|          | 0/7403240 [00:00<?, ?it/s]"
      ]
     },
     "metadata": {},
     "output_type": "display_data"
    },
    {
     "name": "stdout",
     "output_type": "stream",
     "text": [
      "Subseting Training Examples\n",
      "Training Model\n",
      "[Pipeline] ....... (step 1 of 3) Processing transformer, total=   2.4s\n",
      "[Pipeline] ...... (step 2 of 3) Processing maxabs_scale, total=   0.2s\n",
      "[Pipeline] ............. (step 3 of 3) Processing e_net, total=  11.1s\n",
      "AUROC: 0.8111\n",
      "AUPR: 0.0320\n",
      "Fold 4 took: 9 minutes, 1 second\n",
      "\n",
      "\n",
      "\n",
      "Beginning Fold: 5\n",
      "Removing 5,892 Compound - TREATS - Disease edges.\n",
      "50,142 remain for training.\n"
     ]
    },
    {
     "name": "stderr",
     "output_type": "stream",
     "text": [
      "100%|█████████████████████████████████████████████████████████████████████████████████████| 1/1 [00:00<00:00, 38.64it/s]\n",
      "100%|█████████████████████████████████████████████████████████████████████████████████████| 1/1 [00:00<00:00,  8.11it/s]\n",
      "100%|█████████████████████████████████████████████████████████████████████████████████████| 1/1 [00:00<00:00, 45.49it/s]\n"
     ]
    },
    {
     "name": "stdout",
     "output_type": "stream",
     "text": [
      "Preparing function arguments...\n",
      "Calculating DWPCs...\n"
     ]
    },
    {
     "name": "stderr",
     "output_type": "stream",
     "text": [
      "100%|█████████████████████████████████████████████████████████████████████████████████| 177/177 [03:36<00:00,  1.22s/it]\n"
     ]
    },
    {
     "name": "stdout",
     "output_type": "stream",
     "text": [
      "\n",
      "Reshaping Result Matrices...\n"
     ]
    },
    {
     "name": "stderr",
     "output_type": "stream",
     "text": [
      "100%|█████████████████████████████████████████████████████████████████████████████████| 177/177 [01:06<00:00,  2.65it/s]\n"
     ]
    },
    {
     "name": "stdout",
     "output_type": "stream",
     "text": [
      "Stacking columns...\n",
      "Dividing training and test sets...\n",
      "Getting Target Values\n"
     ]
    },
    {
     "data": {
      "application/vnd.jupyter.widget-view+json": {
       "model_id": "32c5aadacc8d4cac84241777585bfe2e",
       "version_major": 2,
       "version_minor": 0
      },
      "text/plain": [
       "  0%|          | 0/66641540 [00:00<?, ?it/s]"
      ]
     },
     "metadata": {},
     "output_type": "display_data"
    },
    {
     "data": {
      "application/vnd.jupyter.widget-view+json": {
       "model_id": "a50490743a2542da9c18f4a7eae4c88b",
       "version_major": 2,
       "version_minor": 0
      },
      "text/plain": [
       "  0%|          | 0/7403240 [00:00<?, ?it/s]"
      ]
     },
     "metadata": {},
     "output_type": "display_data"
    },
    {
     "name": "stdout",
     "output_type": "stream",
     "text": [
      "Subseting Training Examples\n",
      "Training Model\n",
      "[Pipeline] ....... (step 1 of 3) Processing transformer, total=   2.4s\n",
      "[Pipeline] ...... (step 2 of 3) Processing maxabs_scale, total=   0.2s\n",
      "[Pipeline] ............. (step 3 of 3) Processing e_net, total=  12.2s\n",
      "AUROC: 0.7716\n",
      "AUPR: 0.0223\n",
      "Fold 5 took: 9 minutes, 24 seconds\n",
      "\n",
      "\n",
      "\n",
      "Beginning Fold: 6\n",
      "Removing 6,596 Compound - TREATS - Disease edges.\n",
      "49,438 remain for training.\n"
     ]
    },
    {
     "name": "stderr",
     "output_type": "stream",
     "text": [
      "100%|█████████████████████████████████████████████████████████████████████████████████████| 1/1 [00:00<00:00, 36.28it/s]\n",
      "100%|█████████████████████████████████████████████████████████████████████████████████████| 1/1 [00:00<00:00,  9.30it/s]\n",
      "100%|█████████████████████████████████████████████████████████████████████████████████████| 1/1 [00:00<00:00, 50.41it/s]\n"
     ]
    },
    {
     "name": "stdout",
     "output_type": "stream",
     "text": [
      "Preparing function arguments...\n",
      "Calculating DWPCs...\n"
     ]
    },
    {
     "name": "stderr",
     "output_type": "stream",
     "text": [
      "100%|█████████████████████████████████████████████████████████████████████████████████| 177/177 [03:22<00:00,  1.15s/it]\n"
     ]
    },
    {
     "name": "stdout",
     "output_type": "stream",
     "text": [
      "\n",
      "Reshaping Result Matrices...\n"
     ]
    },
    {
     "name": "stderr",
     "output_type": "stream",
     "text": [
      "100%|█████████████████████████████████████████████████████████████████████████████████| 177/177 [01:05<00:00,  2.68it/s]\n"
     ]
    },
    {
     "name": "stdout",
     "output_type": "stream",
     "text": [
      "Stacking columns...\n",
      "Dividing training and test sets...\n",
      "Getting Target Values\n"
     ]
    },
    {
     "data": {
      "application/vnd.jupyter.widget-view+json": {
       "model_id": "bcff9aa6d82849f3808f79b85dcf3922",
       "version_major": 2,
       "version_minor": 0
      },
      "text/plain": [
       "  0%|          | 0/66641540 [00:00<?, ?it/s]"
      ]
     },
     "metadata": {},
     "output_type": "display_data"
    },
    {
     "data": {
      "application/vnd.jupyter.widget-view+json": {
       "model_id": "fb60218e6783400ead34423b033cdcba",
       "version_major": 2,
       "version_minor": 0
      },
      "text/plain": [
       "  0%|          | 0/7403240 [00:00<?, ?it/s]"
      ]
     },
     "metadata": {},
     "output_type": "display_data"
    },
    {
     "name": "stdout",
     "output_type": "stream",
     "text": [
      "Subseting Training Examples\n",
      "Training Model\n",
      "[Pipeline] ....... (step 1 of 3) Processing transformer, total=   2.2s\n",
      "[Pipeline] ...... (step 2 of 3) Processing maxabs_scale, total=   0.1s\n",
      "[Pipeline] ............. (step 3 of 3) Processing e_net, total=  11.6s\n",
      "AUROC: 0.7879\n",
      "AUPR: 0.0271\n",
      "Fold 6 took: 9 minutes, 12 seconds\n",
      "\n",
      "\n",
      "\n",
      "Beginning Fold: 7\n",
      "Removing 4,830 Compound - TREATS - Disease edges.\n",
      "51,204 remain for training.\n"
     ]
    },
    {
     "name": "stderr",
     "output_type": "stream",
     "text": [
      "100%|█████████████████████████████████████████████████████████████████████████████████████| 1/1 [00:00<00:00, 36.33it/s]\n",
      "100%|█████████████████████████████████████████████████████████████████████████████████████| 1/1 [00:00<00:00,  8.08it/s]\n",
      "100%|█████████████████████████████████████████████████████████████████████████████████████| 1/1 [00:00<00:00, 50.22it/s]\n"
     ]
    },
    {
     "name": "stdout",
     "output_type": "stream",
     "text": [
      "Preparing function arguments...\n",
      "Calculating DWPCs...\n"
     ]
    },
    {
     "name": "stderr",
     "output_type": "stream",
     "text": [
      "100%|█████████████████████████████████████████████████████████████████████████████████| 177/177 [03:32<00:00,  1.20s/it]\n"
     ]
    },
    {
     "name": "stdout",
     "output_type": "stream",
     "text": [
      "\n",
      "Reshaping Result Matrices...\n"
     ]
    },
    {
     "name": "stderr",
     "output_type": "stream",
     "text": [
      "100%|█████████████████████████████████████████████████████████████████████████████████| 177/177 [01:07<00:00,  2.63it/s]\n"
     ]
    },
    {
     "name": "stdout",
     "output_type": "stream",
     "text": [
      "Stacking columns...\n",
      "Dividing training and test sets...\n",
      "Getting Target Values\n"
     ]
    },
    {
     "data": {
      "application/vnd.jupyter.widget-view+json": {
       "model_id": "7f8322e5ebae49c2ade3b2a1a4bbb3db",
       "version_major": 2,
       "version_minor": 0
      },
      "text/plain": [
       "  0%|          | 0/66641540 [00:00<?, ?it/s]"
      ]
     },
     "metadata": {},
     "output_type": "display_data"
    },
    {
     "data": {
      "application/vnd.jupyter.widget-view+json": {
       "model_id": "35abb966b4584ac8ab998c7713331a65",
       "version_major": 2,
       "version_minor": 0
      },
      "text/plain": [
       "  0%|          | 0/7403240 [00:00<?, ?it/s]"
      ]
     },
     "metadata": {},
     "output_type": "display_data"
    },
    {
     "name": "stdout",
     "output_type": "stream",
     "text": [
      "Subseting Training Examples\n",
      "Training Model\n",
      "[Pipeline] ....... (step 1 of 3) Processing transformer, total=   2.5s\n",
      "[Pipeline] ...... (step 2 of 3) Processing maxabs_scale, total=   0.2s\n",
      "[Pipeline] ............. (step 3 of 3) Processing e_net, total=  13.2s\n",
      "AUROC: 0.7681\n",
      "AUPR: 0.0186\n",
      "Fold 7 took: 9 minutes, 29 seconds\n",
      "\n",
      "\n",
      "\n",
      "Beginning Fold: 8\n",
      "Removing 5,746 Compound - TREATS - Disease edges.\n",
      "50,288 remain for training.\n"
     ]
    },
    {
     "name": "stderr",
     "output_type": "stream",
     "text": [
      "100%|█████████████████████████████████████████████████████████████████████████████████████| 1/1 [00:00<00:00, 40.82it/s]\n",
      "100%|█████████████████████████████████████████████████████████████████████████████████████| 1/1 [00:00<00:00, 13.89it/s]\n",
      "100%|█████████████████████████████████████████████████████████████████████████████████████| 1/1 [00:00<00:00, 56.08it/s]\n"
     ]
    },
    {
     "name": "stdout",
     "output_type": "stream",
     "text": [
      "Preparing function arguments...\n",
      "Calculating DWPCs...\n"
     ]
    },
    {
     "name": "stderr",
     "output_type": "stream",
     "text": [
      "100%|█████████████████████████████████████████████████████████████████████████████████| 177/177 [03:32<00:00,  1.20s/it]\n"
     ]
    },
    {
     "name": "stdout",
     "output_type": "stream",
     "text": [
      "\n",
      "Reshaping Result Matrices...\n"
     ]
    },
    {
     "name": "stderr",
     "output_type": "stream",
     "text": [
      "100%|█████████████████████████████████████████████████████████████████████████████████| 177/177 [01:07<00:00,  2.64it/s]\n"
     ]
    },
    {
     "name": "stdout",
     "output_type": "stream",
     "text": [
      "Stacking columns...\n",
      "Dividing training and test sets...\n",
      "Getting Target Values\n"
     ]
    },
    {
     "data": {
      "application/vnd.jupyter.widget-view+json": {
       "model_id": "98ff8e1ebec14c4284d0e3801a19aab6",
       "version_major": 2,
       "version_minor": 0
      },
      "text/plain": [
       "  0%|          | 0/66641540 [00:00<?, ?it/s]"
      ]
     },
     "metadata": {},
     "output_type": "display_data"
    },
    {
     "data": {
      "application/vnd.jupyter.widget-view+json": {
       "model_id": "a6915d4a4d9a485ea0369facb77a96ef",
       "version_major": 2,
       "version_minor": 0
      },
      "text/plain": [
       "  0%|          | 0/7403240 [00:00<?, ?it/s]"
      ]
     },
     "metadata": {},
     "output_type": "display_data"
    },
    {
     "name": "stdout",
     "output_type": "stream",
     "text": [
      "Subseting Training Examples\n",
      "Training Model\n",
      "[Pipeline] ....... (step 1 of 3) Processing transformer, total=   2.3s\n",
      "[Pipeline] ...... (step 2 of 3) Processing maxabs_scale, total=   0.2s\n",
      "[Pipeline] ............. (step 3 of 3) Processing e_net, total=  11.9s\n",
      "AUROC: 0.7398\n",
      "AUPR: 0.0193\n",
      "Fold 8 took: 9 minutes, 28 seconds\n",
      "\n",
      "\n",
      "\n",
      "Beginning Fold: 9\n",
      "Removing 5,573 Compound - TREATS - Disease edges.\n",
      "50,461 remain for training.\n"
     ]
    },
    {
     "name": "stderr",
     "output_type": "stream",
     "text": [
      "100%|█████████████████████████████████████████████████████████████████████████████████████| 1/1 [00:00<00:00, 35.45it/s]\n",
      "100%|█████████████████████████████████████████████████████████████████████████████████████| 1/1 [00:00<00:00,  8.59it/s]\n",
      "100%|█████████████████████████████████████████████████████████████████████████████████████| 1/1 [00:00<00:00, 45.38it/s]\n"
     ]
    },
    {
     "name": "stdout",
     "output_type": "stream",
     "text": [
      "Preparing function arguments...\n",
      "Calculating DWPCs...\n"
     ]
    },
    {
     "name": "stderr",
     "output_type": "stream",
     "text": [
      "100%|█████████████████████████████████████████████████████████████████████████████████| 177/177 [03:25<00:00,  1.16s/it]\n"
     ]
    },
    {
     "name": "stdout",
     "output_type": "stream",
     "text": [
      "\n",
      "Reshaping Result Matrices...\n"
     ]
    },
    {
     "name": "stderr",
     "output_type": "stream",
     "text": [
      "100%|█████████████████████████████████████████████████████████████████████████████████| 177/177 [01:05<00:00,  2.71it/s]\n"
     ]
    },
    {
     "name": "stdout",
     "output_type": "stream",
     "text": [
      "Stacking columns...\n",
      "Dividing training and test sets...\n",
      "Getting Target Values\n"
     ]
    },
    {
     "data": {
      "application/vnd.jupyter.widget-view+json": {
       "model_id": "f8667c94a36f4716bc39ab1a904b2293",
       "version_major": 2,
       "version_minor": 0
      },
      "text/plain": [
       "  0%|          | 0/66641540 [00:00<?, ?it/s]"
      ]
     },
     "metadata": {},
     "output_type": "display_data"
    },
    {
     "data": {
      "application/vnd.jupyter.widget-view+json": {
       "model_id": "7b13016d764a49b4b237b9db394579d4",
       "version_major": 2,
       "version_minor": 0
      },
      "text/plain": [
       "  0%|          | 0/7403240 [00:00<?, ?it/s]"
      ]
     },
     "metadata": {},
     "output_type": "display_data"
    },
    {
     "name": "stdout",
     "output_type": "stream",
     "text": [
      "Subseting Training Examples\n",
      "Training Model\n",
      "[Pipeline] ....... (step 1 of 3) Processing transformer, total=   2.4s\n",
      "[Pipeline] ...... (step 2 of 3) Processing maxabs_scale, total=   0.2s\n",
      "[Pipeline] ............. (step 3 of 3) Processing e_net, total=  11.7s\n",
      "AUROC: 0.8089\n",
      "AUPR: 0.0253\n",
      "Fold 9 took: 9 minutes, 21 seconds\n",
      "\n",
      "\n",
      "\n",
      "CPU times: user 45min 44s, sys: 15min 4s, total: 1h 49s\n",
      "Wall time: 1h 33min 48s\n"
     ]
    }
   ],
   "source": [
    "%%time\n",
    "skf = StratifiedKFold(10)\n",
    "\n",
    "for i, (train, test) in enumerate(skf.split(keep_comps, is_treat_comp)):\n",
    "    \n",
    "    start = time()\n",
    "    print('Beginning Fold: {}'.format(i))\n",
    "    \n",
    "    # Segregate the training and testing compounds\n",
    "    train_comps = keep_comps[train]\n",
    "    test_comps = keep_comps[test]\n",
    "   \n",
    "    # Blind the model to treating compounds in the test set.\n",
    "    remove_edges = mg.edge_df.query('type == \"treats_CtD\" and start_id in @test_comps')\n",
    "    print('Removing {:,} Compound - TREATS - Disease edges.\\n{:,} remain for training.'.format(\n",
    "          len(remove_edges), len(mg.edge_df.query('type == \"treats_CtD\" and start_id not in @test_comps'))))\n",
    "    ## Need the edges reset to their original values before removing them\n",
    "    if i != 0:\n",
    "        mg.reset_edges()\n",
    "    mg.remove_edges(remove_edges)\n",
    "\n",
    "    (pairs, out_mp), dwpc = mg.extract_dwpc(metapaths=mp_to_extract, start_nodes=keep_comps, end_nodes=keep_dis, \n",
    "                       return_sparse=True, sparse_df=False, verbose=True, n_jobs=30)\n",
    "\n",
    "    #     (pairs, feats), dwpc = piecewise_extraction(function=mg.extract_dwpc, \n",
    "    #                            to_split='metapaths', block_size=block_size,\n",
    "    #                            axis=1,\n",
    "    #                            metapaths=mp_to_extract, \n",
    "    #                            start_nodes=list(keep_comps), \n",
    "    #                            end_nodes=list(keep_dis),\n",
    "    #                            return_sparse=True,\n",
    "    #                            sparse_df=False,\n",
    "    #                            n_jobs=30)\n",
    "\n",
    "\n",
    "    # Get the indicies for training and testing Compound-Disease Pairs\n",
    "    train_pairs = pairs.query('chemicalsubstance_id in @train_comps')\n",
    "    test_pairs = pairs.query('chemicalsubstance_id in @test_comps').copy()\n",
    "\n",
    "    train_idx = train_pairs.index.tolist()\n",
    "    test_idx = test_pairs.index.tolist()\n",
    "\n",
    "    # Split the Training and Testing\n",
    "    print('Dividing training and test sets...')\n",
    "    dwpc = dwpc.tocoo().tocsr()\n",
    "\n",
    "    X_train = dwpc[train_idx, :]\n",
    "    X_test = dwpc[test_idx, :]\n",
    "\n",
    "    \n",
    "    print('Getting Target Values')\n",
    "    y_train, y_test = get_target_values(train_pairs, test_pairs)\n",
    "    \n",
    "    print('Subseting Training Examples')\n",
    "    # For training, Remove the values with zeros across all metapaths,\n",
    "    # then take a subsample of 100x the postitives in negatives..\n",
    "    train_subset = train_pairs.reset_index(drop=True)\n",
    "    train_subset['status'] = y_train\n",
    "\n",
    "    # Get the training examples that have metapaths\n",
    "    nz_index = train_subset[X_train.getnnz(1)>0].index\n",
    "\n",
    "    # have the number of postivies to get 100x this for the negatives.\n",
    "    n_pos = train_subset['status'].sum()\n",
    "\n",
    "    # Sample the nonzero negative examples at a rate of 100x the positive samples\n",
    "    neg_index = train_subset.loc[nz_index].query('status == 0').sample(n=10*n_pos, random_state=rs+10+i).sort_index().index\n",
    "\n",
    "    # and of course take the training postivies\n",
    "    pos_index = train_subset.query('status == 1').index\n",
    "\n",
    "    # Union the two\n",
    "    final_train_index = pos_index.union(neg_index)\n",
    "    \n",
    "    \n",
    "    # Fit the model and get results\n",
    "    print('Training Model')\n",
    "    post_extraction_pipeline.fit(X_train[final_train_index, :], y_train[final_train_index])\n",
    "    y_test_proba = post_extraction_pipeline.predict_proba(X_test)[:, 1]\n",
    "    \n",
    "    # Get metrics\n",
    "    roc_auc = roc_auc_score(y_test, y_test_proba)\n",
    "    avg_prec = average_precision_score(y_test, y_test_proba)\n",
    "    print('AUROC: {:1.4f}'.format(roc_auc))\n",
    "    print('AUPR: {:1.4f}'.format(avg_prec))\n",
    "    \n",
    "    # Prep results for saving\n",
    "    test_pairs['status'] = y_test\n",
    "    test_pairs['proba'] = y_test_proba\n",
    "    \n",
    "    coef = get_model_coefs(post_extraction_pipeline[-1], X_train[final_train_index, :], \n",
    "                           mp_to_extract).sort_values('coef', ascending=False)\n",
    "    \n",
    "    # Save results and model\n",
    "    test_pairs.to_csv(out_dir.joinpath('results_fold_{}.csv'.format(i)), index=False)\n",
    "    coef.to_csv(out_dir.joinpath('coef_fold_{}.csv'.format(i)), index=False)\n",
    "    pickle.dump(post_extraction_pipeline, open(out_dir.joinpath('model_fold_{}.pkl'.format(i)), 'wb'))\n",
    "    \n",
    "    print('Fold {} took: '.format(i) + display_time(time() - start))\n",
    "    print('\\n\\n')"
   ]
  },
  {
   "cell_type": "markdown",
   "metadata": {},
   "source": [
    "## Load back in all the results and plot"
   ]
  },
  {
   "cell_type": "code",
   "execution_count": 32,
   "metadata": {},
   "outputs": [],
   "source": [
    "all_res = []\n",
    "\n",
    "for f in sorted(out_dir.iterdir()):\n",
    "    if f.stem.startswith('results_'):\n",
    "        res = pd.read_csv(f)\n",
    "        res['fold'] = int(f.stem.split('_')[-1])\n",
    "        all_res.append(res)"
   ]
  },
  {
   "cell_type": "code",
   "execution_count": 33,
   "metadata": {},
   "outputs": [],
   "source": [
    "import seaborn as sns\n",
    "import matplotlib.pyplot as plt\n",
    "\n",
    "from data_tools import plotting as pt"
   ]
  },
  {
   "cell_type": "code",
   "execution_count": 34,
   "metadata": {},
   "outputs": [
    {
     "data": {
      "text/html": [
       "<div>\n",
       "<style scoped>\n",
       "    .dataframe tbody tr th:only-of-type {\n",
       "        vertical-align: middle;\n",
       "    }\n",
       "\n",
       "    .dataframe tbody tr th {\n",
       "        vertical-align: top;\n",
       "    }\n",
       "\n",
       "    .dataframe thead th {\n",
       "        text-align: right;\n",
       "    }\n",
       "</style>\n",
       "<table border=\"1\" class=\"dataframe\">\n",
       "  <thead>\n",
       "    <tr style=\"text-align: right;\">\n",
       "      <th></th>\n",
       "      <th>chemicalsubstance_id</th>\n",
       "      <th>disease_id</th>\n",
       "      <th>status</th>\n",
       "      <th>proba</th>\n",
       "      <th>fold</th>\n",
       "    </tr>\n",
       "  </thead>\n",
       "  <tbody>\n",
       "    <tr>\n",
       "      <th>0</th>\n",
       "      <td>CHEBI:10101</td>\n",
       "      <td>DOID:0001816</td>\n",
       "      <td>0</td>\n",
       "      <td>0.044561</td>\n",
       "      <td>9</td>\n",
       "    </tr>\n",
       "    <tr>\n",
       "      <th>1</th>\n",
       "      <td>CHEBI:10101</td>\n",
       "      <td>DOID:0002116</td>\n",
       "      <td>0</td>\n",
       "      <td>0.069179</td>\n",
       "      <td>9</td>\n",
       "    </tr>\n",
       "  </tbody>\n",
       "</table>\n",
       "</div>"
      ],
      "text/plain": [
       "  chemicalsubstance_id    disease_id  status     proba  fold\n",
       "0          CHEBI:10101  DOID:0001816       0  0.044561     9\n",
       "1          CHEBI:10101  DOID:0002116       0  0.069179     9"
      ]
     },
     "execution_count": 34,
     "metadata": {},
     "output_type": "execute_result"
    }
   ],
   "source": [
    "res.head(2)"
   ]
  },
  {
   "cell_type": "code",
   "execution_count": 35,
   "metadata": {},
   "outputs": [],
   "source": [
    "plt.rcParams['axes.facecolor'] = 'white'\n",
    "plt.rcParams['figure.facecolor'] = 'white'"
   ]
  },
  {
   "cell_type": "code",
   "execution_count": 36,
   "metadata": {},
   "outputs": [
    {
     "data": {
      "image/png": "[encoded data removed]",
      "text/plain": [
       "<Figure size 576x504 with 1 Axes>"
      ]
     },
     "metadata": {},
     "output_type": "display_data"
    }
   ],
   "source": [
    "all_ys = []\n",
    "all_y_trues = []\n",
    "\n",
    "for i, res in enumerate(all_res):\n",
    "    discon_res = res['proba'].value_counts().index[0]\n",
    "    sub_res = res.query('proba != @discon_res')\n",
    "    \n",
    "    ys = sub_res['proba']\n",
    "    y_trues = sub_res['status']\n",
    "    \n",
    "    all_ys.append(ys)\n",
    "    all_y_trues.append(y_trues)\n",
    "\n",
    "    pt.graph_single_roc(y_trues, ys, 'fold {}'.format(i))\n",
    "    \n",
    "pt.graph_mean_roc(all_y_trues, all_ys, 'mean')\n",
    "pt.graph_roc_boilerplate('CV results - ROC')\n",
    "plt.legend(loc=4)\n",
    "plt.title('')\n",
    "plt.savefig('10fold_roc.pdf');"
   ]
  },
  {
   "cell_type": "code",
   "execution_count": 37,
   "metadata": {},
   "outputs": [
    {
     "data": {
      "image/png": "[encoded data removed]",
      "text/plain": [
       "<Figure size 576x504 with 1 Axes>"
      ]
     },
     "metadata": {},
     "output_type": "display_data"
    }
   ],
   "source": [
    "all_ys = []\n",
    "all_y_trues = []\n",
    "\n",
    "for i, res in enumerate(all_res):\n",
    "\n",
    "    discon_res = res['proba'].value_counts().index[0]\n",
    "    sub_res = res.query('proba != @discon_res')\n",
    "    \n",
    "    ys = sub_res['proba']\n",
    "    y_trues = sub_res['status']\n",
    "    \n",
    "    all_ys.append(ys)\n",
    "    all_y_trues.append(y_trues)\n",
    "    \n",
    "    pt.graph_single_prc(y_trues, ys, 'fold {}'.format(i))\n",
    "    \n",
    "pt.graph_mean_prc(all_y_trues, all_ys, 'mean')\n",
    "pt.graph_prc_boilerplate('CV results - Precision Recall')\n",
    "plt.title('')\n",
    "plt.legend(loc=1)\n",
    "plt.savefig('10fold_pr.pdf');"
   ]
  },
  {
   "cell_type": "code",
   "execution_count": null,
   "metadata": {},
   "outputs": [],
   "source": []
  }
 ],
 "metadata": {
  "kernelspec": {
   "display_name": "Python 3 (ipykernel)",
   "language": "python",
   "name": "python3"
  },
  "language_info": {
   "codemirror_mode": {
    "name": "ipython",
    "version": 3
   },
   "file_extension": ".py",
   "mimetype": "text/x-python",
   "name": "python",
   "nbconvert_exporter": "python",
   "pygments_lexer": "ipython3",
   "version": "3.8.5"
  }
 },
 "nbformat": 4,
 "nbformat_minor": 2
}

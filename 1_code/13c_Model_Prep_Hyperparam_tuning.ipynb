{
 "cells": [
  {
   "cell_type": "code",
   "execution_count": 1,
   "metadata": {},
   "outputs": [
    {
     "name": "stderr",
     "output_type": "stream",
     "text": [
      "/home/rogertu/projects/MechRepoNet/mrn_venv/lib/python3.8/site-packages/data_tools/df_processing.py:4: TqdmExperimentalWarning: Using `tqdm.autonotebook.tqdm` in notebook mode. Use `tqdm.tqdm` instead to force console mode (e.g. in jupyter console)\n",
      "  from tqdm.autonotebook import tqdm\n"
     ]
    }
   ],
   "source": [
    "import numpy as np\n",
    "import pandas as pd\n",
    "from copy import copy\n",
    "from pathlib import Path\n",
    "from itertools import chain\n",
    "from tqdm.notebook import tqdm\n",
    "\n",
    "import data_tools.graphs as gt\n",
    "from hetnet_ml.extractor import MatrixFormattedGraph, piecewise_extraction"
   ]
  },
  {
   "cell_type": "code",
   "execution_count": 2,
   "metadata": {},
   "outputs": [
    {
     "name": "stdout",
     "output_type": "stream",
     "text": [
      "Processing node and edge data...\n",
      "Initializing metagraph...\n",
      "Generating adjacency matrices...\n"
     ]
    },
    {
     "name": "stderr",
     "output_type": "stream",
     "text": [
      "100%|███████████████████████████████████████████████████████████████████████████████████| 68/68 [00:45<00:00,  1.50it/s]\n"
     ]
    },
    {
     "name": "stdout",
     "output_type": "stream",
     "text": [
      "\n",
      "Determining degrees for each node and metaedge\n"
     ]
    },
    {
     "name": "stderr",
     "output_type": "stream",
     "text": [
      "100%|███████████████████████████████████████████████████████████████████████████████████| 68/68 [00:25<00:00,  2.69it/s]\n"
     ]
    },
    {
     "name": "stdout",
     "output_type": "stream",
     "text": [
      "\n",
      "Weighting matrices by degree with dampening factor 0.4...\n"
     ]
    },
    {
     "name": "stderr",
     "output_type": "stream",
     "text": [
      "100%|██████████████████████████████████████████████████████████████████████████████████| 68/68 [00:00<00:00, 108.62it/s]\n"
     ]
    }
   ],
   "source": [
    "nodes = pd.read_csv('../2_pipeline/13a_Model_Prep_Holdout_Set/out/nodes.csv', dtype=str)\n",
    "edges = pd.read_csv('../2_pipeline/13a_Model_Prep_Holdout_Set/out/edges.csv', dtype=str)\n",
    "\n",
    "mg = MatrixFormattedGraph(nodes, edges, 'ChemicalSubstance', 'Disease', max_length=4, w=0.4, n_jobs=30)"
   ]
  },
  {
   "cell_type": "markdown",
   "metadata": {},
   "source": [
    "## Strange behavior\n",
    "\n",
    "For whatever reason, the imports below result in the above initizalizaiton of mg not finishing, so we've loaded mg first, then will continue the imports"
   ]
  },
  {
   "cell_type": "code",
   "execution_count": 3,
   "metadata": {},
   "outputs": [],
   "source": [
    "from scipy.sparse import issparse, csc_matrix, csr_matrix\n",
    "\n",
    "from sklearn.pipeline import Pipeline\n",
    "from sklearn.preprocessing import MaxAbsScaler\n",
    "from sklearn.model_selection import cross_validate\n",
    "from sklearn.linear_model import LogisticRegression\n",
    "from sklearn.ensemble import RandomForestClassifier\n",
    "from sklearn.base import BaseEstimator, TransformerMixin\n",
    "from sklearn.feature_selection import SelectKBest, chi2, RFE, SelectFromModel\n",
    "\n",
    "from xgboost import XGBClassifier\n",
    "\n",
    "from hyperopt import fmin, tpe, hp, STATUS_OK, Trials"
   ]
  },
  {
   "cell_type": "markdown",
   "metadata": {},
   "source": [
    "# Data Transformer\n",
    "\n",
    "We use an inverse hyperbolic sine transformation to transform the features.\n",
    "\n",
    "The transormation is thus:\n",
    "\n",
    "$$sinh^{-1} \\left( \\frac{X_{mp}}{\\sigma_{mp}} \\right)$$\n",
    "\n",
    "where $X_{mp}$ is the column in the dwpc feature matrix $X$ coreesponding to metapath $mp$ and $\\sigma_{mp}$ is the mean of the column."
   ]
  },
  {
   "cell_type": "code",
   "execution_count": 4,
   "metadata": {},
   "outputs": [],
   "source": [
    "class MeanScaledArcsinhTransformer(TransformerMixin):\n",
    "        \n",
    "    def fit(self, X, y=None):\n",
    "        if issparse(X):\n",
    "            self.initial_mean_ = X.tocoo().tocsc().mean(axis=0).A[0]\n",
    "        else:\n",
    "            self.initial_mean_ = X.mean(axis=0)\n",
    "\n",
    "        # If input was DataFrame, Converts resultant series to ndarray\n",
    "        try:\n",
    "            self.initial_mean_ = self.initial_mean_.values\n",
    "        except:\n",
    "            pass\n",
    "        \n",
    "        # If inital mean == 0, likely all values were zero\n",
    "        # this prevents issues later.\n",
    "        self.initial_mean_[np.where(self.initial_mean_ == 0.0)] = 1\n",
    "        \n",
    "        return self\n",
    "\n",
    "    def transform(self, X, y=None):\n",
    "        if issparse(X):\n",
    "            return np.arcsinh(X.tocoo().tocsc().multiply(self.initial_mean_**-1))\n",
    "        return np.arcsinh(X / self.initial_mean_)\n"
   ]
  },
  {
   "cell_type": "markdown",
   "metadata": {},
   "source": [
    "# Homegrown Feature Selector\n",
    "\n",
    "Runs 6 analysis on the traning data to select features.\n",
    "\n",
    "1. Correlation to the output\n",
    "2. Chi_squared test\n",
    "3. Recurssive Feature Elimantion on a Ridge Regressor\n",
    "4. Embedded Feature Selection from a Lasso Regressor\n",
    "5. Embedded Feature Selection from a Randomn Forest Classifier\n",
    "6. Embedded Feature Selection from a Gradient Boosting Classifier\n",
    "\n",
    "Each analysis will select `num_feats` best features. The selected features will then by chosen via a voting method with `min_selections` out of the 6 elements required to for a feature to be kept. \n",
    "\n",
    "\n",
    "We have also added an option for `always_keep`:  This allows for domain expertise to be factored into the feature selection process.  In our case, we know some metapaths are specifically mechanistic, so we want to include those wherever possible"
   ]
  },
  {
   "cell_type": "code",
   "execution_count": 5,
   "metadata": {},
   "outputs": [],
   "source": [
    "def cor_selector(X, y, feature_names, num_feats):\n",
    "    cor_list = []\n",
    "    # calculate the correlation with y for each feature\n",
    "    for i in range(X.shape[1]):\n",
    "        if issparse(X):\n",
    "            x = X[:, i].A.reshape(len(y))\n",
    "        else:\n",
    "            x = X[:, i]\n",
    "        cor = np.corrcoef(x, y)[0, 1]\n",
    "        cor_list.append(cor)\n",
    "    # replace NaN with 0\n",
    "    cor_list = [0 if np.isnan(i) else i for i in cor_list]\n",
    "    # feature name\n",
    "    cor_feature = np.array(feature_names)[np.argsort(np.abs(cor_list))[-num_feats:].tolist()].tolist()    \n",
    "    # feature selection? 0 for not select, 1 for select\n",
    "    return [True if i in cor_feature else False for i in feature_names]\n",
    "\n",
    "def chi2_selector(X, y, num_feats):\n",
    "    this_selector = SelectKBest(chi2, k=num_feats)\n",
    "    this_selector.fit(X, y)\n",
    "    return this_selector.get_support()\n",
    "\n",
    "def rfe_selector(X, y, num_feats, random_state=None):\n",
    "    this_selector = RFE(estimator=LogisticRegression(C=.1, solver='liblinear', random_state=random_state), \n",
    "                        n_features_to_select=num_feats, step=.2, verbose=5)\n",
    "    this_selector.fit(X, y)\n",
    "    return this_selector.get_support()\n",
    "\n",
    "def embeded_lr_selector(X, y, num_feats, random_state=None):\n",
    "    this_selector = SelectFromModel(LogisticRegression(penalty=\"l1\", solver='liblinear', random_state=random_state), \n",
    "                                    max_features=num_feats)\n",
    "    this_selector.fit(X, y)\n",
    "\n",
    "    return this_selector.get_support()\n",
    "\n",
    "def embeded_rf_selector(X, y, num_feats, n_jobs, random_state=None):\n",
    "    rfc = RandomForestClassifier(n_estimators=100, max_depth=50, n_jobs=n_jobs, random_state=random_state)\n",
    "    this_selector = SelectFromModel(rfc, max_features=num_feats)\n",
    "    this_selector.fit(X, y)\n",
    "    return this_selector.get_support()\n",
    "\n",
    "def embeded_xgb_selector(X, y, num_feats, n_jobs=1, random_state=None):\n",
    "    # XGBoost takes 0 as default random state\n",
    "    if random_state is None:\n",
    "        random_state = 0\n",
    "    # Paramaters optimized for speed, rather than accuracy (as we have 5 other estimators also providing votes)\n",
    "    xgbc = XGBClassifier(max_depth=5, n_estimators=200, learning_rate=.16, min_child_weight=1, colsample_bytree=.8,\n",
    "                         n_jobs=n_jobs, random_state=random_state)\n",
    "    this_selector = SelectFromModel(xgbc, max_features=num_feats)\n",
    "    this_selector.fit(X, y)\n",
    "    return this_selector.get_support()\n",
    "\n",
    "\n",
    "class FeatureSelector(BaseEstimator, TransformerMixin):\n",
    "    \n",
    "    def __init__(self, num_features=100, min_selections=4, n_jobs=1, feature_names=None, always_keep=None,\n",
    "                 random_state=None):\n",
    "        self.num_features = num_features\n",
    "        self.min_selections = min_selections\n",
    "        self.n_jobs = n_jobs\n",
    "        self.feature_names = feature_names\n",
    "        self.always_keep = always_keep\n",
    "        self.random_state = random_state\n",
    "        \n",
    "    def fit(self, X, y=None):\n",
    "                \n",
    "        X_norm = MaxAbsScaler().fit_transform(X)\n",
    "        if issparse(X):\n",
    "            if type(X) != csc_matrix:\n",
    "                X = X.tocsc()\n",
    "            X_norm = X_norm.tocsc()\n",
    "        \n",
    "        print('Running Cor')\n",
    "        cor_support = cor_selector(X, y, self.feature_names, self.num_features)\n",
    "        print('Running Chi2')\n",
    "        chi_support = chi2_selector(X_norm, y, self.num_features)\n",
    "        print('Running RFE')\n",
    "        rfe_support = rfe_selector(X_norm, y, self.num_features, self.random_state)\n",
    "        print('Running LR')\n",
    "        embeded_lr_support = embeded_lr_selector(X_norm, y, self.num_features, self.random_state)\n",
    "        print('Running RF')\n",
    "        embeded_rf_support = embeded_rf_selector(X, y, self.num_features, \n",
    "                                                 n_jobs=self.n_jobs, random_state=self.random_state)\n",
    "        print('Running XG')\n",
    "        embeded_xgb_support = embeded_xgb_selector(X, y, self.num_features, \n",
    "                                                   n_jobs=self.n_jobs, random_state=self.random_state)\n",
    "        \n",
    "        feature_selection_df = pd.DataFrame({'feature':self.feature_names, 'pearson':cor_support, 'chi_2':chi_support, \n",
    "                                             'rfe':rfe_support, 'logistics':embeded_lr_support,\n",
    "                                             'random_forest':embeded_rf_support, 'xgboost':embeded_xgb_support})  \n",
    "\n",
    "        feature_selection_df['total'] = np.sum(feature_selection_df, axis=1)\n",
    "        self.feature_selection_df_ = feature_selection_df\n",
    "        \n",
    "        keep_features = feature_selection_df.query('total >= {}'.format(self.min_selections))['feature'].tolist()\n",
    "        \n",
    "        # Keep the features that we always want (e.g. domain expertise)\n",
    "        if self.always_keep is not None:\n",
    "            keep_features.extend(self.always_keep)\n",
    "        \n",
    "        self.keep_features_ = [f for f in self.feature_names if f in keep_features]\n",
    "        \n",
    "        return self\n",
    "    \n",
    "    def transform(self, X, y=None):\n",
    "        \n",
    "        if issparse(X) and type(X) != csc_matrix:\n",
    "            X = X.tocsc()\n",
    "        return X[:, [i for i, f in enumerate(self.feature_names) if f in self.keep_features_]]"
   ]
  },
  {
   "cell_type": "code",
   "execution_count": 6,
   "metadata": {},
   "outputs": [],
   "source": [
    "def sparse_std(data, axis=1):                                                                              \n",
    "    \"\"\"take the standard deviation of a sparse matrix\"\"\"                  \n",
    "\n",
    "    def get_vec_std(vec):                                                                                       \n",
    "        return vec.A.std(ddof=1)                                                                                \n",
    "\n",
    "    stds = []        \n",
    "    \n",
    "    # ensure the correct matrix type for easy row or column subsetting\n",
    "    if axis==1 and type(data) != csc_matrix:\n",
    "        data = data.tocoo().tocsc()\n",
    "    if axis==0 and type(data) != csr_matrix:\n",
    "        data = data.tocoo().tocsr()\n",
    "    \n",
    "    # Get the std for each vector along the given axis individually\n",
    "    for i in range(data.shape[axis]):                                                                              \n",
    "        if axis==1:\n",
    "            stds.append(get_vec_std(data.getcol(i)))       \n",
    "        elif axis==0:\n",
    "            stds.append(get_vec_std(data.getrow(i)))       \n",
    "        \n",
    "    return np.array(stds)"
   ]
  },
  {
   "cell_type": "code",
   "execution_count": 7,
   "metadata": {},
   "outputs": [],
   "source": [
    "def get_model_coefs(model, X, f_names):                                                                                 \n",
    "    \"\"\"Helper Function to quickly return the model coefs and correspoding fetaure names\"\"\"                              \n",
    "                                                                                                                        \n",
    "    # Ensure we have a numpy array for the features                                                                     \n",
    "    if type(X) == pd.DataFrame:                                                                                         \n",
    "        X = X.values\n",
    "        \n",
    "                                                                                                                        \n",
    "    # Grab the coeffiencts                                                                                              \n",
    "    coef = model.coef_                                                                                                  \n",
    "    # Some models return a double dimension array, others only a single                                                 \n",
    "    if len(coef) != len(f_names):                                                                                       \n",
    "        coef = coef[0]                                                                                                  \n",
    "                                                                                                                        \n",
    "    # insert the intercept                                                                                              \n",
    "    coef = np.insert(coef, 0, model.intercept_)                                                                         \n",
    "    names = np.insert(f_names, 0, 'intercept')                                                                          \n",
    "                                                                                                                        \n",
    "    # Calculate z-score scaled coefficients based on the features                                                       \n",
    "    if issparse(X):\n",
    "        if type(X) != csc_matrix:\n",
    "            X = X.tocoo().tocsc()\n",
    "        z_intercept = coef[0] + sum(coef[1:] * X.mean(axis=0).A[0])\n",
    "        z_coef = coef[1:] * sparse_std(X, axis=1)\n",
    "        z_coef = np.insert(z_coef, 0, z_intercept)\n",
    "    else:\n",
    "        z_intercept = coef[0] + sum(coef[1:] * X.mean(axis=0))                                                              \n",
    "        z_coef = coef[1:] * X.std(axis=0)                                                                                   \n",
    "        z_coef = np.insert(z_coef, 0, z_intercept)                                                                          \n",
    "                                                                                                                        \n",
    "    # Return                                                                                                            \n",
    "    return pd.DataFrame([names, coef, z_coef]).T.rename(columns={0:'feature', 1:'coef', 2:'zcoef'})    "
   ]
  },
  {
   "cell_type": "code",
   "execution_count": 8,
   "metadata": {},
   "outputs": [],
   "source": [
    "float_size = 64 # bits\n",
    "bits_per_gb = 8589934592\n",
    "\n",
    "def print_mem_info(n_comp, n_dis, n_mps):\n",
    "    print(\"{:,} Compounds * {:,} Diseases = {:,} C-D Pairs\".format(n_comp, n_dis,\n",
    "                                                                   n_comp * n_dis))\n",
    "    print(\"{:,} C-D Pairs * {:,} Metapaths = {:,} Matrix Values\".format(n_comp * n_dis,\n",
    "                                                                    n_mps, \n",
    "                                                                    n_comp * n_dis * n_mps))\n",
    "\n",
    "    print('{:1,.1f} GB of matrix values'.format(n_comp * n_dis * n_mps * float_size / (bits_per_gb)))\n",
    "    \n",
    "    print('{:1,.3f} GB per metapath'.format(n_comp * n_dis * float_size / (bits_per_gb)))"
   ]
  },
  {
   "cell_type": "code",
   "execution_count": 9,
   "metadata": {},
   "outputs": [],
   "source": [
    "train_frac = 0.15\n",
    "rs = 20200123\n",
    "\n",
    "\n",
    "treat_comps = set(edges.query('type == \"treats_CtD\"')['start_id'])\n",
    "# Sample the negatives and subsample \n",
    "keep_comps = set(nodes.query('id not in @treat_comps and label == \"ChemicalSubstance\"')\n",
    "                      .sample(frac=train_frac*.01, random_state=rs)['id'])\n",
    "# Then subsample the positives\n",
    "keep_comps = keep_comps | set(nodes.query('id in @treat_comps')\n",
    "                                   .sample(frac=train_frac, random_state=rs+1)['id'])\n",
    "\n",
    "treat_dis = set(edges.query('type == \"treats_CtD\"')['end_id'])\n",
    "# Sample the negatives and subsample cv\n",
    "keep_dis = set(nodes.query('label == \"Disease\" and id not in @treat_dis')\n",
    "                    .sample(frac=train_frac*.01, random_state=rs+2)['id'])\n",
    "# Take the diseases Treated by these compounds\n",
    "keep_dis = keep_dis | set(edges.query('type == \"treats_CtD\" and start_id in @keep_comps')['end_id'])"
   ]
  },
  {
   "cell_type": "code",
   "execution_count": 10,
   "metadata": {},
   "outputs": [
    {
     "data": {
      "text/html": [
       "<div>\n",
       "<style scoped>\n",
       "    .dataframe tbody tr th:only-of-type {\n",
       "        vertical-align: middle;\n",
       "    }\n",
       "\n",
       "    .dataframe tbody tr th {\n",
       "        vertical-align: top;\n",
       "    }\n",
       "\n",
       "    .dataframe thead th {\n",
       "        text-align: right;\n",
       "    }\n",
       "</style>\n",
       "<table border=\"1\" class=\"dataframe\">\n",
       "  <thead>\n",
       "    <tr style=\"text-align: right;\">\n",
       "      <th></th>\n",
       "      <th>mp</th>\n",
       "      <th>pair_count</th>\n",
       "      <th>subset</th>\n",
       "      <th>frac</th>\n",
       "      <th>sim_mp</th>\n",
       "    </tr>\n",
       "  </thead>\n",
       "  <tbody>\n",
       "    <tr>\n",
       "      <th>0</th>\n",
       "      <td>CpoAawD</td>\n",
       "      <td>5854758</td>\n",
       "      <td>all_pairs</td>\n",
       "      <td>0.010287</td>\n",
       "      <td>False</td>\n",
       "    </tr>\n",
       "    <tr>\n",
       "      <th>1</th>\n",
       "      <td>CpoAsoD</td>\n",
       "      <td>0</td>\n",
       "      <td>all_pairs</td>\n",
       "      <td>0.000000</td>\n",
       "      <td>False</td>\n",
       "    </tr>\n",
       "  </tbody>\n",
       "</table>\n",
       "</div>"
      ],
      "text/plain": [
       "        mp  pair_count     subset      frac  sim_mp\n",
       "0  CpoAawD     5854758  all_pairs  0.010287   False\n",
       "1  CpoAsoD           0  all_pairs  0.000000   False"
      ]
     },
     "execution_count": 10,
     "metadata": {},
     "output_type": "execute_result"
    }
   ],
   "source": [
    "# MP counts will be the same with or without weights, so just use the original\n",
    "all_mp_counts = pd.read_csv('../2_pipeline/13b_Model_Prep_Metapath_Membership_Analysis/out/all_mp_counts.csv')\n",
    "all_mp_counts.head(2)"
   ]
  },
  {
   "cell_type": "code",
   "execution_count": 11,
   "metadata": {},
   "outputs": [],
   "source": [
    "non_sim_names = all_mp_counts.query('sim_mp == False')['mp'].unique().tolist()\n",
    "mp_qr = all_mp_counts.query('subset == \"all_pairs\" and mp in @non_sim_names and pair_count > 0')\n",
    "good_mps = mp_qr['mp'].tolist()"
   ]
  },
  {
   "cell_type": "code",
   "execution_count": 12,
   "metadata": {},
   "outputs": [
    {
     "name": "stdout",
     "output_type": "stream",
     "text": [
      "1,404 Compounds * 2,906 Diseases = 4,080,024 C-D Pairs\n",
      "4,080,024 C-D Pairs * 7,012 Metapaths = 28,609,128,288 Matrix Values\n",
      "213.2 GB of matrix values\n",
      "0.030 GB per metapath\n"
     ]
    }
   ],
   "source": [
    "print_mem_info(len(keep_comps), len(keep_dis), len(good_mps))"
   ]
  },
  {
   "cell_type": "code",
   "execution_count": 13,
   "metadata": {},
   "outputs": [
    {
     "name": "stdout",
     "output_type": "stream",
     "text": [
      "8,607 Positive training examples in subset\n"
     ]
    }
   ],
   "source": [
    "print('{:,} Positive training examples in subset'.format(len(edges.query('start_id in @keep_comps and type == \"treats_CtD\"'))))"
   ]
  },
  {
   "cell_type": "markdown",
   "metadata": {},
   "source": [
    "### Bring in the known metapaths found in DrugMechDB"
   ]
  },
  {
   "cell_type": "code",
   "execution_count": 14,
   "metadata": {},
   "outputs": [
    {
     "data": {
      "text/plain": [
       "55"
      ]
     },
     "execution_count": 14,
     "metadata": {},
     "output_type": "execute_result"
    }
   ],
   "source": [
    "mech_mps = pd.read_csv('../0_data/manual/mech_mps.txt', header=None)[0].values\n",
    "dmdb_feat = set(all_mp_counts.query('mp in @mech_mps and subset == \"all_pairs\" and pair_count > 0 and sim_mp == False')['mp'])\n",
    "\n",
    "len(dmdb_feat)"
   ]
  },
  {
   "cell_type": "markdown",
   "metadata": {},
   "source": [
    "# Prepare output location"
   ]
  },
  {
   "cell_type": "code",
   "execution_count": 15,
   "metadata": {},
   "outputs": [],
   "source": [
    "this_name = '13c_Model_Prep_Hyperparam_tuning'\n",
    "\n",
    "out_dir = Path('../2_pipeline').joinpath(this_name, 'out').resolve()\n",
    "tmp_dir = out_dir.parent.joinpath('tmp')\n",
    "\n",
    "out_dir.mkdir(parents=True, exist_ok=True)\n",
    "tmp_dir.mkdir(parents=True, exist_ok=True)"
   ]
  },
  {
   "cell_type": "markdown",
   "metadata": {},
   "source": [
    "# Extract the features one time"
   ]
  },
  {
   "cell_type": "markdown",
   "metadata": {},
   "source": [
    "Use the pair counts to sort metapaths extaction as a niave load balancer"
   ]
  },
  {
   "cell_type": "code",
   "execution_count": 16,
   "metadata": {},
   "outputs": [],
   "source": [
    "def sort_mps_for_pw_extraction(n_big_calcs, big_per_block, mp_list, frac_info):\n",
    "    \n",
    "    big_mp = frac_info.sort_values('frac', ascending=False).head(n_big_calcs)['mp'].tolist()\n",
    "    other_mp = list(set(mp_list) - set(big_mp))\n",
    "\n",
    "    block_size = len(other_mp) // (len(big_mp) // big_per_block)\n",
    "    n_blocks = ((len(big_mp) + len(other_mp)) // block_size)\n",
    "\n",
    "    out = []\n",
    "    for i in range(n_blocks):\n",
    "        for j in range(big_per_block):\n",
    "            idx = i*big_per_block + j\n",
    "            out.append(big_mp[idx])\n",
    "        out += other_mp[i*block_size:(i+1)*block_size] \n",
    "        \n",
    "    out += list(set(other_mp) - set(out))    \n",
    "    \n",
    "    return out, block_size"
   ]
  },
  {
   "cell_type": "code",
   "execution_count": 17,
   "metadata": {},
   "outputs": [],
   "source": [
    "# 30, 5 finishes < 30 min. <- OVERFLOW\n",
    "# 40, 8 finishes 18min 46s <- OVERFLOW\n",
    "to_xtract, block_size = sort_mps_for_pw_extraction(100, 5, good_mps, mp_qr)"
   ]
  },
  {
   "cell_type": "code",
   "execution_count": 18,
   "metadata": {},
   "outputs": [
    {
     "data": {
      "text/plain": [
       "(7012, 345)"
      ]
     },
     "execution_count": 18,
     "metadata": {},
     "output_type": "execute_result"
    }
   ],
   "source": [
    "len(to_xtract), block_size"
   ]
  },
  {
   "cell_type": "code",
   "execution_count": 19,
   "metadata": {},
   "outputs": [
    {
     "name": "stderr",
     "output_type": "stream",
     "text": [
      "100%|██████████████████████████████████████████████████████████████████████████████████| 21/21 [40:40<00:00, 116.23s/it]\n"
     ]
    },
    {
     "name": "stdout",
     "output_type": "stream",
     "text": [
      "CPU times: user 1min 45s, sys: 1min 32s, total: 3min 17s\n",
      "Wall time: 40min 43s\n"
     ]
    }
   ],
   "source": [
    "%%time\n",
    "## Extract the metapaths to do some prep work\n",
    "(pairs, feats), test_dwpc = piecewise_extraction(function=mg.extract_dwpc, \n",
    "                                 to_split='metapaths', block_size=block_size,\n",
    "                                 axis=1,\n",
    "                                 metapaths=to_xtract, \n",
    "                                 start_nodes=list(keep_comps), \n",
    "                                 end_nodes=list(keep_dis),\n",
    "                                 return_sparse=True,\n",
    "                                 sparse_df=False,\n",
    "                                 n_jobs=30)"
   ]
  },
  {
   "cell_type": "markdown",
   "metadata": {},
   "source": [
    "# Training Targets for feature selection¶"
   ]
  },
  {
   "cell_type": "code",
   "execution_count": 20,
   "metadata": {},
   "outputs": [
    {
     "data": {
      "text/plain": [
       "[('CHEBI:100147', 'DOID:0050400'), ('CHEBI:100147', 'DOID:13148')]"
      ]
     },
     "execution_count": 20,
     "metadata": {},
     "output_type": "execute_result"
    }
   ],
   "source": [
    "pos_tups = edges.query('type == \"treats_CtD\"')[['start_id', 'end_id']].apply(tuple, axis=1).tolist()\n",
    "pos_tups[:2]"
   ]
  },
  {
   "cell_type": "code",
   "execution_count": 21,
   "metadata": {},
   "outputs": [],
   "source": [
    "pos_tups = set(pos_tups)"
   ]
  },
  {
   "cell_type": "code",
   "execution_count": 22,
   "metadata": {},
   "outputs": [
    {
     "data": {
      "application/vnd.jupyter.widget-view+json": {
       "model_id": "7d7a10e4fee045ce8ff5b5cadae53a03",
       "version_major": 2,
       "version_minor": 0
      },
      "text/plain": [
       "  0%|          | 0/4080024 [00:00<?, ?it/s]"
      ]
     },
     "metadata": {},
     "output_type": "display_data"
    },
    {
     "name": "stdout",
     "output_type": "stream",
     "text": [
      "4080024 4080024 8607\n"
     ]
    }
   ],
   "source": [
    "y = []\n",
    "for row in tqdm(pairs.itertuples(), total=len(pairs)):\n",
    "    if set([(row.chemicalsubstance_id, row.disease_id)]) & pos_tups:\n",
    "        y.append(1)\n",
    "    else:\n",
    "        y.append(0)\n",
    "\n",
    "y = np.array(y)\n",
    "        \n",
    "print(len(pairs), len(y), sum(y))"
   ]
  },
  {
   "cell_type": "code",
   "execution_count": 23,
   "metadata": {},
   "outputs": [],
   "source": [
    "pairs['status'] = y"
   ]
  },
  {
   "cell_type": "markdown",
   "metadata": {},
   "source": [
    "# Subsample the potnetial training examples\n",
    "\n",
    "Our class is so imbalanced, to get a sizeable number of positive training examples, we end up with many orders of magnitude more negative examples.  Many of those examples will have no connections from the compound to the disease of interest, this providing a zero row in the matrix. We will not waste time training on those values, and instead focus on the ones that distinguish the positive from the negative training examples.\n",
    "\n",
    "As this is just hyperparameter tunings, to speed things up, we will also limit the positive examples to a small portion of the negative examples, 100x (2 orders of magnitude) larger than the number of postitives. "
   ]
  },
  {
   "cell_type": "code",
   "execution_count": 24,
   "metadata": {},
   "outputs": [],
   "source": [
    "# Get the rows that are Non-zero\n",
    "nz_index = pairs[test_dwpc.getnnz(1)>0].index\n",
    "\n",
    "# have the number of postivies to get 100x this for the negatives.\n",
    "n_pos = pairs['status'].sum()\n",
    "\n",
    "# Sample the nonzero negative examples at a rate of 100x the positive samples\n",
    "neg_index = pairs.loc[nz_index].query('status == 0').sample(n=100*n_pos, random_state=rs+10).sort_index().index\n",
    "\n",
    "# and of course take the training postivies\n",
    "pos_index = pairs.query('status == 1').index\n",
    "\n",
    "# Union the two\n",
    "train_index = pos_index.union(neg_index)"
   ]
  },
  {
   "cell_type": "code",
   "execution_count": 25,
   "metadata": {},
   "outputs": [],
   "source": [
    "feats = np.array(feats)\n",
    "nz_feats = feats[test_dwpc.getnnz(0)>0]\n",
    "feat_index = test_dwpc.getnnz(0)>0"
   ]
  },
  {
   "cell_type": "code",
   "execution_count": 26,
   "metadata": {},
   "outputs": [],
   "source": [
    "# Get our compounds as ndarrays for easy indexing with sklearns StratifiedKFold\n",
    "keep_comps = np.array(list(keep_comps))\n",
    "# Need to know how to properly stratify the split\n",
    "is_treat_comp = np.array([1 if c in treat_comps else 0 for c in keep_comps])"
   ]
  },
  {
   "cell_type": "markdown",
   "metadata": {},
   "source": [
    "## Select the features\n",
    "\n",
    "This is a time consuming and costly step. We will do once with the initial DWPC for parameter tuning. We will perform again at the end with the selected parameters."
   ]
  },
  {
   "cell_type": "code",
   "execution_count": 27,
   "metadata": {},
   "outputs": [
    {
     "name": "stdout",
     "output_type": "stream",
     "text": [
      "CPU times: user 25.8 s, sys: 7.12 s, total: 33 s\n",
      "Wall time: 33 s\n"
     ]
    }
   ],
   "source": [
    "%%time\n",
    "msat = MeanScaledArcsinhTransformer()\n",
    "trans_dwpc = msat.fit_transform(test_dwpc[train_index][:, feat_index])"
   ]
  },
  {
   "cell_type": "code",
   "execution_count": 28,
   "metadata": {},
   "outputs": [
    {
     "name": "stdout",
     "output_type": "stream",
     "text": [
      "CPU times: user 4.78 ms, sys: 692 µs, total: 5.48 ms\n",
      "Wall time: 21.6 ms\n"
     ]
    }
   ],
   "source": [
    "%%time\n",
    "\n",
    "if tmp_dir.joinpath('test_feats.txt').exists():\n",
    "    keep_features = pd.read_csv(tmp_dir.joinpath('test_feats.txt'))['0'].tolist()\n",
    "else:\n",
    "    fsel = FeatureSelector(num_features=500, min_selections=4, n_jobs=30, \n",
    "                           feature_names=nz_feats.tolist(), always_keep=dmdb_feat, random_state=rs+5)\n",
    "    sel_dwpc = fsel.fit_transform(trans_dwpc, y[train_index])\n",
    "    keep_features = fsel.keep_features_\n",
    "    pd.Series(keep_features).to_csv(tmp_dir.joinpath('test_feats.txt'), index=False)\n",
    "    fsel.feature_selection_df_.to_csv(tmp_dir.joinpath('test_fs_df.csv'), index=False)"
   ]
  },
  {
   "cell_type": "markdown",
   "metadata": {},
   "source": [
    "## Prep for Hyperparam optimization"
   ]
  },
  {
   "cell_type": "code",
   "execution_count": 29,
   "metadata": {},
   "outputs": [],
   "source": [
    "all_dwpc = dict()\n",
    "\n",
    "def get_dwpc(w):\n",
    "    global all_dwpc\n",
    "    \n",
    "    # only extract if not previously extracted\n",
    "    if w not in all_dwpc.keys():\n",
    "        mg.update_w(w)\n",
    "        (pairs, feats), dwpc = mg.extract_dwpc(metapaths=keep_features, \n",
    "                                 start_nodes=list(keep_comps), \n",
    "                                 end_nodes=list(keep_dis),\n",
    "                                 return_sparse=True,\n",
    "                                 sparse_df=False,\n",
    "                                 n_jobs=30)\n",
    "        # next step is split, so need sparse rows\n",
    "        dwpc = dwpc.tocoo().tocsr()\n",
    "        #all_dwpc[w] = dwpc\n",
    "        return dwpc\n",
    "    else:\n",
    "        return all_dwpc[w]"
   ]
  },
  {
   "cell_type": "code",
   "execution_count": 30,
   "metadata": {},
   "outputs": [],
   "source": [
    "def neg_log_scal(val):\n",
    "    \"\"\"Scale values logrithmicly. Larger input yields smaller result\"\"\"\n",
    "    return (1-np.log1p(val)) \n",
    "\n",
    "def pos_log_scal(val):\n",
    "    \"\"\"Scale values logrithmicly. Larger input yields larger result\"\"\"\n",
    "    return np.log1p(val)\n",
    "\n",
    "\n",
    "def auroc_mean_loss(auroc_mean, strength=2, scal_factor=.5):\n",
    "    mean_roc_shift =  (np.abs(auroc_mean - 0.5)) / scal_factor\n",
    "    baseline_roc = neg_log_scal(1)\n",
    "    return (neg_log_scal(mean_roc_shift) - baseline_roc) * strength\n",
    "\n",
    "def avg_pre_mean_loss(avg_pre_mean, strength=2.5, scal_factor=.15):\n",
    "    avg_pre_mean_scal = avg_pre_mean / scal_factor\n",
    "    baseline_prc = neg_log_scal(1)\n",
    "    return (neg_log_scal(avg_pre_mean_scal) - baseline_prc) * strength\n",
    "\n",
    "def auroc_std_loss(auroc_std, strength=2):\n",
    "    return pos_log_scal(auroc_std) * strength\n",
    "\n",
    "def avg_pre_std_loss(avg_pre_std, strength=2):\n",
    "    return pos_log_scal(avg_pre_std) * strength\n",
    "\n",
    "def sigmoid(x):\n",
    "    return 1 / (1 + np.exp(-x))\n",
    "\n",
    "def calc_loss(auroc_mean, avg_pre_mean, auroc_std, avg_pre_std):\n",
    "    mean_roc_loss = auroc_mean_loss(auroc_mean)\n",
    "    mean_pre_loss = avg_pre_mean_loss(avg_pre_mean)\n",
    "    std_roc_loss = auroc_std_loss(auroc_std)\n",
    "    std_pre_loss = avg_pre_std_loss(avg_pre_std)\n",
    "    \n",
    "    return sigmoid(mean_roc_loss + mean_pre_loss + std_roc_loss + std_pre_loss)-1\n",
    "    \n",
    "    "
   ]
  },
  {
   "cell_type": "code",
   "execution_count": 31,
   "metadata": {},
   "outputs": [],
   "source": [
    "import pickle\n",
    "from time import time\n",
    "\n",
    "def hyperopt(param_space, y, num_eval):\n",
    "\n",
    "    def objective_function(params):\n",
    "        dwpc_params = {k.split('__')[1]: v for k, v in params.items() if k.split('__')[0] == 'dwpc'}\n",
    "        enet_params = {k.split('__')[1]: v for k, v in params.items() if k.split('__')[0] == 'enet'}\n",
    "\n",
    "        this_w = dwpc_params['w']\n",
    "\n",
    "        # Set up the post feature extraction pipeline\n",
    "        post_extraction_pipeline = Pipeline(\n",
    "            [('transformer', MeanScaledArcsinhTransformer()),\n",
    "             ('maxabs_scale', MaxAbsScaler()),\n",
    "             ('e_net', LogisticRegression(penalty='elasticnet', solver='saga', max_iter=100, **enet_params,\n",
    "                                          random_state=rs+6))], verbose=True)\n",
    "\n",
    "        ## Get the dwpc information for the current pairs\n",
    "        dwpc = get_dwpc(this_w)\n",
    "        this_dwpc = dwpc[train_index]\n",
    "\n",
    "        cv = cross_validate(post_extraction_pipeline, this_dwpc, y, cv=5, \n",
    "                            scoring=['average_precision', 'roc_auc'], return_estimator=True)\n",
    "\n",
    "        # Write out scores for each run\n",
    "        with open(tmp_dir.joinpath('scores_w_{0:1.4f}_C_{1:1.5f}_l1_{2:1.4f}.txt'.format(\n",
    "                                   this_w, enet_params['C'], enet_params['l1_ratio'])), 'w') as f_out:\n",
    "\n",
    "            f_out.write(', '.join([str(s) for s in cv['test_average_precision']]))\n",
    "            f_out.write('\\n')\n",
    "            f_out.write(', '.join([str(s) for s in cv['test_roc_auc']]))\n",
    "            f_out.write('\\n')\n",
    "\n",
    "        auroc_mean = cv['test_roc_auc'].mean()\n",
    "        avg_pre_mean = cv['test_average_precision'].mean()\n",
    "        auroc_std = cv['test_roc_auc'].std()\n",
    "        avg_pre_std = cv['test_average_precision'].std()\n",
    "        \n",
    "        score = calc_loss(auroc_mean, avg_pre_mean, auroc_std, avg_pre_std)\n",
    "        \n",
    "        print('Mean AUROC: {:1.4f}'.format(auroc_mean))\n",
    "        print('Mean Avg Pre: {:1.4f}'.format(avg_pre_mean))\n",
    "        print('STD AUROC: {:1.4f}'.format(auroc_std))\n",
    "        print('STD Avg Pre: {:1.4f}'.format(avg_pre_std))\n",
    "        print('Loss: {:1.4f}'.format(score))\n",
    "        \n",
    "        return {'loss': score, 'status': STATUS_OK}\n",
    "\n",
    "    start = time()\n",
    "   \n",
    "    \n",
    "    trials = Trials()\n",
    "    best_param = fmin(objective_function, \n",
    "                      param_space, \n",
    "                      algo=tpe.suggest, \n",
    "                      max_evals=num_eval, \n",
    "                      trials=trials,\n",
    "                      rstate= np.random.RandomState(1))\n",
    "    \n",
    "    print(time() - start)\n",
    "    return trials, best_param\n",
    "    "
   ]
  },
  {
   "cell_type": "code",
   "execution_count": 32,
   "metadata": {},
   "outputs": [],
   "source": [
    "# Previous best before adding new keep_features: \n",
    "# '1l_ratio': 0.10455936193818496, 'C': 0.000556880900960339, 'w': 0.2640929485381926\n",
    "param_hyperopt = {\n",
    "    'dwpc__w': hp.uniform('w', 0.01, 1),\n",
    "    'enet__C': hp.loguniform('C', np.log(0.001), np.log(1)),\n",
    "    'enet__l1_ratio': hp.uniform('l1_ratio', .01, .99),\n",
    "}"
   ]
  },
  {
   "cell_type": "code",
   "execution_count": 33,
   "metadata": {
    "scrolled": true
   },
   "outputs": [
    {
     "name": "stdout",
     "output_type": "stream",
     "text": [
      "Changing w from 0.4 to 0.2471551211320533. Please wait...                                                               \n",
      "  0%|                                                                            | 0/50 [00:00<?, ?trial/s, best loss=?]"
     ]
    },
    {
     "name": "stderr",
     "output_type": "stream",
     "text": [
      "  0%|          | 0/68 [00:00<?, ?it/s]\n",
      "\u001b[A\n",
      "  1%|1         | 1/68 [00:00<00:11,  5.81it/s]\n",
      "\u001b[A\n",
      "  4%|4         | 3/68 [00:00<00:05, 10.96it/s]\n",
      "\u001b[A\n",
      " 35%|###5      | 24/68 [00:00<00:00, 83.85it/s]\n",
      "\u001b[A\n",
      " 51%|#####1    | 35/68 [00:00<00:00, 88.73it/s]\n",
      "\u001b[A\n",
      " 82%|########2 | 56/68 [00:00<00:00, 121.71it/s]\n",
      "\u001b[A\n",
      "100%|##########| 68/68 [00:00<00:00, 89.67it/s] \n"
     ]
    },
    {
     "name": "stdout",
     "output_type": "stream",
     "text": [
      "Preparing function arguments...                                                                                         \n",
      "Calculating DWPCs...                                                                                                    \n",
      "  0%|                                                                            | 0/50 [00:05<?, ?trial/s, best loss=?]"
     ]
    },
    {
     "name": "stderr",
     "output_type": "stream",
     "text": [
      "  0%|          | 0/139 [00:00<?, ?it/s]\n",
      "\u001b[A\n",
      "  1%|1         | 2/139 [00:00<00:11, 11.50it/s]\n",
      "\u001b[A\n",
      "  8%|7         | 11/139 [00:00<00:02, 43.83it/s]\n",
      "\u001b[A\n",
      " 12%|#2        | 17/139 [00:00<00:03, 37.72it/s]\n",
      "\u001b[A\n",
      " 16%|#5        | 22/139 [00:00<00:03, 34.00it/s]\n",
      "\u001b[A\n",
      " 19%|#9        | 27/139 [00:00<00:03, 33.27it/s]\n",
      "\u001b[A\n",
      " 22%|##2       | 31/139 [00:00<00:03, 33.18it/s]\n",
      "\u001b[A\n",
      " 27%|##6       | 37/139 [00:01<00:02, 37.39it/s]\n",
      "\u001b[A\n",
      " 29%|##9       | 41/139 [00:01<00:02, 33.81it/s]\n",
      "\u001b[A\n",
      " 37%|###6      | 51/139 [00:01<00:01, 49.28it/s]\n",
      "\u001b[A\n",
      " 41%|####1     | 57/139 [00:01<00:01, 48.09it/s]\n",
      "\u001b[A\n",
      " 47%|####6     | 65/139 [00:01<00:01, 52.47it/s]\n",
      "\u001b[A\n",
      " 51%|#####1    | 71/139 [00:01<00:01, 46.70it/s]\n",
      "\u001b[A\n",
      " 58%|#####7    | 80/139 [00:01<00:01, 55.63it/s]\n",
      "\u001b[A\n",
      " 63%|######3   | 88/139 [00:01<00:00, 58.50it/s]\n",
      "\u001b[A\n",
      " 68%|######8   | 95/139 [00:02<00:00, 59.82it/s]\n",
      "\u001b[A\n",
      " 73%|#######3  | 102/139 [00:02<00:00, 56.71it/s]\n",
      "\u001b[A\n",
      " 81%|########  | 112/139 [00:02<00:00, 64.38it/s]\n",
      "\u001b[A\n",
      " 86%|########5 | 119/139 [00:02<00:00, 60.00it/s]\n",
      "\u001b[A\n",
      " 91%|######### | 126/139 [00:03<00:00, 27.66it/s]\n",
      "\u001b[A\n",
      " 94%|#########4| 131/139 [00:06<00:01,  5.66it/s]\n",
      "\u001b[A\n",
      " 97%|#########7| 135/139 [00:11<00:01,  2.58it/s]\n",
      "\u001b[A\n",
      " 97%|#########7| 135/139 [00:24<00:01,  2.58it/s]\n",
      "\u001b[A\n",
      " 98%|#########7| 136/139 [00:53<00:09,  3.21s/it]\n",
      "\u001b[A\n",
      " 99%|#########8| 137/139 [00:55<00:06,  3.05s/it]\n",
      "\u001b[A\n",
      " 99%|#########8| 137/139 [01:14<00:06,  3.05s/it]\n",
      "\u001b[A\n",
      "100%|##########| 139/139 [02:04<00:00,  9.41s/it]\n",
      "\u001b[A\n",
      "100%|##########| 139/139 [02:04<00:00,  1.12it/s]\n"
     ]
    },
    {
     "name": "stdout",
     "output_type": "stream",
     "text": [
      "                                                                                                                        \n",
      "Reshaping Result Matrices...\n",
      "  0%|                                                                            | 0/50 [02:13<?, ?trial/s, best loss=?]"
     ]
    },
    {
     "name": "stderr",
     "output_type": "stream",
     "text": [
      "  0%|          | 0/139 [00:00<?, ?it/s]\n",
      "\u001b[A\n",
      "  1%|          | 1/139 [00:00<00:14,  9.36it/s]\n",
      "\u001b[A\n",
      "  6%|6         | 9/139 [00:00<00:02, 48.63it/s]\n",
      "\u001b[A\n",
      " 10%|#         | 14/139 [00:00<00:03, 37.54it/s]\n",
      "\u001b[A\n",
      " 14%|#4        | 20/139 [00:00<00:02, 43.69it/s]\n",
      "\u001b[A\n",
      " 19%|#8        | 26/139 [00:00<00:02, 47.52it/s]\n",
      "\u001b[A\n",
      " 22%|##2       | 31/139 [00:00<00:02, 41.56it/s]\n",
      "\u001b[A\n",
      " 26%|##5       | 36/139 [00:00<00:02, 38.82it/s]\n",
      "\u001b[A\n",
      " 30%|###       | 42/139 [00:01<00:02, 41.82it/s]\n",
      "\u001b[A\n",
      " 34%|###3      | 47/139 [00:01<00:02, 41.08it/s]\n",
      "\u001b[A\n",
      " 37%|###7      | 52/139 [00:01<00:02, 35.44it/s]\n",
      "\u001b[A\n",
      " 42%|####2     | 59/139 [00:01<00:01, 42.93it/s]\n",
      "\u001b[A\n",
      " 46%|####6     | 64/139 [00:01<00:02, 32.87it/s]\n",
      "\u001b[A\n",
      " 49%|####8     | 68/139 [00:01<00:02, 33.62it/s]\n",
      "\u001b[A\n",
      " 52%|#####1    | 72/139 [00:01<00:01, 33.59it/s]\n",
      "\u001b[A\n",
      " 58%|#####7    | 80/139 [00:02<00:01, 42.34it/s]\n",
      "\u001b[A\n",
      " 61%|######1   | 85/139 [00:02<00:01, 31.59it/s]\n",
      "\u001b[A\n",
      " 65%|######4   | 90/139 [00:02<00:01, 34.52it/s]\n",
      "\u001b[A\n",
      " 68%|######7   | 94/139 [00:02<00:01, 34.69it/s]\n",
      "\u001b[A\n",
      " 73%|#######2  | 101/139 [00:02<00:00, 42.31it/s]\n",
      "\u001b[A\n",
      " 76%|#######6  | 106/139 [00:02<00:01, 32.44it/s]\n",
      "\u001b[A\n",
      " 81%|########  | 112/139 [00:02<00:00, 37.48it/s]\n",
      "\u001b[A\n",
      " 84%|########4 | 117/139 [00:03<00:00, 35.79it/s]\n",
      "\u001b[A\n",
      " 89%|########9 | 124/139 [00:03<00:00, 41.91it/s]\n",
      "\u001b[A\n",
      " 94%|#########4| 131/139 [00:03<00:00, 47.37it/s]\n",
      "\u001b[A\n",
      " 99%|#########9| 138/139 [00:03<00:00, 52.69it/s]\n",
      "\u001b[A\n",
      "100%|##########| 139/139 [00:03<00:00, 39.92it/s]\n"
     ]
    },
    {
     "name": "stdout",
     "output_type": "stream",
     "text": [
      "Stacking columns...                                                                                                     \n",
      "[Pipeline] ....... (step 1 of 3) Processing transformer, total=   2.3s                                                  \n",
      "[Pipeline] ...... (step 2 of 3) Processing maxabs_scale, total=   1.5s                                                  \n",
      "[Pipeline] ............. (step 3 of 3) Processing e_net, total= 1.2min                                                  \n",
      "  0%|                                                                            | 0/50 [03:39<?, ?trial/s, best loss=?]"
     ]
    },
    {
     "name": "stderr",
     "output_type": "stream",
     "text": [
      "/home/rogertu/projects/MechRepoNet/mrn_venv/lib/python3.8/site-packages/sklearn/linear_model/_sag.py:328: ConvergenceWarning: The max_iter was reached which means the coef_ did not converge\n",
      "  warnings.warn(\"The max_iter was reached which means \"\n",
      "\n"
     ]
    },
    {
     "name": "stdout",
     "output_type": "stream",
     "text": [
      "[Pipeline] ....... (step 1 of 3) Processing transformer, total=   2.2s                                                  \n",
      "[Pipeline] ...... (step 2 of 3) Processing maxabs_scale, total=   1.3s                                                  \n",
      "[Pipeline] ............. (step 3 of 3) Processing e_net, total= 1.3min                                                  \n",
      "  0%|                                                                            | 0/50 [06:21<?, ?trial/s, best loss=?]"
     ]
    },
    {
     "name": "stderr",
     "output_type": "stream",
     "text": [
      "/home/rogertu/projects/MechRepoNet/mrn_venv/lib/python3.8/site-packages/sklearn/linear_model/_sag.py:328: ConvergenceWarning: The max_iter was reached which means the coef_ did not converge\n",
      "  warnings.warn(\"The max_iter was reached which means \"\n",
      "\n"
     ]
    },
    {
     "name": "stdout",
     "output_type": "stream",
     "text": [
      "[Pipeline] ....... (step 1 of 3) Processing transformer, total=   2.7s                                                  \n",
      "[Pipeline] ...... (step 2 of 3) Processing maxabs_scale, total=   1.7s                                                  \n",
      "[Pipeline] ............. (step 3 of 3) Processing e_net, total= 1.3min                                                  \n",
      "  0%|                                                                            | 0/50 [07:45<?, ?trial/s, best loss=?]"
     ]
    },
    {
     "name": "stderr",
     "output_type": "stream",
     "text": [
      "/home/rogertu/projects/MechRepoNet/mrn_venv/lib/python3.8/site-packages/sklearn/linear_model/_sag.py:328: ConvergenceWarning: The max_iter was reached which means the coef_ did not converge\n",
      "  warnings.warn(\"The max_iter was reached which means \"\n",
      "\n"
     ]
    },
    {
     "name": "stdout",
     "output_type": "stream",
     "text": [
      "[Pipeline] ....... (step 1 of 3) Processing transformer, total=   2.3s                                                  \n",
      "[Pipeline] ...... (step 2 of 3) Processing maxabs_scale, total=   1.4s                                                  \n",
      "[Pipeline] ............. (step 3 of 3) Processing e_net, total= 1.3min                                                  \n",
      "  0%|                                                                            | 0/50 [09:04<?, ?trial/s, best loss=?]"
     ]
    },
    {
     "name": "stderr",
     "output_type": "stream",
     "text": [
      "/home/rogertu/projects/MechRepoNet/mrn_venv/lib/python3.8/site-packages/sklearn/linear_model/_sag.py:328: ConvergenceWarning: The max_iter was reached which means the coef_ did not converge\n",
      "  warnings.warn(\"The max_iter was reached which means \"\n",
      "\n"
     ]
    },
    {
     "name": "stdout",
     "output_type": "stream",
     "text": [
      "Mean AUROC: 0.6866                                                                                                      \n",
      "Mean Avg Pre: 0.0779                                                                                                    \n",
      "STD AUROC: 0.0472                                                                                                       \n",
      "STD Avg Pre: 0.0266                                                                                                     \n",
      "Loss: -0.1703                                                                                                           \n",
      "Changing w from 0.2471551211320533 to 0.7056185425199153. Please wait...                                                \n",
      "  2%|▉                                             | 1/50 [09:05<7:25:18, 545.27s/trial, best loss: -0.1702717692769985]"
     ]
    },
    {
     "name": "stderr",
     "output_type": "stream",
     "text": [
      "  0%|          | 0/68 [00:00<?, ?it/s]\n",
      "\u001b[A\n",
      "  1%|1         | 1/68 [00:00<00:10,  6.25it/s]\n",
      "\u001b[A\n",
      "  4%|4         | 3/68 [00:00<00:05, 11.71it/s]\n",
      "\u001b[A\n",
      " 32%|###2      | 22/68 [00:00<00:00, 76.12it/s]\n",
      "\u001b[A\n",
      " 53%|#####2    | 36/68 [00:00<00:00, 90.67it/s]\n",
      "\u001b[A\n",
      " 82%|########2 | 56/68 [00:00<00:00, 124.10it/s]\n",
      "\u001b[A\n",
      "100%|##########| 68/68 [00:00<00:00, 86.28it/s] \n"
     ]
    },
    {
     "name": "stdout",
     "output_type": "stream",
     "text": [
      "Preparing function arguments...                                                                                         \n",
      "Calculating DWPCs...                                                                                                    \n",
      "  2%|▉                                             | 1/50 [09:10<7:25:18, 545.27s/trial, best loss: -0.1702717692769985]"
     ]
    },
    {
     "name": "stderr",
     "output_type": "stream",
     "text": [
      "  0%|          | 0/139 [00:00<?, ?it/s]\n",
      "\u001b[A\n",
      "  1%|          | 1/139 [00:00<00:13,  9.90it/s]\n",
      "\u001b[A\n",
      "  3%|2         | 4/139 [00:00<00:06, 21.09it/s]\n",
      "\u001b[A\n",
      " 10%|#         | 14/139 [00:00<00:02, 44.08it/s]\n",
      "\u001b[A\n",
      " 13%|#2        | 18/139 [00:00<00:03, 32.57it/s]\n",
      "\u001b[A\n",
      " 17%|#6        | 23/139 [00:00<00:03, 35.93it/s]\n",
      "\u001b[A\n",
      " 19%|#9        | 27/139 [00:00<00:03, 30.49it/s]\n",
      "\u001b[A\n",
      " 22%|##2       | 31/139 [00:00<00:03, 31.72it/s]\n",
      "\u001b[A\n",
      " 27%|##6       | 37/139 [00:01<00:02, 37.12it/s]\n",
      "\u001b[A\n",
      " 29%|##9       | 41/139 [00:01<00:02, 32.97it/s]\n",
      "\u001b[A\n",
      " 38%|###8      | 53/139 [00:01<00:01, 50.37it/s]\n",
      "\u001b[A\n",
      " 42%|####2     | 59/139 [00:01<00:01, 49.00it/s]\n",
      "\u001b[A\n",
      " 47%|####6     | 65/139 [00:01<00:01, 48.32it/s]\n",
      "\u001b[A\n",
      " 50%|#####     | 70/139 [00:01<00:01, 48.28it/s]\n",
      "\u001b[A\n",
      " 55%|#####5    | 77/139 [00:01<00:01, 50.38it/s]\n",
      "\u001b[A\n",
      " 61%|######1   | 85/139 [00:01<00:00, 56.95it/s]\n",
      "\u001b[A\n",
      " 66%|######6   | 92/139 [00:02<00:00, 59.17it/s]\n",
      "\u001b[A\n",
      " 72%|#######1  | 100/139 [00:02<00:00, 61.49it/s]\n",
      "\u001b[A\n",
      " 78%|#######8  | 109/139 [00:02<00:00, 69.11it/s]\n",
      "\u001b[A\n",
      " 84%|########4 | 117/139 [00:02<00:00, 60.42it/s]\n",
      "\u001b[A\n",
      " 89%|########9 | 124/139 [00:02<00:00, 56.68it/s]\n",
      "\u001b[A\n",
      " 94%|#########3| 130/139 [00:04<00:00, 10.90it/s]\n",
      "\u001b[A\n",
      " 97%|#########7| 135/139 [00:11<00:01,  2.54it/s]\n",
      "\u001b[A\n",
      " 97%|#########7| 135/139 [00:28<00:01,  2.54it/s]\n",
      "\u001b[A\n",
      " 98%|#########7| 136/139 [00:52<00:08,  2.90s/it]\n",
      "\u001b[A\n",
      " 99%|#########8| 137/139 [00:55<00:05,  2.96s/it]\n",
      "\u001b[A\n",
      " 99%|#########8| 137/139 [01:08<00:05,  2.96s/it]\n",
      "\u001b[A\n",
      "100%|##########| 139/139 [02:05<00:00,  9.01s/it]\n",
      "\u001b[A\n",
      "100%|##########| 139/139 [02:05<00:00,  1.11it/s]\n"
     ]
    },
    {
     "name": "stdout",
     "output_type": "stream",
     "text": [
      "                                                                                                                        \n",
      "Reshaping Result Matrices...\n",
      "  2%|▉                                             | 1/50 [11:19<7:25:18, 545.27s/trial, best loss: -0.1702717692769985]"
     ]
    },
    {
     "name": "stderr",
     "output_type": "stream",
     "text": [
      "  0%|          | 0/139 [00:00<?, ?it/s]\n",
      "\u001b[A\n",
      "  1%|          | 1/139 [00:00<00:14,  9.42it/s]\n",
      "\u001b[A\n",
      "  6%|6         | 9/139 [00:00<00:02, 49.18it/s]\n",
      "\u001b[A\n",
      " 10%|#         | 14/139 [00:00<00:03, 38.39it/s]\n",
      "\u001b[A\n",
      " 14%|#4        | 20/139 [00:00<00:02, 44.54it/s]\n",
      "\u001b[A\n",
      " 19%|#8        | 26/139 [00:00<00:02, 48.83it/s]\n",
      "\u001b[A\n",
      " 23%|##3       | 32/139 [00:00<00:02, 40.92it/s]\n",
      "\u001b[A\n",
      " 27%|##6       | 37/139 [00:00<00:02, 39.33it/s]\n",
      "\u001b[A\n",
      " 31%|###       | 43/139 [00:01<00:02, 43.80it/s]\n",
      "\u001b[A\n",
      " 35%|###4      | 48/139 [00:01<00:02, 36.92it/s]\n",
      "\u001b[A\n",
      " 38%|###8      | 53/139 [00:01<00:02, 38.15it/s]\n",
      "\u001b[A\n",
      " 43%|####3     | 60/139 [00:01<00:02, 39.09it/s]\n",
      "\u001b[A\n",
      " 47%|####6     | 65/139 [00:01<00:02, 36.02it/s]\n",
      "\u001b[A\n",
      " 50%|####9     | 69/139 [00:01<00:02, 32.02it/s]\n",
      "\u001b[A\n",
      " 55%|#####4    | 76/139 [00:01<00:01, 37.57it/s]\n",
      "\u001b[A\n",
      " 58%|#####8    | 81/139 [00:02<00:01, 35.82it/s]\n",
      "\u001b[A\n",
      " 61%|######1   | 85/139 [00:02<00:01, 28.74it/s]\n",
      "\u001b[A\n",
      " 65%|######4   | 90/139 [00:02<00:01, 31.85it/s]\n",
      "\u001b[A\n",
      " 68%|######7   | 94/139 [00:02<00:01, 32.35it/s]\n",
      "\u001b[A\n",
      " 73%|#######2  | 101/139 [00:02<00:00, 40.11it/s]\n",
      "\u001b[A\n",
      " 76%|#######6  | 106/139 [00:02<00:01, 30.72it/s]\n",
      "\u001b[A\n",
      " 81%|########  | 112/139 [00:03<00:00, 35.62it/s]\n",
      "\u001b[A\n",
      " 84%|########4 | 117/139 [00:03<00:00, 34.05it/s]\n",
      "\u001b[A\n",
      " 88%|########8 | 123/139 [00:03<00:00, 39.50it/s]\n",
      "\u001b[A\n",
      " 93%|#########2| 129/139 [00:03<00:00, 40.85it/s]\n",
      "\u001b[A\n",
      " 98%|#########7| 136/139 [00:03<00:00, 46.03it/s]\n",
      "\u001b[A\n",
      "100%|##########| 139/139 [00:03<00:00, 38.37it/s]\n"
     ]
    },
    {
     "name": "stdout",
     "output_type": "stream",
     "text": [
      "Stacking columns...                                                                                                     \n",
      "[Pipeline] ....... (step 1 of 3) Processing transformer, total=   2.3s                                                  \n",
      "[Pipeline] ...... (step 2 of 3) Processing maxabs_scale, total=   1.4s                                                  \n",
      "[Pipeline] ............. (step 3 of 3) Processing e_net, total=  27.5s                                                  \n",
      "[Pipeline] ....... (step 1 of 3) Processing transformer, total=   2.1s                                                  \n",
      "[Pipeline] ...... (step 2 of 3) Processing maxabs_scale, total=   1.3s                                                  \n",
      "[Pipeline] ............. (step 3 of 3) Processing e_net, total=  40.2s                                                  \n",
      "[Pipeline] ....... (step 1 of 3) Processing transformer, total=   2.5s                                                  \n",
      "[Pipeline] ...... (step 2 of 3) Processing maxabs_scale, total=   1.6s                                                  \n",
      "[Pipeline] ............. (step 3 of 3) Processing e_net, total=  19.4s                                                  \n",
      "[Pipeline] ....... (step 1 of 3) Processing transformer, total=   2.7s                                                  \n",
      "[Pipeline] ...... (step 2 of 3) Processing maxabs_scale, total=   1.7s                                                  \n",
      "[Pipeline] ............. (step 3 of 3) Processing e_net, total=  19.8s                                                  \n",
      "[Pipeline] ....... (step 1 of 3) Processing transformer, total=   2.3s                                                  \n",
      "[Pipeline] ...... (step 2 of 3) Processing maxabs_scale, total=   1.4s                                                  \n",
      "[Pipeline] ............. (step 3 of 3) Processing e_net, total=  42.3s                                                  \n",
      "Mean AUROC: 0.7059                                                                                                      \n",
      "Mean Avg Pre: 0.0839                                                                                                    \n",
      "STD AUROC: 0.0757                                                                                                       \n",
      "STD Avg Pre: 0.0333                                                                                                     \n",
      "Loss: -0.1780                                                                                                           \n",
      "Changing w from 0.7056185425199153 to 0.6867218654755485. Please wait...                                                \n",
      "  4%|█▊                                            | 2/50 [14:20<5:28:05, 410.12s/trial, best loss: -0.1779747269236719]"
     ]
    },
    {
     "name": "stderr",
     "output_type": "stream",
     "text": [
      "  0%|          | 0/68 [00:00<?, ?it/s]\n",
      "\u001b[A\n",
      "  1%|1         | 1/68 [00:00<00:10,  6.16it/s]\n",
      "\u001b[A\n",
      "  4%|4         | 3/68 [00:00<00:05, 11.61it/s]\n",
      "\u001b[A\n",
      " 34%|###3      | 23/68 [00:00<00:00, 79.52it/s]\n",
      "\u001b[A\n",
      " 54%|#####4    | 37/68 [00:00<00:00, 86.02it/s]\n",
      "\u001b[A\n",
      " 85%|########5 | 58/68 [00:00<00:00, 122.19it/s]\n",
      "\u001b[A\n",
      "100%|##########| 68/68 [00:00<00:00, 89.23it/s] \n"
     ]
    },
    {
     "name": "stdout",
     "output_type": "stream",
     "text": [
      "Preparing function arguments...                                                                                         \n",
      "Calculating DWPCs...                                                                                                    \n",
      "  4%|█▊                                            | 2/50 [14:26<5:28:05, 410.12s/trial, best loss: -0.1779747269236719]"
     ]
    },
    {
     "name": "stderr",
     "output_type": "stream",
     "text": [
      "  0%|          | 0/139 [00:00<?, ?it/s]\n",
      "\u001b[A\n",
      "  1%|          | 1/139 [00:00<00:14,  9.79it/s]\n",
      "\u001b[A\n",
      "  4%|4         | 6/139 [00:00<00:04, 31.84it/s]\n",
      "\u001b[A\n",
      "  9%|8         | 12/139 [00:00<00:02, 44.15it/s]\n",
      "\u001b[A\n",
      " 12%|#2        | 17/139 [00:00<00:03, 32.69it/s]\n",
      "\u001b[A\n",
      " 15%|#5        | 21/139 [00:00<00:03, 33.68it/s]\n",
      "\u001b[A\n",
      " 18%|#7        | 25/139 [00:00<00:03, 33.77it/s]\n",
      "\u001b[A\n",
      " 21%|##        | 29/139 [00:00<00:04, 27.40it/s]\n",
      "\u001b[A\n",
      " 27%|##6       | 37/139 [00:01<00:02, 36.55it/s]\n",
      "\u001b[A\n",
      " 29%|##9       | 41/139 [00:01<00:02, 36.12it/s]\n",
      "\u001b[A\n",
      " 35%|###4      | 48/139 [00:01<00:02, 44.30it/s]\n",
      "\u001b[A\n",
      " 40%|###9      | 55/139 [00:01<00:01, 48.30it/s]\n",
      "\u001b[A\n",
      " 44%|####3     | 61/139 [00:01<00:01, 50.54it/s]\n",
      "\u001b[A\n",
      " 50%|####9     | 69/139 [00:01<00:01, 53.28it/s]\n",
      "\u001b[A\n",
      " 54%|#####3    | 75/139 [00:01<00:01, 49.02it/s]\n",
      "\u001b[A\n",
      " 60%|#####9    | 83/139 [00:01<00:01, 54.53it/s]\n",
      "\u001b[A\n",
      " 66%|######6   | 92/139 [00:02<00:00, 57.31it/s]\n",
      "\u001b[A\n",
      " 72%|#######1  | 100/139 [00:02<00:00, 58.26it/s]\n",
      "\u001b[A\n",
      " 80%|#######9  | 111/139 [00:02<00:00, 66.23it/s]\n",
      "\u001b[A\n",
      " 85%|########4 | 118/139 [00:02<00:00, 51.86it/s]\n",
      "\u001b[A\n",
      " 89%|########9 | 124/139 [00:02<00:00, 51.54it/s]\n",
      "\u001b[A\n",
      " 94%|#########3| 130/139 [00:04<00:00,  9.15it/s]\n",
      "\u001b[A\n",
      " 96%|#########6| 134/139 [00:07<00:00,  5.25it/s]\n",
      "\u001b[A\n",
      " 96%|#########6| 134/139 [00:23<00:00,  5.25it/s]\n",
      "\u001b[A\n",
      " 98%|#########7| 136/139 [00:56<00:09,  3.17s/it]\n",
      "\u001b[A\n",
      " 99%|#########9| 138/139 [00:57<00:02,  2.79s/it]\n",
      "\u001b[A\n",
      " 99%|#########9| 138/139 [01:13<00:02,  2.79s/it]\n",
      "\u001b[A\n",
      "100%|##########| 139/139 [02:04<00:00,  9.01s/it]\n",
      "\u001b[A\n",
      "100%|##########| 139/139 [02:04<00:00,  1.11it/s]\n"
     ]
    },
    {
     "name": "stdout",
     "output_type": "stream",
     "text": [
      "                                                                                                                        \n",
      "Reshaping Result Matrices...\n",
      "  4%|█▊                                            | 2/50 [16:34<5:28:05, 410.12s/trial, best loss: -0.1779747269236719]"
     ]
    },
    {
     "name": "stderr",
     "output_type": "stream",
     "text": [
      "  0%|          | 0/139 [00:00<?, ?it/s]\n",
      "\u001b[A\n",
      "  1%|1         | 2/139 [00:00<00:08, 15.65it/s]\n",
      "\u001b[A\n",
      "  7%|7         | 10/139 [00:00<00:03, 37.99it/s]\n",
      "\u001b[A\n",
      " 12%|#2        | 17/139 [00:00<00:02, 48.90it/s]\n",
      "\u001b[A\n",
      " 17%|#6        | 23/139 [00:00<00:02, 47.25it/s]\n",
      "\u001b[A\n",
      " 20%|##        | 28/139 [00:00<00:02, 44.27it/s]\n",
      "\u001b[A\n",
      " 24%|##3       | 33/139 [00:00<00:03, 34.33it/s]\n",
      "\u001b[A\n",
      " 27%|##7       | 38/139 [00:00<00:02, 37.05it/s]\n",
      "\u001b[A\n",
      " 32%|###1      | 44/139 [00:01<00:02, 39.64it/s]\n",
      "\u001b[A\n",
      " 35%|###5      | 49/139 [00:01<00:02, 37.16it/s]\n",
      "\u001b[A\n",
      " 38%|###8      | 53/139 [00:01<00:02, 36.20it/s]\n",
      "\u001b[A\n",
      " 43%|####3     | 60/139 [00:01<00:02, 37.09it/s]\n",
      "\u001b[A\n",
      " 46%|####6     | 64/139 [00:01<00:02, 32.20it/s]\n",
      "\u001b[A\n",
      " 49%|####8     | 68/139 [00:01<00:02, 32.69it/s]\n",
      "\u001b[A\n",
      " 52%|#####1    | 72/139 [00:01<00:02, 32.44it/s]\n",
      "\u001b[A\n",
      " 57%|#####6    | 79/139 [00:02<00:01, 41.04it/s]\n",
      "\u001b[A\n",
      " 60%|######    | 84/139 [00:02<00:01, 31.28it/s]\n",
      "\u001b[A\n",
      " 63%|######3   | 88/139 [00:02<00:01, 30.80it/s]\n",
      "\u001b[A\n",
      " 66%|######6   | 92/139 [00:02<00:01, 32.39it/s]\n",
      "\u001b[A\n",
      " 69%|######9   | 96/139 [00:02<00:01, 33.56it/s]\n",
      "\u001b[A\n",
      " 73%|#######3  | 102/139 [00:02<00:01, 36.33it/s]\n",
      "\u001b[A\n",
      " 76%|#######6  | 106/139 [00:03<00:01, 30.02it/s]\n",
      "\u001b[A\n",
      " 81%|########  | 112/139 [00:03<00:00, 35.17it/s]\n",
      "\u001b[A\n",
      " 83%|########3 | 116/139 [00:03<00:00, 35.45it/s]\n",
      "\u001b[A\n",
      " 88%|########7 | 122/139 [00:03<00:00, 40.19it/s]\n",
      "\u001b[A\n",
      " 91%|#########1| 127/139 [00:03<00:00, 40.86it/s]\n",
      "\u001b[A\n",
      " 96%|#########6| 134/139 [00:03<00:00, 46.24it/s]\n",
      "\u001b[A\n",
      "100%|##########| 139/139 [00:03<00:00, 37.78it/s]\n"
     ]
    },
    {
     "name": "stdout",
     "output_type": "stream",
     "text": [
      "Stacking columns...                                                                                                     \n",
      "[Pipeline] ....... (step 1 of 3) Processing transformer, total=   2.3s                                                  \n",
      "[Pipeline] ...... (step 2 of 3) Processing maxabs_scale, total=   1.4s                                                  \n",
      "[Pipeline] ............. (step 3 of 3) Processing e_net, total=  52.1s                                                  \n",
      "  4%|█▊                                            | 2/50 [17:39<5:28:05, 410.12s/trial, best loss: -0.1779747269236719]"
     ]
    },
    {
     "name": "stderr",
     "output_type": "stream",
     "text": [
      "/home/rogertu/projects/MechRepoNet/mrn_venv/lib/python3.8/site-packages/sklearn/linear_model/_sag.py:328: ConvergenceWarning: The max_iter was reached which means the coef_ did not converge\n",
      "  warnings.warn(\"The max_iter was reached which means \"\n",
      "\n"
     ]
    },
    {
     "name": "stdout",
     "output_type": "stream",
     "text": [
      "[Pipeline] ....... (step 1 of 3) Processing transformer, total=   2.2s                                                  \n",
      "[Pipeline] ...... (step 2 of 3) Processing maxabs_scale, total=   1.3s                                                  \n",
      "[Pipeline] ............. (step 3 of 3) Processing e_net, total=  35.4s                                                  \n",
      "[Pipeline] ....... (step 1 of 3) Processing transformer, total=   2.5s                                                  \n",
      "[Pipeline] ...... (step 2 of 3) Processing maxabs_scale, total=   1.5s                                                  \n",
      "[Pipeline] ............. (step 3 of 3) Processing e_net, total=  47.3s                                                  \n",
      "[Pipeline] ....... (step 1 of 3) Processing transformer, total=   2.7s                                                  \n",
      "[Pipeline] ...... (step 2 of 3) Processing maxabs_scale, total=   1.6s                                                  \n",
      "[Pipeline] ............. (step 3 of 3) Processing e_net, total=  57.0s                                                  \n",
      "  4%|█▊                                            | 2/50 [20:13<5:28:05, 410.12s/trial, best loss: -0.1779747269236719]"
     ]
    },
    {
     "name": "stderr",
     "output_type": "stream",
     "text": [
      "/home/rogertu/projects/MechRepoNet/mrn_venv/lib/python3.8/site-packages/sklearn/linear_model/_sag.py:328: ConvergenceWarning: The max_iter was reached which means the coef_ did not converge\n",
      "  warnings.warn(\"The max_iter was reached which means \"\n",
      "\n"
     ]
    },
    {
     "name": "stdout",
     "output_type": "stream",
     "text": [
      "[Pipeline] ....... (step 1 of 3) Processing transformer, total=   2.3s                                                  \n",
      "[Pipeline] ...... (step 2 of 3) Processing maxabs_scale, total=   1.4s                                                  \n",
      "[Pipeline] ............. (step 3 of 3) Processing e_net, total=  40.2s                                                  \n",
      "Mean AUROC: 0.6330                                                                                                      \n",
      "Mean Avg Pre: 0.0607                                                                                                    \n",
      "STD AUROC: 0.0812                                                                                                       \n",
      "STD Avg Pre: 0.0342                                                                                                     \n",
      "Loss: -0.1170                                                                                                           \n",
      "Changing w from 0.6867218654755485 to 0.8320950220852148. Please wait...                                                \n",
      "  6%|██▊                                           | 3/50 [20:58<5:16:50, 404.48s/trial, best loss: -0.1779747269236719]"
     ]
    },
    {
     "name": "stderr",
     "output_type": "stream",
     "text": [
      "  0%|          | 0/68 [00:00<?, ?it/s]\n",
      "\u001b[A\n",
      "  1%|1         | 1/68 [00:00<00:10,  6.11it/s]\n",
      "\u001b[A\n",
      "  4%|4         | 3/68 [00:00<00:05, 11.44it/s]\n",
      "\u001b[A\n",
      " 29%|##9       | 20/68 [00:00<00:00, 70.98it/s]\n",
      "\u001b[A\n",
      " 56%|#####5    | 38/68 [00:00<00:00, 90.05it/s]\n",
      "\u001b[A\n",
      " 87%|########6 | 59/68 [00:00<00:00, 124.10it/s]\n",
      "\u001b[A\n",
      "100%|##########| 68/68 [00:00<00:00, 90.33it/s] \n"
     ]
    },
    {
     "name": "stdout",
     "output_type": "stream",
     "text": [
      "Preparing function arguments...                                                                                         \n",
      "Calculating DWPCs...                                                                                                    \n",
      "  6%|██▊                                           | 3/50 [21:03<5:16:50, 404.48s/trial, best loss: -0.1779747269236719]"
     ]
    },
    {
     "name": "stderr",
     "output_type": "stream",
     "text": [
      "  0%|          | 0/139 [00:00<?, ?it/s]\n",
      "\u001b[A\n",
      "  1%|          | 1/139 [00:00<00:14,  9.70it/s]\n",
      "\u001b[A\n",
      "  4%|4         | 6/139 [00:00<00:04, 31.74it/s]\n",
      "\u001b[A\n",
      "  9%|9         | 13/139 [00:00<00:03, 39.12it/s]\n",
      "\u001b[A\n",
      " 12%|#2        | 17/139 [00:00<00:03, 38.55it/s]\n",
      "\u001b[A\n",
      " 15%|#5        | 21/139 [00:00<00:03, 31.34it/s]\n",
      "\u001b[A\n",
      " 19%|#9        | 27/139 [00:00<00:03, 32.84it/s]\n",
      "\u001b[A\n",
      " 22%|##2       | 31/139 [00:00<00:03, 33.33it/s]\n",
      "\u001b[A\n",
      " 27%|##7       | 38/139 [00:01<00:02, 37.11it/s]\n",
      "\u001b[A\n",
      " 31%|###       | 43/139 [00:01<00:02, 39.70it/s]\n",
      "\u001b[A\n",
      " 37%|###7      | 52/139 [00:01<00:01, 51.70it/s]\n",
      "\u001b[A\n",
      " 42%|####1     | 58/139 [00:01<00:01, 49.37it/s]\n",
      "\u001b[A\n",
      " 48%|####8     | 67/139 [00:01<00:01, 57.80it/s]\n",
      "\u001b[A\n",
      " 53%|#####2    | 73/139 [00:01<00:01, 47.85it/s]\n",
      "\u001b[A\n",
      " 58%|#####8    | 81/139 [00:01<00:01, 53.52it/s]\n",
      "\u001b[A\n",
      " 66%|######6   | 92/139 [00:01<00:00, 60.45it/s]\n",
      "\u001b[A\n",
      " 73%|#######2  | 101/139 [00:02<00:00, 65.33it/s]\n",
      "\u001b[A\n",
      " 78%|#######7  | 108/139 [00:02<00:00, 65.21it/s]\n",
      "\u001b[A\n",
      " 83%|########2 | 115/139 [00:02<00:00, 65.17it/s]\n",
      "\u001b[A\n",
      " 88%|########7 | 122/139 [00:02<00:00, 62.96it/s]\n",
      "\u001b[A\n",
      " 93%|#########2| 129/139 [00:03<00:00, 24.45it/s]\n",
      "\u001b[A\n",
      " 96%|#########6| 134/139 [00:06<00:00,  5.44it/s]\n",
      "\u001b[A\n",
      " 96%|#########6| 134/139 [00:25<00:00,  5.44it/s]\n",
      "\u001b[A\n",
      " 98%|#########7| 136/139 [00:53<00:08,  2.83s/it]\n",
      "\u001b[A\n",
      " 99%|#########8| 137/139 [00:55<00:05,  2.79s/it]\n",
      "\u001b[A\n",
      " 99%|#########8| 137/139 [01:05<00:05,  2.79s/it]\n",
      "\u001b[A\n",
      "100%|##########| 139/139 [02:07<00:00,  8.71s/it]\n",
      "\u001b[A\n",
      "100%|##########| 139/139 [02:07<00:00,  1.09it/s]\n"
     ]
    },
    {
     "name": "stdout",
     "output_type": "stream",
     "text": [
      "                                                                                                                        \n",
      "Reshaping Result Matrices...\n",
      "  6%|██▊                                           | 3/50 [23:15<5:16:50, 404.48s/trial, best loss: -0.1779747269236719]"
     ]
    },
    {
     "name": "stderr",
     "output_type": "stream",
     "text": [
      "  0%|          | 0/139 [00:00<?, ?it/s]\n",
      "\u001b[A\n",
      "  1%|          | 1/139 [00:00<00:20,  6.62it/s]\n",
      "\u001b[A\n",
      "  6%|6         | 9/139 [00:00<00:03, 41.05it/s]\n",
      "\u001b[A\n",
      " 10%|#         | 14/139 [00:00<00:03, 35.23it/s]\n",
      "\u001b[A\n",
      " 14%|#4        | 20/139 [00:00<00:02, 41.72it/s]\n",
      "\u001b[A\n",
      " 19%|#8        | 26/139 [00:00<00:02, 46.69it/s]\n",
      "\u001b[A\n",
      " 22%|##2       | 31/139 [00:00<00:02, 40.42it/s]\n",
      "\u001b[A\n",
      " 26%|##5       | 36/139 [00:00<00:02, 37.97it/s]\n",
      "\u001b[A\n",
      " 30%|###       | 42/139 [00:01<00:02, 41.51it/s]\n",
      "\u001b[A\n",
      " 34%|###3      | 47/139 [00:01<00:02, 41.21it/s]\n",
      "\u001b[A\n",
      " 37%|###7      | 52/139 [00:01<00:02, 35.92it/s]\n",
      "\u001b[A\n",
      " 43%|####3     | 60/139 [00:01<00:02, 39.27it/s]\n",
      "\u001b[A\n",
      " 47%|####6     | 65/139 [00:01<00:02, 35.96it/s]\n",
      "\u001b[A\n",
      " 50%|####9     | 69/139 [00:01<00:02, 32.07it/s]\n",
      "\u001b[A\n",
      " 55%|#####4    | 76/139 [00:02<00:01, 37.37it/s]\n",
      "\u001b[A\n",
      " 58%|#####8    | 81/139 [00:02<00:01, 35.37it/s]\n",
      "\u001b[A\n",
      " 61%|######1   | 85/139 [00:02<00:01, 31.01it/s]\n",
      "\u001b[A\n",
      " 65%|######4   | 90/139 [00:02<00:01, 33.71it/s]\n",
      "\u001b[A\n",
      " 68%|######7   | 94/139 [00:02<00:01, 33.40it/s]\n",
      "\u001b[A\n",
      " 73%|#######2  | 101/139 [00:02<00:00, 40.67it/s]\n",
      "\u001b[A\n",
      " 76%|#######6  | 106/139 [00:02<00:01, 30.14it/s]\n",
      "\u001b[A\n",
      " 81%|########  | 112/139 [00:03<00:00, 34.77it/s]\n",
      "\u001b[A\n",
      " 83%|########3 | 116/139 [00:03<00:00, 34.84it/s]\n",
      "\u001b[A\n",
      " 88%|########7 | 122/139 [00:03<00:00, 39.07it/s]\n",
      "\u001b[A\n",
      " 91%|#########1| 127/139 [00:03<00:00, 39.97it/s]\n",
      "\u001b[A\n",
      " 96%|#########6| 134/139 [00:03<00:00, 45.15it/s]\n",
      "\u001b[A\n",
      "100%|##########| 139/139 [00:03<00:00, 38.05it/s]\n"
     ]
    },
    {
     "name": "stdout",
     "output_type": "stream",
     "text": [
      "Stacking columns...                                                                                                     \n",
      "[Pipeline] ....... (step 1 of 3) Processing transformer, total=   2.3s                                                  \n",
      "[Pipeline] ...... (step 2 of 3) Processing maxabs_scale, total=   1.4s                                                  \n",
      "[Pipeline] ............. (step 3 of 3) Processing e_net, total=  13.6s                                                  \n",
      "[Pipeline] ....... (step 1 of 3) Processing transformer, total=   2.2s                                                  \n",
      "[Pipeline] ...... (step 2 of 3) Processing maxabs_scale, total=   1.3s                                                  \n",
      "[Pipeline] ............. (step 3 of 3) Processing e_net, total=  13.5s                                                  \n",
      "[Pipeline] ....... (step 1 of 3) Processing transformer, total=   2.5s                                                  \n",
      "[Pipeline] ...... (step 2 of 3) Processing maxabs_scale, total=   1.5s                                                  \n",
      "[Pipeline] ............. (step 3 of 3) Processing e_net, total=  11.1s                                                  \n",
      "[Pipeline] ....... (step 1 of 3) Processing transformer, total=   2.7s                                                  \n",
      "[Pipeline] ...... (step 2 of 3) Processing maxabs_scale, total=   1.7s                                                  \n",
      "[Pipeline] ............. (step 3 of 3) Processing e_net, total=  12.1s                                                  \n",
      "[Pipeline] ....... (step 1 of 3) Processing transformer, total=   2.3s                                                  \n",
      "[Pipeline] ...... (step 2 of 3) Processing maxabs_scale, total=   1.4s                                                  \n",
      "[Pipeline] ............. (step 3 of 3) Processing e_net, total=  13.2s                                                  \n",
      "Mean AUROC: 0.7055                                                                                                      \n",
      "Mean Avg Pre: 0.0788                                                                                                    \n",
      "STD AUROC: 0.0546                                                                                                       \n",
      "STD Avg Pre: 0.0235                                                                                                     \n",
      "Loss: -0.1783                                                                                                           \n",
      "Changing w from 0.8320950220852148 to 0.7064056414363573. Please wait...                                                \n",
      "  8%|███▋                                          | 4/50 [24:50<4:17:55, 336.42s/trial, best loss: -0.1783300949476544]"
     ]
    },
    {
     "name": "stderr",
     "output_type": "stream",
     "text": [
      "  0%|          | 0/68 [00:00<?, ?it/s]\n",
      "\u001b[A\n",
      "  1%|1         | 1/68 [00:00<00:10,  6.19it/s]\n",
      "\u001b[A\n",
      "  4%|4         | 3/68 [00:00<00:05, 11.65it/s]\n",
      "\u001b[A\n",
      " 32%|###2      | 22/68 [00:00<00:00, 79.32it/s]\n",
      "\u001b[A\n",
      " 56%|#####5    | 38/68 [00:00<00:00, 87.23it/s]\n",
      "\u001b[A\n",
      " 85%|########5 | 58/68 [00:00<00:00, 117.41it/s]\n",
      "\u001b[A\n",
      "100%|##########| 68/68 [00:00<00:00, 87.18it/s] \n"
     ]
    },
    {
     "name": "stdout",
     "output_type": "stream",
     "text": [
      "Preparing function arguments...                                                                                         \n",
      "Calculating DWPCs...                                                                                                    \n",
      "  8%|███▋                                          | 4/50 [24:55<4:17:55, 336.42s/trial, best loss: -0.1783300949476544]"
     ]
    },
    {
     "name": "stderr",
     "output_type": "stream",
     "text": [
      "  0%|          | 0/139 [00:00<?, ?it/s]\n",
      "\u001b[A\n",
      "  1%|1         | 2/139 [00:00<00:10, 12.82it/s]\n",
      "\u001b[A\n",
      "  7%|7         | 10/139 [00:00<00:03, 42.18it/s]\n",
      "\u001b[A\n",
      " 11%|#         | 15/139 [00:00<00:02, 42.20it/s]\n",
      "\u001b[A\n",
      " 14%|#4        | 20/139 [00:00<00:03, 36.00it/s]\n",
      "\u001b[A\n",
      " 17%|#7        | 24/139 [00:00<00:03, 32.84it/s]\n",
      "\u001b[A\n",
      " 20%|##        | 28/139 [00:00<00:03, 29.18it/s]\n",
      "\u001b[A\n",
      " 25%|##5       | 35/139 [00:00<00:02, 38.27it/s]\n",
      "\u001b[A\n",
      " 29%|##8       | 40/139 [00:01<00:02, 38.29it/s]\n",
      "\u001b[A\n",
      " 32%|###2      | 45/139 [00:01<00:02, 39.03it/s]\n",
      "\u001b[A\n",
      " 37%|###7      | 52/139 [00:01<00:01, 46.58it/s]\n",
      "\u001b[A\n",
      " 41%|####1     | 57/139 [00:01<00:01, 44.27it/s]\n",
      "\u001b[A\n",
      " 45%|####4     | 62/139 [00:01<00:01, 42.92it/s]\n",
      "\u001b[A\n",
      " 51%|#####1    | 71/139 [00:01<00:01, 54.19it/s]\n",
      "\u001b[A\n",
      " 55%|#####5    | 77/139 [00:01<00:01, 52.11it/s]\n",
      "\u001b[A\n",
      " 60%|######    | 84/139 [00:01<00:00, 56.65it/s]\n",
      "\u001b[A\n",
      " 66%|######6   | 92/139 [00:02<00:00, 59.23it/s]\n",
      "\u001b[A\n",
      " 71%|#######1  | 99/139 [00:02<00:00, 61.87it/s]\n",
      "\u001b[A\n",
      " 76%|#######6  | 106/139 [00:02<00:00, 61.04it/s]\n",
      "\u001b[A\n",
      " 81%|########1 | 113/139 [00:02<00:00, 60.03it/s]\n",
      "\u001b[A\n",
      " 86%|########6 | 120/139 [00:02<00:00, 57.05it/s]\n",
      "\u001b[A\n",
      " 91%|######### | 126/139 [00:02<00:00, 30.16it/s]\n",
      "\u001b[A\n",
      " 94%|#########4| 131/139 [00:06<00:01,  5.62it/s]\n",
      "\u001b[A\n",
      " 97%|#########7| 135/139 [00:11<00:01,  2.25it/s]\n",
      "\u001b[A\n",
      " 97%|#########7| 135/139 [00:23<00:01,  2.25it/s]\n",
      "\u001b[A\n",
      " 98%|#########7| 136/139 [00:55<00:10,  3.57s/it]\n",
      "\u001b[A\n",
      " 99%|#########8| 137/139 [00:55<00:06,  3.27s/it]\n",
      "\u001b[A\n",
      " 99%|#########8| 137/139 [01:13<00:06,  3.27s/it]\n",
      "\u001b[A\n",
      "100%|##########| 139/139 [02:00<00:00,  9.32s/it]\n",
      "\u001b[A\n",
      "100%|##########| 139/139 [02:00<00:00,  1.16it/s]\n"
     ]
    },
    {
     "name": "stdout",
     "output_type": "stream",
     "text": [
      "                                                                                                                        \n",
      "Reshaping Result Matrices...\n",
      "  8%|███▋                                          | 4/50 [26:59<4:17:55, 336.42s/trial, best loss: -0.1783300949476544]"
     ]
    },
    {
     "name": "stderr",
     "output_type": "stream",
     "text": [
      "  0%|          | 0/139 [00:00<?, ?it/s]\n",
      "\u001b[A\n",
      "  1%|          | 1/139 [00:00<00:14,  9.21it/s]\n",
      "\u001b[A\n",
      "  6%|6         | 9/139 [00:00<00:02, 48.88it/s]\n",
      "\u001b[A\n",
      " 10%|#         | 14/139 [00:00<00:03, 36.49it/s]\n",
      "\u001b[A\n",
      " 14%|#4        | 20/139 [00:00<00:02, 42.56it/s]\n",
      "\u001b[A\n",
      " 19%|#8        | 26/139 [00:00<00:02, 46.49it/s]\n",
      "\u001b[A\n",
      " 22%|##2       | 31/139 [00:00<00:02, 40.18it/s]\n",
      "\u001b[A\n",
      " 26%|##5       | 36/139 [00:00<00:02, 37.60it/s]\n",
      "\u001b[A\n",
      " 30%|###       | 42/139 [00:01<00:02, 40.25it/s]\n",
      "\u001b[A\n",
      " 34%|###3      | 47/139 [00:01<00:02, 39.69it/s]\n",
      "\u001b[A\n",
      " 37%|###7      | 52/139 [00:01<00:02, 34.00it/s]\n",
      "\u001b[A\n",
      " 42%|####2     | 59/139 [00:01<00:01, 41.76it/s]\n",
      "\u001b[A\n",
      " 46%|####6     | 64/139 [00:01<00:02, 32.15it/s]\n",
      "\u001b[A\n",
      " 49%|####8     | 68/139 [00:01<00:02, 32.55it/s]\n",
      "\u001b[A\n",
      " 52%|#####1    | 72/139 [00:01<00:02, 32.46it/s]\n",
      "\u001b[A\n",
      " 57%|#####6    | 79/139 [00:02<00:01, 40.89it/s]\n",
      "\u001b[A\n",
      " 60%|######    | 84/139 [00:02<00:01, 31.51it/s]\n",
      "\u001b[A\n",
      " 63%|######3   | 88/139 [00:02<00:01, 30.91it/s]\n",
      "\u001b[A\n",
      " 66%|######6   | 92/139 [00:02<00:01, 32.28it/s]\n",
      "\u001b[A\n",
      " 69%|######9   | 96/139 [00:02<00:01, 33.44it/s]\n",
      "\u001b[A\n",
      " 73%|#######3  | 102/139 [00:02<00:01, 36.01it/s]\n",
      "\u001b[A\n",
      " 76%|#######6  | 106/139 [00:03<00:01, 29.88it/s]\n",
      "\u001b[A\n",
      " 81%|########  | 112/139 [00:03<00:00, 34.94it/s]\n",
      "\u001b[A\n",
      " 83%|########3 | 116/139 [00:03<00:00, 35.37it/s]\n",
      "\u001b[A\n",
      " 88%|########7 | 122/139 [00:03<00:00, 40.61it/s]\n",
      "\u001b[A\n",
      " 91%|#########1| 127/139 [00:03<00:00, 41.71it/s]\n",
      "\u001b[A\n",
      " 96%|#########6| 134/139 [00:03<00:00, 45.09it/s]\n",
      "\u001b[A\n",
      "100%|##########| 139/139 [00:03<00:00, 37.82it/s]\n"
     ]
    },
    {
     "name": "stdout",
     "output_type": "stream",
     "text": [
      "Stacking columns...                                                                                                     \n",
      "[Pipeline] ....... (step 1 of 3) Processing transformer, total=   2.2s                                                  \n",
      "[Pipeline] ...... (step 2 of 3) Processing maxabs_scale, total=   1.4s                                                  \n",
      "[Pipeline] ............. (step 3 of 3) Processing e_net, total=  38.6s                                                  \n",
      "[Pipeline] ....... (step 1 of 3) Processing transformer, total=   2.2s                                                  \n",
      "[Pipeline] ...... (step 2 of 3) Processing maxabs_scale, total=   1.3s                                                  \n",
      "[Pipeline] ............. (step 3 of 3) Processing e_net, total=  38.7s                                                  \n",
      "[Pipeline] ....... (step 1 of 3) Processing transformer, total=   2.5s                                                  \n",
      "[Pipeline] ...... (step 2 of 3) Processing maxabs_scale, total=   1.6s                                                  \n",
      "[Pipeline] ............. (step 3 of 3) Processing e_net, total=  51.0s                                                  \n",
      "[Pipeline] ....... (step 1 of 3) Processing transformer, total=   2.7s                                                  \n",
      "[Pipeline] ...... (step 2 of 3) Processing maxabs_scale, total=   1.7s                                                  \n",
      "[Pipeline] ............. (step 3 of 3) Processing e_net, total=  58.7s                                                  \n",
      "[Pipeline] ....... (step 1 of 3) Processing transformer, total=   2.3s                                                  \n",
      "[Pipeline] ...... (step 2 of 3) Processing maxabs_scale, total=   1.4s                                                  \n",
      "[Pipeline] ............. (step 3 of 3) Processing e_net, total=  34.6s                                                  \n",
      "Mean AUROC: 0.6498                                                                                                      \n",
      "Mean Avg Pre: 0.0679                                                                                                    \n",
      "STD AUROC: 0.0895                                                                                                       \n",
      "STD Avg Pre: 0.0374                                                                                                     \n",
      "Loss: -0.1294                                                                                                           \n",
      "Changing w from 0.7064056414363573 to 0.8789082806014205. Please wait...                                                \n",
      " 10%|████▌                                         | 5/50 [31:13<4:24:48, 353.07s/trial, best loss: -0.1783300949476544]"
     ]
    },
    {
     "name": "stderr",
     "output_type": "stream",
     "text": [
      "  0%|          | 0/68 [00:00<?, ?it/s]\n",
      "\u001b[A\n",
      "  1%|1         | 1/68 [00:00<00:11,  6.02it/s]\n",
      "\u001b[A\n",
      "  4%|4         | 3/68 [00:00<00:05, 12.01it/s]\n",
      "\u001b[A\n",
      " 24%|##3       | 16/68 [00:00<00:00, 57.61it/s]\n",
      "\u001b[A\n",
      " 56%|#####5    | 38/68 [00:00<00:00, 92.91it/s]\n",
      "\u001b[A\n",
      " 87%|########6 | 59/68 [00:00<00:00, 122.01it/s]\n",
      "\u001b[A\n",
      "100%|##########| 68/68 [00:00<00:00, 87.94it/s] \n"
     ]
    },
    {
     "name": "stdout",
     "output_type": "stream",
     "text": [
      "Preparing function arguments...                                                                                         \n",
      "Calculating DWPCs...                                                                                                    \n",
      " 10%|████▌                                         | 5/50 [31:18<4:24:48, 353.07s/trial, best loss: -0.1783300949476544]"
     ]
    },
    {
     "name": "stderr",
     "output_type": "stream",
     "text": [
      "  0%|          | 0/139 [00:00<?, ?it/s]\n",
      "\u001b[A\n",
      "  1%|          | 1/139 [00:00<00:13,  9.93it/s]\n",
      "\u001b[A\n",
      "  4%|3         | 5/139 [00:00<00:05, 26.23it/s]\n",
      "\u001b[A\n",
      "  8%|7         | 11/139 [00:00<00:03, 41.10it/s]\n",
      "\u001b[A\n",
      " 12%|#1        | 16/139 [00:00<00:03, 35.38it/s]\n",
      "\u001b[A\n",
      " 14%|#4        | 20/139 [00:00<00:03, 31.06it/s]\n",
      "\u001b[A\n",
      " 17%|#7        | 24/139 [00:00<00:03, 30.81it/s]\n",
      "\u001b[A\n",
      " 20%|##        | 28/139 [00:00<00:03, 27.97it/s]\n",
      "\u001b[A\n",
      " 26%|##5       | 36/139 [00:01<00:02, 39.40it/s]\n",
      "\u001b[A\n",
      " 29%|##9       | 41/139 [00:01<00:03, 32.29it/s]\n",
      "\u001b[A\n",
      " 37%|###7      | 52/139 [00:01<00:01, 48.79it/s]\n",
      "\u001b[A\n",
      " 42%|####1     | 58/139 [00:01<00:01, 45.36it/s]\n",
      "\u001b[A\n",
      " 47%|####7     | 66/139 [00:01<00:01, 51.06it/s]\n",
      "\u001b[A\n",
      " 52%|#####1    | 72/139 [00:01<00:01, 43.42it/s]\n",
      "\u001b[A\n",
      " 58%|#####7    | 80/139 [00:01<00:01, 50.08it/s]\n",
      "\u001b[A\n",
      " 64%|######4   | 89/139 [00:02<00:00, 55.21it/s]\n",
      "\u001b[A\n",
      " 71%|#######   | 98/139 [00:02<00:00, 57.47it/s]\n",
      "\u001b[A\n",
      " 79%|#######9  | 110/139 [00:02<00:00, 68.12it/s]\n",
      "\u001b[A\n",
      " 85%|########4 | 118/139 [00:02<00:00, 63.91it/s]\n",
      "\u001b[A\n",
      " 90%|########9 | 125/139 [00:02<00:00, 51.62it/s]\n",
      "\u001b[A\n",
      " 94%|#########4| 131/139 [00:06<00:01,  6.47it/s]\n",
      "\u001b[A\n",
      " 97%|#########7| 135/139 [00:11<00:01,  2.77it/s]\n",
      "\u001b[A\n",
      " 97%|#########7| 135/139 [00:30<00:01,  2.77it/s]\n",
      "\u001b[A\n",
      " 98%|#########7| 136/139 [00:52<00:08,  2.86s/it]\n",
      "\u001b[A\n",
      " 99%|#########8| 137/139 [00:54<00:05,  2.84s/it]\n",
      "\u001b[A\n",
      " 99%|#########8| 137/139 [01:10<00:05,  2.84s/it]\n",
      "\u001b[A\n",
      "100%|##########| 139/139 [02:05<00:00,  8.90s/it]\n",
      "\u001b[A\n",
      "100%|##########| 139/139 [02:05<00:00,  1.11it/s]\n"
     ]
    },
    {
     "name": "stdout",
     "output_type": "stream",
     "text": [
      "                                                                                                                        \n",
      "Reshaping Result Matrices...\n",
      " 10%|████▌                                         | 5/50 [33:27<4:24:48, 353.07s/trial, best loss: -0.1783300949476544]"
     ]
    },
    {
     "name": "stderr",
     "output_type": "stream",
     "text": [
      "  0%|          | 0/139 [00:00<?, ?it/s]\n",
      "\u001b[A\n",
      "  1%|          | 1/139 [00:00<00:14,  9.66it/s]\n",
      "\u001b[A\n",
      "  6%|6         | 9/139 [00:00<00:02, 50.03it/s]\n",
      "\u001b[A\n",
      " 11%|#         | 15/139 [00:00<00:02, 41.82it/s]\n",
      "\u001b[A\n",
      " 14%|#4        | 20/139 [00:00<00:02, 42.15it/s]\n",
      "\u001b[A\n",
      " 19%|#8        | 26/139 [00:00<00:02, 47.11it/s]\n",
      "\u001b[A\n",
      " 22%|##2       | 31/139 [00:00<00:02, 39.65it/s]\n",
      "\u001b[A\n",
      " 26%|##5       | 36/139 [00:00<00:02, 37.54it/s]\n",
      "\u001b[A\n",
      " 30%|###       | 42/139 [00:01<00:02, 40.73it/s]\n",
      "\u001b[A\n",
      " 34%|###3      | 47/139 [00:01<00:02, 40.17it/s]\n",
      "\u001b[A\n",
      " 37%|###7      | 52/139 [00:01<00:02, 35.32it/s]\n",
      "\u001b[A\n",
      " 42%|####2     | 59/139 [00:01<00:01, 43.14it/s]\n",
      "\u001b[A\n",
      " 46%|####6     | 64/139 [00:01<00:02, 33.08it/s]\n",
      "\u001b[A\n",
      " 49%|####8     | 68/139 [00:01<00:02, 33.67it/s]\n",
      "\u001b[A\n",
      " 52%|#####1    | 72/139 [00:01<00:01, 33.71it/s]\n",
      "\u001b[A\n",
      " 58%|#####7    | 80/139 [00:02<00:01, 42.13it/s]\n",
      "\u001b[A\n",
      " 61%|######1   | 85/139 [00:02<00:01, 30.59it/s]\n",
      "\u001b[A\n",
      " 65%|######4   | 90/139 [00:02<00:01, 33.49it/s]\n",
      "\u001b[A\n",
      " 68%|######7   | 94/139 [00:02<00:01, 33.33it/s]\n",
      "\u001b[A\n",
      " 73%|#######2  | 101/139 [00:02<00:00, 40.44it/s]\n",
      "\u001b[A\n",
      " 76%|#######6  | 106/139 [00:02<00:01, 30.28it/s]\n",
      "\u001b[A\n",
      " 81%|########  | 112/139 [00:03<00:00, 34.97it/s]\n",
      "\u001b[A\n",
      " 84%|########4 | 117/139 [00:03<00:00, 33.18it/s]\n",
      "\u001b[A\n",
      " 88%|########8 | 123/139 [00:03<00:00, 38.51it/s]\n",
      "\u001b[A\n",
      " 93%|#########2| 129/139 [00:03<00:00, 41.44it/s]\n",
      "\u001b[A\n",
      " 99%|#########8| 137/139 [00:03<00:00, 49.69it/s]\n",
      "\u001b[A\n",
      "100%|##########| 139/139 [00:03<00:00, 38.64it/s]\n"
     ]
    },
    {
     "name": "stdout",
     "output_type": "stream",
     "text": [
      "Stacking columns...                                                                                                     \n",
      "[Pipeline] ....... (step 1 of 3) Processing transformer, total=   2.3s                                                  \n",
      "[Pipeline] ...... (step 2 of 3) Processing maxabs_scale, total=   1.4s                                                  \n",
      "[Pipeline] ............. (step 3 of 3) Processing e_net, total=  40.1s                                                  \n",
      " 10%|████▌                                         | 5/50 [34:19<4:24:48, 353.07s/trial, best loss: -0.1783300949476544]"
     ]
    },
    {
     "name": "stderr",
     "output_type": "stream",
     "text": [
      "/home/rogertu/projects/MechRepoNet/mrn_venv/lib/python3.8/site-packages/sklearn/linear_model/_sag.py:328: ConvergenceWarning: The max_iter was reached which means the coef_ did not converge\n",
      "  warnings.warn(\"The max_iter was reached which means \"\n",
      "\n"
     ]
    },
    {
     "name": "stdout",
     "output_type": "stream",
     "text": [
      "[Pipeline] ....... (step 1 of 3) Processing transformer, total=   2.2s                                                  \n",
      "[Pipeline] ...... (step 2 of 3) Processing maxabs_scale, total=   1.3s                                                  \n",
      "[Pipeline] ............. (step 3 of 3) Processing e_net, total=  33.0s                                                  \n",
      "[Pipeline] ....... (step 1 of 3) Processing transformer, total=   2.5s                                                  \n",
      "[Pipeline] ...... (step 2 of 3) Processing maxabs_scale, total=   1.6s                                                  \n",
      "[Pipeline] ............. (step 3 of 3) Processing e_net, total=  40.2s                                                  \n",
      " 10%|████▌                                         | 5/50 [35:42<4:24:48, 353.07s/trial, best loss: -0.1783300949476544]"
     ]
    },
    {
     "name": "stderr",
     "output_type": "stream",
     "text": [
      "/home/rogertu/projects/MechRepoNet/mrn_venv/lib/python3.8/site-packages/sklearn/linear_model/_sag.py:328: ConvergenceWarning: The max_iter was reached which means the coef_ did not converge\n",
      "  warnings.warn(\"The max_iter was reached which means \"\n",
      "\n"
     ]
    },
    {
     "name": "stdout",
     "output_type": "stream",
     "text": [
      "[Pipeline] ....... (step 1 of 3) Processing transformer, total=   2.7s                                                  \n",
      "[Pipeline] ...... (step 2 of 3) Processing maxabs_scale, total=   1.7s                                                  \n",
      "[Pipeline] ............. (step 3 of 3) Processing e_net, total=  42.8s                                                  \n",
      " 10%|████▌                                         | 5/50 [36:30<4:24:48, 353.07s/trial, best loss: -0.1783300949476544]"
     ]
    },
    {
     "name": "stderr",
     "output_type": "stream",
     "text": [
      "/home/rogertu/projects/MechRepoNet/mrn_venv/lib/python3.8/site-packages/sklearn/linear_model/_sag.py:328: ConvergenceWarning: The max_iter was reached which means the coef_ did not converge\n",
      "  warnings.warn(\"The max_iter was reached which means \"\n",
      "\n"
     ]
    },
    {
     "name": "stdout",
     "output_type": "stream",
     "text": [
      "[Pipeline] ....... (step 1 of 3) Processing transformer, total=   2.3s                                                  \n",
      "[Pipeline] ...... (step 2 of 3) Processing maxabs_scale, total=   1.4s                                                  \n",
      "[Pipeline] ............. (step 3 of 3) Processing e_net, total=  38.1s                                                  \n",
      "Mean AUROC: 0.6035                                                                                                      \n",
      "Mean Avg Pre: 0.0363                                                                                                    \n",
      "STD AUROC: 0.0583                                                                                                       \n",
      "STD Avg Pre: 0.0070                                                                                                     \n",
      "Loss: -0.0888                                                                                                           \n",
      "Changing w from 0.8789082806014205 to 0.9678901384640581. Please wait...                                                \n",
      " 12%|█████▌                                        | 6/50 [37:13<4:20:43, 355.53s/trial, best loss: -0.1783300949476544]"
     ]
    },
    {
     "name": "stderr",
     "output_type": "stream",
     "text": [
      "  0%|          | 0/68 [00:00<?, ?it/s]\n",
      "\u001b[A\n",
      "  1%|1         | 1/68 [00:00<00:10,  6.27it/s]\n",
      "\u001b[A\n",
      "  4%|4         | 3/68 [00:00<00:05, 12.48it/s]\n",
      "\u001b[A\n",
      " 24%|##3       | 16/68 [00:00<00:00, 57.24it/s]\n",
      "\u001b[A\n",
      " 54%|#####4    | 37/68 [00:00<00:00, 91.52it/s]\n",
      "\u001b[A\n",
      " 87%|########6 | 59/68 [00:00<00:00, 123.99it/s]\n",
      "\u001b[A\n",
      "100%|##########| 68/68 [00:00<00:00, 89.01it/s] \n"
     ]
    },
    {
     "name": "stdout",
     "output_type": "stream",
     "text": [
      "Preparing function arguments...                                                                                         \n",
      "Calculating DWPCs...                                                                                                    \n",
      " 12%|█████▌                                        | 6/50 [37:18<4:20:43, 355.53s/trial, best loss: -0.1783300949476544]"
     ]
    },
    {
     "name": "stderr",
     "output_type": "stream",
     "text": [
      "  0%|          | 0/139 [00:00<?, ?it/s]\n",
      "\u001b[A\n",
      "  1%|          | 1/139 [00:00<00:14,  9.67it/s]\n",
      "\u001b[A\n",
      "  4%|4         | 6/139 [00:00<00:04, 32.22it/s]\n",
      "\u001b[A\n",
      "  9%|8         | 12/139 [00:00<00:03, 40.26it/s]\n",
      "\u001b[A\n",
      " 12%|#1        | 16/139 [00:00<00:03, 40.00it/s]\n",
      "\u001b[A\n",
      " 14%|#4        | 20/139 [00:00<00:03, 30.84it/s]\n",
      "\u001b[A\n",
      " 19%|#8        | 26/139 [00:00<00:03, 34.80it/s]\n",
      "\u001b[A\n",
      " 22%|##1       | 30/139 [00:00<00:03, 28.63it/s]\n",
      "\u001b[A\n",
      " 27%|##6       | 37/139 [00:01<00:02, 36.88it/s]\n",
      "\u001b[A\n",
      " 30%|###       | 42/139 [00:01<00:02, 35.27it/s]\n",
      "\u001b[A\n",
      " 37%|###7      | 52/139 [00:01<00:01, 48.89it/s]\n",
      "\u001b[A\n",
      " 42%|####1     | 58/139 [00:01<00:01, 46.91it/s]\n",
      "\u001b[A\n",
      " 47%|####6     | 65/139 [00:01<00:01, 52.18it/s]\n",
      "\u001b[A\n",
      " 51%|#####1    | 71/139 [00:01<00:01, 46.27it/s]\n",
      "\u001b[A\n",
      " 58%|#####8    | 81/139 [00:01<00:01, 57.97it/s]\n",
      "\u001b[A\n",
      " 63%|######3   | 88/139 [00:01<00:00, 59.13it/s]\n",
      "\u001b[A\n",
      " 68%|######8   | 95/139 [00:02<00:00, 60.14it/s]\n",
      "\u001b[A\n",
      " 73%|#######3  | 102/139 [00:02<00:00, 60.24it/s]\n",
      "\u001b[A\n",
      " 81%|########1 | 113/139 [00:02<00:00, 69.68it/s]\n",
      "\u001b[A\n",
      " 87%|########7 | 121/139 [00:02<00:00, 69.81it/s]\n",
      "\u001b[A\n",
      " 93%|#########2| 129/139 [00:03<00:00, 24.75it/s]\n",
      "\u001b[A\n",
      " 97%|#########7| 135/139 [00:11<00:01,  2.84it/s]\n",
      "\u001b[A\n",
      " 97%|#########7| 135/139 [00:30<00:01,  2.84it/s]\n",
      "\u001b[A\n",
      " 98%|#########7| 136/139 [00:53<00:07,  2.62s/it]\n",
      "\u001b[A\n",
      " 99%|#########8| 137/139 [00:56<00:05,  2.63s/it]\n",
      "\u001b[A\n",
      " 99%|#########8| 137/139 [01:10<00:05,  2.63s/it]\n",
      "\u001b[A\n",
      "100%|##########| 139/139 [02:04<00:00,  7.95s/it]\n",
      "\u001b[A\n",
      "100%|##########| 139/139 [02:04<00:00,  1.12it/s]\n"
     ]
    },
    {
     "name": "stdout",
     "output_type": "stream",
     "text": [
      "                                                                                                                        \n",
      "Reshaping Result Matrices...\n",
      " 12%|█████▌                                        | 6/50 [39:26<4:20:43, 355.53s/trial, best loss: -0.1783300949476544]"
     ]
    },
    {
     "name": "stderr",
     "output_type": "stream",
     "text": [
      "  0%|          | 0/139 [00:00<?, ?it/s]\n",
      "\u001b[A\n",
      "  1%|          | 1/139 [00:00<00:19,  7.19it/s]\n",
      "\u001b[A\n",
      "  6%|6         | 9/139 [00:00<00:03, 42.46it/s]\n",
      "\u001b[A\n",
      " 10%|#         | 14/139 [00:00<00:03, 34.50it/s]\n",
      "\u001b[A\n",
      " 14%|#4        | 20/139 [00:00<00:02, 41.05it/s]\n",
      "\u001b[A\n",
      " 19%|#8        | 26/139 [00:00<00:02, 45.83it/s]\n",
      "\u001b[A\n",
      " 22%|##2       | 31/139 [00:00<00:02, 40.31it/s]\n",
      "\u001b[A\n",
      " 26%|##5       | 36/139 [00:00<00:02, 37.94it/s]\n",
      "\u001b[A\n",
      " 30%|###       | 42/139 [00:01<00:02, 41.43it/s]\n",
      "\u001b[A\n",
      " 34%|###3      | 47/139 [00:01<00:02, 40.92it/s]\n",
      "\u001b[A\n",
      " 37%|###7      | 52/139 [00:01<00:02, 35.08it/s]\n",
      "\u001b[A\n",
      " 42%|####2     | 59/139 [00:01<00:01, 42.93it/s]\n",
      "\u001b[A\n",
      " 46%|####6     | 64/139 [00:01<00:02, 32.31it/s]\n",
      "\u001b[A\n",
      " 49%|####8     | 68/139 [00:01<00:02, 32.87it/s]\n",
      "\u001b[A\n",
      " 52%|#####1    | 72/139 [00:01<00:02, 33.00it/s]\n",
      "\u001b[A\n",
      " 58%|#####7    | 80/139 [00:02<00:01, 41.50it/s]\n",
      "\u001b[A\n",
      " 61%|######1   | 85/139 [00:02<00:01, 30.72it/s]\n",
      "\u001b[A\n",
      " 65%|######4   | 90/139 [00:02<00:01, 33.49it/s]\n",
      "\u001b[A\n",
      " 68%|######7   | 94/139 [00:02<00:01, 33.61it/s]\n",
      "\u001b[A\n",
      " 73%|#######2  | 101/139 [00:02<00:00, 40.43it/s]\n",
      "\u001b[A\n",
      " 76%|#######6  | 106/139 [00:02<00:01, 30.79it/s]\n",
      "\u001b[A\n",
      " 81%|########  | 112/139 [00:03<00:00, 35.44it/s]\n",
      "\u001b[A\n",
      " 84%|########4 | 117/139 [00:03<00:00, 33.90it/s]\n",
      "\u001b[A\n",
      " 88%|########8 | 123/139 [00:03<00:00, 39.19it/s]\n",
      "\u001b[A\n",
      " 93%|#########2| 129/139 [00:03<00:00, 42.34it/s]\n",
      "\u001b[A\n",
      " 99%|#########8| 137/139 [00:03<00:00, 50.73it/s]\n",
      "\u001b[A\n",
      "100%|##########| 139/139 [00:03<00:00, 38.40it/s]\n"
     ]
    },
    {
     "name": "stdout",
     "output_type": "stream",
     "text": [
      "Stacking columns...                                                                                                     \n",
      "[Pipeline] ....... (step 1 of 3) Processing transformer, total=   2.3s                                                  \n",
      "[Pipeline] ...... (step 2 of 3) Processing maxabs_scale, total=   1.4s                                                  \n",
      "[Pipeline] ............. (step 3 of 3) Processing e_net, total=  10.1s                                                  \n",
      "[Pipeline] ....... (step 1 of 3) Processing transformer, total=   2.1s                                                  \n",
      "[Pipeline] ...... (step 2 of 3) Processing maxabs_scale, total=   1.3s                                                  \n",
      "[Pipeline] ............. (step 3 of 3) Processing e_net, total=   9.4s                                                  \n",
      "[Pipeline] ....... (step 1 of 3) Processing transformer, total=   2.5s                                                  \n",
      "[Pipeline] ...... (step 2 of 3) Processing maxabs_scale, total=   1.6s                                                  \n",
      "[Pipeline] ............. (step 3 of 3) Processing e_net, total=   9.8s                                                  \n",
      "[Pipeline] ....... (step 1 of 3) Processing transformer, total=   2.7s                                                  \n",
      "[Pipeline] ...... (step 2 of 3) Processing maxabs_scale, total=   1.7s                                                  \n",
      "[Pipeline] ............. (step 3 of 3) Processing e_net, total=  10.9s                                                  \n",
      "[Pipeline] ....... (step 1 of 3) Processing transformer, total=   2.3s                                                  \n",
      "[Pipeline] ...... (step 2 of 3) Processing maxabs_scale, total=   1.4s                                                  \n",
      "[Pipeline] ............. (step 3 of 3) Processing e_net, total=  11.0s                                                  \n",
      "Mean AUROC: 0.7009                                                                                                      \n",
      "Mean Avg Pre: 0.0808                                                                                                    \n",
      "STD AUROC: 0.0675                                                                                                       \n",
      "STD Avg Pre: 0.0232                                                                                                     \n",
      "Loss: -0.1762                                                                                                           \n",
      "Changing w from 0.9678901384640581 to 0.6532207489216617. Please wait...                                                \n",
      " 14%|██████▍                                       | 7/50 [40:49<3:42:06, 309.92s/trial, best loss: -0.1783300949476544]"
     ]
    },
    {
     "name": "stderr",
     "output_type": "stream",
     "text": [
      "  0%|          | 0/68 [00:00<?, ?it/s]\n",
      "\u001b[A\n",
      "  1%|1         | 1/68 [00:00<00:10,  6.29it/s]\n",
      "\u001b[A\n",
      "  4%|4         | 3/68 [00:00<00:05, 11.88it/s]\n",
      "\u001b[A\n",
      " 26%|##6       | 18/68 [00:00<00:00, 64.86it/s]\n",
      "\u001b[A\n",
      " 54%|#####4    | 37/68 [00:00<00:00, 87.36it/s]\n",
      "\u001b[A\n",
      " 85%|########5 | 58/68 [00:00<00:00, 122.61it/s]\n",
      "\u001b[A\n",
      "100%|##########| 68/68 [00:00<00:00, 88.23it/s] \n"
     ]
    },
    {
     "name": "stdout",
     "output_type": "stream",
     "text": [
      "Preparing function arguments...                                                                                         \n",
      "Calculating DWPCs...                                                                                                    \n",
      " 14%|██████▍                                       | 7/50 [40:54<3:42:06, 309.92s/trial, best loss: -0.1783300949476544]"
     ]
    },
    {
     "name": "stderr",
     "output_type": "stream",
     "text": [
      "  0%|          | 0/139 [00:00<?, ?it/s]\n",
      "\u001b[A\n",
      "  1%|          | 1/139 [00:00<00:14,  9.66it/s]\n",
      "\u001b[A\n",
      "  4%|4         | 6/139 [00:00<00:04, 31.77it/s]\n",
      "\u001b[A\n",
      "  9%|8         | 12/139 [00:00<00:02, 43.72it/s]\n",
      "\u001b[A\n",
      " 12%|#2        | 17/139 [00:00<00:03, 36.99it/s]\n",
      "\u001b[A\n",
      " 15%|#5        | 21/139 [00:00<00:03, 36.95it/s]\n",
      "\u001b[A\n",
      " 18%|#7        | 25/139 [00:00<00:03, 37.66it/s]\n",
      "\u001b[A\n",
      " 21%|##        | 29/139 [00:00<00:03, 28.60it/s]\n",
      "\u001b[A\n",
      " 27%|##6       | 37/139 [00:01<00:02, 38.65it/s]\n",
      "\u001b[A\n",
      " 30%|###       | 42/139 [00:01<00:02, 34.57it/s]\n",
      "\u001b[A\n",
      " 38%|###8      | 53/139 [00:01<00:01, 48.36it/s]\n",
      "\u001b[A\n",
      " 42%|####2     | 59/139 [00:01<00:01, 48.57it/s]\n",
      "\u001b[A\n",
      " 47%|####7     | 66/139 [00:01<00:01, 52.47it/s]\n",
      "\u001b[A\n",
      " 52%|#####1    | 72/139 [00:01<00:01, 49.54it/s]\n",
      "\u001b[A\n",
      " 56%|#####6    | 78/139 [00:01<00:01, 52.03it/s]\n",
      "\u001b[A\n",
      " 63%|######2   | 87/139 [00:01<00:00, 61.55it/s]\n",
      "\u001b[A\n",
      " 68%|######7   | 94/139 [00:02<00:00, 59.13it/s]\n",
      "\u001b[A\n",
      " 74%|#######4  | 103/139 [00:02<00:00, 58.97it/s]\n",
      "\u001b[A\n",
      " 81%|########1 | 113/139 [00:02<00:00, 68.01it/s]\n",
      "\u001b[A\n",
      " 87%|########7 | 121/139 [00:02<00:00, 60.25it/s]\n",
      "\u001b[A\n",
      " 92%|#########2| 128/139 [00:03<00:00, 27.09it/s]\n",
      "\u001b[A\n",
      " 96%|#########5| 133/139 [00:06<00:01,  5.54it/s]\n",
      "\u001b[A\n",
      " 96%|#########5| 133/139 [00:24<00:01,  5.54it/s]\n",
      "\u001b[A\n",
      " 98%|#########7| 136/139 [00:54<00:07,  2.60s/it]\n",
      "\u001b[A\n",
      " 99%|#########8| 137/139 [00:57<00:05,  2.64s/it]\n",
      "\u001b[A\n",
      " 99%|#########8| 137/139 [01:14<00:05,  2.64s/it]\n",
      "\u001b[A\n",
      "100%|##########| 139/139 [02:02<00:00,  7.59s/it]\n",
      "\u001b[A\n",
      "100%|##########| 139/139 [02:02<00:00,  1.13it/s]\n"
     ]
    },
    {
     "name": "stdout",
     "output_type": "stream",
     "text": [
      "                                                                                                                        \n",
      "Reshaping Result Matrices...\n",
      " 14%|██████▍                                       | 7/50 [43:01<3:42:06, 309.92s/trial, best loss: -0.1783300949476544]"
     ]
    },
    {
     "name": "stderr",
     "output_type": "stream",
     "text": [
      "  0%|          | 0/139 [00:00<?, ?it/s]\n",
      "\u001b[A\n",
      "  1%|          | 1/139 [00:00<00:15,  9.13it/s]\n",
      "\u001b[A\n",
      "  7%|7         | 10/139 [00:00<00:03, 36.59it/s]\n",
      "\u001b[A\n",
      " 12%|#2        | 17/139 [00:00<00:02, 47.85it/s]\n",
      "\u001b[A\n",
      " 16%|#5        | 22/139 [00:00<00:02, 44.78it/s]\n",
      "\u001b[A\n",
      " 20%|##        | 28/139 [00:00<00:02, 45.08it/s]\n",
      "\u001b[A\n",
      " 24%|##3       | 33/139 [00:00<00:03, 35.10it/s]\n",
      "\u001b[A\n",
      " 27%|##7       | 38/139 [00:00<00:02, 38.35it/s]\n",
      "\u001b[A\n",
      " 32%|###1      | 44/139 [00:01<00:02, 41.26it/s]\n",
      "\u001b[A\n",
      " 35%|###5      | 49/139 [00:01<00:02, 38.54it/s]\n",
      "\u001b[A\n",
      " 39%|###8      | 54/139 [00:01<00:02, 37.16it/s]\n",
      "\u001b[A\n",
      " 43%|####3     | 60/139 [00:01<00:02, 37.81it/s]\n",
      "\u001b[A\n",
      " 46%|####6     | 64/139 [00:01<00:02, 32.58it/s]\n",
      "\u001b[A\n",
      " 49%|####8     | 68/139 [00:01<00:02, 33.01it/s]\n",
      "\u001b[A\n",
      " 52%|#####1    | 72/139 [00:01<00:02, 32.67it/s]\n",
      "\u001b[A\n",
      " 57%|#####6    | 79/139 [00:02<00:01, 41.46it/s]\n",
      "\u001b[A\n",
      " 60%|######    | 84/139 [00:02<00:01, 31.43it/s]\n",
      "\u001b[A\n",
      " 63%|######3   | 88/139 [00:02<00:01, 31.16it/s]\n",
      "\u001b[A\n",
      " 66%|######6   | 92/139 [00:02<00:01, 32.75it/s]\n",
      "\u001b[A\n",
      " 69%|######9   | 96/139 [00:02<00:01, 34.05it/s]\n",
      "\u001b[A\n",
      " 73%|#######3  | 102/139 [00:02<00:01, 36.78it/s]\n",
      "\u001b[A\n",
      " 76%|#######6  | 106/139 [00:02<00:01, 30.45it/s]\n",
      "\u001b[A\n",
      " 81%|########  | 112/139 [00:03<00:00, 35.76it/s]\n",
      "\u001b[A\n",
      " 83%|########3 | 116/139 [00:03<00:00, 35.90it/s]\n",
      "\u001b[A\n",
      " 88%|########7 | 122/139 [00:03<00:00, 40.64it/s]\n",
      "\u001b[A\n",
      " 91%|#########1| 127/139 [00:03<00:00, 41.70it/s]\n",
      "\u001b[A\n",
      " 96%|#########6| 134/139 [00:03<00:00, 47.60it/s]\n",
      "\u001b[A\n",
      "100%|##########| 139/139 [00:03<00:00, 38.31it/s]\n"
     ]
    },
    {
     "name": "stdout",
     "output_type": "stream",
     "text": [
      "Stacking columns...                                                                                                     \n",
      "[Pipeline] ....... (step 1 of 3) Processing transformer, total=   2.4s                                                  \n",
      "[Pipeline] ...... (step 2 of 3) Processing maxabs_scale, total=   1.4s                                                  \n",
      "[Pipeline] ............. (step 3 of 3) Processing e_net, total=  29.5s                                                  \n",
      "[Pipeline] ....... (step 1 of 3) Processing transformer, total=   2.2s                                                  \n",
      "[Pipeline] ...... (step 2 of 3) Processing maxabs_scale, total=   1.3s                                                  \n",
      "[Pipeline] ............. (step 3 of 3) Processing e_net, total=  39.8s                                                  \n",
      "[Pipeline] ....... (step 1 of 3) Processing transformer, total=   2.5s                                                  \n",
      "[Pipeline] ...... (step 2 of 3) Processing maxabs_scale, total=   1.6s                                                  \n",
      "[Pipeline] ............. (step 3 of 3) Processing e_net, total=  26.6s                                                  \n",
      "[Pipeline] ....... (step 1 of 3) Processing transformer, total=   2.7s                                                  \n",
      "[Pipeline] ...... (step 2 of 3) Processing maxabs_scale, total=   1.7s                                                  \n",
      "[Pipeline] ............. (step 3 of 3) Processing e_net, total=  33.0s                                                  \n",
      "[Pipeline] ....... (step 1 of 3) Processing transformer, total=   2.3s                                                  \n",
      "[Pipeline] ...... (step 2 of 3) Processing maxabs_scale, total=   1.4s                                                  \n",
      "[Pipeline] ............. (step 3 of 3) Processing e_net, total= 1.1min                                                  \n",
      "Mean AUROC: 0.7074                                                                                                      \n",
      "Mean Avg Pre: 0.0832                                                                                                    \n",
      "STD AUROC: 0.0585                                                                                                       \n",
      "STD Avg Pre: 0.0280                                                                                                     \n",
      "Loss: -0.1837                                                                                                           \n",
      "Changing w from 0.6532207489216617 to 0.3229839984555949. Please wait...                                                \n",
      " 16%|███████▏                                     | 8/50 [46:48<3:47:56, 325.64s/trial, best loss: -0.18367728608164435]"
     ]
    },
    {
     "name": "stderr",
     "output_type": "stream",
     "text": [
      "  0%|          | 0/68 [00:00<?, ?it/s]\n",
      "\u001b[A\n",
      "  1%|1         | 1/68 [00:00<00:10,  6.20it/s]\n",
      "\u001b[A\n",
      "  4%|4         | 3/68 [00:00<00:05, 11.68it/s]\n",
      "\u001b[A\n",
      " 32%|###2      | 22/68 [00:00<00:00, 77.26it/s]\n",
      "\u001b[A\n",
      " 54%|#####4    | 37/68 [00:00<00:00, 87.07it/s]\n",
      "\u001b[A\n",
      " 85%|########5 | 58/68 [00:00<00:00, 123.14it/s]\n",
      "\u001b[A\n",
      "100%|##########| 68/68 [00:00<00:00, 84.76it/s] \n"
     ]
    },
    {
     "name": "stdout",
     "output_type": "stream",
     "text": [
      "Preparing function arguments...                                                                                         \n",
      "Calculating DWPCs...                                                                                                    \n",
      " 16%|███████▏                                     | 8/50 [46:54<3:47:56, 325.64s/trial, best loss: -0.18367728608164435]"
     ]
    },
    {
     "name": "stderr",
     "output_type": "stream",
     "text": [
      "  0%|          | 0/139 [00:00<?, ?it/s]\n",
      "\u001b[A\n",
      "  1%|          | 1/139 [00:00<00:14,  9.62it/s]\n",
      "\u001b[A\n",
      "  4%|4         | 6/139 [00:00<00:04, 32.39it/s]\n",
      "\u001b[A\n",
      "  9%|8         | 12/139 [00:00<00:02, 44.57it/s]\n",
      "\u001b[A\n",
      " 12%|#2        | 17/139 [00:00<00:03, 32.26it/s]\n",
      "\u001b[A\n",
      " 15%|#5        | 21/139 [00:00<00:03, 31.69it/s]\n",
      "\u001b[A\n",
      " 19%|#9        | 27/139 [00:00<00:03, 30.51it/s]\n",
      "\u001b[A\n",
      " 24%|##4       | 34/139 [00:00<00:02, 38.76it/s]\n",
      "\u001b[A\n",
      " 28%|##8       | 39/139 [00:01<00:02, 38.46it/s]\n",
      "\u001b[A\n",
      " 32%|###1      | 44/139 [00:01<00:02, 40.66it/s]\n",
      "\u001b[A\n",
      " 38%|###8      | 53/139 [00:01<00:01, 50.94it/s]\n",
      "\u001b[A\n",
      " 42%|####2     | 59/139 [00:01<00:01, 48.03it/s]\n",
      "\u001b[A\n",
      " 47%|####6     | 65/139 [00:01<00:01, 49.37it/s]\n",
      "\u001b[A\n",
      " 51%|#####1    | 71/139 [00:01<00:01, 48.91it/s]\n",
      "\u001b[A\n",
      " 55%|#####5    | 77/139 [00:01<00:01, 48.55it/s]\n",
      "\u001b[A\n",
      " 63%|######2   | 87/139 [00:01<00:00, 60.86it/s]\n",
      "\u001b[A\n",
      " 68%|######7   | 94/139 [00:02<00:00, 55.87it/s]\n",
      "\u001b[A\n",
      " 73%|#######2  | 101/139 [00:02<00:00, 54.55it/s]\n",
      "\u001b[A\n",
      " 81%|########  | 112/139 [00:02<00:00, 68.04it/s]\n",
      "\u001b[A\n",
      " 86%|########6 | 120/139 [00:02<00:00, 66.69it/s]\n",
      "\u001b[A\n",
      " 91%|#########1| 127/139 [00:03<00:00, 27.53it/s]\n",
      "\u001b[A\n",
      " 96%|#########5| 133/139 [00:06<00:01,  5.70it/s]\n",
      "\u001b[A\n",
      " 96%|#########5| 133/139 [00:25<00:01,  5.70it/s]\n",
      "\u001b[A\n",
      " 98%|#########7| 136/139 [00:53<00:07,  2.47s/it]\n",
      "\u001b[A\n",
      " 99%|#########8| 137/139 [00:54<00:04,  2.41s/it]\n",
      "\u001b[A\n",
      " 99%|#########8| 137/139 [01:05<00:04,  2.41s/it]\n",
      "\u001b[A\n",
      "100%|##########| 139/139 [02:01<00:00,  7.39s/it]\n",
      "\u001b[A\n",
      "100%|##########| 139/139 [02:01<00:00,  1.14it/s]\n"
     ]
    },
    {
     "name": "stdout",
     "output_type": "stream",
     "text": [
      "                                                                                                                        \n",
      "Reshaping Result Matrices...\n",
      " 16%|███████▏                                     | 8/50 [48:59<3:47:56, 325.64s/trial, best loss: -0.18367728608164435]"
     ]
    },
    {
     "name": "stderr",
     "output_type": "stream",
     "text": [
      "  0%|          | 0/139 [00:00<?, ?it/s]\n",
      "\u001b[A\n",
      "  1%|1         | 2/139 [00:00<00:08, 15.83it/s]\n",
      "\u001b[A\n",
      "  7%|7         | 10/139 [00:00<00:03, 38.33it/s]\n",
      "\u001b[A\n",
      " 13%|#2        | 18/139 [00:00<00:02, 53.00it/s]\n",
      "\u001b[A\n",
      " 17%|#7        | 24/139 [00:00<00:02, 48.68it/s]\n",
      "\u001b[A\n",
      " 22%|##1       | 30/139 [00:00<00:02, 45.41it/s]\n",
      "\u001b[A\n",
      " 25%|##5       | 35/139 [00:00<00:02, 35.66it/s]\n",
      "\u001b[A\n",
      " 29%|##9       | 41/139 [00:00<00:02, 41.00it/s]\n",
      "\u001b[A\n",
      " 33%|###3      | 46/139 [00:01<00:02, 38.01it/s]\n",
      "\u001b[A\n",
      " 37%|###6      | 51/139 [00:01<00:02, 34.81it/s]\n",
      "\u001b[A\n",
      " 40%|###9      | 55/139 [00:01<00:02, 34.77it/s]\n",
      "\u001b[A\n",
      " 43%|####3     | 60/139 [00:01<00:02, 38.12it/s]\n",
      "\u001b[A\n",
      " 47%|####6     | 65/139 [00:01<00:02, 34.32it/s]\n",
      "\u001b[A\n",
      " 50%|####9     | 69/139 [00:01<00:02, 30.20it/s]\n",
      "\u001b[A\n",
      " 55%|#####4    | 76/139 [00:02<00:01, 35.97it/s]\n",
      "\u001b[A\n",
      " 58%|#####8    | 81/139 [00:02<00:01, 34.88it/s]\n",
      "\u001b[A\n",
      " 61%|######1   | 85/139 [00:02<00:01, 30.64it/s]\n",
      "\u001b[A\n",
      " 65%|######4   | 90/139 [00:02<00:01, 33.20it/s]\n",
      "\u001b[A\n",
      " 68%|######7   | 94/139 [00:02<00:01, 32.97it/s]\n",
      "\u001b[A\n",
      " 73%|#######2  | 101/139 [00:02<00:00, 39.57it/s]\n",
      "\u001b[A\n",
      " 76%|#######6  | 106/139 [00:03<00:01, 29.95it/s]\n",
      "\u001b[A\n",
      " 81%|########  | 112/139 [00:03<00:00, 34.28it/s]\n",
      "\u001b[A\n",
      " 83%|########3 | 116/139 [00:03<00:00, 34.45it/s]\n",
      "\u001b[A\n",
      " 88%|########7 | 122/139 [00:03<00:00, 38.54it/s]\n",
      "\u001b[A\n",
      " 91%|#########1| 127/139 [00:03<00:00, 39.59it/s]\n",
      "\u001b[A\n",
      " 96%|#########6| 134/139 [00:03<00:00, 44.84it/s]\n",
      "\u001b[A\n",
      "100%|##########| 139/139 [00:03<00:00, 37.82it/s]\n"
     ]
    },
    {
     "name": "stdout",
     "output_type": "stream",
     "text": [
      "Stacking columns...                                                                                                     \n",
      "[Pipeline] ....... (step 1 of 3) Processing transformer, total=   2.3s                                                  \n",
      "[Pipeline] ...... (step 2 of 3) Processing maxabs_scale, total=   1.5s                                                  \n",
      "[Pipeline] ............. (step 3 of 3) Processing e_net, total= 1.2min                                                  \n",
      " 16%|███████▏                                     | 8/50 [50:25<3:47:56, 325.64s/trial, best loss: -0.18367728608164435]"
     ]
    },
    {
     "name": "stderr",
     "output_type": "stream",
     "text": [
      "/home/rogertu/projects/MechRepoNet/mrn_venv/lib/python3.8/site-packages/sklearn/linear_model/_sag.py:328: ConvergenceWarning: The max_iter was reached which means the coef_ did not converge\n",
      "  warnings.warn(\"The max_iter was reached which means \"\n",
      "\n"
     ]
    },
    {
     "name": "stdout",
     "output_type": "stream",
     "text": [
      "[Pipeline] ....... (step 1 of 3) Processing transformer, total=   2.2s                                                  \n",
      "[Pipeline] ...... (step 2 of 3) Processing maxabs_scale, total=   1.3s                                                  \n",
      "[Pipeline] ............. (step 3 of 3) Processing e_net, total= 1.2min                                                  \n",
      " 16%|███████▏                                     | 8/50 [51:42<3:47:56, 325.64s/trial, best loss: -0.18367728608164435]"
     ]
    },
    {
     "name": "stderr",
     "output_type": "stream",
     "text": [
      "/home/rogertu/projects/MechRepoNet/mrn_venv/lib/python3.8/site-packages/sklearn/linear_model/_sag.py:328: ConvergenceWarning: The max_iter was reached which means the coef_ did not converge\n",
      "  warnings.warn(\"The max_iter was reached which means \"\n",
      "\n"
     ]
    },
    {
     "name": "stdout",
     "output_type": "stream",
     "text": [
      "[Pipeline] ....... (step 1 of 3) Processing transformer, total=   2.5s                                                  \n",
      "[Pipeline] ...... (step 2 of 3) Processing maxabs_scale, total=   1.6s                                                  \n",
      "[Pipeline] ............. (step 3 of 3) Processing e_net, total= 1.2min                                                  \n",
      " 16%|███████▏                                     | 8/50 [53:02<3:47:56, 325.64s/trial, best loss: -0.18367728608164435]"
     ]
    },
    {
     "name": "stderr",
     "output_type": "stream",
     "text": [
      "/home/rogertu/projects/MechRepoNet/mrn_venv/lib/python3.8/site-packages/sklearn/linear_model/_sag.py:328: ConvergenceWarning: The max_iter was reached which means the coef_ did not converge\n",
      "  warnings.warn(\"The max_iter was reached which means \"\n",
      "\n"
     ]
    },
    {
     "name": "stdout",
     "output_type": "stream",
     "text": [
      "[Pipeline] ....... (step 1 of 3) Processing transformer, total=   2.7s                                                  \n",
      "[Pipeline] ...... (step 2 of 3) Processing maxabs_scale, total=   1.7s                                                  \n",
      "[Pipeline] ............. (step 3 of 3) Processing e_net, total= 1.3min                                                  \n",
      " 16%|███████▏                                     | 8/50 [54:24<3:47:56, 325.64s/trial, best loss: -0.18367728608164435]"
     ]
    },
    {
     "name": "stderr",
     "output_type": "stream",
     "text": [
      "/home/rogertu/projects/MechRepoNet/mrn_venv/lib/python3.8/site-packages/sklearn/linear_model/_sag.py:328: ConvergenceWarning: The max_iter was reached which means the coef_ did not converge\n",
      "  warnings.warn(\"The max_iter was reached which means \"\n",
      "\n"
     ]
    },
    {
     "name": "stdout",
     "output_type": "stream",
     "text": [
      "[Pipeline] ....... (step 1 of 3) Processing transformer, total=   2.3s                                                  \n",
      "[Pipeline] ...... (step 2 of 3) Processing maxabs_scale, total=   1.4s                                                  \n",
      "[Pipeline] ............. (step 3 of 3) Processing e_net, total= 1.2min                                                  \n",
      " 16%|███████▏                                     | 8/50 [55:42<3:47:56, 325.64s/trial, best loss: -0.18367728608164435]"
     ]
    },
    {
     "name": "stderr",
     "output_type": "stream",
     "text": [
      "/home/rogertu/projects/MechRepoNet/mrn_venv/lib/python3.8/site-packages/sklearn/linear_model/_sag.py:328: ConvergenceWarning: The max_iter was reached which means the coef_ did not converge\n",
      "  warnings.warn(\"The max_iter was reached which means \"\n",
      "\n"
     ]
    },
    {
     "name": "stdout",
     "output_type": "stream",
     "text": [
      "Mean AUROC: 0.6946                                                                                                      \n",
      "Mean Avg Pre: 0.0798                                                                                                    \n",
      "STD AUROC: 0.0502                                                                                                       \n",
      "STD Avg Pre: 0.0270                                                                                                     \n",
      "Loss: -0.1755                                                                                                           \n",
      "Changing w from 0.3229839984555949 to 0.4529497132993202. Please wait...                                                \n",
      " 18%|████████                                     | 9/50 [55:43<4:27:05, 390.86s/trial, best loss: -0.18367728608164435]"
     ]
    },
    {
     "name": "stderr",
     "output_type": "stream",
     "text": [
      "  0%|          | 0/68 [00:00<?, ?it/s]\n",
      "\u001b[A\n",
      "  1%|1         | 1/68 [00:00<00:10,  6.27it/s]\n",
      "\u001b[A\n",
      "  4%|4         | 3/68 [00:00<00:05, 11.71it/s]\n",
      "\u001b[A\n",
      " 26%|##6       | 18/68 [00:00<00:00, 64.24it/s]\n",
      "\u001b[A\n",
      " 56%|#####5    | 38/68 [00:00<00:00, 91.15it/s]\n",
      "\u001b[A\n",
      " 87%|########6 | 59/68 [00:00<00:00, 120.89it/s]\n",
      "\u001b[A\n",
      "100%|##########| 68/68 [00:00<00:00, 86.97it/s] \n"
     ]
    },
    {
     "name": "stdout",
     "output_type": "stream",
     "text": [
      "Preparing function arguments...                                                                                         \n",
      "Calculating DWPCs...                                                                                                    \n",
      " 18%|████████                                     | 9/50 [55:48<4:27:05, 390.86s/trial, best loss: -0.18367728608164435]"
     ]
    },
    {
     "name": "stderr",
     "output_type": "stream",
     "text": [
      "  0%|          | 0/139 [00:00<?, ?it/s]\n",
      "\u001b[A\n",
      "  1%|          | 1/139 [00:00<00:15,  9.16it/s]\n",
      "\u001b[A\n",
      "  4%|4         | 6/139 [00:00<00:04, 31.87it/s]\n",
      "\u001b[A\n",
      "  9%|8         | 12/139 [00:00<00:03, 35.44it/s]\n",
      "\u001b[A\n",
      " 12%|#1        | 16/139 [00:00<00:03, 33.39it/s]\n",
      "\u001b[A\n",
      " 15%|#5        | 21/139 [00:00<00:03, 36.59it/s]\n",
      "\u001b[A\n",
      " 19%|#9        | 27/139 [00:00<00:03, 29.75it/s]\n",
      "\u001b[A\n",
      " 24%|##4       | 34/139 [00:00<00:02, 37.96it/s]\n",
      "\u001b[A\n",
      " 28%|##8       | 39/139 [00:01<00:02, 39.47it/s]\n",
      "\u001b[A\n",
      " 32%|###1      | 44/139 [00:01<00:02, 40.41it/s]\n",
      "\u001b[A\n",
      " 37%|###7      | 52/139 [00:01<00:01, 50.05it/s]\n",
      "\u001b[A\n",
      " 42%|####1     | 58/139 [00:01<00:01, 48.02it/s]\n",
      "\u001b[A\n",
      " 46%|####6     | 64/139 [00:01<00:01, 49.82it/s]\n",
      "\u001b[A\n",
      " 50%|#####     | 70/139 [00:01<00:01, 48.61it/s]\n",
      "\u001b[A\n",
      " 55%|#####4    | 76/139 [00:01<00:01, 49.39it/s]\n",
      "\u001b[A\n",
      " 63%|######2   | 87/139 [00:01<00:00, 62.58it/s]\n",
      "\u001b[A\n",
      " 68%|######7   | 94/139 [00:02<00:00, 56.93it/s]\n",
      "\u001b[A\n",
      " 72%|#######1  | 100/139 [00:02<00:00, 54.73it/s]\n",
      "\u001b[A\n",
      " 80%|#######9  | 111/139 [00:02<00:00, 65.50it/s]\n",
      "\u001b[A\n",
      " 85%|########4 | 118/139 [00:02<00:00, 61.87it/s]\n",
      "\u001b[A\n",
      " 90%|########9 | 125/139 [00:02<00:00, 30.29it/s]\n",
      "\u001b[A\n",
      " 94%|#########3| 130/139 [00:04<00:01,  8.99it/s]\n",
      "\u001b[A\n",
      " 96%|#########6| 134/139 [00:06<00:00,  5.28it/s]\n",
      "\u001b[A\n",
      " 96%|#########6| 134/139 [00:21<00:00,  5.28it/s]\n",
      "\u001b[A\n",
      " 98%|#########7| 136/139 [00:52<00:09,  3.02s/it]\n",
      "\u001b[A\n",
      " 99%|#########8| 137/139 [00:55<00:06,  3.07s/it]\n",
      "\u001b[A\n",
      " 99%|#########8| 137/139 [01:11<00:06,  3.07s/it]\n",
      "\u001b[A\n",
      "100%|##########| 139/139 [02:04<00:00,  9.06s/it]\n",
      "\u001b[A\n",
      "100%|##########| 139/139 [02:04<00:00,  1.11it/s]\n"
     ]
    },
    {
     "name": "stdout",
     "output_type": "stream",
     "text": [
      "                                                                                                                        \n",
      "Reshaping Result Matrices...\n",
      " 18%|████████                                     | 9/50 [57:56<4:27:05, 390.86s/trial, best loss: -0.18367728608164435]"
     ]
    },
    {
     "name": "stderr",
     "output_type": "stream",
     "text": [
      "  0%|          | 0/139 [00:00<?, ?it/s]\n",
      "\u001b[A\n",
      "  1%|          | 1/139 [00:00<00:23,  5.88it/s]\n",
      "\u001b[A\n",
      "  6%|6         | 9/139 [00:00<00:03, 37.61it/s]\n",
      "\u001b[A\n",
      " 10%|#         | 14/139 [00:00<00:03, 32.79it/s]\n",
      "\u001b[A\n",
      " 14%|#4        | 20/139 [00:00<00:02, 39.77it/s]\n",
      "\u001b[A\n",
      " 19%|#8        | 26/139 [00:00<00:02, 44.56it/s]\n",
      "\u001b[A\n",
      " 22%|##2       | 31/139 [00:00<00:02, 39.44it/s]\n",
      "\u001b[A\n",
      " 26%|##5       | 36/139 [00:00<00:02, 37.34it/s]\n",
      "\u001b[A\n",
      " 30%|###       | 42/139 [00:01<00:02, 40.48it/s]\n",
      "\u001b[A\n",
      " 34%|###3      | 47/139 [00:01<00:02, 39.47it/s]\n",
      "\u001b[A\n",
      " 37%|###7      | 52/139 [00:01<00:02, 33.08it/s]\n",
      "\u001b[A\n",
      " 42%|####2     | 59/139 [00:01<00:01, 40.88it/s]\n",
      "\u001b[A\n",
      " 46%|####6     | 64/139 [00:01<00:02, 31.81it/s]\n",
      "\u001b[A\n",
      " 49%|####8     | 68/139 [00:01<00:02, 32.76it/s]\n",
      "\u001b[A\n",
      " 52%|#####1    | 72/139 [00:02<00:02, 32.93it/s]\n",
      "\u001b[A\n",
      " 58%|#####7    | 80/139 [00:02<00:01, 41.44it/s]\n",
      "\u001b[A\n",
      " 61%|######1   | 85/139 [00:02<00:01, 30.49it/s]\n",
      "\u001b[A\n",
      " 65%|######4   | 90/139 [00:02<00:01, 33.21it/s]\n",
      "\u001b[A\n",
      " 68%|######7   | 94/139 [00:02<00:01, 33.13it/s]\n",
      "\u001b[A\n",
      " 73%|#######2  | 101/139 [00:02<00:00, 40.57it/s]\n",
      "\u001b[A\n",
      " 76%|#######6  | 106/139 [00:03<00:01, 30.59it/s]\n",
      "\u001b[A\n",
      " 81%|########  | 112/139 [00:03<00:00, 34.62it/s]\n",
      "\u001b[A\n",
      " 84%|########4 | 117/139 [00:03<00:00, 33.31it/s]\n",
      "\u001b[A\n",
      " 88%|########8 | 123/139 [00:03<00:00, 38.71it/s]\n",
      "\u001b[A\n",
      " 93%|#########2| 129/139 [00:03<00:00, 41.96it/s]\n",
      "\u001b[A\n",
      " 99%|#########8| 137/139 [00:03<00:00, 50.45it/s]\n",
      "\u001b[A\n",
      "100%|##########| 139/139 [00:03<00:00, 37.59it/s]\n"
     ]
    },
    {
     "name": "stdout",
     "output_type": "stream",
     "text": [
      "Stacking columns...                                                                                                     \n",
      "[Pipeline] ....... (step 1 of 3) Processing transformer, total=   2.3s                                                  \n",
      "[Pipeline] ...... (step 2 of 3) Processing maxabs_scale, total=   1.5s                                                  \n",
      "[Pipeline] ............. (step 3 of 3) Processing e_net, total= 1.2min                                                  \n",
      "[Pipeline] ....... (step 1 of 3) Processing transformer, total=   2.2s                                                  \n",
      "[Pipeline] ...... (step 2 of 3) Processing maxabs_scale, total=   1.3s                                                  \n",
      "[Pipeline] ............. (step 3 of 3) Processing e_net, total= 1.2min                                                  \n",
      " 18%|███████▋                                   | 9/50 [1:00:37<4:27:05, 390.86s/trial, best loss: -0.18367728608164435]"
     ]
    },
    {
     "name": "stderr",
     "output_type": "stream",
     "text": [
      "/home/rogertu/projects/MechRepoNet/mrn_venv/lib/python3.8/site-packages/sklearn/linear_model/_sag.py:328: ConvergenceWarning: The max_iter was reached which means the coef_ did not converge\n",
      "  warnings.warn(\"The max_iter was reached which means \"\n",
      "\n"
     ]
    },
    {
     "name": "stdout",
     "output_type": "stream",
     "text": [
      "[Pipeline] ....... (step 1 of 3) Processing transformer, total=   2.6s                                                  \n",
      "[Pipeline] ...... (step 2 of 3) Processing maxabs_scale, total=   1.6s                                                  \n",
      "[Pipeline] ............. (step 3 of 3) Processing e_net, total= 1.3min                                                  \n",
      " 18%|███████▋                                   | 9/50 [1:01:59<4:27:05, 390.86s/trial, best loss: -0.18367728608164435]"
     ]
    },
    {
     "name": "stderr",
     "output_type": "stream",
     "text": [
      "/home/rogertu/projects/MechRepoNet/mrn_venv/lib/python3.8/site-packages/sklearn/linear_model/_sag.py:328: ConvergenceWarning: The max_iter was reached which means the coef_ did not converge\n",
      "  warnings.warn(\"The max_iter was reached which means \"\n",
      "\n"
     ]
    },
    {
     "name": "stdout",
     "output_type": "stream",
     "text": [
      "[Pipeline] ....... (step 1 of 3) Processing transformer, total=   2.7s                                                  \n",
      "[Pipeline] ...... (step 2 of 3) Processing maxabs_scale, total=   1.7s                                                  \n",
      "[Pipeline] ............. (step 3 of 3) Processing e_net, total= 1.3min                                                  \n",
      " 18%|███████▋                                   | 9/50 [1:03:25<4:27:05, 390.86s/trial, best loss: -0.18367728608164435]"
     ]
    },
    {
     "name": "stderr",
     "output_type": "stream",
     "text": [
      "/home/rogertu/projects/MechRepoNet/mrn_venv/lib/python3.8/site-packages/sklearn/linear_model/_sag.py:328: ConvergenceWarning: The max_iter was reached which means the coef_ did not converge\n",
      "  warnings.warn(\"The max_iter was reached which means \"\n",
      "\n"
     ]
    },
    {
     "name": "stdout",
     "output_type": "stream",
     "text": [
      "[Pipeline] ....... (step 1 of 3) Processing transformer, total=   2.3s                                                  \n",
      "[Pipeline] ...... (step 2 of 3) Processing maxabs_scale, total=   1.5s                                                  \n",
      "[Pipeline] ............. (step 3 of 3) Processing e_net, total= 1.3min                                                  \n",
      " 18%|███████▋                                   | 9/50 [1:04:45<4:27:05, 390.86s/trial, best loss: -0.18367728608164435]"
     ]
    },
    {
     "name": "stderr",
     "output_type": "stream",
     "text": [
      "/home/rogertu/projects/MechRepoNet/mrn_venv/lib/python3.8/site-packages/sklearn/linear_model/_sag.py:328: ConvergenceWarning: The max_iter was reached which means the coef_ did not converge\n",
      "  warnings.warn(\"The max_iter was reached which means \"\n",
      "\n"
     ]
    },
    {
     "name": "stdout",
     "output_type": "stream",
     "text": [
      "Mean AUROC: 0.6984                                                                                                      \n",
      "Mean Avg Pre: 0.0799                                                                                                    \n",
      "STD AUROC: 0.0512                                                                                                       \n",
      "STD Avg Pre: 0.0264                                                                                                     \n",
      "Loss: -0.1773                                                                                                           \n",
      "Changing w from 0.4529497132993202 to 0.12531298460231877. Please wait...                                               \n",
      " 20%|████████▍                                 | 10/50 [1:04:46<4:51:55, 437.88s/trial, best loss: -0.18367728608164435]"
     ]
    },
    {
     "name": "stderr",
     "output_type": "stream",
     "text": [
      "  0%|          | 0/68 [00:00<?, ?it/s]\n",
      "\u001b[A\n",
      "  1%|1         | 1/68 [00:00<00:10,  6.27it/s]\n",
      "\u001b[A\n",
      "  6%|5         | 4/68 [00:00<00:03, 17.34it/s]\n",
      "\u001b[A\n",
      " 22%|##2       | 15/68 [00:00<00:00, 54.40it/s]\n",
      "\u001b[A\n",
      " 44%|####4     | 30/68 [00:00<00:00, 71.30it/s]\n",
      "\u001b[A\n",
      " 75%|#######5  | 51/68 [00:00<00:00, 111.52it/s]\n",
      "\u001b[A\n",
      "100%|##########| 68/68 [00:00<00:00, 111.52it/s]\n",
      "\u001b[A\n",
      "100%|##########| 68/68 [00:00<00:00, 86.36it/s] \n"
     ]
    },
    {
     "name": "stdout",
     "output_type": "stream",
     "text": [
      "Preparing function arguments...                                                                                         \n",
      "Calculating DWPCs...                                                                                                    \n",
      " 20%|████████▍                                 | 10/50 [1:04:51<4:51:55, 437.88s/trial, best loss: -0.18367728608164435]"
     ]
    },
    {
     "name": "stderr",
     "output_type": "stream",
     "text": [
      "  0%|          | 0/139 [00:00<?, ?it/s]\n",
      "\u001b[A\n",
      "  1%|1         | 2/139 [00:00<00:10, 13.62it/s]\n",
      "\u001b[A\n",
      "  7%|7         | 10/139 [00:00<00:03, 42.05it/s]\n",
      "\u001b[A\n",
      " 11%|#         | 15/139 [00:00<00:02, 43.39it/s]\n",
      "\u001b[A\n",
      " 14%|#4        | 20/139 [00:00<00:03, 33.92it/s]\n",
      "\u001b[A\n",
      " 17%|#7        | 24/139 [00:00<00:03, 30.14it/s]\n",
      "\u001b[A\n",
      " 20%|##        | 28/139 [00:00<00:03, 28.58it/s]\n",
      "\u001b[A\n",
      " 27%|##6       | 37/139 [00:01<00:02, 39.97it/s]\n",
      "\u001b[A\n",
      " 30%|###       | 42/139 [00:01<00:02, 36.12it/s]\n",
      "\u001b[A\n",
      " 35%|###5      | 49/139 [00:01<00:02, 42.94it/s]\n",
      "\u001b[A\n",
      " 40%|####      | 56/139 [00:01<00:01, 45.09it/s]\n",
      "\u001b[A\n",
      " 45%|####4     | 62/139 [00:01<00:01, 46.46it/s]\n",
      "\u001b[A\n",
      " 50%|#####     | 70/139 [00:01<00:01, 53.32it/s]\n",
      "\u001b[A\n",
      " 55%|#####4    | 76/139 [00:01<00:01, 51.46it/s]\n",
      "\u001b[A\n",
      " 59%|#####8    | 82/139 [00:01<00:01, 51.54it/s]\n",
      "\u001b[A\n",
      " 65%|######4   | 90/139 [00:02<00:00, 58.30it/s]\n",
      "\u001b[A\n",
      " 69%|######9   | 96/139 [00:02<00:00, 52.25it/s]\n",
      "\u001b[A\n",
      " 73%|#######3  | 102/139 [00:02<00:00, 53.29it/s]\n",
      "\u001b[A\n",
      " 80%|#######9  | 111/139 [00:02<00:00, 61.49it/s]\n",
      "\u001b[A\n",
      " 85%|########4 | 118/139 [00:02<00:00, 60.04it/s]\n",
      "\u001b[A\n",
      " 90%|########9 | 125/139 [00:02<00:00, 49.65it/s]\n",
      "\u001b[A\n",
      " 94%|#########4| 131/139 [00:06<00:01,  5.65it/s]\n",
      "\u001b[A\n",
      " 97%|#########7| 135/139 [00:11<00:01,  2.55it/s]\n",
      "\u001b[A\n",
      " 97%|#########7| 135/139 [00:28<00:01,  2.55it/s]\n",
      "\u001b[A\n",
      " 98%|#########7| 136/139 [00:54<00:09,  3.27s/it]\n",
      "\u001b[A\n",
      " 99%|#########8| 137/139 [00:56<00:06,  3.12s/it]\n",
      "\u001b[A\n",
      " 99%|#########8| 137/139 [01:08<00:06,  3.12s/it]\n",
      "\u001b[A\n",
      "100%|##########| 139/139 [01:59<00:00,  8.90s/it]\n",
      "\u001b[A\n",
      "100%|##########| 139/139 [01:59<00:00,  1.16it/s]\n"
     ]
    },
    {
     "name": "stdout",
     "output_type": "stream",
     "text": [
      "                                                                                                                        \n",
      "Reshaping Result Matrices...\n",
      " 20%|████████▍                                 | 10/50 [1:06:54<4:51:55, 437.88s/trial, best loss: -0.18367728608164435]"
     ]
    },
    {
     "name": "stderr",
     "output_type": "stream",
     "text": [
      "  0%|          | 0/139 [00:00<?, ?it/s]\n",
      "\u001b[A\n",
      "  1%|          | 1/139 [00:00<00:13,  9.98it/s]\n",
      "\u001b[A\n",
      "  7%|7         | 10/139 [00:00<00:03, 39.01it/s]\n",
      "\u001b[A\n",
      " 13%|#2        | 18/139 [00:00<00:02, 53.34it/s]\n",
      "\u001b[A\n",
      " 17%|#7        | 24/139 [00:00<00:02, 50.07it/s]\n",
      "\u001b[A\n",
      " 22%|##1       | 30/139 [00:00<00:02, 46.85it/s]\n",
      "\u001b[A\n",
      " 25%|##5       | 35/139 [00:00<00:02, 36.85it/s]\n",
      "\u001b[A\n",
      " 29%|##9       | 41/139 [00:00<00:02, 42.04it/s]\n",
      "\u001b[A\n",
      " 33%|###3      | 46/139 [00:01<00:02, 39.00it/s]\n",
      "\u001b[A\n",
      " 37%|###6      | 51/139 [00:01<00:02, 35.94it/s]\n",
      "\u001b[A\n",
      " 40%|###9      | 55/139 [00:01<00:02, 36.48it/s]\n",
      "\u001b[A\n",
      " 44%|####3     | 61/139 [00:01<00:02, 37.40it/s]\n",
      "\u001b[A\n",
      " 47%|####6     | 65/139 [00:01<00:01, 37.64it/s]\n",
      "\u001b[A\n",
      " 50%|####9     | 69/139 [00:01<00:02, 32.95it/s]\n",
      "\u001b[A\n",
      " 55%|#####4    | 76/139 [00:01<00:01, 39.02it/s]\n",
      "\u001b[A\n",
      " 58%|#####8    | 81/139 [00:02<00:01, 36.40it/s]\n",
      "\u001b[A\n",
      " 61%|######1   | 85/139 [00:02<00:01, 31.73it/s]\n",
      "\u001b[A\n",
      " 65%|######4   | 90/139 [00:02<00:01, 34.50it/s]\n",
      "\u001b[A\n",
      " 68%|######7   | 94/139 [00:02<00:01, 34.55it/s]\n",
      "\u001b[A\n",
      " 73%|#######2  | 101/139 [00:02<00:00, 42.29it/s]\n",
      "\u001b[A\n",
      " 76%|#######6  | 106/139 [00:02<00:01, 31.39it/s]\n",
      "\u001b[A\n",
      " 81%|########  | 112/139 [00:02<00:00, 36.26it/s]\n",
      "\u001b[A\n",
      " 84%|########4 | 117/139 [00:03<00:00, 34.06it/s]\n",
      "\u001b[A\n",
      " 88%|########8 | 123/139 [00:03<00:00, 39.22it/s]\n",
      "\u001b[A\n",
      " 93%|#########2| 129/139 [00:03<00:00, 41.92it/s]\n",
      "\u001b[A\n",
      " 99%|#########8| 137/139 [00:03<00:00, 50.37it/s]\n",
      "\u001b[A\n",
      "100%|##########| 139/139 [00:03<00:00, 39.48it/s]\n"
     ]
    },
    {
     "name": "stdout",
     "output_type": "stream",
     "text": [
      "Stacking columns...                                                                                                     \n",
      "[Pipeline] ....... (step 1 of 3) Processing transformer, total=   2.2s                                                  \n",
      "[Pipeline] ...... (step 2 of 3) Processing maxabs_scale, total=   1.8s                                                  \n",
      "[Pipeline] ............. (step 3 of 3) Processing e_net, total= 1.2min                                                  \n",
      " 20%|████████▍                                 | 10/50 [1:08:16<4:51:55, 437.88s/trial, best loss: -0.18367728608164435]"
     ]
    },
    {
     "name": "stderr",
     "output_type": "stream",
     "text": [
      "/home/rogertu/projects/MechRepoNet/mrn_venv/lib/python3.8/site-packages/sklearn/linear_model/_sag.py:328: ConvergenceWarning: The max_iter was reached which means the coef_ did not converge\n",
      "  warnings.warn(\"The max_iter was reached which means \"\n",
      "\n"
     ]
    },
    {
     "name": "stdout",
     "output_type": "stream",
     "text": [
      "[Pipeline] ....... (step 1 of 3) Processing transformer, total=   2.2s                                                  \n",
      "[Pipeline] ...... (step 2 of 3) Processing maxabs_scale, total=   1.2s                                                  \n",
      "[Pipeline] ............. (step 3 of 3) Processing e_net, total= 1.1min                                                  \n",
      " 20%|████████▍                                 | 10/50 [1:09:27<4:51:55, 437.88s/trial, best loss: -0.18367728608164435]"
     ]
    },
    {
     "name": "stderr",
     "output_type": "stream",
     "text": [
      "/home/rogertu/projects/MechRepoNet/mrn_venv/lib/python3.8/site-packages/sklearn/linear_model/_sag.py:328: ConvergenceWarning: The max_iter was reached which means the coef_ did not converge\n",
      "  warnings.warn(\"The max_iter was reached which means \"\n",
      "\n"
     ]
    },
    {
     "name": "stdout",
     "output_type": "stream",
     "text": [
      "[Pipeline] ....... (step 1 of 3) Processing transformer, total=   2.4s                                                  \n",
      "[Pipeline] ...... (step 2 of 3) Processing maxabs_scale, total=   1.5s                                                  \n",
      "[Pipeline] ............. (step 3 of 3) Processing e_net, total= 1.2min                                                  \n",
      " 20%|████████▍                                 | 10/50 [1:10:43<4:51:55, 437.88s/trial, best loss: -0.18367728608164435]"
     ]
    },
    {
     "name": "stderr",
     "output_type": "stream",
     "text": [
      "/home/rogertu/projects/MechRepoNet/mrn_venv/lib/python3.8/site-packages/sklearn/linear_model/_sag.py:328: ConvergenceWarning: The max_iter was reached which means the coef_ did not converge\n",
      "  warnings.warn(\"The max_iter was reached which means \"\n",
      "\n"
     ]
    },
    {
     "name": "stdout",
     "output_type": "stream",
     "text": [
      "[Pipeline] ....... (step 1 of 3) Processing transformer, total=   2.6s                                                  \n",
      "[Pipeline] ...... (step 2 of 3) Processing maxabs_scale, total=   1.7s                                                  \n",
      "[Pipeline] ............. (step 3 of 3) Processing e_net, total= 1.2min                                                  \n",
      " 20%|████████▍                                 | 10/50 [1:12:01<4:51:55, 437.88s/trial, best loss: -0.18367728608164435]"
     ]
    },
    {
     "name": "stderr",
     "output_type": "stream",
     "text": [
      "/home/rogertu/projects/MechRepoNet/mrn_venv/lib/python3.8/site-packages/sklearn/linear_model/_sag.py:328: ConvergenceWarning: The max_iter was reached which means the coef_ did not converge\n",
      "  warnings.warn(\"The max_iter was reached which means \"\n",
      "\n"
     ]
    },
    {
     "name": "stdout",
     "output_type": "stream",
     "text": [
      "[Pipeline] ....... (step 1 of 3) Processing transformer, total=   2.3s                                                  \n",
      "[Pipeline] ...... (step 2 of 3) Processing maxabs_scale, total=   1.4s                                                  \n",
      "[Pipeline] ............. (step 3 of 3) Processing e_net, total= 1.2min                                                  \n",
      " 20%|████████▍                                 | 10/50 [1:13:16<4:51:55, 437.88s/trial, best loss: -0.18367728608164435]"
     ]
    },
    {
     "name": "stderr",
     "output_type": "stream",
     "text": [
      "/home/rogertu/projects/MechRepoNet/mrn_venv/lib/python3.8/site-packages/sklearn/linear_model/_sag.py:328: ConvergenceWarning: The max_iter was reached which means the coef_ did not converge\n",
      "  warnings.warn(\"The max_iter was reached which means \"\n",
      "\n"
     ]
    },
    {
     "name": "stdout",
     "output_type": "stream",
     "text": [
      "Mean AUROC: 0.6896                                                                                                      \n",
      "Mean Avg Pre: 0.0833                                                                                                    \n",
      "STD AUROC: 0.0495                                                                                                       \n",
      "STD Avg Pre: 0.0370                                                                                                     \n",
      "Loss: -0.1763                                                                                                           \n",
      "Changing w from 0.12531298460231877 to 0.6499480841543211. Please wait...                                               \n",
      " 22%|█████████▏                                | 11/50 [1:13:17<4:59:14, 460.38s/trial, best loss: -0.18367728608164435]"
     ]
    },
    {
     "name": "stderr",
     "output_type": "stream",
     "text": [
      "  0%|          | 0/68 [00:00<?, ?it/s]\n",
      "\u001b[A\n",
      "  1%|1         | 1/68 [00:00<00:10,  6.25it/s]\n",
      "\u001b[A\n",
      "  4%|4         | 3/68 [00:00<00:06, 10.12it/s]\n",
      "\u001b[A\n",
      " 35%|###5      | 24/68 [00:00<00:00, 78.79it/s]\n",
      "\u001b[A\n",
      " 50%|#####     | 34/68 [00:00<00:00, 79.15it/s]\n",
      "\u001b[A\n",
      " 82%|########2 | 56/68 [00:00<00:00, 117.52it/s]\n",
      "\u001b[A\n",
      "100%|##########| 68/68 [00:00<00:00, 80.23it/s] \n"
     ]
    },
    {
     "name": "stdout",
     "output_type": "stream",
     "text": [
      "Preparing function arguments...                                                                                         \n",
      "Calculating DWPCs...                                                                                                    \n",
      " 22%|█████████▏                                | 11/50 [1:13:22<4:59:14, 460.38s/trial, best loss: -0.18367728608164435]"
     ]
    },
    {
     "name": "stderr",
     "output_type": "stream",
     "text": [
      "  0%|          | 0/139 [00:00<?, ?it/s]\n",
      "\u001b[A\n",
      "  1%|          | 1/139 [00:00<00:14,  9.65it/s]\n",
      "\u001b[A\n",
      "  4%|4         | 6/139 [00:00<00:04, 30.26it/s]\n",
      "\u001b[A\n",
      " 10%|#         | 14/139 [00:00<00:02, 45.43it/s]\n",
      "\u001b[A\n",
      " 14%|#3        | 19/139 [00:00<00:04, 26.58it/s]\n",
      "\u001b[A\n",
      " 17%|#7        | 24/139 [00:00<00:03, 29.83it/s]\n",
      "\u001b[A\n",
      " 20%|##        | 28/139 [00:00<00:03, 27.77it/s]\n",
      "\u001b[A\n",
      " 27%|##6       | 37/139 [00:01<00:02, 39.08it/s]\n",
      "\u001b[A\n",
      " 30%|###       | 42/139 [00:01<00:02, 36.39it/s]\n",
      "\u001b[A\n",
      " 38%|###8      | 53/139 [00:01<00:01, 51.46it/s]\n",
      "\u001b[A\n",
      " 42%|####2     | 59/139 [00:01<00:01, 44.34it/s]\n",
      "\u001b[A\n",
      " 47%|####7     | 66/139 [00:01<00:01, 49.55it/s]\n",
      "\u001b[A\n",
      " 52%|#####1    | 72/139 [00:01<00:01, 50.41it/s]\n",
      "\u001b[A\n",
      " 56%|#####6    | 78/139 [00:01<00:01, 52.04it/s]\n",
      "\u001b[A\n",
      " 63%|######2   | 87/139 [00:01<00:00, 60.07it/s]\n",
      "\u001b[A\n",
      " 68%|######7   | 94/139 [00:02<00:00, 57.46it/s]\n",
      "\u001b[A\n",
      " 72%|#######1  | 100/139 [00:02<00:00, 53.52it/s]\n",
      "\u001b[A\n",
      " 78%|#######7  | 108/139 [00:02<00:00, 59.70it/s]\n",
      "\u001b[A\n",
      " 83%|########3 | 116/139 [00:02<00:00, 58.64it/s]\n",
      "\u001b[A\n",
      " 88%|########8 | 123/139 [00:02<00:00, 57.79it/s]\n",
      "\u001b[A\n",
      " 93%|#########2| 129/139 [00:03<00:00, 23.28it/s]\n",
      "\u001b[A\n",
      " 96%|#########6| 134/139 [00:07<00:01,  4.67it/s]\n",
      "\u001b[A\n",
      " 96%|#########6| 134/139 [00:26<00:01,  4.67it/s]\n",
      "\u001b[A\n",
      " 98%|#########7| 136/139 [00:53<00:08,  2.94s/it]\n",
      "\u001b[A\n",
      " 99%|#########8| 137/139 [00:53<00:05,  2.75s/it]\n",
      "\u001b[A\n",
      " 99%|#########8| 137/139 [01:06<00:05,  2.75s/it]\n",
      "\u001b[A\n",
      "100%|##########| 139/139 [02:02<00:00,  8.55s/it]\n",
      "\u001b[A\n",
      "100%|##########| 139/139 [02:02<00:00,  1.13it/s]\n"
     ]
    },
    {
     "name": "stdout",
     "output_type": "stream",
     "text": [
      "                                                                                                                        \n",
      "Reshaping Result Matrices...\n",
      " 22%|█████████▏                                | 11/50 [1:15:29<4:59:14, 460.38s/trial, best loss: -0.18367728608164435]"
     ]
    },
    {
     "name": "stderr",
     "output_type": "stream",
     "text": [
      "  0%|          | 0/139 [00:00<?, ?it/s]\n",
      "\u001b[A\n",
      "  1%|1         | 2/139 [00:00<00:08, 16.18it/s]\n",
      "\u001b[A\n",
      "  7%|7         | 10/139 [00:00<00:03, 38.99it/s]\n",
      "\u001b[A\n",
      " 12%|#2        | 17/139 [00:00<00:02, 50.12it/s]\n",
      "\u001b[A\n",
      " 17%|#6        | 23/139 [00:00<00:02, 48.34it/s]\n",
      "\u001b[A\n",
      " 20%|##        | 28/139 [00:00<00:02, 48.48it/s]\n",
      "\u001b[A\n",
      " 24%|##3       | 33/139 [00:00<00:02, 36.28it/s]\n",
      "\u001b[A\n",
      " 27%|##7       | 38/139 [00:00<00:02, 39.27it/s]\n",
      "\u001b[A\n",
      " 32%|###1      | 44/139 [00:01<00:02, 42.39it/s]\n",
      "\u001b[A\n",
      " 35%|###5      | 49/139 [00:01<00:02, 39.05it/s]\n",
      "\u001b[A\n",
      " 39%|###8      | 54/139 [00:01<00:02, 38.30it/s]\n",
      "\u001b[A\n",
      " 43%|####3     | 60/139 [00:01<00:02, 39.12it/s]\n",
      "\u001b[A\n",
      " 47%|####6     | 65/139 [00:01<00:02, 35.94it/s]\n",
      "\u001b[A\n",
      " 50%|####9     | 69/139 [00:01<00:02, 31.93it/s]\n",
      "\u001b[A\n",
      " 55%|#####4    | 76/139 [00:01<00:01, 37.13it/s]\n",
      "\u001b[A\n",
      " 58%|#####8    | 81/139 [00:02<00:01, 35.50it/s]\n",
      "\u001b[A\n",
      " 61%|######1   | 85/139 [00:02<00:01, 30.96it/s]\n",
      "\u001b[A\n",
      " 65%|######4   | 90/139 [00:02<00:01, 33.70it/s]\n",
      "\u001b[A\n",
      " 68%|######7   | 94/139 [00:02<00:01, 33.57it/s]\n",
      "\u001b[A\n",
      " 73%|#######2  | 101/139 [00:02<00:00, 41.03it/s]\n",
      "\u001b[A\n",
      " 76%|#######6  | 106/139 [00:02<00:01, 31.32it/s]\n",
      "\u001b[A\n",
      " 81%|########  | 112/139 [00:03<00:00, 34.68it/s]\n",
      "\u001b[A\n",
      " 83%|########3 | 116/139 [00:03<00:00, 35.11it/s]\n",
      "\u001b[A\n",
      " 88%|########7 | 122/139 [00:03<00:00, 40.31it/s]\n",
      "\u001b[A\n",
      " 91%|#########1| 127/139 [00:03<00:00, 41.69it/s]\n",
      "\u001b[A\n",
      " 96%|#########6| 134/139 [00:03<00:00, 47.50it/s]\n",
      "\u001b[A\n",
      "100%|##########| 139/139 [00:03<00:00, 39.21it/s]\n"
     ]
    },
    {
     "name": "stdout",
     "output_type": "stream",
     "text": [
      "Stacking columns...                                                                                                     \n",
      "[Pipeline] ....... (step 1 of 3) Processing transformer, total=   2.3s                                                  \n",
      "[Pipeline] ...... (step 2 of 3) Processing maxabs_scale, total=   1.4s                                                  \n",
      "[Pipeline] ............. (step 3 of 3) Processing e_net, total=  31.3s                                                  \n",
      "[Pipeline] ....... (step 1 of 3) Processing transformer, total=   2.2s                                                  \n",
      "[Pipeline] ...... (step 2 of 3) Processing maxabs_scale, total=   1.3s                                                  \n",
      "[Pipeline] ............. (step 3 of 3) Processing e_net, total=  53.6s                                                  \n",
      "[Pipeline] ....... (step 1 of 3) Processing transformer, total=   2.5s                                                  \n",
      "[Pipeline] ...... (step 2 of 3) Processing maxabs_scale, total=   1.6s                                                  \n",
      "[Pipeline] ............. (step 3 of 3) Processing e_net, total=  49.6s                                                  \n",
      "[Pipeline] ....... (step 1 of 3) Processing transformer, total=   2.8s                                                  \n",
      "[Pipeline] ...... (step 2 of 3) Processing maxabs_scale, total=   1.7s                                                  \n",
      "[Pipeline] ............. (step 3 of 3) Processing e_net, total=  29.0s                                                  \n",
      "[Pipeline] ....... (step 1 of 3) Processing transformer, total=   2.4s                                                  \n",
      "[Pipeline] ...... (step 2 of 3) Processing maxabs_scale, total=   1.5s                                                  \n",
      "[Pipeline] ............. (step 3 of 3) Processing e_net, total= 1.2min                                                  \n",
      " 22%|█████████▏                                | 11/50 [1:19:58<4:59:14, 460.38s/trial, best loss: -0.18367728608164435]"
     ]
    },
    {
     "name": "stderr",
     "output_type": "stream",
     "text": [
      "/home/rogertu/projects/MechRepoNet/mrn_venv/lib/python3.8/site-packages/sklearn/linear_model/_sag.py:328: ConvergenceWarning: The max_iter was reached which means the coef_ did not converge\n",
      "  warnings.warn(\"The max_iter was reached which means \"\n",
      "\n"
     ]
    },
    {
     "name": "stdout",
     "output_type": "stream",
     "text": [
      "Mean AUROC: 0.7044                                                                                                      \n",
      "Mean Avg Pre: 0.0789                                                                                                    \n",
      "STD AUROC: 0.0532                                                                                                       \n",
      "STD Avg Pre: 0.0248                                                                                                     \n",
      "Loss: -0.1780                                                                                                           \n",
      "Changing w from 0.6499480841543211 to 0.7967568116501488. Please wait...                                                \n",
      " 24%|██████████                                | 12/50 [1:19:59<4:40:19, 442.63s/trial, best loss: -0.18367728608164435]"
     ]
    },
    {
     "name": "stderr",
     "output_type": "stream",
     "text": [
      "  0%|          | 0/68 [00:00<?, ?it/s]\n",
      "\u001b[A\n",
      "  1%|1         | 1/68 [00:00<00:10,  6.14it/s]\n",
      "\u001b[A\n",
      "  4%|4         | 3/68 [00:00<00:05, 12.00it/s]\n",
      "\u001b[A\n",
      " 24%|##3       | 16/68 [00:00<00:00, 56.10it/s]\n",
      "\u001b[A\n",
      " 54%|#####4    | 37/68 [00:00<00:00, 88.54it/s]\n",
      "\u001b[A\n",
      " 85%|########5 | 58/68 [00:00<00:00, 121.42it/s]\n",
      "\u001b[A\n",
      "100%|##########| 68/68 [00:00<00:00, 84.08it/s] \n"
     ]
    },
    {
     "name": "stdout",
     "output_type": "stream",
     "text": [
      "Preparing function arguments...                                                                                         \n",
      "Calculating DWPCs...                                                                                                    \n",
      " 24%|██████████                                | 12/50 [1:20:04<4:40:19, 442.63s/trial, best loss: -0.18367728608164435]"
     ]
    },
    {
     "name": "stderr",
     "output_type": "stream",
     "text": [
      "  0%|          | 0/139 [00:00<?, ?it/s]\n",
      "\u001b[A\n",
      "  1%|          | 1/139 [00:00<00:14,  9.65it/s]\n",
      "\u001b[A\n",
      "  3%|2         | 4/139 [00:00<00:06, 21.38it/s]\n",
      "\u001b[A\n",
      "  8%|7         | 11/139 [00:00<00:03, 42.22it/s]\n",
      "\u001b[A\n",
      " 12%|#1        | 16/139 [00:00<00:03, 37.62it/s]\n",
      "\u001b[A\n",
      " 14%|#4        | 20/139 [00:00<00:03, 32.85it/s]\n",
      "\u001b[A\n",
      " 17%|#7        | 24/139 [00:00<00:03, 31.93it/s]\n",
      "\u001b[A\n",
      " 20%|##        | 28/139 [00:00<00:03, 28.21it/s]\n",
      "\u001b[A\n",
      " 27%|##6       | 37/139 [00:01<00:02, 42.64it/s]\n",
      "\u001b[A\n",
      " 30%|###       | 42/139 [00:01<00:02, 35.59it/s]\n",
      "\u001b[A\n",
      " 39%|###8      | 54/139 [00:01<00:01, 52.31it/s]\n",
      "\u001b[A\n",
      " 43%|####3     | 60/139 [00:01<00:01, 52.00it/s]\n",
      "\u001b[A\n",
      " 47%|####7     | 66/139 [00:01<00:01, 52.95it/s]\n",
      "\u001b[A\n",
      " 52%|#####1    | 72/139 [00:01<00:01, 45.06it/s]\n",
      "\u001b[A\n",
      " 56%|#####6    | 78/139 [00:01<00:01, 44.81it/s]\n",
      "\u001b[A\n",
      " 63%|######3   | 88/139 [00:02<00:00, 55.84it/s]\n",
      "\u001b[A\n",
      " 68%|######7   | 94/139 [00:02<00:00, 54.86it/s]\n",
      "\u001b[A\n",
      " 73%|#######3  | 102/139 [00:02<00:00, 60.51it/s]\n",
      "\u001b[A\n",
      " 81%|########  | 112/139 [00:02<00:00, 68.40it/s]\n",
      "\u001b[A\n",
      " 86%|########6 | 120/139 [00:02<00:00, 61.82it/s]\n",
      "\u001b[A\n",
      " 91%|#########1| 127/139 [00:03<00:00, 25.30it/s]\n",
      "\u001b[A\n",
      " 95%|#########4| 132/139 [00:06<00:01,  5.82it/s]\n",
      "\u001b[A\n",
      " 95%|#########4| 132/139 [00:24<00:01,  5.82it/s]\n",
      "\u001b[A\n",
      " 98%|#########7| 136/139 [00:53<00:07,  2.49s/it]\n",
      "\u001b[A\n",
      " 99%|#########8| 137/139 [00:57<00:05,  2.54s/it]\n",
      "\u001b[A\n",
      " 99%|#########8| 137/139 [01:14<00:05,  2.54s/it]\n",
      "\u001b[A\n",
      "100%|##########| 139/139 [02:08<00:00,  7.83s/it]\n",
      "\u001b[A\n",
      "100%|##########| 139/139 [02:08<00:00,  1.08it/s]\n"
     ]
    },
    {
     "name": "stdout",
     "output_type": "stream",
     "text": [
      "                                                                                                                        \n",
      "Reshaping Result Matrices...\n",
      " 24%|██████████                                | 12/50 [1:22:17<4:40:19, 442.63s/trial, best loss: -0.18367728608164435]"
     ]
    },
    {
     "name": "stderr",
     "output_type": "stream",
     "text": [
      "  0%|          | 0/139 [00:00<?, ?it/s]\n",
      "\u001b[A\n",
      "  1%|1         | 2/139 [00:00<00:08, 16.38it/s]\n",
      "\u001b[A\n",
      "  7%|7         | 10/139 [00:00<00:03, 39.03it/s]\n",
      "\u001b[A\n",
      " 12%|#2        | 17/139 [00:00<00:02, 50.11it/s]\n",
      "\u001b[A\n",
      " 17%|#6        | 23/139 [00:00<00:02, 48.03it/s]\n",
      "\u001b[A\n",
      " 20%|##        | 28/139 [00:00<00:02, 47.90it/s]\n",
      "\u001b[A\n",
      " 24%|##3       | 33/139 [00:00<00:02, 35.78it/s]\n",
      "\u001b[A\n",
      " 27%|##7       | 38/139 [00:00<00:02, 38.80it/s]\n",
      "\u001b[A\n",
      " 32%|###1      | 44/139 [00:01<00:02, 41.91it/s]\n",
      "\u001b[A\n",
      " 35%|###5      | 49/139 [00:01<00:02, 38.90it/s]\n",
      "\u001b[A\n",
      " 39%|###8      | 54/139 [00:01<00:02, 37.91it/s]\n",
      "\u001b[A\n",
      " 43%|####3     | 60/139 [00:01<00:02, 38.82it/s]\n",
      "\u001b[A\n",
      " 46%|####6     | 64/139 [00:01<00:02, 33.03it/s]\n",
      "\u001b[A\n",
      " 49%|####8     | 68/139 [00:01<00:02, 33.21it/s]\n",
      "\u001b[A\n",
      " 52%|#####1    | 72/139 [00:01<00:02, 33.09it/s]\n",
      "\u001b[A\n",
      " 58%|#####7    | 80/139 [00:02<00:01, 41.84it/s]\n",
      "\u001b[A\n",
      " 61%|######1   | 85/139 [00:02<00:01, 31.22it/s]\n",
      "\u001b[A\n",
      " 65%|######4   | 90/139 [00:02<00:01, 34.03it/s]\n",
      "\u001b[A\n",
      " 68%|######7   | 94/139 [00:02<00:01, 34.45it/s]\n",
      "\u001b[A\n",
      " 73%|#######2  | 101/139 [00:02<00:00, 41.85it/s]\n",
      "\u001b[A\n",
      " 76%|#######6  | 106/139 [00:02<00:01, 31.43it/s]\n",
      "\u001b[A\n",
      " 81%|########  | 112/139 [00:03<00:00, 35.91it/s]\n",
      "\u001b[A\n",
      " 84%|########4 | 117/139 [00:03<00:00, 34.13it/s]\n",
      "\u001b[A\n",
      " 88%|########8 | 123/139 [00:03<00:00, 39.45it/s]\n",
      "\u001b[A\n",
      " 93%|#########2| 129/139 [00:03<00:00, 41.91it/s]\n",
      "\u001b[A\n",
      " 99%|#########8| 137/139 [00:03<00:00, 50.01it/s]\n",
      "\u001b[A\n",
      "100%|##########| 139/139 [00:03<00:00, 39.14it/s]\n"
     ]
    },
    {
     "name": "stdout",
     "output_type": "stream",
     "text": [
      "Stacking columns...                                                                                                     \n",
      "[Pipeline] ....... (step 1 of 3) Processing transformer, total=   2.3s                                                  \n",
      "[Pipeline] ...... (step 2 of 3) Processing maxabs_scale, total=   1.4s                                                  \n",
      "[Pipeline] ............. (step 3 of 3) Processing e_net, total=   1.8s                                                  \n",
      "[Pipeline] ....... (step 1 of 3) Processing transformer, total=   2.2s                                                  \n",
      "[Pipeline] ...... (step 2 of 3) Processing maxabs_scale, total=   1.4s                                                  \n",
      "[Pipeline] ............. (step 3 of 3) Processing e_net, total=   2.5s                                                  \n",
      "[Pipeline] ....... (step 1 of 3) Processing transformer, total=   2.5s                                                  \n",
      "[Pipeline] ...... (step 2 of 3) Processing maxabs_scale, total=   1.6s                                                  \n",
      "[Pipeline] ............. (step 3 of 3) Processing e_net, total=   1.9s                                                  \n",
      "[Pipeline] ....... (step 1 of 3) Processing transformer, total=   2.7s                                                  \n",
      "[Pipeline] ...... (step 2 of 3) Processing maxabs_scale, total=   1.7s                                                  \n",
      "[Pipeline] ............. (step 3 of 3) Processing e_net, total=   2.0s                                                  \n",
      "[Pipeline] ....... (step 1 of 3) Processing transformer, total=   2.3s                                                  \n",
      "[Pipeline] ...... (step 2 of 3) Processing maxabs_scale, total=   1.4s                                                  \n",
      "[Pipeline] ............. (step 3 of 3) Processing e_net, total=   2.9s                                                  \n",
      "Mean AUROC: 0.5000                                                                                                      \n",
      "Mean Avg Pre: 0.0099                                                                                                    \n",
      "STD AUROC: 0.0000                                                                                                       \n",
      "STD Avg Pre: 0.0000                                                                                                     \n",
      "Loss: -0.0493                                                                                                           \n",
      "Changing w from 0.7967568116501488 to 0.21266131575974231. Please wait...                                               \n",
      " 26%|██████████▉                               | 13/50 [1:23:00<3:43:59, 363.23s/trial, best loss: -0.18367728608164435]"
     ]
    },
    {
     "name": "stderr",
     "output_type": "stream",
     "text": [
      "  0%|          | 0/68 [00:00<?, ?it/s]\n",
      "\u001b[A\n",
      "  1%|1         | 1/68 [00:00<00:10,  6.28it/s]\n",
      "\u001b[A\n",
      "  4%|4         | 3/68 [00:00<00:05, 12.07it/s]\n",
      "\u001b[A\n",
      " 28%|##7       | 19/68 [00:00<00:00, 68.05it/s]\n",
      "\u001b[A\n",
      " 56%|#####5    | 38/68 [00:00<00:00, 84.87it/s]\n",
      "\u001b[A\n",
      " 87%|########6 | 59/68 [00:00<00:00, 115.09it/s]\n",
      "\u001b[A\n",
      "100%|##########| 68/68 [00:00<00:00, 82.96it/s] \n"
     ]
    },
    {
     "name": "stdout",
     "output_type": "stream",
     "text": [
      "Preparing function arguments...                                                                                         \n",
      "Calculating DWPCs...                                                                                                    \n",
      " 26%|██████████▉                               | 13/50 [1:23:05<3:43:59, 363.23s/trial, best loss: -0.18367728608164435]"
     ]
    },
    {
     "name": "stderr",
     "output_type": "stream",
     "text": [
      "  0%|          | 0/139 [00:00<?, ?it/s]\n",
      "\u001b[A\n",
      "  1%|1         | 2/139 [00:00<00:10, 12.63it/s]\n",
      "\u001b[A\n",
      "  7%|7         | 10/139 [00:00<00:03, 42.09it/s]\n",
      "\u001b[A\n",
      " 11%|#         | 15/139 [00:00<00:03, 36.65it/s]\n",
      "\u001b[A\n",
      " 14%|#3        | 19/139 [00:00<00:03, 32.67it/s]\n",
      "\u001b[A\n",
      " 17%|#6        | 23/139 [00:00<00:04, 28.32it/s]\n",
      "\u001b[A\n",
      " 19%|#9        | 27/139 [00:00<00:03, 30.06it/s]\n",
      "\u001b[A\n",
      " 24%|##3       | 33/139 [00:00<00:02, 37.23it/s]\n",
      "\u001b[A\n",
      " 28%|##8       | 39/139 [00:01<00:02, 38.94it/s]\n",
      "\u001b[A\n",
      " 32%|###1      | 44/139 [00:01<00:02, 39.95it/s]\n",
      "\u001b[A\n",
      " 39%|###8      | 54/139 [00:01<00:01, 52.53it/s]\n",
      "\u001b[A\n",
      " 43%|####3     | 60/139 [00:01<00:01, 49.67it/s]\n",
      "\u001b[A\n",
      " 49%|####8     | 68/139 [00:01<00:01, 56.73it/s]\n",
      "\u001b[A\n",
      " 53%|#####3    | 74/139 [00:01<00:01, 45.62it/s]\n",
      "\u001b[A\n",
      " 58%|#####7    | 80/139 [00:01<00:01, 48.27it/s]\n",
      "\u001b[A\n",
      " 63%|######3   | 88/139 [00:02<00:00, 53.23it/s]\n",
      "\u001b[A\n",
      " 71%|#######   | 98/139 [00:02<00:00, 61.89it/s]\n",
      "\u001b[A\n",
      " 76%|#######5  | 105/139 [00:02<00:00, 63.55it/s]\n",
      "\u001b[A\n",
      " 82%|########2 | 114/139 [00:02<00:00, 62.84it/s]\n",
      "\u001b[A\n",
      " 87%|########7 | 121/139 [00:02<00:00, 61.70it/s]\n",
      "\u001b[A\n",
      " 92%|#########2| 128/139 [00:03<00:00, 24.30it/s]\n",
      "\u001b[A\n",
      " 96%|#########5| 133/139 [00:06<00:01,  5.37it/s]\n",
      "\u001b[A\n",
      " 96%|#########5| 133/139 [00:24<00:01,  5.37it/s]\n",
      "\u001b[A\n",
      " 98%|#########7| 136/139 [00:54<00:08,  2.73s/it]\n",
      "\u001b[A\n",
      " 99%|#########8| 137/139 [00:55<00:05,  2.58s/it]\n",
      "\u001b[A\n",
      " 99%|#########8| 137/139 [01:14<00:05,  2.58s/it]\n",
      "\u001b[A\n",
      "100%|##########| 139/139 [02:05<00:00,  8.00s/it]\n",
      "\u001b[A\n",
      "100%|##########| 139/139 [02:05<00:00,  1.11it/s]\n"
     ]
    },
    {
     "name": "stdout",
     "output_type": "stream",
     "text": [
      "                                                                                                                        \n",
      "Reshaping Result Matrices...\n",
      " 26%|██████████▉                               | 13/50 [1:25:14<3:43:59, 363.23s/trial, best loss: -0.18367728608164435]"
     ]
    },
    {
     "name": "stderr",
     "output_type": "stream",
     "text": [
      "  0%|          | 0/139 [00:00<?, ?it/s]\n",
      "\u001b[A\n",
      "  1%|1         | 2/139 [00:00<00:08, 15.52it/s]\n",
      "\u001b[A\n",
      "  7%|7         | 10/139 [00:00<00:03, 38.87it/s]\n",
      "\u001b[A\n",
      " 12%|#2        | 17/139 [00:00<00:02, 49.71it/s]\n",
      "\u001b[A\n",
      " 17%|#6        | 23/139 [00:00<00:02, 47.52it/s]\n",
      "\u001b[A\n",
      " 20%|##        | 28/139 [00:00<00:02, 47.43it/s]\n",
      "\u001b[A\n",
      " 24%|##3       | 33/139 [00:00<00:02, 35.60it/s]\n",
      "\u001b[A\n",
      " 27%|##7       | 38/139 [00:00<00:02, 38.42it/s]\n",
      "\u001b[A\n",
      " 32%|###1      | 44/139 [00:01<00:02, 40.96it/s]\n",
      "\u001b[A\n",
      " 35%|###5      | 49/139 [00:01<00:02, 38.13it/s]\n",
      "\u001b[A\n",
      " 39%|###8      | 54/139 [00:01<00:02, 37.28it/s]\n",
      "\u001b[A\n",
      " 43%|####3     | 60/139 [00:01<00:02, 38.28it/s]\n",
      "\u001b[A\n",
      " 46%|####6     | 64/139 [00:01<00:02, 33.20it/s]\n",
      "\u001b[A\n",
      " 49%|####8     | 68/139 [00:01<00:02, 33.86it/s]\n",
      "\u001b[A\n",
      " 52%|#####1    | 72/139 [00:01<00:01, 33.75it/s]\n",
      "\u001b[A\n",
      " 58%|#####7    | 80/139 [00:02<00:01, 42.43it/s]\n",
      "\u001b[A\n",
      " 61%|######1   | 85/139 [00:02<00:01, 30.13it/s]\n",
      "\u001b[A\n",
      " 65%|######4   | 90/139 [00:02<00:01, 32.81it/s]\n",
      "\u001b[A\n",
      " 68%|######7   | 94/139 [00:02<00:01, 32.77it/s]\n",
      "\u001b[A\n",
      " 73%|#######2  | 101/139 [00:02<00:00, 40.19it/s]\n",
      "\u001b[A\n",
      " 76%|#######6  | 106/139 [00:02<00:01, 30.55it/s]\n",
      "\u001b[A\n",
      " 81%|########  | 112/139 [00:03<00:00, 35.11it/s]\n",
      "\u001b[A\n",
      " 84%|########4 | 117/139 [00:03<00:00, 33.61it/s]\n",
      "\u001b[A\n",
      " 88%|########8 | 123/139 [00:03<00:00, 38.95it/s]\n",
      "\u001b[A\n",
      " 93%|#########2| 129/139 [00:03<00:00, 42.15it/s]\n",
      "\u001b[A\n",
      " 99%|#########8| 137/139 [00:03<00:00, 50.48it/s]\n",
      "\u001b[A\n",
      "100%|##########| 139/139 [00:03<00:00, 38.69it/s]\n"
     ]
    },
    {
     "name": "stdout",
     "output_type": "stream",
     "text": [
      "Stacking columns...                                                                                                     \n",
      "[Pipeline] ....... (step 1 of 3) Processing transformer, total=   2.3s                                                  \n",
      "[Pipeline] ...... (step 2 of 3) Processing maxabs_scale, total=   1.4s                                                  \n",
      "[Pipeline] ............. (step 3 of 3) Processing e_net, total= 1.2min                                                  \n",
      " 26%|██████████▉                               | 13/50 [1:26:39<3:43:59, 363.23s/trial, best loss: -0.18367728608164435]"
     ]
    },
    {
     "name": "stderr",
     "output_type": "stream",
     "text": [
      "/home/rogertu/projects/MechRepoNet/mrn_venv/lib/python3.8/site-packages/sklearn/linear_model/_sag.py:328: ConvergenceWarning: The max_iter was reached which means the coef_ did not converge\n",
      "  warnings.warn(\"The max_iter was reached which means \"\n",
      "\n"
     ]
    },
    {
     "name": "stdout",
     "output_type": "stream",
     "text": [
      "[Pipeline] ....... (step 1 of 3) Processing transformer, total=   2.2s                                                  \n",
      "[Pipeline] ...... (step 2 of 3) Processing maxabs_scale, total=   1.3s                                                  \n",
      "[Pipeline] ............. (step 3 of 3) Processing e_net, total= 1.2min                                                  \n",
      " 26%|██████████▉                               | 13/50 [1:27:56<3:43:59, 363.23s/trial, best loss: -0.18367728608164435]"
     ]
    },
    {
     "name": "stderr",
     "output_type": "stream",
     "text": [
      "/home/rogertu/projects/MechRepoNet/mrn_venv/lib/python3.8/site-packages/sklearn/linear_model/_sag.py:328: ConvergenceWarning: The max_iter was reached which means the coef_ did not converge\n",
      "  warnings.warn(\"The max_iter was reached which means \"\n",
      "\n"
     ]
    },
    {
     "name": "stdout",
     "output_type": "stream",
     "text": [
      "[Pipeline] ....... (step 1 of 3) Processing transformer, total=   2.5s                                                  \n",
      "[Pipeline] ...... (step 2 of 3) Processing maxabs_scale, total=   1.6s                                                  \n",
      "[Pipeline] ............. (step 3 of 3) Processing e_net, total= 1.3min                                                  \n",
      " 26%|██████████▉                               | 13/50 [1:29:17<3:43:59, 363.23s/trial, best loss: -0.18367728608164435]"
     ]
    },
    {
     "name": "stderr",
     "output_type": "stream",
     "text": [
      "/home/rogertu/projects/MechRepoNet/mrn_venv/lib/python3.8/site-packages/sklearn/linear_model/_sag.py:328: ConvergenceWarning: The max_iter was reached which means the coef_ did not converge\n",
      "  warnings.warn(\"The max_iter was reached which means \"\n",
      "\n"
     ]
    },
    {
     "name": "stdout",
     "output_type": "stream",
     "text": [
      "[Pipeline] ....... (step 1 of 3) Processing transformer, total=   2.7s                                                  \n",
      "[Pipeline] ...... (step 2 of 3) Processing maxabs_scale, total=   1.7s                                                  \n",
      "[Pipeline] ............. (step 3 of 3) Processing e_net, total= 1.3min                                                  \n",
      " 26%|██████████▉                               | 13/50 [1:30:39<3:43:59, 363.23s/trial, best loss: -0.18367728608164435]"
     ]
    },
    {
     "name": "stderr",
     "output_type": "stream",
     "text": [
      "/home/rogertu/projects/MechRepoNet/mrn_venv/lib/python3.8/site-packages/sklearn/linear_model/_sag.py:328: ConvergenceWarning: The max_iter was reached which means the coef_ did not converge\n",
      "  warnings.warn(\"The max_iter was reached which means \"\n",
      "\n"
     ]
    },
    {
     "name": "stdout",
     "output_type": "stream",
     "text": [
      "[Pipeline] ....... (step 1 of 3) Processing transformer, total=   2.3s                                                  \n",
      "[Pipeline] ...... (step 2 of 3) Processing maxabs_scale, total=   1.4s                                                  \n",
      "[Pipeline] ............. (step 3 of 3) Processing e_net, total= 1.2min                                                  \n",
      " 26%|██████████▉                               | 13/50 [1:31:58<3:43:59, 363.23s/trial, best loss: -0.18367728608164435]"
     ]
    },
    {
     "name": "stderr",
     "output_type": "stream",
     "text": [
      "/home/rogertu/projects/MechRepoNet/mrn_venv/lib/python3.8/site-packages/sklearn/linear_model/_sag.py:328: ConvergenceWarning: The max_iter was reached which means the coef_ did not converge\n",
      "  warnings.warn(\"The max_iter was reached which means \"\n",
      "\n"
     ]
    },
    {
     "name": "stdout",
     "output_type": "stream",
     "text": [
      "Mean AUROC: 0.6900                                                                                                      \n",
      "Mean Avg Pre: 0.0833                                                                                                    \n",
      "STD AUROC: 0.0498                                                                                                       \n",
      "STD Avg Pre: 0.0344                                                                                                     \n",
      "Loss: -0.1772                                                                                                           \n",
      "Changing w from 0.21266131575974231 to 0.46736129420440065. Please wait...                                              \n",
      " 28%|███████████▊                              | 14/50 [1:31:58<4:09:43, 416.21s/trial, best loss: -0.18367728608164435]"
     ]
    },
    {
     "name": "stderr",
     "output_type": "stream",
     "text": [
      "  0%|          | 0/68 [00:00<?, ?it/s]\n",
      "\u001b[A\n",
      "  1%|1         | 1/68 [00:00<00:10,  6.25it/s]\n",
      "\u001b[A\n",
      "  4%|4         | 3/68 [00:00<00:05, 12.31it/s]\n",
      "\u001b[A\n",
      " 25%|##5       | 17/68 [00:00<00:00, 60.21it/s]\n",
      "\u001b[A\n",
      " 51%|#####1    | 35/68 [00:00<00:00, 87.48it/s]\n",
      "\u001b[A\n",
      " 82%|########2 | 56/68 [00:00<00:00, 122.17it/s]\n",
      "\u001b[A\n",
      "100%|##########| 68/68 [00:00<00:00, 85.59it/s] \n"
     ]
    },
    {
     "name": "stdout",
     "output_type": "stream",
     "text": [
      "Preparing function arguments...                                                                                         \n",
      "Calculating DWPCs...                                                                                                    \n",
      " 28%|███████████▊                              | 14/50 [1:32:04<4:09:43, 416.21s/trial, best loss: -0.18367728608164435]"
     ]
    },
    {
     "name": "stderr",
     "output_type": "stream",
     "text": [
      "  0%|          | 0/139 [00:00<?, ?it/s]\n",
      "\u001b[A\n",
      "  1%|1         | 2/139 [00:00<00:10, 12.54it/s]\n",
      "\u001b[A\n",
      "  7%|7         | 10/139 [00:00<00:02, 43.11it/s]\n",
      "\u001b[A\n",
      " 11%|#         | 15/139 [00:00<00:03, 37.71it/s]\n",
      "\u001b[A\n",
      " 14%|#4        | 20/139 [00:00<00:03, 30.63it/s]\n",
      "\u001b[A\n",
      " 18%|#7        | 25/139 [00:00<00:03, 34.70it/s]\n",
      "\u001b[A\n",
      " 21%|##        | 29/139 [00:00<00:03, 28.54it/s]\n",
      "\u001b[A\n",
      " 27%|##6       | 37/139 [00:01<00:02, 36.49it/s]\n",
      "\u001b[A\n",
      " 29%|##9       | 41/139 [00:01<00:02, 33.13it/s]\n",
      "\u001b[A\n",
      " 37%|###7      | 52/139 [00:01<00:01, 48.88it/s]\n",
      "\u001b[A\n",
      " 42%|####1     | 58/139 [00:01<00:01, 45.57it/s]\n",
      "\u001b[A\n",
      " 47%|####7     | 66/139 [00:01<00:01, 53.26it/s]\n",
      "\u001b[A\n",
      " 52%|#####1    | 72/139 [00:01<00:01, 45.46it/s]\n",
      "\u001b[A\n",
      " 56%|#####6    | 78/139 [00:01<00:01, 47.17it/s]\n",
      "\u001b[A\n",
      " 62%|######1   | 86/139 [00:02<00:01, 52.44it/s]\n",
      "\u001b[A\n",
      " 67%|######6   | 93/139 [00:02<00:00, 55.15it/s]\n",
      "\u001b[A\n",
      " 73%|#######2  | 101/139 [00:02<00:00, 60.29it/s]\n",
      "\u001b[A\n",
      " 80%|#######9  | 111/139 [00:02<00:00, 68.10it/s]\n",
      "\u001b[A\n",
      " 86%|########5 | 119/139 [00:02<00:00, 59.72it/s]\n",
      "\u001b[A\n",
      " 91%|######### | 126/139 [00:03<00:00, 31.03it/s]\n",
      "\u001b[A\n",
      " 94%|#########4| 131/139 [00:06<00:01,  6.43it/s]\n",
      "\u001b[A\n",
      " 97%|#########7| 135/139 [00:11<00:01,  2.46it/s]\n",
      "\u001b[A\n",
      " 97%|#########7| 135/139 [00:25<00:01,  2.46it/s]\n",
      "\u001b[A\n",
      " 98%|#########7| 136/139 [00:54<00:09,  3.23s/it]\n",
      "\u001b[A\n",
      " 99%|#########8| 137/139 [00:56<00:06,  3.06s/it]\n",
      "\u001b[A\n",
      " 99%|#########8| 137/139 [01:15<00:06,  3.06s/it]\n",
      "\u001b[A\n",
      "100%|##########| 139/139 [02:01<00:00,  8.94s/it]\n",
      "\u001b[A\n",
      "100%|##########| 139/139 [02:01<00:00,  1.14it/s]\n"
     ]
    },
    {
     "name": "stdout",
     "output_type": "stream",
     "text": [
      "                                                                                                                        \n",
      "Reshaping Result Matrices...\n",
      " 28%|███████████▊                              | 14/50 [1:34:09<4:09:43, 416.21s/trial, best loss: -0.18367728608164435]"
     ]
    },
    {
     "name": "stderr",
     "output_type": "stream",
     "text": [
      "  0%|          | 0/139 [00:00<?, ?it/s]\n",
      "\u001b[A\n",
      "  1%|          | 1/139 [00:00<00:19,  6.90it/s]\n",
      "\u001b[A\n",
      "  6%|6         | 9/139 [00:00<00:03, 42.86it/s]\n",
      "\u001b[A\n",
      " 10%|#         | 14/139 [00:00<00:03, 35.26it/s]\n",
      "\u001b[A\n",
      " 14%|#4        | 20/139 [00:00<00:02, 42.31it/s]\n",
      "\u001b[A\n",
      " 19%|#8        | 26/139 [00:00<00:02, 47.19it/s]\n",
      "\u001b[A\n",
      " 23%|##3       | 32/139 [00:00<00:02, 39.44it/s]\n",
      "\u001b[A\n",
      " 27%|##6       | 37/139 [00:00<00:02, 38.43it/s]\n",
      "\u001b[A\n",
      " 31%|###       | 43/139 [00:01<00:02, 43.36it/s]\n",
      "\u001b[A\n",
      " 35%|###4      | 48/139 [00:01<00:02, 37.66it/s]\n",
      "\u001b[A\n",
      " 38%|###8      | 53/139 [00:01<00:02, 38.59it/s]\n",
      "\u001b[A\n",
      " 43%|####3     | 60/139 [00:01<00:02, 38.78it/s]\n",
      "\u001b[A\n",
      " 47%|####6     | 65/139 [00:01<00:02, 35.54it/s]\n",
      "\u001b[A\n",
      " 50%|####9     | 69/139 [00:01<00:02, 31.42it/s]\n",
      "\u001b[A\n",
      " 55%|#####4    | 76/139 [00:02<00:01, 37.06it/s]\n",
      "\u001b[A\n",
      " 58%|#####8    | 81/139 [00:02<00:01, 36.07it/s]\n",
      "\u001b[A\n",
      " 61%|######1   | 85/139 [00:02<00:01, 31.83it/s]\n",
      "\u001b[A\n",
      " 65%|######4   | 90/139 [00:02<00:01, 34.76it/s]\n",
      "\u001b[A\n",
      " 68%|######7   | 94/139 [00:02<00:01, 34.07it/s]\n",
      "\u001b[A\n",
      " 73%|#######2  | 101/139 [00:02<00:00, 41.54it/s]\n",
      "\u001b[A\n",
      " 76%|#######6  | 106/139 [00:02<00:01, 31.06it/s]\n",
      "\u001b[A\n",
      " 81%|########  | 112/139 [00:03<00:00, 35.79it/s]\n",
      "\u001b[A\n",
      " 84%|########4 | 117/139 [00:03<00:00, 34.07it/s]\n",
      "\u001b[A\n",
      " 88%|########8 | 123/139 [00:03<00:00, 39.53it/s]\n",
      "\u001b[A\n",
      " 93%|#########2| 129/139 [00:03<00:00, 42.75it/s]\n",
      "\u001b[A\n",
      " 99%|#########8| 137/139 [00:03<00:00, 51.10it/s]\n",
      "\u001b[A\n",
      "100%|##########| 139/139 [00:03<00:00, 38.77it/s]\n"
     ]
    },
    {
     "name": "stdout",
     "output_type": "stream",
     "text": [
      "Stacking columns...                                                                                                     \n",
      "[Pipeline] ....... (step 1 of 3) Processing transformer, total=   2.3s                                                  \n",
      "[Pipeline] ...... (step 2 of 3) Processing maxabs_scale, total=   1.4s                                                  \n",
      "[Pipeline] ............. (step 3 of 3) Processing e_net, total=  47.8s                                                  \n",
      " 28%|███████████▊                              | 14/50 [1:35:09<4:09:43, 416.21s/trial, best loss: -0.18367728608164435]"
     ]
    },
    {
     "name": "stderr",
     "output_type": "stream",
     "text": [
      "/home/rogertu/projects/MechRepoNet/mrn_venv/lib/python3.8/site-packages/sklearn/linear_model/_sag.py:328: ConvergenceWarning: The max_iter was reached which means the coef_ did not converge\n",
      "  warnings.warn(\"The max_iter was reached which means \"\n",
      "\n"
     ]
    },
    {
     "name": "stdout",
     "output_type": "stream",
     "text": [
      "[Pipeline] ....... (step 1 of 3) Processing transformer, total=   2.2s                                                  \n",
      "[Pipeline] ...... (step 2 of 3) Processing maxabs_scale, total=   1.3s                                                  \n",
      "[Pipeline] ............. (step 3 of 3) Processing e_net, total=  49.7s                                                  \n",
      " 28%|███████████▊                              | 14/50 [1:36:03<4:09:43, 416.21s/trial, best loss: -0.18367728608164435]"
     ]
    },
    {
     "name": "stderr",
     "output_type": "stream",
     "text": [
      "/home/rogertu/projects/MechRepoNet/mrn_venv/lib/python3.8/site-packages/sklearn/linear_model/_sag.py:328: ConvergenceWarning: The max_iter was reached which means the coef_ did not converge\n",
      "  warnings.warn(\"The max_iter was reached which means \"\n",
      "\n"
     ]
    },
    {
     "name": "stdout",
     "output_type": "stream",
     "text": [
      "[Pipeline] ....... (step 1 of 3) Processing transformer, total=   2.5s                                                  \n",
      "[Pipeline] ...... (step 2 of 3) Processing maxabs_scale, total=   1.6s                                                  \n",
      "[Pipeline] ............. (step 3 of 3) Processing e_net, total=  51.9s                                                  \n",
      " 28%|███████████▊                              | 14/50 [1:37:00<4:09:43, 416.21s/trial, best loss: -0.18367728608164435]"
     ]
    },
    {
     "name": "stderr",
     "output_type": "stream",
     "text": [
      "/home/rogertu/projects/MechRepoNet/mrn_venv/lib/python3.8/site-packages/sklearn/linear_model/_sag.py:328: ConvergenceWarning: The max_iter was reached which means the coef_ did not converge\n",
      "  warnings.warn(\"The max_iter was reached which means \"\n",
      "\n"
     ]
    },
    {
     "name": "stdout",
     "output_type": "stream",
     "text": [
      "[Pipeline] ....... (step 1 of 3) Processing transformer, total=   2.7s                                                  \n",
      "[Pipeline] ...... (step 2 of 3) Processing maxabs_scale, total=   1.7s                                                  \n",
      "[Pipeline] ............. (step 3 of 3) Processing e_net, total=  52.1s                                                  \n",
      " 28%|███████████▊                              | 14/50 [1:37:57<4:09:43, 416.21s/trial, best loss: -0.18367728608164435]"
     ]
    },
    {
     "name": "stderr",
     "output_type": "stream",
     "text": [
      "/home/rogertu/projects/MechRepoNet/mrn_venv/lib/python3.8/site-packages/sklearn/linear_model/_sag.py:328: ConvergenceWarning: The max_iter was reached which means the coef_ did not converge\n",
      "  warnings.warn(\"The max_iter was reached which means \"\n",
      "\n"
     ]
    },
    {
     "name": "stdout",
     "output_type": "stream",
     "text": [
      "[Pipeline] ....... (step 1 of 3) Processing transformer, total=   2.3s                                                  \n",
      "[Pipeline] ...... (step 2 of 3) Processing maxabs_scale, total=   1.4s                                                  \n",
      "[Pipeline] ............. (step 3 of 3) Processing e_net, total=  47.3s                                                  \n",
      " 28%|███████████▊                              | 14/50 [1:38:49<4:09:43, 416.21s/trial, best loss: -0.18367728608164435]"
     ]
    },
    {
     "name": "stderr",
     "output_type": "stream",
     "text": [
      "/home/rogertu/projects/MechRepoNet/mrn_venv/lib/python3.8/site-packages/sklearn/linear_model/_sag.py:328: ConvergenceWarning: The max_iter was reached which means the coef_ did not converge\n",
      "  warnings.warn(\"The max_iter was reached which means \"\n",
      "\n"
     ]
    },
    {
     "name": "stdout",
     "output_type": "stream",
     "text": [
      "Mean AUROC: 0.6698                                                                                                      \n",
      "Mean Avg Pre: 0.0729                                                                                                    \n",
      "STD AUROC: 0.1042                                                                                                       \n",
      "STD Avg Pre: 0.0397                                                                                                     \n",
      "Loss: -0.1395                                                                                                           \n",
      "Changing w from 0.46736129420440065 to 0.8858719297287311. Please wait...                                               \n",
      " 30%|████████████▌                             | 15/50 [1:38:50<4:01:54, 414.69s/trial, best loss: -0.18367728608164435]"
     ]
    },
    {
     "name": "stderr",
     "output_type": "stream",
     "text": [
      "  0%|          | 0/68 [00:00<?, ?it/s]\n",
      "\u001b[A\n",
      "  1%|1         | 1/68 [00:00<00:10,  6.21it/s]\n",
      "\u001b[A\n",
      "  4%|4         | 3/68 [00:00<00:05, 11.71it/s]\n",
      "\u001b[A\n",
      " 35%|###5      | 24/68 [00:00<00:00, 86.41it/s]\n",
      "\u001b[A\n",
      " 56%|#####5    | 38/68 [00:00<00:00, 89.80it/s]\n",
      "\u001b[A\n",
      " 85%|########5 | 58/68 [00:00<00:00, 121.77it/s]\n",
      "\u001b[A\n",
      "100%|##########| 68/68 [00:00<00:00, 86.09it/s] \n"
     ]
    },
    {
     "name": "stdout",
     "output_type": "stream",
     "text": [
      "Preparing function arguments...                                                                                         \n",
      "Calculating DWPCs...                                                                                                    \n",
      " 30%|████████████▌                             | 15/50 [1:38:55<4:01:54, 414.69s/trial, best loss: -0.18367728608164435]"
     ]
    },
    {
     "name": "stderr",
     "output_type": "stream",
     "text": [
      "  0%|          | 0/139 [00:00<?, ?it/s]\n",
      "\u001b[A\n",
      "  1%|1         | 2/139 [00:00<00:10, 12.46it/s]\n",
      "\u001b[A\n",
      "  7%|7         | 10/139 [00:00<00:03, 42.50it/s]\n",
      "\u001b[A\n",
      " 11%|#         | 15/139 [00:00<00:02, 43.99it/s]\n",
      "\u001b[A\n",
      " 14%|#4        | 20/139 [00:00<00:03, 35.55it/s]\n",
      "\u001b[A\n",
      " 17%|#7        | 24/139 [00:00<00:03, 33.65it/s]\n",
      "\u001b[A\n",
      " 20%|##        | 28/139 [00:00<00:03, 30.50it/s]\n",
      "\u001b[A\n",
      " 26%|##5       | 36/139 [00:00<00:02, 42.08it/s]\n",
      "\u001b[A\n",
      " 29%|##9       | 41/139 [00:01<00:02, 34.94it/s]\n",
      "\u001b[A\n",
      " 37%|###6      | 51/139 [00:01<00:01, 48.83it/s]\n",
      "\u001b[A\n",
      " 41%|####1     | 57/139 [00:01<00:01, 47.72it/s]\n",
      "\u001b[A\n",
      " 45%|####5     | 63/139 [00:01<00:01, 46.87it/s]\n",
      "\u001b[A\n",
      " 50%|####9     | 69/139 [00:01<00:01, 49.64it/s]\n",
      "\u001b[A\n",
      " 54%|#####3    | 75/139 [00:01<00:01, 48.58it/s]\n",
      "\u001b[A\n",
      " 60%|######    | 84/139 [00:01<00:00, 56.33it/s]\n",
      "\u001b[A\n",
      " 65%|######4   | 90/139 [00:02<00:00, 55.31it/s]\n",
      "\u001b[A\n",
      " 71%|#######1  | 99/139 [00:02<00:00, 60.76it/s]\n",
      "\u001b[A\n",
      " 76%|#######6  | 106/139 [00:02<00:00, 57.39it/s]\n",
      "\u001b[A\n",
      " 81%|########1 | 113/139 [00:02<00:00, 56.63it/s]\n",
      "\u001b[A\n",
      " 86%|########6 | 120/139 [00:02<00:00, 59.56it/s]\n",
      "\u001b[A\n",
      " 91%|#########1| 127/139 [00:03<00:00, 24.57it/s]\n",
      "\u001b[A\n",
      " 95%|#########4| 132/139 [00:06<00:01,  5.98it/s]\n",
      "\u001b[A\n",
      " 95%|#########4| 132/139 [00:24<00:01,  5.98it/s]\n",
      "\u001b[A\n",
      " 98%|#########7| 136/139 [00:53<00:07,  2.64s/it]\n",
      "\u001b[A\n",
      " 99%|#########8| 137/139 [00:55<00:05,  2.58s/it]\n",
      "\u001b[A\n",
      " 99%|#########8| 137/139 [01:14<00:05,  2.58s/it]\n",
      "\u001b[A\n",
      "100%|##########| 139/139 [02:02<00:00,  7.65s/it]\n",
      "\u001b[A\n",
      "100%|##########| 139/139 [02:02<00:00,  1.14it/s]\n"
     ]
    },
    {
     "name": "stdout",
     "output_type": "stream",
     "text": [
      "                                                                                                                        \n",
      "Reshaping Result Matrices...\n",
      " 30%|████████████▌                             | 15/50 [1:41:00<4:01:54, 414.69s/trial, best loss: -0.18367728608164435]"
     ]
    },
    {
     "name": "stderr",
     "output_type": "stream",
     "text": [
      "  0%|          | 0/139 [00:00<?, ?it/s]\n",
      "\u001b[A\n",
      "  1%|          | 1/139 [00:00<00:14,  9.27it/s]\n",
      "\u001b[A\n",
      "  7%|7         | 10/139 [00:00<00:03, 37.66it/s]\n",
      "\u001b[A\n",
      " 12%|#2        | 17/139 [00:00<00:02, 48.81it/s]\n",
      "\u001b[A\n",
      " 16%|#5        | 22/139 [00:00<00:02, 45.15it/s]\n",
      "\u001b[A\n",
      " 20%|##        | 28/139 [00:00<00:02, 48.11it/s]\n",
      "\u001b[A\n",
      " 24%|##3       | 33/139 [00:00<00:02, 36.64it/s]\n",
      "\u001b[A\n",
      " 27%|##7       | 38/139 [00:00<00:02, 39.63it/s]\n",
      "\u001b[A\n",
      " 32%|###1      | 44/139 [00:01<00:02, 41.98it/s]\n",
      "\u001b[A\n",
      " 35%|###5      | 49/139 [00:01<00:02, 38.89it/s]\n",
      "\u001b[A\n",
      " 39%|###8      | 54/139 [00:01<00:02, 38.26it/s]\n",
      "\u001b[A\n",
      " 43%|####3     | 60/139 [00:01<00:02, 39.14it/s]\n",
      "\u001b[A\n",
      " 47%|####6     | 65/139 [00:01<00:02, 36.04it/s]\n",
      "\u001b[A\n",
      " 50%|####9     | 69/139 [00:01<00:02, 32.16it/s]\n",
      "\u001b[A\n",
      " 55%|#####4    | 76/139 [00:01<00:01, 38.10it/s]\n",
      "\u001b[A\n",
      " 58%|#####8    | 81/139 [00:02<00:01, 36.19it/s]\n",
      "\u001b[A\n",
      " 61%|######1   | 85/139 [00:02<00:01, 31.83it/s]\n",
      "\u001b[A\n",
      " 65%|######4   | 90/139 [00:02<00:01, 34.94it/s]\n",
      "\u001b[A\n",
      " 68%|######7   | 94/139 [00:02<00:01, 34.95it/s]\n",
      "\u001b[A\n",
      " 73%|#######2  | 101/139 [00:02<00:00, 42.23it/s]\n",
      "\u001b[A\n",
      " 76%|#######6  | 106/139 [00:02<00:01, 31.63it/s]\n",
      "\u001b[A\n",
      " 81%|########  | 112/139 [00:02<00:00, 36.67it/s]\n",
      "\u001b[A\n",
      " 84%|########4 | 117/139 [00:03<00:00, 35.25it/s]\n",
      "\u001b[A\n",
      " 88%|########8 | 123/139 [00:03<00:00, 40.49it/s]\n",
      "\u001b[A\n",
      " 93%|#########2| 129/139 [00:03<00:00, 43.77it/s]\n",
      "\u001b[A\n",
      " 99%|#########8| 137/139 [00:03<00:00, 52.25it/s]\n",
      "\u001b[A\n",
      "100%|##########| 139/139 [00:03<00:00, 39.70it/s]\n"
     ]
    },
    {
     "name": "stdout",
     "output_type": "stream",
     "text": [
      "Stacking columns...                                                                                                     \n",
      "[Pipeline] ....... (step 1 of 3) Processing transformer, total=   2.3s                                                  \n",
      "[Pipeline] ...... (step 2 of 3) Processing maxabs_scale, total=   1.4s                                                  \n",
      "[Pipeline] ............. (step 3 of 3) Processing e_net, total=  51.7s                                                  \n",
      "[Pipeline] ....... (step 1 of 3) Processing transformer, total=   2.2s                                                  \n",
      "[Pipeline] ...... (step 2 of 3) Processing maxabs_scale, total=   1.3s                                                  \n",
      " 30%|████████████▌                             | 15/50 [1:42:08<4:01:54, 414.69s/trial, best loss: -0.18367728608164435]"
     ]
    },
    {
     "name": "stderr",
     "output_type": "stream",
     "text": [
      "IOPub message rate exceeded.\n",
      "The notebook server will temporarily stop sending output\n",
      "to the client in order to avoid crashing it.\n",
      "To change this limit, set the config variable\n",
      "`--NotebookApp.iopub_msg_rate_limit`.\n",
      "\n",
      "Current values:\n",
      "NotebookApp.iopub_msg_rate_limit=1000.0 (msgs/sec)\n",
      "NotebookApp.rate_limit_window=3.0 (secs)\n",
      "\n"
     ]
    }
   ],
   "source": [
    "trials, best_param = hyperopt(param_hyperopt, y[train_index], 50)"
   ]
  },
  {
   "cell_type": "code",
   "execution_count": 34,
   "metadata": {},
   "outputs": [],
   "source": [
    "pickle.dump(best_param, open(out_dir.joinpath('best_param.pkl'), 'wb'))\n",
    "pickle.dump(trials, open(out_dir.joinpath('trials.pkl'), 'wb'))"
   ]
  },
  {
   "cell_type": "code",
   "execution_count": 35,
   "metadata": {},
   "outputs": [
    {
     "data": {
      "text/plain": [
       "{'C': 0.033729490904225834,\n",
       " 'l1_ratio': 0.1653172093468481,\n",
       " 'w': 0.5665616931869023}"
      ]
     },
     "execution_count": 35,
     "metadata": {},
     "output_type": "execute_result"
    }
   ],
   "source": [
    "best_param"
   ]
  },
  {
   "cell_type": "markdown",
   "metadata": {},
   "source": [
    "# Use the selected params to do the feature selection\n"
   ]
  },
  {
   "cell_type": "code",
   "execution_count": 36,
   "metadata": {},
   "outputs": [],
   "source": [
    "enet_params = {k: v for k, v in best_param.items() if k != 'w'}\n",
    "\n",
    "post_extraction_pipeline = Pipeline(\n",
    "    [('transformer', MeanScaledArcsinhTransformer()),\n",
    "     ('feature_selection', FeatureSelector(num_features=500, min_selections=4, n_jobs=30,\n",
    "                                           feature_names=to_xtract, always_keep=dmdb_feat,\n",
    "                                           random_state=4))], verbose=True)"
   ]
  },
  {
   "cell_type": "code",
   "execution_count": 37,
   "metadata": {},
   "outputs": [
    {
     "name": "stdout",
     "output_type": "stream",
     "text": [
      "Changing w from 0.7272580526994912 to 0.5665616931869023. Please wait...\n"
     ]
    },
    {
     "name": "stderr",
     "output_type": "stream",
     "text": [
      "100%|███████████████████████████████████████████████████████████████████████████████████| 68/68 [00:00<00:00, 90.54it/s]\n",
      "100%|██████████████████████████████████████████████████████████████████████████████████| 21/21 [39:01<00:00, 111.50s/it]\n"
     ]
    }
   ],
   "source": [
    "mg.update_w(best_param['w'])\n",
    "(a, b), dwpc = piecewise_extraction(function=mg.extract_dwpc, \n",
    "                                 to_split='metapaths', block_size=block_size,\n",
    "                                 axis=1,\n",
    "                                 metapaths=to_xtract, \n",
    "                                 start_nodes=list(keep_comps), \n",
    "                                 end_nodes=list(keep_dis),\n",
    "                                 return_sparse=True,\n",
    "                                 sparse_df=False,\n",
    "                                 n_jobs=30)"
   ]
  },
  {
   "cell_type": "code",
   "execution_count": 38,
   "metadata": {},
   "outputs": [
    {
     "name": "stdout",
     "output_type": "stream",
     "text": [
      "[Pipeline] ....... (step 1 of 2) Processing transformer, total=  30.8s\n",
      "Running Cor\n"
     ]
    },
    {
     "name": "stderr",
     "output_type": "stream",
     "text": [
      "/home/rogertu/projects/MechRepoNet/mrn_venv/lib/python3.8/site-packages/numpy/lib/function_base.py:2691: RuntimeWarning: invalid value encountered in true_divide\n",
      "  c /= stddev[:, None]\n",
      "/home/rogertu/projects/MechRepoNet/mrn_venv/lib/python3.8/site-packages/numpy/lib/function_base.py:2692: RuntimeWarning: invalid value encountered in true_divide\n",
      "  c /= stddev[None, :]\n"
     ]
    },
    {
     "name": "stdout",
     "output_type": "stream",
     "text": [
      "Running Chi2\n",
      "Running RFE\n",
      "Fitting estimator with 7012 features.\n",
      "Fitting estimator with 5610 features.\n",
      "Fitting estimator with 4208 features.\n",
      "Fitting estimator with 2806 features.\n",
      "Fitting estimator with 1404 features.\n",
      "Running LR\n",
      "Running RF\n",
      "Running XG\n"
     ]
    },
    {
     "name": "stderr",
     "output_type": "stream",
     "text": [
      "/home/rogertu/projects/MechRepoNet/mrn_venv/lib/python3.8/site-packages/xgboost/sklearn.py:1146: UserWarning: The use of label encoder in XGBClassifier is deprecated and will be removed in a future release. To remove this warning, do the following: 1) Pass option use_label_encoder=False when constructing XGBClassifier object; and 2) Encode your labels (y) as integers starting with 0, i.e. 0, 1, 2, ..., [num_class - 1].\n",
      "  warnings.warn(label_encoder_deprecation_msg, UserWarning)\n"
     ]
    },
    {
     "name": "stdout",
     "output_type": "stream",
     "text": [
      "[07:41:17] WARNING: ../src/learner.cc:1095: Starting in XGBoost 1.3.0, the default evaluation metric used with the objective 'binary:logistic' was changed from 'error' to 'logloss'. Explicitly set eval_metric if you'd like to restore the old behavior.\n",
      "[Pipeline] . (step 2 of 2) Processing feature_selection, total=23.3min\n"
     ]
    },
    {
     "name": "stderr",
     "output_type": "stream",
     "text": [
      "/home/rogertu/projects/MechRepoNet/mrn_venv/lib/python3.8/site-packages/numpy/core/fromnumeric.py:84: FutureWarning: Dropping of nuisance columns in DataFrame reductions (with 'numeric_only=None') is deprecated; in a future version this will raise TypeError.  Select only valid columns before calling the reduction.\n",
      "  return reduction(axis=axis, out=out, **passkwargs)\n"
     ]
    },
    {
     "data": {
      "text/plain": [
       "Pipeline(steps=[('transformer',\n",
       "                 <__main__.MeanScaledArcsinhTransformer object at 0x7fba61087670>),\n",
       "                ('feature_selection',\n",
       "                 FeatureSelector(always_keep={'CaBPawD', 'CaGitThiBPawD',\n",
       "                                              'CaGitTitBPawD', 'CaGnr>GnrBPawD',\n",
       "                                              'CaGnr>GpoBPawD',\n",
       "                                              'CaGnr>GprBPawD', 'CaGnr>GrxCmD',\n",
       "                                              'CaGnrBPawD', 'CaGnrBPpoCmD',\n",
       "                                              'CaGpoAcoBPawD', 'CaGpoApBPawD',\n",
       "                                              'CaGpoAsoD', 'CaGpoBPawD',\n",
       "                                              'CaGpoBPpoCmD'...\n",
       "                                                'CrGprBPpoGmD', 'CaGmPawPWdD',\n",
       "                                                'CaGpoGprCplD', 'CnrGnrCplD',\n",
       "                                                'CaGr>GnrCtD', 'CpoGr>GtPpsD',\n",
       "                                                'CprGnr>GnrBPawD', 'CinG<prGtD',\n",
       "                                                'CrxGr>GpoPWawD',\n",
       "                                                'CinG<rGnr>GmD',\n",
       "                                                'CpoGnrCprGawD',\n",
       "                                                'CnrG<rGnr>GawD',\n",
       "                                                'CrGpr>G<rGtD', 'CrGnrCaGmD',\n",
       "                                                'CafGawPmGawD', 'CinGpoCpvD',\n",
       "                                                'CinGr>GprBPawD', 'CinGawPmCmD',\n",
       "                                                'CinGnr>GawPpsD', ...],\n",
       "                                 n_jobs=30, num_features=500,\n",
       "                                 random_state=4))],\n",
       "         verbose=True)"
      ]
     },
     "execution_count": 38,
     "metadata": {},
     "output_type": "execute_result"
    }
   ],
   "source": [
    "post_extraction_pipeline.fit(dwpc[train_index], y[train_index])"
   ]
  },
  {
   "cell_type": "code",
   "execution_count": 39,
   "metadata": {},
   "outputs": [],
   "source": [
    "pe_feats = post_extraction_pipeline[1].keep_features_"
   ]
  },
  {
   "cell_type": "code",
   "execution_count": 40,
   "metadata": {},
   "outputs": [
    {
     "data": {
      "text/plain": [
       "(150, 139)"
      ]
     },
     "execution_count": 40,
     "metadata": {},
     "output_type": "execute_result"
    }
   ],
   "source": [
    "len(pe_feats), len(keep_features) "
   ]
  },
  {
   "cell_type": "code",
   "execution_count": 41,
   "metadata": {},
   "outputs": [
    {
     "data": {
      "text/plain": [
       "45"
      ]
     },
     "execution_count": 41,
     "metadata": {},
     "output_type": "execute_result"
    }
   ],
   "source": [
    "len(set(keep_features) - set(pe_feats))"
   ]
  },
  {
   "cell_type": "code",
   "execution_count": 42,
   "metadata": {},
   "outputs": [],
   "source": [
    "feat_df = post_extraction_pipeline[1].feature_selection_df_\n",
    "feat_df.sort_values('total', ascending=False).to_csv(out_dir.joinpath('feature_selection_df.csv'), index=False)"
   ]
  },
  {
   "cell_type": "code",
   "execution_count": 43,
   "metadata": {},
   "outputs": [],
   "source": [
    "pickle.dump(post_extraction_pipeline[1], open(out_dir.joinpath('feature_selector.pkl'), 'wb'))\n",
    "pd.Series(post_extraction_pipeline[1].keep_features_).to_csv(out_dir.joinpath('kept_features.txt'), index=False)"
   ]
  },
  {
   "cell_type": "code",
   "execution_count": 44,
   "metadata": {},
   "outputs": [
    {
     "name": "stdout",
     "output_type": "stream",
     "text": [
      "Preparing function arguments...\n",
      "Calculating DWPCs...\n"
     ]
    },
    {
     "name": "stderr",
     "output_type": "stream",
     "text": [
      "100%|█████████████████████████████████████████████████████████████████████████████████| 150/150 [02:06<00:00,  1.18it/s]\n"
     ]
    },
    {
     "name": "stdout",
     "output_type": "stream",
     "text": [
      "\n",
      "Reshaping Result Matrices...\n"
     ]
    },
    {
     "name": "stderr",
     "output_type": "stream",
     "text": [
      "100%|█████████████████████████████████████████████████████████████████████████████████| 150/150 [00:03<00:00, 45.94it/s]\n"
     ]
    },
    {
     "name": "stdout",
     "output_type": "stream",
     "text": [
      "Stacking columns...\n"
     ]
    }
   ],
   "source": [
    "enet_params = {k: v for k, v in best_param.items() if k != 'w'}\n",
    "\n",
    "\n",
    "# Set up the post feature extraction pipeline\n",
    "post_extraction_pipeline = Pipeline(\n",
    "    [('transformer', MeanScaledArcsinhTransformer()),\n",
    "     ('maxabs_scale', MaxAbsScaler()),\n",
    "     ('e_net', LogisticRegression(penalty='elasticnet', solver='saga', max_iter=100, **enet_params,\n",
    "                                  random_state=rs+6))], verbose=True)\n",
    "\n",
    "## Get the dwpc information for the current pairs\n",
    "(stuff), dwpc = mg.extract_dwpc(metapaths=pe_feats, \n",
    "                                start_nodes=list(keep_comps), \n",
    "                                end_nodes=list(keep_dis),\n",
    "                                return_sparse=True,\n",
    "                                sparse_df=False,\n",
    "                                n_jobs=30)"
   ]
  },
  {
   "cell_type": "code",
   "execution_count": 45,
   "metadata": {},
   "outputs": [],
   "source": [
    "this_dwpc = dwpc[train_index]\n",
    "this_y = y[train_index]"
   ]
  },
  {
   "cell_type": "code",
   "execution_count": 46,
   "metadata": {},
   "outputs": [
    {
     "name": "stdout",
     "output_type": "stream",
     "text": [
      "[Pipeline] ....... (step 1 of 3) Processing transformer, total=   2.3s\n",
      "[Pipeline] ...... (step 2 of 3) Processing maxabs_scale, total=   1.3s\n"
     ]
    },
    {
     "name": "stderr",
     "output_type": "stream",
     "text": [
      "/home/rogertu/projects/MechRepoNet/mrn_venv/lib/python3.8/site-packages/sklearn/linear_model/_sag.py:328: ConvergenceWarning: The max_iter was reached which means the coef_ did not converge\n",
      "  warnings.warn(\"The max_iter was reached which means \"\n"
     ]
    },
    {
     "name": "stdout",
     "output_type": "stream",
     "text": [
      "[Pipeline] ............. (step 3 of 3) Processing e_net, total= 1.2min\n",
      "[Pipeline] ....... (step 1 of 3) Processing transformer, total=   2.2s\n",
      "[Pipeline] ...... (step 2 of 3) Processing maxabs_scale, total=   1.3s\n"
     ]
    },
    {
     "name": "stderr",
     "output_type": "stream",
     "text": [
      "/home/rogertu/projects/MechRepoNet/mrn_venv/lib/python3.8/site-packages/sklearn/linear_model/_sag.py:328: ConvergenceWarning: The max_iter was reached which means the coef_ did not converge\n",
      "  warnings.warn(\"The max_iter was reached which means \"\n"
     ]
    },
    {
     "name": "stdout",
     "output_type": "stream",
     "text": [
      "[Pipeline] ............. (step 3 of 3) Processing e_net, total= 1.2min\n",
      "[Pipeline] ....... (step 1 of 3) Processing transformer, total=   2.6s\n",
      "[Pipeline] ...... (step 2 of 3) Processing maxabs_scale, total=   1.4s\n",
      "[Pipeline] ............. (step 3 of 3) Processing e_net, total= 1.2min\n",
      "[Pipeline] ....... (step 1 of 3) Processing transformer, total=   2.8s\n",
      "[Pipeline] ...... (step 2 of 3) Processing maxabs_scale, total=   1.6s\n",
      "[Pipeline] ............. (step 3 of 3) Processing e_net, total= 1.2min\n",
      "[Pipeline] ....... (step 1 of 3) Processing transformer, total=   2.4s\n",
      "[Pipeline] ...... (step 2 of 3) Processing maxabs_scale, total=   1.4s\n"
     ]
    },
    {
     "name": "stderr",
     "output_type": "stream",
     "text": [
      "/home/rogertu/projects/MechRepoNet/mrn_venv/lib/python3.8/site-packages/sklearn/linear_model/_sag.py:328: ConvergenceWarning: The max_iter was reached which means the coef_ did not converge\n",
      "  warnings.warn(\"The max_iter was reached which means \"\n"
     ]
    },
    {
     "name": "stdout",
     "output_type": "stream",
     "text": [
      "[Pipeline] ............. (step 3 of 3) Processing e_net, total= 1.2min\n"
     ]
    }
   ],
   "source": [
    "cv = cross_validate(post_extraction_pipeline, this_dwpc, this_y, cv=5, \n",
    "                    scoring=['average_precision', 'roc_auc'], return_estimator=True)\n",
    "\n",
    "auroc_mean = cv['test_roc_auc'].mean()\n",
    "avg_pre_mean = cv['test_average_precision'].mean()\n",
    "auroc_std = cv['test_roc_auc'].std()\n",
    "avg_pre_std = cv['test_average_precision'].std()\n",
    "\n",
    "score = calc_loss(auroc_mean, avg_pre_mean, auroc_std, avg_pre_std)"
   ]
  },
  {
   "cell_type": "code",
   "execution_count": 47,
   "metadata": {},
   "outputs": [
    {
     "name": "stdout",
     "output_type": "stream",
     "text": [
      "AUROC Scores: 0.7391, 0.7123, 0.7825, 0.7241, 0.5896, \n",
      "Mean AUROC: 0.7095\n",
      "Avg Pre. Scores: 0.0820, 0.0586, 0.1037, 0.1333, 0.0462, \n",
      "Mean Avg Pre: 0.0847\n",
      "STD AUROC: 0.0645\n",
      "STD Avg Pre: 0.0313\n",
      "Loss: -0.1845\n"
     ]
    }
   ],
   "source": [
    "print(('AUROC Scores: '+5*'{:1.4f}, ').format(*cv['test_roc_auc'].tolist()))\n",
    "print('Mean AUROC: {:1.4f}'.format(auroc_mean))\n",
    "print(('Avg Pre. Scores: '+5*'{:1.4f}, ').format(*cv['test_average_precision'].tolist()))\n",
    "print('Mean Avg Pre: {:1.4f}'.format(avg_pre_mean))\n",
    "print('STD AUROC: {:1.4f}'.format(auroc_std))\n",
    "print('STD Avg Pre: {:1.4f}'.format(avg_pre_std))\n",
    "print('Loss: {:1.4f}'.format(score))"
   ]
  }
 ],
 "metadata": {
  "kernelspec": {
   "display_name": "Python 3 (ipykernel)",
   "language": "python",
   "name": "python3"
  },
  "language_info": {
   "codemirror_mode": {
    "name": "ipython",
    "version": 3
   },
   "file_extension": ".py",
   "mimetype": "text/x-python",
   "name": "python",
   "nbconvert_exporter": "python",
   "pygments_lexer": "ipython3",
   "version": "3.8.5"
  }
 },
 "nbformat": 4,
 "nbformat_minor": 2
}

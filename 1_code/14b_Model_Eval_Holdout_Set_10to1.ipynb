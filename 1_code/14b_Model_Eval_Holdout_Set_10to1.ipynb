{
 "cells": [
  {
   "cell_type": "code",
   "execution_count": 1,
   "metadata": {},
   "outputs": [
    {
     "name": "stderr",
     "output_type": "stream",
     "text": [
      "/home/rogertu/projects/MechRepoNet/mrn_venv/lib/python3.8/site-packages/data_tools/df_processing.py:4: TqdmExperimentalWarning: Using `tqdm.autonotebook.tqdm` in notebook mode. Use `tqdm.tqdm` instead to force console mode (e.g. in jupyter console)\n",
      "  from tqdm.autonotebook import tqdm\n"
     ]
    }
   ],
   "source": [
    "import os\n",
    "import pickle\n",
    "import numpy as np\n",
    "import pandas as pd\n",
    "from time import time\n",
    "from pathlib import Path\n",
    "from tqdm.notebook import tqdm\n",
    "import data_tools.graphs as gt\n",
    "from hetnet_ml.extractor import MatrixFormattedGraph, piecewise_extraction"
   ]
  },
  {
   "cell_type": "code",
   "execution_count": 2,
   "metadata": {
    "scrolled": false
   },
   "outputs": [],
   "source": [
    "load_dir = Path('../2_pipeline').resolve()\n",
    "\n",
    "hyp_name = next(filter(lambda d: d.startswith('13c') and d.endswith('10to1'), os.listdir(os.path.join(load_dir,'test_ratio'))))\n",
    "prep_name = next(filter(lambda d: d.startswith('13b'), os.listdir(load_dir)))\n",
    "nw_name = next(filter(lambda d: d.startswith('13a'), os.listdir(load_dir)))\n",
    "\n",
    "nw_dir = load_dir.joinpath(nw_name, 'out')\n",
    "prep_dir = load_dir.joinpath(prep_name, 'out')\n",
    "hyp_dir = load_dir.joinpath('test_ratio',hyp_name, 'out')"
   ]
  },
  {
   "cell_type": "code",
   "execution_count": 3,
   "metadata": {},
   "outputs": [],
   "source": [
    "this_name = '14b_Model_Eval_Holdout_Set_10to1'\n",
    "out_dir = load_dir.joinpath(this_name, 'out')\n",
    "out_dir.mkdir(parents=True, exist_ok=True)"
   ]
  },
  {
   "cell_type": "code",
   "execution_count": 4,
   "metadata": {},
   "outputs": [
    {
     "name": "stdout",
     "output_type": "stream",
     "text": [
      "250,035 Nodes\n",
      "9,638,511 Edges\n",
      "CPU times: user 25.7 s, sys: 5.06 s, total: 30.8 s\n",
      "Wall time: 46.3 s\n"
     ]
    }
   ],
   "source": [
    "%%time\n",
    "nodes = gt.remove_colons(pd.read_csv(nw_dir.joinpath('nodes.csv'), dtype=str))\n",
    "edges = gt.remove_colons(pd.read_csv(nw_dir.joinpath('edges.csv'), dtype=str))\n",
    "\n",
    "print('{:,} Nodes'.format(len(nodes)))\n",
    "print('{:,} Edges'.format(len(edges)))"
   ]
  },
  {
   "cell_type": "code",
   "execution_count": 5,
   "metadata": {},
   "outputs": [
    {
     "data": {
      "text/plain": [
       "{'C': 0.13912362433541536,\n",
       " 'l1_ratio': 0.5489902557005799,\n",
       " 'w': 0.8604135949722}"
      ]
     },
     "execution_count": 5,
     "metadata": {},
     "output_type": "execute_result"
    }
   ],
   "source": [
    "best_param = pickle.load(open(hyp_dir.joinpath('best_param.pkl'), 'rb'))\n",
    "best_param"
   ]
  },
  {
   "cell_type": "markdown",
   "metadata": {},
   "source": [
    "## Routine for extracting information"
   ]
  },
  {
   "cell_type": "code",
   "execution_count": 6,
   "metadata": {},
   "outputs": [
    {
     "name": "stdout",
     "output_type": "stream",
     "text": [
      "Processing node and edge data...\n",
      "Initializing metagraph...\n",
      "Generating adjacency matrices...\n"
     ]
    },
    {
     "name": "stderr",
     "output_type": "stream",
     "text": [
      "100%|███████████████████████████████████████████████████████████████████████████████████| 68/68 [01:12<00:00,  1.07s/it]\n"
     ]
    },
    {
     "name": "stdout",
     "output_type": "stream",
     "text": [
      "\n",
      "Determining degrees for each node and metaedge\n"
     ]
    },
    {
     "name": "stderr",
     "output_type": "stream",
     "text": [
      "100%|███████████████████████████████████████████████████████████████████████████████████| 68/68 [00:35<00:00,  1.89it/s]\n"
     ]
    },
    {
     "name": "stdout",
     "output_type": "stream",
     "text": [
      "\n",
      "Weighting matrices by degree with dampening factor 0.8604135949722...\n"
     ]
    },
    {
     "name": "stderr",
     "output_type": "stream",
     "text": [
      "100%|███████████████████████████████████████████████████████████████████████████████████| 68/68 [00:00<00:00, 92.69it/s]\n"
     ]
    },
    {
     "name": "stdout",
     "output_type": "stream",
     "text": [
      "CPU times: user 45.1 s, sys: 14 s, total: 59.1 s\n",
      "Wall time: 2min 49s\n"
     ]
    }
   ],
   "source": [
    "%%time\n",
    "mg = MatrixFormattedGraph(nodes, edges, 'ChemicalSubstance', 'Disease', max_length=4, w=best_param['w'], n_jobs=32)"
   ]
  },
  {
   "cell_type": "markdown",
   "metadata": {},
   "source": [
    "#### Right away lets get the true positives as we will need them later"
   ]
  },
  {
   "cell_type": "code",
   "execution_count": 7,
   "metadata": {},
   "outputs": [],
   "source": [
    "pos_tups = (mg.edge_df.query('type == \"treats_CtD\"')[['start_id', 'end_id']]\n",
    "                      .apply(tuple, axis=1)\n",
    "                      .tolist())\n",
    "pos_tups = set(pos_tups)"
   ]
  },
  {
   "cell_type": "markdown",
   "metadata": {},
   "source": [
    "## Ideal Training Subset\n",
    "\n",
    "Ideally we need all compounds and diseases associated with training positives, as well as some negatives."
   ]
  },
  {
   "cell_type": "code",
   "execution_count": 8,
   "metadata": {},
   "outputs": [],
   "source": [
    "float_size = 32 # bits\n",
    "bits_per_gb = 8589934592\n",
    "\n",
    "def print_mem_info(n_comp, n_dis, n_mps):\n",
    "    print(\"{:,} Compounds * {:,} Diseases = {:,} C-D Pairs\".format(n_comp, n_dis,\n",
    "                                                                   n_comp * n_dis))\n",
    "    print(\"{:,} C-D Pairs * {:,} Metapaths = {:,} Matrix Values\".format(n_comp * n_dis,\n",
    "                                                                    n_mps, \n",
    "                                                                    n_comp * n_dis * n_mps))\n",
    "\n",
    "    print('{:1,.1f} GB of matrix values'.format(n_comp * n_dis * n_mps * float_size / (bits_per_gb)))\n",
    "    \n",
    "    print('{:1,.3f} GB per metapath'.format(n_comp * n_dis * float_size / (bits_per_gb)))"
   ]
  },
  {
   "cell_type": "code",
   "execution_count": 9,
   "metadata": {},
   "outputs": [],
   "source": [
    "ref_c = nodes.dropna(subset=['source'])['id'].tolist()"
   ]
  },
  {
   "cell_type": "code",
   "execution_count": 10,
   "metadata": {},
   "outputs": [],
   "source": [
    "neg_frac = 0.1\n",
    "rs = 20200225\n",
    "\n",
    "treat_comps = set(edges.query('type == \"treats_CtD\"')['start_id'])\n",
    "# Sample the negatives and subsample, but not Reframe negatvies... keep them as 'Unknown'\n",
    "keep_comps = set(nodes.query('id not in @treat_comps and id not in @ref_c and label == \"ChemicalSubstance\"')\n",
    "                                    .sample(frac=neg_frac, random_state=rs)['id'])\n",
    "# Merge togetehr\n",
    "keep_comps = sorted(list(keep_comps | treat_comps))\n",
    "\n",
    "treat_dis = set(edges.query('type == \"treats_CtD\"')['end_id'])\n",
    "# Sample the negatives \n",
    "keep_dis = set(nodes.query('label == \"Disease\" and id not in @treat_dis')\n",
    "                    .sample(frac=neg_frac, random_state=rs+1)['id'])\n",
    "# Merge together\n",
    "keep_dis = sorted(list(keep_dis | treat_dis))"
   ]
  },
  {
   "cell_type": "code",
   "execution_count": 11,
   "metadata": {},
   "outputs": [],
   "source": [
    "mp_counts = pd.read_csv(prep_dir.joinpath('all_mp_counts.csv'))\n",
    "mp_qr = mp_counts.query('subset == \"all_pairs\" and sim_mp == False and pair_count > 0')\n",
    "mp_to_extract = mp_qr['mp'].tolist()\n",
    "\n",
    "mech_mps = pd.read_csv('../0_data/manual/mech_mps.txt', header=None)[0].values\n",
    "dmdb_feat = mp_counts.query('mp in @mech_mps and subset == \"all_pairs\" and pair_count > 0')['mp'].unique().tolist()"
   ]
  },
  {
   "cell_type": "code",
   "execution_count": 12,
   "metadata": {},
   "outputs": [
    {
     "name": "stdout",
     "output_type": "stream",
     "text": [
      "11,962 Compounds * 6,190 Diseases = 74,044,780 C-D Pairs\n",
      "74,044,780 C-D Pairs * 7,012 Metapaths = 519,201,997,360 Matrix Values\n",
      "1,934.2 GB of matrix values\n",
      "0.276 GB per metapath\n"
     ]
    }
   ],
   "source": [
    "print_mem_info(len(keep_comps), len(keep_dis), len(mp_to_extract))"
   ]
  },
  {
   "cell_type": "code",
   "execution_count": 13,
   "metadata": {},
   "outputs": [],
   "source": [
    "def display_time(seconds):\n",
    "    result = []\n",
    "    \n",
    "    intervals = (\n",
    "    ('weeks', 604800),  # 60 * 60 * 24 * 7\n",
    "    ('days', 86400),    # 60 * 60 * 24\n",
    "    ('hours', 3600),    # 60 * 60\n",
    "    ('minutes', 60),\n",
    "    ('seconds', 1),\n",
    "    )\n",
    "\n",
    "\n",
    "    for name, count in intervals:\n",
    "        value = seconds // count\n",
    "        if value:\n",
    "            seconds -= value * count\n",
    "            if value == 1:\n",
    "                name = name.rstrip('s')\n",
    "            result.append(\"{:1.0f} {}\".format(value, name))\n",
    "    return ', '.join(result)"
   ]
  },
  {
   "cell_type": "code",
   "execution_count": 14,
   "metadata": {},
   "outputs": [],
   "source": [
    "def sort_mps_for_pw_extraction(n_big_calcs, big_per_block):\n",
    "    \n",
    "    big_mp = mp_qr.sort_values('frac', ascending=False).head(n_big_calcs)['mp'].tolist()\n",
    "    other_mp = list(set(mp_to_extract) - set(big_mp))\n",
    "\n",
    "    block_size = len(other_mp) // (len(big_mp) // big_per_block)\n",
    "    n_blocks = ((len(big_mp) + len(other_mp)) // block_size)\n",
    "\n",
    "    out = []\n",
    "    for i in range(n_blocks):\n",
    "        for j in range(big_per_block):\n",
    "            idx = i*big_per_block + j\n",
    "            out.append(big_mp[idx])\n",
    "        out += other_mp[i*block_size:(i+1)*block_size] \n",
    "        \n",
    "    out += list(set(other_mp) - set(out))    \n",
    "    \n",
    "    return out, block_size"
   ]
  },
  {
   "cell_type": "code",
   "execution_count": 15,
   "metadata": {},
   "outputs": [],
   "source": [
    "mp_to_extract, block_size = sort_mps_for_pw_extraction(30, 5)"
   ]
  },
  {
   "cell_type": "code",
   "execution_count": 16,
   "metadata": {
    "scrolled": true
   },
   "outputs": [
    {
     "data": {
      "text/plain": [
       "(7012, 1163)"
      ]
     },
     "execution_count": 16,
     "metadata": {},
     "output_type": "execute_result"
    }
   ],
   "source": [
    "len(mp_to_extract), block_size"
   ]
  },
  {
   "cell_type": "markdown",
   "metadata": {},
   "source": [
    "# Build the CV Pipeline\n",
    "\n",
    "Bring in the functions needed for quick processing"
   ]
  },
  {
   "cell_type": "code",
   "execution_count": 17,
   "metadata": {},
   "outputs": [],
   "source": [
    "from scipy.sparse import issparse, csc_matrix, csr_matrix\n",
    "\n",
    "from data_tools.ml import get_model_coefs, MeanScaledArcsinhTransformer\n",
    "\n",
    "from sklearn.pipeline import Pipeline\n",
    "from sklearn.preprocessing import MaxAbsScaler\n",
    "from sklearn.model_selection import cross_validate, StratifiedKFold\n",
    "from sklearn.linear_model import LogisticRegression\n",
    "from sklearn.ensemble import RandomForestClassifier\n",
    "from sklearn.base import BaseEstimator, TransformerMixin\n",
    "from sklearn.feature_selection import SelectKBest, chi2, RFE, SelectFromModel\n",
    "from sklearn.metrics import roc_auc_score, average_precision_score\n",
    "\n",
    "from xgboost import XGBClassifier"
   ]
  },
  {
   "cell_type": "code",
   "execution_count": 18,
   "metadata": {},
   "outputs": [],
   "source": [
    "def cor_selector(X, y, feature_names, num_feats):\n",
    "    cor_list = []\n",
    "    # calculate the correlation with y for each feature\n",
    "    for i in range(X.shape[1]):\n",
    "        if issparse(X):\n",
    "            x = X[:, i].A.reshape(len(y))\n",
    "        else:\n",
    "            x = X[:, i]\n",
    "        cor = np.corrcoef(x, y)[0, 1]\n",
    "        cor_list.append(cor)\n",
    "    # replace NaN with 0\n",
    "    cor_list = [0 if np.isnan(i) else i for i in cor_list]\n",
    "    # feature name\n",
    "    cor_feature = np.array(feature_names)[np.argsort(np.abs(cor_list))[-num_feats:].tolist()].tolist()    \n",
    "    # feature selection? 0 for not select, 1 for select\n",
    "    return [True if i in cor_feature else False for i in feature_names]\n",
    "\n",
    "def chi2_selector(X, y, num_feats):\n",
    "    this_selector = SelectKBest(chi2, k=num_feats)\n",
    "    this_selector.fit(X, y)\n",
    "    return this_selector.get_support()\n",
    "\n",
    "def rfe_selector(X, y, num_feats, random_state=None):\n",
    "    this_selector = RFE(estimator=LogisticRegression(C=.1, solver='liblinear', random_state=random_state), \n",
    "                        n_features_to_select=num_feats, step=.2, verbose=5)\n",
    "    this_selector.fit(X, y)\n",
    "    return this_selector.get_support()\n",
    "\n",
    "def embeded_lr_selector(X, y, num_feats, random_state=None):\n",
    "    this_selector = SelectFromModel(LogisticRegression(penalty=\"l1\", solver='liblinear', random_state=random_state), \n",
    "                                    max_features=num_feats)\n",
    "    this_selector.fit(X, y)\n",
    "\n",
    "    return this_selector.get_support()\n",
    "\n",
    "def embeded_rf_selector(X, y, num_feats, n_jobs, random_state=None):\n",
    "    rfc = RandomForestClassifier(n_estimators=100, max_depth=50, n_jobs=n_jobs, random_state=random_state)\n",
    "    this_selector = SelectFromModel(rfc, max_features=num_feats)\n",
    "    this_selector.fit(X, y)\n",
    "    return this_selector.get_support()\n",
    "\n",
    "def embeded_xgb_selector(X, y, num_feats, n_jobs=1, random_state=None):\n",
    "    # XGBoost takes 0 as default random state\n",
    "    if random_state is None:\n",
    "        random_state = 0\n",
    "    # Paramaters optimized for speed, rather than accuracy (as we have 5 other estimators also providing votes)\n",
    "    xgbc = XGBClassifier(max_depth=5, n_estimators=200, learning_rate=.16, min_child_weight=1, colsample_bytree=.8,\n",
    "                         n_jobs=n_jobs, random_state=random_state)\n",
    "    this_selector = SelectFromModel(xgbc, max_features=num_feats)\n",
    "    this_selector.fit(X, y)\n",
    "    return this_selector.get_support()\n",
    "\n",
    "\n",
    "class FeatureSelector(BaseEstimator, TransformerMixin):\n",
    "    \n",
    "    def __init__(self, num_features=100, min_selections=4, n_jobs=1, feature_names=None, always_keep=None,\n",
    "                 random_state=None):\n",
    "        self.num_features = num_features\n",
    "        self.min_selections = min_selections\n",
    "        self.n_jobs = n_jobs\n",
    "        self.feature_names = feature_names\n",
    "        self.always_keep = always_keep\n",
    "        self.random_state = random_state\n",
    "        \n",
    "    def fit(self, X, y=None):\n",
    "                \n",
    "        X_norm = MaxAbsScaler().fit_transform(X)\n",
    "        if issparse(X):\n",
    "            if type(X) != csc_matrix:\n",
    "                X = X.tocsc()\n",
    "            X_norm = X_norm.tocsc()\n",
    "        \n",
    "        print('Running Cor')\n",
    "        cor_support = cor_selector(X, y, self.feature_names, self.num_features)\n",
    "        print('Running Chi2')\n",
    "        chi_support = chi2_selector(X_norm, y, self.num_features)\n",
    "        print('Running RFE')\n",
    "        rfe_support = rfe_selector(X_norm, y, self.num_features, self.random_state)\n",
    "        print('Running LR')\n",
    "        embeded_lr_support = embeded_lr_selector(X_norm, y, self.num_features, self.random_state)\n",
    "        print('Running RF')\n",
    "        embeded_rf_support = embeded_rf_selector(X, y, self.num_features, \n",
    "                                                 n_jobs=self.n_jobs, random_state=self.random_state)\n",
    "        print('Running XG')\n",
    "        embeded_xgb_support = embeded_xgb_selector(X, y, self.num_features, \n",
    "                                                   n_jobs=self.n_jobs, random_state=self.random_state)\n",
    "        \n",
    "        feature_selection_df = pd.DataFrame({'feature':self.feature_names, 'pearson':cor_support, 'chi_2':chi_support, \n",
    "                                             'rfe':rfe_support, 'logistics':embeded_lr_support,\n",
    "                                             'random_forest':embeded_rf_support, 'xgboost':embeded_xgb_support})  \n",
    "\n",
    "        feature_selection_df['total'] = np.sum(feature_selection_df, axis=1)\n",
    "        self.feature_selection_df_ = feature_selection_df\n",
    "        \n",
    "        keep_features = feature_selection_df.query('total >= {}'.format(self.min_selections))['feature'].tolist()\n",
    "        \n",
    "        # Keep the features that we always want (e.g. domain expertise)\n",
    "        if self.always_keep is not None:\n",
    "            keep_features.extend(self.always_keep)\n",
    "        \n",
    "        self.keep_features_ = [f for f in self.feature_names if f in keep_features]\n",
    "        \n",
    "        return self\n",
    "    \n",
    "    def transform(self, X, y=None):\n",
    "        \n",
    "        if issparse(X) and type(X) != csc_matrix:\n",
    "            X = X.tocsc()\n",
    "        return X[:, [i for i, f in enumerate(self.feature_names) if f in self.keep_features_]]"
   ]
  },
  {
   "cell_type": "code",
   "execution_count": 19,
   "metadata": {},
   "outputs": [],
   "source": [
    "fs = pickle.load(open(hyp_dir.joinpath('feature_selector.pkl'), 'rb'))\n",
    "mp_to_extract = list(set(fs.keep_features_) | set(dmdb_feat))"
   ]
  },
  {
   "cell_type": "code",
   "execution_count": 20,
   "metadata": {},
   "outputs": [],
   "source": [
    "enet_params = {k: v for k, v in best_param.items() if k != 'w'}\n",
    "\n",
    "post_extraction_pipeline = Pipeline(\n",
    "    [('transformer', MeanScaledArcsinhTransformer()),\n",
    "     ('maxabs_scale', MaxAbsScaler()),\n",
    "     ('e_net', LogisticRegression(penalty='elasticnet', solver='saga', max_iter=1000, **enet_params))], verbose=True)"
   ]
  },
  {
   "cell_type": "code",
   "execution_count": 21,
   "metadata": {},
   "outputs": [],
   "source": [
    "keep_comps = np.array(keep_comps)"
   ]
  },
  {
   "cell_type": "code",
   "execution_count": 22,
   "metadata": {
    "scrolled": false
   },
   "outputs": [
    {
     "name": "stdout",
     "output_type": "stream",
     "text": [
      "Preparing function arguments...\n",
      "Calculating DWPCs...\n"
     ]
    },
    {
     "name": "stderr",
     "output_type": "stream",
     "text": [
      "100%|█████████████████████████████████████████████████████████████████████████████████| 177/177 [07:10<00:00,  2.43s/it]\n"
     ]
    },
    {
     "name": "stdout",
     "output_type": "stream",
     "text": [
      "\n",
      "Reshaping Result Matrices...\n"
     ]
    },
    {
     "name": "stderr",
     "output_type": "stream",
     "text": [
      "100%|█████████████████████████████████████████████████████████████████████████████████| 177/177 [01:26<00:00,  2.06it/s]\n"
     ]
    },
    {
     "name": "stdout",
     "output_type": "stream",
     "text": [
      "Stacking columns...\n",
      "Shaping Matricies...\n",
      "Getting Target Values\n"
     ]
    },
    {
     "data": {
      "application/vnd.jupyter.widget-view+json": {
       "model_id": "998eed8c892c493187212f800c27c7e3",
       "version_major": 2,
       "version_minor": 0
      },
      "text/plain": [
       "  0%|          | 0/74044780 [00:00<?, ?it/s]"
      ]
     },
     "metadata": {},
     "output_type": "display_data"
    },
    {
     "name": "stdout",
     "output_type": "stream",
     "text": [
      "Training Model\n",
      "[Pipeline] ....... (step 1 of 3) Processing transformer, total=   2.9s\n",
      "[Pipeline] ...... (step 2 of 3) Processing maxabs_scale, total=   0.2s\n",
      "[Pipeline] ............. (step 3 of 3) Processing e_net, total=  16.7s\n",
      "Getting Model Coef\n",
      "Training took: 15 minutes, 43 seconds\n",
      "\n",
      "\n",
      "\n",
      "CPU times: user 6min 39s, sys: 2min 24s, total: 9min 3s\n",
      "Wall time: 15min 43s\n"
     ]
    }
   ],
   "source": [
    "%%time\n",
    "\n",
    "start = time()\n",
    "\n",
    "(pairs, out_mp), dwpc = mg.extract_dwpc(metapaths=mp_to_extract, start_nodes=keep_comps, end_nodes=keep_dis, \n",
    "                   return_sparse=True, sparse_df=False, verbose=True, n_jobs=30)\n",
    "# Split the Training and Testing\n",
    "print('Shaping Matricies...')\n",
    "dwpc = dwpc.tocoo().tocsr()\n",
    "\n",
    "print('Getting Target Values')\n",
    "y = []\n",
    "for row in tqdm(pairs.itertuples(), total=len(pairs)):\n",
    "    # pos_tups defined several cells above\n",
    "    if set([(row.chemicalsubstance_id, row.disease_id)]) & pos_tups:\n",
    "        y.append(1)\n",
    "    else:\n",
    "        y.append(0)\n",
    "        \n",
    "y = np.array(y)\n",
    "pairs['status'] = y\n",
    "\n",
    "# subset so that we're training only with nonzero dwpc rows\n",
    "# Get the training examples that have metapaths\n",
    "nz_index = pairs[dwpc.getnnz(1)>0].index\n",
    "# have the number of postivies to get 100x this for the negatives.\n",
    "n_pos = pairs['status'].sum()\n",
    "# Sample the nonzero negative examples at a rate of 100x the positive samples\n",
    "neg_index = pairs.loc[nz_index].query('status == 0').sample(n=10*n_pos, random_state=rs+10).sort_index().index\n",
    "# and of course take the training postivies\n",
    "pos_index = pairs.query('status == 1').index\n",
    "# Union the two\n",
    "train_index = pos_index.union(neg_index)\n",
    "\n",
    "        \n",
    "# Fit the model and get results\n",
    "print('Training Model')\n",
    "post_extraction_pipeline.fit(dwpc[train_index, :], y[train_index])\n",
    "\n",
    "print('Getting Model Coef')\n",
    "coef = get_model_coefs(post_extraction_pipeline[-1], dwpc, mp_to_extract).sort_values('coef', ascending=False)\n",
    "\n",
    "# Save model\n",
    "coef.to_csv(out_dir.joinpath('coef.csv'), index=False)\n",
    "pickle.dump(post_extraction_pipeline, open(out_dir.joinpath('model.pkl'), 'wb'))\n",
    "\n",
    "print('Training took: ' + display_time(time() - start))\n",
    "print('\\n\\n')"
   ]
  },
  {
   "cell_type": "code",
   "execution_count": 23,
   "metadata": {},
   "outputs": [
    {
     "data": {
      "text/html": [
       "<div>\n",
       "<style scoped>\n",
       "    .dataframe tbody tr th:only-of-type {\n",
       "        vertical-align: middle;\n",
       "    }\n",
       "\n",
       "    .dataframe tbody tr th {\n",
       "        vertical-align: top;\n",
       "    }\n",
       "\n",
       "    .dataframe thead th {\n",
       "        text-align: right;\n",
       "    }\n",
       "</style>\n",
       "<table border=\"1\" class=\"dataframe\">\n",
       "  <thead>\n",
       "    <tr style=\"text-align: right;\">\n",
       "      <th></th>\n",
       "      <th>feature</th>\n",
       "      <th>coef</th>\n",
       "      <th>zcoef</th>\n",
       "    </tr>\n",
       "  </thead>\n",
       "  <tbody>\n",
       "    <tr>\n",
       "      <th>65</th>\n",
       "      <td>CafBPawD</td>\n",
       "      <td>7.530802</td>\n",
       "      <td>0.000075</td>\n",
       "    </tr>\n",
       "    <tr>\n",
       "      <th>19</th>\n",
       "      <td>CafBPpoCtD</td>\n",
       "      <td>4.700754</td>\n",
       "      <td>0.000062</td>\n",
       "    </tr>\n",
       "    <tr>\n",
       "      <th>120</th>\n",
       "      <td>CafGrxCtD</td>\n",
       "      <td>2.943249</td>\n",
       "      <td>0.000002</td>\n",
       "    </tr>\n",
       "    <tr>\n",
       "      <th>20</th>\n",
       "      <td>CafGpoApoCplD</td>\n",
       "      <td>2.806561</td>\n",
       "      <td>0.0</td>\n",
       "    </tr>\n",
       "    <tr>\n",
       "      <th>80</th>\n",
       "      <td>CpoPWpoGrCtD</td>\n",
       "      <td>2.76384</td>\n",
       "      <td>0.0</td>\n",
       "    </tr>\n",
       "    <tr>\n",
       "      <th>74</th>\n",
       "      <td>CaGpoPWpoCtD</td>\n",
       "      <td>2.425932</td>\n",
       "      <td>0.0</td>\n",
       "    </tr>\n",
       "    <tr>\n",
       "      <th>147</th>\n",
       "      <td>CinGrBPcoAsoD</td>\n",
       "      <td>2.106373</td>\n",
       "      <td>0.000001</td>\n",
       "    </tr>\n",
       "    <tr>\n",
       "      <th>26</th>\n",
       "      <td>CaGpoBPpoCtD</td>\n",
       "      <td>2.005863</td>\n",
       "      <td>0.0</td>\n",
       "    </tr>\n",
       "    <tr>\n",
       "      <th>43</th>\n",
       "      <td>CinGpoPWpoCtD</td>\n",
       "      <td>1.897746</td>\n",
       "      <td>0.0</td>\n",
       "    </tr>\n",
       "    <tr>\n",
       "      <th>1</th>\n",
       "      <td>CinGpoPWawD</td>\n",
       "      <td>1.871417</td>\n",
       "      <td>0.000001</td>\n",
       "    </tr>\n",
       "  </tbody>\n",
       "</table>\n",
       "</div>"
      ],
      "text/plain": [
       "           feature      coef     zcoef\n",
       "65        CafBPawD  7.530802  0.000075\n",
       "19      CafBPpoCtD  4.700754  0.000062\n",
       "120      CafGrxCtD  2.943249  0.000002\n",
       "20   CafGpoApoCplD  2.806561       0.0\n",
       "80    CpoPWpoGrCtD   2.76384       0.0\n",
       "74    CaGpoPWpoCtD  2.425932       0.0\n",
       "147  CinGrBPcoAsoD  2.106373  0.000001\n",
       "26    CaGpoBPpoCtD  2.005863       0.0\n",
       "43   CinGpoPWpoCtD  1.897746       0.0\n",
       "1      CinGpoPWawD  1.871417  0.000001"
      ]
     },
     "execution_count": 23,
     "metadata": {},
     "output_type": "execute_result"
    }
   ],
   "source": [
    "coef.head(10)"
   ]
  },
  {
   "cell_type": "code",
   "execution_count": null,
   "metadata": {},
   "outputs": [],
   "source": []
  },
  {
   "cell_type": "markdown",
   "metadata": {},
   "source": [
    "# Test against the holdout set"
   ]
  },
  {
   "cell_type": "code",
   "execution_count": 24,
   "metadata": {},
   "outputs": [],
   "source": [
    "tgt = pd.read_csv(nw_dir.joinpath('holdout_set.csv'), dtype=str)"
   ]
  },
  {
   "cell_type": "code",
   "execution_count": 25,
   "metadata": {},
   "outputs": [],
   "source": [
    "test_pos_tups = (tgt[['start_id', 'end_id']]\n",
    "                      .apply(tuple, axis=1)\n",
    "                      .tolist())\n",
    "test_pos_tups = set(test_pos_tups)"
   ]
  },
  {
   "cell_type": "code",
   "execution_count": 26,
   "metadata": {},
   "outputs": [],
   "source": [
    "test_comps = set(tgt['start_id'].unique())\n",
    "test_comps = set(nodes.query('id not in @test_comps and ' +\n",
    "                             'id not in @keep_comps and '+\n",
    "                             'id not in @ref_c and '+\n",
    "                             'label == \"ChemicalSubstance\"')\n",
    "                                    .sample(frac=neg_frac, random_state=rs+4)['id'])\n",
    "test_comps = list(set(tgt['start_id'].unique()) | test_comps)\n",
    "\n",
    "test_dis = set(tgt['end_id'].unique())\n",
    "test_dis = set(nodes.query('id not in @test_dis and ' +\n",
    "                             'id not in @keep_dis and '+\n",
    "                             'label == \"Disease\"')\n",
    "                                    .sample(frac=neg_frac, random_state=rs+5)['id'])\n",
    "test_dis = list(set(tgt['end_id'].unique()) | test_dis)"
   ]
  },
  {
   "cell_type": "code",
   "execution_count": 27,
   "metadata": {
    "scrolled": false
   },
   "outputs": [
    {
     "name": "stdout",
     "output_type": "stream",
     "text": [
      "Preparing function arguments...\n",
      "Calculating DWPCs...\n"
     ]
    },
    {
     "name": "stderr",
     "output_type": "stream",
     "text": [
      "100%|█████████████████████████████████████████████████████████████████████████████████| 177/177 [03:58<00:00,  1.35s/it]\n"
     ]
    },
    {
     "name": "stdout",
     "output_type": "stream",
     "text": [
      "\n",
      "Reshaping Result Matrices...\n"
     ]
    },
    {
     "name": "stderr",
     "output_type": "stream",
     "text": [
      "100%|█████████████████████████████████████████████████████████████████████████████████| 177/177 [00:18<00:00,  9.34it/s]\n"
     ]
    },
    {
     "name": "stdout",
     "output_type": "stream",
     "text": [
      "Stacking columns...\n",
      "Getting Target Values\n"
     ]
    },
    {
     "data": {
      "application/vnd.jupyter.widget-view+json": {
       "model_id": "76e843b9a13b4d14b68a5f9fef545c9b",
       "version_major": 2,
       "version_minor": 0
      },
      "text/plain": [
       "  0%|          | 0/19861116 [00:00<?, ?it/s]"
      ]
     },
     "metadata": {},
     "output_type": "display_data"
    },
    {
     "name": "stdout",
     "output_type": "stream",
     "text": [
      "Getting Probabilities\n",
      "AUROC: 0.7673\n",
      "AUPR: 0.0248\n",
      "Eval took: 7 minutes, 58 seconds\n",
      "\n",
      "\n",
      "\n",
      "CPU times: user 3min 12s, sys: 22.8 s, total: 3min 35s\n",
      "Wall time: 7min 58s\n"
     ]
    }
   ],
   "source": [
    "%%time\n",
    "\n",
    "start = time()\n",
    "\n",
    "(pairs, out_mp), dwpc = mg.extract_dwpc(metapaths=mp_to_extract, start_nodes=test_comps, end_nodes=test_dis, \n",
    "                   return_sparse=True, sparse_df=False, verbose=True, n_jobs=30)\n",
    "\n",
    "print('Getting Target Values')\n",
    "y = []\n",
    "for row in tqdm(pairs.itertuples(), total=len(pairs)):\n",
    "    # pos_tups defined several cells above\n",
    "    if set([(row.chemicalsubstance_id, row.disease_id)]) & test_pos_tups:\n",
    "        y.append(1)\n",
    "    else:\n",
    "        y.append(0)\n",
    "        \n",
    "# Fit the model and get results\n",
    "print('Getting Probabilities')\n",
    "y_proba = post_extraction_pipeline.predict_proba(dwpc)[:, 1]\n",
    "\n",
    "# Get metrics\n",
    "roc_auc = roc_auc_score(y, y_proba)\n",
    "avg_prec = average_precision_score(y, y_proba)\n",
    "print('AUROC: {:1.4f}'.format(roc_auc))\n",
    "print('AUPR: {:1.4f}'.format(avg_prec))\n",
    "\n",
    "pairs['status'] = y\n",
    "pairs['proba'] = y_proba\n",
    "\n",
    "# Save results\n",
    "pairs.to_csv(out_dir.joinpath('results.csv'), index=False)\n",
    "\n",
    "print('Eval took: ' + display_time(time() - start))\n",
    "print('\\n\\n')"
   ]
  },
  {
   "cell_type": "markdown",
   "metadata": {},
   "source": [
    "## Load back in all the results and plot"
   ]
  },
  {
   "cell_type": "code",
   "execution_count": 28,
   "metadata": {},
   "outputs": [],
   "source": [
    "import seaborn as sns\n",
    "import matplotlib.pyplot as plt\n",
    "\n",
    "from data_tools import plotting as pt"
   ]
  },
  {
   "cell_type": "code",
   "execution_count": 29,
   "metadata": {},
   "outputs": [],
   "source": [
    "plt.rcParams['axes.facecolor'] = 'white'\n",
    "plt.rcParams['figure.facecolor'] = 'white'"
   ]
  },
  {
   "cell_type": "code",
   "execution_count": 30,
   "metadata": {},
   "outputs": [],
   "source": [
    "pairs = pd.read_csv(out_dir.joinpath('results.csv'))"
   ]
  },
  {
   "cell_type": "code",
   "execution_count": 31,
   "metadata": {},
   "outputs": [],
   "source": [
    "zero_prob = pairs['proba'].value_counts().index[0]\n",
    "y = pairs.query('proba != @zero_prob')['status']\n",
    "y_proba = pairs.query('proba != @zero_prob')['proba']"
   ]
  },
  {
   "cell_type": "code",
   "execution_count": 32,
   "metadata": {},
   "outputs": [
    {
     "data": {
      "text/plain": [
       "13605"
      ]
     },
     "execution_count": 32,
     "metadata": {},
     "output_type": "execute_result"
    }
   ],
   "source": [
    "pairs['status'].sum()"
   ]
  },
  {
   "cell_type": "code",
   "execution_count": 33,
   "metadata": {},
   "outputs": [
    {
     "data": {
      "image/png": "[encoded data removed]",
      "text/plain": [
       "<Figure size 576x504 with 1 Axes>"
      ]
     },
     "metadata": {},
     "output_type": "display_data"
    }
   ],
   "source": [
    "pt.graph_single_roc(y, y_proba, 'Test set')\n",
    "pt.graph_roc_boilerplate('Eval results - ROC');\n",
    "#plt.legend(loc=7, bbox_to_anchor=(1.2, .5));"
   ]
  },
  {
   "cell_type": "code",
   "execution_count": 34,
   "metadata": {},
   "outputs": [
    {
     "data": {
      "image/png": "[encoded data removed]",
      "text/plain": [
       "<Figure size 576x504 with 1 Axes>"
      ]
     },
     "metadata": {},
     "output_type": "display_data"
    }
   ],
   "source": [
    "pt.graph_single_prc(y, y_proba, 'Test set')\n",
    "pt.graph_prc_boilerplate('Eval results - Precision Recall');\n",
    "#plt.legend(loc=7, bbox_to_anchor=(1.2, .5));"
   ]
  },
  {
   "cell_type": "code",
   "execution_count": null,
   "metadata": {},
   "outputs": [],
   "source": []
  }
 ],
 "metadata": {
  "kernelspec": {
   "display_name": "Python 3 (ipykernel)",
   "language": "python",
   "name": "python3"
  },
  "language_info": {
   "codemirror_mode": {
    "name": "ipython",
    "version": 3
   },
   "file_extension": ".py",
   "mimetype": "text/x-python",
   "name": "python",
   "nbconvert_exporter": "python",
   "pygments_lexer": "ipython3",
   "version": "3.8.5"
  }
 },
 "nbformat": 4,
 "nbformat_minor": 2
}

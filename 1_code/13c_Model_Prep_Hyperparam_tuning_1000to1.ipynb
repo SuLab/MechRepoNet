{
 "cells": [
  {
   "cell_type": "code",
   "execution_count": 1,
   "metadata": {},
   "outputs": [
    {
     "name": "stderr",
     "output_type": "stream",
     "text": [
      "/home/rogertu/projects/MechRepoNet/mrn_venv/lib/python3.8/site-packages/data_tools/df_processing.py:4: TqdmExperimentalWarning: Using `tqdm.autonotebook.tqdm` in notebook mode. Use `tqdm.tqdm` instead to force console mode (e.g. in jupyter console)\n",
      "  from tqdm.autonotebook import tqdm\n"
     ]
    }
   ],
   "source": [
    "import numpy as np\n",
    "import pandas as pd\n",
    "from copy import copy\n",
    "from pathlib import Path\n",
    "from itertools import chain\n",
    "from tqdm.notebook import tqdm\n",
    "\n",
    "import data_tools.graphs as gt\n",
    "from hetnet_ml.extractor import MatrixFormattedGraph, piecewise_extraction"
   ]
  },
  {
   "cell_type": "code",
   "execution_count": 2,
   "metadata": {},
   "outputs": [
    {
     "name": "stdout",
     "output_type": "stream",
     "text": [
      "Processing node and edge data...\n",
      "Initializing metagraph...\n",
      "Generating adjacency matrices...\n"
     ]
    },
    {
     "name": "stderr",
     "output_type": "stream",
     "text": [
      "100%|███████████████████████████████████████████████████████████████████████████████████| 68/68 [00:45<00:00,  1.49it/s]\n"
     ]
    },
    {
     "name": "stdout",
     "output_type": "stream",
     "text": [
      "\n",
      "Determining degrees for each node and metaedge\n"
     ]
    },
    {
     "name": "stderr",
     "output_type": "stream",
     "text": [
      "100%|███████████████████████████████████████████████████████████████████████████████████| 68/68 [00:24<00:00,  2.76it/s]\n"
     ]
    },
    {
     "name": "stdout",
     "output_type": "stream",
     "text": [
      "\n",
      "Weighting matrices by degree with dampening factor 0.4...\n"
     ]
    },
    {
     "name": "stderr",
     "output_type": "stream",
     "text": [
      "100%|██████████████████████████████████████████████████████████████████████████████████| 68/68 [00:00<00:00, 120.50it/s]\n"
     ]
    }
   ],
   "source": [
    "nodes = pd.read_csv('../2_pipeline/13a_Model_Prep_Holdout_Set/out/nodes.csv', dtype=str)\n",
    "edges = pd.read_csv('../2_pipeline/13a_Model_Prep_Holdout_Set/out/edges.csv', dtype=str)\n",
    "\n",
    "mg = MatrixFormattedGraph(nodes, edges, 'ChemicalSubstance', 'Disease', max_length=4, w=0.4, n_jobs=30)"
   ]
  },
  {
   "cell_type": "markdown",
   "metadata": {},
   "source": [
    "## Strange behavior\n",
    "\n",
    "For whatever reason, the imports below result in the above initizalizaiton of mg not finishing, so we've loaded mg first, then will continue the imports"
   ]
  },
  {
   "cell_type": "code",
   "execution_count": 3,
   "metadata": {},
   "outputs": [],
   "source": [
    "from scipy.sparse import issparse, csc_matrix, csr_matrix\n",
    "\n",
    "from sklearn.pipeline import Pipeline\n",
    "from sklearn.preprocessing import MaxAbsScaler\n",
    "from sklearn.model_selection import cross_validate\n",
    "from sklearn.linear_model import LogisticRegression\n",
    "from sklearn.ensemble import RandomForestClassifier\n",
    "from sklearn.base import BaseEstimator, TransformerMixin\n",
    "from sklearn.feature_selection import SelectKBest, chi2, RFE, SelectFromModel\n",
    "\n",
    "from xgboost import XGBClassifier\n",
    "\n",
    "from hyperopt import fmin, tpe, hp, STATUS_OK, Trials"
   ]
  },
  {
   "cell_type": "markdown",
   "metadata": {},
   "source": [
    "# Data Transformer\n",
    "\n",
    "We use an inverse hyperbolic sine transformation to transform the features.\n",
    "\n",
    "The transormation is thus:\n",
    "\n",
    "$$sinh^{-1} \\left( \\frac{X_{mp}}{\\sigma_{mp}} \\right)$$\n",
    "\n",
    "where $X_{mp}$ is the column in the dwpc feature matrix $X$ coreesponding to metapath $mp$ and $\\sigma_{mp}$ is the mean of the column."
   ]
  },
  {
   "cell_type": "code",
   "execution_count": 4,
   "metadata": {},
   "outputs": [],
   "source": [
    "class MeanScaledArcsinhTransformer(TransformerMixin):\n",
    "        \n",
    "    def fit(self, X, y=None):\n",
    "        if issparse(X):\n",
    "            self.initial_mean_ = X.tocoo().tocsc().mean(axis=0).A[0]\n",
    "        else:\n",
    "            self.initial_mean_ = X.mean(axis=0)\n",
    "\n",
    "        # If input was DataFrame, Converts resultant series to ndarray\n",
    "        try:\n",
    "            self.initial_mean_ = self.initial_mean_.values\n",
    "        except:\n",
    "            pass\n",
    "        \n",
    "        # If inital mean == 0, likely all values were zero\n",
    "        # this prevents issues later.\n",
    "        self.initial_mean_[np.where(self.initial_mean_ == 0.0)] = 1\n",
    "        \n",
    "        return self\n",
    "\n",
    "    def transform(self, X, y=None):\n",
    "        if issparse(X):\n",
    "            return np.arcsinh(X.tocoo().tocsc().multiply(self.initial_mean_**-1))\n",
    "        return np.arcsinh(X / self.initial_mean_)\n"
   ]
  },
  {
   "cell_type": "markdown",
   "metadata": {},
   "source": [
    "# Homegrown Feature Selector\n",
    "\n",
    "Runs 6 analysis on the traning data to select features.\n",
    "\n",
    "1. Correlation to the output\n",
    "2. Chi_squared test\n",
    "3. Recurssive Feature Elimantion on a Ridge Regressor\n",
    "4. Embedded Feature Selection from a Lasso Regressor\n",
    "5. Embedded Feature Selection from a Randomn Forest Classifier\n",
    "6. Embedded Feature Selection from a Gradient Boosting Classifier\n",
    "\n",
    "Each analysis will select `num_feats` best features. The selected features will then by chosen via a voting method with `min_selections` out of the 6 elements required to for a feature to be kept. \n",
    "\n",
    "\n",
    "We have also added an option for `always_keep`:  This allows for domain expertise to be factored into the feature selection process.  In our case, we know some metapaths are specifically mechanistic, so we want to include those wherever possible"
   ]
  },
  {
   "cell_type": "code",
   "execution_count": 5,
   "metadata": {},
   "outputs": [],
   "source": [
    "def cor_selector(X, y, feature_names, num_feats):\n",
    "    cor_list = []\n",
    "    # calculate the correlation with y for each feature\n",
    "    for i in range(X.shape[1]):\n",
    "        if issparse(X):\n",
    "            x = X[:, i].A.reshape(len(y))\n",
    "        else:\n",
    "            x = X[:, i]\n",
    "        cor = np.corrcoef(x, y)[0, 1]\n",
    "        cor_list.append(cor)\n",
    "    # replace NaN with 0\n",
    "    cor_list = [0 if np.isnan(i) else i for i in cor_list]\n",
    "    # feature name\n",
    "    cor_feature = np.array(feature_names)[np.argsort(np.abs(cor_list))[-num_feats:].tolist()].tolist()    \n",
    "    # feature selection? 0 for not select, 1 for select\n",
    "    return [True if i in cor_feature else False for i in feature_names]\n",
    "\n",
    "def chi2_selector(X, y, num_feats):\n",
    "    this_selector = SelectKBest(chi2, k=num_feats)\n",
    "    this_selector.fit(X, y)\n",
    "    return this_selector.get_support()\n",
    "\n",
    "def rfe_selector(X, y, num_feats, random_state=None):\n",
    "    this_selector = RFE(estimator=LogisticRegression(C=.1, solver='liblinear', random_state=random_state), \n",
    "                        n_features_to_select=num_feats, step=.2, verbose=5)\n",
    "    this_selector.fit(X, y)\n",
    "    return this_selector.get_support()\n",
    "\n",
    "def embeded_lr_selector(X, y, num_feats, random_state=None):\n",
    "    this_selector = SelectFromModel(LogisticRegression(penalty=\"l1\", solver='liblinear', random_state=random_state), \n",
    "                                    max_features=num_feats)\n",
    "    this_selector.fit(X, y)\n",
    "\n",
    "    return this_selector.get_support()\n",
    "\n",
    "def embeded_rf_selector(X, y, num_feats, n_jobs, random_state=None):\n",
    "    rfc = RandomForestClassifier(n_estimators=100, max_depth=50, n_jobs=n_jobs, random_state=random_state)\n",
    "    this_selector = SelectFromModel(rfc, max_features=num_feats)\n",
    "    this_selector.fit(X, y)\n",
    "    return this_selector.get_support()\n",
    "\n",
    "def embeded_xgb_selector(X, y, num_feats, n_jobs=1, random_state=None):\n",
    "    # XGBoost takes 0 as default random state\n",
    "    if random_state is None:\n",
    "        random_state = 0\n",
    "    # Paramaters optimized for speed, rather than accuracy (as we have 5 other estimators also providing votes)\n",
    "    xgbc = XGBClassifier(max_depth=5, n_estimators=200, learning_rate=.16, min_child_weight=1, colsample_bytree=.8,\n",
    "                         n_jobs=n_jobs, random_state=random_state)\n",
    "    this_selector = SelectFromModel(xgbc, max_features=num_feats)\n",
    "    this_selector.fit(X, y)\n",
    "    return this_selector.get_support()\n",
    "\n",
    "\n",
    "class FeatureSelector(BaseEstimator, TransformerMixin):\n",
    "    \n",
    "    def __init__(self, num_features=100, min_selections=4, n_jobs=1, feature_names=None, always_keep=None,\n",
    "                 random_state=None):\n",
    "        self.num_features = num_features\n",
    "        self.min_selections = min_selections\n",
    "        self.n_jobs = n_jobs\n",
    "        self.feature_names = feature_names\n",
    "        self.always_keep = always_keep\n",
    "        self.random_state = random_state\n",
    "        \n",
    "    def fit(self, X, y=None):\n",
    "                \n",
    "        X_norm = MaxAbsScaler().fit_transform(X)\n",
    "        if issparse(X):\n",
    "            if type(X) != csc_matrix:\n",
    "                X = X.tocsc()\n",
    "            X_norm = X_norm.tocsc()\n",
    "        \n",
    "        print('Running Cor')\n",
    "        cor_support = cor_selector(X, y, self.feature_names, self.num_features)\n",
    "        print('Running Chi2')\n",
    "        chi_support = chi2_selector(X_norm, y, self.num_features)\n",
    "        print('Running RFE')\n",
    "        rfe_support = rfe_selector(X_norm, y, self.num_features, self.random_state)\n",
    "        print('Running LR')\n",
    "        embeded_lr_support = embeded_lr_selector(X_norm, y, self.num_features, self.random_state)\n",
    "        print('Running RF')\n",
    "        embeded_rf_support = embeded_rf_selector(X, y, self.num_features, \n",
    "                                                 n_jobs=self.n_jobs, random_state=self.random_state)\n",
    "        print('Running XG')\n",
    "        embeded_xgb_support = embeded_xgb_selector(X, y, self.num_features, \n",
    "                                                   n_jobs=self.n_jobs, random_state=self.random_state)\n",
    "        \n",
    "        feature_selection_df = pd.DataFrame({'feature':self.feature_names, 'pearson':cor_support, 'chi_2':chi_support, \n",
    "                                             'rfe':rfe_support, 'logistics':embeded_lr_support,\n",
    "                                             'random_forest':embeded_rf_support, 'xgboost':embeded_xgb_support})  \n",
    "\n",
    "        feature_selection_df['total'] = np.sum(feature_selection_df, axis=1)\n",
    "        self.feature_selection_df_ = feature_selection_df\n",
    "        \n",
    "        keep_features = feature_selection_df.query('total >= {}'.format(self.min_selections))['feature'].tolist()\n",
    "        \n",
    "        # Keep the features that we always want (e.g. domain expertise)\n",
    "        if self.always_keep is not None:\n",
    "            keep_features.extend(self.always_keep)\n",
    "        \n",
    "        self.keep_features_ = [f for f in self.feature_names if f in keep_features]\n",
    "        \n",
    "        return self\n",
    "    \n",
    "    def transform(self, X, y=None):\n",
    "        \n",
    "        if issparse(X) and type(X) != csc_matrix:\n",
    "            X = X.tocsc()\n",
    "        return X[:, [i for i, f in enumerate(self.feature_names) if f in self.keep_features_]]"
   ]
  },
  {
   "cell_type": "code",
   "execution_count": 6,
   "metadata": {},
   "outputs": [],
   "source": [
    "def sparse_std(data, axis=1):                                                                              \n",
    "    \"\"\"take the standard deviation of a sparse matrix\"\"\"                  \n",
    "\n",
    "    def get_vec_std(vec):                                                                                       \n",
    "        return vec.A.std(ddof=1)                                                                                \n",
    "\n",
    "    stds = []        \n",
    "    \n",
    "    # ensure the correct matrix type for easy row or column subsetting\n",
    "    if axis==1 and type(data) != csc_matrix:\n",
    "        data = data.tocoo().tocsc()\n",
    "    if axis==0 and type(data) != csr_matrix:\n",
    "        data = data.tocoo().tocsr()\n",
    "    \n",
    "    # Get the std for each vector along the given axis individually\n",
    "    for i in range(data.shape[axis]):                                                                              \n",
    "        if axis==1:\n",
    "            stds.append(get_vec_std(data.getcol(i)))       \n",
    "        elif axis==0:\n",
    "            stds.append(get_vec_std(data.getrow(i)))       \n",
    "        \n",
    "    return np.array(stds)"
   ]
  },
  {
   "cell_type": "code",
   "execution_count": 7,
   "metadata": {},
   "outputs": [],
   "source": [
    "def get_model_coefs(model, X, f_names):                                                                                 \n",
    "    \"\"\"Helper Function to quickly return the model coefs and correspoding fetaure names\"\"\"                              \n",
    "                                                                                                                        \n",
    "    # Ensure we have a numpy array for the features                                                                     \n",
    "    if type(X) == pd.DataFrame:                                                                                         \n",
    "        X = X.values\n",
    "        \n",
    "                                                                                                                        \n",
    "    # Grab the coeffiencts                                                                                              \n",
    "    coef = model.coef_                                                                                                  \n",
    "    # Some models return a double dimension array, others only a single                                                 \n",
    "    if len(coef) != len(f_names):                                                                                       \n",
    "        coef = coef[0]                                                                                                  \n",
    "                                                                                                                        \n",
    "    # insert the intercept                                                                                              \n",
    "    coef = np.insert(coef, 0, model.intercept_)                                                                         \n",
    "    names = np.insert(f_names, 0, 'intercept')                                                                          \n",
    "                                                                                                                        \n",
    "    # Calculate z-score scaled coefficients based on the features                                                       \n",
    "    if issparse(X):\n",
    "        if type(X) != csc_matrix:\n",
    "            X = X.tocoo().tocsc()\n",
    "        z_intercept = coef[0] + sum(coef[1:] * X.mean(axis=0).A[0])\n",
    "        z_coef = coef[1:] * sparse_std(X, axis=1)\n",
    "        z_coef = np.insert(z_coef, 0, z_intercept)\n",
    "    else:\n",
    "        z_intercept = coef[0] + sum(coef[1:] * X.mean(axis=0))                                                              \n",
    "        z_coef = coef[1:] * X.std(axis=0)                                                                                   \n",
    "        z_coef = np.insert(z_coef, 0, z_intercept)                                                                          \n",
    "                                                                                                                        \n",
    "    # Return                                                                                                            \n",
    "    return pd.DataFrame([names, coef, z_coef]).T.rename(columns={0:'feature', 1:'coef', 2:'zcoef'})    "
   ]
  },
  {
   "cell_type": "code",
   "execution_count": 8,
   "metadata": {},
   "outputs": [],
   "source": [
    "float_size = 64 # bits\n",
    "bits_per_gb = 8589934592\n",
    "\n",
    "def print_mem_info(n_comp, n_dis, n_mps):\n",
    "    print(\"{:,} Compounds * {:,} Diseases = {:,} C-D Pairs\".format(n_comp, n_dis,\n",
    "                                                                   n_comp * n_dis))\n",
    "    print(\"{:,} C-D Pairs * {:,} Metapaths = {:,} Matrix Values\".format(n_comp * n_dis,\n",
    "                                                                    n_mps, \n",
    "                                                                    n_comp * n_dis * n_mps))\n",
    "\n",
    "    print('{:1,.1f} GB of matrix values'.format(n_comp * n_dis * n_mps * float_size / (bits_per_gb)))\n",
    "    \n",
    "    print('{:1,.3f} GB per metapath'.format(n_comp * n_dis * float_size / (bits_per_gb)))"
   ]
  },
  {
   "cell_type": "code",
   "execution_count": 9,
   "metadata": {},
   "outputs": [],
   "source": [
    "train_frac = 0.15\n",
    "rs = 20200123\n",
    "\n",
    "\n",
    "treat_comps = set(edges.query('type == \"treats_CtD\"')['start_id'])\n",
    "# Sample the negatives and subsample \n",
    "keep_comps = set(nodes.query('id not in @treat_comps and label == \"ChemicalSubstance\"')\n",
    "                      .sample(frac=train_frac*.01, random_state=rs)['id'])\n",
    "# Then subsample the positives\n",
    "keep_comps = keep_comps | set(nodes.query('id in @treat_comps')\n",
    "                                   .sample(frac=train_frac, random_state=rs+1)['id'])\n",
    "\n",
    "treat_dis = set(edges.query('type == \"treats_CtD\"')['end_id'])\n",
    "# Sample the negatives and subsample cv\n",
    "keep_dis = set(nodes.query('label == \"Disease\" and id not in @treat_dis')\n",
    "                    .sample(frac=train_frac*.01, random_state=rs+2)['id'])\n",
    "# Take the diseases Treated by these compounds\n",
    "keep_dis = keep_dis | set(edges.query('type == \"treats_CtD\" and start_id in @keep_comps')['end_id'])"
   ]
  },
  {
   "cell_type": "code",
   "execution_count": 10,
   "metadata": {},
   "outputs": [
    {
     "data": {
      "text/html": [
       "<div>\n",
       "<style scoped>\n",
       "    .dataframe tbody tr th:only-of-type {\n",
       "        vertical-align: middle;\n",
       "    }\n",
       "\n",
       "    .dataframe tbody tr th {\n",
       "        vertical-align: top;\n",
       "    }\n",
       "\n",
       "    .dataframe thead th {\n",
       "        text-align: right;\n",
       "    }\n",
       "</style>\n",
       "<table border=\"1\" class=\"dataframe\">\n",
       "  <thead>\n",
       "    <tr style=\"text-align: right;\">\n",
       "      <th></th>\n",
       "      <th>mp</th>\n",
       "      <th>pair_count</th>\n",
       "      <th>subset</th>\n",
       "      <th>frac</th>\n",
       "      <th>sim_mp</th>\n",
       "    </tr>\n",
       "  </thead>\n",
       "  <tbody>\n",
       "    <tr>\n",
       "      <th>0</th>\n",
       "      <td>CpoAawD</td>\n",
       "      <td>5854758</td>\n",
       "      <td>all_pairs</td>\n",
       "      <td>0.010287</td>\n",
       "      <td>False</td>\n",
       "    </tr>\n",
       "    <tr>\n",
       "      <th>1</th>\n",
       "      <td>CpoAsoD</td>\n",
       "      <td>0</td>\n",
       "      <td>all_pairs</td>\n",
       "      <td>0.000000</td>\n",
       "      <td>False</td>\n",
       "    </tr>\n",
       "  </tbody>\n",
       "</table>\n",
       "</div>"
      ],
      "text/plain": [
       "        mp  pair_count     subset      frac  sim_mp\n",
       "0  CpoAawD     5854758  all_pairs  0.010287   False\n",
       "1  CpoAsoD           0  all_pairs  0.000000   False"
      ]
     },
     "execution_count": 10,
     "metadata": {},
     "output_type": "execute_result"
    }
   ],
   "source": [
    "# MP counts will be the same with or without weights, so just use the original\n",
    "all_mp_counts = pd.read_csv('../2_pipeline/13b_Model_Prep_Metapath_Membership_Analysis/out/all_mp_counts.csv')\n",
    "all_mp_counts.head(2)"
   ]
  },
  {
   "cell_type": "code",
   "execution_count": 11,
   "metadata": {},
   "outputs": [],
   "source": [
    "non_sim_names = all_mp_counts.query('sim_mp == False')['mp'].unique().tolist()\n",
    "mp_qr = all_mp_counts.query('subset == \"all_pairs\" and mp in @non_sim_names and pair_count > 0')\n",
    "good_mps = mp_qr['mp'].tolist()"
   ]
  },
  {
   "cell_type": "code",
   "execution_count": 12,
   "metadata": {},
   "outputs": [
    {
     "name": "stdout",
     "output_type": "stream",
     "text": [
      "1,404 Compounds * 2,906 Diseases = 4,080,024 C-D Pairs\n",
      "4,080,024 C-D Pairs * 7,012 Metapaths = 28,609,128,288 Matrix Values\n",
      "213.2 GB of matrix values\n",
      "0.030 GB per metapath\n"
     ]
    }
   ],
   "source": [
    "print_mem_info(len(keep_comps), len(keep_dis), len(good_mps)) # 1 to 10"
   ]
  },
  {
   "cell_type": "markdown",
   "metadata": {},
   "source": [
    "#### Original Memory info\n",
    "`print_mem_info(len(keep_comps), len(keep_dis), len(good_mps))`\n",
    "* 1,404 Compounds * 2,906 Diseases = 4,080,024 C-D Pairs\n",
    "* 4,080,024 C-D Pairs * 7,012 Metapaths = 28,609,128,288 Matrix Values\n",
    "* 213.2 GB of matrix values\n",
    "* 0.030 GB per metapath\n"
   ]
  },
  {
   "cell_type": "code",
   "execution_count": 13,
   "metadata": {},
   "outputs": [
    {
     "name": "stdout",
     "output_type": "stream",
     "text": [
      "8,607 Positive training examples in subset\n"
     ]
    }
   ],
   "source": [
    "print('{:,} Positive training examples in subset'.format(len(edges.query('start_id in @keep_comps and type == \"treats_CtD\"'))))"
   ]
  },
  {
   "cell_type": "markdown",
   "metadata": {},
   "source": [
    "#### Original Number of Positive training examples\n",
    "`print('{:,} Positive training examples in subset'.format(len(edges.query('start_id in @keep_comps and type == \"treats_CtD\"'))))`\n",
    "\n",
    "8,607 Positive training examples in subset\n"
   ]
  },
  {
   "cell_type": "markdown",
   "metadata": {},
   "source": [
    "### Bring in the known metapaths found in DrugMechDB"
   ]
  },
  {
   "cell_type": "code",
   "execution_count": 14,
   "metadata": {},
   "outputs": [
    {
     "data": {
      "text/plain": [
       "55"
      ]
     },
     "execution_count": 14,
     "metadata": {},
     "output_type": "execute_result"
    }
   ],
   "source": [
    "mech_mps = pd.read_csv('../0_data/manual/mech_mps.txt', header=None)[0].values\n",
    "dmdb_feat = set(all_mp_counts.query('mp in @mech_mps and subset == \"all_pairs\" and pair_count > 0 and sim_mp == False')['mp'])\n",
    "\n",
    "len(dmdb_feat)"
   ]
  },
  {
   "cell_type": "markdown",
   "metadata": {},
   "source": [
    "# Prepare output location"
   ]
  },
  {
   "cell_type": "code",
   "execution_count": 15,
   "metadata": {},
   "outputs": [],
   "source": [
    "this_name = '13c_Model_Prep_Hyperparam_tuning_1000to1'\n",
    "\n",
    "out_dir = Path('../2_pipeline/test_ratio/').joinpath(this_name, 'out').resolve()\n",
    "tmp_dir = out_dir.parent.joinpath('tmp')\n",
    "\n",
    "out_dir.mkdir(parents=True, exist_ok=True)\n",
    "tmp_dir.mkdir(parents=True, exist_ok=True)"
   ]
  },
  {
   "cell_type": "markdown",
   "metadata": {},
   "source": [
    "# Extract the features one time"
   ]
  },
  {
   "cell_type": "markdown",
   "metadata": {},
   "source": [
    "Use the pair counts to sort metapaths extaction as a niave load balancer"
   ]
  },
  {
   "cell_type": "code",
   "execution_count": 16,
   "metadata": {},
   "outputs": [],
   "source": [
    "def sort_mps_for_pw_extraction(n_big_calcs, big_per_block, mp_list, frac_info):\n",
    "    \n",
    "    big_mp = frac_info.sort_values('frac', ascending=False).head(n_big_calcs)['mp'].tolist()\n",
    "    other_mp = list(set(mp_list) - set(big_mp))\n",
    "\n",
    "    block_size = len(other_mp) // (len(big_mp) // big_per_block)\n",
    "    n_blocks = ((len(big_mp) + len(other_mp)) // block_size)\n",
    "\n",
    "    out = []\n",
    "    for i in range(n_blocks):\n",
    "        for j in range(big_per_block):\n",
    "            idx = i*big_per_block + j\n",
    "            out.append(big_mp[idx])\n",
    "        out += other_mp[i*block_size:(i+1)*block_size] \n",
    "        \n",
    "    out += list(set(other_mp) - set(out))    \n",
    "    \n",
    "    return out, block_size"
   ]
  },
  {
   "cell_type": "code",
   "execution_count": 17,
   "metadata": {},
   "outputs": [],
   "source": [
    "# 30, 5 finishes < 30 min. <- OVERFLOW\n",
    "# 40, 8 finishes 18min 46s <- OVERFLOW\n",
    "to_xtract, block_size = sort_mps_for_pw_extraction(100, 5, good_mps, mp_qr)"
   ]
  },
  {
   "cell_type": "code",
   "execution_count": 18,
   "metadata": {},
   "outputs": [
    {
     "data": {
      "text/plain": [
       "(7012, 345)"
      ]
     },
     "execution_count": 18,
     "metadata": {},
     "output_type": "execute_result"
    }
   ],
   "source": [
    "len(to_xtract), block_size"
   ]
  },
  {
   "cell_type": "code",
   "execution_count": 19,
   "metadata": {},
   "outputs": [
    {
     "name": "stderr",
     "output_type": "stream",
     "text": [
      "100%|██████████████████████████████████████████████████████████████████████████████████| 21/21 [38:52<00:00, 111.09s/it]\n"
     ]
    },
    {
     "name": "stdout",
     "output_type": "stream",
     "text": [
      "CPU times: user 1min 45s, sys: 1min 25s, total: 3min 11s\n",
      "Wall time: 38min 55s\n"
     ]
    }
   ],
   "source": [
    "%%time\n",
    "## Extract the metapaths to do some prep work\n",
    "(pairs, feats), test_dwpc = piecewise_extraction(function=mg.extract_dwpc, \n",
    "                                 to_split='metapaths', block_size=block_size,\n",
    "                                 axis=1,\n",
    "                                 metapaths=to_xtract, \n",
    "                                 start_nodes=list(keep_comps), \n",
    "                                 end_nodes=list(keep_dis),\n",
    "                                 return_sparse=True,\n",
    "                                 sparse_df=False,\n",
    "                                 n_jobs=30)"
   ]
  },
  {
   "cell_type": "markdown",
   "metadata": {},
   "source": [
    "# Training Targets for feature selection¶"
   ]
  },
  {
   "cell_type": "code",
   "execution_count": 20,
   "metadata": {},
   "outputs": [
    {
     "data": {
      "text/plain": [
       "[('CHEBI:100147', 'DOID:0050400'), ('CHEBI:100147', 'DOID:13148')]"
      ]
     },
     "execution_count": 20,
     "metadata": {},
     "output_type": "execute_result"
    }
   ],
   "source": [
    "pos_tups = edges.query('type == \"treats_CtD\"')[['start_id', 'end_id']].apply(tuple, axis=1).tolist()\n",
    "pos_tups[:2]"
   ]
  },
  {
   "cell_type": "code",
   "execution_count": 21,
   "metadata": {},
   "outputs": [],
   "source": [
    "pos_tups = set(pos_tups)"
   ]
  },
  {
   "cell_type": "code",
   "execution_count": 22,
   "metadata": {},
   "outputs": [
    {
     "data": {
      "application/vnd.jupyter.widget-view+json": {
       "model_id": "b81e9decd6f84ac2aca343a294577ed3",
       "version_major": 2,
       "version_minor": 0
      },
      "text/plain": [
       "  0%|          | 0/4080024 [00:00<?, ?it/s]"
      ]
     },
     "metadata": {},
     "output_type": "display_data"
    },
    {
     "name": "stdout",
     "output_type": "stream",
     "text": [
      "4080024 4080024 8607\n"
     ]
    }
   ],
   "source": [
    "y = []\n",
    "for row in tqdm(pairs.itertuples(), total=len(pairs)):\n",
    "    if set([(row.chemicalsubstance_id, row.disease_id)]) & pos_tups:\n",
    "        y.append(1)\n",
    "    else:\n",
    "        y.append(0)\n",
    "\n",
    "y = np.array(y)\n",
    "        \n",
    "print(len(pairs), len(y), sum(y))"
   ]
  },
  {
   "cell_type": "code",
   "execution_count": 23,
   "metadata": {},
   "outputs": [],
   "source": [
    "pairs['status'] = y"
   ]
  },
  {
   "cell_type": "markdown",
   "metadata": {},
   "source": [
    "# Subsample the potnetial training examples\n",
    "\n",
    "Our class is so imbalanced, to get a sizeable number of positive training examples, we end up with many orders of magnitude more negative examples.  Many of those examples will have no connections from the compound to the disease of interest, this providing a zero row in the matrix. We will not waste time training on those values, and instead focus on the ones that distinguish the positive from the negative training examples.\n",
    "\n",
    "As this is just hyperparameter tunings, to speed things up, we will also limit the positive examples to a small portion of the negative examples, 1000x (2 orders of magnitude) larger than the number of postitives. "
   ]
  },
  {
   "cell_type": "code",
   "execution_count": 24,
   "metadata": {},
   "outputs": [],
   "source": [
    "# Get the rows that are Non-zero\n",
    "nz_index = pairs[test_dwpc.getnnz(1)>0].index\n",
    "\n",
    "# have the number of postivies to get 1000x this for the negatives.\n",
    "n_pos = pairs['status'].sum()\n",
    "\n",
    "# Sample the nonzero negative examples at a rate of 1000x the positive samples.\n",
    "neg_index = pairs.loc[nz_index].query('status == 0').sample(n=1000*n_pos, random_state=rs+10,replace = True).sort_index().index\n",
    "\n",
    "# and of course take the training postivies\n",
    "pos_index = pairs.query('status == 1').index\n",
    "\n",
    "# Union the two\n",
    "train_index = pos_index.union(neg_index)"
   ]
  },
  {
   "cell_type": "code",
   "execution_count": 25,
   "metadata": {},
   "outputs": [],
   "source": [
    "feats = np.array(feats)\n",
    "nz_feats = feats[test_dwpc.getnnz(0)>0]\n",
    "feat_index = test_dwpc.getnnz(0)>0"
   ]
  },
  {
   "cell_type": "code",
   "execution_count": 26,
   "metadata": {},
   "outputs": [],
   "source": [
    "# Get our compounds as ndarrays for easy indexing with sklearns StratifiedKFold\n",
    "keep_comps = np.array(list(keep_comps))\n",
    "# Need to know how to properly stratify the split\n",
    "is_treat_comp = np.array([1 if c in treat_comps else 0 for c in keep_comps])"
   ]
  },
  {
   "cell_type": "markdown",
   "metadata": {},
   "source": [
    "## Select the features\n",
    "\n",
    "This is a time consuming and costly step. We will do once with the initial DWPC for parameter tuning. We will perform again at the end with the selected parameters."
   ]
  },
  {
   "cell_type": "code",
   "execution_count": 27,
   "metadata": {},
   "outputs": [
    {
     "name": "stdout",
     "output_type": "stream",
     "text": [
      "CPU times: user 4min 53s, sys: 1min 19s, total: 6min 13s\n",
      "Wall time: 6min 13s\n"
     ]
    }
   ],
   "source": [
    "%%time\n",
    "msat = MeanScaledArcsinhTransformer()\n",
    "trans_dwpc = msat.fit_transform(test_dwpc[train_index][:, feat_index])"
   ]
  },
  {
   "cell_type": "code",
   "execution_count": 28,
   "metadata": {},
   "outputs": [
    {
     "name": "stdout",
     "output_type": "stream",
     "text": [
      "Running Cor\n"
     ]
    },
    {
     "name": "stderr",
     "output_type": "stream",
     "text": [
      "/home/rogertu/projects/MechRepoNet/mrn_venv/lib/python3.8/site-packages/numpy/lib/function_base.py:2691: RuntimeWarning: invalid value encountered in true_divide\n",
      "  c /= stddev[:, None]\n",
      "/home/rogertu/projects/MechRepoNet/mrn_venv/lib/python3.8/site-packages/numpy/lib/function_base.py:2692: RuntimeWarning: invalid value encountered in true_divide\n",
      "  c /= stddev[None, :]\n"
     ]
    },
    {
     "name": "stdout",
     "output_type": "stream",
     "text": [
      "Running Chi2\n",
      "Running RFE\n",
      "Fitting estimator with 5913 features.\n",
      "Fitting estimator with 4731 features.\n",
      "Fitting estimator with 3549 features.\n",
      "Fitting estimator with 2367 features.\n",
      "Fitting estimator with 1185 features.\n",
      "Running LR\n",
      "Running RF\n",
      "Running XG\n"
     ]
    },
    {
     "name": "stderr",
     "output_type": "stream",
     "text": [
      "/home/rogertu/projects/MechRepoNet/mrn_venv/lib/python3.8/site-packages/xgboost/sklearn.py:1146: UserWarning: The use of label encoder in XGBClassifier is deprecated and will be removed in a future release. To remove this warning, do the following: 1) Pass option use_label_encoder=False when constructing XGBClassifier object; and 2) Encode your labels (y) as integers starting with 0, i.e. 0, 1, 2, ..., [num_class - 1].\n",
      "  warnings.warn(label_encoder_deprecation_msg, UserWarning)\n"
     ]
    },
    {
     "name": "stdout",
     "output_type": "stream",
     "text": [
      "[07:21:37] WARNING: ../src/learner.cc:1095: Starting in XGBoost 1.3.0, the default evaluation metric used with the objective 'binary:logistic' was changed from 'error' to 'logloss'. Explicitly set eval_metric if you'd like to restore the old behavior.\n"
     ]
    },
    {
     "name": "stderr",
     "output_type": "stream",
     "text": [
      "/home/rogertu/projects/MechRepoNet/mrn_venv/lib/python3.8/site-packages/numpy/core/fromnumeric.py:84: FutureWarning: Dropping of nuisance columns in DataFrame reductions (with 'numeric_only=None') is deprecated; in a future version this will raise TypeError.  Select only valid columns before calling the reduction.\n",
      "  return reduction(axis=axis, out=out, **passkwargs)\n"
     ]
    },
    {
     "name": "stdout",
     "output_type": "stream",
     "text": [
      "CPU times: user 20h 4min 26s, sys: 55min 59s, total: 21h 26s\n",
      "Wall time: 8h 24min 23s\n"
     ]
    }
   ],
   "source": [
    "%%time\n",
    "\n",
    "if tmp_dir.joinpath('test_feats.txt').exists():\n",
    "    keep_features = pd.read_csv(tmp_dir.joinpath('test_feats.txt'))['0'].tolist()\n",
    "else:\n",
    "    fsel = FeatureSelector(num_features=500, min_selections=4, n_jobs=30, \n",
    "                           feature_names=nz_feats.tolist(), always_keep=dmdb_feat, random_state=rs+5)\n",
    "    sel_dwpc = fsel.fit_transform(trans_dwpc, y[train_index])\n",
    "    keep_features = fsel.keep_features_\n",
    "    pd.Series(keep_features).to_csv(tmp_dir.joinpath('test_feats.txt'), index=False)\n",
    "    fsel.feature_selection_df_.to_csv(tmp_dir.joinpath('test_fs_df.csv'), index=False)"
   ]
  },
  {
   "cell_type": "markdown",
   "metadata": {},
   "source": [
    "## Prep for Hyperparam optimization"
   ]
  },
  {
   "cell_type": "code",
   "execution_count": 29,
   "metadata": {},
   "outputs": [],
   "source": [
    "all_dwpc = dict()\n",
    "\n",
    "def get_dwpc(w):\n",
    "    global all_dwpc\n",
    "    \n",
    "    # only extract if not previously extracted\n",
    "    if w not in all_dwpc.keys():\n",
    "        mg.update_w(w)\n",
    "        (pairs, feats), dwpc = mg.extract_dwpc(metapaths=keep_features, \n",
    "                                 start_nodes=list(keep_comps), \n",
    "                                 end_nodes=list(keep_dis),\n",
    "                                 return_sparse=True,\n",
    "                                 sparse_df=False,\n",
    "                                 n_jobs=30)\n",
    "        # next step is split, so need sparse rows\n",
    "        dwpc = dwpc.tocoo().tocsr()\n",
    "        #all_dwpc[w] = dwpc\n",
    "        return dwpc\n",
    "    else:\n",
    "        return all_dwpc[w]"
   ]
  },
  {
   "cell_type": "code",
   "execution_count": 30,
   "metadata": {},
   "outputs": [],
   "source": [
    "def neg_log_scal(val):\n",
    "    \"\"\"Scale values logrithmicly. Larger input yields smaller result\"\"\"\n",
    "    return (1-np.log1p(val)) \n",
    "\n",
    "def pos_log_scal(val):\n",
    "    \"\"\"Scale values logrithmicly. Larger input yields larger result\"\"\"\n",
    "    return np.log1p(val)\n",
    "\n",
    "\n",
    "def auroc_mean_loss(auroc_mean, strength=2, scal_factor=.5):\n",
    "    mean_roc_shift =  (np.abs(auroc_mean - 0.5)) / scal_factor\n",
    "    baseline_roc = neg_log_scal(1)\n",
    "    return (neg_log_scal(mean_roc_shift) - baseline_roc) * strength\n",
    "\n",
    "def avg_pre_mean_loss(avg_pre_mean, strength=2.5, scal_factor=.15):\n",
    "    avg_pre_mean_scal = avg_pre_mean / scal_factor\n",
    "    baseline_prc = neg_log_scal(1)\n",
    "    return (neg_log_scal(avg_pre_mean_scal) - baseline_prc) * strength\n",
    "\n",
    "def auroc_std_loss(auroc_std, strength=2):\n",
    "    return pos_log_scal(auroc_std) * strength\n",
    "\n",
    "def avg_pre_std_loss(avg_pre_std, strength=2):\n",
    "    return pos_log_scal(avg_pre_std) * strength\n",
    "\n",
    "def sigmoid(x):\n",
    "    return 1 / (1 + np.exp(-x))\n",
    "\n",
    "def calc_loss(auroc_mean, avg_pre_mean, auroc_std, avg_pre_std):\n",
    "    mean_roc_loss = auroc_mean_loss(auroc_mean)\n",
    "    mean_pre_loss = avg_pre_mean_loss(avg_pre_mean)\n",
    "    std_roc_loss = auroc_std_loss(auroc_std)\n",
    "    std_pre_loss = avg_pre_std_loss(avg_pre_std)\n",
    "    \n",
    "    return sigmoid(mean_roc_loss + mean_pre_loss + std_roc_loss + std_pre_loss)-1\n",
    "    \n",
    "    "
   ]
  },
  {
   "cell_type": "code",
   "execution_count": 31,
   "metadata": {},
   "outputs": [],
   "source": [
    "import pickle\n",
    "from time import time\n",
    "\n",
    "def hyperopt(param_space, y, num_eval):\n",
    "\n",
    "    def objective_function(params):\n",
    "        dwpc_params = {k.split('__')[1]: v for k, v in params.items() if k.split('__')[0] == 'dwpc'}\n",
    "        enet_params = {k.split('__')[1]: v for k, v in params.items() if k.split('__')[0] == 'enet'}\n",
    "\n",
    "        this_w = dwpc_params['w']\n",
    "\n",
    "        # Set up the post feature extraction pipeline\n",
    "        post_extraction_pipeline = Pipeline(\n",
    "            [('transformer', MeanScaledArcsinhTransformer()),\n",
    "             ('maxabs_scale', MaxAbsScaler()),\n",
    "             ('e_net', LogisticRegression(penalty='elasticnet', solver='saga', max_iter=100, **enet_params,\n",
    "                                          random_state=rs+6))], verbose=True)\n",
    "\n",
    "        ## Get the dwpc information for the current pairs\n",
    "        dwpc = get_dwpc(this_w)\n",
    "        this_dwpc = dwpc[train_index]\n",
    "\n",
    "        cv = cross_validate(post_extraction_pipeline, this_dwpc, y, cv=5, \n",
    "                            scoring=['average_precision', 'roc_auc'], return_estimator=True)\n",
    "\n",
    "        # Write out scores for each run\n",
    "        with open(tmp_dir.joinpath('scores_w_{0:1.4f}_C_{1:1.5f}_l1_{2:1.4f}.txt'.format(\n",
    "                                   this_w, enet_params['C'], enet_params['l1_ratio'])), 'w') as f_out:\n",
    "\n",
    "            f_out.write(', '.join([str(s) for s in cv['test_average_precision']]))\n",
    "            f_out.write('\\n')\n",
    "            f_out.write(', '.join([str(s) for s in cv['test_roc_auc']]))\n",
    "            f_out.write('\\n')\n",
    "\n",
    "        auroc_mean = cv['test_roc_auc'].mean()\n",
    "        avg_pre_mean = cv['test_average_precision'].mean()\n",
    "        auroc_std = cv['test_roc_auc'].std()\n",
    "        avg_pre_std = cv['test_average_precision'].std()\n",
    "        \n",
    "        score = calc_loss(auroc_mean, avg_pre_mean, auroc_std, avg_pre_std)\n",
    "        \n",
    "        print('Mean AUROC: {:1.4f}'.format(auroc_mean))\n",
    "        print('Mean Avg Pre: {:1.4f}'.format(avg_pre_mean))\n",
    "        print('STD AUROC: {:1.4f}'.format(auroc_std))\n",
    "        print('STD Avg Pre: {:1.4f}'.format(avg_pre_std))\n",
    "        print('Loss: {:1.4f}'.format(score))\n",
    "        \n",
    "        return {'loss': score, 'status': STATUS_OK}\n",
    "\n",
    "    start = time()\n",
    "   \n",
    "    \n",
    "    trials = Trials()\n",
    "    best_param = fmin(objective_function, \n",
    "                      param_space, \n",
    "                      algo=tpe.suggest, \n",
    "                      max_evals=num_eval, \n",
    "                      trials=trials,\n",
    "                      rstate= np.random.RandomState(1))\n",
    "    \n",
    "    print(time() - start)\n",
    "    return trials, best_param\n",
    "    "
   ]
  },
  {
   "cell_type": "code",
   "execution_count": 32,
   "metadata": {},
   "outputs": [],
   "source": [
    "# Previous best before adding new keep_features: \n",
    "# '1l_ratio': 0.10455936193818496, 'C': 0.000556880900960339, 'w': 0.2640929485381926\n",
    "param_hyperopt = {\n",
    "    'dwpc__w': hp.uniform('w', 0.01, 1),\n",
    "    'enet__C': hp.loguniform('C', np.log(0.001), np.log(1)),\n",
    "    'enet__l1_ratio': hp.uniform('l1_ratio', .01, .99),\n",
    "}"
   ]
  },
  {
   "cell_type": "code",
   "execution_count": 33,
   "metadata": {},
   "outputs": [
    {
     "name": "stdout",
     "output_type": "stream",
     "text": [
      "Changing w from 0.4 to 0.2471551211320533. Please wait...                                                               \n",
      "  0%|                                                                            | 0/50 [00:00<?, ?trial/s, best loss=?]"
     ]
    },
    {
     "name": "stderr",
     "output_type": "stream",
     "text": [
      "  0%|          | 0/68 [00:00<?, ?it/s]\n",
      "\u001b[A\n",
      "  1%|1         | 1/68 [00:00<00:06,  9.97it/s]\n",
      "\u001b[A\n",
      " 12%|#1        | 8/68 [00:00<00:01, 41.29it/s]\n",
      "\u001b[A\n",
      " 31%|###       | 21/68 [00:00<00:00, 79.15it/s]\n",
      "\u001b[A\n",
      " 62%|######1   | 42/68 [00:00<00:00, 128.38it/s]\n",
      "\u001b[A\n",
      " 82%|########2 | 56/68 [00:00<00:00, 122.22it/s]\n",
      "\u001b[A\n",
      "100%|##########| 68/68 [00:00<00:00, 100.10it/s]\n"
     ]
    },
    {
     "name": "stdout",
     "output_type": "stream",
     "text": [
      "Preparing function arguments...                                                                                         \n",
      "Calculating DWPCs...                                                                                                    \n",
      "  0%|                                                                            | 0/50 [00:04<?, ?trial/s, best loss=?]"
     ]
    },
    {
     "name": "stderr",
     "output_type": "stream",
     "text": [
      "  0%|          | 0/141 [00:00<?, ?it/s]\n",
      "\u001b[A\n",
      "  1%|          | 1/141 [00:00<00:15,  9.09it/s]\n",
      "\u001b[A\n",
      "  3%|2         | 4/141 [00:00<00:06, 20.07it/s]\n",
      "\u001b[A\n",
      "  6%|6         | 9/141 [00:00<00:04, 30.23it/s]\n",
      "\u001b[A\n",
      "  9%|8         | 12/141 [00:00<00:04, 26.14it/s]\n",
      "\u001b[A\n",
      " 14%|#4        | 20/141 [00:00<00:02, 41.25it/s]\n",
      "\u001b[A\n",
      " 18%|#8        | 26/141 [00:00<00:02, 44.54it/s]\n",
      "\u001b[A\n",
      " 23%|##3       | 33/141 [00:00<00:02, 48.99it/s]\n",
      "\u001b[A\n",
      " 30%|##9       | 42/141 [00:00<00:01, 59.68it/s]\n",
      "\u001b[A\n",
      " 35%|###4      | 49/141 [00:01<00:01, 56.80it/s]\n",
      "\u001b[A\n",
      " 40%|###9      | 56/141 [00:01<00:01, 56.82it/s]\n",
      "\u001b[A\n",
      " 44%|####3     | 62/141 [00:01<00:01, 54.63it/s]\n",
      "\u001b[A\n",
      " 48%|####8     | 68/141 [00:01<00:01, 52.10it/s]\n",
      "\u001b[A\n",
      " 54%|#####3    | 76/141 [00:01<00:01, 58.31it/s]\n",
      "\u001b[A\n",
      " 60%|######    | 85/141 [00:01<00:00, 61.81it/s]\n",
      "\u001b[A\n",
      " 65%|######5   | 92/141 [00:01<00:00, 58.79it/s]\n",
      "\u001b[A\n",
      " 72%|#######1  | 101/141 [00:01<00:00, 61.96it/s]\n",
      "\u001b[A\n",
      " 77%|#######6  | 108/141 [00:02<00:00, 50.94it/s]\n",
      "\u001b[A\n",
      " 84%|########3 | 118/141 [00:02<00:00, 59.33it/s]\n",
      "\u001b[A\n",
      " 89%|########8 | 125/141 [00:02<00:00, 57.83it/s]\n",
      "\u001b[A\n",
      " 95%|#########5| 134/141 [00:02<00:00, 62.26it/s]\n",
      "\u001b[A\n",
      " 95%|#########5| 134/141 [00:21<00:00, 62.26it/s]\n",
      "\u001b[A\n",
      " 98%|#########7| 138/141 [00:52<00:06,  2.16s/it]\n",
      "\u001b[A\n",
      " 99%|#########8| 139/141 [00:53<00:04,  2.12s/it]\n",
      "\u001b[A\n",
      " 99%|#########8| 139/141 [01:11<00:04,  2.12s/it]\n",
      "\u001b[A\n",
      "100%|##########| 141/141 [02:03<00:00,  6.76s/it]\n",
      "\u001b[A\n",
      "100%|##########| 141/141 [02:03<00:00,  1.14it/s]\n"
     ]
    },
    {
     "name": "stdout",
     "output_type": "stream",
     "text": [
      "                                                                                                                        \n",
      "Reshaping Result Matrices...\n",
      "  0%|                                                                            | 0/50 [02:11<?, ?trial/s, best loss=?]"
     ]
    },
    {
     "name": "stderr",
     "output_type": "stream",
     "text": [
      "  0%|          | 0/141 [00:00<?, ?it/s]\n",
      "\u001b[A\n",
      "  1%|1         | 2/141 [00:00<00:06, 19.99it/s]\n",
      "\u001b[A\n",
      "  4%|4         | 6/141 [00:00<00:05, 24.73it/s]\n",
      "\u001b[A\n",
      "  9%|9         | 13/141 [00:00<00:03, 34.39it/s]\n",
      "\u001b[A\n",
      " 12%|#2        | 17/141 [00:00<00:04, 28.58it/s]\n",
      "\u001b[A\n",
      " 16%|#5        | 22/141 [00:00<00:03, 34.06it/s]\n",
      "\u001b[A\n",
      " 19%|#9        | 27/141 [00:00<00:03, 36.45it/s]\n",
      "\u001b[A\n",
      " 22%|##1       | 31/141 [00:00<00:03, 35.00it/s]\n",
      "\u001b[A\n",
      " 27%|##6       | 38/141 [00:01<00:02, 43.92it/s]\n",
      "\u001b[A\n",
      " 32%|###1      | 45/141 [00:01<00:01, 49.63it/s]\n",
      "\u001b[A\n",
      " 36%|###6      | 51/141 [00:01<00:01, 48.38it/s]\n",
      "\u001b[A\n",
      " 40%|###9      | 56/141 [00:01<00:01, 45.99it/s]\n",
      "\u001b[A\n",
      " 46%|####6     | 65/141 [00:01<00:01, 55.87it/s]\n",
      "\u001b[A\n",
      " 50%|#####     | 71/141 [00:01<00:01, 51.36it/s]\n",
      "\u001b[A\n",
      " 55%|#####4    | 77/141 [00:01<00:01, 45.01it/s]\n",
      "\u001b[A\n",
      " 62%|######2   | 88/141 [00:01<00:00, 57.76it/s]\n",
      "\u001b[A\n",
      " 67%|######7   | 95/141 [00:02<00:00, 54.32it/s]\n",
      "\u001b[A\n",
      " 72%|#######1  | 101/141 [00:02<00:00, 47.00it/s]\n",
      "\u001b[A\n",
      " 77%|#######7  | 109/141 [00:02<00:00, 53.95it/s]\n",
      "\u001b[A\n",
      " 82%|########1 | 115/141 [00:02<00:00, 53.27it/s]\n",
      "\u001b[A\n",
      " 87%|########7 | 123/141 [00:02<00:00, 58.53it/s]\n",
      "\u001b[A\n",
      " 92%|#########2| 130/141 [00:02<00:00, 53.54it/s]\n",
      "\u001b[A\n",
      " 96%|#########6| 136/141 [00:02<00:00, 50.47it/s]\n",
      "\u001b[A\n",
      "100%|##########| 141/141 [00:02<00:00, 47.76it/s]\n"
     ]
    },
    {
     "name": "stdout",
     "output_type": "stream",
     "text": [
      "Stacking columns...                                                                                                     \n",
      "[Pipeline] ....... (step 1 of 3) Processing transformer, total=  22.3s                                                  \n",
      "[Pipeline] ...... (step 2 of 3) Processing maxabs_scale, total=  14.4s                                                  \n",
      "[Pipeline] ............. (step 3 of 3) Processing e_net, total=13.6min                                                  \n",
      "  0%|                                                                            | 0/50 [16:35<?, ?trial/s, best loss=?]"
     ]
    },
    {
     "name": "stderr",
     "output_type": "stream",
     "text": [
      "/home/rogertu/projects/MechRepoNet/mrn_venv/lib/python3.8/site-packages/sklearn/linear_model/_sag.py:328: ConvergenceWarning: The max_iter was reached which means the coef_ did not converge\n",
      "  warnings.warn(\"The max_iter was reached which means \"\n",
      "\n"
     ]
    },
    {
     "name": "stdout",
     "output_type": "stream",
     "text": [
      "[Pipeline] ....... (step 1 of 3) Processing transformer, total=  21.6s                                                  \n",
      "[Pipeline] ...... (step 2 of 3) Processing maxabs_scale, total=  13.8s                                                  \n",
      "[Pipeline] ............. (step 3 of 3) Processing e_net, total=13.3min                                                  \n",
      "  0%|                                                                            | 0/50 [30:36<?, ?trial/s, best loss=?]"
     ]
    },
    {
     "name": "stderr",
     "output_type": "stream",
     "text": [
      "/home/rogertu/projects/MechRepoNet/mrn_venv/lib/python3.8/site-packages/sklearn/linear_model/_sag.py:328: ConvergenceWarning: The max_iter was reached which means the coef_ did not converge\n",
      "  warnings.warn(\"The max_iter was reached which means \"\n",
      "\n"
     ]
    },
    {
     "name": "stdout",
     "output_type": "stream",
     "text": [
      "[Pipeline] ....... (step 1 of 3) Processing transformer, total=  24.5s                                                  \n",
      "[Pipeline] ...... (step 2 of 3) Processing maxabs_scale, total=  16.0s                                                  \n",
      "[Pipeline] ............. (step 3 of 3) Processing e_net, total=13.7min                                                  \n",
      "  0%|                                                                            | 0/50 [45:11<?, ?trial/s, best loss=?]"
     ]
    },
    {
     "name": "stderr",
     "output_type": "stream",
     "text": [
      "/home/rogertu/projects/MechRepoNet/mrn_venv/lib/python3.8/site-packages/sklearn/linear_model/_sag.py:328: ConvergenceWarning: The max_iter was reached which means the coef_ did not converge\n",
      "  warnings.warn(\"The max_iter was reached which means \"\n",
      "\n"
     ]
    },
    {
     "name": "stdout",
     "output_type": "stream",
     "text": [
      "[Pipeline] ....... (step 1 of 3) Processing transformer, total=  25.9s                                                  \n",
      "[Pipeline] ...... (step 2 of 3) Processing maxabs_scale, total=  17.2s                                                  \n",
      "[Pipeline] ............. (step 3 of 3) Processing e_net, total=13.9min                                                  \n",
      "  0%|                                                                            | 0/50 [59:57<?, ?trial/s, best loss=?]"
     ]
    },
    {
     "name": "stderr",
     "output_type": "stream",
     "text": [
      "/home/rogertu/projects/MechRepoNet/mrn_venv/lib/python3.8/site-packages/sklearn/linear_model/_sag.py:328: ConvergenceWarning: The max_iter was reached which means the coef_ did not converge\n",
      "  warnings.warn(\"The max_iter was reached which means \"\n",
      "\n"
     ]
    },
    {
     "name": "stdout",
     "output_type": "stream",
     "text": [
      "[Pipeline] ....... (step 1 of 3) Processing transformer, total=  23.3s                                                  \n",
      "[Pipeline] ...... (step 2 of 3) Processing maxabs_scale, total=  15.2s                                                  \n",
      "[Pipeline] ............. (step 3 of 3) Processing e_net, total=13.7min                                                  \n",
      "  0%|                                                                          | 0/50 [1:14:24<?, ?trial/s, best loss=?]"
     ]
    },
    {
     "name": "stderr",
     "output_type": "stream",
     "text": [
      "/home/rogertu/projects/MechRepoNet/mrn_venv/lib/python3.8/site-packages/sklearn/linear_model/_sag.py:328: ConvergenceWarning: The max_iter was reached which means the coef_ did not converge\n",
      "  warnings.warn(\"The max_iter was reached which means \"\n",
      "\n"
     ]
    },
    {
     "name": "stdout",
     "output_type": "stream",
     "text": [
      "Mean AUROC: 0.6922                                                                                                      \n",
      "Mean Avg Pre: 0.0134                                                                                                    \n",
      "STD AUROC: 0.0440                                                                                                       \n",
      "STD Avg Pre: 0.0089                                                                                                     \n",
      "Loss: -0.0864                                                                                                           \n",
      "Changing w from 0.2471551211320533 to 0.7056185425199153. Please wait...                                                \n",
      "  2%|▊                                        | 1/50 [1:14:31<60:51:29, 4471.22s/trial, best loss: -0.08640646373868188]"
     ]
    },
    {
     "name": "stderr",
     "output_type": "stream",
     "text": [
      "  0%|          | 0/68 [00:00<?, ?it/s]\n",
      "\u001b[A\n",
      "  1%|1         | 1/68 [00:00<00:08,  7.97it/s]\n",
      "\u001b[A\n",
      "  7%|7         | 5/68 [00:00<00:02, 23.11it/s]\n",
      "\u001b[A\n",
      " 34%|###3      | 23/68 [00:00<00:00, 86.50it/s]\n",
      "\u001b[A\n",
      " 54%|#####4    | 37/68 [00:00<00:00, 95.86it/s]\n",
      "\u001b[A\n",
      " 88%|########8 | 60/68 [00:00<00:00, 138.80it/s]\n",
      "\u001b[A\n",
      "100%|##########| 68/68 [00:00<00:00, 104.15it/s]\n"
     ]
    },
    {
     "name": "stdout",
     "output_type": "stream",
     "text": [
      "Preparing function arguments...                                                                                         \n",
      "Calculating DWPCs...                                                                                                    \n",
      "  2%|▊                                        | 1/50 [1:14:36<60:51:29, 4471.22s/trial, best loss: -0.08640646373868188]"
     ]
    },
    {
     "name": "stderr",
     "output_type": "stream",
     "text": [
      "  0%|          | 0/141 [00:00<?, ?it/s]\n",
      "\u001b[A\n",
      "  1%|          | 1/141 [00:00<00:16,  8.51it/s]\n",
      "\u001b[A\n",
      "  4%|3         | 5/141 [00:00<00:06, 20.48it/s]\n",
      "\u001b[A\n",
      "  8%|7         | 11/141 [00:00<00:04, 30.64it/s]\n",
      "\u001b[A\n",
      " 10%|9         | 14/141 [00:00<00:04, 26.22it/s]\n",
      "\u001b[A\n",
      " 14%|#4        | 20/141 [00:00<00:03, 35.61it/s]\n",
      "\u001b[A\n",
      " 18%|#8        | 26/141 [00:00<00:02, 42.56it/s]\n",
      "\u001b[A\n",
      " 23%|##2       | 32/141 [00:00<00:02, 45.32it/s]\n",
      "\u001b[A\n",
      " 28%|##8       | 40/141 [00:01<00:01, 51.66it/s]\n",
      "\u001b[A\n",
      " 35%|###4      | 49/141 [00:01<00:01, 59.68it/s]\n",
      "\u001b[A\n",
      " 40%|###9      | 56/141 [00:01<00:01, 53.32it/s]\n",
      "\u001b[A\n",
      " 44%|####3     | 62/141 [00:01<00:01, 44.22it/s]\n",
      "\u001b[A\n",
      " 48%|####8     | 68/141 [00:01<00:01, 46.30it/s]\n",
      "\u001b[A\n",
      " 53%|#####3    | 75/141 [00:01<00:01, 51.71it/s]\n",
      "\u001b[A\n",
      " 61%|######    | 86/141 [00:01<00:00, 56.53it/s]\n",
      "\u001b[A\n",
      " 65%|######5   | 92/141 [00:02<00:00, 51.20it/s]\n",
      "\u001b[A\n",
      " 70%|#######   | 99/141 [00:02<00:00, 54.19it/s]\n",
      "\u001b[A\n",
      " 74%|#######4  | 105/141 [00:02<00:00, 44.64it/s]\n",
      "\u001b[A\n",
      " 78%|#######8  | 110/141 [00:02<00:00, 44.48it/s]\n",
      "\u001b[A\n",
      " 85%|########5 | 120/141 [00:02<00:00, 57.15it/s]\n",
      "\u001b[A\n",
      " 90%|######### | 127/141 [00:02<00:00, 50.96it/s]\n",
      "\u001b[A\n",
      " 95%|#########5| 134/141 [00:02<00:00, 52.86it/s]\n",
      "\u001b[A\n",
      " 95%|#########5| 134/141 [00:20<00:00, 52.86it/s]\n",
      "\u001b[A\n",
      " 98%|#########7| 138/141 [00:51<00:07,  2.35s/it]\n",
      "\u001b[A\n",
      " 99%|#########8| 139/141 [00:53<00:04,  2.31s/it]\n",
      "\u001b[A\n",
      " 99%|#########8| 139/141 [01:10<00:04,  2.31s/it]\n",
      "\u001b[A\n",
      "100%|##########| 141/141 [02:01<00:00,  7.27s/it]\n",
      "\u001b[A\n",
      "100%|##########| 141/141 [02:01<00:00,  1.16it/s]\n"
     ]
    },
    {
     "name": "stdout",
     "output_type": "stream",
     "text": [
      "                                                                                                                        \n",
      "Reshaping Result Matrices...\n",
      "  2%|▊                                        | 1/50 [1:16:41<60:51:29, 4471.22s/trial, best loss: -0.08640646373868188]"
     ]
    },
    {
     "name": "stderr",
     "output_type": "stream",
     "text": [
      "  0%|          | 0/141 [00:00<?, ?it/s]\n",
      "\u001b[A\n",
      "  1%|1         | 2/141 [00:00<00:07, 19.58it/s]\n",
      "\u001b[A\n",
      "  4%|4         | 6/141 [00:00<00:05, 24.45it/s]\n",
      "\u001b[A\n",
      "  9%|9         | 13/141 [00:00<00:03, 34.15it/s]\n",
      "\u001b[A\n",
      " 12%|#2        | 17/141 [00:00<00:04, 28.60it/s]\n",
      "\u001b[A\n",
      " 17%|#7        | 24/141 [00:00<00:02, 39.18it/s]\n",
      "\u001b[A\n",
      " 21%|##        | 29/141 [00:00<00:02, 39.60it/s]\n",
      "\u001b[A\n",
      " 24%|##4       | 34/141 [00:00<00:02, 36.01it/s]\n",
      "\u001b[A\n",
      " 29%|##9       | 41/141 [00:01<00:02, 43.96it/s]\n",
      "\u001b[A\n",
      " 35%|###4      | 49/141 [00:01<00:01, 50.12it/s]\n",
      "\u001b[A\n",
      " 39%|###9      | 55/141 [00:01<00:01, 48.52it/s]\n",
      "\u001b[A\n",
      " 44%|####3     | 62/141 [00:01<00:01, 51.05it/s]\n",
      "\u001b[A\n",
      " 50%|####9     | 70/141 [00:01<00:01, 52.81it/s]\n",
      "\u001b[A\n",
      " 54%|#####3    | 76/141 [00:01<00:01, 43.83it/s]\n",
      "\u001b[A\n",
      " 62%|######2   | 88/141 [00:01<00:00, 58.35it/s]\n",
      "\u001b[A\n",
      " 67%|######7   | 95/141 [00:02<00:00, 55.07it/s]\n",
      "\u001b[A\n",
      " 72%|#######1  | 101/141 [00:02<00:00, 47.62it/s]\n",
      "\u001b[A\n",
      " 77%|#######7  | 109/141 [00:02<00:00, 54.54it/s]\n",
      "\u001b[A\n",
      " 82%|########1 | 115/141 [00:02<00:00, 53.69it/s]\n",
      "\u001b[A\n",
      " 87%|########7 | 123/141 [00:02<00:00, 58.69it/s]\n",
      "\u001b[A\n",
      " 92%|#########2| 130/141 [00:02<00:00, 53.73it/s]\n",
      "\u001b[A\n",
      " 96%|#########6| 136/141 [00:02<00:00, 50.64it/s]\n",
      "\u001b[A\n",
      "100%|##########| 141/141 [00:02<00:00, 48.18it/s]\n"
     ]
    },
    {
     "name": "stdout",
     "output_type": "stream",
     "text": [
      "Stacking columns...                                                                                                     \n",
      "[Pipeline] ....... (step 1 of 3) Processing transformer, total=  22.4s                                                  \n",
      "[Pipeline] ...... (step 2 of 3) Processing maxabs_scale, total=  14.5s                                                  \n",
      "[Pipeline] ............. (step 3 of 3) Processing e_net, total= 7.3min                                                  \n",
      "[Pipeline] ....... (step 1 of 3) Processing transformer, total=  21.7s                                                  \n",
      "[Pipeline] ...... (step 2 of 3) Processing maxabs_scale, total=  13.8s                                                  \n",
      "[Pipeline] ............. (step 3 of 3) Processing e_net, total=10.1min                                                  \n",
      "[Pipeline] ....... (step 1 of 3) Processing transformer, total=  24.6s                                                  \n",
      "[Pipeline] ...... (step 2 of 3) Processing maxabs_scale, total=  16.1s                                                  \n",
      "[Pipeline] ............. (step 3 of 3) Processing e_net, total= 7.4min                                                  \n",
      "[Pipeline] ....... (step 1 of 3) Processing transformer, total=  26.1s                                                  \n",
      "[Pipeline] ...... (step 2 of 3) Processing maxabs_scale, total=  17.2s                                                  \n",
      "[Pipeline] ............. (step 3 of 3) Processing e_net, total= 7.7min                                                  \n",
      "[Pipeline] ....... (step 1 of 3) Processing transformer, total=  23.5s                                                  \n",
      "[Pipeline] ...... (step 2 of 3) Processing maxabs_scale, total=  15.3s                                                  \n",
      "[Pipeline] ............. (step 3 of 3) Processing e_net, total=12.1min                                                  \n",
      "Mean AUROC: 0.7085                                                                                                      \n",
      "Mean Avg Pre: 0.0138                                                                                                    \n",
      "STD AUROC: 0.0744                                                                                                       \n",
      "STD Avg Pre: 0.0091                                                                                                     \n",
      "Loss: -0.0860                                                                                                           \n",
      "Changing w from 0.7056185425199153 to 0.6867218654755485. Please wait...                                                \n",
      "  4%|█▋                                       | 2/50 [2:05:19<48:27:31, 3634.40s/trial, best loss: -0.08640646373868188]"
     ]
    },
    {
     "name": "stderr",
     "output_type": "stream",
     "text": [
      "  0%|          | 0/68 [00:00<?, ?it/s]\n",
      "\u001b[A\n",
      "  1%|1         | 1/68 [00:00<00:08,  7.71it/s]\n",
      "\u001b[A\n",
      "  6%|5         | 4/68 [00:00<00:03, 19.26it/s]\n",
      "\u001b[A\n",
      " 32%|###2      | 22/68 [00:00<00:00, 82.88it/s]\n",
      "\u001b[A\n",
      " 54%|#####4    | 37/68 [00:00<00:00, 94.11it/s]\n",
      "\u001b[A\n",
      " 96%|#########5| 65/68 [00:00<00:00, 150.96it/s]\n",
      "\u001b[A\n",
      "100%|##########| 68/68 [00:00<00:00, 104.76it/s]\n"
     ]
    },
    {
     "name": "stdout",
     "output_type": "stream",
     "text": [
      "Preparing function arguments...                                                                                         \n",
      "Calculating DWPCs...                                                                                                    \n",
      "  4%|█▋                                       | 2/50 [2:05:25<48:27:31, 3634.40s/trial, best loss: -0.08640646373868188]"
     ]
    },
    {
     "name": "stderr",
     "output_type": "stream",
     "text": [
      "  0%|          | 0/141 [00:00<?, ?it/s]\n",
      "\u001b[A\n",
      "  1%|          | 1/141 [00:00<00:16,  8.41it/s]\n",
      "\u001b[A\n",
      "  4%|4         | 6/141 [00:00<00:05, 26.73it/s]\n",
      "\u001b[A\n",
      "  6%|6         | 9/141 [00:00<00:04, 26.48it/s]\n",
      "\u001b[A\n",
      "  9%|8         | 12/141 [00:00<00:04, 26.70it/s]\n",
      "\u001b[A\n",
      " 11%|#1        | 16/141 [00:00<00:04, 30.11it/s]\n",
      "\u001b[A\n",
      " 16%|#5        | 22/141 [00:00<00:03, 38.80it/s]\n",
      "\u001b[A\n",
      " 21%|##        | 29/141 [00:00<00:02, 42.79it/s]\n",
      "\u001b[A\n",
      " 25%|##4       | 35/141 [00:00<00:02, 44.07it/s]\n",
      "\u001b[A\n",
      " 35%|###4      | 49/141 [00:01<00:01, 63.00it/s]\n",
      "\u001b[A\n",
      " 40%|###9      | 56/141 [00:01<00:01, 58.10it/s]\n",
      "\u001b[A\n",
      " 44%|####3     | 62/141 [00:01<00:01, 54.40it/s]\n",
      "\u001b[A\n",
      " 48%|####8     | 68/141 [00:01<00:01, 46.97it/s]\n",
      "\u001b[A\n",
      " 55%|#####5    | 78/141 [00:01<00:01, 57.52it/s]\n",
      "\u001b[A\n",
      " 60%|######    | 85/141 [00:01<00:00, 56.85it/s]\n",
      "\u001b[A\n",
      " 65%|######4   | 91/141 [00:01<00:01, 47.96it/s]\n",
      "\u001b[A\n",
      " 69%|######8   | 97/141 [00:02<00:01, 41.00it/s]\n",
      "\u001b[A\n",
      " 72%|#######2  | 102/141 [00:02<00:00, 39.20it/s]\n",
      "\u001b[A\n",
      " 76%|#######5  | 107/141 [00:02<00:00, 37.71it/s]\n",
      "\u001b[A\n",
      " 79%|#######9  | 112/141 [00:02<00:00, 40.11it/s]\n",
      "\u001b[A\n",
      " 86%|########5 | 121/141 [00:02<00:00, 46.48it/s]\n",
      "\u001b[A\n",
      " 89%|########9 | 126/141 [00:02<00:00, 45.41it/s]\n",
      "\u001b[A\n",
      " 95%|#########5| 134/141 [00:02<00:00, 52.00it/s]\n",
      "\u001b[A\n",
      " 95%|#########5| 134/141 [00:22<00:00, 52.00it/s]\n",
      "\u001b[A\n",
      " 98%|#########7| 138/141 [00:51<00:07,  2.51s/it]\n",
      "\u001b[A\n",
      " 99%|#########9| 140/141 [00:54<00:02,  2.38s/it]\n",
      "\u001b[A\n",
      " 99%|#########9| 140/141 [01:12<00:02,  2.38s/it]\n",
      "\u001b[A\n",
      "100%|##########| 141/141 [02:03<00:00,  7.93s/it]\n",
      "\u001b[A\n",
      "100%|##########| 141/141 [02:03<00:00,  1.14it/s]\n"
     ]
    },
    {
     "name": "stdout",
     "output_type": "stream",
     "text": [
      "                                                                                                                        \n",
      "Reshaping Result Matrices...\n",
      "  4%|█▋                                       | 2/50 [2:07:32<48:27:31, 3634.40s/trial, best loss: -0.08640646373868188]"
     ]
    },
    {
     "name": "stderr",
     "output_type": "stream",
     "text": [
      "  0%|          | 0/141 [00:00<?, ?it/s]\n",
      "\u001b[A\n",
      "  1%|          | 1/141 [00:00<00:19,  7.09it/s]\n",
      "\u001b[A\n",
      "  4%|4         | 6/141 [00:00<00:06, 21.67it/s]\n",
      "\u001b[A\n",
      "  9%|9         | 13/141 [00:00<00:04, 31.92it/s]\n",
      "\u001b[A\n",
      " 12%|#2        | 17/141 [00:00<00:04, 27.62it/s]\n",
      "\u001b[A\n",
      " 17%|#7        | 24/141 [00:00<00:03, 38.12it/s]\n",
      "\u001b[A\n",
      " 21%|##        | 29/141 [00:00<00:02, 38.87it/s]\n",
      "\u001b[A\n",
      " 24%|##4       | 34/141 [00:01<00:02, 35.73it/s]\n",
      "\u001b[A\n",
      " 29%|##9       | 41/141 [00:01<00:02, 43.70it/s]\n",
      "\u001b[A\n",
      " 35%|###4      | 49/141 [00:01<00:01, 49.90it/s]\n",
      "\u001b[A\n",
      " 39%|###9      | 55/141 [00:01<00:01, 48.72it/s]\n",
      "\u001b[A\n",
      " 44%|####3     | 62/141 [00:01<00:01, 51.35it/s]\n",
      "\u001b[A\n",
      " 50%|####9     | 70/141 [00:01<00:01, 53.28it/s]\n",
      "\u001b[A\n",
      " 54%|#####3    | 76/141 [00:01<00:01, 44.20it/s]\n",
      "\u001b[A\n",
      " 62%|######2   | 88/141 [00:01<00:00, 58.74it/s]\n",
      "\u001b[A\n",
      " 67%|######7   | 95/141 [00:02<00:00, 55.56it/s]\n",
      "\u001b[A\n",
      " 72%|#######1  | 101/141 [00:02<00:00, 48.28it/s]\n",
      "\u001b[A\n",
      " 77%|#######7  | 109/141 [00:02<00:00, 55.20it/s]\n",
      "\u001b[A\n",
      " 82%|########1 | 115/141 [00:02<00:00, 54.51it/s]\n",
      "\u001b[A\n",
      " 87%|########7 | 123/141 [00:02<00:00, 59.68it/s]\n",
      "\u001b[A\n",
      " 92%|#########2| 130/141 [00:02<00:00, 54.79it/s]\n",
      "\u001b[A\n",
      " 96%|#########6| 136/141 [00:02<00:00, 51.46it/s]\n",
      "\u001b[A\n",
      "100%|##########| 141/141 [00:02<00:00, 47.78it/s]\n"
     ]
    },
    {
     "name": "stdout",
     "output_type": "stream",
     "text": [
      "Stacking columns...                                                                                                     \n",
      "[Pipeline] ....... (step 1 of 3) Processing transformer, total=  22.0s                                                  \n",
      "[Pipeline] ...... (step 2 of 3) Processing maxabs_scale, total=  14.1s                                                  \n",
      "[Pipeline] ............. (step 3 of 3) Processing e_net, total= 9.4min                                                  \n",
      "  4%|█▋                                       | 2/50 [2:17:41<48:27:31, 3634.40s/trial, best loss: -0.08640646373868188]"
     ]
    },
    {
     "name": "stderr",
     "output_type": "stream",
     "text": [
      "/home/rogertu/projects/MechRepoNet/mrn_venv/lib/python3.8/site-packages/sklearn/linear_model/_sag.py:328: ConvergenceWarning: The max_iter was reached which means the coef_ did not converge\n",
      "  warnings.warn(\"The max_iter was reached which means \"\n",
      "\n"
     ]
    },
    {
     "name": "stdout",
     "output_type": "stream",
     "text": [
      "[Pipeline] ....... (step 1 of 3) Processing transformer, total=  21.3s                                                  \n",
      "[Pipeline] ...... (step 2 of 3) Processing maxabs_scale, total=  13.4s                                                  \n",
      "[Pipeline] ............. (step 3 of 3) Processing e_net, total= 9.4min                                                  \n",
      "  4%|█▋                                       | 2/50 [2:27:47<48:27:31, 3634.40s/trial, best loss: -0.08640646373868188]"
     ]
    },
    {
     "name": "stderr",
     "output_type": "stream",
     "text": [
      "/home/rogertu/projects/MechRepoNet/mrn_venv/lib/python3.8/site-packages/sklearn/linear_model/_sag.py:328: ConvergenceWarning: The max_iter was reached which means the coef_ did not converge\n",
      "  warnings.warn(\"The max_iter was reached which means \"\n",
      "\n"
     ]
    },
    {
     "name": "stdout",
     "output_type": "stream",
     "text": [
      "[Pipeline] ....... (step 1 of 3) Processing transformer, total=  24.2s                                                  \n",
      "[Pipeline] ...... (step 2 of 3) Processing maxabs_scale, total=  15.7s                                                  \n",
      "[Pipeline] ............. (step 3 of 3) Processing e_net, total= 9.7min                                                  \n",
      "  4%|█▋                                       | 2/50 [2:38:19<48:27:31, 3634.40s/trial, best loss: -0.08640646373868188]"
     ]
    },
    {
     "name": "stderr",
     "output_type": "stream",
     "text": [
      "/home/rogertu/projects/MechRepoNet/mrn_venv/lib/python3.8/site-packages/sklearn/linear_model/_sag.py:328: ConvergenceWarning: The max_iter was reached which means the coef_ did not converge\n",
      "  warnings.warn(\"The max_iter was reached which means \"\n",
      "\n"
     ]
    },
    {
     "name": "stdout",
     "output_type": "stream",
     "text": [
      "[Pipeline] ....... (step 1 of 3) Processing transformer, total=  25.6s                                                  \n",
      "[Pipeline] ...... (step 2 of 3) Processing maxabs_scale, total=  16.8s                                                  \n",
      "[Pipeline] ............. (step 3 of 3) Processing e_net, total=10.0min                                                  \n",
      "  4%|█▋                                       | 2/50 [2:49:08<48:27:31, 3634.40s/trial, best loss: -0.08640646373868188]"
     ]
    },
    {
     "name": "stderr",
     "output_type": "stream",
     "text": [
      "/home/rogertu/projects/MechRepoNet/mrn_venv/lib/python3.8/site-packages/sklearn/linear_model/_sag.py:328: ConvergenceWarning: The max_iter was reached which means the coef_ did not converge\n",
      "  warnings.warn(\"The max_iter was reached which means \"\n",
      "\n"
     ]
    },
    {
     "name": "stdout",
     "output_type": "stream",
     "text": [
      "[Pipeline] ....... (step 1 of 3) Processing transformer, total=  23.0s                                                  \n",
      "[Pipeline] ...... (step 2 of 3) Processing maxabs_scale, total=  14.8s                                                  \n",
      "[Pipeline] ............. (step 3 of 3) Processing e_net, total= 9.1min                                                  \n",
      "Mean AUROC: 0.6409                                                                                                      \n",
      "Mean Avg Pre: 0.0150                                                                                                    \n",
      "STD AUROC: 0.0809                                                                                                       \n",
      "STD Avg Pre: 0.0194                                                                                                     \n",
      "Loss: -0.0705                                                                                                           \n",
      "Changing w from 0.6867218654755485 to 0.8320950220852148. Please wait...                                                \n",
      "  6%|██▍                                      | 3/50 [2:59:07<45:01:23, 3448.59s/trial, best loss: -0.08640646373868188]"
     ]
    },
    {
     "name": "stderr",
     "output_type": "stream",
     "text": [
      "  0%|          | 0/68 [00:00<?, ?it/s]\n",
      "\u001b[A\n",
      "  1%|1         | 1/68 [00:00<00:08,  7.96it/s]\n",
      "\u001b[A\n",
      " 12%|#1        | 8/68 [00:00<00:01, 39.61it/s]\n",
      "\u001b[A\n",
      " 35%|###5      | 24/68 [00:00<00:00, 90.21it/s]\n",
      "\u001b[A\n",
      " 60%|######    | 41/68 [00:00<00:00, 111.58it/s]\n",
      "\u001b[A\n",
      " 96%|#########5| 65/68 [00:00<00:00, 147.74it/s]\n",
      "\u001b[A\n",
      "100%|##########| 68/68 [00:00<00:00, 106.00it/s]\n"
     ]
    },
    {
     "name": "stdout",
     "output_type": "stream",
     "text": [
      "Preparing function arguments...                                                                                         \n",
      "Calculating DWPCs...                                                                                                    \n",
      "  6%|██▍                                      | 3/50 [2:59:12<45:01:23, 3448.59s/trial, best loss: -0.08640646373868188]"
     ]
    },
    {
     "name": "stderr",
     "output_type": "stream",
     "text": [
      "  0%|          | 0/141 [00:00<?, ?it/s]\n",
      "\u001b[A\n",
      "  1%|          | 1/141 [00:00<00:16,  8.62it/s]\n",
      "\u001b[A\n",
      "  3%|2         | 4/141 [00:00<00:06, 19.78it/s]\n",
      "\u001b[A\n",
      "  6%|6         | 9/141 [00:00<00:04, 28.30it/s]\n",
      "\u001b[A\n",
      "  9%|9         | 13/141 [00:00<00:04, 31.88it/s]\n",
      "\u001b[A\n",
      " 12%|#2        | 17/141 [00:00<00:03, 32.22it/s]\n",
      "\u001b[A\n",
      " 16%|#5        | 22/141 [00:00<00:03, 36.98it/s]\n",
      "\u001b[A\n",
      " 21%|##        | 29/141 [00:00<00:02, 42.57it/s]\n",
      "\u001b[A\n",
      " 27%|##6       | 38/141 [00:00<00:01, 55.16it/s]\n",
      "\u001b[A\n",
      " 31%|###1      | 44/141 [00:01<00:01, 52.37it/s]\n",
      "\u001b[A\n",
      " 38%|###7      | 53/141 [00:01<00:01, 59.94it/s]\n",
      "\u001b[A\n",
      " 43%|####2     | 60/141 [00:01<00:01, 55.04it/s]\n",
      "\u001b[A\n",
      " 47%|####6     | 66/141 [00:01<00:01, 51.24it/s]\n",
      "\u001b[A\n",
      " 51%|#####1    | 72/141 [00:01<00:01, 53.17it/s]\n",
      "\u001b[A\n",
      " 57%|#####6    | 80/141 [00:01<00:01, 57.63it/s]\n",
      "\u001b[A\n",
      " 62%|######2   | 88/141 [00:01<00:00, 58.75it/s]\n",
      "\u001b[A\n",
      " 67%|######6   | 94/141 [00:01<00:00, 49.43it/s]\n",
      "\u001b[A\n",
      " 71%|#######   | 100/141 [00:02<00:00, 47.31it/s]\n",
      "\u001b[A\n",
      " 74%|#######4  | 105/141 [00:02<00:00, 36.71it/s]\n",
      "\u001b[A\n",
      " 78%|#######8  | 110/141 [00:02<00:00, 39.01it/s]\n",
      "\u001b[A\n",
      " 83%|########2 | 117/141 [00:02<00:00, 45.88it/s]\n",
      "\u001b[A\n",
      " 88%|########7 | 124/141 [00:02<00:00, 50.71it/s]\n",
      "\u001b[A\n",
      " 95%|#########5| 134/141 [00:02<00:00, 55.39it/s]\n",
      "\u001b[A\n",
      " 95%|#########5| 134/141 [00:14<00:00, 55.39it/s]\n",
      "\u001b[A\n",
      " 98%|#########7| 138/141 [00:49<00:06,  2.21s/it]\n",
      "\u001b[A\n",
      " 99%|#########8| 139/141 [00:52<00:04,  2.20s/it]\n",
      "\u001b[A\n",
      " 99%|#########8| 139/141 [01:04<00:04,  2.20s/it]\n",
      "\u001b[A\n",
      "100%|##########| 141/141 [01:59<00:00,  6.95s/it]\n",
      "\u001b[A\n",
      "100%|##########| 141/141 [01:59<00:00,  1.18it/s]\n"
     ]
    },
    {
     "name": "stdout",
     "output_type": "stream",
     "text": [
      "                                                                                                                        \n",
      "Reshaping Result Matrices...\n",
      "  6%|██▍                                      | 3/50 [3:01:15<45:01:23, 3448.59s/trial, best loss: -0.08640646373868188]"
     ]
    },
    {
     "name": "stderr",
     "output_type": "stream",
     "text": [
      "  0%|          | 0/141 [00:00<?, ?it/s]\n",
      "\u001b[A\n",
      "  2%|2         | 3/141 [00:00<00:07, 18.63it/s]\n",
      "\u001b[A\n",
      "  5%|4         | 7/141 [00:00<00:04, 28.31it/s]\n",
      "\u001b[A\n",
      "  9%|9         | 13/141 [00:00<00:03, 34.17it/s]\n",
      "\u001b[A\n",
      " 12%|#2        | 17/141 [00:00<00:04, 28.34it/s]\n",
      "\u001b[A\n",
      " 16%|#6        | 23/141 [00:00<00:03, 36.74it/s]\n",
      "\u001b[A\n",
      " 20%|#9        | 28/141 [00:00<00:02, 38.28it/s]\n",
      "\u001b[A\n",
      " 23%|##3       | 33/141 [00:00<00:02, 38.48it/s]\n",
      "\u001b[A\n",
      " 28%|##8       | 40/141 [00:01<00:02, 43.22it/s]\n",
      "\u001b[A\n",
      " 34%|###4      | 48/141 [00:01<00:01, 51.51it/s]\n",
      "\u001b[A\n",
      " 38%|###8      | 54/141 [00:01<00:01, 53.02it/s]\n",
      "\u001b[A\n",
      " 43%|####2     | 60/141 [00:01<00:01, 50.50it/s]\n",
      "\u001b[A\n",
      " 47%|####6     | 66/141 [00:01<00:01, 50.87it/s]\n",
      "\u001b[A\n",
      " 51%|#####1    | 72/141 [00:01<00:01, 43.82it/s]\n",
      "\u001b[A\n",
      " 56%|#####6    | 79/141 [00:01<00:01, 49.69it/s]\n",
      "\u001b[A\n",
      " 62%|######2   | 88/141 [00:01<00:00, 58.70it/s]\n",
      "\u001b[A\n",
      " 67%|######7   | 95/141 [00:02<00:00, 55.19it/s]\n",
      "\u001b[A\n",
      " 72%|#######1  | 101/141 [00:02<00:00, 47.74it/s]\n",
      "\u001b[A\n",
      " 77%|#######7  | 109/141 [00:02<00:00, 55.06it/s]\n",
      "\u001b[A\n",
      " 82%|########1 | 115/141 [00:02<00:00, 54.19it/s]\n",
      "\u001b[A\n",
      " 87%|########7 | 123/141 [00:02<00:00, 59.54it/s]\n",
      "\u001b[A\n",
      " 92%|#########2| 130/141 [00:02<00:00, 54.57it/s]\n",
      "\u001b[A\n",
      " 96%|#########6| 136/141 [00:02<00:00, 51.21it/s]\n",
      "\u001b[A\n",
      "100%|##########| 141/141 [00:02<00:00, 48.39it/s]\n"
     ]
    },
    {
     "name": "stdout",
     "output_type": "stream",
     "text": [
      "Stacking columns...                                                                                                     \n",
      "[Pipeline] ....... (step 1 of 3) Processing transformer, total=  22.2s                                                  \n",
      "[Pipeline] ...... (step 2 of 3) Processing maxabs_scale, total=  14.3s                                                  \n",
      "[Pipeline] ............. (step 3 of 3) Processing e_net, total= 2.3min                                                  \n",
      "[Pipeline] ....... (step 1 of 3) Processing transformer, total=  21.5s                                                  \n",
      "[Pipeline] ...... (step 2 of 3) Processing maxabs_scale, total=  13.6s                                                  \n",
      "[Pipeline] ............. (step 3 of 3) Processing e_net, total= 2.5min                                                  \n",
      "[Pipeline] ....... (step 1 of 3) Processing transformer, total=  24.4s                                                  \n",
      "[Pipeline] ...... (step 2 of 3) Processing maxabs_scale, total=  15.9s                                                  \n",
      "[Pipeline] ............. (step 3 of 3) Processing e_net, total= 2.4min                                                  \n",
      "[Pipeline] ....... (step 1 of 3) Processing transformer, total=  25.8s                                                  \n",
      "[Pipeline] ...... (step 2 of 3) Processing maxabs_scale, total=  17.1s                                                  \n",
      "[Pipeline] ............. (step 3 of 3) Processing e_net, total= 2.2min                                                  \n",
      "[Pipeline] ....... (step 1 of 3) Processing transformer, total=  23.5s                                                  \n",
      "[Pipeline] ...... (step 2 of 3) Processing maxabs_scale, total=  15.4s                                                  \n",
      "[Pipeline] ............. (step 3 of 3) Processing e_net, total= 5.1min                                                  \n",
      "Mean AUROC: 0.7111                                                                                                      \n",
      "Mean Avg Pre: 0.0118                                                                                                    \n",
      "STD AUROC: 0.0544                                                                                                       \n",
      "STD Avg Pre: 0.0060                                                                                                     \n",
      "Loss: -0.0876                                                                                                           \n",
      "Changing w from 0.8320950220852148 to 0.7064056414363573. Please wait...                                                \n",
      "  8%|███▎                                     | 4/50 [3:19:45<32:54:46, 2575.79s/trial, best loss: -0.08756332760545549]"
     ]
    },
    {
     "name": "stderr",
     "output_type": "stream",
     "text": [
      "  0%|          | 0/68 [00:00<?, ?it/s]\n",
      "\u001b[A\n",
      "  1%|1         | 1/68 [00:00<00:08,  8.04it/s]\n",
      "\u001b[A\n",
      " 12%|#1        | 8/68 [00:00<00:01, 38.87it/s]\n",
      "\u001b[A\n",
      " 37%|###6      | 25/68 [00:00<00:00, 93.35it/s]\n",
      "\u001b[A\n",
      " 60%|######    | 41/68 [00:00<00:00, 113.16it/s]\n",
      "\u001b[A\n",
      " 99%|#########8| 67/68 [00:00<00:00, 151.45it/s]\n",
      "\u001b[A\n",
      "100%|##########| 68/68 [00:00<00:00, 112.20it/s]\n"
     ]
    },
    {
     "name": "stdout",
     "output_type": "stream",
     "text": [
      "Preparing function arguments...                                                                                         \n",
      "Calculating DWPCs...                                                                                                    \n",
      "  8%|███▎                                     | 4/50 [3:19:50<32:54:46, 2575.79s/trial, best loss: -0.08756332760545549]"
     ]
    },
    {
     "name": "stderr",
     "output_type": "stream",
     "text": [
      "  0%|          | 0/141 [00:00<?, ?it/s]\n",
      "\u001b[A\n",
      "  1%|          | 1/141 [00:00<00:15,  8.85it/s]\n",
      "\u001b[A\n",
      "  3%|2         | 4/141 [00:00<00:07, 19.44it/s]\n",
      "\u001b[A\n",
      "  6%|6         | 9/141 [00:00<00:04, 30.12it/s]\n",
      "\u001b[A\n",
      "  9%|8         | 12/141 [00:00<00:04, 27.04it/s]\n",
      "\u001b[A\n",
      " 13%|#3        | 19/141 [00:00<00:03, 37.30it/s]\n",
      "\u001b[A\n",
      " 18%|#8        | 26/141 [00:00<00:02, 46.13it/s]\n",
      "\u001b[A\n",
      " 22%|##1       | 31/141 [00:00<00:02, 46.46it/s]\n",
      "\u001b[A\n",
      " 27%|##6       | 38/141 [00:00<00:01, 52.86it/s]\n",
      "\u001b[A\n",
      " 32%|###1      | 45/141 [00:01<00:01, 56.70it/s]\n",
      "\u001b[A\n",
      " 38%|###7      | 53/141 [00:01<00:01, 57.99it/s]\n",
      "\u001b[A\n",
      " 42%|####1     | 59/141 [00:01<00:01, 51.58it/s]\n",
      "\u001b[A\n",
      " 46%|####6     | 65/141 [00:01<00:01, 51.24it/s]\n",
      "\u001b[A\n",
      " 50%|#####     | 71/141 [00:01<00:01, 52.31it/s]\n",
      "\u001b[A\n",
      " 57%|#####7    | 81/141 [00:01<00:00, 60.65it/s]\n",
      "\u001b[A\n",
      " 62%|######2   | 88/141 [00:01<00:00, 58.03it/s]\n",
      "\u001b[A\n",
      " 67%|######6   | 94/141 [00:01<00:00, 52.93it/s]\n",
      "\u001b[A\n",
      " 72%|#######2  | 102/141 [00:02<00:00, 51.21it/s]\n",
      "\u001b[A\n",
      " 77%|#######6  | 108/141 [00:02<00:00, 48.43it/s]\n",
      "\u001b[A\n",
      " 82%|########2 | 116/141 [00:02<00:00, 52.38it/s]\n",
      "\u001b[A\n",
      " 88%|########7 | 124/141 [00:02<00:00, 57.10it/s]\n",
      "\u001b[A\n",
      " 92%|#########2| 130/141 [00:02<00:00, 57.73it/s]\n",
      "\u001b[A\n",
      " 96%|#########6| 136/141 [00:06<00:00,  5.74it/s]\n",
      "\u001b[A\n",
      " 96%|#########6| 136/141 [00:17<00:00,  5.74it/s]\n",
      "\u001b[A\n",
      " 98%|#########7| 138/141 [00:49<00:07,  2.61s/it]\n",
      "\u001b[A\n",
      " 99%|#########8| 139/141 [00:50<00:05,  2.51s/it]\n",
      "\u001b[A\n",
      " 99%|#########8| 139/141 [01:07<00:05,  2.51s/it]\n",
      "\u001b[A\n",
      "100%|##########| 141/141 [01:59<00:00,  8.15s/it]\n",
      "\u001b[A\n",
      "100%|##########| 141/141 [01:59<00:00,  1.18it/s]\n"
     ]
    },
    {
     "name": "stdout",
     "output_type": "stream",
     "text": [
      "                                                                                                                        \n",
      "Reshaping Result Matrices...\n",
      "  8%|███▎                                     | 4/50 [3:21:53<32:54:46, 2575.79s/trial, best loss: -0.08756332760545549]"
     ]
    },
    {
     "name": "stderr",
     "output_type": "stream",
     "text": [
      "  0%|          | 0/141 [00:00<?, ?it/s]\n",
      "\u001b[A\n",
      "  1%|          | 1/141 [00:00<00:17,  7.93it/s]\n",
      "\u001b[A\n",
      "  4%|4         | 6/141 [00:00<00:05, 22.61it/s]\n",
      "\u001b[A\n",
      "  9%|9         | 13/141 [00:00<00:03, 32.62it/s]\n",
      "\u001b[A\n",
      " 12%|#2        | 17/141 [00:00<00:04, 28.01it/s]\n",
      "\u001b[A\n",
      " 17%|#7        | 24/141 [00:00<00:03, 38.48it/s]\n",
      "\u001b[A\n",
      " 21%|##        | 29/141 [00:00<00:02, 39.13it/s]\n",
      "\u001b[A\n",
      " 24%|##4       | 34/141 [00:01<00:02, 35.70it/s]\n",
      "\u001b[A\n",
      " 29%|##9       | 41/141 [00:01<00:02, 43.70it/s]\n",
      "\u001b[A\n",
      " 35%|###4      | 49/141 [00:01<00:01, 49.83it/s]\n",
      "\u001b[A\n",
      " 39%|###9      | 55/141 [00:01<00:01, 48.21it/s]\n",
      "\u001b[A\n",
      " 44%|####3     | 62/141 [00:01<00:01, 50.69it/s]\n",
      "\u001b[A\n",
      " 50%|####9     | 70/141 [00:01<00:01, 52.53it/s]\n",
      "\u001b[A\n",
      " 54%|#####3    | 76/141 [00:01<00:01, 43.50it/s]\n",
      "\u001b[A\n",
      " 62%|######2   | 88/141 [00:01<00:00, 57.95it/s]\n",
      "\u001b[A\n",
      " 67%|######7   | 95/141 [00:02<00:00, 54.84it/s]\n",
      "\u001b[A\n",
      " 72%|#######1  | 101/141 [00:02<00:00, 47.63it/s]\n",
      "\u001b[A\n",
      " 77%|#######7  | 109/141 [00:02<00:00, 54.51it/s]\n",
      "\u001b[A\n",
      " 82%|########1 | 115/141 [00:02<00:00, 53.70it/s]\n",
      "\u001b[A\n",
      " 87%|########7 | 123/141 [00:02<00:00, 58.88it/s]\n",
      "\u001b[A\n",
      " 92%|#########2| 130/141 [00:02<00:00, 53.87it/s]\n",
      "\u001b[A\n",
      " 96%|#########6| 136/141 [00:02<00:00, 50.56it/s]\n",
      "\u001b[A\n",
      "100%|##########| 141/141 [00:02<00:00, 47.53it/s]\n"
     ]
    },
    {
     "name": "stdout",
     "output_type": "stream",
     "text": [
      "Stacking columns...                                                                                                     \n",
      "[Pipeline] ....... (step 1 of 3) Processing transformer, total=  22.2s                                                  \n",
      "[Pipeline] ...... (step 2 of 3) Processing maxabs_scale, total=  14.4s                                                  \n",
      "[Pipeline] ............. (step 3 of 3) Processing e_net, total= 9.2min                                                  \n",
      "[Pipeline] ....... (step 1 of 3) Processing transformer, total=  21.5s                                                  \n",
      "[Pipeline] ...... (step 2 of 3) Processing maxabs_scale, total=  13.6s                                                  \n",
      "[Pipeline] ............. (step 3 of 3) Processing e_net, total= 9.7min                                                  \n",
      "  8%|███▎                                     | 4/50 [3:42:18<32:54:46, 2575.79s/trial, best loss: -0.08756332760545549]"
     ]
    },
    {
     "name": "stderr",
     "output_type": "stream",
     "text": [
      "/home/rogertu/projects/MechRepoNet/mrn_venv/lib/python3.8/site-packages/sklearn/linear_model/_sag.py:328: ConvergenceWarning: The max_iter was reached which means the coef_ did not converge\n",
      "  warnings.warn(\"The max_iter was reached which means \"\n",
      "\n"
     ]
    },
    {
     "name": "stdout",
     "output_type": "stream",
     "text": [
      "[Pipeline] ....... (step 1 of 3) Processing transformer, total=  24.3s                                                  \n",
      "[Pipeline] ...... (step 2 of 3) Processing maxabs_scale, total=  16.0s                                                  \n",
      "[Pipeline] ............. (step 3 of 3) Processing e_net, total=10.0min                                                  \n",
      "  8%|███▎                                     | 4/50 [3:53:09<32:54:46, 2575.79s/trial, best loss: -0.08756332760545549]"
     ]
    },
    {
     "name": "stderr",
     "output_type": "stream",
     "text": [
      "/home/rogertu/projects/MechRepoNet/mrn_venv/lib/python3.8/site-packages/sklearn/linear_model/_sag.py:328: ConvergenceWarning: The max_iter was reached which means the coef_ did not converge\n",
      "  warnings.warn(\"The max_iter was reached which means \"\n",
      "\n"
     ]
    },
    {
     "name": "stdout",
     "output_type": "stream",
     "text": [
      "[Pipeline] ....... (step 1 of 3) Processing transformer, total=  25.8s                                                  \n",
      "[Pipeline] ...... (step 2 of 3) Processing maxabs_scale, total=  17.1s                                                  \n",
      "[Pipeline] ............. (step 3 of 3) Processing e_net, total=10.3min                                                  \n",
      "  8%|███▎                                     | 4/50 [4:04:19<32:54:46, 2575.79s/trial, best loss: -0.08756332760545549]"
     ]
    },
    {
     "name": "stderr",
     "output_type": "stream",
     "text": [
      "/home/rogertu/projects/MechRepoNet/mrn_venv/lib/python3.8/site-packages/sklearn/linear_model/_sag.py:328: ConvergenceWarning: The max_iter was reached which means the coef_ did not converge\n",
      "  warnings.warn(\"The max_iter was reached which means \"\n",
      "\n"
     ]
    },
    {
     "name": "stdout",
     "output_type": "stream",
     "text": [
      "[Pipeline] ....... (step 1 of 3) Processing transformer, total=  23.3s                                                  \n",
      "[Pipeline] ...... (step 2 of 3) Processing maxabs_scale, total=  15.1s                                                  \n",
      "[Pipeline] ............. (step 3 of 3) Processing e_net, total= 8.6min                                                  \n",
      "Mean AUROC: 0.6535                                                                                                      \n",
      "Mean Avg Pre: 0.0132                                                                                                    \n",
      "STD AUROC: 0.0883                                                                                                       \n",
      "STD Avg Pre: 0.0141                                                                                                     \n",
      "Loss: -0.0710                                                                                                           \n",
      "Changing w from 0.7064056414363573 to 0.8789082806014205. Please wait...                                                \n",
      " 10%|████                                     | 5/50 [4:13:45<35:11:33, 2815.42s/trial, best loss: -0.08756332760545549]"
     ]
    },
    {
     "name": "stderr",
     "output_type": "stream",
     "text": [
      "  0%|          | 0/68 [00:00<?, ?it/s]\n",
      "\u001b[A\n",
      "  1%|1         | 1/68 [00:00<00:08,  8.00it/s]\n",
      "\u001b[A\n",
      " 16%|#6        | 11/68 [00:00<00:01, 49.30it/s]\n",
      "\u001b[A\n",
      " 44%|####4     | 30/68 [00:00<00:00, 105.12it/s]\n",
      "\u001b[A\n",
      " 62%|######1   | 42/68 [00:00<00:00, 104.16it/s]\n",
      "\u001b[A\n",
      " 96%|#########5| 65/68 [00:00<00:00, 143.88it/s]\n",
      "\u001b[A\n",
      "100%|##########| 68/68 [00:00<00:00, 101.57it/s]\n"
     ]
    },
    {
     "name": "stdout",
     "output_type": "stream",
     "text": [
      "Preparing function arguments...                                                                                         \n",
      "Calculating DWPCs...                                                                                                    \n",
      " 10%|████                                     | 5/50 [4:13:50<35:11:33, 2815.42s/trial, best loss: -0.08756332760545549]"
     ]
    },
    {
     "name": "stderr",
     "output_type": "stream",
     "text": [
      "  0%|          | 0/141 [00:00<?, ?it/s]\n",
      "\u001b[A\n",
      "  1%|          | 1/141 [00:00<00:16,  8.41it/s]\n",
      "\u001b[A\n",
      "  4%|4         | 6/141 [00:00<00:04, 27.49it/s]\n",
      "\u001b[A\n",
      "  6%|6         | 9/141 [00:00<00:05, 25.95it/s]\n",
      "\u001b[A\n",
      "  9%|9         | 13/141 [00:00<00:04, 27.70it/s]\n",
      "\u001b[A\n",
      " 13%|#2        | 18/141 [00:00<00:03, 31.72it/s]\n",
      "\u001b[A\n",
      " 16%|#6        | 23/141 [00:00<00:03, 33.94it/s]\n",
      "\u001b[A\n",
      " 23%|##2       | 32/141 [00:00<00:02, 47.14it/s]\n",
      "\u001b[A\n",
      " 27%|##6       | 38/141 [00:00<00:02, 50.34it/s]\n",
      "\u001b[A\n",
      " 31%|###1      | 44/141 [00:01<00:01, 51.34it/s]\n",
      "\u001b[A\n",
      " 38%|###8      | 54/141 [00:01<00:01, 52.83it/s]\n",
      "\u001b[A\n",
      " 43%|####2     | 60/141 [00:01<00:01, 53.18it/s]\n",
      "\u001b[A\n",
      " 47%|####6     | 66/141 [00:01<00:01, 46.42it/s]\n",
      "\u001b[A\n",
      " 54%|#####3    | 76/141 [00:01<00:01, 56.14it/s]\n",
      "\u001b[A\n",
      " 60%|######    | 85/141 [00:01<00:00, 62.48it/s]\n",
      "\u001b[A\n",
      " 65%|######5   | 92/141 [00:01<00:00, 54.70it/s]\n",
      "\u001b[A\n",
      " 70%|######9   | 98/141 [00:02<00:00, 52.25it/s]\n",
      "\u001b[A\n",
      " 74%|#######3  | 104/141 [00:02<00:00, 51.74it/s]\n",
      "\u001b[A\n",
      " 78%|#######8  | 110/141 [00:02<00:00, 43.35it/s]\n",
      "\u001b[A\n",
      " 85%|########5 | 120/141 [00:02<00:00, 54.25it/s]\n",
      "\u001b[A\n",
      " 89%|########9 | 126/141 [00:02<00:00, 49.41it/s]\n",
      "\u001b[A\n",
      " 96%|#########5| 135/141 [00:05<00:00,  8.42it/s]\n",
      "\u001b[A\n",
      " 96%|#########5| 135/141 [00:16<00:00,  8.42it/s]\n",
      "\u001b[A\n",
      " 98%|#########7| 138/141 [00:50<00:06,  2.28s/it]\n",
      "\u001b[A\n",
      " 99%|#########8| 139/141 [00:53<00:04,  2.29s/it]\n",
      "\u001b[A\n",
      " 99%|#########8| 139/141 [01:06<00:04,  2.29s/it]\n",
      "\u001b[A\n",
      "100%|##########| 141/141 [02:04<00:00,  7.40s/it]\n",
      "\u001b[A\n",
      "100%|##########| 141/141 [02:04<00:00,  1.14it/s]\n"
     ]
    },
    {
     "name": "stdout",
     "output_type": "stream",
     "text": [
      "                                                                                                                        \n",
      "Reshaping Result Matrices...\n",
      " 10%|████                                     | 5/50 [4:15:58<35:11:33, 2815.42s/trial, best loss: -0.08756332760545549]"
     ]
    },
    {
     "name": "stderr",
     "output_type": "stream",
     "text": [
      "  0%|          | 0/141 [00:00<?, ?it/s]\n",
      "\u001b[A\n",
      "  2%|2         | 3/141 [00:00<00:07, 18.91it/s]\n",
      "\u001b[A\n",
      "  6%|5         | 8/141 [00:00<00:03, 33.32it/s]\n",
      "\u001b[A\n",
      "  9%|9         | 13/141 [00:00<00:03, 34.11it/s]\n",
      "\u001b[A\n",
      " 12%|#2        | 17/141 [00:00<00:04, 28.54it/s]\n",
      "\u001b[A\n",
      " 17%|#7        | 24/141 [00:00<00:02, 39.63it/s]\n",
      "\u001b[A\n",
      " 21%|##        | 29/141 [00:00<00:02, 40.08it/s]\n",
      "\u001b[A\n",
      " 24%|##4       | 34/141 [00:00<00:02, 36.50it/s]\n",
      "\u001b[A\n",
      " 29%|##9       | 41/141 [00:01<00:02, 44.63it/s]\n",
      "\u001b[A\n",
      " 35%|###4      | 49/141 [00:01<00:01, 50.85it/s]\n",
      "\u001b[A\n",
      " 39%|###9      | 55/141 [00:01<00:01, 49.41it/s]\n",
      "\u001b[A\n",
      " 44%|####3     | 62/141 [00:01<00:01, 52.03it/s]\n",
      "\u001b[A\n",
      " 50%|####9     | 70/141 [00:01<00:01, 53.84it/s]\n",
      "\u001b[A\n",
      " 54%|#####3    | 76/141 [00:01<00:01, 44.66it/s]\n",
      "\u001b[A\n",
      " 62%|######2   | 88/141 [00:01<00:00, 59.31it/s]\n",
      "\u001b[A\n",
      " 67%|######7   | 95/141 [00:02<00:00, 56.08it/s]\n",
      "\u001b[A\n",
      " 72%|#######1  | 101/141 [00:02<00:00, 48.82it/s]\n",
      "\u001b[A\n",
      " 77%|#######7  | 109/141 [00:02<00:00, 55.67it/s]\n",
      "\u001b[A\n",
      " 82%|########2 | 116/141 [00:02<00:00, 53.50it/s]\n",
      "\u001b[A\n",
      " 89%|########9 | 126/141 [00:02<00:00, 61.22it/s]\n",
      "\u001b[A\n",
      " 94%|#########4| 133/141 [00:02<00:00, 55.99it/s]\n",
      "\u001b[A\n",
      " 99%|#########8| 139/141 [00:02<00:00, 52.79it/s]\n",
      "\u001b[A\n",
      "100%|##########| 141/141 [00:02<00:00, 49.15it/s]\n"
     ]
    },
    {
     "name": "stdout",
     "output_type": "stream",
     "text": [
      "Stacking columns...                                                                                                     \n",
      "[Pipeline] ....... (step 1 of 3) Processing transformer, total=  21.9s                                                  \n",
      "[Pipeline] ...... (step 2 of 3) Processing maxabs_scale, total=  14.1s                                                  \n",
      "[Pipeline] ............. (step 3 of 3) Processing e_net, total= 7.4min                                                  \n",
      " 10%|████                                     | 5/50 [4:24:08<35:11:33, 2815.42s/trial, best loss: -0.08756332760545549]"
     ]
    },
    {
     "name": "stderr",
     "output_type": "stream",
     "text": [
      "/home/rogertu/projects/MechRepoNet/mrn_venv/lib/python3.8/site-packages/sklearn/linear_model/_sag.py:328: ConvergenceWarning: The max_iter was reached which means the coef_ did not converge\n",
      "  warnings.warn(\"The max_iter was reached which means \"\n",
      "\n"
     ]
    },
    {
     "name": "stdout",
     "output_type": "stream",
     "text": [
      "[Pipeline] ....... (step 1 of 3) Processing transformer, total=  21.3s                                                  \n",
      "[Pipeline] ...... (step 2 of 3) Processing maxabs_scale, total=  13.4s                                                  \n",
      "[Pipeline] ............. (step 3 of 3) Processing e_net, total= 7.6min                                                  \n",
      " 10%|████                                     | 5/50 [4:32:25<35:11:33, 2815.42s/trial, best loss: -0.08756332760545549]"
     ]
    },
    {
     "name": "stderr",
     "output_type": "stream",
     "text": [
      "/home/rogertu/projects/MechRepoNet/mrn_venv/lib/python3.8/site-packages/sklearn/linear_model/_sag.py:328: ConvergenceWarning: The max_iter was reached which means the coef_ did not converge\n",
      "  warnings.warn(\"The max_iter was reached which means \"\n",
      "\n"
     ]
    },
    {
     "name": "stdout",
     "output_type": "stream",
     "text": [
      "[Pipeline] ....... (step 1 of 3) Processing transformer, total=  24.1s                                                  \n",
      "[Pipeline] ...... (step 2 of 3) Processing maxabs_scale, total=  15.7s                                                  \n",
      "[Pipeline] ............. (step 3 of 3) Processing e_net, total= 7.8min                                                  \n",
      " 10%|████                                     | 5/50 [4:41:05<35:11:33, 2815.42s/trial, best loss: -0.08756332760545549]"
     ]
    },
    {
     "name": "stderr",
     "output_type": "stream",
     "text": [
      "/home/rogertu/projects/MechRepoNet/mrn_venv/lib/python3.8/site-packages/sklearn/linear_model/_sag.py:328: ConvergenceWarning: The max_iter was reached which means the coef_ did not converge\n",
      "  warnings.warn(\"The max_iter was reached which means \"\n",
      "\n"
     ]
    },
    {
     "name": "stdout",
     "output_type": "stream",
     "text": [
      "[Pipeline] ....... (step 1 of 3) Processing transformer, total=  25.5s                                                  \n",
      "[Pipeline] ...... (step 2 of 3) Processing maxabs_scale, total=  16.8s                                                  \n",
      "[Pipeline] ............. (step 3 of 3) Processing e_net, total= 7.9min                                                  \n",
      " 10%|████                                     | 5/50 [4:49:47<35:11:33, 2815.42s/trial, best loss: -0.08756332760545549]"
     ]
    },
    {
     "name": "stderr",
     "output_type": "stream",
     "text": [
      "/home/rogertu/projects/MechRepoNet/mrn_venv/lib/python3.8/site-packages/sklearn/linear_model/_sag.py:328: ConvergenceWarning: The max_iter was reached which means the coef_ did not converge\n",
      "  warnings.warn(\"The max_iter was reached which means \"\n",
      "\n"
     ]
    },
    {
     "name": "stdout",
     "output_type": "stream",
     "text": [
      "[Pipeline] ....... (step 1 of 3) Processing transformer, total=  22.9s                                                  \n",
      "[Pipeline] ...... (step 2 of 3) Processing maxabs_scale, total=  14.8s                                                  \n",
      "[Pipeline] ............. (step 3 of 3) Processing e_net, total= 8.1min                                                  \n",
      " 10%|████                                     | 5/50 [4:58:33<35:11:33, 2815.42s/trial, best loss: -0.08756332760545549]"
     ]
    },
    {
     "name": "stderr",
     "output_type": "stream",
     "text": [
      "/home/rogertu/projects/MechRepoNet/mrn_venv/lib/python3.8/site-packages/sklearn/linear_model/_sag.py:328: ConvergenceWarning: The max_iter was reached which means the coef_ did not converge\n",
      "  warnings.warn(\"The max_iter was reached which means \"\n",
      "\n"
     ]
    },
    {
     "name": "stdout",
     "output_type": "stream",
     "text": [
      "Mean AUROC: 0.6119                                                                                                      \n",
      "Mean Avg Pre: 0.0052                                                                                                    \n",
      "STD AUROC: 0.0548                                                                                                       \n",
      "STD Avg Pre: 0.0025                                                                                                     \n",
      "Loss: -0.0606                                                                                                           \n",
      "Changing w from 0.8789082806014205 to 0.9678901384640581. Please wait...                                                \n",
      " 12%|████▉                                    | 6/50 [4:58:40<33:54:38, 2774.51s/trial, best loss: -0.08756332760545549]"
     ]
    },
    {
     "name": "stderr",
     "output_type": "stream",
     "text": [
      "  0%|          | 0/68 [00:00<?, ?it/s]\n",
      "\u001b[A\n",
      "  1%|1         | 1/68 [00:00<00:08,  8.17it/s]\n",
      "\u001b[A\n",
      " 16%|#6        | 11/68 [00:00<00:01, 54.02it/s]\n",
      "\u001b[A\n",
      " 37%|###6      | 25/68 [00:00<00:00, 89.93it/s]\n",
      "\u001b[A\n",
      " 65%|######4   | 44/68 [00:00<00:00, 124.46it/s]\n",
      "\u001b[A\n",
      " 91%|#########1| 62/68 [00:00<00:00, 142.65it/s]\n",
      "\u001b[A\n",
      "100%|##########| 68/68 [00:00<00:00, 108.51it/s]\n"
     ]
    },
    {
     "name": "stdout",
     "output_type": "stream",
     "text": [
      "Preparing function arguments...                                                                                         \n",
      "Calculating DWPCs...                                                                                                    \n",
      " 12%|████▉                                    | 6/50 [4:58:45<33:54:38, 2774.51s/trial, best loss: -0.08756332760545549]"
     ]
    },
    {
     "name": "stderr",
     "output_type": "stream",
     "text": [
      "  0%|          | 0/141 [00:00<?, ?it/s]\n",
      "\u001b[A\n",
      "  1%|          | 1/141 [00:00<00:16,  8.39it/s]\n",
      "\u001b[A\n",
      "  3%|2         | 4/141 [00:00<00:06, 19.85it/s]\n",
      "\u001b[A\n",
      "  7%|7         | 10/141 [00:00<00:03, 33.33it/s]\n",
      "\u001b[A\n",
      " 10%|9         | 14/141 [00:00<00:04, 28.71it/s]\n",
      "\u001b[A\n",
      " 14%|#4        | 20/141 [00:00<00:03, 37.62it/s]\n",
      "\u001b[A\n",
      " 17%|#7        | 24/141 [00:00<00:03, 36.73it/s]\n",
      "\u001b[A\n",
      " 23%|##2       | 32/141 [00:00<00:02, 48.56it/s]\n",
      "\u001b[A\n",
      " 28%|##7       | 39/141 [00:00<00:02, 50.47it/s]\n",
      "\u001b[A\n",
      " 35%|###4      | 49/141 [00:01<00:01, 63.09it/s]\n",
      "\u001b[A\n",
      " 40%|###9      | 56/141 [00:01<00:01, 56.78it/s]\n",
      "\u001b[A\n",
      " 44%|####3     | 62/141 [00:01<00:01, 51.22it/s]\n",
      "\u001b[A\n",
      " 48%|####8     | 68/141 [00:01<00:01, 48.22it/s]\n",
      "\u001b[A\n",
      " 56%|#####6    | 79/141 [00:01<00:01, 59.51it/s]\n",
      "\u001b[A\n",
      " 61%|######    | 86/141 [00:01<00:00, 57.75it/s]\n",
      "\u001b[A\n",
      " 65%|######5   | 92/141 [00:01<00:00, 52.31it/s]\n",
      "\u001b[A\n",
      " 70%|#######   | 99/141 [00:02<00:00, 56.30it/s]\n",
      "\u001b[A\n",
      " 74%|#######4  | 105/141 [00:02<00:00, 45.90it/s]\n",
      "\u001b[A\n",
      " 79%|#######9  | 112/141 [00:02<00:00, 49.83it/s]\n",
      "\u001b[A\n",
      " 86%|########5 | 121/141 [00:02<00:00, 51.19it/s]\n",
      "\u001b[A\n",
      " 91%|######### | 128/141 [00:02<00:00, 54.98it/s]\n",
      "\u001b[A\n",
      " 96%|#########5| 135/141 [00:05<00:00,  8.58it/s]\n",
      "\u001b[A\n",
      " 96%|#########5| 135/141 [00:21<00:00,  8.58it/s]\n",
      "\u001b[A\n",
      " 98%|#########7| 138/141 [00:50<00:07,  2.37s/it]\n",
      "\u001b[A\n",
      " 99%|#########8| 139/141 [00:51<00:04,  2.27s/it]\n",
      "\u001b[A\n",
      " 99%|#########8| 139/141 [01:01<00:04,  2.27s/it]\n",
      "\u001b[A\n",
      "100%|##########| 141/141 [01:59<00:00,  7.43s/it]\n",
      "\u001b[A\n",
      "100%|##########| 141/141 [01:59<00:00,  1.18it/s]\n"
     ]
    },
    {
     "name": "stdout",
     "output_type": "stream",
     "text": [
      "                                                                                                                        \n",
      "Reshaping Result Matrices...\n",
      " 12%|████▉                                    | 6/50 [5:00:49<33:54:38, 2774.51s/trial, best loss: -0.08756332760545549]"
     ]
    },
    {
     "name": "stderr",
     "output_type": "stream",
     "text": [
      "  0%|          | 0/141 [00:00<?, ?it/s]\n",
      "\u001b[A\n",
      "  2%|2         | 3/141 [00:00<00:07, 18.69it/s]\n",
      "\u001b[A\n",
      "  5%|4         | 7/141 [00:00<00:04, 28.46it/s]\n",
      "\u001b[A\n",
      "  9%|9         | 13/141 [00:00<00:03, 34.52it/s]\n",
      "\u001b[A\n",
      " 12%|#2        | 17/141 [00:00<00:04, 28.70it/s]\n",
      "\u001b[A\n",
      " 16%|#6        | 23/141 [00:00<00:03, 37.06it/s]\n",
      "\u001b[A\n",
      " 20%|#9        | 28/141 [00:00<00:02, 38.48it/s]\n",
      "\u001b[A\n",
      " 23%|##3       | 33/141 [00:00<00:02, 38.48it/s]\n",
      "\u001b[A\n",
      " 28%|##8       | 40/141 [00:01<00:02, 43.14it/s]\n",
      "\u001b[A\n",
      " 34%|###4      | 48/141 [00:01<00:01, 51.57it/s]\n",
      "\u001b[A\n",
      " 38%|###8      | 54/141 [00:01<00:01, 52.83it/s]\n",
      "\u001b[A\n",
      " 43%|####2     | 60/141 [00:01<00:01, 50.28it/s]\n",
      "\u001b[A\n",
      " 47%|####6     | 66/141 [00:01<00:01, 50.67it/s]\n",
      "\u001b[A\n",
      " 51%|#####1    | 72/141 [00:01<00:01, 43.32it/s]\n",
      "\u001b[A\n",
      " 56%|#####6    | 79/141 [00:01<00:01, 49.23it/s]\n",
      "\u001b[A\n",
      " 62%|######2   | 88/141 [00:01<00:00, 58.29it/s]\n",
      "\u001b[A\n",
      " 67%|######7   | 95/141 [00:02<00:00, 54.71it/s]\n",
      "\u001b[A\n",
      " 72%|#######1  | 101/141 [00:02<00:00, 47.02it/s]\n",
      "\u001b[A\n",
      " 77%|#######7  | 109/141 [00:02<00:00, 54.39it/s]\n",
      "\u001b[A\n",
      " 82%|########1 | 115/141 [00:02<00:00, 53.51it/s]\n",
      "\u001b[A\n",
      " 87%|########7 | 123/141 [00:02<00:00, 58.79it/s]\n",
      "\u001b[A\n",
      " 92%|#########2| 130/141 [00:02<00:00, 53.76it/s]\n",
      "\u001b[A\n",
      " 96%|#########6| 136/141 [00:02<00:00, 50.38it/s]\n",
      "\u001b[A\n",
      "100%|##########| 141/141 [00:02<00:00, 48.08it/s]\n"
     ]
    },
    {
     "name": "stdout",
     "output_type": "stream",
     "text": [
      "Stacking columns...                                                                                                     \n",
      "[Pipeline] ....... (step 1 of 3) Processing transformer, total=  22.3s                                                  \n",
      "[Pipeline] ...... (step 2 of 3) Processing maxabs_scale, total=  14.4s                                                  \n",
      "[Pipeline] ............. (step 3 of 3) Processing e_net, total= 1.6min                                                  \n",
      "[Pipeline] ....... (step 1 of 3) Processing transformer, total=  21.7s                                                  \n",
      "[Pipeline] ...... (step 2 of 3) Processing maxabs_scale, total=  13.7s                                                  \n",
      "[Pipeline] ............. (step 3 of 3) Processing e_net, total= 1.7min                                                  \n",
      "[Pipeline] ....... (step 1 of 3) Processing transformer, total=  24.6s                                                  \n",
      "[Pipeline] ...... (step 2 of 3) Processing maxabs_scale, total=  16.0s                                                  \n",
      "[Pipeline] ............. (step 3 of 3) Processing e_net, total= 1.6min                                                  \n",
      "[Pipeline] ....... (step 1 of 3) Processing transformer, total=  25.9s                                                  \n",
      "[Pipeline] ...... (step 2 of 3) Processing maxabs_scale, total=  17.2s                                                  \n",
      "[Pipeline] ............. (step 3 of 3) Processing e_net, total= 1.7min                                                  \n",
      "[Pipeline] ....... (step 1 of 3) Processing transformer, total=  23.3s                                                  \n",
      "[Pipeline] ...... (step 2 of 3) Processing maxabs_scale, total=  15.2s                                                  \n",
      "[Pipeline] ............. (step 3 of 3) Processing e_net, total= 2.6min                                                  \n",
      "Mean AUROC: 0.6987                                                                                                      \n",
      "Mean Avg Pre: 0.0113                                                                                                    \n",
      "STD AUROC: 0.0657                                                                                                       \n",
      "STD Avg Pre: 0.0048                                                                                                     \n",
      "Loss: -0.0828                                                                                                           \n",
      "Changing w from 0.9678901384640581 to 0.6532207489216617. Please wait...                                                \n",
      " 14%|█████▋                                   | 7/50 [5:13:59<25:53:33, 2167.74s/trial, best loss: -0.08756332760545549]"
     ]
    },
    {
     "name": "stderr",
     "output_type": "stream",
     "text": [
      "  0%|          | 0/68 [00:00<?, ?it/s]\n",
      "\u001b[A\n",
      "  1%|1         | 1/68 [00:00<00:07,  8.66it/s]\n",
      "\u001b[A\n",
      "  9%|8         | 6/68 [00:00<00:02, 30.75it/s]\n",
      "\u001b[A\n",
      " 38%|###8      | 26/68 [00:00<00:00, 100.93it/s]\n",
      "\u001b[A\n",
      " 60%|######    | 41/68 [00:00<00:00, 111.53it/s]\n",
      "\u001b[A\n",
      "100%|##########| 68/68 [00:00<00:00, 142.71it/s]\n",
      "\u001b[A\n",
      "100%|##########| 68/68 [00:00<00:00, 114.25it/s]\n"
     ]
    },
    {
     "name": "stdout",
     "output_type": "stream",
     "text": [
      "Preparing function arguments...                                                                                         \n",
      "Calculating DWPCs...                                                                                                    \n",
      " 14%|█████▋                                   | 7/50 [5:14:04<25:53:33, 2167.74s/trial, best loss: -0.08756332760545549]"
     ]
    },
    {
     "name": "stderr",
     "output_type": "stream",
     "text": [
      "  0%|          | 0/141 [00:00<?, ?it/s]\n",
      "\u001b[A\n",
      "  1%|          | 1/141 [00:00<00:15,  8.98it/s]\n",
      "\u001b[A\n",
      "  4%|4         | 6/141 [00:00<00:04, 27.94it/s]\n",
      "\u001b[A\n",
      "  7%|7         | 10/141 [00:00<00:04, 31.19it/s]\n",
      "\u001b[A\n",
      " 10%|9         | 14/141 [00:00<00:03, 31.92it/s]\n",
      "\u001b[A\n",
      " 13%|#3        | 19/141 [00:00<00:03, 34.56it/s]\n",
      "\u001b[A\n",
      " 16%|#6        | 23/141 [00:00<00:03, 34.87it/s]\n",
      "\u001b[A\n",
      " 23%|##3       | 33/141 [00:00<00:02, 49.30it/s]\n",
      "\u001b[A\n",
      " 30%|##9       | 42/141 [00:00<00:01, 58.83it/s]\n",
      "\u001b[A\n",
      " 34%|###4      | 48/141 [00:01<00:01, 59.07it/s]\n",
      "\u001b[A\n",
      " 38%|###8      | 54/141 [00:01<00:01, 58.59it/s]\n",
      "\u001b[A\n",
      " 43%|####2     | 60/141 [00:01<00:01, 51.37it/s]\n",
      "\u001b[A\n",
      " 47%|####6     | 66/141 [00:01<00:01, 46.08it/s]\n",
      "\u001b[A\n",
      " 55%|#####4    | 77/141 [00:01<00:01, 57.36it/s]\n",
      "\u001b[A\n",
      " 61%|######    | 86/141 [00:01<00:00, 58.74it/s]\n",
      "\u001b[A\n",
      " 65%|######5   | 92/141 [00:01<00:00, 54.66it/s]\n",
      "\u001b[A\n",
      " 70%|#######   | 99/141 [00:01<00:00, 56.49it/s]\n",
      "\u001b[A\n",
      " 74%|#######4  | 105/141 [00:02<00:00, 45.94it/s]\n",
      "\u001b[A\n",
      " 79%|#######8  | 111/141 [00:02<00:00, 45.99it/s]\n",
      "\u001b[A\n",
      " 85%|########5 | 120/141 [00:02<00:00, 54.91it/s]\n",
      "\u001b[A\n",
      " 89%|########9 | 126/141 [00:02<00:00, 49.92it/s]\n",
      "\u001b[A\n",
      " 96%|#########5| 135/141 [00:04<00:00,  9.26it/s]\n",
      "\u001b[A\n",
      " 96%|#########5| 135/141 [00:23<00:00,  9.26it/s]\n",
      "\u001b[A\n",
      " 98%|#########7| 138/141 [00:50<00:06,  2.30s/it]\n",
      "\u001b[A\n",
      " 99%|#########8| 139/141 [00:51<00:04,  2.21s/it]\n",
      "\u001b[A\n",
      " 99%|#########8| 139/141 [01:03<00:04,  2.21s/it]\n",
      "\u001b[A\n",
      "100%|##########| 141/141 [01:57<00:00,  7.05s/it]\n",
      "\u001b[A\n",
      "100%|##########| 141/141 [01:57<00:00,  1.20it/s]\n"
     ]
    },
    {
     "name": "stdout",
     "output_type": "stream",
     "text": [
      "                                                                                                                        \n",
      "Reshaping Result Matrices...\n",
      " 14%|█████▋                                   | 7/50 [5:16:05<25:53:33, 2167.74s/trial, best loss: -0.08756332760545549]"
     ]
    },
    {
     "name": "stderr",
     "output_type": "stream",
     "text": [
      "  0%|          | 0/141 [00:00<?, ?it/s]\n",
      "\u001b[A\n",
      "  2%|2         | 3/141 [00:00<00:07, 18.72it/s]\n",
      "\u001b[A\n",
      "  5%|4         | 7/141 [00:00<00:04, 28.52it/s]\n",
      "\u001b[A\n",
      "  9%|9         | 13/141 [00:00<00:03, 34.34it/s]\n",
      "\u001b[A\n",
      " 12%|#2        | 17/141 [00:00<00:04, 28.45it/s]\n",
      "\u001b[A\n",
      " 17%|#7        | 24/141 [00:00<00:02, 39.29it/s]\n",
      "\u001b[A\n",
      " 21%|##        | 29/141 [00:00<00:02, 39.70it/s]\n",
      "\u001b[A\n",
      " 24%|##4       | 34/141 [00:00<00:02, 36.26it/s]\n",
      "\u001b[A\n",
      " 29%|##9       | 41/141 [00:01<00:02, 44.36it/s]\n",
      "\u001b[A\n",
      " 35%|###4      | 49/141 [00:01<00:01, 50.44it/s]\n",
      "\u001b[A\n",
      " 39%|###9      | 55/141 [00:01<00:01, 48.96it/s]\n",
      "\u001b[A\n",
      " 44%|####3     | 62/141 [00:01<00:01, 51.44it/s]\n",
      "\u001b[A\n",
      " 50%|####9     | 70/141 [00:01<00:01, 53.25it/s]\n",
      "\u001b[A\n",
      " 54%|#####3    | 76/141 [00:01<00:01, 44.08it/s]\n",
      "\u001b[A\n",
      " 62%|######2   | 88/141 [00:01<00:00, 58.65it/s]\n",
      "\u001b[A\n",
      " 67%|######7   | 95/141 [00:02<00:00, 55.59it/s]\n",
      "\u001b[A\n",
      " 72%|#######1  | 101/141 [00:02<00:00, 48.37it/s]\n",
      "\u001b[A\n",
      " 77%|#######7  | 109/141 [00:02<00:00, 55.16it/s]\n",
      "\u001b[A\n",
      " 82%|########1 | 115/141 [00:02<00:00, 54.44it/s]\n",
      "\u001b[A\n",
      " 87%|########7 | 123/141 [00:02<00:00, 59.47it/s]\n",
      "\u001b[A\n",
      " 92%|#########2| 130/141 [00:02<00:00, 54.56it/s]\n",
      "\u001b[A\n",
      " 96%|#########6| 136/141 [00:02<00:00, 51.25it/s]\n",
      "\u001b[A\n",
      "100%|##########| 141/141 [00:02<00:00, 48.58it/s]\n"
     ]
    },
    {
     "name": "stdout",
     "output_type": "stream",
     "text": [
      "Stacking columns...                                                                                                     \n",
      "[Pipeline] ....... (step 1 of 3) Processing transformer, total=  22.1s                                                  \n",
      "[Pipeline] ...... (step 2 of 3) Processing maxabs_scale, total=  14.3s                                                  \n",
      "[Pipeline] ............. (step 3 of 3) Processing e_net, total=10.2min                                                  \n",
      "[Pipeline] ....... (step 1 of 3) Processing transformer, total=  21.5s                                                  \n",
      "[Pipeline] ...... (step 2 of 3) Processing maxabs_scale, total=  13.6s                                                  \n",
      "[Pipeline] ............. (step 3 of 3) Processing e_net, total=13.3min                                                  \n",
      " 14%|█████▋                                   | 7/50 [5:41:00<25:53:33, 2167.74s/trial, best loss: -0.08756332760545549]"
     ]
    },
    {
     "name": "stderr",
     "output_type": "stream",
     "text": [
      "/home/rogertu/projects/MechRepoNet/mrn_venv/lib/python3.8/site-packages/sklearn/linear_model/_sag.py:328: ConvergenceWarning: The max_iter was reached which means the coef_ did not converge\n",
      "  warnings.warn(\"The max_iter was reached which means \"\n",
      "\n"
     ]
    },
    {
     "name": "stdout",
     "output_type": "stream",
     "text": [
      "[Pipeline] ....... (step 1 of 3) Processing transformer, total=  24.4s                                                  \n",
      "[Pipeline] ...... (step 2 of 3) Processing maxabs_scale, total=  15.9s                                                  \n",
      "[Pipeline] ............. (step 3 of 3) Processing e_net, total=12.6min                                                  \n",
      "[Pipeline] ....... (step 1 of 3) Processing transformer, total=  25.7s                                                  \n",
      "[Pipeline] ...... (step 2 of 3) Processing maxabs_scale, total=  17.0s                                                  \n",
      "[Pipeline] ............. (step 3 of 3) Processing e_net, total=10.5min                                                  \n",
      "[Pipeline] ....... (step 1 of 3) Processing transformer, total=  23.2s                                                  \n",
      "[Pipeline] ...... (step 2 of 3) Processing maxabs_scale, total=  15.1s                                                  \n",
      "[Pipeline] ............. (step 3 of 3) Processing e_net, total=13.8min                                                  \n",
      " 14%|█████▋                                   | 7/50 [6:20:13<25:53:33, 2167.74s/trial, best loss: -0.08756332760545549]"
     ]
    },
    {
     "name": "stderr",
     "output_type": "stream",
     "text": [
      "/home/rogertu/projects/MechRepoNet/mrn_venv/lib/python3.8/site-packages/sklearn/linear_model/_sag.py:328: ConvergenceWarning: The max_iter was reached which means the coef_ did not converge\n",
      "  warnings.warn(\"The max_iter was reached which means \"\n",
      "\n"
     ]
    },
    {
     "name": "stdout",
     "output_type": "stream",
     "text": [
      "Mean AUROC: 0.7137                                                                                                      \n",
      "Mean Avg Pre: 0.0139                                                                                                    \n",
      "STD AUROC: 0.0571                                                                                                       \n",
      "STD Avg Pre: 0.0086                                                                                                     \n",
      "Loss: -0.0900                                                                                                           \n",
      "Changing w from 0.6532207489216617 to 0.3229839984555949. Please wait...                                                \n",
      " 16%|██████▌                                  | 8/50 [6:20:20<32:01:41, 2745.27s/trial, best loss: -0.08999650621632271]"
     ]
    },
    {
     "name": "stderr",
     "output_type": "stream",
     "text": [
      "  0%|          | 0/68 [00:00<?, ?it/s]\n",
      "\u001b[A\n",
      "  1%|1         | 1/68 [00:00<00:07,  8.74it/s]\n",
      "\u001b[A\n",
      " 12%|#1        | 8/68 [00:00<00:01, 41.48it/s]\n",
      "\u001b[A\n",
      " 46%|####5     | 31/68 [00:00<00:00, 123.43it/s]\n",
      "\u001b[A\n",
      " 68%|######7   | 46/68 [00:00<00:00, 131.26it/s]\n",
      "\u001b[A\n",
      " 93%|#########2| 63/68 [00:00<00:00, 144.31it/s]\n",
      "\u001b[A\n",
      "100%|##########| 68/68 [00:00<00:00, 108.32it/s]\n"
     ]
    },
    {
     "name": "stdout",
     "output_type": "stream",
     "text": [
      "Preparing function arguments...                                                                                         \n",
      "Calculating DWPCs...                                                                                                    \n",
      " 16%|██████▌                                  | 8/50 [6:20:25<32:01:41, 2745.27s/trial, best loss: -0.08999650621632271]"
     ]
    },
    {
     "name": "stderr",
     "output_type": "stream",
     "text": [
      "  0%|          | 0/141 [00:00<?, ?it/s]\n",
      "\u001b[A\n",
      "  1%|          | 1/141 [00:00<00:15,  8.92it/s]\n",
      "\u001b[A\n",
      "  4%|4         | 6/141 [00:00<00:05, 25.62it/s]\n",
      "\u001b[A\n",
      "  6%|6         | 9/141 [00:00<00:05, 25.34it/s]\n",
      "\u001b[A\n",
      " 10%|9         | 14/141 [00:00<00:04, 29.83it/s]\n",
      "\u001b[A\n",
      " 15%|#4        | 21/141 [00:00<00:03, 38.95it/s]\n",
      "\u001b[A\n",
      " 18%|#8        | 26/141 [00:00<00:02, 41.92it/s]\n",
      "\u001b[A\n",
      " 23%|##3       | 33/141 [00:00<00:02, 48.53it/s]\n",
      "\u001b[A\n",
      " 30%|###       | 43/141 [00:01<00:01, 53.33it/s]\n",
      "\u001b[A\n",
      " 37%|###6      | 52/141 [00:01<00:01, 59.17it/s]\n",
      "\u001b[A\n",
      " 41%|####1     | 58/141 [00:01<00:01, 52.01it/s]\n",
      "\u001b[A\n",
      " 45%|####5     | 64/141 [00:01<00:01, 48.76it/s]\n",
      "\u001b[A\n",
      " 52%|#####2    | 74/141 [00:01<00:01, 59.37it/s]\n",
      "\u001b[A\n",
      " 57%|#####7    | 81/141 [00:01<00:00, 61.15it/s]\n",
      "\u001b[A\n",
      " 62%|######2   | 88/141 [00:01<00:00, 53.30it/s]\n",
      "\u001b[A\n",
      " 67%|######6   | 94/141 [00:01<00:00, 50.54it/s]\n",
      "\u001b[A\n",
      " 72%|#######1  | 101/141 [00:02<00:00, 54.86it/s]\n",
      "\u001b[A\n",
      " 76%|#######5  | 107/141 [00:02<00:00, 42.31it/s]\n",
      "\u001b[A\n",
      " 81%|########  | 114/141 [00:02<00:00, 47.75it/s]\n",
      "\u001b[A\n",
      " 86%|########5 | 121/141 [00:02<00:00, 49.09it/s]\n",
      "\u001b[A\n",
      " 91%|######### | 128/141 [00:02<00:00, 52.83it/s]\n",
      "\u001b[A\n",
      " 96%|#########5| 135/141 [00:05<00:00,  8.42it/s]\n",
      "\u001b[A\n",
      " 96%|#########5| 135/141 [00:21<00:00,  8.42it/s]\n",
      "\u001b[A\n",
      " 98%|#########7| 138/141 [00:50<00:07,  2.49s/it]\n",
      "\u001b[A\n",
      " 99%|#########9| 140/141 [00:52<00:02,  2.29s/it]\n",
      "\u001b[A\n",
      " 99%|#########9| 140/141 [01:11<00:02,  2.29s/it]\n",
      "\u001b[A\n",
      "100%|##########| 141/141 [02:04<00:00,  8.17s/it]\n",
      "\u001b[A\n",
      "100%|##########| 141/141 [02:04<00:00,  1.13it/s]\n"
     ]
    },
    {
     "name": "stdout",
     "output_type": "stream",
     "text": [
      "                                                                                                                        \n",
      "Reshaping Result Matrices...\n",
      " 16%|██████▌                                  | 8/50 [6:22:33<32:01:41, 2745.27s/trial, best loss: -0.08999650621632271]"
     ]
    },
    {
     "name": "stderr",
     "output_type": "stream",
     "text": [
      "  0%|          | 0/141 [00:00<?, ?it/s]\n",
      "\u001b[A\n",
      "  1%|          | 1/141 [00:00<00:17,  8.11it/s]\n",
      "\u001b[A\n",
      "  4%|4         | 6/141 [00:00<00:05, 22.72it/s]\n",
      "\u001b[A\n",
      "  9%|9         | 13/141 [00:00<00:03, 32.44it/s]\n",
      "\u001b[A\n",
      " 12%|#2        | 17/141 [00:00<00:04, 27.71it/s]\n",
      "\u001b[A\n",
      " 17%|#7        | 24/141 [00:00<00:03, 38.22it/s]\n",
      "\u001b[A\n",
      " 21%|##        | 29/141 [00:00<00:02, 38.94it/s]\n",
      "\u001b[A\n",
      " 24%|##4       | 34/141 [00:01<00:03, 35.41it/s]\n",
      "\u001b[A\n",
      " 29%|##9       | 41/141 [00:01<00:02, 43.30it/s]\n",
      "\u001b[A\n",
      " 35%|###4      | 49/141 [00:01<00:01, 49.46it/s]\n",
      "\u001b[A\n",
      " 39%|###9      | 55/141 [00:01<00:01, 47.95it/s]\n",
      "\u001b[A\n",
      " 44%|####3     | 62/141 [00:01<00:01, 50.62it/s]\n",
      "\u001b[A\n",
      " 50%|####9     | 70/141 [00:01<00:01, 52.54it/s]\n",
      "\u001b[A\n",
      " 54%|#####3    | 76/141 [00:01<00:01, 43.38it/s]\n",
      "\u001b[A\n",
      " 62%|######2   | 88/141 [00:01<00:00, 57.93it/s]\n",
      "\u001b[A\n",
      " 67%|######7   | 95/141 [00:02<00:00, 54.72it/s]\n",
      "\u001b[A\n",
      " 72%|#######1  | 101/141 [00:02<00:00, 47.44it/s]\n",
      "\u001b[A\n",
      " 77%|#######7  | 109/141 [00:02<00:00, 54.06it/s]\n",
      "\u001b[A\n",
      " 82%|########1 | 115/141 [00:02<00:00, 53.01it/s]\n",
      "\u001b[A\n",
      " 87%|########7 | 123/141 [00:02<00:00, 57.66it/s]\n",
      "\u001b[A\n",
      " 92%|#########2| 130/141 [00:02<00:00, 53.03it/s]\n",
      "\u001b[A\n",
      " 96%|#########6| 136/141 [00:02<00:00, 49.35it/s]\n",
      "\u001b[A\n",
      "100%|##########| 141/141 [00:02<00:00, 47.07it/s]\n"
     ]
    },
    {
     "name": "stdout",
     "output_type": "stream",
     "text": [
      "Stacking columns...                                                                                                     \n",
      "[Pipeline] ....... (step 1 of 3) Processing transformer, total=  22.4s                                                  \n",
      "[Pipeline] ...... (step 2 of 3) Processing maxabs_scale, total=  14.4s                                                  \n",
      "[Pipeline] ............. (step 3 of 3) Processing e_net, total=13.4min                                                  \n",
      " 16%|██████▌                                  | 8/50 [6:36:42<32:01:41, 2745.27s/trial, best loss: -0.08999650621632271]"
     ]
    },
    {
     "name": "stderr",
     "output_type": "stream",
     "text": [
      "/home/rogertu/projects/MechRepoNet/mrn_venv/lib/python3.8/site-packages/sklearn/linear_model/_sag.py:328: ConvergenceWarning: The max_iter was reached which means the coef_ did not converge\n",
      "  warnings.warn(\"The max_iter was reached which means \"\n",
      "\n"
     ]
    },
    {
     "name": "stdout",
     "output_type": "stream",
     "text": [
      "[Pipeline] ....... (step 1 of 3) Processing transformer, total=  21.8s                                                  \n",
      "[Pipeline] ...... (step 2 of 3) Processing maxabs_scale, total=  13.9s                                                  \n",
      "[Pipeline] ............. (step 3 of 3) Processing e_net, total=13.3min                                                  \n",
      " 16%|██████▌                                  | 8/50 [6:50:42<32:01:41, 2745.27s/trial, best loss: -0.08999650621632271]"
     ]
    },
    {
     "name": "stderr",
     "output_type": "stream",
     "text": [
      "/home/rogertu/projects/MechRepoNet/mrn_venv/lib/python3.8/site-packages/sklearn/linear_model/_sag.py:328: ConvergenceWarning: The max_iter was reached which means the coef_ did not converge\n",
      "  warnings.warn(\"The max_iter was reached which means \"\n",
      "\n"
     ]
    },
    {
     "name": "stdout",
     "output_type": "stream",
     "text": [
      "[Pipeline] ....... (step 1 of 3) Processing transformer, total=  24.7s                                                  \n",
      "[Pipeline] ...... (step 2 of 3) Processing maxabs_scale, total=  16.2s                                                  \n",
      "[Pipeline] ............. (step 3 of 3) Processing e_net, total=13.5min                                                  \n",
      " 16%|██████▌                                  | 8/50 [7:05:05<32:01:41, 2745.27s/trial, best loss: -0.08999650621632271]"
     ]
    },
    {
     "name": "stderr",
     "output_type": "stream",
     "text": [
      "/home/rogertu/projects/MechRepoNet/mrn_venv/lib/python3.8/site-packages/sklearn/linear_model/_sag.py:328: ConvergenceWarning: The max_iter was reached which means the coef_ did not converge\n",
      "  warnings.warn(\"The max_iter was reached which means \"\n",
      "\n"
     ]
    },
    {
     "name": "stdout",
     "output_type": "stream",
     "text": [
      "[Pipeline] ....... (step 1 of 3) Processing transformer, total=  26.1s                                                  \n",
      "[Pipeline] ...... (step 2 of 3) Processing maxabs_scale, total=  17.4s                                                  \n",
      "[Pipeline] ............. (step 3 of 3) Processing e_net, total=13.7min                                                  \n",
      " 16%|██████▌                                  | 8/50 [7:19:38<32:01:41, 2745.27s/trial, best loss: -0.08999650621632271]"
     ]
    },
    {
     "name": "stderr",
     "output_type": "stream",
     "text": [
      "/home/rogertu/projects/MechRepoNet/mrn_venv/lib/python3.8/site-packages/sklearn/linear_model/_sag.py:328: ConvergenceWarning: The max_iter was reached which means the coef_ did not converge\n",
      "  warnings.warn(\"The max_iter was reached which means \"\n",
      "\n"
     ]
    },
    {
     "name": "stdout",
     "output_type": "stream",
     "text": [
      "[Pipeline] ....... (step 1 of 3) Processing transformer, total=  23.5s                                                  \n",
      "[Pipeline] ...... (step 2 of 3) Processing maxabs_scale, total=  15.4s                                                  \n",
      "[Pipeline] ............. (step 3 of 3) Processing e_net, total=13.6min                                                  \n",
      " 16%|██████▌                                  | 8/50 [7:33:57<32:01:41, 2745.27s/trial, best loss: -0.08999650621632271]"
     ]
    },
    {
     "name": "stderr",
     "output_type": "stream",
     "text": [
      "/home/rogertu/projects/MechRepoNet/mrn_venv/lib/python3.8/site-packages/sklearn/linear_model/_sag.py:328: ConvergenceWarning: The max_iter was reached which means the coef_ did not converge\n",
      "  warnings.warn(\"The max_iter was reached which means \"\n",
      "\n"
     ]
    },
    {
     "name": "stdout",
     "output_type": "stream",
     "text": [
      "Mean AUROC: 0.6999                                                                                                      \n",
      "Mean Avg Pre: 0.0139                                                                                                    \n",
      "STD AUROC: 0.0456                                                                                                       \n",
      "STD Avg Pre: 0.0091                                                                                                     \n",
      "Loss: -0.0885                                                                                                           \n",
      "Changing w from 0.3229839984555949 to 0.4529497132993202. Please wait...                                                \n",
      " 18%|███████▍                                 | 9/50 [7:34:04<37:14:32, 3270.05s/trial, best loss: -0.08999650621632271]"
     ]
    },
    {
     "name": "stderr",
     "output_type": "stream",
     "text": [
      "  0%|          | 0/68 [00:00<?, ?it/s]\n",
      "\u001b[A\n",
      "  1%|1         | 1/68 [00:00<00:08,  7.90it/s]\n",
      "\u001b[A\n",
      " 12%|#1        | 8/68 [00:00<00:01, 40.28it/s]\n",
      "\u001b[A\n",
      " 41%|####1     | 28/68 [00:00<00:00, 105.60it/s]\n",
      "\u001b[A\n",
      " 60%|######    | 41/68 [00:00<00:00, 108.53it/s]\n",
      "\u001b[A\n",
      " 99%|#########8| 67/68 [00:00<00:00, 150.06it/s]\n",
      "\u001b[A\n",
      "100%|##########| 68/68 [00:00<00:00, 107.52it/s]\n"
     ]
    },
    {
     "name": "stdout",
     "output_type": "stream",
     "text": [
      "Preparing function arguments...                                                                                         \n",
      "Calculating DWPCs...                                                                                                    \n",
      " 18%|███████▍                                 | 9/50 [7:34:09<37:14:32, 3270.05s/trial, best loss: -0.08999650621632271]"
     ]
    },
    {
     "name": "stderr",
     "output_type": "stream",
     "text": [
      "  0%|          | 0/141 [00:00<?, ?it/s]\n",
      "\u001b[A\n",
      "  1%|          | 1/141 [00:00<00:15,  8.90it/s]\n",
      "\u001b[A\n",
      "  3%|2         | 4/141 [00:00<00:06, 20.29it/s]\n",
      "\u001b[A\n",
      "  6%|6         | 9/141 [00:00<00:04, 30.22it/s]\n",
      "\u001b[A\n",
      "  9%|9         | 13/141 [00:00<00:03, 33.62it/s]\n",
      "\u001b[A\n",
      " 13%|#2        | 18/141 [00:00<00:03, 35.05it/s]\n",
      "\u001b[A\n",
      " 17%|#7        | 24/141 [00:00<00:03, 38.81it/s]\n",
      "\u001b[A\n",
      " 23%|##3       | 33/141 [00:00<00:02, 49.77it/s]\n",
      "\u001b[A\n",
      " 27%|##6       | 38/141 [00:00<00:02, 48.49it/s]\n",
      "\u001b[A\n",
      " 35%|###5      | 50/141 [00:01<00:01, 66.14it/s]\n",
      "\u001b[A\n",
      " 40%|####      | 57/141 [00:01<00:01, 62.47it/s]\n",
      "\u001b[A\n",
      " 45%|####5     | 64/141 [00:01<00:01, 51.69it/s]\n",
      "\u001b[A\n",
      " 50%|#####     | 71/141 [00:01<00:01, 55.81it/s]\n",
      "\u001b[A\n",
      " 55%|#####5    | 78/141 [00:01<00:01, 57.79it/s]\n",
      "\u001b[A\n",
      " 61%|######    | 86/141 [00:01<00:00, 60.81it/s]\n",
      "\u001b[A\n",
      " 66%|######5   | 93/141 [00:01<00:00, 55.40it/s]\n",
      "\u001b[A\n",
      " 70%|#######   | 99/141 [00:01<00:00, 56.27it/s]\n",
      "\u001b[A\n",
      " 74%|#######4  | 105/141 [00:02<00:00, 44.72it/s]\n",
      "\u001b[A\n",
      " 79%|#######8  | 111/141 [00:02<00:00, 47.08it/s]\n",
      "\u001b[A\n",
      " 83%|########2 | 117/141 [00:02<00:00, 46.13it/s]\n",
      "\u001b[A\n",
      " 88%|########7 | 124/141 [00:02<00:00, 49.58it/s]\n",
      "\u001b[A\n",
      " 94%|#########4| 133/141 [00:02<00:00, 56.18it/s]\n",
      "\u001b[A\n",
      " 94%|#########4| 133/141 [00:18<00:00, 56.18it/s]\n",
      "\u001b[A\n",
      " 98%|#########7| 138/141 [00:50<00:06,  2.20s/it]\n",
      "\u001b[A\n",
      " 99%|#########8| 139/141 [00:53<00:04,  2.23s/it]\n",
      "\u001b[A\n",
      " 99%|#########8| 139/141 [01:08<00:04,  2.23s/it]\n",
      "\u001b[A\n",
      "100%|##########| 141/141 [02:00<00:00,  6.89s/it]\n",
      "\u001b[A\n",
      "100%|##########| 141/141 [02:00<00:00,  1.17it/s]\n"
     ]
    },
    {
     "name": "stdout",
     "output_type": "stream",
     "text": [
      "                                                                                                                        \n",
      "Reshaping Result Matrices...\n",
      " 18%|███████▍                                 | 9/50 [7:36:13<37:14:32, 3270.05s/trial, best loss: -0.08999650621632271]"
     ]
    },
    {
     "name": "stderr",
     "output_type": "stream",
     "text": [
      "  0%|          | 0/141 [00:00<?, ?it/s]\n",
      "\u001b[A\n",
      "  1%|1         | 2/141 [00:00<00:07, 18.71it/s]\n",
      "\u001b[A\n",
      "  4%|4         | 6/141 [00:00<00:05, 23.27it/s]\n",
      "\u001b[A\n",
      "  9%|9         | 13/141 [00:00<00:03, 32.51it/s]\n",
      "\u001b[A\n",
      " 12%|#2        | 17/141 [00:00<00:04, 27.19it/s]\n",
      "\u001b[A\n",
      " 16%|#5        | 22/141 [00:00<00:03, 32.66it/s]\n",
      "\u001b[A\n",
      " 19%|#9        | 27/141 [00:00<00:03, 35.15it/s]\n",
      "\u001b[A\n",
      " 22%|##1       | 31/141 [00:00<00:03, 34.01it/s]\n",
      "\u001b[A\n",
      " 27%|##6       | 38/141 [00:01<00:02, 42.54it/s]\n",
      "\u001b[A\n",
      " 32%|###1      | 45/141 [00:01<00:02, 47.88it/s]\n",
      "\u001b[A\n",
      " 35%|###5      | 50/141 [00:01<00:02, 44.76it/s]\n",
      "\u001b[A\n",
      " 40%|###9      | 56/141 [00:01<00:01, 45.41it/s]\n",
      "\u001b[A\n",
      " 45%|####4     | 63/141 [00:01<00:01, 51.64it/s]\n",
      "\u001b[A\n",
      " 50%|####9     | 70/141 [00:01<00:01, 52.53it/s]\n",
      "\u001b[A\n",
      " 54%|#####3    | 76/141 [00:01<00:01, 42.36it/s]\n",
      "\u001b[A\n",
      " 62%|######2   | 88/141 [00:02<00:00, 56.87it/s]\n",
      "\u001b[A\n",
      " 67%|######7   | 95/141 [00:02<00:00, 53.53it/s]\n",
      "\u001b[A\n",
      " 72%|#######1  | 101/141 [00:02<00:00, 46.63it/s]\n",
      "\u001b[A\n",
      " 77%|#######7  | 109/141 [00:02<00:00, 53.54it/s]\n",
      "\u001b[A\n",
      " 82%|########1 | 115/141 [00:02<00:00, 53.19it/s]\n",
      "\u001b[A\n",
      " 87%|########7 | 123/141 [00:02<00:00, 58.44it/s]\n",
      "\u001b[A\n",
      " 92%|#########2| 130/141 [00:02<00:00, 53.81it/s]\n",
      "\u001b[A\n",
      " 96%|#########6| 136/141 [00:02<00:00, 50.60it/s]\n",
      "\u001b[A\n",
      "100%|##########| 141/141 [00:03<00:00, 46.68it/s]\n"
     ]
    },
    {
     "name": "stdout",
     "output_type": "stream",
     "text": [
      "Stacking columns...                                                                                                     \n",
      "[Pipeline] ....... (step 1 of 3) Processing transformer, total=  22.3s                                                  \n",
      "[Pipeline] ...... (step 2 of 3) Processing maxabs_scale, total=  14.5s                                                  \n",
      "[Pipeline] ............. (step 3 of 3) Processing e_net, total=13.6min                                                  \n",
      " 18%|███████▍                                 | 9/50 [7:50:33<37:14:32, 3270.05s/trial, best loss: -0.08999650621632271]"
     ]
    },
    {
     "name": "stderr",
     "output_type": "stream",
     "text": [
      "/home/rogertu/projects/MechRepoNet/mrn_venv/lib/python3.8/site-packages/sklearn/linear_model/_sag.py:328: ConvergenceWarning: The max_iter was reached which means the coef_ did not converge\n",
      "  warnings.warn(\"The max_iter was reached which means \"\n",
      "\n"
     ]
    },
    {
     "name": "stdout",
     "output_type": "stream",
     "text": [
      "[Pipeline] ....... (step 1 of 3) Processing transformer, total=  21.6s                                                  \n",
      "[Pipeline] ...... (step 2 of 3) Processing maxabs_scale, total=  13.8s                                                  \n",
      "[Pipeline] ............. (step 3 of 3) Processing e_net, total=13.4min                                                  \n",
      " 18%|███████▍                                 | 9/50 [8:04:43<37:14:32, 3270.05s/trial, best loss: -0.08999650621632271]"
     ]
    },
    {
     "name": "stderr",
     "output_type": "stream",
     "text": [
      "/home/rogertu/projects/MechRepoNet/mrn_venv/lib/python3.8/site-packages/sklearn/linear_model/_sag.py:328: ConvergenceWarning: The max_iter was reached which means the coef_ did not converge\n",
      "  warnings.warn(\"The max_iter was reached which means \"\n",
      "\n"
     ]
    },
    {
     "name": "stdout",
     "output_type": "stream",
     "text": [
      "[Pipeline] ....... (step 1 of 3) Processing transformer, total=  24.6s                                                  \n",
      "[Pipeline] ...... (step 2 of 3) Processing maxabs_scale, total=  16.1s                                                  \n",
      "[Pipeline] ............. (step 3 of 3) Processing e_net, total=13.9min                                                  \n",
      " 18%|███████▍                                 | 9/50 [8:19:30<37:14:32, 3270.05s/trial, best loss: -0.08999650621632271]"
     ]
    },
    {
     "name": "stderr",
     "output_type": "stream",
     "text": [
      "/home/rogertu/projects/MechRepoNet/mrn_venv/lib/python3.8/site-packages/sklearn/linear_model/_sag.py:328: ConvergenceWarning: The max_iter was reached which means the coef_ did not converge\n",
      "  warnings.warn(\"The max_iter was reached which means \"\n",
      "\n"
     ]
    },
    {
     "name": "stdout",
     "output_type": "stream",
     "text": [
      "[Pipeline] ....... (step 1 of 3) Processing transformer, total=  26.0s                                                  \n",
      "[Pipeline] ...... (step 2 of 3) Processing maxabs_scale, total=  17.3s                                                  \n",
      "[Pipeline] ............. (step 3 of 3) Processing e_net, total=14.1min                                                  \n",
      " 18%|███████▍                                 | 9/50 [8:34:24<37:14:32, 3270.05s/trial, best loss: -0.08999650621632271]"
     ]
    },
    {
     "name": "stderr",
     "output_type": "stream",
     "text": [
      "/home/rogertu/projects/MechRepoNet/mrn_venv/lib/python3.8/site-packages/sklearn/linear_model/_sag.py:328: ConvergenceWarning: The max_iter was reached which means the coef_ did not converge\n",
      "  warnings.warn(\"The max_iter was reached which means \"\n",
      "\n"
     ]
    },
    {
     "name": "stdout",
     "output_type": "stream",
     "text": [
      "[Pipeline] ....... (step 1 of 3) Processing transformer, total=  23.3s                                                  \n",
      "[Pipeline] ...... (step 2 of 3) Processing maxabs_scale, total=  15.3s                                                  \n",
      "[Pipeline] ............. (step 3 of 3) Processing e_net, total=13.8min                                                  \n",
      " 18%|███████▍                                 | 9/50 [8:48:57<37:14:32, 3270.05s/trial, best loss: -0.08999650621632271]"
     ]
    },
    {
     "name": "stderr",
     "output_type": "stream",
     "text": [
      "/home/rogertu/projects/MechRepoNet/mrn_venv/lib/python3.8/site-packages/sklearn/linear_model/_sag.py:328: ConvergenceWarning: The max_iter was reached which means the coef_ did not converge\n",
      "  warnings.warn(\"The max_iter was reached which means \"\n",
      "\n"
     ]
    },
    {
     "name": "stdout",
     "output_type": "stream",
     "text": [
      "Mean AUROC: 0.7038                                                                                                      \n",
      "Mean Avg Pre: 0.0135                                                                                                    \n",
      "STD AUROC: 0.0456                                                                                                       \n",
      "STD Avg Pre: 0.0082                                                                                                     \n",
      "Loss: -0.0891                                                                                                           \n",
      "Changing w from 0.4529497132993202 to 0.12531298460231877. Please wait...                                               \n",
      " 20%|████████                                | 10/50 [8:49:04<40:33:03, 3649.58s/trial, best loss: -0.08999650621632271]"
     ]
    },
    {
     "name": "stderr",
     "output_type": "stream",
     "text": [
      "  0%|          | 0/68 [00:00<?, ?it/s]\n",
      "\u001b[A\n",
      "  1%|1         | 1/68 [00:00<00:08,  7.97it/s]\n",
      "\u001b[A\n",
      " 15%|#4        | 10/68 [00:00<00:01, 44.39it/s]\n",
      "\u001b[A\n",
      " 50%|#####     | 34/68 [00:00<00:00, 120.71it/s]\n",
      "\u001b[A\n",
      " 72%|#######2  | 49/68 [00:00<00:00, 129.21it/s]\n",
      "\u001b[A\n",
      " 99%|#########8| 67/68 [00:00<00:00, 136.03it/s]\n",
      "\u001b[A\n",
      "100%|##########| 68/68 [00:00<00:00, 104.78it/s]\n"
     ]
    },
    {
     "name": "stdout",
     "output_type": "stream",
     "text": [
      "Preparing function arguments...                                                                                         \n",
      "Calculating DWPCs...                                                                                                    \n",
      " 20%|████████                                | 10/50 [8:49:09<40:33:03, 3649.58s/trial, best loss: -0.08999650621632271]"
     ]
    },
    {
     "name": "stderr",
     "output_type": "stream",
     "text": [
      "  0%|          | 0/141 [00:00<?, ?it/s]\n",
      "\u001b[A\n",
      "  1%|          | 1/141 [00:00<00:15,  8.88it/s]\n",
      "\u001b[A\n",
      "  4%|4         | 6/141 [00:00<00:04, 27.48it/s]\n",
      "\u001b[A\n",
      "  6%|6         | 9/141 [00:00<00:04, 26.96it/s]\n",
      "\u001b[A\n",
      "  9%|8         | 12/141 [00:00<00:04, 26.23it/s]\n",
      "\u001b[A\n",
      " 12%|#2        | 17/141 [00:00<00:04, 28.99it/s]\n",
      "\u001b[A\n",
      " 18%|#7        | 25/141 [00:00<00:02, 43.30it/s]\n",
      "\u001b[A\n",
      " 22%|##1       | 31/141 [00:00<00:02, 46.73it/s]\n",
      "\u001b[A\n",
      " 26%|##5       | 36/141 [00:00<00:02, 43.56it/s]\n",
      "\u001b[A\n",
      " 34%|###4      | 48/141 [00:01<00:01, 64.04it/s]\n",
      "\u001b[A\n",
      " 39%|###9      | 55/141 [00:01<00:01, 54.31it/s]\n",
      "\u001b[A\n",
      " 43%|####3     | 61/141 [00:01<00:01, 53.70it/s]\n",
      "\u001b[A\n",
      " 48%|####7     | 67/141 [00:01<00:01, 47.22it/s]\n",
      "\u001b[A\n",
      " 54%|#####3    | 76/141 [00:01<00:01, 54.77it/s]\n",
      "\u001b[A\n",
      " 60%|######    | 85/141 [00:01<00:00, 59.96it/s]\n",
      "\u001b[A\n",
      " 65%|######5   | 92/141 [00:01<00:00, 58.12it/s]\n",
      "\u001b[A\n",
      " 70%|######9   | 98/141 [00:02<00:00, 55.79it/s]\n",
      "\u001b[A\n",
      " 74%|#######3  | 104/141 [00:02<00:00, 54.90it/s]\n",
      "\u001b[A\n",
      " 78%|#######8  | 110/141 [00:02<00:00, 44.53it/s]\n",
      "\u001b[A\n",
      " 86%|########5 | 121/141 [00:02<00:00, 50.82it/s]\n",
      "\u001b[A\n",
      " 91%|#########1| 129/141 [00:02<00:00, 56.96it/s]\n",
      "\u001b[A\n",
      " 96%|#########6| 136/141 [00:06<00:00,  5.74it/s]\n",
      "\u001b[A\n",
      " 96%|#########6| 136/141 [00:18<00:00,  5.74it/s]\n",
      "\u001b[A\n",
      " 98%|#########7| 138/141 [00:51<00:07,  2.40s/it]\n",
      "\u001b[A\n",
      " 99%|#########8| 139/141 [00:51<00:04,  2.26s/it]\n",
      "\u001b[A\n",
      " 99%|#########8| 139/141 [01:08<00:04,  2.26s/it]\n",
      "\u001b[A\n",
      "100%|##########| 141/141 [02:03<00:00,  7.73s/it]\n",
      "\u001b[A\n",
      "100%|##########| 141/141 [02:03<00:00,  1.14it/s]\n"
     ]
    },
    {
     "name": "stdout",
     "output_type": "stream",
     "text": [
      "                                                                                                                        \n",
      "Reshaping Result Matrices...\n",
      " 20%|████████                                | 10/50 [8:51:17<40:33:03, 3649.58s/trial, best loss: -0.08999650621632271]"
     ]
    },
    {
     "name": "stderr",
     "output_type": "stream",
     "text": [
      "  0%|          | 0/141 [00:00<?, ?it/s]\n",
      "\u001b[A\n",
      "  1%|          | 1/141 [00:00<00:19,  7.30it/s]\n",
      "\u001b[A\n",
      "  4%|4         | 6/141 [00:00<00:06, 22.14it/s]\n",
      "\u001b[A\n",
      "  9%|9         | 13/141 [00:00<00:03, 32.31it/s]\n",
      "\u001b[A\n",
      " 12%|#2        | 17/141 [00:00<00:04, 27.79it/s]\n",
      "\u001b[A\n",
      " 14%|#4        | 20/141 [00:00<00:04, 28.09it/s]\n",
      "\u001b[A\n",
      " 19%|#9        | 27/141 [00:00<00:03, 35.58it/s]\n",
      "\u001b[A\n",
      " 22%|##1       | 31/141 [00:01<00:03, 33.96it/s]\n",
      "\u001b[A\n",
      " 27%|##6       | 38/141 [00:01<00:02, 41.90it/s]\n",
      "\u001b[A\n",
      " 31%|###1      | 44/141 [00:01<00:02, 46.54it/s]\n",
      "\u001b[A\n",
      " 35%|###5      | 50/141 [00:01<00:02, 44.06it/s]\n",
      "\u001b[A\n",
      " 40%|###9      | 56/141 [00:01<00:01, 44.29it/s]\n",
      "\u001b[A\n",
      " 45%|####4     | 63/141 [00:01<00:01, 50.29it/s]\n",
      "\u001b[A\n",
      " 50%|####9     | 70/141 [00:01<00:01, 51.35it/s]\n",
      "\u001b[A\n",
      " 54%|#####3    | 76/141 [00:01<00:01, 41.24it/s]\n",
      "\u001b[A\n",
      " 62%|######1   | 87/141 [00:02<00:00, 56.38it/s]\n",
      "\u001b[A\n",
      " 67%|######6   | 94/141 [00:02<00:00, 49.71it/s]\n",
      "\u001b[A\n",
      " 71%|#######   | 100/141 [00:02<00:00, 48.80it/s]\n",
      "\u001b[A\n",
      " 75%|#######5  | 106/141 [00:02<00:00, 51.27it/s]\n",
      "\u001b[A\n",
      " 79%|#######9  | 112/141 [00:02<00:00, 44.39it/s]\n",
      "\u001b[A\n",
      " 85%|########5 | 120/141 [00:02<00:00, 52.07it/s]\n",
      "\u001b[A\n",
      " 90%|######### | 127/141 [00:02<00:00, 53.75it/s]\n",
      "\u001b[A\n",
      " 94%|#########4| 133/141 [00:03<00:00, 52.26it/s]\n",
      "\u001b[A\n",
      " 99%|#########8| 139/141 [00:03<00:00, 48.56it/s]\n",
      "\u001b[A\n",
      "100%|##########| 141/141 [00:03<00:00, 44.69it/s]\n"
     ]
    },
    {
     "name": "stdout",
     "output_type": "stream",
     "text": [
      "Stacking columns...                                                                                                     \n",
      "[Pipeline] ....... (step 1 of 3) Processing transformer, total=  22.5s                                                  \n",
      "[Pipeline] ...... (step 2 of 3) Processing maxabs_scale, total=  14.6s                                                  \n",
      "[Pipeline] ............. (step 3 of 3) Processing e_net, total=12.5min                                                  \n",
      " 20%|████████                                | 10/50 [9:04:34<40:33:03, 3649.58s/trial, best loss: -0.08999650621632271]"
     ]
    },
    {
     "name": "stderr",
     "output_type": "stream",
     "text": [
      "/home/rogertu/projects/MechRepoNet/mrn_venv/lib/python3.8/site-packages/sklearn/linear_model/_sag.py:328: ConvergenceWarning: The max_iter was reached which means the coef_ did not converge\n",
      "  warnings.warn(\"The max_iter was reached which means \"\n",
      "\n"
     ]
    },
    {
     "name": "stdout",
     "output_type": "stream",
     "text": [
      "[Pipeline] ....... (step 1 of 3) Processing transformer, total=  21.6s                                                  \n",
      "[Pipeline] ...... (step 2 of 3) Processing maxabs_scale, total=  13.7s                                                  \n",
      "[Pipeline] ............. (step 3 of 3) Processing e_net, total=12.1min                                                  \n",
      " 20%|████████                                | 10/50 [9:17:26<40:33:03, 3649.58s/trial, best loss: -0.08999650621632271]"
     ]
    },
    {
     "name": "stderr",
     "output_type": "stream",
     "text": [
      "/home/rogertu/projects/MechRepoNet/mrn_venv/lib/python3.8/site-packages/sklearn/linear_model/_sag.py:328: ConvergenceWarning: The max_iter was reached which means the coef_ did not converge\n",
      "  warnings.warn(\"The max_iter was reached which means \"\n",
      "\n"
     ]
    },
    {
     "name": "stdout",
     "output_type": "stream",
     "text": [
      "[Pipeline] ....... (step 1 of 3) Processing transformer, total=  24.5s                                                  \n",
      "[Pipeline] ...... (step 2 of 3) Processing maxabs_scale, total=  16.0s                                                  \n",
      "[Pipeline] ............. (step 3 of 3) Processing e_net, total=12.4min                                                  \n",
      " 20%|████████                                | 10/50 [9:30:38<40:33:03, 3649.58s/trial, best loss: -0.08999650621632271]"
     ]
    },
    {
     "name": "stderr",
     "output_type": "stream",
     "text": [
      "/home/rogertu/projects/MechRepoNet/mrn_venv/lib/python3.8/site-packages/sklearn/linear_model/_sag.py:328: ConvergenceWarning: The max_iter was reached which means the coef_ did not converge\n",
      "  warnings.warn(\"The max_iter was reached which means \"\n",
      "\n"
     ]
    },
    {
     "name": "stdout",
     "output_type": "stream",
     "text": [
      "[Pipeline] ....... (step 1 of 3) Processing transformer, total=  25.9s                                                  \n",
      "[Pipeline] ...... (step 2 of 3) Processing maxabs_scale, total=  17.2s                                                  \n",
      "[Pipeline] ............. (step 3 of 3) Processing e_net, total=13.1min                                                  \n",
      " 20%|████████                                | 10/50 [9:44:34<40:33:03, 3649.58s/trial, best loss: -0.08999650621632271]"
     ]
    },
    {
     "name": "stderr",
     "output_type": "stream",
     "text": [
      "/home/rogertu/projects/MechRepoNet/mrn_venv/lib/python3.8/site-packages/sklearn/linear_model/_sag.py:328: ConvergenceWarning: The max_iter was reached which means the coef_ did not converge\n",
      "  warnings.warn(\"The max_iter was reached which means \"\n",
      "\n"
     ]
    },
    {
     "name": "stdout",
     "output_type": "stream",
     "text": [
      "[Pipeline] ....... (step 1 of 3) Processing transformer, total=  23.3s                                                  \n",
      "[Pipeline] ...... (step 2 of 3) Processing maxabs_scale, total=  15.2s                                                  \n",
      "[Pipeline] ............. (step 3 of 3) Processing e_net, total=12.9min                                                  \n",
      " 20%|████████                                | 10/50 [9:58:13<40:33:03, 3649.58s/trial, best loss: -0.08999650621632271]"
     ]
    },
    {
     "name": "stderr",
     "output_type": "stream",
     "text": [
      "/home/rogertu/projects/MechRepoNet/mrn_venv/lib/python3.8/site-packages/sklearn/linear_model/_sag.py:328: ConvergenceWarning: The max_iter was reached which means the coef_ did not converge\n",
      "  warnings.warn(\"The max_iter was reached which means \"\n",
      "\n"
     ]
    },
    {
     "name": "stdout",
     "output_type": "stream",
     "text": [
      "Mean AUROC: 0.6972                                                                                                      \n",
      "Mean Avg Pre: 0.0145                                                                                                    \n",
      "STD AUROC: 0.0487                                                                                                       \n",
      "STD Avg Pre: 0.0110                                                                                                     \n",
      "Loss: -0.0879                                                                                                           \n",
      "Changing w from 0.12531298460231877 to 0.6499480841543211. Please wait...                                               \n",
      " 22%|████████▊                               | 11/50 [9:58:20<41:13:03, 3804.72s/trial, best loss: -0.08999650621632271]"
     ]
    },
    {
     "name": "stderr",
     "output_type": "stream",
     "text": [
      "  0%|          | 0/68 [00:00<?, ?it/s]\n",
      "\u001b[A\n",
      "  1%|1         | 1/68 [00:00<00:08,  8.22it/s]\n",
      "\u001b[A\n",
      " 12%|#1        | 8/68 [00:00<00:01, 37.88it/s]\n",
      "\u001b[A\n",
      " 49%|####8     | 33/68 [00:00<00:00, 125.33it/s]\n",
      "\u001b[A\n",
      " 69%|######9   | 47/68 [00:00<00:00, 120.39it/s]\n",
      "\u001b[A\n",
      " 99%|#########8| 67/68 [00:00<00:00, 141.04it/s]\n",
      "\u001b[A\n",
      "100%|##########| 68/68 [00:00<00:00, 106.56it/s]\n"
     ]
    },
    {
     "name": "stdout",
     "output_type": "stream",
     "text": [
      "Preparing function arguments...                                                                                         \n",
      "Calculating DWPCs...                                                                                                    \n",
      " 22%|████████▊                               | 11/50 [9:58:25<41:13:03, 3804.72s/trial, best loss: -0.08999650621632271]"
     ]
    },
    {
     "name": "stderr",
     "output_type": "stream",
     "text": [
      "  0%|          | 0/141 [00:00<?, ?it/s]\n",
      "\u001b[A\n",
      "  1%|          | 1/141 [00:00<00:15,  8.92it/s]\n",
      "\u001b[A\n",
      "  4%|3         | 5/141 [00:00<00:05, 24.41it/s]\n",
      "\u001b[A\n",
      "  6%|6         | 9/141 [00:00<00:04, 29.22it/s]\n",
      "\u001b[A\n",
      "  9%|9         | 13/141 [00:00<00:04, 30.02it/s]\n",
      "\u001b[A\n",
      " 13%|#3        | 19/141 [00:00<00:03, 36.90it/s]\n",
      "\u001b[A\n",
      " 18%|#7        | 25/141 [00:00<00:03, 30.58it/s]\n",
      "\u001b[A\n",
      " 22%|##1       | 31/141 [00:00<00:02, 37.23it/s]\n",
      "\u001b[A\n",
      " 26%|##5       | 36/141 [00:01<00:02, 39.47it/s]\n",
      "\u001b[A\n",
      " 34%|###4      | 48/141 [00:01<00:01, 59.88it/s]\n",
      "\u001b[A\n",
      " 39%|###9      | 55/141 [00:01<00:01, 53.09it/s]\n",
      "\u001b[A\n",
      " 43%|####3     | 61/141 [00:01<00:01, 49.13it/s]\n",
      "\u001b[A\n",
      " 48%|####7     | 67/141 [00:01<00:02, 31.77it/s]\n",
      "\u001b[A\n",
      " 51%|#####1    | 72/141 [00:02<00:02, 29.43it/s]\n",
      "\u001b[A\n",
      " 59%|#####8    | 83/141 [00:02<00:01, 43.14it/s]\n",
      "\u001b[A\n",
      " 63%|######3   | 89/141 [00:02<00:01, 44.05it/s]\n",
      "\u001b[A\n",
      " 67%|######7   | 95/141 [00:02<00:01, 42.59it/s]\n",
      "\u001b[A\n",
      " 71%|#######   | 100/141 [00:02<00:00, 41.29it/s]\n",
      "\u001b[A\n",
      " 74%|#######4  | 105/141 [00:02<00:01, 30.46it/s]\n",
      "\u001b[A\n",
      " 77%|#######7  | 109/141 [00:03<00:01, 28.04it/s]\n",
      "\u001b[A\n",
      " 82%|########2 | 116/141 [00:03<00:00, 35.07it/s]\n",
      "\u001b[A\n",
      " 86%|########5 | 121/141 [00:03<00:00, 35.80it/s]\n",
      "\u001b[A\n",
      " 91%|######### | 128/141 [00:03<00:00, 40.97it/s]\n",
      "\u001b[A\n",
      " 95%|#########5| 134/141 [00:03<00:00, 43.90it/s]\n",
      "\u001b[A\n",
      " 95%|#########5| 134/141 [00:22<00:00, 43.90it/s]\n",
      "\u001b[A\n",
      " 98%|#########7| 138/141 [00:51<00:08,  2.68s/it]\n",
      "\u001b[A\n",
      " 99%|#########9| 140/141 [00:54<00:02,  2.52s/it]\n",
      "\u001b[A\n",
      " 99%|#########9| 140/141 [01:12<00:02,  2.52s/it]\n",
      "\u001b[A\n",
      "100%|##########| 141/141 [02:02<00:00,  8.32s/it]\n",
      "\u001b[A\n",
      "100%|##########| 141/141 [02:02<00:00,  1.16it/s]\n"
     ]
    },
    {
     "name": "stdout",
     "output_type": "stream",
     "text": [
      "                                                                                                                        \n",
      "Reshaping Result Matrices...\n",
      " 22%|████████▌                              | 11/50 [10:00:31<41:13:03, 3804.72s/trial, best loss: -0.08999650621632271]"
     ]
    },
    {
     "name": "stderr",
     "output_type": "stream",
     "text": [
      "  0%|          | 0/141 [00:00<?, ?it/s]\n",
      "\u001b[A\n",
      "  1%|1         | 2/141 [00:00<00:06, 19.94it/s]\n",
      "\u001b[A\n",
      "  4%|4         | 6/141 [00:00<00:05, 23.58it/s]\n",
      "\u001b[A\n",
      "  9%|9         | 13/141 [00:00<00:03, 32.11it/s]\n",
      "\u001b[A\n",
      " 12%|#2        | 17/141 [00:00<00:04, 26.75it/s]\n",
      "\u001b[A\n",
      " 16%|#5        | 22/141 [00:00<00:03, 31.94it/s]\n",
      "\u001b[A\n",
      " 19%|#9        | 27/141 [00:00<00:03, 34.29it/s]\n",
      "\u001b[A\n",
      " 22%|##1       | 31/141 [00:00<00:03, 33.40it/s]\n",
      "\u001b[A\n",
      " 27%|##6       | 38/141 [00:01<00:02, 41.80it/s]\n",
      "\u001b[A\n",
      " 32%|###1      | 45/141 [00:01<00:02, 47.20it/s]\n",
      "\u001b[A\n",
      " 35%|###5      | 50/141 [00:01<00:02, 43.78it/s]\n",
      "\u001b[A\n",
      " 40%|###9      | 56/141 [00:01<00:01, 44.70it/s]\n",
      "\u001b[A\n",
      " 45%|####4     | 63/141 [00:01<00:01, 50.85it/s]\n",
      "\u001b[A\n",
      " 50%|####9     | 70/141 [00:01<00:01, 51.50it/s]\n",
      "\u001b[A\n",
      " 54%|#####3    | 76/141 [00:01<00:01, 41.46it/s]\n",
      "\u001b[A\n",
      " 62%|######2   | 88/141 [00:02<00:00, 55.79it/s]\n",
      "\u001b[A\n",
      " 67%|######7   | 95/141 [00:02<00:00, 52.45it/s]\n",
      "\u001b[A\n",
      " 72%|#######1  | 101/141 [00:02<00:00, 45.47it/s]\n",
      "\u001b[A\n",
      " 77%|#######6  | 108/141 [00:02<00:00, 49.99it/s]\n",
      "\u001b[A\n",
      " 81%|########  | 114/141 [00:02<00:00, 49.34it/s]\n",
      "\u001b[A\n",
      " 87%|########7 | 123/141 [00:02<00:00, 56.87it/s]\n",
      "\u001b[A\n",
      " 91%|#########1| 129/141 [00:02<00:00, 49.74it/s]\n",
      "\u001b[A\n",
      " 96%|#########5| 135/141 [00:03<00:00, 49.16it/s]\n",
      "\u001b[A\n",
      "100%|##########| 141/141 [00:03<00:00, 45.48it/s]\n"
     ]
    },
    {
     "name": "stdout",
     "output_type": "stream",
     "text": [
      "Stacking columns...                                                                                                     \n",
      "[Pipeline] ....... (step 1 of 3) Processing transformer, total=  22.7s                                                  \n",
      "[Pipeline] ...... (step 2 of 3) Processing maxabs_scale, total=  14.5s                                                  \n",
      "[Pipeline] ............. (step 3 of 3) Processing e_net, total=11.6min                                                  \n",
      "[Pipeline] ....... (step 1 of 3) Processing transformer, total=  21.9s                                                  \n",
      "[Pipeline] ...... (step 2 of 3) Processing maxabs_scale, total=  13.9s                                                  \n",
      "[Pipeline] ............. (step 3 of 3) Processing e_net, total=13.2min                                                  \n",
      " 22%|████████▌                              | 11/50 [10:26:51<41:13:03, 3804.72s/trial, best loss: -0.08999650621632271]"
     ]
    },
    {
     "name": "stderr",
     "output_type": "stream",
     "text": [
      "/home/rogertu/projects/MechRepoNet/mrn_venv/lib/python3.8/site-packages/sklearn/linear_model/_sag.py:328: ConvergenceWarning: The max_iter was reached which means the coef_ did not converge\n",
      "  warnings.warn(\"The max_iter was reached which means \"\n",
      "\n"
     ]
    },
    {
     "name": "stdout",
     "output_type": "stream",
     "text": [
      "[Pipeline] ....... (step 1 of 3) Processing transformer, total=  25.1s                                                  \n",
      "[Pipeline] ...... (step 2 of 3) Processing maxabs_scale, total=  15.7s                                                  \n",
      "[Pipeline] ............. (step 3 of 3) Processing e_net, total=13.3min                                                  \n",
      " 22%|████████▌                              | 11/50 [10:41:00<41:13:03, 3804.72s/trial, best loss: -0.08999650621632271]"
     ]
    },
    {
     "name": "stderr",
     "output_type": "stream",
     "text": [
      "/home/rogertu/projects/MechRepoNet/mrn_venv/lib/python3.8/site-packages/sklearn/linear_model/_sag.py:328: ConvergenceWarning: The max_iter was reached which means the coef_ did not converge\n",
      "  warnings.warn(\"The max_iter was reached which means \"\n",
      "\n"
     ]
    },
    {
     "name": "stdout",
     "output_type": "stream",
     "text": [
      "[Pipeline] ....... (step 1 of 3) Processing transformer, total=  26.0s                                                  \n",
      "[Pipeline] ...... (step 2 of 3) Processing maxabs_scale, total=  17.2s                                                  \n",
      "[Pipeline] ............. (step 3 of 3) Processing e_net, total=13.0min                                                  \n",
      "[Pipeline] ....... (step 1 of 3) Processing transformer, total=  23.4s                                                  \n",
      "[Pipeline] ...... (step 2 of 3) Processing maxabs_scale, total=  15.2s                                                  \n",
      "[Pipeline] ............. (step 3 of 3) Processing e_net, total=13.5min                                                  \n",
      " 22%|████████▌                              | 11/50 [11:09:05<41:13:03, 3804.72s/trial, best loss: -0.08999650621632271]"
     ]
    },
    {
     "name": "stderr",
     "output_type": "stream",
     "text": [
      "/home/rogertu/projects/MechRepoNet/mrn_venv/lib/python3.8/site-packages/sklearn/linear_model/_sag.py:328: ConvergenceWarning: The max_iter was reached which means the coef_ did not converge\n",
      "  warnings.warn(\"The max_iter was reached which means \"\n",
      "\n"
     ]
    },
    {
     "name": "stdout",
     "output_type": "stream",
     "text": [
      "Mean AUROC: 0.7091                                                                                                      \n",
      "Mean Avg Pre: 0.0130                                                                                                    \n",
      "STD AUROC: 0.0508                                                                                                       \n",
      "STD Avg Pre: 0.0077                                                                                                     \n",
      "Loss: -0.0889                                                                                                           \n",
      "Changing w from 0.6499480841543211 to 0.7967568116501488. Please wait...                                                \n",
      " 24%|█████████▎                             | 12/50 [11:09:12<41:35:51, 3940.83s/trial, best loss: -0.08999650621632271]"
     ]
    },
    {
     "name": "stderr",
     "output_type": "stream",
     "text": [
      "  0%|          | 0/68 [00:00<?, ?it/s]\n",
      "\u001b[A\n",
      "  1%|1         | 1/68 [00:00<00:07,  8.62it/s]\n",
      "\u001b[A\n",
      " 12%|#1        | 8/68 [00:00<00:01, 38.86it/s]\n",
      "\u001b[A\n",
      " 50%|#####     | 34/68 [00:00<00:00, 126.79it/s]\n",
      "\u001b[A\n",
      " 71%|#######   | 48/68 [00:00<00:00, 125.15it/s]\n",
      "\u001b[A\n",
      "100%|##########| 68/68 [00:00<00:00, 125.27it/s]\n",
      "\u001b[A\n",
      "100%|##########| 68/68 [00:00<00:00, 110.02it/s]\n"
     ]
    },
    {
     "name": "stdout",
     "output_type": "stream",
     "text": [
      "Preparing function arguments...                                                                                         \n",
      "Calculating DWPCs...                                                                                                    \n",
      " 24%|█████████▎                             | 12/50 [11:09:18<41:35:51, 3940.83s/trial, best loss: -0.08999650621632271]"
     ]
    },
    {
     "name": "stderr",
     "output_type": "stream",
     "text": [
      "  0%|          | 0/141 [00:00<?, ?it/s]\n",
      "\u001b[A\n",
      "  1%|          | 1/141 [00:00<00:16,  8.62it/s]\n",
      "\u001b[A\n",
      "  4%|4         | 6/141 [00:00<00:04, 27.42it/s]\n",
      "\u001b[A\n",
      "  6%|6         | 9/141 [00:00<00:04, 27.69it/s]\n",
      "\u001b[A\n",
      "  9%|9         | 13/141 [00:00<00:04, 31.27it/s]\n",
      "\u001b[A\n",
      " 13%|#2        | 18/141 [00:00<00:03, 33.43it/s]\n",
      "\u001b[A\n",
      " 17%|#7        | 24/141 [00:00<00:03, 29.63it/s]\n",
      "\u001b[A\n",
      " 21%|##        | 29/141 [00:00<00:03, 32.86it/s]\n",
      "\u001b[A\n",
      " 24%|##4       | 34/141 [00:01<00:02, 35.89it/s]\n",
      "\u001b[A\n",
      " 33%|###2      | 46/141 [00:01<00:01, 56.79it/s]\n",
      "\u001b[A\n",
      " 38%|###8      | 54/141 [00:01<00:01, 58.79it/s]\n",
      "\u001b[A\n",
      " 43%|####3     | 61/141 [00:01<00:01, 54.80it/s]\n",
      "\u001b[A\n",
      " 48%|####7     | 67/141 [00:01<00:01, 41.97it/s]\n",
      "\u001b[A\n",
      " 51%|#####1    | 72/141 [00:01<00:02, 30.69it/s]\n",
      "\u001b[A\n",
      " 54%|#####3    | 76/141 [00:02<00:02, 31.86it/s]\n",
      "\u001b[A\n",
      " 60%|######    | 85/141 [00:02<00:01, 41.10it/s]\n",
      "\u001b[A\n",
      " 64%|######3   | 90/141 [00:02<00:01, 42.71it/s]\n",
      "\u001b[A\n",
      " 67%|######7   | 95/141 [00:02<00:01, 43.64it/s]\n",
      "\u001b[A\n",
      " 74%|#######4  | 105/141 [00:02<00:00, 47.17it/s]\n",
      "\u001b[A\n",
      " 78%|#######8  | 110/141 [00:02<00:00, 43.84it/s]\n",
      "\u001b[A\n",
      " 82%|########2 | 116/141 [00:02<00:00, 46.68it/s]\n",
      "\u001b[A\n",
      " 87%|########7 | 123/141 [00:02<00:00, 52.16it/s]\n",
      "\u001b[A\n",
      " 91%|#########1| 129/141 [00:03<00:00, 54.10it/s]\n",
      "\u001b[A\n",
      " 96%|#########5| 135/141 [00:05<00:00,  7.49it/s]\n",
      "\u001b[A\n",
      " 96%|#########5| 135/141 [00:20<00:00,  7.49it/s]\n",
      "\u001b[A\n",
      " 98%|#########7| 138/141 [00:50<00:07,  2.64s/it]\n",
      "\u001b[A\n",
      " 99%|#########8| 139/141 [00:51<00:05,  2.54s/it]\n",
      "\u001b[A\n",
      " 99%|#########8| 139/141 [01:10<00:05,  2.54s/it]\n",
      "\u001b[A\n",
      "100%|##########| 141/141 [02:03<00:00,  8.42s/it]\n",
      "\u001b[A\n",
      "100%|##########| 141/141 [02:03<00:00,  1.15it/s]\n"
     ]
    },
    {
     "name": "stdout",
     "output_type": "stream",
     "text": [
      "                                                                                                                        \n",
      "Reshaping Result Matrices...\n",
      " 24%|█████████▎                             | 12/50 [11:11:24<41:35:51, 3940.83s/trial, best loss: -0.08999650621632271]"
     ]
    },
    {
     "name": "stderr",
     "output_type": "stream",
     "text": [
      "  0%|          | 0/141 [00:00<?, ?it/s]\n",
      "\u001b[A\n",
      "  1%|1         | 2/141 [00:00<00:07, 19.75it/s]\n",
      "\u001b[A\n",
      "  4%|4         | 6/141 [00:00<00:05, 24.15it/s]\n",
      "\u001b[A\n",
      "  9%|9         | 13/141 [00:00<00:03, 33.35it/s]\n",
      "\u001b[A\n",
      " 12%|#2        | 17/141 [00:00<00:04, 28.16it/s]\n",
      "\u001b[A\n",
      " 16%|#5        | 22/141 [00:00<00:03, 33.78it/s]\n",
      "\u001b[A\n",
      " 19%|#9        | 27/141 [00:00<00:03, 36.40it/s]\n",
      "\u001b[A\n",
      " 22%|##1       | 31/141 [00:00<00:03, 35.13it/s]\n",
      "\u001b[A\n",
      " 27%|##6       | 38/141 [00:01<00:02, 43.99it/s]\n",
      "\u001b[A\n",
      " 32%|###1      | 45/141 [00:01<00:01, 49.31it/s]\n",
      "\u001b[A\n",
      " 36%|###6      | 51/141 [00:01<00:01, 47.94it/s]\n",
      "\u001b[A\n",
      " 40%|###9      | 56/141 [00:01<00:01, 45.44it/s]\n",
      "\u001b[A\n",
      " 46%|####6     | 65/141 [00:01<00:01, 55.40it/s]\n",
      "\u001b[A\n",
      " 50%|#####     | 71/141 [00:01<00:01, 51.01it/s]\n",
      "\u001b[A\n",
      " 55%|#####4    | 77/141 [00:01<00:01, 45.16it/s]\n",
      "\u001b[A\n",
      " 62%|######2   | 88/141 [00:01<00:00, 57.81it/s]\n",
      "\u001b[A\n",
      " 67%|######7   | 95/141 [00:02<00:00, 54.02it/s]\n",
      "\u001b[A\n",
      " 72%|#######1  | 101/141 [00:02<00:00, 45.57it/s]\n",
      "\u001b[A\n",
      " 77%|#######7  | 109/141 [00:02<00:00, 52.90it/s]\n",
      "\u001b[A\n",
      " 82%|########1 | 115/141 [00:02<00:00, 52.62it/s]\n",
      "\u001b[A\n",
      " 87%|########7 | 123/141 [00:02<00:00, 58.07it/s]\n",
      "\u001b[A\n",
      " 92%|#########2| 130/141 [00:02<00:00, 53.47it/s]\n",
      "\u001b[A\n",
      " 96%|#########6| 136/141 [00:02<00:00, 50.46it/s]\n",
      "\u001b[A\n",
      "100%|##########| 141/141 [00:02<00:00, 47.39it/s]\n"
     ]
    },
    {
     "name": "stdout",
     "output_type": "stream",
     "text": [
      "Stacking columns...                                                                                                     \n",
      "[Pipeline] ....... (step 1 of 3) Processing transformer, total=  21.9s                                                  \n",
      "[Pipeline] ...... (step 2 of 3) Processing maxabs_scale, total=  14.1s                                                  \n",
      "[Pipeline] ............. (step 3 of 3) Processing e_net, total=  25.9s                                                  \n",
      "[Pipeline] ....... (step 1 of 3) Processing transformer, total=  21.2s                                                  \n",
      "[Pipeline] ...... (step 2 of 3) Processing maxabs_scale, total=  13.4s                                                  \n",
      "[Pipeline] ............. (step 3 of 3) Processing e_net, total=  30.6s                                                  \n",
      "[Pipeline] ....... (step 1 of 3) Processing transformer, total=  24.1s                                                  \n",
      "[Pipeline] ...... (step 2 of 3) Processing maxabs_scale, total=  15.7s                                                  \n",
      "[Pipeline] ............. (step 3 of 3) Processing e_net, total=  22.9s                                                  \n",
      "[Pipeline] ....... (step 1 of 3) Processing transformer, total=  25.5s                                                  \n",
      "[Pipeline] ...... (step 2 of 3) Processing maxabs_scale, total=  16.8s                                                  \n",
      "[Pipeline] ............. (step 3 of 3) Processing e_net, total=  23.0s                                                  \n",
      "[Pipeline] ....... (step 1 of 3) Processing transformer, total=  23.0s                                                  \n",
      "[Pipeline] ...... (step 2 of 3) Processing maxabs_scale, total=  14.9s                                                  \n",
      "[Pipeline] ............. (step 3 of 3) Processing e_net, total=  22.7s                                                  \n",
      "Mean AUROC: 0.5000                                                                                                      \n",
      "Mean Avg Pre: 0.0010                                                                                                    \n",
      "STD AUROC: 0.0000                                                                                                       \n",
      "STD Avg Pre: 0.0000                                                                                                     \n",
      "Loss: -0.0430                                                                                                           \n",
      "Changing w from 0.7967568116501488 to 0.21266131575974231. Please wait...                                               \n",
      " 26%|██████████▏                            | 13/50 [11:17:24<29:45:47, 2895.89s/trial, best loss: -0.08999650621632271]"
     ]
    },
    {
     "name": "stderr",
     "output_type": "stream",
     "text": [
      "  0%|          | 0/68 [00:00<?, ?it/s]\n",
      "\u001b[A\n",
      "  1%|1         | 1/68 [00:00<00:07,  8.84it/s]\n",
      "\u001b[A\n",
      " 12%|#1        | 8/68 [00:00<00:01, 38.66it/s]\n",
      "\u001b[A\n",
      " 50%|#####     | 34/68 [00:00<00:00, 130.16it/s]\n",
      "\u001b[A\n",
      " 71%|#######   | 48/68 [00:00<00:00, 116.17it/s]\n",
      "\u001b[A\n",
      "100%|##########| 68/68 [00:00<00:00, 134.09it/s]\n",
      "\u001b[A\n",
      "100%|##########| 68/68 [00:00<00:00, 113.58it/s]\n"
     ]
    },
    {
     "name": "stdout",
     "output_type": "stream",
     "text": [
      "Preparing function arguments...                                                                                         \n",
      "Calculating DWPCs...                                                                                                    \n",
      " 26%|██████████▏                            | 13/50 [11:17:29<29:45:47, 2895.89s/trial, best loss: -0.08999650621632271]"
     ]
    },
    {
     "name": "stderr",
     "output_type": "stream",
     "text": [
      "  0%|          | 0/141 [00:00<?, ?it/s]\n",
      "\u001b[A\n",
      "  1%|          | 1/141 [00:00<00:15,  9.09it/s]\n",
      "\u001b[A\n",
      "  4%|3         | 5/141 [00:00<00:05, 24.88it/s]\n",
      "\u001b[A\n",
      "  6%|6         | 9/141 [00:00<00:05, 25.60it/s]\n",
      "\u001b[A\n",
      " 10%|9         | 14/141 [00:00<00:03, 32.03it/s]\n",
      "\u001b[A\n",
      " 13%|#2        | 18/141 [00:00<00:04, 29.85it/s]\n",
      "\u001b[A\n",
      " 16%|#6        | 23/141 [00:00<00:03, 33.36it/s]\n",
      "\u001b[A\n",
      " 19%|#9        | 27/141 [00:00<00:03, 33.26it/s]\n",
      "\u001b[A\n",
      " 23%|##2       | 32/141 [00:00<00:02, 37.10it/s]\n",
      "\u001b[A\n",
      " 31%|###1      | 44/141 [00:01<00:01, 54.26it/s]\n",
      "\u001b[A\n",
      " 35%|###5      | 50/141 [00:01<00:01, 53.20it/s]\n",
      "\u001b[A\n",
      " 40%|###9      | 56/141 [00:01<00:01, 47.99it/s]\n",
      "\u001b[A\n",
      " 44%|####3     | 62/141 [00:01<00:01, 45.79it/s]\n",
      "\u001b[A\n",
      " 48%|####7     | 67/141 [00:01<00:01, 46.34it/s]\n",
      "\u001b[A\n",
      " 51%|#####1    | 72/141 [00:01<00:01, 46.84it/s]\n",
      "\u001b[A\n",
      " 58%|#####8    | 82/141 [00:01<00:01, 58.57it/s]\n",
      "\u001b[A\n",
      " 63%|######3   | 89/141 [00:01<00:00, 60.09it/s]\n",
      "\u001b[A\n",
      " 68%|######8   | 96/141 [00:02<00:00, 47.01it/s]\n",
      "\u001b[A\n",
      " 73%|#######3  | 103/141 [00:02<00:00, 50.28it/s]\n",
      "\u001b[A\n",
      " 77%|#######7  | 109/141 [00:02<00:00, 42.80it/s]\n",
      "\u001b[A\n",
      " 82%|########2 | 116/141 [00:02<00:00, 48.10it/s]\n",
      "\u001b[A\n",
      " 87%|########7 | 123/141 [00:02<00:00, 52.50it/s]\n",
      "\u001b[A\n",
      " 91%|#########1| 129/141 [00:02<00:00, 52.61it/s]\n",
      "\u001b[A\n",
      " 96%|#########5| 135/141 [00:05<00:00,  7.72it/s]\n",
      "\u001b[A\n",
      " 96%|#########5| 135/141 [00:19<00:00,  7.72it/s]\n",
      "\u001b[A\n",
      " 98%|#########7| 138/141 [00:52<00:08,  2.75s/it]\n",
      "\u001b[A\n",
      " 99%|#########8| 139/141 [00:54<00:05,  2.65s/it]\n",
      "\u001b[A\n",
      " 99%|#########8| 139/141 [01:09<00:05,  2.65s/it]\n",
      "\u001b[A\n",
      "100%|##########| 141/141 [01:59<00:00,  7.89s/it]\n",
      "\u001b[A\n",
      "100%|##########| 141/141 [01:59<00:00,  1.18it/s]\n"
     ]
    },
    {
     "name": "stdout",
     "output_type": "stream",
     "text": [
      "                                                                                                                        \n",
      "Reshaping Result Matrices...\n",
      " 26%|██████████▏                            | 13/50 [11:19:32<29:45:47, 2895.89s/trial, best loss: -0.08999650621632271]"
     ]
    },
    {
     "name": "stderr",
     "output_type": "stream",
     "text": [
      "  0%|          | 0/141 [00:00<?, ?it/s]\n",
      "\u001b[A\n",
      "  1%|1         | 2/141 [00:00<00:07, 18.60it/s]\n",
      "\u001b[A\n",
      "  4%|4         | 6/141 [00:00<00:05, 23.42it/s]\n",
      "\u001b[A\n",
      "  9%|9         | 13/141 [00:00<00:03, 32.68it/s]\n",
      "\u001b[A\n",
      " 12%|#2        | 17/141 [00:00<00:04, 27.18it/s]\n",
      "\u001b[A\n",
      " 16%|#5        | 22/141 [00:00<00:03, 32.51it/s]\n",
      "\u001b[A\n",
      " 19%|#9        | 27/141 [00:00<00:03, 34.98it/s]\n",
      "\u001b[A\n",
      " 22%|##1       | 31/141 [00:00<00:03, 33.08it/s]\n",
      "\u001b[A\n",
      " 27%|##6       | 38/141 [00:01<00:02, 41.58it/s]\n",
      "\u001b[A\n",
      " 32%|###1      | 45/141 [00:01<00:02, 47.00it/s]\n",
      "\u001b[A\n",
      " 35%|###5      | 50/141 [00:01<00:02, 44.01it/s]\n",
      "\u001b[A\n",
      " 40%|###9      | 56/141 [00:01<00:01, 44.85it/s]\n",
      "\u001b[A\n",
      " 45%|####4     | 63/141 [00:01<00:01, 51.14it/s]\n",
      "\u001b[A\n",
      " 50%|####9     | 70/141 [00:01<00:01, 52.27it/s]\n",
      "\u001b[A\n",
      " 54%|#####3    | 76/141 [00:01<00:01, 42.35it/s]\n",
      "\u001b[A\n",
      " 62%|######2   | 88/141 [00:02<00:00, 56.97it/s]\n",
      "\u001b[A\n",
      " 67%|######7   | 95/141 [00:02<00:00, 53.78it/s]\n",
      "\u001b[A\n",
      " 72%|#######1  | 101/141 [00:02<00:00, 46.98it/s]\n",
      "\u001b[A\n",
      " 77%|#######7  | 109/141 [00:02<00:00, 53.91it/s]\n",
      "\u001b[A\n",
      " 82%|########1 | 115/141 [00:02<00:00, 53.44it/s]\n",
      "\u001b[A\n",
      " 87%|########7 | 123/141 [00:02<00:00, 58.66it/s]\n",
      "\u001b[A\n",
      " 92%|#########2| 130/141 [00:02<00:00, 53.85it/s]\n",
      "\u001b[A\n",
      " 96%|#########6| 136/141 [00:02<00:00, 50.70it/s]\n",
      "\u001b[A\n",
      "100%|##########| 141/141 [00:03<00:00, 46.55it/s]\n"
     ]
    },
    {
     "name": "stdout",
     "output_type": "stream",
     "text": [
      "Stacking columns...                                                                                                     \n",
      "[Pipeline] ....... (step 1 of 3) Processing transformer, total=  22.5s                                                  \n",
      "[Pipeline] ...... (step 2 of 3) Processing maxabs_scale, total=  14.6s                                                  \n",
      "[Pipeline] ............. (step 3 of 3) Processing e_net, total=13.4min                                                  \n",
      " 26%|██████████▏                            | 13/50 [11:33:44<29:45:47, 2895.89s/trial, best loss: -0.08999650621632271]"
     ]
    },
    {
     "name": "stderr",
     "output_type": "stream",
     "text": [
      "/home/rogertu/projects/MechRepoNet/mrn_venv/lib/python3.8/site-packages/sklearn/linear_model/_sag.py:328: ConvergenceWarning: The max_iter was reached which means the coef_ did not converge\n",
      "  warnings.warn(\"The max_iter was reached which means \"\n",
      "\n"
     ]
    },
    {
     "name": "stdout",
     "output_type": "stream",
     "text": [
      "[Pipeline] ....... (step 1 of 3) Processing transformer, total=  23.1s                                                  \n",
      "[Pipeline] ...... (step 2 of 3) Processing maxabs_scale, total=  14.4s                                                  \n",
      "[Pipeline] ............. (step 3 of 3) Processing e_net, total=14.3min                                                  \n",
      " 26%|██████████▏                            | 13/50 [11:48:48<29:45:47, 2895.89s/trial, best loss: -0.08999650621632271]"
     ]
    },
    {
     "name": "stderr",
     "output_type": "stream",
     "text": [
      "/home/rogertu/projects/MechRepoNet/mrn_venv/lib/python3.8/site-packages/sklearn/linear_model/_sag.py:328: ConvergenceWarning: The max_iter was reached which means the coef_ did not converge\n",
      "  warnings.warn(\"The max_iter was reached which means \"\n",
      "\n"
     ]
    },
    {
     "name": "stdout",
     "output_type": "stream",
     "text": [
      "[Pipeline] ....... (step 1 of 3) Processing transformer, total=  25.6s                                                  \n",
      "[Pipeline] ...... (step 2 of 3) Processing maxabs_scale, total=  16.6s                                                  \n",
      "[Pipeline] ............. (step 3 of 3) Processing e_net, total=14.4min                                                  \n",
      " 26%|██████████▏                            | 13/50 [12:04:05<29:45:47, 2895.89s/trial, best loss: -0.08999650621632271]"
     ]
    },
    {
     "name": "stderr",
     "output_type": "stream",
     "text": [
      "/home/rogertu/projects/MechRepoNet/mrn_venv/lib/python3.8/site-packages/sklearn/linear_model/_sag.py:328: ConvergenceWarning: The max_iter was reached which means the coef_ did not converge\n",
      "  warnings.warn(\"The max_iter was reached which means \"\n",
      "\n"
     ]
    },
    {
     "name": "stdout",
     "output_type": "stream",
     "text": [
      "[Pipeline] ....... (step 1 of 3) Processing transformer, total=  26.9s                                                  \n",
      "[Pipeline] ...... (step 2 of 3) Processing maxabs_scale, total=  17.9s                                                  \n",
      "[Pipeline] ............. (step 3 of 3) Processing e_net, total=14.9min                                                  \n",
      " 26%|██████████▏                            | 13/50 [12:19:49<29:45:47, 2895.89s/trial, best loss: -0.08999650621632271]"
     ]
    },
    {
     "name": "stderr",
     "output_type": "stream",
     "text": [
      "/home/rogertu/projects/MechRepoNet/mrn_venv/lib/python3.8/site-packages/sklearn/linear_model/_sag.py:328: ConvergenceWarning: The max_iter was reached which means the coef_ did not converge\n",
      "  warnings.warn(\"The max_iter was reached which means \"\n",
      "\n"
     ]
    },
    {
     "name": "stdout",
     "output_type": "stream",
     "text": [
      "[Pipeline] ....... (step 1 of 3) Processing transformer, total=  24.6s                                                  \n",
      "[Pipeline] ...... (step 2 of 3) Processing maxabs_scale, total=  15.8s                                                  \n",
      "[Pipeline] ............. (step 3 of 3) Processing e_net, total=14.6min                                                  \n",
      " 26%|██████████▏                            | 13/50 [12:35:08<29:45:47, 2895.89s/trial, best loss: -0.08999650621632271]"
     ]
    },
    {
     "name": "stderr",
     "output_type": "stream",
     "text": [
      "/home/rogertu/projects/MechRepoNet/mrn_venv/lib/python3.8/site-packages/sklearn/linear_model/_sag.py:328: ConvergenceWarning: The max_iter was reached which means the coef_ did not converge\n",
      "  warnings.warn(\"The max_iter was reached which means \"\n",
      "\n"
     ]
    },
    {
     "name": "stdout",
     "output_type": "stream",
     "text": [
      "Mean AUROC: 0.6991                                                                                                      \n",
      "Mean Avg Pre: 0.0146                                                                                                    \n",
      "STD AUROC: 0.0489                                                                                                       \n",
      "STD Avg Pre: 0.0106                                                                                                     \n",
      "Loss: -0.0884                                                                                                           \n",
      "Changing w from 0.21266131575974231 to 0.46736129420440065. Please wait...                                              \n",
      " 28%|██████████▉                            | 14/50 [12:35:15<34:19:17, 3432.14s/trial, best loss: -0.08999650621632271]"
     ]
    },
    {
     "name": "stderr",
     "output_type": "stream",
     "text": [
      "  0%|          | 0/68 [00:00<?, ?it/s]\n",
      "\u001b[A\n",
      "  1%|1         | 1/68 [00:00<00:07,  8.58it/s]\n",
      "\u001b[A\n",
      " 13%|#3        | 9/68 [00:00<00:01, 43.44it/s]\n",
      "\u001b[A\n",
      " 50%|#####     | 34/68 [00:00<00:00, 103.93it/s]\n",
      "\u001b[A\n",
      " 84%|########3 | 57/68 [00:00<00:00, 142.86it/s]\n",
      "\u001b[A\n",
      "100%|##########| 68/68 [00:00<00:00, 105.30it/s]\n"
     ]
    },
    {
     "name": "stdout",
     "output_type": "stream",
     "text": [
      "Preparing function arguments...                                                                                         \n",
      "Calculating DWPCs...                                                                                                    \n",
      " 28%|██████████▉                            | 14/50 [12:35:20<34:19:17, 3432.14s/trial, best loss: -0.08999650621632271]"
     ]
    },
    {
     "name": "stderr",
     "output_type": "stream",
     "text": [
      "  0%|          | 0/141 [00:00<?, ?it/s]\n",
      "\u001b[A\n",
      "  1%|          | 1/141 [00:00<00:15,  9.32it/s]\n",
      "\u001b[A\n",
      "  4%|3         | 5/141 [00:00<00:05, 25.23it/s]\n",
      "\u001b[A\n",
      "  7%|7         | 10/141 [00:00<00:04, 30.32it/s]\n",
      "\u001b[A\n",
      "  9%|9         | 13/141 [00:00<00:04, 27.83it/s]\n",
      "\u001b[A\n",
      " 12%|#2        | 17/141 [00:00<00:05, 23.30it/s]\n",
      "\u001b[A\n",
      " 14%|#4        | 20/141 [00:00<00:05, 20.41it/s]\n",
      "\u001b[A\n",
      " 16%|#6        | 23/141 [00:01<00:05, 20.49it/s]\n",
      "\u001b[A\n",
      " 23%|##3       | 33/141 [00:01<00:02, 36.34it/s]\n",
      "\u001b[A\n",
      " 26%|##6       | 37/141 [00:01<00:03, 32.88it/s]\n",
      "\u001b[A\n",
      " 34%|###4      | 48/141 [00:01<00:01, 47.36it/s]\n",
      "\u001b[A\n",
      " 39%|###9      | 55/141 [00:01<00:01, 52.39it/s]\n",
      "\u001b[A\n",
      " 43%|####3     | 61/141 [00:01<00:01, 51.44it/s]\n",
      "\u001b[A\n",
      " 48%|####7     | 67/141 [00:01<00:01, 48.58it/s]\n",
      "\u001b[A\n",
      " 52%|#####1    | 73/141 [00:01<00:01, 46.87it/s]\n",
      "\u001b[A\n",
      " 57%|#####7    | 81/141 [00:02<00:01, 54.78it/s]\n",
      "\u001b[A\n",
      " 63%|######3   | 89/141 [00:02<00:00, 60.15it/s]\n",
      "\u001b[A\n",
      " 68%|######8   | 96/141 [00:02<00:00, 47.41it/s]\n",
      "\u001b[A\n",
      " 72%|#######2  | 102/141 [00:02<00:00, 48.92it/s]\n",
      "\u001b[A\n",
      " 77%|#######6  | 108/141 [00:02<00:00, 41.68it/s]\n",
      "\u001b[A\n",
      " 83%|########2 | 117/141 [00:02<00:00, 49.10it/s]\n",
      "\u001b[A\n",
      " 87%|########7 | 123/141 [00:02<00:00, 49.64it/s]\n",
      "\u001b[A\n",
      " 91%|#########1| 129/141 [00:03<00:00, 49.42it/s]\n",
      "\u001b[A\n",
      " 96%|#########5| 135/141 [00:05<00:00,  7.67it/s]\n",
      "\u001b[A\n",
      " 96%|#########5| 135/141 [00:17<00:00,  7.67it/s]\n",
      "\u001b[A\n",
      " 98%|#########7| 138/141 [00:55<00:08,  2.90s/it]\n",
      "\u001b[A\n",
      " 99%|#########8| 139/141 [00:57<00:05,  2.82s/it]\n",
      "\u001b[A\n",
      " 99%|#########8| 139/141 [01:07<00:05,  2.82s/it]\n",
      "\u001b[A\n",
      "100%|##########| 141/141 [02:12<00:00,  8.85s/it]\n",
      "\u001b[A\n",
      "100%|##########| 141/141 [02:12<00:00,  1.06it/s]\n"
     ]
    },
    {
     "name": "stdout",
     "output_type": "stream",
     "text": [
      "                                                                                                                        \n",
      "Reshaping Result Matrices...\n",
      " 28%|██████████▉                            | 14/50 [12:37:37<34:19:17, 3432.14s/trial, best loss: -0.08999650621632271]"
     ]
    },
    {
     "name": "stderr",
     "output_type": "stream",
     "text": [
      "  0%|          | 0/141 [00:00<?, ?it/s]\n",
      "\u001b[A\n",
      "  2%|2         | 3/141 [00:00<00:07, 18.43it/s]\n",
      "\u001b[A\n",
      "  5%|4         | 7/141 [00:00<00:04, 27.54it/s]\n",
      "\u001b[A\n",
      "  9%|9         | 13/141 [00:00<00:03, 32.90it/s]\n",
      "\u001b[A\n",
      " 12%|#2        | 17/141 [00:00<00:04, 26.62it/s]\n",
      "\u001b[A\n",
      " 16%|#5        | 22/141 [00:00<00:03, 32.12it/s]\n",
      "\u001b[A\n",
      " 19%|#9        | 27/141 [00:00<00:03, 34.36it/s]\n",
      "\u001b[A\n",
      " 22%|##1       | 31/141 [00:00<00:03, 33.28it/s]\n",
      "\u001b[A\n",
      " 27%|##6       | 38/141 [00:01<00:02, 41.65it/s]\n",
      "\u001b[A\n",
      " 31%|###1      | 44/141 [00:01<00:02, 46.38it/s]\n",
      "\u001b[A\n",
      " 35%|###4      | 49/141 [00:01<00:01, 47.18it/s]\n",
      "\u001b[A\n",
      " 39%|###9      | 55/141 [00:01<00:01, 45.54it/s]\n",
      "\u001b[A\n",
      " 44%|####3     | 62/141 [00:01<00:01, 47.94it/s]\n",
      "\u001b[A\n",
      " 48%|####7     | 67/141 [00:01<00:01, 48.37it/s]\n",
      "\u001b[A\n",
      " 51%|#####1    | 72/141 [00:01<00:01, 40.75it/s]\n",
      "\u001b[A\n",
      " 55%|#####5    | 78/141 [00:01<00:01, 45.00it/s]\n",
      "\u001b[A\n",
      " 62%|######2   | 88/141 [00:02<00:00, 55.92it/s]\n",
      "\u001b[A\n",
      " 67%|######6   | 94/141 [00:02<00:00, 48.48it/s]\n",
      "\u001b[A\n",
      " 71%|#######   | 100/141 [00:02<00:00, 47.75it/s]\n",
      "\u001b[A\n",
      " 76%|#######5  | 107/141 [00:02<00:00, 48.22it/s]\n",
      "\u001b[A\n",
      " 79%|#######9  | 112/141 [00:02<00:00, 44.44it/s]\n",
      "\u001b[A\n",
      " 85%|########5 | 120/141 [00:02<00:00, 52.56it/s]\n",
      "\u001b[A\n",
      " 90%|######### | 127/141 [00:02<00:00, 53.80it/s]\n",
      "\u001b[A\n",
      " 94%|#########4| 133/141 [00:03<00:00, 51.30it/s]\n",
      "\u001b[A\n",
      " 99%|#########8| 139/141 [00:03<00:00, 46.86it/s]\n",
      "\u001b[A\n",
      "100%|##########| 141/141 [00:03<00:00, 44.42it/s]\n"
     ]
    },
    {
     "name": "stdout",
     "output_type": "stream",
     "text": [
      "Stacking columns...                                                                                                     \n",
      "[Pipeline] ....... (step 1 of 3) Processing transformer, total=  23.3s                                                  \n",
      "[Pipeline] ...... (step 2 of 3) Processing maxabs_scale, total=  15.0s                                                  \n",
      "[Pipeline] ............. (step 3 of 3) Processing e_net, total= 9.9min                                                  \n",
      " 28%|██████████▉                            | 14/50 [12:48:17<34:19:17, 3432.14s/trial, best loss: -0.08999650621632271]"
     ]
    },
    {
     "name": "stderr",
     "output_type": "stream",
     "text": [
      "/home/rogertu/projects/MechRepoNet/mrn_venv/lib/python3.8/site-packages/sklearn/linear_model/_sag.py:328: ConvergenceWarning: The max_iter was reached which means the coef_ did not converge\n",
      "  warnings.warn(\"The max_iter was reached which means \"\n",
      "\n"
     ]
    },
    {
     "name": "stdout",
     "output_type": "stream",
     "text": [
      "[Pipeline] ....... (step 1 of 3) Processing transformer, total=  22.9s                                                  \n",
      "[Pipeline] ...... (step 2 of 3) Processing maxabs_scale, total=  14.4s                                                  \n",
      "[Pipeline] ............. (step 3 of 3) Processing e_net, total=10.0min                                                  \n",
      " 28%|██████████▉                            | 14/50 [12:59:03<34:19:17, 3432.14s/trial, best loss: -0.08999650621632271]"
     ]
    },
    {
     "name": "stderr",
     "output_type": "stream",
     "text": [
      "/home/rogertu/projects/MechRepoNet/mrn_venv/lib/python3.8/site-packages/sklearn/linear_model/_sag.py:328: ConvergenceWarning: The max_iter was reached which means the coef_ did not converge\n",
      "  warnings.warn(\"The max_iter was reached which means \"\n",
      "\n"
     ]
    },
    {
     "name": "stdout",
     "output_type": "stream",
     "text": [
      "[Pipeline] ....... (step 1 of 3) Processing transformer, total=  25.9s                                                  \n",
      "[Pipeline] ...... (step 2 of 3) Processing maxabs_scale, total=  16.8s                                                  \n",
      "[Pipeline] ............. (step 3 of 3) Processing e_net, total=10.4min                                                  \n",
      " 28%|██████████▉                            | 14/50 [13:10:20<34:19:17, 3432.14s/trial, best loss: -0.08999650621632271]"
     ]
    },
    {
     "name": "stderr",
     "output_type": "stream",
     "text": [
      "/home/rogertu/projects/MechRepoNet/mrn_venv/lib/python3.8/site-packages/sklearn/linear_model/_sag.py:328: ConvergenceWarning: The max_iter was reached which means the coef_ did not converge\n",
      "  warnings.warn(\"The max_iter was reached which means \"\n",
      "\n"
     ]
    },
    {
     "name": "stdout",
     "output_type": "stream",
     "text": [
      "[Pipeline] ....... (step 1 of 3) Processing transformer, total=  26.9s                                                  \n",
      "[Pipeline] ...... (step 2 of 3) Processing maxabs_scale, total=  17.8s                                                  \n",
      "[Pipeline] ............. (step 3 of 3) Processing e_net, total=10.5min                                                  \n",
      " 28%|██████████▉                            | 14/50 [13:21:43<34:19:17, 3432.14s/trial, best loss: -0.08999650621632271]"
     ]
    },
    {
     "name": "stderr",
     "output_type": "stream",
     "text": [
      "/home/rogertu/projects/MechRepoNet/mrn_venv/lib/python3.8/site-packages/sklearn/linear_model/_sag.py:328: ConvergenceWarning: The max_iter was reached which means the coef_ did not converge\n",
      "  warnings.warn(\"The max_iter was reached which means \"\n",
      "\n"
     ]
    },
    {
     "name": "stdout",
     "output_type": "stream",
     "text": [
      "[Pipeline] ....... (step 1 of 3) Processing transformer, total=  24.7s                                                  \n",
      "[Pipeline] ...... (step 2 of 3) Processing maxabs_scale, total=  16.0s                                                  \n",
      "[Pipeline] ............. (step 3 of 3) Processing e_net, total= 9.7min                                                  \n",
      " 28%|██████████▉                            | 14/50 [13:32:13<34:19:17, 3432.14s/trial, best loss: -0.08999650621632271]"
     ]
    },
    {
     "name": "stderr",
     "output_type": "stream",
     "text": [
      "/home/rogertu/projects/MechRepoNet/mrn_venv/lib/python3.8/site-packages/sklearn/linear_model/_sag.py:328: ConvergenceWarning: The max_iter was reached which means the coef_ did not converge\n",
      "  warnings.warn(\"The max_iter was reached which means \"\n",
      "\n"
     ]
    },
    {
     "name": "stdout",
     "output_type": "stream",
     "text": [
      "Mean AUROC: 0.6694                                                                                                      \n",
      "Mean Avg Pre: 0.0156                                                                                                    \n",
      "STD AUROC: 0.1047                                                                                                       \n",
      "STD Avg Pre: 0.0172                                                                                                     \n",
      "Loss: -0.0743                                                                                                           \n",
      "Changing w from 0.46736129420440065 to 0.8858719297287311. Please wait...                                               \n",
      " 30%|███████████▋                           | 15/50 [13:32:21<33:20:56, 3430.18s/trial, best loss: -0.08999650621632271]"
     ]
    },
    {
     "name": "stderr",
     "output_type": "stream",
     "text": [
      "  0%|          | 0/68 [00:00<?, ?it/s]\n",
      "\u001b[A\n",
      "  1%|1         | 1/68 [00:00<00:07,  8.73it/s]\n",
      "\u001b[A\n",
      " 15%|#4        | 10/68 [00:00<00:01, 46.90it/s]\n",
      "\u001b[A\n",
      " 51%|#####1    | 35/68 [00:00<00:00, 128.59it/s]\n",
      "\u001b[A\n",
      " 72%|#######2  | 49/68 [00:00<00:00, 127.45it/s]\n",
      "\u001b[A\n",
      "100%|##########| 68/68 [00:00<00:00, 128.15it/s]\n",
      "\u001b[A\n",
      "100%|##########| 68/68 [00:00<00:00, 112.36it/s]\n"
     ]
    },
    {
     "name": "stdout",
     "output_type": "stream",
     "text": [
      "Preparing function arguments...                                                                                         \n",
      "Calculating DWPCs...                                                                                                    \n",
      " 30%|███████████▋                           | 15/50 [13:32:26<33:20:56, 3430.18s/trial, best loss: -0.08999650621632271]"
     ]
    },
    {
     "name": "stderr",
     "output_type": "stream",
     "text": [
      "  0%|          | 0/141 [00:00<?, ?it/s]\n",
      "\u001b[A\n",
      "  1%|          | 1/141 [00:00<00:16,  8.56it/s]\n",
      "\u001b[A\n",
      "  4%|3         | 5/141 [00:00<00:05, 23.31it/s]\n",
      "\u001b[A\n",
      "  6%|6         | 9/141 [00:00<00:04, 30.12it/s]\n",
      "\u001b[A\n",
      "  9%|9         | 13/141 [00:00<00:04, 27.70it/s]\n",
      "\u001b[A\n",
      " 15%|#4        | 21/141 [00:00<00:02, 40.47it/s]\n",
      "\u001b[A\n",
      " 18%|#8        | 26/141 [00:00<00:02, 41.88it/s]\n",
      "\u001b[A\n",
      " 22%|##1       | 31/141 [00:00<00:02, 43.88it/s]\n",
      "\u001b[A\n",
      " 26%|##5       | 36/141 [00:00<00:02, 41.74it/s]\n",
      "\u001b[A\n",
      " 35%|###4      | 49/141 [00:01<00:01, 57.94it/s]\n",
      "\u001b[A\n",
      " 39%|###9      | 55/141 [00:01<00:01, 55.75it/s]\n",
      "\u001b[A\n",
      " 43%|####3     | 61/141 [00:01<00:01, 50.78it/s]\n",
      "\u001b[A\n",
      " 48%|####7     | 67/141 [00:01<00:01, 51.70it/s]\n",
      "\u001b[A\n",
      " 52%|#####1    | 73/141 [00:01<00:01, 47.50it/s]\n",
      "\u001b[A\n",
      " 58%|#####8    | 82/141 [00:01<00:01, 57.49it/s]\n",
      "\u001b[A\n",
      " 62%|######2   | 88/141 [00:01<00:00, 53.77it/s]\n",
      "\u001b[A\n",
      " 67%|######6   | 94/141 [00:02<00:00, 49.46it/s]\n",
      "\u001b[A\n",
      " 71%|#######   | 100/141 [00:02<00:00, 50.13it/s]\n",
      "\u001b[A\n",
      " 75%|#######5  | 106/141 [00:02<00:00, 41.78it/s]\n",
      "\u001b[A\n",
      " 80%|########  | 113/141 [00:02<00:00, 47.35it/s]\n",
      "\u001b[A\n",
      " 86%|########5 | 121/141 [00:02<00:00, 51.60it/s]\n",
      "\u001b[A\n",
      " 90%|######### | 127/141 [00:02<00:00, 49.63it/s]\n",
      "\u001b[A\n",
      " 96%|#########5| 135/141 [00:05<00:00,  8.38it/s]\n",
      "\u001b[A\n",
      " 96%|#########5| 135/141 [00:22<00:00,  8.38it/s]\n",
      "\u001b[A\n",
      " 98%|#########7| 138/141 [01:14<00:10,  3.65s/it]\n",
      "\u001b[A\n",
      " 99%|#########8| 139/141 [01:20<00:07,  3.80s/it]\n",
      "\u001b[A\n",
      " 99%|#########8| 139/141 [01:32<00:07,  3.80s/it]\n",
      "\u001b[A\n",
      "100%|##########| 141/141 [02:35<00:00,  9.31s/it]\n",
      "\u001b[A\n",
      "100%|##########| 141/141 [02:35<00:00,  1.10s/it]\n"
     ]
    },
    {
     "name": "stdout",
     "output_type": "stream",
     "text": [
      "                                                                                                                        \n",
      "Reshaping Result Matrices...\n",
      " 30%|███████████▋                           | 15/50 [13:35:05<33:20:56, 3430.18s/trial, best loss: -0.08999650621632271]"
     ]
    },
    {
     "name": "stderr",
     "output_type": "stream",
     "text": [
      "  0%|          | 0/141 [00:00<?, ?it/s]\n",
      "\u001b[A\n",
      "  1%|1         | 2/141 [00:00<00:07, 19.77it/s]\n",
      "\u001b[A\n",
      "  4%|4         | 6/141 [00:00<00:05, 23.37it/s]\n",
      "\u001b[A\n",
      "  9%|9         | 13/141 [00:00<00:04, 31.99it/s]\n",
      "\u001b[A\n",
      " 12%|#2        | 17/141 [00:00<00:04, 26.64it/s]\n",
      "\u001b[A\n",
      " 16%|#5        | 22/141 [00:00<00:03, 31.83it/s]\n",
      "\u001b[A\n",
      " 19%|#9        | 27/141 [00:00<00:03, 33.22it/s]\n",
      "\u001b[A\n",
      " 22%|##1       | 31/141 [00:01<00:03, 31.98it/s]\n",
      "\u001b[A\n",
      " 27%|##6       | 38/141 [00:01<00:02, 40.07it/s]\n",
      "\u001b[A\n",
      " 31%|###1      | 44/141 [00:01<00:02, 44.66it/s]\n",
      "\u001b[A\n",
      " 35%|###5      | 50/141 [00:01<00:02, 42.20it/s]\n",
      "\u001b[A\n",
      " 40%|###9      | 56/141 [00:01<00:01, 43.21it/s]\n",
      "\u001b[A\n",
      " 45%|####4     | 63/141 [00:01<00:01, 49.38it/s]\n",
      "\u001b[A\n",
      " 50%|####9     | 70/141 [00:01<00:01, 50.52it/s]\n",
      "\u001b[A\n",
      " 54%|#####3    | 76/141 [00:01<00:01, 40.97it/s]\n",
      "\u001b[A\n",
      " 62%|######2   | 88/141 [00:02<00:00, 54.93it/s]\n",
      "\u001b[A\n",
      " 67%|######6   | 94/141 [00:02<00:00, 49.57it/s]\n",
      "\u001b[A\n",
      " 71%|#######   | 100/141 [00:02<00:00, 48.36it/s]\n",
      "\u001b[A\n",
      " 75%|#######5  | 106/141 [00:02<00:00, 50.93it/s]\n",
      "\u001b[A\n",
      " 79%|#######9  | 112/141 [00:02<00:00, 43.90it/s]\n",
      "\u001b[A\n",
      " 85%|########5 | 120/141 [00:02<00:00, 51.67it/s]\n",
      "\u001b[A\n",
      " 90%|######### | 127/141 [00:02<00:00, 53.56it/s]\n",
      "\u001b[A\n",
      " 94%|#########4| 133/141 [00:03<00:00, 52.57it/s]\n",
      "\u001b[A\n",
      " 99%|#########8| 139/141 [00:03<00:00, 48.76it/s]\n",
      "\u001b[A\n",
      "100%|##########| 141/141 [00:03<00:00, 44.46it/s]\n"
     ]
    },
    {
     "name": "stdout",
     "output_type": "stream",
     "text": [
      "Stacking columns...                                                                                                     \n",
      "[Pipeline] ....... (step 1 of 3) Processing transformer, total=  23.3s                                                  \n",
      "[Pipeline] ...... (step 2 of 3) Processing maxabs_scale, total=  15.0s                                                  \n",
      "[Pipeline] ............. (step 3 of 3) Processing e_net, total= 6.7min                                                  \n",
      "[Pipeline] ....... (step 1 of 3) Processing transformer, total=  22.7s                                                  \n",
      "[Pipeline] ...... (step 2 of 3) Processing maxabs_scale, total=  14.3s                                                  \n",
      "[Pipeline] ............. (step 3 of 3) Processing e_net, total=11.1min                                                  \n",
      "[Pipeline] ....... (step 1 of 3) Processing transformer, total=  25.4s                                                  \n",
      "[Pipeline] ...... (step 2 of 3) Processing maxabs_scale, total=  16.7s                                                  \n",
      "[Pipeline] ............. (step 3 of 3) Processing e_net, total= 9.1min                                                  \n",
      "[Pipeline] ....... (step 1 of 3) Processing transformer, total=  27.1s                                                  \n",
      "[Pipeline] ...... (step 2 of 3) Processing maxabs_scale, total=  17.9s                                                  \n",
      "[Pipeline] ............. (step 3 of 3) Processing e_net, total= 6.6min                                                  \n",
      "[Pipeline] ....... (step 1 of 3) Processing transformer, total=  24.6s                                                  \n",
      "[Pipeline] ...... (step 2 of 3) Processing maxabs_scale, total=  15.8s                                                  \n",
      "[Pipeline] ............. (step 3 of 3) Processing e_net, total=10.9min                                                  \n",
      "Mean AUROC: 0.7052                                                                                                      \n",
      "Mean Avg Pre: 0.0103                                                                                                    \n",
      "STD AUROC: 0.0508                                                                                                       \n",
      "STD Avg Pre: 0.0044                                                                                                     \n",
      "Loss: -0.0852                                                                                                           \n",
      "Changing w from 0.8858719297287311 to 0.7040097509861775. Please wait...                                                \n",
      " 32%|████████████▍                          | 16/50 [14:23:39<31:23:47, 3324.35s/trial, best loss: -0.08999650621632271]"
     ]
    },
    {
     "name": "stderr",
     "output_type": "stream",
     "text": [
      "  0%|          | 0/68 [00:00<?, ?it/s]\n",
      "\u001b[A\n",
      "  1%|1         | 1/68 [00:00<00:08,  8.17it/s]\n",
      "\u001b[A\n",
      " 13%|#3        | 9/68 [00:00<00:01, 46.54it/s]\n",
      "\u001b[A\n",
      " 46%|####5     | 31/68 [00:00<00:00, 120.07it/s]\n",
      "\u001b[A\n",
      " 65%|######4   | 44/68 [00:00<00:00, 117.43it/s]\n",
      "\u001b[A\n",
      " 99%|#########8| 67/68 [00:00<00:00, 147.18it/s]\n",
      "\u001b[A\n",
      "100%|##########| 68/68 [00:00<00:00, 114.44it/s]\n"
     ]
    },
    {
     "name": "stdout",
     "output_type": "stream",
     "text": [
      "Preparing function arguments...                                                                                         \n",
      "Calculating DWPCs...                                                                                                    \n",
      " 32%|████████████▍                          | 16/50 [14:23:45<31:23:47, 3324.35s/trial, best loss: -0.08999650621632271]"
     ]
    },
    {
     "name": "stderr",
     "output_type": "stream",
     "text": [
      "  0%|          | 0/141 [00:00<?, ?it/s]\n",
      "\u001b[A\n",
      "  1%|          | 1/141 [00:00<00:15,  9.15it/s]\n",
      "\u001b[A\n",
      "  4%|3         | 5/141 [00:00<00:07, 18.19it/s]\n",
      "\u001b[A\n",
      "  8%|7         | 11/141 [00:00<00:04, 31.76it/s]\n",
      "\u001b[A\n",
      " 11%|#         | 15/141 [00:00<00:04, 30.22it/s]\n",
      "\u001b[A\n",
      " 15%|#4        | 21/141 [00:00<00:03, 38.11it/s]\n",
      "\u001b[A\n",
      " 18%|#8        | 26/141 [00:00<00:02, 41.46it/s]\n",
      "\u001b[A\n",
      " 24%|##4       | 34/141 [00:00<00:02, 50.04it/s]\n",
      "\u001b[A\n",
      " 29%|##9       | 41/141 [00:00<00:01, 52.69it/s]\n",
      "\u001b[A\n",
      " 35%|###4      | 49/141 [00:01<00:01, 59.65it/s]\n",
      "\u001b[A\n",
      " 40%|###9      | 56/141 [00:01<00:01, 52.55it/s]\n",
      "\u001b[A\n",
      " 44%|####3     | 62/141 [00:01<00:01, 43.71it/s]\n",
      "\u001b[A\n",
      " 48%|####8     | 68/141 [00:01<00:01, 45.87it/s]\n",
      "\u001b[A\n",
      " 55%|#####5    | 78/141 [00:01<00:01, 54.38it/s]\n",
      "\u001b[A\n",
      " 62%|######1   | 87/141 [00:01<00:00, 60.59it/s]\n",
      "\u001b[A\n",
      " 67%|######6   | 94/141 [00:01<00:00, 54.50it/s]\n",
      "\u001b[A\n",
      " 72%|#######2  | 102/141 [00:02<00:00, 55.81it/s]\n",
      "\u001b[A\n",
      " 77%|#######6  | 108/141 [00:02<00:00, 45.56it/s]\n",
      "\u001b[A\n",
      " 82%|########1 | 115/141 [00:02<00:00, 50.74it/s]\n",
      "\u001b[A\n",
      " 86%|########5 | 121/141 [00:02<00:00, 50.55it/s]\n",
      "\u001b[A\n",
      " 90%|######### | 127/141 [00:02<00:00, 49.30it/s]\n",
      "\u001b[A\n",
      " 95%|#########5| 134/141 [00:02<00:00, 51.69it/s]\n",
      "\u001b[A\n",
      " 95%|#########5| 134/141 [00:14<00:00, 51.69it/s]\n",
      "\u001b[A\n",
      " 98%|#########7| 138/141 [01:13<00:10,  3.63s/it]\n",
      "\u001b[A\n",
      " 99%|#########8| 139/141 [01:26<00:08,  4.23s/it]\n",
      "\u001b[A\n",
      " 99%|#########9| 140/141 [01:27<00:03,  3.95s/it]\n",
      "\u001b[A\n",
      " 99%|#########9| 140/141 [01:44<00:03,  3.95s/it]\n",
      "\u001b[A\n",
      "100%|##########| 141/141 [02:39<00:00, 11.64s/it]\n",
      "\u001b[A\n",
      "100%|##########| 141/141 [02:39<00:00,  1.13s/it]\n"
     ]
    },
    {
     "name": "stdout",
     "output_type": "stream",
     "text": [
      "                                                                                                                        \n",
      "Reshaping Result Matrices...\n",
      " 32%|████████████▍                          | 16/50 [14:26:28<31:23:47, 3324.35s/trial, best loss: -0.08999650621632271]"
     ]
    },
    {
     "name": "stderr",
     "output_type": "stream",
     "text": [
      "  0%|          | 0/141 [00:00<?, ?it/s]\n",
      "\u001b[A\n",
      "  1%|1         | 2/141 [00:00<00:06, 19.93it/s]\n",
      "\u001b[A\n",
      "  4%|4         | 6/141 [00:00<00:05, 23.00it/s]\n",
      "\u001b[A\n",
      "  9%|9         | 13/141 [00:00<00:04, 31.10it/s]\n",
      "\u001b[A\n",
      " 12%|#2        | 17/141 [00:00<00:04, 25.12it/s]\n",
      "\u001b[A\n",
      " 14%|#4        | 20/141 [00:00<00:04, 26.17it/s]\n",
      "\u001b[A\n",
      " 19%|#9        | 27/141 [00:00<00:03, 34.03it/s]\n",
      "\u001b[A\n",
      " 22%|##1       | 31/141 [00:01<00:03, 32.99it/s]\n",
      "\u001b[A\n",
      " 27%|##6       | 38/141 [00:01<00:02, 40.98it/s]\n",
      "\u001b[A\n",
      " 31%|###1      | 44/141 [00:01<00:02, 44.80it/s]\n",
      "\u001b[A\n",
      " 35%|###5      | 50/141 [00:01<00:02, 42.50it/s]\n",
      "\u001b[A\n",
      " 40%|###9      | 56/141 [00:01<00:01, 43.36it/s]\n",
      "\u001b[A\n",
      " 45%|####4     | 63/141 [00:01<00:01, 48.46it/s]\n",
      "\u001b[A\n",
      " 50%|####9     | 70/141 [00:01<00:01, 49.45it/s]\n",
      "\u001b[A\n",
      " 54%|#####3    | 76/141 [00:02<00:01, 39.56it/s]\n",
      "\u001b[A\n",
      " 62%|######2   | 88/141 [00:02<00:00, 53.69it/s]\n",
      "\u001b[A\n",
      " 67%|######6   | 94/141 [00:02<00:00, 48.79it/s]\n",
      "\u001b[A\n",
      " 71%|#######   | 100/141 [00:02<00:00, 47.85it/s]\n",
      "\u001b[A\n",
      " 75%|#######5  | 106/141 [00:02<00:00, 50.54it/s]\n",
      "\u001b[A\n",
      " 79%|#######9  | 112/141 [00:02<00:00, 43.59it/s]\n",
      "\u001b[A\n",
      " 85%|########5 | 120/141 [00:02<00:00, 51.60it/s]\n",
      "\u001b[A\n",
      " 90%|######### | 127/141 [00:02<00:00, 53.04it/s]\n",
      "\u001b[A\n",
      " 94%|#########4| 133/141 [00:03<00:00, 52.01it/s]\n",
      "\u001b[A\n",
      " 99%|#########8| 139/141 [00:03<00:00, 48.22it/s]\n",
      "\u001b[A\n",
      "100%|##########| 141/141 [00:03<00:00, 43.80it/s]\n"
     ]
    },
    {
     "name": "stdout",
     "output_type": "stream",
     "text": [
      "Stacking columns...                                                                                                     \n",
      "[Pipeline] ....... (step 1 of 3) Processing transformer, total=  23.6s                                                  \n",
      "[Pipeline] ...... (step 2 of 3) Processing maxabs_scale, total=  15.1s                                                  \n",
      "[Pipeline] ............. (step 3 of 3) Processing e_net, total= 7.0min                                                  \n",
      "[Pipeline] ....... (step 1 of 3) Processing transformer, total=  22.6s                                                  \n",
      "[Pipeline] ...... (step 2 of 3) Processing maxabs_scale, total=  14.4s                                                  \n",
      "[Pipeline] ............. (step 3 of 3) Processing e_net, total=11.2min                                                  \n",
      "[Pipeline] ....... (step 1 of 3) Processing transformer, total=  25.6s                                                  \n",
      "[Pipeline] ...... (step 2 of 3) Processing maxabs_scale, total=  16.7s                                                  \n",
      "[Pipeline] ............. (step 3 of 3) Processing e_net, total=12.3min                                                  \n",
      "[Pipeline] ....... (step 1 of 3) Processing transformer, total=  27.2s                                                  \n",
      "[Pipeline] ...... (step 2 of 3) Processing maxabs_scale, total=  17.9s                                                  \n",
      "[Pipeline] ............. (step 3 of 3) Processing e_net, total= 6.9min                                                  \n",
      "[Pipeline] ....... (step 1 of 3) Processing transformer, total=  24.7s                                                  \n",
      "[Pipeline] ...... (step 2 of 3) Processing maxabs_scale, total=  15.9s                                                  \n",
      "[Pipeline] ............. (step 3 of 3) Processing e_net, total= 7.9min                                                  \n",
      "Mean AUROC: 0.7060                                                                                                      \n",
      "Mean Avg Pre: 0.0117                                                                                                    \n",
      "STD AUROC: 0.0484                                                                                                       \n",
      "STD Avg Pre: 0.0062                                                                                                     \n",
      "Loss: -0.0872                                                                                                           \n",
      "Changing w from 0.7040097509861775 to 0.823835473885257. Please wait...                                                 \n",
      " 34%|█████████████▎                         | 17/50 [15:15:59<29:57:52, 3268.87s/trial, best loss: -0.08999650621632271]"
     ]
    },
    {
     "name": "stderr",
     "output_type": "stream",
     "text": [
      "  0%|          | 0/68 [00:00<?, ?it/s]\n",
      "\u001b[A\n",
      "  1%|1         | 1/68 [00:00<00:06,  9.59it/s]\n",
      "\u001b[A\n",
      " 15%|#4        | 10/68 [00:00<00:01, 49.91it/s]\n",
      "\u001b[A\n",
      " 56%|#####5    | 38/68 [00:00<00:00, 141.77it/s]\n",
      "\u001b[A\n",
      " 82%|########2 | 56/68 [00:00<00:00, 144.75it/s]\n",
      "\u001b[A\n",
      "100%|##########| 68/68 [00:00<00:00, 121.56it/s]\n"
     ]
    },
    {
     "name": "stdout",
     "output_type": "stream",
     "text": [
      "Preparing function arguments...                                                                                         \n",
      "Calculating DWPCs...                                                                                                    \n",
      " 34%|█████████████▎                         | 17/50 [15:16:05<29:57:52, 3268.87s/trial, best loss: -0.08999650621632271]"
     ]
    },
    {
     "name": "stderr",
     "output_type": "stream",
     "text": [
      "  0%|          | 0/141 [00:00<?, ?it/s]\n",
      "\u001b[A\n",
      "  1%|          | 1/141 [00:00<00:15,  9.22it/s]\n",
      "\u001b[A\n",
      "  3%|2         | 4/141 [00:00<00:06, 20.63it/s]\n",
      "\u001b[A\n",
      "  6%|6         | 9/141 [00:00<00:04, 31.99it/s]\n",
      "\u001b[A\n",
      "  9%|9         | 13/141 [00:00<00:04, 29.10it/s]\n",
      "\u001b[A\n",
      " 13%|#3        | 19/141 [00:00<00:03, 35.91it/s]\n",
      "\u001b[A\n",
      " 18%|#8        | 26/141 [00:00<00:02, 41.19it/s]\n",
      "\u001b[A\n",
      " 23%|##3       | 33/141 [00:00<00:02, 46.03it/s]\n",
      "\u001b[A\n",
      " 27%|##6       | 38/141 [00:00<00:02, 45.48it/s]\n",
      "\u001b[A\n",
      " 34%|###4      | 48/141 [00:01<00:01, 58.33it/s]\n",
      "\u001b[A\n",
      " 39%|###9      | 55/141 [00:01<00:01, 57.78it/s]\n",
      "\u001b[A\n",
      " 43%|####3     | 61/141 [00:01<00:01, 45.49it/s]\n",
      "\u001b[A\n",
      " 48%|####7     | 67/141 [00:01<00:01, 46.60it/s]\n",
      "\u001b[A\n",
      " 55%|#####4    | 77/141 [00:01<00:01, 54.63it/s]\n",
      "\u001b[A\n",
      " 60%|######    | 85/141 [00:01<00:00, 58.03it/s]\n",
      "\u001b[A\n",
      " 65%|######5   | 92/141 [00:01<00:00, 55.44it/s]\n",
      "\u001b[A\n",
      " 70%|#######   | 99/141 [00:02<00:00, 55.35it/s]\n",
      "\u001b[A\n",
      " 74%|#######4  | 105/141 [00:02<00:00, 46.88it/s]\n",
      "\u001b[A\n",
      " 78%|#######8  | 110/141 [00:02<00:00, 46.34it/s]\n",
      "\u001b[A\n",
      " 86%|########5 | 121/141 [00:02<00:00, 51.79it/s]\n",
      "\u001b[A\n",
      " 90%|######### | 127/141 [00:02<00:00, 53.15it/s]\n",
      "\u001b[A\n",
      " 95%|#########5| 134/141 [00:02<00:00, 56.03it/s]\n",
      "\u001b[A\n",
      " 95%|#########5| 134/141 [00:14<00:00, 56.03it/s]\n",
      "\u001b[A\n",
      " 97%|#########7| 137/141 [00:15<00:02,  1.52it/s]\n",
      "\u001b[A\n",
      " 98%|#########7| 138/141 [01:17<00:14,  4.78s/it]\n",
      "\u001b[A\n",
      " 99%|#########8| 139/141 [01:17<00:08,  4.38s/it]\n",
      "\u001b[A\n",
      " 99%|#########8| 139/141 [01:34<00:08,  4.38s/it]\n",
      "\u001b[A\n",
      "100%|##########| 141/141 [02:39<00:00, 11.81s/it]\n",
      "\u001b[A\n",
      "100%|##########| 141/141 [02:39<00:00,  1.13s/it]\n"
     ]
    },
    {
     "name": "stdout",
     "output_type": "stream",
     "text": [
      "                                                                                                                        \n",
      "Reshaping Result Matrices...\n",
      " 34%|█████████████▎                         | 17/50 [15:18:48<29:57:52, 3268.87s/trial, best loss: -0.08999650621632271]"
     ]
    },
    {
     "name": "stderr",
     "output_type": "stream",
     "text": [
      "  0%|          | 0/141 [00:00<?, ?it/s]\n",
      "\u001b[A\n",
      "  1%|1         | 2/141 [00:00<00:07, 19.71it/s]\n",
      "\u001b[A\n",
      "  4%|4         | 6/141 [00:00<00:05, 23.96it/s]\n",
      "\u001b[A\n",
      "  9%|9         | 13/141 [00:00<00:03, 33.03it/s]\n",
      "\u001b[A\n",
      " 12%|#2        | 17/141 [00:00<00:04, 27.60it/s]\n",
      "\u001b[A\n",
      " 16%|#5        | 22/141 [00:00<00:03, 32.72it/s]\n",
      "\u001b[A\n",
      " 19%|#9        | 27/141 [00:00<00:03, 34.75it/s]\n",
      "\u001b[A\n",
      " 22%|##1       | 31/141 [00:00<00:03, 33.61it/s]\n",
      "\u001b[A\n",
      " 27%|##6       | 38/141 [00:01<00:02, 42.01it/s]\n",
      "\u001b[A\n",
      " 32%|###1      | 45/141 [00:01<00:02, 47.38it/s]\n",
      "\u001b[A\n",
      " 35%|###5      | 50/141 [00:01<00:02, 44.32it/s]\n",
      "\u001b[A\n",
      " 40%|###9      | 56/141 [00:01<00:01, 44.34it/s]\n",
      "\u001b[A\n",
      " 45%|####4     | 63/141 [00:01<00:01, 49.81it/s]\n",
      "\u001b[A\n",
      " 50%|####9     | 70/141 [00:01<00:01, 50.99it/s]\n",
      "\u001b[A\n",
      " 54%|#####3    | 76/141 [00:01<00:01, 41.71it/s]\n",
      "\u001b[A\n",
      " 62%|######2   | 88/141 [00:02<00:00, 56.19it/s]\n",
      "\u001b[A\n",
      " 67%|######7   | 95/141 [00:02<00:00, 52.73it/s]\n",
      "\u001b[A\n",
      " 72%|#######1  | 101/141 [00:02<00:00, 44.28it/s]\n",
      "\u001b[A\n",
      " 77%|#######6  | 108/141 [00:02<00:00, 49.54it/s]\n",
      "\u001b[A\n",
      " 81%|########  | 114/141 [00:02<00:00, 48.70it/s]\n",
      "\u001b[A\n",
      " 86%|########5 | 121/141 [00:02<00:00, 53.30it/s]\n",
      "\u001b[A\n",
      " 90%|######### | 127/141 [00:02<00:00, 53.74it/s]\n",
      "\u001b[A\n",
      " 94%|#########4| 133/141 [00:02<00:00, 52.84it/s]\n",
      "\u001b[A\n",
      " 99%|#########8| 139/141 [00:03<00:00, 49.41it/s]\n",
      "\u001b[A\n",
      "100%|##########| 141/141 [00:03<00:00, 45.48it/s]\n"
     ]
    },
    {
     "name": "stdout",
     "output_type": "stream",
     "text": [
      "Stacking columns...                                                                                                     \n",
      "[Pipeline] ....... (step 1 of 3) Processing transformer, total=  23.1s                                                  \n",
      "[Pipeline] ...... (step 2 of 3) Processing maxabs_scale, total=  14.9s                                                  \n",
      "[Pipeline] ............. (step 3 of 3) Processing e_net, total= 4.9min                                                  \n",
      "[Pipeline] ....... (step 1 of 3) Processing transformer, total=  22.8s                                                  \n",
      "[Pipeline] ...... (step 2 of 3) Processing maxabs_scale, total=  14.2s                                                  \n",
      "[Pipeline] ............. (step 3 of 3) Processing e_net, total= 3.7min                                                  \n",
      "[Pipeline] ....... (step 1 of 3) Processing transformer, total=  25.7s                                                  \n",
      "[Pipeline] ...... (step 2 of 3) Processing maxabs_scale, total=  16.7s                                                  \n",
      "[Pipeline] ............. (step 3 of 3) Processing e_net, total= 2.6min                                                  \n",
      "[Pipeline] ....... (step 1 of 3) Processing transformer, total=  27.1s                                                  \n",
      "[Pipeline] ...... (step 2 of 3) Processing maxabs_scale, total=  17.9s                                                  \n",
      "[Pipeline] ............. (step 3 of 3) Processing e_net, total= 5.0min                                                  \n",
      "[Pipeline] ....... (step 1 of 3) Processing transformer, total=  24.1s                                                  \n",
      "[Pipeline] ...... (step 2 of 3) Processing maxabs_scale, total=  15.6s                                                  \n",
      "[Pipeline] ............. (step 3 of 3) Processing e_net, total= 1.9min                                                  \n",
      "Mean AUROC: 0.6505                                                                                                      \n",
      "Mean Avg Pre: 0.0124                                                                                                    \n",
      "STD AUROC: 0.0861                                                                                                       \n",
      "STD Avg Pre: 0.0117                                                                                                     \n",
      "Loss: -0.0703                                                                                                           \n",
      "Changing w from 0.823835473885257 to 0.6821470437828208. Please wait...                                                 \n",
      " 36%|██████████████                         | 18/50 [15:40:57<24:19:31, 2736.62s/trial, best loss: -0.08999650621632271]"
     ]
    },
    {
     "name": "stderr",
     "output_type": "stream",
     "text": [
      "  0%|          | 0/68 [00:00<?, ?it/s]\n",
      "\u001b[A\n",
      "  1%|1         | 1/68 [00:00<00:08,  8.33it/s]\n",
      "\u001b[A\n",
      " 15%|#4        | 10/68 [00:00<00:01, 51.59it/s]\n",
      "\u001b[A\n",
      " 44%|####4     | 30/68 [00:00<00:00, 115.58it/s]\n",
      "\u001b[A\n",
      " 63%|######3   | 43/68 [00:00<00:00, 118.47it/s]\n",
      "\u001b[A\n",
      " 94%|#########4| 64/68 [00:00<00:00, 149.07it/s]\n",
      "\u001b[A\n",
      "100%|##########| 68/68 [00:00<00:00, 107.95it/s]\n"
     ]
    },
    {
     "name": "stdout",
     "output_type": "stream",
     "text": [
      "Preparing function arguments...                                                                                         \n",
      "Calculating DWPCs...                                                                                                    \n",
      " 36%|██████████████                         | 18/50 [15:41:02<24:19:31, 2736.62s/trial, best loss: -0.08999650621632271]"
     ]
    },
    {
     "name": "stderr",
     "output_type": "stream",
     "text": [
      "  0%|          | 0/141 [00:00<?, ?it/s]\n",
      "\u001b[A\n",
      "  1%|          | 1/141 [00:00<00:16,  8.54it/s]\n",
      "\u001b[A\n",
      "  4%|3         | 5/141 [00:00<00:05, 25.64it/s]\n",
      "\u001b[A\n",
      "  6%|5         | 8/141 [00:00<00:05, 26.42it/s]\n",
      "\u001b[A\n",
      "  8%|7         | 11/141 [00:00<00:04, 26.71it/s]\n",
      "\u001b[A\n",
      " 11%|#         | 15/141 [00:00<00:04, 31.17it/s]\n",
      "\u001b[A\n",
      " 14%|#4        | 20/141 [00:00<00:03, 33.92it/s]\n",
      "\u001b[A\n",
      " 20%|#9        | 28/141 [00:00<00:02, 46.31it/s]\n",
      "\u001b[A\n",
      " 25%|##4       | 35/141 [00:00<00:02, 50.83it/s]\n",
      "\u001b[A\n",
      " 29%|##9       | 41/141 [00:01<00:02, 46.38it/s]\n",
      "\u001b[A\n",
      " 38%|###7      | 53/141 [00:01<00:01, 62.96it/s]\n",
      "\u001b[A\n",
      " 43%|####2     | 60/141 [00:01<00:01, 51.51it/s]\n",
      "\u001b[A\n",
      " 47%|####6     | 66/141 [00:01<00:01, 51.00it/s]\n",
      "\u001b[A\n",
      " 51%|#####1    | 72/141 [00:01<00:01, 50.44it/s]\n",
      "\u001b[A\n",
      " 56%|#####6    | 79/141 [00:01<00:01, 55.09it/s]\n",
      "\u001b[A\n",
      " 60%|######    | 85/141 [00:01<00:01, 52.17it/s]\n",
      "\u001b[A\n",
      " 66%|######5   | 93/141 [00:01<00:00, 51.57it/s]\n",
      "\u001b[A\n",
      " 70%|#######   | 99/141 [00:02<00:00, 52.44it/s]\n",
      "\u001b[A\n",
      " 74%|#######4  | 105/141 [00:02<00:00, 47.05it/s]\n",
      "\u001b[A\n",
      " 79%|#######8  | 111/141 [00:02<00:00, 48.12it/s]\n",
      "\u001b[A\n",
      " 85%|########5 | 120/141 [00:02<00:00, 54.49it/s]\n",
      "\u001b[A\n",
      " 89%|########9 | 126/141 [00:02<00:00, 48.37it/s]\n",
      "\u001b[A\n",
      " 95%|#########5| 134/141 [00:02<00:00, 55.69it/s]\n",
      "\u001b[A\n",
      " 95%|#########5| 134/141 [00:16<00:00, 55.69it/s]\n",
      "\u001b[A\n",
      " 98%|#########7| 138/141 [01:01<00:08,  2.86s/it]\n",
      "\u001b[A\n",
      " 99%|#########8| 139/141 [01:09<00:06,  3.17s/it]\n",
      "\u001b[A\n",
      " 99%|#########8| 139/141 [01:26<00:06,  3.17s/it]\n",
      "\u001b[A\n",
      "100%|##########| 141/141 [02:26<00:00,  8.69s/it]\n",
      "\u001b[A\n",
      "100%|##########| 141/141 [02:26<00:00,  1.04s/it]\n"
     ]
    },
    {
     "name": "stdout",
     "output_type": "stream",
     "text": [
      "                                                                                                                        \n",
      "Reshaping Result Matrices...\n",
      " 36%|██████████████                         | 18/50 [15:43:32<24:19:31, 2736.62s/trial, best loss: -0.08999650621632271]"
     ]
    },
    {
     "name": "stderr",
     "output_type": "stream",
     "text": [
      "  0%|          | 0/141 [00:00<?, ?it/s]\n",
      "\u001b[A\n",
      "  2%|2         | 3/141 [00:00<00:07, 18.40it/s]\n",
      "\u001b[A\n",
      "  5%|4         | 7/141 [00:00<00:04, 27.49it/s]\n",
      "\u001b[A\n",
      "  9%|9         | 13/141 [00:00<00:03, 33.16it/s]\n",
      "\u001b[A\n",
      " 12%|#2        | 17/141 [00:00<00:04, 27.05it/s]\n",
      "\u001b[A\n",
      " 16%|#5        | 22/141 [00:00<00:03, 32.54it/s]\n",
      "\u001b[A\n",
      " 19%|#9        | 27/141 [00:00<00:03, 34.66it/s]\n",
      "\u001b[A\n",
      " 22%|##1       | 31/141 [00:00<00:03, 33.67it/s]\n",
      "\u001b[A\n",
      " 27%|##6       | 38/141 [00:01<00:02, 41.78it/s]\n",
      "\u001b[A\n",
      " 32%|###1      | 45/141 [00:01<00:02, 47.14it/s]\n",
      "\u001b[A\n",
      " 35%|###5      | 50/141 [00:01<00:02, 43.97it/s]\n",
      "\u001b[A\n",
      " 40%|###9      | 56/141 [00:01<00:01, 44.82it/s]\n",
      "\u001b[A\n",
      " 45%|####4     | 63/141 [00:01<00:01, 50.97it/s]\n",
      "\u001b[A\n",
      " 50%|####9     | 70/141 [00:01<00:01, 52.10it/s]\n",
      "\u001b[A\n",
      " 54%|#####3    | 76/141 [00:01<00:01, 41.99it/s]\n",
      "\u001b[A\n",
      " 62%|######2   | 88/141 [00:02<00:00, 56.46it/s]\n",
      "\u001b[A\n",
      " 67%|######7   | 95/141 [00:02<00:00, 53.00it/s]\n",
      "\u001b[A\n",
      " 72%|#######1  | 101/141 [00:02<00:00, 45.79it/s]\n",
      "\u001b[A\n",
      " 77%|#######7  | 109/141 [00:02<00:00, 52.62it/s]\n",
      "\u001b[A\n",
      " 82%|########1 | 115/141 [00:02<00:00, 52.30it/s]\n",
      "\u001b[A\n",
      " 87%|########7 | 123/141 [00:02<00:00, 57.27it/s]\n",
      "\u001b[A\n",
      " 92%|#########2| 130/141 [00:02<00:00, 52.56it/s]\n",
      "\u001b[A\n",
      " 96%|#########6| 136/141 [00:03<00:00, 49.50it/s]\n",
      "\u001b[A\n",
      "100%|##########| 141/141 [00:03<00:00, 46.09it/s]\n"
     ]
    },
    {
     "name": "stdout",
     "output_type": "stream",
     "text": [
      "Stacking columns...                                                                                                     \n",
      "[Pipeline] ....... (step 1 of 3) Processing transformer, total=  23.2s                                                  \n",
      "[Pipeline] ...... (step 2 of 3) Processing maxabs_scale, total=  15.0s                                                  \n",
      "[Pipeline] ............. (step 3 of 3) Processing e_net, total=10.0min                                                  \n",
      " 36%|██████████████                         | 18/50 [15:54:21<24:19:31, 2736.62s/trial, best loss: -0.08999650621632271]"
     ]
    },
    {
     "name": "stderr",
     "output_type": "stream",
     "text": [
      "/home/rogertu/projects/MechRepoNet/mrn_venv/lib/python3.8/site-packages/sklearn/linear_model/_sag.py:328: ConvergenceWarning: The max_iter was reached which means the coef_ did not converge\n",
      "  warnings.warn(\"The max_iter was reached which means \"\n",
      "\n"
     ]
    },
    {
     "name": "stdout",
     "output_type": "stream",
     "text": [
      "[Pipeline] ....... (step 1 of 3) Processing transformer, total=  22.5s                                                  \n",
      "[Pipeline] ...... (step 2 of 3) Processing maxabs_scale, total=  14.3s                                                  \n",
      "[Pipeline] ............. (step 3 of 3) Processing e_net, total=10.7min                                                  \n",
      " 36%|██████████████                         | 18/50 [16:05:46<24:19:31, 2736.62s/trial, best loss: -0.08999650621632271]"
     ]
    },
    {
     "name": "stderr",
     "output_type": "stream",
     "text": [
      "/home/rogertu/projects/MechRepoNet/mrn_venv/lib/python3.8/site-packages/sklearn/linear_model/_sag.py:328: ConvergenceWarning: The max_iter was reached which means the coef_ did not converge\n",
      "  warnings.warn(\"The max_iter was reached which means \"\n",
      "\n"
     ]
    },
    {
     "name": "stdout",
     "output_type": "stream",
     "text": [
      "[Pipeline] ....... (step 1 of 3) Processing transformer, total=  25.5s                                                  \n",
      "[Pipeline] ...... (step 2 of 3) Processing maxabs_scale, total=  16.7s                                                  \n",
      "[Pipeline] ............. (step 3 of 3) Processing e_net, total=10.2min                                                  \n",
      " 36%|██████████████                         | 18/50 [16:16:48<24:19:31, 2736.62s/trial, best loss: -0.08999650621632271]"
     ]
    },
    {
     "name": "stderr",
     "output_type": "stream",
     "text": [
      "/home/rogertu/projects/MechRepoNet/mrn_venv/lib/python3.8/site-packages/sklearn/linear_model/_sag.py:328: ConvergenceWarning: The max_iter was reached which means the coef_ did not converge\n",
      "  warnings.warn(\"The max_iter was reached which means \"\n",
      "\n"
     ]
    },
    {
     "name": "stdout",
     "output_type": "stream",
     "text": [
      "[Pipeline] ....... (step 1 of 3) Processing transformer, total=  26.9s                                                  \n",
      "[Pipeline] ...... (step 2 of 3) Processing maxabs_scale, total=  17.8s                                                  \n",
      "[Pipeline] ............. (step 3 of 3) Processing e_net, total=11.0min                                                  \n",
      " 36%|██████████████                         | 18/50 [16:28:39<24:19:31, 2736.62s/trial, best loss: -0.08999650621632271]"
     ]
    },
    {
     "name": "stderr",
     "output_type": "stream",
     "text": [
      "/home/rogertu/projects/MechRepoNet/mrn_venv/lib/python3.8/site-packages/sklearn/linear_model/_sag.py:328: ConvergenceWarning: The max_iter was reached which means the coef_ did not converge\n",
      "  warnings.warn(\"The max_iter was reached which means \"\n",
      "\n"
     ]
    },
    {
     "name": "stdout",
     "output_type": "stream",
     "text": [
      "[Pipeline] ....... (step 1 of 3) Processing transformer, total=  24.4s                                                  \n",
      "[Pipeline] ...... (step 2 of 3) Processing maxabs_scale, total=  16.0s                                                  \n",
      "[Pipeline] ............. (step 3 of 3) Processing e_net, total=10.2min                                                  \n",
      " 36%|██████████████                         | 18/50 [16:39:37<24:19:31, 2736.62s/trial, best loss: -0.08999650621632271]"
     ]
    },
    {
     "name": "stderr",
     "output_type": "stream",
     "text": [
      "/home/rogertu/projects/MechRepoNet/mrn_venv/lib/python3.8/site-packages/sklearn/linear_model/_sag.py:328: ConvergenceWarning: The max_iter was reached which means the coef_ did not converge\n",
      "  warnings.warn(\"The max_iter was reached which means \"\n",
      "\n"
     ]
    },
    {
     "name": "stdout",
     "output_type": "stream",
     "text": [
      "Mean AUROC: 0.6857                                                                                                      \n",
      "Mean Avg Pre: 0.0117                                                                                                    \n",
      "STD AUROC: 0.0861                                                                                                       \n",
      "STD Avg Pre: 0.0084                                                                                                     \n",
      "Loss: -0.0772                                                                                                           \n",
      "Changing w from 0.6821470437828208 to 0.5285279702303939. Please wait...                                                \n",
      " 38%|██████████████▊                        | 19/50 [16:39:44<25:36:40, 2974.20s/trial, best loss: -0.08999650621632271]"
     ]
    },
    {
     "name": "stderr",
     "output_type": "stream",
     "text": [
      "  0%|          | 0/68 [00:00<?, ?it/s]\n",
      "\u001b[A\n",
      "  1%|1         | 1/68 [00:00<00:07,  8.52it/s]\n",
      "\u001b[A\n",
      " 16%|#6        | 11/68 [00:00<00:01, 56.64it/s]\n",
      "\u001b[A\n",
      " 44%|####4     | 30/68 [00:00<00:00, 108.56it/s]\n",
      "\u001b[A\n",
      " 71%|#######   | 48/68 [00:00<00:00, 131.22it/s]\n",
      "\u001b[A\n",
      " 96%|#########5| 65/68 [00:00<00:00, 143.99it/s]\n",
      "\u001b[A\n",
      "100%|##########| 68/68 [00:00<00:00, 110.71it/s]\n"
     ]
    },
    {
     "name": "stdout",
     "output_type": "stream",
     "text": [
      "Preparing function arguments...                                                                                         \n",
      "Calculating DWPCs...                                                                                                    \n",
      " 38%|██████████████▊                        | 19/50 [16:39:50<25:36:40, 2974.20s/trial, best loss: -0.08999650621632271]"
     ]
    },
    {
     "name": "stderr",
     "output_type": "stream",
     "text": [
      "  0%|          | 0/141 [00:00<?, ?it/s]\n",
      "\u001b[A\n",
      "  1%|          | 1/141 [00:00<00:16,  8.40it/s]\n",
      "\u001b[A\n",
      "  4%|3         | 5/141 [00:00<00:05, 23.15it/s]\n",
      "\u001b[A\n",
      "  7%|7         | 10/141 [00:00<00:04, 30.42it/s]\n",
      "\u001b[A\n",
      " 10%|9         | 14/141 [00:00<00:04, 25.75it/s]\n",
      "\u001b[A\n",
      " 16%|#5        | 22/141 [00:00<00:03, 37.34it/s]\n",
      "\u001b[A\n",
      " 20%|#9        | 28/141 [00:00<00:02, 40.88it/s]\n",
      "\u001b[A\n",
      " 23%|##3       | 33/141 [00:00<00:02, 42.83it/s]\n",
      "\u001b[A\n",
      " 27%|##6       | 38/141 [00:01<00:02, 44.42it/s]\n",
      "\u001b[A\n",
      " 35%|###4      | 49/141 [00:01<00:01, 55.97it/s]\n",
      "\u001b[A\n",
      " 39%|###9      | 55/141 [00:01<00:01, 54.17it/s]\n",
      "\u001b[A\n",
      " 43%|####3     | 61/141 [00:01<00:01, 49.71it/s]\n",
      "\u001b[A\n",
      " 47%|####6     | 66/141 [00:01<00:01, 44.32it/s]\n",
      "\u001b[A\n",
      " 51%|#####1    | 72/141 [00:01<00:01, 47.54it/s]\n",
      "\u001b[A\n",
      " 57%|#####7    | 81/141 [00:01<00:01, 57.09it/s]\n",
      "\u001b[A\n",
      " 62%|######1   | 87/141 [00:01<00:01, 51.15it/s]\n",
      "\u001b[A\n",
      " 66%|######5   | 93/141 [00:02<00:00, 49.25it/s]\n",
      "\u001b[A\n",
      " 70%|#######   | 99/141 [00:02<00:00, 50.77it/s]\n",
      "\u001b[A\n",
      " 74%|#######4  | 105/141 [00:02<00:00, 44.88it/s]\n",
      "\u001b[A\n",
      " 78%|#######8  | 110/141 [00:02<00:00, 44.15it/s]\n",
      "\u001b[A\n",
      " 86%|########5 | 121/141 [00:02<00:00, 50.95it/s]\n",
      "\u001b[A\n",
      " 90%|######### | 127/141 [00:02<00:00, 51.28it/s]\n",
      "\u001b[A\n",
      " 96%|#########5| 135/141 [00:05<00:00,  8.75it/s]\n",
      "\u001b[A\n",
      " 96%|#########5| 135/141 [00:19<00:00,  8.75it/s]\n",
      "\u001b[A\n",
      " 98%|#########7| 138/141 [01:06<00:09,  3.19s/it]\n",
      "\u001b[A\n",
      " 99%|#########8| 139/141 [01:15<00:07,  3.56s/it]\n",
      "\u001b[A\n",
      " 99%|#########8| 139/141 [01:29<00:07,  3.56s/it]\n",
      "\u001b[A\n",
      "100%|##########| 141/141 [02:27<00:00,  8.74s/it]\n",
      "\u001b[A\n",
      "100%|##########| 141/141 [02:27<00:00,  1.05s/it]\n"
     ]
    },
    {
     "name": "stdout",
     "output_type": "stream",
     "text": [
      "                                                                                                                        \n",
      "Reshaping Result Matrices...\n",
      " 38%|██████████████▊                        | 19/50 [16:42:21<25:36:40, 2974.20s/trial, best loss: -0.08999650621632271]"
     ]
    },
    {
     "name": "stderr",
     "output_type": "stream",
     "text": [
      "  0%|          | 0/141 [00:00<?, ?it/s]\n",
      "\u001b[A\n",
      "  2%|2         | 3/141 [00:00<00:07, 18.27it/s]\n",
      "\u001b[A\n",
      "  5%|4         | 7/141 [00:00<00:04, 27.44it/s]\n",
      "\u001b[A\n",
      "  9%|9         | 13/141 [00:00<00:03, 32.62it/s]\n",
      "\u001b[A\n",
      " 12%|#2        | 17/141 [00:00<00:04, 26.89it/s]\n",
      "\u001b[A\n",
      " 16%|#5        | 22/141 [00:00<00:03, 32.36it/s]\n",
      "\u001b[A\n",
      " 19%|#9        | 27/141 [00:00<00:03, 34.67it/s]\n",
      "\u001b[A\n",
      " 22%|##1       | 31/141 [00:00<00:03, 33.39it/s]\n",
      "\u001b[A\n",
      " 27%|##6       | 38/141 [00:01<00:02, 41.88it/s]\n",
      "\u001b[A\n",
      " 31%|###1      | 44/141 [00:01<00:02, 46.57it/s]\n",
      "\u001b[A\n",
      " 35%|###5      | 50/141 [00:01<00:02, 43.91it/s]\n",
      "\u001b[A\n",
      " 40%|###9      | 56/141 [00:01<00:01, 44.71it/s]\n",
      "\u001b[A\n",
      " 45%|####4     | 63/141 [00:01<00:01, 50.62it/s]\n",
      "\u001b[A\n",
      " 50%|####9     | 70/141 [00:01<00:01, 51.80it/s]\n",
      "\u001b[A\n",
      " 54%|#####3    | 76/141 [00:01<00:01, 41.81it/s]\n",
      "\u001b[A\n",
      " 62%|######2   | 88/141 [00:02<00:00, 55.99it/s]\n",
      "\u001b[A\n",
      " 67%|######7   | 95/141 [00:02<00:00, 52.28it/s]\n",
      "\u001b[A\n",
      " 72%|#######1  | 101/141 [00:02<00:00, 45.32it/s]\n",
      "\u001b[A\n",
      " 77%|#######6  | 108/141 [00:02<00:00, 50.21it/s]\n",
      "\u001b[A\n",
      " 81%|########  | 114/141 [00:02<00:00, 49.18it/s]\n",
      "\u001b[A\n",
      " 87%|########7 | 123/141 [00:02<00:00, 56.84it/s]\n",
      "\u001b[A\n",
      " 91%|#########1| 129/141 [00:02<00:00, 49.63it/s]\n",
      "\u001b[A\n",
      " 96%|#########5| 135/141 [00:03<00:00, 48.30it/s]\n",
      "\u001b[A\n",
      "100%|##########| 141/141 [00:03<00:00, 45.38it/s]\n"
     ]
    },
    {
     "name": "stdout",
     "output_type": "stream",
     "text": [
      "Stacking columns...                                                                                                     \n",
      "[Pipeline] ....... (step 1 of 3) Processing transformer, total=  23.1s                                                  \n",
      "[Pipeline] ...... (step 2 of 3) Processing maxabs_scale, total=  14.7s                                                  \n",
      "[Pipeline] ............. (step 3 of 3) Processing e_net, total=14.2min                                                  \n",
      " 38%|██████████████▊                        | 19/50 [16:57:18<25:36:40, 2974.20s/trial, best loss: -0.08999650621632271]"
     ]
    },
    {
     "name": "stderr",
     "output_type": "stream",
     "text": [
      "/home/rogertu/projects/MechRepoNet/mrn_venv/lib/python3.8/site-packages/sklearn/linear_model/_sag.py:328: ConvergenceWarning: The max_iter was reached which means the coef_ did not converge\n",
      "  warnings.warn(\"The max_iter was reached which means \"\n",
      "\n"
     ]
    },
    {
     "name": "stdout",
     "output_type": "stream",
     "text": [
      "[Pipeline] ....... (step 1 of 3) Processing transformer, total=  22.2s                                                  \n",
      "[Pipeline] ...... (step 2 of 3) Processing maxabs_scale, total=  14.1s                                                  \n",
      "[Pipeline] ............. (step 3 of 3) Processing e_net, total=14.1min                                                  \n",
      " 38%|██████████████▊                        | 19/50 [17:12:08<25:36:40, 2974.20s/trial, best loss: -0.08999650621632271]"
     ]
    },
    {
     "name": "stderr",
     "output_type": "stream",
     "text": [
      "/home/rogertu/projects/MechRepoNet/mrn_venv/lib/python3.8/site-packages/sklearn/linear_model/_sag.py:328: ConvergenceWarning: The max_iter was reached which means the coef_ did not converge\n",
      "  warnings.warn(\"The max_iter was reached which means \"\n",
      "\n"
     ]
    },
    {
     "name": "stdout",
     "output_type": "stream",
     "text": [
      "[Pipeline] ....... (step 1 of 3) Processing transformer, total=  25.2s                                                  \n",
      "[Pipeline] ...... (step 2 of 3) Processing maxabs_scale, total=  16.5s                                                  \n",
      "[Pipeline] ............. (step 3 of 3) Processing e_net, total=14.8min                                                  \n",
      " 38%|██████████████▊                        | 19/50 [17:27:45<25:36:40, 2974.20s/trial, best loss: -0.08999650621632271]"
     ]
    },
    {
     "name": "stderr",
     "output_type": "stream",
     "text": [
      "/home/rogertu/projects/MechRepoNet/mrn_venv/lib/python3.8/site-packages/sklearn/linear_model/_sag.py:328: ConvergenceWarning: The max_iter was reached which means the coef_ did not converge\n",
      "  warnings.warn(\"The max_iter was reached which means \"\n",
      "\n"
     ]
    },
    {
     "name": "stdout",
     "output_type": "stream",
     "text": [
      "[Pipeline] ....... (step 1 of 3) Processing transformer, total=  27.0s                                                  \n",
      "[Pipeline] ...... (step 2 of 3) Processing maxabs_scale, total=  18.1s                                                  \n",
      "[Pipeline] ............. (step 3 of 3) Processing e_net, total=14.9min                                                  \n",
      " 38%|██████████████▊                        | 19/50 [17:43:32<25:36:40, 2974.20s/trial, best loss: -0.08999650621632271]"
     ]
    },
    {
     "name": "stderr",
     "output_type": "stream",
     "text": [
      "/home/rogertu/projects/MechRepoNet/mrn_venv/lib/python3.8/site-packages/sklearn/linear_model/_sag.py:328: ConvergenceWarning: The max_iter was reached which means the coef_ did not converge\n",
      "  warnings.warn(\"The max_iter was reached which means \"\n",
      "\n"
     ]
    },
    {
     "name": "stdout",
     "output_type": "stream",
     "text": [
      "[Pipeline] ....... (step 1 of 3) Processing transformer, total=  24.3s                                                  \n",
      "[Pipeline] ...... (step 2 of 3) Processing maxabs_scale, total=  15.9s                                                  \n",
      "[Pipeline] ............. (step 3 of 3) Processing e_net, total=14.6min                                                  \n",
      " 38%|██████████████▊                        | 19/50 [17:58:54<25:36:40, 2974.20s/trial, best loss: -0.08999650621632271]"
     ]
    },
    {
     "name": "stderr",
     "output_type": "stream",
     "text": [
      "/home/rogertu/projects/MechRepoNet/mrn_venv/lib/python3.8/site-packages/sklearn/linear_model/_sag.py:328: ConvergenceWarning: The max_iter was reached which means the coef_ did not converge\n",
      "  warnings.warn(\"The max_iter was reached which means \"\n",
      "\n"
     ]
    },
    {
     "name": "stdout",
     "output_type": "stream",
     "text": [
      "Mean AUROC: 0.7038                                                                                                      \n",
      "Mean Avg Pre: 0.0132                                                                                                    \n",
      "STD AUROC: 0.0472                                                                                                       \n",
      "STD Avg Pre: 0.0077                                                                                                     \n",
      "Loss: -0.0885                                                                                                           \n",
      "Changing w from 0.5285279702303939 to 0.45102551172859795. Please wait...                                               \n",
      " 40%|███████████████▌                       | 20/50 [17:59:01<29:14:42, 3509.42s/trial, best loss: -0.08999650621632271]"
     ]
    },
    {
     "name": "stderr",
     "output_type": "stream",
     "text": [
      "  0%|          | 0/68 [00:00<?, ?it/s]\n",
      "\u001b[A\n",
      "  1%|1         | 1/68 [00:00<00:07,  8.45it/s]\n",
      "\u001b[A\n",
      " 13%|#3        | 9/68 [00:00<00:01, 45.12it/s]\n",
      "\u001b[A\n",
      " 41%|####1     | 28/68 [00:00<00:00, 105.51it/s]\n",
      "\u001b[A\n",
      " 66%|######6   | 45/68 [00:00<00:00, 129.53it/s]\n",
      "\u001b[A\n",
      " 93%|#########2| 63/68 [00:00<00:00, 145.53it/s]\n",
      "\u001b[A\n",
      "100%|##########| 68/68 [00:00<00:00, 106.60it/s]\n"
     ]
    },
    {
     "name": "stdout",
     "output_type": "stream",
     "text": [
      "Preparing function arguments...                                                                                         \n",
      "Calculating DWPCs...                                                                                                    \n",
      " 40%|███████████████▌                       | 20/50 [17:59:07<29:14:42, 3509.42s/trial, best loss: -0.08999650621632271]"
     ]
    },
    {
     "name": "stderr",
     "output_type": "stream",
     "text": [
      "  0%|          | 0/141 [00:00<?, ?it/s]\n",
      "\u001b[A\n",
      "  1%|          | 1/141 [00:00<00:16,  8.34it/s]\n",
      "\u001b[A\n",
      "  3%|2         | 4/141 [00:00<00:07, 19.10it/s]\n",
      "\u001b[A\n",
      "  6%|6         | 9/141 [00:00<00:04, 27.78it/s]\n",
      "\u001b[A\n",
      "  9%|8         | 12/141 [00:00<00:04, 28.16it/s]\n",
      "\u001b[A\n",
      " 11%|#         | 15/141 [00:00<00:04, 27.99it/s]\n",
      "\u001b[A\n",
      " 13%|#3        | 19/141 [00:00<00:03, 31.69it/s]\n",
      "\u001b[A\n",
      " 20%|#9        | 28/141 [00:00<00:02, 47.76it/s]\n",
      "\u001b[A\n",
      " 23%|##3       | 33/141 [00:00<00:02, 42.04it/s]\n",
      "\u001b[A\n",
      " 30%|##9       | 42/141 [00:01<00:02, 48.91it/s]\n",
      "\u001b[A\n",
      " 38%|###8      | 54/141 [00:01<00:01, 58.47it/s]\n",
      "\u001b[A\n",
      " 43%|####2     | 60/141 [00:01<00:01, 55.16it/s]\n",
      "\u001b[A\n",
      " 47%|####6     | 66/141 [00:01<00:01, 49.22it/s]\n",
      "\u001b[A\n",
      " 52%|#####1    | 73/141 [00:01<00:01, 53.60it/s]\n",
      "\u001b[A\n",
      " 56%|#####6    | 79/141 [00:01<00:01, 52.47it/s]\n",
      "\u001b[A\n",
      " 61%|######    | 86/141 [00:01<00:01, 53.00it/s]\n",
      "\u001b[A\n",
      " 66%|######5   | 93/141 [00:02<00:00, 51.15it/s]\n",
      "\u001b[A\n",
      " 70%|#######   | 99/141 [00:02<00:00, 50.13it/s]\n",
      "\u001b[A\n",
      " 74%|#######4  | 105/141 [00:02<00:00, 42.73it/s]\n",
      "\u001b[A\n",
      " 78%|#######8  | 110/141 [00:02<00:00, 42.62it/s]\n",
      "\u001b[A\n",
      " 84%|########3 | 118/141 [00:02<00:00, 51.01it/s]\n",
      "\u001b[A\n",
      " 88%|########7 | 124/141 [00:02<00:00, 48.60it/s]\n",
      "\u001b[A\n",
      " 94%|#########4| 133/141 [00:02<00:00, 56.40it/s]\n",
      "\u001b[A\n",
      " 94%|#########4| 133/141 [00:12<00:00, 56.40it/s]\n",
      "\u001b[A\n",
      " 98%|#########7| 138/141 [01:14<00:09,  3.29s/it]\n",
      "\u001b[A\n",
      " 99%|#########8| 139/141 [01:14<00:06,  3.14s/it]\n",
      "\u001b[A\n",
      " 99%|#########8| 139/141 [01:32<00:06,  3.14s/it]\n",
      "\u001b[A\n",
      "100%|##########| 141/141 [02:39<00:00,  8.98s/it]\n",
      "\u001b[A\n",
      "100%|##########| 141/141 [02:39<00:00,  1.13s/it]\n"
     ]
    },
    {
     "name": "stdout",
     "output_type": "stream",
     "text": [
      "                                                                                                                        \n",
      "Reshaping Result Matrices...\n",
      " 40%|███████████████▌                       | 20/50 [18:01:50<29:14:42, 3509.42s/trial, best loss: -0.08999650621632271]"
     ]
    },
    {
     "name": "stderr",
     "output_type": "stream",
     "text": [
      "  0%|          | 0/141 [00:00<?, ?it/s]\n",
      "\u001b[A\n",
      "  1%|          | 1/141 [00:00<00:19,  7.24it/s]\n",
      "\u001b[A\n",
      "  4%|4         | 6/141 [00:00<00:06, 21.40it/s]\n",
      "\u001b[A\n",
      "  9%|9         | 13/141 [00:00<00:04, 30.50it/s]\n",
      "\u001b[A\n",
      " 12%|#2        | 17/141 [00:00<00:04, 26.01it/s]\n",
      "\u001b[A\n",
      " 14%|#4        | 20/141 [00:00<00:04, 26.87it/s]\n",
      "\u001b[A\n",
      " 19%|#9        | 27/141 [00:00<00:03, 34.27it/s]\n",
      "\u001b[A\n",
      " 22%|##1       | 31/141 [00:01<00:03, 33.19it/s]\n",
      "\u001b[A\n",
      " 27%|##6       | 38/141 [00:01<00:02, 40.85it/s]\n",
      "\u001b[A\n",
      " 31%|###1      | 44/141 [00:01<00:02, 44.83it/s]\n",
      "\u001b[A\n",
      " 35%|###5      | 50/141 [00:01<00:02, 42.68it/s]\n",
      "\u001b[A\n",
      " 40%|###9      | 56/141 [00:01<00:01, 43.59it/s]\n",
      "\u001b[A\n",
      " 45%|####4     | 63/141 [00:01<00:01, 49.54it/s]\n",
      "\u001b[A\n",
      " 50%|####9     | 70/141 [00:01<00:01, 50.73it/s]\n",
      "\u001b[A\n",
      " 54%|#####3    | 76/141 [00:02<00:01, 41.14it/s]\n",
      "\u001b[A\n",
      " 62%|######2   | 88/141 [00:02<00:00, 55.38it/s]\n",
      "\u001b[A\n",
      " 67%|######7   | 95/141 [00:02<00:00, 52.28it/s]\n",
      "\u001b[A\n",
      " 72%|#######1  | 101/141 [00:02<00:00, 45.38it/s]\n",
      "\u001b[A\n",
      " 77%|#######6  | 108/141 [00:02<00:00, 50.17it/s]\n",
      "\u001b[A\n",
      " 81%|########  | 114/141 [00:02<00:00, 49.25it/s]\n",
      "\u001b[A\n",
      " 87%|########7 | 123/141 [00:02<00:00, 56.99it/s]\n",
      "\u001b[A\n",
      " 92%|#########2| 130/141 [00:02<00:00, 52.05it/s]\n",
      "\u001b[A\n",
      " 96%|#########6| 136/141 [00:03<00:00, 48.79it/s]\n",
      "\u001b[A\n",
      "100%|##########| 141/141 [00:03<00:00, 44.32it/s]\n"
     ]
    },
    {
     "name": "stdout",
     "output_type": "stream",
     "text": [
      "Stacking columns...                                                                                                     \n",
      "[Pipeline] ....... (step 1 of 3) Processing transformer, total=  23.1s                                                  \n",
      "[Pipeline] ...... (step 2 of 3) Processing maxabs_scale, total=  14.9s                                                  \n",
      "[Pipeline] ............. (step 3 of 3) Processing e_net, total=13.6min                                                  \n",
      " 40%|███████████████▌                       | 20/50 [18:16:14<29:14:42, 3509.42s/trial, best loss: -0.08999650621632271]"
     ]
    },
    {
     "name": "stderr",
     "output_type": "stream",
     "text": [
      "/home/rogertu/projects/MechRepoNet/mrn_venv/lib/python3.8/site-packages/sklearn/linear_model/_sag.py:328: ConvergenceWarning: The max_iter was reached which means the coef_ did not converge\n",
      "  warnings.warn(\"The max_iter was reached which means \"\n",
      "\n"
     ]
    },
    {
     "name": "stdout",
     "output_type": "stream",
     "text": [
      "[Pipeline] ....... (step 1 of 3) Processing transformer, total=  22.4s                                                  \n",
      "[Pipeline] ...... (step 2 of 3) Processing maxabs_scale, total=  14.2s                                                  \n",
      "[Pipeline] ............. (step 3 of 3) Processing e_net, total=13.6min                                                  \n",
      " 40%|███████████████▌                       | 20/50 [18:30:34<29:14:42, 3509.42s/trial, best loss: -0.08999650621632271]"
     ]
    },
    {
     "name": "stderr",
     "output_type": "stream",
     "text": [
      "/home/rogertu/projects/MechRepoNet/mrn_venv/lib/python3.8/site-packages/sklearn/linear_model/_sag.py:328: ConvergenceWarning: The max_iter was reached which means the coef_ did not converge\n",
      "  warnings.warn(\"The max_iter was reached which means \"\n",
      "\n"
     ]
    },
    {
     "name": "stdout",
     "output_type": "stream",
     "text": [
      "[Pipeline] ....... (step 1 of 3) Processing transformer, total=  25.3s                                                  \n",
      "[Pipeline] ...... (step 2 of 3) Processing maxabs_scale, total=  16.5s                                                  \n",
      "[Pipeline] ............. (step 3 of 3) Processing e_net, total=13.8min                                                  \n",
      " 40%|███████████████▌                       | 20/50 [18:45:11<29:14:42, 3509.42s/trial, best loss: -0.08999650621632271]"
     ]
    },
    {
     "name": "stderr",
     "output_type": "stream",
     "text": [
      "/home/rogertu/projects/MechRepoNet/mrn_venv/lib/python3.8/site-packages/sklearn/linear_model/_sag.py:328: ConvergenceWarning: The max_iter was reached which means the coef_ did not converge\n",
      "  warnings.warn(\"The max_iter was reached which means \"\n",
      "\n"
     ]
    },
    {
     "name": "stdout",
     "output_type": "stream",
     "text": [
      "[Pipeline] ....... (step 1 of 3) Processing transformer, total=  26.9s                                                  \n",
      "[Pipeline] ...... (step 2 of 3) Processing maxabs_scale, total=  17.7s                                                  \n",
      "[Pipeline] ............. (step 3 of 3) Processing e_net, total=14.5min                                                  \n",
      " 40%|███████████████▌                       | 20/50 [19:00:35<29:14:42, 3509.42s/trial, best loss: -0.08999650621632271]"
     ]
    },
    {
     "name": "stderr",
     "output_type": "stream",
     "text": [
      "/home/rogertu/projects/MechRepoNet/mrn_venv/lib/python3.8/site-packages/sklearn/linear_model/_sag.py:328: ConvergenceWarning: The max_iter was reached which means the coef_ did not converge\n",
      "  warnings.warn(\"The max_iter was reached which means \"\n",
      "\n"
     ]
    },
    {
     "name": "stdout",
     "output_type": "stream",
     "text": [
      "[Pipeline] ....... (step 1 of 3) Processing transformer, total=  24.1s                                                  \n",
      "[Pipeline] ...... (step 2 of 3) Processing maxabs_scale, total=  15.7s                                                  \n",
      "[Pipeline] ............. (step 3 of 3) Processing e_net, total=14.3min                                                  \n",
      " 40%|███████████████▌                       | 20/50 [19:15:37<29:14:42, 3509.42s/trial, best loss: -0.08999650621632271]"
     ]
    },
    {
     "name": "stderr",
     "output_type": "stream",
     "text": [
      "/home/rogertu/projects/MechRepoNet/mrn_venv/lib/python3.8/site-packages/sklearn/linear_model/_sag.py:328: ConvergenceWarning: The max_iter was reached which means the coef_ did not converge\n",
      "  warnings.warn(\"The max_iter was reached which means \"\n",
      "\n"
     ]
    },
    {
     "name": "stdout",
     "output_type": "stream",
     "text": [
      "Mean AUROC: 0.7081                                                                                                      \n",
      "Mean Avg Pre: 0.0152                                                                                                    \n",
      "STD AUROC: 0.0598                                                                                                       \n",
      "STD Avg Pre: 0.0107                                                                                                     \n",
      "Loss: -0.0895                                                                                                           \n",
      "Changing w from 0.45102551172859795 to 0.5662969539314859. Please wait...                                               \n",
      " 42%|████████████████▍                      | 21/50 [19:15:44<30:54:53, 3837.70s/trial, best loss: -0.08999650621632271]"
     ]
    },
    {
     "name": "stderr",
     "output_type": "stream",
     "text": [
      "  0%|          | 0/68 [00:00<?, ?it/s]\n",
      "\u001b[A\n",
      "  1%|1         | 1/68 [00:00<00:08,  7.48it/s]\n",
      "\u001b[A\n",
      " 16%|#6        | 11/68 [00:00<00:01, 50.56it/s]\n",
      "\u001b[A\n",
      " 50%|#####     | 34/68 [00:00<00:00, 122.45it/s]\n",
      "\u001b[A\n",
      " 71%|#######   | 48/68 [00:00<00:00, 122.16it/s]\n",
      "\u001b[A\n",
      " 99%|#########8| 67/68 [00:00<00:00, 143.51it/s]\n",
      "\u001b[A\n",
      "100%|##########| 68/68 [00:00<00:00, 106.36it/s]\n"
     ]
    },
    {
     "name": "stdout",
     "output_type": "stream",
     "text": [
      "Preparing function arguments...                                                                                         \n",
      "Calculating DWPCs...                                                                                                    \n",
      " 42%|████████████████▍                      | 21/50 [19:15:50<30:54:53, 3837.70s/trial, best loss: -0.08999650621632271]"
     ]
    },
    {
     "name": "stderr",
     "output_type": "stream",
     "text": [
      "  0%|          | 0/141 [00:00<?, ?it/s]\n",
      "\u001b[A\n",
      "  1%|          | 1/141 [00:00<00:15,  8.94it/s]\n",
      "\u001b[A\n",
      "  3%|2         | 4/141 [00:00<00:06, 19.65it/s]\n",
      "\u001b[A\n",
      "  7%|7         | 10/141 [00:00<00:04, 32.27it/s]\n",
      "\u001b[A\n",
      " 10%|9         | 14/141 [00:00<00:04, 26.01it/s]\n",
      "\u001b[A\n",
      " 16%|#5        | 22/141 [00:00<00:02, 40.43it/s]\n",
      "\u001b[A\n",
      " 20%|#9        | 28/141 [00:00<00:02, 40.44it/s]\n",
      "\u001b[A\n",
      " 25%|##4       | 35/141 [00:00<00:02, 46.12it/s]\n",
      "\u001b[A\n",
      " 31%|###1      | 44/141 [00:01<00:01, 50.47it/s]\n",
      "\u001b[A\n",
      " 38%|###8      | 54/141 [00:01<00:01, 52.36it/s]\n",
      "\u001b[A\n",
      " 43%|####3     | 61/141 [00:01<00:01, 46.83it/s]\n",
      "\u001b[A\n",
      " 48%|####8     | 68/141 [00:01<00:01, 47.73it/s]\n",
      "\u001b[A\n",
      " 56%|#####6    | 79/141 [00:01<00:01, 59.38it/s]\n",
      "\u001b[A\n",
      " 61%|######    | 86/141 [00:01<00:00, 61.26it/s]\n",
      "\u001b[A\n",
      " 66%|######5   | 93/141 [00:02<00:00, 49.12it/s]\n",
      "\u001b[A\n",
      " 72%|#######2  | 102/141 [00:02<00:00, 55.48it/s]\n",
      "\u001b[A\n",
      " 77%|#######7  | 109/141 [00:02<00:00, 49.86it/s]\n",
      "\u001b[A\n",
      " 82%|########1 | 115/141 [00:02<00:00, 51.10it/s]\n",
      "\u001b[A\n",
      " 86%|########5 | 121/141 [00:02<00:00, 48.96it/s]\n",
      "\u001b[A\n",
      " 91%|######### | 128/141 [00:02<00:00, 53.08it/s]\n",
      "\u001b[A\n",
      " 95%|#########5| 134/141 [00:02<00:00, 54.21it/s]\n",
      "\u001b[A\n",
      " 95%|#########5| 134/141 [00:19<00:00, 54.21it/s]\n",
      "\u001b[A\n",
      " 98%|#########7| 138/141 [01:11<00:10,  3.54s/it]\n",
      "\u001b[A\n",
      " 99%|#########8| 139/141 [01:17<00:07,  3.69s/it]\n",
      "\u001b[A\n",
      " 99%|#########8| 139/141 [01:29<00:07,  3.69s/it]\n",
      "\u001b[A\n",
      "100%|##########| 141/141 [02:31<00:00,  9.16s/it]\n",
      "\u001b[A\n",
      "100%|##########| 141/141 [02:31<00:00,  1.07s/it]\n"
     ]
    },
    {
     "name": "stdout",
     "output_type": "stream",
     "text": [
      "                                                                                                                        \n",
      "Reshaping Result Matrices...\n",
      " 42%|████████████████▍                      | 21/50 [19:18:25<30:54:53, 3837.70s/trial, best loss: -0.08999650621632271]"
     ]
    },
    {
     "name": "stderr",
     "output_type": "stream",
     "text": [
      "  0%|          | 0/141 [00:00<?, ?it/s]\n",
      "\u001b[A\n",
      "  1%|1         | 2/141 [00:00<00:07, 18.86it/s]\n",
      "\u001b[A\n",
      "  4%|4         | 6/141 [00:00<00:05, 22.71it/s]\n",
      "\u001b[A\n",
      "  9%|9         | 13/141 [00:00<00:04, 31.37it/s]\n",
      "\u001b[A\n",
      " 12%|#2        | 17/141 [00:00<00:04, 26.37it/s]\n",
      "\u001b[A\n",
      " 16%|#5        | 22/141 [00:00<00:03, 31.65it/s]\n",
      "\u001b[A\n",
      " 19%|#9        | 27/141 [00:00<00:03, 33.91it/s]\n",
      "\u001b[A\n",
      " 22%|##1       | 31/141 [00:01<00:03, 32.99it/s]\n",
      "\u001b[A\n",
      " 27%|##6       | 38/141 [00:01<00:02, 41.18it/s]\n",
      "\u001b[A\n",
      " 32%|###1      | 45/141 [00:01<00:02, 46.68it/s]\n",
      "\u001b[A\n",
      " 35%|###5      | 50/141 [00:01<00:02, 43.90it/s]\n",
      "\u001b[A\n",
      " 40%|###9      | 56/141 [00:01<00:01, 44.44it/s]\n",
      "\u001b[A\n",
      " 45%|####4     | 63/141 [00:01<00:01, 50.67it/s]\n",
      "\u001b[A\n",
      " 50%|####9     | 70/141 [00:01<00:01, 51.81it/s]\n",
      "\u001b[A\n",
      " 54%|#####3    | 76/141 [00:01<00:01, 41.48it/s]\n",
      "\u001b[A\n",
      " 62%|######2   | 88/141 [00:02<00:00, 56.03it/s]\n",
      "\u001b[A\n",
      " 67%|######7   | 95/141 [00:02<00:00, 52.48it/s]\n",
      "\u001b[A\n",
      " 72%|#######1  | 101/141 [00:02<00:00, 45.24it/s]\n",
      "\u001b[A\n",
      " 77%|#######6  | 108/141 [00:02<00:00, 50.32it/s]\n",
      "\u001b[A\n",
      " 81%|########  | 114/141 [00:02<00:00, 49.47it/s]\n",
      "\u001b[A\n",
      " 86%|########5 | 121/141 [00:02<00:00, 54.25it/s]\n",
      "\u001b[A\n",
      " 90%|######### | 127/141 [00:02<00:00, 53.86it/s]\n",
      "\u001b[A\n",
      " 94%|#########4| 133/141 [00:02<00:00, 52.50it/s]\n",
      "\u001b[A\n",
      " 99%|#########8| 139/141 [00:03<00:00, 48.64it/s]\n",
      "\u001b[A\n",
      "100%|##########| 141/141 [00:03<00:00, 45.10it/s]\n"
     ]
    },
    {
     "name": "stdout",
     "output_type": "stream",
     "text": [
      "Stacking columns...                                                                                                     \n",
      "[Pipeline] ....... (step 1 of 3) Processing transformer, total=  23.1s                                                  \n",
      "[Pipeline] ...... (step 2 of 3) Processing maxabs_scale, total=  15.0s                                                  \n",
      "[Pipeline] ............. (step 3 of 3) Processing e_net, total=13.6min                                                  \n",
      " 42%|████████████████▍                      | 21/50 [19:32:46<30:54:53, 3837.70s/trial, best loss: -0.08999650621632271]"
     ]
    },
    {
     "name": "stderr",
     "output_type": "stream",
     "text": [
      "/home/rogertu/projects/MechRepoNet/mrn_venv/lib/python3.8/site-packages/sklearn/linear_model/_sag.py:328: ConvergenceWarning: The max_iter was reached which means the coef_ did not converge\n",
      "  warnings.warn(\"The max_iter was reached which means \"\n",
      "\n"
     ]
    },
    {
     "name": "stdout",
     "output_type": "stream",
     "text": [
      "[Pipeline] ....... (step 1 of 3) Processing transformer, total=  22.7s                                                  \n",
      "[Pipeline] ...... (step 2 of 3) Processing maxabs_scale, total=  14.4s                                                  \n",
      "[Pipeline] ............. (step 3 of 3) Processing e_net, total=13.7min                                                  \n",
      " 42%|████████████████▍                      | 21/50 [19:47:15<30:54:53, 3837.70s/trial, best loss: -0.08999650621632271]"
     ]
    },
    {
     "name": "stderr",
     "output_type": "stream",
     "text": [
      "/home/rogertu/projects/MechRepoNet/mrn_venv/lib/python3.8/site-packages/sklearn/linear_model/_sag.py:328: ConvergenceWarning: The max_iter was reached which means the coef_ did not converge\n",
      "  warnings.warn(\"The max_iter was reached which means \"\n",
      "\n"
     ]
    },
    {
     "name": "stdout",
     "output_type": "stream",
     "text": [
      "[Pipeline] ....... (step 1 of 3) Processing transformer, total=  25.6s                                                  \n",
      "[Pipeline] ...... (step 2 of 3) Processing maxabs_scale, total=  16.6s                                                  \n",
      "[Pipeline] ............. (step 3 of 3) Processing e_net, total=13.9min                                                  \n",
      " 42%|████████████████▍                      | 21/50 [20:01:58<30:54:53, 3837.70s/trial, best loss: -0.08999650621632271]"
     ]
    },
    {
     "name": "stderr",
     "output_type": "stream",
     "text": [
      "/home/rogertu/projects/MechRepoNet/mrn_venv/lib/python3.8/site-packages/sklearn/linear_model/_sag.py:328: ConvergenceWarning: The max_iter was reached which means the coef_ did not converge\n",
      "  warnings.warn(\"The max_iter was reached which means \"\n",
      "\n"
     ]
    },
    {
     "name": "stdout",
     "output_type": "stream",
     "text": [
      "[Pipeline] ....... (step 1 of 3) Processing transformer, total=  27.1s                                                  \n",
      "[Pipeline] ...... (step 2 of 3) Processing maxabs_scale, total=  17.9s                                                  \n",
      "[Pipeline] ............. (step 3 of 3) Processing e_net, total=14.2min                                                  \n",
      " 42%|████████████████▍                      | 21/50 [20:17:05<30:54:53, 3837.70s/trial, best loss: -0.08999650621632271]"
     ]
    },
    {
     "name": "stderr",
     "output_type": "stream",
     "text": [
      "/home/rogertu/projects/MechRepoNet/mrn_venv/lib/python3.8/site-packages/sklearn/linear_model/_sag.py:328: ConvergenceWarning: The max_iter was reached which means the coef_ did not converge\n",
      "  warnings.warn(\"The max_iter was reached which means \"\n",
      "\n"
     ]
    },
    {
     "name": "stdout",
     "output_type": "stream",
     "text": [
      "[Pipeline] ....... (step 1 of 3) Processing transformer, total=  24.4s                                                  \n",
      "[Pipeline] ...... (step 2 of 3) Processing maxabs_scale, total=  15.9s                                                  \n",
      "[Pipeline] ............. (step 3 of 3) Processing e_net, total=14.1min                                                  \n",
      " 42%|████████████████▍                      | 21/50 [20:31:54<30:54:53, 3837.70s/trial, best loss: -0.08999650621632271]"
     ]
    },
    {
     "name": "stderr",
     "output_type": "stream",
     "text": [
      "/home/rogertu/projects/MechRepoNet/mrn_venv/lib/python3.8/site-packages/sklearn/linear_model/_sag.py:328: ConvergenceWarning: The max_iter was reached which means the coef_ did not converge\n",
      "  warnings.warn(\"The max_iter was reached which means \"\n",
      "\n"
     ]
    },
    {
     "name": "stdout",
     "output_type": "stream",
     "text": [
      "Mean AUROC: 0.7131                                                                                                      \n",
      "Mean Avg Pre: 0.0149                                                                                                    \n",
      "STD AUROC: 0.0647                                                                                                       \n",
      "STD Avg Pre: 0.0102                                                                                                     \n",
      "Loss: -0.0897                                                                                                           \n",
      "Changing w from 0.5662969539314859 to 0.5665616931869023. Please wait...                                                \n",
      " 44%|█████████████████▏                     | 22/50 [20:32:01<31:34:27, 4059.55s/trial, best loss: -0.08999650621632271]"
     ]
    },
    {
     "name": "stderr",
     "output_type": "stream",
     "text": [
      "  0%|          | 0/68 [00:00<?, ?it/s]\n",
      "\u001b[A\n",
      "  1%|1         | 1/68 [00:00<00:08,  7.56it/s]\n",
      "\u001b[A\n",
      " 15%|#4        | 10/68 [00:00<00:01, 50.10it/s]\n",
      "\u001b[A\n",
      " 51%|#####1    | 35/68 [00:00<00:00, 132.62it/s]\n",
      "\u001b[A\n",
      " 72%|#######2  | 49/68 [00:00<00:00, 126.58it/s]\n",
      "\u001b[A\n",
      "100%|##########| 68/68 [00:00<00:00, 139.63it/s]\n",
      "\u001b[A\n",
      "100%|##########| 68/68 [00:00<00:00, 118.17it/s]\n"
     ]
    },
    {
     "name": "stdout",
     "output_type": "stream",
     "text": [
      "Preparing function arguments...                                                                                         \n",
      "Calculating DWPCs...                                                                                                    \n",
      " 44%|█████████████████▏                     | 22/50 [20:32:07<31:34:27, 4059.55s/trial, best loss: -0.08999650621632271]"
     ]
    },
    {
     "name": "stderr",
     "output_type": "stream",
     "text": [
      "  0%|          | 0/141 [00:00<?, ?it/s]\n",
      "\u001b[A\n",
      "  1%|          | 1/141 [00:00<00:15,  9.08it/s]\n",
      "\u001b[A\n",
      "  4%|3         | 5/141 [00:00<00:05, 24.43it/s]\n",
      "\u001b[A\n",
      "  6%|6         | 9/141 [00:00<00:04, 28.65it/s]\n",
      "\u001b[A\n",
      "  9%|9         | 13/141 [00:00<00:04, 31.88it/s]\n",
      "\u001b[A\n",
      " 13%|#2        | 18/141 [00:00<00:03, 37.08it/s]\n",
      "\u001b[A\n",
      " 17%|#7        | 24/141 [00:00<00:03, 37.44it/s]\n",
      "\u001b[A\n",
      " 23%|##3       | 33/141 [00:00<00:02, 47.66it/s]\n",
      "\u001b[A\n",
      " 30%|###       | 43/141 [00:00<00:01, 55.31it/s]\n",
      "\u001b[A\n",
      " 38%|###7      | 53/141 [00:01<00:01, 61.38it/s]\n",
      "\u001b[A\n",
      " 43%|####2     | 60/141 [00:01<00:01, 49.97it/s]\n",
      "\u001b[A\n",
      " 47%|####6     | 66/141 [00:01<00:01, 48.69it/s]\n",
      "\u001b[A\n",
      " 52%|#####2    | 74/141 [00:01<00:01, 55.06it/s]\n",
      "\u001b[A\n",
      " 59%|#####8    | 83/141 [00:01<00:00, 63.11it/s]\n",
      "\u001b[A\n",
      " 64%|######3   | 90/141 [00:01<00:00, 57.15it/s]\n",
      "\u001b[A\n",
      " 69%|######8   | 97/141 [00:02<00:00, 47.38it/s]\n",
      "\u001b[A\n",
      " 73%|#######3  | 103/141 [00:02<00:00, 48.39it/s]\n",
      "\u001b[A\n",
      " 77%|#######7  | 109/141 [00:02<00:00, 46.81it/s]\n",
      "\u001b[A\n",
      " 81%|########  | 114/141 [00:02<00:00, 45.76it/s]\n",
      "\u001b[A\n",
      " 87%|########6 | 122/141 [00:02<00:00, 53.53it/s]\n",
      "\u001b[A\n",
      " 91%|######### | 128/141 [00:02<00:00, 52.79it/s]\n",
      "\u001b[A\n",
      " 95%|#########5| 134/141 [00:02<00:00, 54.60it/s]\n",
      "\u001b[A\n",
      " 95%|#########5| 134/141 [00:13<00:00, 54.60it/s]\n",
      "\u001b[A\n",
      " 98%|#########7| 138/141 [01:11<00:10,  3.66s/it]\n",
      "\u001b[A\n",
      " 99%|#########8| 139/141 [01:19<00:07,  3.95s/it]\n",
      "\u001b[A\n",
      " 99%|#########8| 139/141 [01:33<00:07,  3.95s/it]\n",
      "\u001b[A\n",
      "100%|##########| 141/141 [02:32<00:00,  9.46s/it]\n",
      "\u001b[A\n",
      "100%|##########| 141/141 [02:32<00:00,  1.08s/it]\n"
     ]
    },
    {
     "name": "stdout",
     "output_type": "stream",
     "text": [
      "                                                                                                                        \n",
      "Reshaping Result Matrices...\n",
      " 44%|█████████████████▏                     | 22/50 [20:34:43<31:34:27, 4059.55s/trial, best loss: -0.08999650621632271]"
     ]
    },
    {
     "name": "stderr",
     "output_type": "stream",
     "text": [
      "  0%|          | 0/141 [00:00<?, ?it/s]\n",
      "\u001b[A\n",
      "  2%|2         | 3/141 [00:00<00:07, 18.40it/s]\n",
      "\u001b[A\n",
      "  5%|4         | 7/141 [00:00<00:04, 27.51it/s]\n",
      "\u001b[A\n",
      "  9%|9         | 13/141 [00:00<00:03, 32.74it/s]\n",
      "\u001b[A\n",
      " 12%|#2        | 17/141 [00:00<00:04, 26.86it/s]\n",
      "\u001b[A\n",
      " 16%|#5        | 22/141 [00:00<00:03, 32.17it/s]\n",
      "\u001b[A\n",
      " 19%|#9        | 27/141 [00:00<00:03, 34.52it/s]\n",
      "\u001b[A\n",
      " 22%|##1       | 31/141 [00:00<00:03, 33.27it/s]\n",
      "\u001b[A\n",
      " 27%|##6       | 38/141 [00:01<00:02, 41.53it/s]\n",
      "\u001b[A\n",
      " 31%|###1      | 44/141 [00:01<00:02, 46.19it/s]\n",
      "\u001b[A\n",
      " 35%|###5      | 50/141 [00:01<00:02, 43.70it/s]\n",
      "\u001b[A\n",
      " 40%|###9      | 56/141 [00:01<00:01, 44.03it/s]\n",
      "\u001b[A\n",
      " 45%|####4     | 63/141 [00:01<00:01, 50.26it/s]\n",
      "\u001b[A\n",
      " 50%|####9     | 70/141 [00:01<00:01, 51.30it/s]\n",
      "\u001b[A\n",
      " 54%|#####3    | 76/141 [00:01<00:01, 41.55it/s]\n",
      "\u001b[A\n",
      " 62%|######2   | 88/141 [00:02<00:00, 55.57it/s]\n",
      "\u001b[A\n",
      " 67%|######7   | 95/141 [00:02<00:00, 51.91it/s]\n",
      "\u001b[A\n",
      " 72%|#######1  | 101/141 [00:02<00:00, 45.05it/s]\n",
      "\u001b[A\n",
      " 77%|#######6  | 108/141 [00:02<00:00, 49.87it/s]\n",
      "\u001b[A\n",
      " 81%|########  | 114/141 [00:02<00:00, 48.60it/s]\n",
      "\u001b[A\n",
      " 86%|########5 | 121/141 [00:02<00:00, 53.55it/s]\n",
      "\u001b[A\n",
      " 90%|######### | 127/141 [00:02<00:00, 53.30it/s]\n",
      "\u001b[A\n",
      " 94%|#########4| 133/141 [00:02<00:00, 51.84it/s]\n",
      "\u001b[A\n",
      " 99%|#########8| 139/141 [00:03<00:00, 47.85it/s]\n",
      "\u001b[A\n",
      "100%|##########| 141/141 [00:03<00:00, 44.99it/s]\n"
     ]
    },
    {
     "name": "stdout",
     "output_type": "stream",
     "text": [
      "Stacking columns...                                                                                                     \n",
      "[Pipeline] ....... (step 1 of 3) Processing transformer, total=  23.3s                                                  \n",
      "[Pipeline] ...... (step 2 of 3) Processing maxabs_scale, total=  15.0s                                                  \n",
      "[Pipeline] ............. (step 3 of 3) Processing e_net, total=13.0min                                                  \n",
      " 44%|█████████████████▏                     | 22/50 [20:48:30<31:34:27, 4059.55s/trial, best loss: -0.08999650621632271]"
     ]
    },
    {
     "name": "stderr",
     "output_type": "stream",
     "text": [
      "/home/rogertu/projects/MechRepoNet/mrn_venv/lib/python3.8/site-packages/sklearn/linear_model/_sag.py:328: ConvergenceWarning: The max_iter was reached which means the coef_ did not converge\n",
      "  warnings.warn(\"The max_iter was reached which means \"\n",
      "\n"
     ]
    },
    {
     "name": "stdout",
     "output_type": "stream",
     "text": [
      "[Pipeline] ....... (step 1 of 3) Processing transformer, total=  22.6s                                                  \n",
      "[Pipeline] ...... (step 2 of 3) Processing maxabs_scale, total=  14.3s                                                  \n",
      "[Pipeline] ............. (step 3 of 3) Processing e_net, total=13.4min                                                  \n",
      " 44%|█████████████████▏                     | 22/50 [21:02:37<31:34:27, 4059.55s/trial, best loss: -0.08999650621632271]"
     ]
    },
    {
     "name": "stderr",
     "output_type": "stream",
     "text": [
      "/home/rogertu/projects/MechRepoNet/mrn_venv/lib/python3.8/site-packages/sklearn/linear_model/_sag.py:328: ConvergenceWarning: The max_iter was reached which means the coef_ did not converge\n",
      "  warnings.warn(\"The max_iter was reached which means \"\n",
      "\n"
     ]
    },
    {
     "name": "stdout",
     "output_type": "stream",
     "text": [
      "[Pipeline] ....... (step 1 of 3) Processing transformer, total=  25.5s                                                  \n",
      "[Pipeline] ...... (step 2 of 3) Processing maxabs_scale, total=  16.7s                                                  \n",
      "[Pipeline] ............. (step 3 of 3) Processing e_net, total=13.5min                                                  \n",
      " 44%|█████████████████▏                     | 22/50 [21:16:58<31:34:27, 4059.55s/trial, best loss: -0.08999650621632271]"
     ]
    },
    {
     "name": "stderr",
     "output_type": "stream",
     "text": [
      "/home/rogertu/projects/MechRepoNet/mrn_venv/lib/python3.8/site-packages/sklearn/linear_model/_sag.py:328: ConvergenceWarning: The max_iter was reached which means the coef_ did not converge\n",
      "  warnings.warn(\"The max_iter was reached which means \"\n",
      "\n"
     ]
    },
    {
     "name": "stdout",
     "output_type": "stream",
     "text": [
      "[Pipeline] ....... (step 1 of 3) Processing transformer, total=  26.9s                                                  \n",
      "[Pipeline] ...... (step 2 of 3) Processing maxabs_scale, total=  17.8s                                                  \n",
      "[Pipeline] ............. (step 3 of 3) Processing e_net, total=13.8min                                                  \n",
      " 44%|█████████████████▏                     | 22/50 [21:31:38<31:34:27, 4059.55s/trial, best loss: -0.08999650621632271]"
     ]
    },
    {
     "name": "stderr",
     "output_type": "stream",
     "text": [
      "/home/rogertu/projects/MechRepoNet/mrn_venv/lib/python3.8/site-packages/sklearn/linear_model/_sag.py:328: ConvergenceWarning: The max_iter was reached which means the coef_ did not converge\n",
      "  warnings.warn(\"The max_iter was reached which means \"\n",
      "\n"
     ]
    },
    {
     "name": "stdout",
     "output_type": "stream",
     "text": [
      "[Pipeline] ....... (step 1 of 3) Processing transformer, total=  24.2s                                                  \n",
      "[Pipeline] ...... (step 2 of 3) Processing maxabs_scale, total=  15.8s                                                  \n",
      "[Pipeline] ............. (step 3 of 3) Processing e_net, total=13.6min                                                  \n",
      " 44%|█████████████████▏                     | 22/50 [21:45:57<31:34:27, 4059.55s/trial, best loss: -0.08999650621632271]"
     ]
    },
    {
     "name": "stderr",
     "output_type": "stream",
     "text": [
      "/home/rogertu/projects/MechRepoNet/mrn_venv/lib/python3.8/site-packages/sklearn/linear_model/_sag.py:328: ConvergenceWarning: The max_iter was reached which means the coef_ did not converge\n",
      "  warnings.warn(\"The max_iter was reached which means \"\n",
      "\n"
     ]
    },
    {
     "name": "stdout",
     "output_type": "stream",
     "text": [
      "Mean AUROC: 0.7025                                                                                                      \n",
      "Mean Avg Pre: 0.0154                                                                                                    \n",
      "STD AUROC: 0.0841                                                                                                       \n",
      "STD Avg Pre: 0.0130                                                                                                     \n",
      "Loss: -0.0846                                                                                                           \n",
      "Changing w from 0.5665616931869023 to 0.3677914169204932. Please wait...                                                \n",
      " 46%|█████████████████▉                     | 23/50 [21:46:04<31:18:35, 4174.63s/trial, best loss: -0.08999650621632271]"
     ]
    },
    {
     "name": "stderr",
     "output_type": "stream",
     "text": [
      "  0%|          | 0/68 [00:00<?, ?it/s]\n",
      "\u001b[A\n",
      "  1%|1         | 1/68 [00:00<00:08,  7.55it/s]\n",
      "\u001b[A\n",
      " 13%|#3        | 9/68 [00:00<00:01, 44.91it/s]\n",
      "\u001b[A\n",
      " 40%|###9      | 27/68 [00:00<00:00, 98.56it/s]\n",
      "\u001b[A\n",
      " 69%|######9   | 47/68 [00:00<00:00, 127.70it/s]\n",
      "\u001b[A\n",
      " 99%|#########8| 67/68 [00:00<00:00, 146.18it/s]\n",
      "\u001b[A\n",
      "100%|##########| 68/68 [00:00<00:00, 108.81it/s]\n"
     ]
    },
    {
     "name": "stdout",
     "output_type": "stream",
     "text": [
      "Preparing function arguments...                                                                                         \n",
      "Calculating DWPCs...                                                                                                    \n",
      " 46%|█████████████████▉                     | 23/50 [21:46:10<31:18:35, 4174.63s/trial, best loss: -0.08999650621632271]"
     ]
    },
    {
     "name": "stderr",
     "output_type": "stream",
     "text": [
      "  0%|          | 0/141 [00:00<?, ?it/s]\n",
      "\u001b[A\n",
      "  1%|          | 1/141 [00:00<00:15,  9.26it/s]\n",
      "\u001b[A\n",
      "  4%|4         | 6/141 [00:00<00:05, 24.87it/s]\n",
      "\u001b[A\n",
      "  8%|7         | 11/141 [00:00<00:04, 27.19it/s]\n",
      "\u001b[A\n",
      " 11%|#1        | 16/141 [00:00<00:03, 34.04it/s]\n",
      "\u001b[A\n",
      " 16%|#5        | 22/141 [00:00<00:02, 39.90it/s]\n",
      "\u001b[A\n",
      " 20%|#9        | 28/141 [00:00<00:02, 42.77it/s]\n",
      "\u001b[A\n",
      " 24%|##4       | 34/141 [00:00<00:02, 45.40it/s]\n",
      "\u001b[A\n",
      " 30%|##9       | 42/141 [00:01<00:01, 53.27it/s]\n",
      "\u001b[A\n",
      " 35%|###5      | 50/141 [00:01<00:01, 52.61it/s]\n",
      "\u001b[A\n",
      " 40%|###9      | 56/141 [00:01<00:01, 54.26it/s]\n",
      "\u001b[A\n",
      " 44%|####3     | 62/141 [00:01<00:01, 44.65it/s]\n",
      "\u001b[A\n",
      " 48%|####8     | 68/141 [00:01<00:01, 46.53it/s]\n",
      "\u001b[A\n",
      " 53%|#####3    | 75/141 [00:01<00:01, 51.70it/s]\n",
      "\u001b[A\n",
      " 60%|######    | 85/141 [00:01<00:00, 62.05it/s]\n",
      "\u001b[A\n",
      " 65%|######5   | 92/141 [00:01<00:00, 58.29it/s]\n",
      "\u001b[A\n",
      " 70%|#######   | 99/141 [00:02<00:00, 54.02it/s]\n",
      "\u001b[A\n",
      " 74%|#######4  | 105/141 [00:02<00:00, 44.58it/s]\n",
      "\u001b[A\n",
      " 78%|#######8  | 110/141 [00:02<00:00, 44.42it/s]\n",
      "\u001b[A\n",
      " 82%|########2 | 116/141 [00:02<00:00, 47.89it/s]\n",
      "\u001b[A\n",
      " 87%|########7 | 123/141 [00:02<00:00, 49.99it/s]\n",
      "\u001b[A\n",
      " 95%|#########5| 134/141 [00:02<00:00, 49.57it/s]\n",
      "\u001b[A\n",
      " 95%|#########5| 134/141 [00:20<00:00, 49.57it/s]\n",
      "\u001b[A\n",
      " 98%|#########7| 138/141 [01:09<00:09,  3.02s/it]\n",
      "\u001b[A\n",
      " 99%|#########8| 139/141 [01:15<00:06,  3.21s/it]\n",
      "\u001b[A\n",
      " 99%|#########8| 139/141 [01:30<00:06,  3.21s/it]\n",
      "\u001b[A\n",
      "100%|##########| 141/141 [02:31<00:00,  8.34s/it]\n",
      "\u001b[A\n",
      "100%|##########| 141/141 [02:31<00:00,  1.08s/it]\n"
     ]
    },
    {
     "name": "stdout",
     "output_type": "stream",
     "text": [
      "                                                                                                                        \n",
      "Reshaping Result Matrices...\n",
      " 46%|█████████████████▉                     | 23/50 [21:48:45<31:18:35, 4174.63s/trial, best loss: -0.08999650621632271]"
     ]
    },
    {
     "name": "stderr",
     "output_type": "stream",
     "text": [
      "  0%|          | 0/141 [00:00<?, ?it/s]\n",
      "\u001b[A\n",
      "  1%|1         | 2/141 [00:00<00:07, 19.83it/s]\n",
      "\u001b[A\n",
      "  4%|4         | 6/141 [00:00<00:05, 23.43it/s]\n",
      "\u001b[A\n",
      "  9%|9         | 13/141 [00:00<00:03, 32.45it/s]\n",
      "\u001b[A\n",
      " 12%|#2        | 17/141 [00:00<00:04, 26.74it/s]\n",
      "\u001b[A\n",
      " 16%|#5        | 22/141 [00:00<00:03, 31.96it/s]\n",
      "\u001b[A\n",
      " 19%|#9        | 27/141 [00:00<00:03, 33.95it/s]\n",
      "\u001b[A\n",
      " 22%|##1       | 31/141 [00:01<00:03, 32.78it/s]\n",
      "\u001b[A\n",
      " 27%|##6       | 38/141 [00:01<00:02, 39.48it/s]\n",
      "\u001b[A\n",
      " 31%|###1      | 44/141 [00:01<00:02, 44.51it/s]\n",
      "\u001b[A\n",
      " 35%|###5      | 50/141 [00:01<00:02, 42.66it/s]\n",
      "\u001b[A\n",
      " 40%|###9      | 56/141 [00:01<00:01, 43.33it/s]\n",
      "\u001b[A\n",
      " 45%|####4     | 63/141 [00:01<00:01, 49.41it/s]\n",
      "\u001b[A\n",
      " 50%|####9     | 70/141 [00:01<00:01, 50.21it/s]\n",
      "\u001b[A\n",
      " 54%|#####3    | 76/141 [00:01<00:01, 40.64it/s]\n",
      "\u001b[A\n",
      " 62%|######1   | 87/141 [00:02<00:00, 55.76it/s]\n",
      "\u001b[A\n",
      " 67%|######6   | 94/141 [00:02<00:00, 49.35it/s]\n",
      "\u001b[A\n",
      " 71%|#######   | 100/141 [00:02<00:00, 48.50it/s]\n",
      "\u001b[A\n",
      " 76%|#######5  | 107/141 [00:02<00:00, 48.60it/s]\n",
      "\u001b[A\n",
      " 80%|########  | 113/141 [00:02<00:00, 46.59it/s]\n",
      "\u001b[A\n",
      " 86%|########5 | 121/141 [00:02<00:00, 53.68it/s]\n",
      "\u001b[A\n",
      " 90%|######### | 127/141 [00:02<00:00, 53.47it/s]\n",
      "\u001b[A\n",
      " 94%|#########4| 133/141 [00:03<00:00, 52.34it/s]\n",
      "\u001b[A\n",
      " 99%|#########8| 139/141 [00:03<00:00, 48.60it/s]\n",
      "\u001b[A\n",
      "100%|##########| 141/141 [00:03<00:00, 44.61it/s]\n"
     ]
    },
    {
     "name": "stdout",
     "output_type": "stream",
     "text": [
      "Stacking columns...                                                                                                     \n",
      "[Pipeline] ....... (step 1 of 3) Processing transformer, total=  23.1s                                                  \n",
      "[Pipeline] ...... (step 2 of 3) Processing maxabs_scale, total=  15.0s                                                  \n",
      "[Pipeline] ............. (step 3 of 3) Processing e_net, total=13.9min                                                  \n",
      " 46%|█████████████████▉                     | 23/50 [22:03:27<31:18:35, 4174.63s/trial, best loss: -0.08999650621632271]"
     ]
    },
    {
     "name": "stderr",
     "output_type": "stream",
     "text": [
      "/home/rogertu/projects/MechRepoNet/mrn_venv/lib/python3.8/site-packages/sklearn/linear_model/_sag.py:328: ConvergenceWarning: The max_iter was reached which means the coef_ did not converge\n",
      "  warnings.warn(\"The max_iter was reached which means \"\n",
      "\n"
     ]
    },
    {
     "name": "stdout",
     "output_type": "stream",
     "text": [
      "[Pipeline] ....... (step 1 of 3) Processing transformer, total=  22.6s                                                  \n",
      "[Pipeline] ...... (step 2 of 3) Processing maxabs_scale, total=  14.4s                                                  \n",
      "[Pipeline] ............. (step 3 of 3) Processing e_net, total=13.8min                                                  \n",
      " 46%|█████████████████▉                     | 23/50 [22:18:00<31:18:35, 4174.63s/trial, best loss: -0.08999650621632271]"
     ]
    },
    {
     "name": "stderr",
     "output_type": "stream",
     "text": [
      "/home/rogertu/projects/MechRepoNet/mrn_venv/lib/python3.8/site-packages/sklearn/linear_model/_sag.py:328: ConvergenceWarning: The max_iter was reached which means the coef_ did not converge\n",
      "  warnings.warn(\"The max_iter was reached which means \"\n",
      "\n"
     ]
    },
    {
     "name": "stdout",
     "output_type": "stream",
     "text": [
      "[Pipeline] ....... (step 1 of 3) Processing transformer, total=  25.6s                                                  \n",
      "[Pipeline] ...... (step 2 of 3) Processing maxabs_scale, total=  16.6s                                                  \n",
      "[Pipeline] ............. (step 3 of 3) Processing e_net, total=13.8min                                                  \n",
      " 46%|█████████████████▉                     | 23/50 [22:32:40<31:18:35, 4174.63s/trial, best loss: -0.08999650621632271]"
     ]
    },
    {
     "name": "stderr",
     "output_type": "stream",
     "text": [
      "/home/rogertu/projects/MechRepoNet/mrn_venv/lib/python3.8/site-packages/sklearn/linear_model/_sag.py:328: ConvergenceWarning: The max_iter was reached which means the coef_ did not converge\n",
      "  warnings.warn(\"The max_iter was reached which means \"\n",
      "\n"
     ]
    },
    {
     "name": "stdout",
     "output_type": "stream",
     "text": [
      "[Pipeline] ....... (step 1 of 3) Processing transformer, total=  27.0s                                                  \n",
      "[Pipeline] ...... (step 2 of 3) Processing maxabs_scale, total=  17.9s                                                  \n",
      "[Pipeline] ............. (step 3 of 3) Processing e_net, total=14.7min                                                  \n",
      " 46%|█████████████████▉                     | 23/50 [22:48:16<31:18:35, 4174.63s/trial, best loss: -0.08999650621632271]"
     ]
    },
    {
     "name": "stderr",
     "output_type": "stream",
     "text": [
      "/home/rogertu/projects/MechRepoNet/mrn_venv/lib/python3.8/site-packages/sklearn/linear_model/_sag.py:328: ConvergenceWarning: The max_iter was reached which means the coef_ did not converge\n",
      "  warnings.warn(\"The max_iter was reached which means \"\n",
      "\n"
     ]
    },
    {
     "name": "stdout",
     "output_type": "stream",
     "text": [
      "[Pipeline] ....... (step 1 of 3) Processing transformer, total=  24.4s                                                  \n",
      "[Pipeline] ...... (step 2 of 3) Processing maxabs_scale, total=  16.0s                                                  \n",
      "[Pipeline] ............. (step 3 of 3) Processing e_net, total=14.3min                                                  \n",
      " 46%|█████████████████▉                     | 23/50 [23:03:20<31:18:35, 4174.63s/trial, best loss: -0.08999650621632271]"
     ]
    },
    {
     "name": "stderr",
     "output_type": "stream",
     "text": [
      "/home/rogertu/projects/MechRepoNet/mrn_venv/lib/python3.8/site-packages/sklearn/linear_model/_sag.py:328: ConvergenceWarning: The max_iter was reached which means the coef_ did not converge\n",
      "  warnings.warn(\"The max_iter was reached which means \"\n",
      "\n"
     ]
    },
    {
     "name": "stdout",
     "output_type": "stream",
     "text": [
      "Mean AUROC: 0.7061                                                                                                      \n",
      "Mean Avg Pre: 0.0152                                                                                                    \n",
      "STD AUROC: 0.0567                                                                                                       \n",
      "STD Avg Pre: 0.0111                                                                                                     \n",
      "Loss: -0.0895                                                                                                           \n",
      "Changing w from 0.3677914169204932 to 0.011943137977429297. Please wait...                                              \n",
      " 48%|██████████████████▋                    | 24/50 [23:03:28<31:09:58, 4315.34s/trial, best loss: -0.08999650621632271]"
     ]
    },
    {
     "name": "stderr",
     "output_type": "stream",
     "text": [
      "  0%|          | 0/68 [00:00<?, ?it/s]\n",
      "\u001b[A\n",
      "  1%|1         | 1/68 [00:00<00:09,  7.43it/s]\n",
      "\u001b[A\n",
      "  4%|4         | 3/68 [00:00<00:04, 13.59it/s]\n",
      "\u001b[A\n",
      " 37%|###6      | 25/68 [00:00<00:00, 98.48it/s]\n",
      "\u001b[A\n",
      " 56%|#####5    | 38/68 [00:00<00:00, 108.43it/s]\n",
      "\u001b[A\n",
      " 90%|########9 | 61/68 [00:00<00:00, 149.10it/s]\n",
      "\u001b[A\n",
      "100%|##########| 68/68 [00:00<00:00, 108.19it/s]\n"
     ]
    },
    {
     "name": "stdout",
     "output_type": "stream",
     "text": [
      "Preparing function arguments...                                                                                         \n",
      "Calculating DWPCs...                                                                                                    \n",
      " 48%|██████████████████▋                    | 24/50 [23:03:33<31:09:58, 4315.34s/trial, best loss: -0.08999650621632271]"
     ]
    },
    {
     "name": "stderr",
     "output_type": "stream",
     "text": [
      "  0%|          | 0/141 [00:00<?, ?it/s]\n",
      "\u001b[A\n",
      "  1%|          | 1/141 [00:00<00:16,  8.75it/s]\n",
      "\u001b[A\n",
      "  4%|3         | 5/141 [00:00<00:05, 25.31it/s]\n",
      "\u001b[A\n",
      "  6%|5         | 8/141 [00:00<00:05, 25.47it/s]\n",
      "\u001b[A\n",
      "  9%|9         | 13/141 [00:00<00:04, 30.92it/s]\n",
      "\u001b[A\n",
      " 12%|#2        | 17/141 [00:00<00:03, 31.13it/s]\n",
      "\u001b[A\n",
      " 16%|#5        | 22/141 [00:00<00:03, 36.46it/s]\n",
      "\u001b[A\n",
      " 21%|##        | 29/141 [00:00<00:02, 44.98it/s]\n",
      "\u001b[A\n",
      " 25%|##4       | 35/141 [00:00<00:02, 48.16it/s]\n",
      "\u001b[A\n",
      " 29%|##9       | 41/141 [00:01<00:01, 50.15it/s]\n",
      "\u001b[A\n",
      " 35%|###5      | 50/141 [00:01<00:01, 60.61it/s]\n",
      "\u001b[A\n",
      " 40%|####      | 57/141 [00:01<00:01, 54.59it/s]\n",
      "\u001b[A\n",
      " 45%|####4     | 63/141 [00:01<00:01, 48.48it/s]\n",
      "\u001b[A\n",
      " 49%|####8     | 69/141 [00:01<00:01, 48.71it/s]\n",
      "\u001b[A\n",
      " 56%|#####6    | 79/141 [00:01<00:01, 60.85it/s]\n",
      "\u001b[A\n",
      " 61%|######    | 86/141 [00:01<00:00, 57.43it/s]\n",
      "\u001b[A\n",
      " 65%|######5   | 92/141 [00:01<00:00, 56.34it/s]\n",
      "\u001b[A\n",
      " 70%|######9   | 98/141 [00:02<00:00, 53.82it/s]\n",
      "\u001b[A\n",
      " 74%|#######3  | 104/141 [00:02<00:00, 54.29it/s]\n",
      "\u001b[A\n",
      " 78%|#######8  | 110/141 [00:02<00:00, 44.68it/s]\n",
      "\u001b[A\n",
      " 85%|########5 | 120/141 [00:02<00:00, 55.12it/s]\n",
      "\u001b[A\n",
      " 89%|########9 | 126/141 [00:02<00:00, 49.84it/s]\n",
      "\u001b[A\n",
      " 94%|#########3| 132/141 [00:02<00:00, 52.10it/s]\n",
      "\u001b[A\n",
      " 94%|#########3| 132/141 [00:16<00:00, 52.10it/s]\n",
      "\u001b[A\n",
      " 98%|#########7| 138/141 [01:11<00:09,  3.20s/it]\n",
      "\u001b[A\n",
      " 99%|#########8| 139/141 [01:20<00:07,  3.53s/it]\n",
      "\u001b[A\n",
      " 99%|#########8| 139/141 [01:36<00:07,  3.53s/it]\n",
      "\u001b[A\n",
      "100%|##########| 141/141 [02:34<00:00,  8.57s/it]\n",
      "\u001b[A\n",
      "100%|##########| 141/141 [02:34<00:00,  1.09s/it]\n"
     ]
    },
    {
     "name": "stdout",
     "output_type": "stream",
     "text": [
      "                                                                                                                        \n",
      "Reshaping Result Matrices...\n",
      " 48%|██████████████████▋                    | 24/50 [23:06:11<31:09:58, 4315.34s/trial, best loss: -0.08999650621632271]"
     ]
    },
    {
     "name": "stderr",
     "output_type": "stream",
     "text": [
      "  0%|          | 0/141 [00:00<?, ?it/s]\n",
      "\u001b[A\n",
      "  1%|1         | 2/141 [00:00<00:07, 19.80it/s]\n",
      "\u001b[A\n",
      "  4%|4         | 6/141 [00:00<00:05, 23.89it/s]\n",
      "\u001b[A\n",
      "  9%|9         | 13/141 [00:00<00:03, 32.94it/s]\n",
      "\u001b[A\n",
      " 12%|#2        | 17/141 [00:00<00:04, 27.42it/s]\n",
      "\u001b[A\n",
      " 16%|#5        | 22/141 [00:00<00:03, 32.75it/s]\n",
      "\u001b[A\n",
      " 19%|#9        | 27/141 [00:00<00:03, 34.99it/s]\n",
      "\u001b[A\n",
      " 22%|##1       | 31/141 [00:00<00:03, 33.85it/s]\n",
      "\u001b[A\n",
      " 27%|##6       | 38/141 [00:01<00:02, 42.13it/s]\n",
      "\u001b[A\n",
      " 31%|###1      | 44/141 [00:01<00:02, 46.83it/s]\n",
      "\u001b[A\n",
      " 35%|###5      | 50/141 [00:01<00:02, 44.84it/s]\n",
      "\u001b[A\n",
      " 40%|###9      | 56/141 [00:01<00:01, 45.29it/s]\n",
      "\u001b[A\n",
      " 45%|####4     | 63/141 [00:01<00:01, 51.30it/s]\n",
      "\u001b[A\n",
      " 50%|####9     | 70/141 [00:01<00:01, 52.20it/s]\n",
      "\u001b[A\n",
      " 54%|#####3    | 76/141 [00:01<00:01, 41.95it/s]\n",
      "\u001b[A\n",
      " 62%|######2   | 88/141 [00:02<00:00, 56.06it/s]\n",
      "\u001b[A\n",
      " 67%|######7   | 95/141 [00:02<00:00, 52.48it/s]\n",
      "\u001b[A\n",
      " 72%|#######1  | 101/141 [00:02<00:00, 45.32it/s]\n",
      "\u001b[A\n",
      " 77%|#######6  | 108/141 [00:02<00:00, 50.33it/s]\n",
      "\u001b[A\n",
      " 81%|########  | 114/141 [00:02<00:00, 49.17it/s]\n",
      "\u001b[A\n",
      " 87%|########6 | 122/141 [00:02<00:00, 56.38it/s]\n",
      "\u001b[A\n",
      " 91%|#########1| 129/141 [00:02<00:00, 49.93it/s]\n",
      "\u001b[A\n",
      " 96%|#########5| 135/141 [00:03<00:00, 49.08it/s]\n",
      "\u001b[A\n",
      "100%|##########| 141/141 [00:03<00:00, 45.79it/s]\n"
     ]
    },
    {
     "name": "stdout",
     "output_type": "stream",
     "text": [
      "Stacking columns...                                                                                                     \n",
      "[Pipeline] ....... (step 1 of 3) Processing transformer, total=  22.9s                                                  \n",
      "[Pipeline] ...... (step 2 of 3) Processing maxabs_scale, total=  14.9s                                                  \n",
      "[Pipeline] ............. (step 3 of 3) Processing e_net, total=14.2min                                                  \n",
      " 48%|██████████████████▋                    | 24/50 [23:21:11<31:09:58, 4315.34s/trial, best loss: -0.08999650621632271]"
     ]
    },
    {
     "name": "stderr",
     "output_type": "stream",
     "text": [
      "/home/rogertu/projects/MechRepoNet/mrn_venv/lib/python3.8/site-packages/sklearn/linear_model/_sag.py:328: ConvergenceWarning: The max_iter was reached which means the coef_ did not converge\n",
      "  warnings.warn(\"The max_iter was reached which means \"\n",
      "\n"
     ]
    },
    {
     "name": "stdout",
     "output_type": "stream",
     "text": [
      "[Pipeline] ....... (step 1 of 3) Processing transformer, total=  22.3s                                                  \n",
      "[Pipeline] ...... (step 2 of 3) Processing maxabs_scale, total=  14.3s                                                  \n",
      "[Pipeline] ............. (step 3 of 3) Processing e_net, total=14.3min                                                  \n",
      " 48%|██████████████████▋                    | 24/50 [23:36:15<31:09:58, 4315.34s/trial, best loss: -0.08999650621632271]"
     ]
    },
    {
     "name": "stderr",
     "output_type": "stream",
     "text": [
      "/home/rogertu/projects/MechRepoNet/mrn_venv/lib/python3.8/site-packages/sklearn/linear_model/_sag.py:328: ConvergenceWarning: The max_iter was reached which means the coef_ did not converge\n",
      "  warnings.warn(\"The max_iter was reached which means \"\n",
      "\n"
     ]
    },
    {
     "name": "stdout",
     "output_type": "stream",
     "text": [
      "[Pipeline] ....... (step 1 of 3) Processing transformer, total=  25.2s                                                  \n",
      "[Pipeline] ...... (step 2 of 3) Processing maxabs_scale, total=  16.6s                                                  \n",
      "[Pipeline] ............. (step 3 of 3) Processing e_net, total=14.5min                                                  \n",
      " 48%|██████████████████▋                    | 24/50 [23:51:36<31:09:58, 4315.34s/trial, best loss: -0.08999650621632271]"
     ]
    },
    {
     "name": "stderr",
     "output_type": "stream",
     "text": [
      "/home/rogertu/projects/MechRepoNet/mrn_venv/lib/python3.8/site-packages/sklearn/linear_model/_sag.py:328: ConvergenceWarning: The max_iter was reached which means the coef_ did not converge\n",
      "  warnings.warn(\"The max_iter was reached which means \"\n",
      "\n"
     ]
    },
    {
     "name": "stdout",
     "output_type": "stream",
     "text": [
      "[Pipeline] ....... (step 1 of 3) Processing transformer, total=  26.8s                                                  \n",
      "[Pipeline] ...... (step 2 of 3) Processing maxabs_scale, total=  17.8s                                                  \n",
      "[Pipeline] ............. (step 3 of 3) Processing e_net, total=14.8min                                                  \n",
      " 48%|██████████████████▋                    | 24/50 [24:07:14<31:09:58, 4315.34s/trial, best loss: -0.08999650621632271]"
     ]
    },
    {
     "name": "stderr",
     "output_type": "stream",
     "text": [
      "/home/rogertu/projects/MechRepoNet/mrn_venv/lib/python3.8/site-packages/sklearn/linear_model/_sag.py:328: ConvergenceWarning: The max_iter was reached which means the coef_ did not converge\n",
      "  warnings.warn(\"The max_iter was reached which means \"\n",
      "\n"
     ]
    },
    {
     "name": "stdout",
     "output_type": "stream",
     "text": [
      "[Pipeline] ....... (step 1 of 3) Processing transformer, total=  24.5s                                                  \n",
      "[Pipeline] ...... (step 2 of 3) Processing maxabs_scale, total=  15.9s                                                  \n",
      "[Pipeline] ............. (step 3 of 3) Processing e_net, total=14.6min                                                  \n",
      " 48%|██████████████████▋                    | 24/50 [24:22:36<31:09:58, 4315.34s/trial, best loss: -0.08999650621632271]"
     ]
    },
    {
     "name": "stderr",
     "output_type": "stream",
     "text": [
      "/home/rogertu/projects/MechRepoNet/mrn_venv/lib/python3.8/site-packages/sklearn/linear_model/_sag.py:328: ConvergenceWarning: The max_iter was reached which means the coef_ did not converge\n",
      "  warnings.warn(\"The max_iter was reached which means \"\n",
      "\n"
     ]
    },
    {
     "name": "stdout",
     "output_type": "stream",
     "text": [
      "Mean AUROC: 0.7001                                                                                                      \n",
      "Mean Avg Pre: 0.0159                                                                                                    \n",
      "STD AUROC: 0.0645                                                                                                       \n",
      "STD Avg Pre: 0.0145                                                                                                     \n",
      "Loss: -0.0873                                                                                                           \n",
      "Changing w from 0.011943137977429297 to 0.5772970361687382. Please wait...                                              \n",
      " 50%|███████████████████▌                   | 25/50 [24:22:44<30:53:07, 4447.50s/trial, best loss: -0.08999650621632271]"
     ]
    },
    {
     "name": "stderr",
     "output_type": "stream",
     "text": [
      "  0%|          | 0/68 [00:00<?, ?it/s]\n",
      "\u001b[A\n",
      "  1%|1         | 1/68 [00:00<00:08,  7.45it/s]\n",
      "\u001b[A\n",
      "  6%|5         | 4/68 [00:00<00:03, 19.06it/s]\n",
      "\u001b[A\n",
      " 40%|###9      | 27/68 [00:00<00:00, 103.34it/s]\n",
      "\u001b[A\n",
      " 60%|######    | 41/68 [00:00<00:00, 107.46it/s]\n",
      "\u001b[A\n",
      " 96%|#########5| 65/68 [00:00<00:00, 149.73it/s]\n",
      "\u001b[A\n",
      "100%|##########| 68/68 [00:00<00:00, 103.32it/s]\n"
     ]
    },
    {
     "name": "stdout",
     "output_type": "stream",
     "text": [
      "Preparing function arguments...                                                                                         \n",
      "Calculating DWPCs...                                                                                                    \n",
      " 50%|███████████████████▌                   | 25/50 [24:22:49<30:53:07, 4447.50s/trial, best loss: -0.08999650621632271]"
     ]
    },
    {
     "name": "stderr",
     "output_type": "stream",
     "text": [
      "  0%|          | 0/141 [00:00<?, ?it/s]\n",
      "\u001b[A\n",
      "  1%|          | 1/141 [00:00<00:15,  8.86it/s]\n",
      "\u001b[A\n",
      "  4%|3         | 5/141 [00:00<00:05, 23.69it/s]\n",
      "\u001b[A\n",
      "  7%|7         | 10/141 [00:00<00:03, 34.19it/s]\n",
      "\u001b[A\n",
      " 10%|9         | 14/141 [00:00<00:04, 27.99it/s]\n",
      "\u001b[A\n",
      " 14%|#4        | 20/141 [00:00<00:03, 34.93it/s]\n",
      "\u001b[A\n",
      " 17%|#7        | 24/141 [00:00<00:03, 35.47it/s]\n",
      "\u001b[A\n",
      " 23%|##3       | 33/141 [00:00<00:02, 42.39it/s]\n",
      "\u001b[A\n",
      " 32%|###1      | 45/141 [00:01<00:01, 59.98it/s]\n",
      "\u001b[A\n",
      " 38%|###7      | 53/141 [00:01<00:01, 60.21it/s]\n",
      "\u001b[A\n",
      " 43%|####2     | 60/141 [00:01<00:01, 52.71it/s]\n",
      "\u001b[A\n",
      " 47%|####6     | 66/141 [00:01<00:01, 52.26it/s]\n",
      "\u001b[A\n",
      " 51%|#####1    | 72/141 [00:01<00:01, 52.45it/s]\n",
      "\u001b[A\n",
      " 59%|#####8    | 83/141 [00:01<00:00, 66.74it/s]\n",
      "\u001b[A\n",
      " 65%|######4   | 91/141 [00:01<00:00, 55.80it/s]\n",
      "\u001b[A\n",
      " 70%|######9   | 98/141 [00:02<00:00, 49.93it/s]\n",
      "\u001b[A\n",
      " 74%|#######3  | 104/141 [00:02<00:00, 50.73it/s]\n",
      "\u001b[A\n",
      " 78%|#######8  | 110/141 [00:02<00:00, 43.93it/s]\n",
      "\u001b[A\n",
      " 86%|########5 | 121/141 [00:02<00:00, 51.54it/s]\n",
      "\u001b[A\n",
      " 91%|######### | 128/141 [00:02<00:00, 51.28it/s]\n",
      "\u001b[A\n",
      " 96%|#########5| 135/141 [00:05<00:00,  9.02it/s]\n",
      "\u001b[A\n",
      " 96%|#########5| 135/141 [00:21<00:00,  9.02it/s]\n",
      "\u001b[A\n",
      " 98%|#########7| 138/141 [01:10<00:09,  3.26s/it]\n",
      "\u001b[A\n",
      " 99%|#########8| 139/141 [01:18<00:07,  3.59s/it]\n",
      "\u001b[A\n",
      " 99%|#########8| 139/141 [01:31<00:07,  3.59s/it]\n",
      "\u001b[A\n",
      "100%|##########| 141/141 [02:31<00:00,  8.77s/it]\n",
      "\u001b[A\n",
      "100%|##########| 141/141 [02:31<00:00,  1.08s/it]\n"
     ]
    },
    {
     "name": "stdout",
     "output_type": "stream",
     "text": [
      "                                                                                                                        \n",
      "Reshaping Result Matrices...\n",
      " 50%|███████████████████▌                   | 25/50 [24:25:25<30:53:07, 4447.50s/trial, best loss: -0.08999650621632271]"
     ]
    },
    {
     "name": "stderr",
     "output_type": "stream",
     "text": [
      "  0%|          | 0/141 [00:00<?, ?it/s]\n",
      "\u001b[A\n",
      "  1%|          | 1/141 [00:00<00:16,  8.62it/s]\n",
      "\u001b[A\n",
      "  3%|2         | 4/141 [00:00<00:07, 19.25it/s]\n",
      "\u001b[A\n",
      "  6%|6         | 9/141 [00:00<00:04, 30.50it/s]\n",
      "\u001b[A\n",
      "  9%|9         | 13/141 [00:00<00:04, 29.55it/s]\n",
      "\u001b[A\n",
      " 12%|#2        | 17/141 [00:00<00:04, 25.23it/s]\n",
      "\u001b[A\n",
      " 16%|#5        | 22/141 [00:00<00:03, 31.23it/s]\n",
      "\u001b[A\n",
      " 19%|#9        | 27/141 [00:00<00:03, 33.78it/s]\n",
      "\u001b[A\n",
      " 22%|##1       | 31/141 [00:01<00:03, 32.82it/s]\n",
      "\u001b[A\n",
      " 27%|##6       | 38/141 [00:01<00:02, 41.44it/s]\n",
      "\u001b[A\n",
      " 31%|###1      | 44/141 [00:01<00:02, 46.24it/s]\n",
      "\u001b[A\n",
      " 35%|###5      | 50/141 [00:01<00:02, 43.94it/s]\n",
      "\u001b[A\n",
      " 40%|###9      | 56/141 [00:01<00:01, 44.54it/s]\n",
      "\u001b[A\n",
      " 45%|####4     | 63/141 [00:01<00:01, 50.66it/s]\n",
      "\u001b[A\n",
      " 50%|####9     | 70/141 [00:01<00:01, 51.33it/s]\n",
      "\u001b[A\n",
      " 54%|#####3    | 76/141 [00:01<00:01, 41.67it/s]\n",
      "\u001b[A\n",
      " 62%|######2   | 88/141 [00:02<00:00, 55.72it/s]\n",
      "\u001b[A\n",
      " 67%|######7   | 95/141 [00:02<00:00, 52.22it/s]\n",
      "\u001b[A\n",
      " 72%|#######1  | 101/141 [00:02<00:00, 45.06it/s]\n",
      "\u001b[A\n",
      " 77%|#######6  | 108/141 [00:02<00:00, 50.03it/s]\n",
      "\u001b[A\n",
      " 81%|########  | 114/141 [00:02<00:00, 49.12it/s]\n",
      "\u001b[A\n",
      " 86%|########5 | 121/141 [00:02<00:00, 54.06it/s]\n",
      "\u001b[A\n",
      " 90%|######### | 127/141 [00:02<00:00, 53.43it/s]\n",
      "\u001b[A\n",
      " 94%|#########4| 133/141 [00:03<00:00, 51.35it/s]\n",
      "\u001b[A\n",
      " 99%|#########8| 139/141 [00:03<00:00, 48.10it/s]\n",
      "\u001b[A\n",
      "100%|##########| 141/141 [00:03<00:00, 44.46it/s]\n"
     ]
    },
    {
     "name": "stdout",
     "output_type": "stream",
     "text": [
      "Stacking columns...                                                                                                     \n",
      "[Pipeline] ....... (step 1 of 3) Processing transformer, total=  23.0s                                                  \n",
      "[Pipeline] ...... (step 2 of 3) Processing maxabs_scale, total=  14.8s                                                  \n",
      "[Pipeline] ............. (step 3 of 3) Processing e_net, total=13.7min                                                  \n",
      " 50%|███████████████████▌                   | 25/50 [24:39:55<30:53:07, 4447.50s/trial, best loss: -0.08999650621632271]"
     ]
    },
    {
     "name": "stderr",
     "output_type": "stream",
     "text": [
      "/home/rogertu/projects/MechRepoNet/mrn_venv/lib/python3.8/site-packages/sklearn/linear_model/_sag.py:328: ConvergenceWarning: The max_iter was reached which means the coef_ did not converge\n",
      "  warnings.warn(\"The max_iter was reached which means \"\n",
      "\n"
     ]
    },
    {
     "name": "stdout",
     "output_type": "stream",
     "text": [
      "[Pipeline] ....... (step 1 of 3) Processing transformer, total=  22.5s                                                  \n",
      "[Pipeline] ...... (step 2 of 3) Processing maxabs_scale, total=  14.3s                                                  \n",
      "[Pipeline] ............. (step 3 of 3) Processing e_net, total=13.8min                                                  \n",
      " 50%|███████████████████▌                   | 25/50 [24:54:26<30:53:07, 4447.50s/trial, best loss: -0.08999650621632271]"
     ]
    },
    {
     "name": "stderr",
     "output_type": "stream",
     "text": [
      "/home/rogertu/projects/MechRepoNet/mrn_venv/lib/python3.8/site-packages/sklearn/linear_model/_sag.py:328: ConvergenceWarning: The max_iter was reached which means the coef_ did not converge\n",
      "  warnings.warn(\"The max_iter was reached which means \"\n",
      "\n"
     ]
    },
    {
     "name": "stdout",
     "output_type": "stream",
     "text": [
      "[Pipeline] ....... (step 1 of 3) Processing transformer, total=  25.5s                                                  \n",
      "[Pipeline] ...... (step 2 of 3) Processing maxabs_scale, total=  16.6s                                                  \n",
      "[Pipeline] ............. (step 3 of 3) Processing e_net, total=14.2min                                                  \n",
      " 50%|███████████████████▌                   | 25/50 [25:09:27<30:53:07, 4447.50s/trial, best loss: -0.08999650621632271]"
     ]
    },
    {
     "name": "stderr",
     "output_type": "stream",
     "text": [
      "/home/rogertu/projects/MechRepoNet/mrn_venv/lib/python3.8/site-packages/sklearn/linear_model/_sag.py:328: ConvergenceWarning: The max_iter was reached which means the coef_ did not converge\n",
      "  warnings.warn(\"The max_iter was reached which means \"\n",
      "\n"
     ]
    },
    {
     "name": "stdout",
     "output_type": "stream",
     "text": [
      "[Pipeline] ....... (step 1 of 3) Processing transformer, total=  26.9s                                                  \n",
      "[Pipeline] ...... (step 2 of 3) Processing maxabs_scale, total=  17.7s                                                  \n",
      "[Pipeline] ............. (step 3 of 3) Processing e_net, total=14.5min                                                  \n",
      " 50%|███████████████████▌                   | 25/50 [25:24:51<30:53:07, 4447.50s/trial, best loss: -0.08999650621632271]"
     ]
    },
    {
     "name": "stderr",
     "output_type": "stream",
     "text": [
      "/home/rogertu/projects/MechRepoNet/mrn_venv/lib/python3.8/site-packages/sklearn/linear_model/_sag.py:328: ConvergenceWarning: The max_iter was reached which means the coef_ did not converge\n",
      "  warnings.warn(\"The max_iter was reached which means \"\n",
      "\n"
     ]
    },
    {
     "name": "stdout",
     "output_type": "stream",
     "text": [
      "[Pipeline] ....... (step 1 of 3) Processing transformer, total=  24.1s                                                  \n",
      "[Pipeline] ...... (step 2 of 3) Processing maxabs_scale, total=  15.7s                                                  \n",
      "[Pipeline] ............. (step 3 of 3) Processing e_net, total=14.3min                                                  \n",
      " 50%|███████████████████▌                   | 25/50 [25:39:54<30:53:07, 4447.50s/trial, best loss: -0.08999650621632271]"
     ]
    },
    {
     "name": "stderr",
     "output_type": "stream",
     "text": [
      "/home/rogertu/projects/MechRepoNet/mrn_venv/lib/python3.8/site-packages/sklearn/linear_model/_sag.py:328: ConvergenceWarning: The max_iter was reached which means the coef_ did not converge\n",
      "  warnings.warn(\"The max_iter was reached which means \"\n",
      "\n"
     ]
    },
    {
     "name": "stdout",
     "output_type": "stream",
     "text": [
      "Mean AUROC: 0.7121                                                                                                      \n",
      "Mean Avg Pre: 0.0145                                                                                                    \n",
      "STD AUROC: 0.0582                                                                                                       \n",
      "STD Avg Pre: 0.0093                                                                                                     \n",
      "Loss: -0.0900                                                                                                           \n",
      "Changing w from 0.5772970361687382 to 0.9831038338926064. Please wait...                                                \n",
      " 52%|████████████████████▊                   | 26/50 [25:40:02<30:01:53, 4504.73s/trial, best loss: -0.0900033600934903]"
     ]
    },
    {
     "name": "stderr",
     "output_type": "stream",
     "text": [
      "  0%|          | 0/68 [00:00<?, ?it/s]\n",
      "\u001b[A\n",
      "  1%|1         | 1/68 [00:00<00:09,  7.13it/s]\n",
      "\u001b[A\n",
      " 16%|#6        | 11/68 [00:00<00:01, 52.77it/s]\n",
      "\u001b[A\n",
      " 43%|####2     | 29/68 [00:00<00:00, 103.98it/s]\n",
      "\u001b[A\n",
      " 65%|######4   | 44/68 [00:00<00:00, 114.34it/s]\n",
      "\u001b[A\n",
      " 96%|#########5| 65/68 [00:00<00:00, 144.66it/s]\n",
      "\u001b[A\n",
      "100%|##########| 68/68 [00:00<00:00, 106.19it/s]\n"
     ]
    },
    {
     "name": "stdout",
     "output_type": "stream",
     "text": [
      "Preparing function arguments...                                                                                         \n",
      "Calculating DWPCs...                                                                                                    \n",
      " 52%|████████████████████▊                   | 26/50 [25:40:07<30:01:53, 4504.73s/trial, best loss: -0.0900033600934903]"
     ]
    },
    {
     "name": "stderr",
     "output_type": "stream",
     "text": [
      "  0%|          | 0/141 [00:00<?, ?it/s]\n",
      "\u001b[A\n",
      "  1%|          | 1/141 [00:00<00:15,  8.91it/s]\n",
      "\u001b[A\n",
      "  5%|4         | 7/141 [00:00<00:04, 27.97it/s]\n",
      "\u001b[A\n",
      "  8%|7         | 11/141 [00:00<00:04, 29.84it/s]\n",
      "\u001b[A\n",
      " 11%|#         | 15/141 [00:00<00:04, 27.99it/s]\n",
      "\u001b[A\n",
      " 16%|#5        | 22/141 [00:00<00:03, 39.02it/s]\n",
      "\u001b[A\n",
      " 20%|#9        | 28/141 [00:00<00:02, 43.03it/s]\n",
      "\u001b[A\n",
      " 24%|##4       | 34/141 [00:00<00:02, 43.60it/s]\n",
      "\u001b[A\n",
      " 31%|###1      | 44/141 [00:01<00:01, 53.94it/s]\n",
      "\u001b[A\n",
      " 37%|###6      | 52/141 [00:01<00:01, 60.51it/s]\n",
      "\u001b[A\n",
      " 42%|####1     | 59/141 [00:01<00:01, 49.49it/s]\n",
      "\u001b[A\n",
      " 46%|####6     | 65/141 [00:01<00:01, 45.92it/s]\n",
      "\u001b[A\n",
      " 53%|#####3    | 75/141 [00:01<00:01, 56.73it/s]\n",
      "\u001b[A\n",
      " 60%|######    | 85/141 [00:01<00:01, 54.50it/s]\n",
      "\u001b[A\n",
      " 65%|######5   | 92/141 [00:01<00:00, 54.50it/s]\n",
      "\u001b[A\n",
      " 70%|######9   | 98/141 [00:02<00:00, 54.42it/s]\n",
      "\u001b[A\n",
      " 74%|#######3  | 104/141 [00:02<00:00, 51.66it/s]\n",
      "\u001b[A\n",
      " 78%|#######8  | 110/141 [00:02<00:00, 44.85it/s]\n",
      "\u001b[A\n",
      " 84%|########4 | 119/141 [00:02<00:00, 54.90it/s]\n",
      "\u001b[A\n",
      " 89%|########8 | 125/141 [00:02<00:00, 50.62it/s]\n",
      "\u001b[A\n",
      " 95%|#########5| 134/141 [00:02<00:00, 54.67it/s]\n",
      "\u001b[A\n",
      " 95%|#########5| 134/141 [00:13<00:00, 54.67it/s]\n",
      "\u001b[A\n",
      " 98%|#########7| 138/141 [01:12<00:09,  3.24s/it]\n",
      "\u001b[A\n",
      " 99%|#########8| 139/141 [01:19<00:06,  3.44s/it]\n",
      "\u001b[A\n",
      " 99%|#########8| 139/141 [01:33<00:06,  3.44s/it]\n",
      "\u001b[A\n",
      "100%|##########| 141/141 [02:38<00:00,  8.85s/it]\n",
      "\u001b[A\n",
      "100%|##########| 141/141 [02:38<00:00,  1.12s/it]\n"
     ]
    },
    {
     "name": "stdout",
     "output_type": "stream",
     "text": [
      "                                                                                                                        \n",
      "Reshaping Result Matrices...\n",
      " 52%|████████████████████▊                   | 26/50 [25:42:49<30:01:53, 4504.73s/trial, best loss: -0.0900033600934903]"
     ]
    },
    {
     "name": "stderr",
     "output_type": "stream",
     "text": [
      "  0%|          | 0/141 [00:00<?, ?it/s]\n",
      "\u001b[A\n",
      "  1%|1         | 2/141 [00:00<00:07, 19.55it/s]\n",
      "\u001b[A\n",
      "  4%|4         | 6/141 [00:00<00:05, 23.30it/s]\n",
      "\u001b[A\n",
      "  9%|9         | 13/141 [00:00<00:03, 32.17it/s]\n",
      "\u001b[A\n",
      " 12%|#2        | 17/141 [00:00<00:04, 26.70it/s]\n",
      "\u001b[A\n",
      " 16%|#5        | 22/141 [00:00<00:03, 31.88it/s]\n",
      "\u001b[A\n",
      " 19%|#9        | 27/141 [00:00<00:03, 34.00it/s]\n",
      "\u001b[A\n",
      " 22%|##1       | 31/141 [00:01<00:03, 32.87it/s]\n",
      "\u001b[A\n",
      " 27%|##6       | 38/141 [00:01<00:02, 41.07it/s]\n",
      "\u001b[A\n",
      " 31%|###1      | 44/141 [00:01<00:02, 45.74it/s]\n",
      "\u001b[A\n",
      " 35%|###5      | 50/141 [00:01<00:02, 43.18it/s]\n",
      "\u001b[A\n",
      " 40%|###9      | 56/141 [00:01<00:01, 44.02it/s]\n",
      "\u001b[A\n",
      " 45%|####4     | 63/141 [00:01<00:01, 50.04it/s]\n",
      "\u001b[A\n",
      " 50%|####9     | 70/141 [00:01<00:01, 50.75it/s]\n",
      "\u001b[A\n",
      " 54%|#####3    | 76/141 [00:01<00:01, 40.90it/s]\n",
      "\u001b[A\n",
      " 62%|######2   | 88/141 [00:02<00:00, 55.12it/s]\n",
      "\u001b[A\n",
      " 67%|######6   | 94/141 [00:02<00:00, 50.04it/s]\n",
      "\u001b[A\n",
      " 71%|#######   | 100/141 [00:02<00:00, 49.04it/s]\n",
      "\u001b[A\n",
      " 76%|#######5  | 107/141 [00:02<00:00, 49.07it/s]\n",
      "\u001b[A\n",
      " 80%|########  | 113/141 [00:02<00:00, 46.56it/s]\n",
      "\u001b[A\n",
      " 86%|########5 | 121/141 [00:02<00:00, 53.81it/s]\n",
      "\u001b[A\n",
      " 90%|######### | 127/141 [00:02<00:00, 53.52it/s]\n",
      "\u001b[A\n",
      " 94%|#########4| 133/141 [00:02<00:00, 52.11it/s]\n",
      "\u001b[A\n",
      " 99%|#########8| 139/141 [00:03<00:00, 48.31it/s]\n",
      "\u001b[A\n",
      "100%|##########| 141/141 [00:03<00:00, 44.83it/s]\n"
     ]
    },
    {
     "name": "stdout",
     "output_type": "stream",
     "text": [
      "Stacking columns...                                                                                                     \n",
      "[Pipeline] ....... (step 1 of 3) Processing transformer, total=  23.5s                                                  \n",
      "[Pipeline] ...... (step 2 of 3) Processing maxabs_scale, total=  15.1s                                                  \n",
      "[Pipeline] ............. (step 3 of 3) Processing e_net, total= 1.7min                                                  \n",
      "[Pipeline] ....... (step 1 of 3) Processing transformer, total=  22.7s                                                  \n",
      "[Pipeline] ...... (step 2 of 3) Processing maxabs_scale, total=  14.4s                                                  \n",
      "[Pipeline] ............. (step 3 of 3) Processing e_net, total= 1.7min                                                  \n",
      "[Pipeline] ....... (step 1 of 3) Processing transformer, total=  25.6s                                                  \n",
      "[Pipeline] ...... (step 2 of 3) Processing maxabs_scale, total=  16.8s                                                  \n",
      "[Pipeline] ............. (step 3 of 3) Processing e_net, total= 1.8min                                                  \n",
      "[Pipeline] ....... (step 1 of 3) Processing transformer, total=  27.1s                                                  \n",
      "[Pipeline] ...... (step 2 of 3) Processing maxabs_scale, total=  17.8s                                                  \n",
      "[Pipeline] ............. (step 3 of 3) Processing e_net, total= 1.8min                                                  \n",
      "[Pipeline] ....... (step 1 of 3) Processing transformer, total=  24.5s                                                  \n",
      "[Pipeline] ...... (step 2 of 3) Processing maxabs_scale, total=  15.8s                                                  \n",
      "[Pipeline] ............. (step 3 of 3) Processing e_net, total= 2.0min                                                  \n",
      "Mean AUROC: 0.6969                                                                                                      \n",
      "Mean Avg Pre: 0.0113                                                                                                    \n",
      "STD AUROC: 0.0695                                                                                                       \n",
      "STD Avg Pre: 0.0048                                                                                                     \n",
      "Loss: -0.0818                                                                                                           \n",
      "Changing w from 0.9831038338926064 to 0.5634420221686834. Please wait...                                                \n",
      " 54%|█████████████████████▌                  | 27/50 [25:56:00<21:58:56, 3440.71s/trial, best loss: -0.0900033600934903]"
     ]
    },
    {
     "name": "stderr",
     "output_type": "stream",
     "text": [
      "  0%|          | 0/68 [00:00<?, ?it/s]\n",
      "\u001b[A\n",
      "  1%|1         | 1/68 [00:00<00:08,  7.72it/s]\n",
      "\u001b[A\n",
      " 15%|#4        | 10/68 [00:00<00:01, 50.81it/s]\n",
      "\u001b[A\n",
      " 40%|###9      | 27/68 [00:00<00:00, 100.93it/s]\n",
      "\u001b[A\n",
      " 60%|######    | 41/68 [00:00<00:00, 115.11it/s]\n",
      "\u001b[A\n",
      " 94%|#########4| 64/68 [00:00<00:00, 154.82it/s]\n",
      "\u001b[A\n",
      "100%|##########| 68/68 [00:00<00:00, 111.24it/s]\n"
     ]
    },
    {
     "name": "stdout",
     "output_type": "stream",
     "text": [
      "Preparing function arguments...                                                                                         \n",
      "Calculating DWPCs...                                                                                                    \n",
      " 54%|█████████████████████▌                  | 27/50 [25:56:05<21:58:56, 3440.71s/trial, best loss: -0.0900033600934903]"
     ]
    },
    {
     "name": "stderr",
     "output_type": "stream",
     "text": [
      "  0%|          | 0/141 [00:00<?, ?it/s]\n",
      "\u001b[A\n",
      "  1%|          | 1/141 [00:00<00:15,  9.04it/s]\n",
      "\u001b[A\n",
      "  4%|3         | 5/141 [00:00<00:05, 24.91it/s]\n",
      "\u001b[A\n",
      "  8%|7         | 11/141 [00:00<00:04, 27.04it/s]\n",
      "\u001b[A\n",
      " 10%|9         | 14/141 [00:00<00:04, 26.41it/s]\n",
      "\u001b[A\n",
      " 16%|#5        | 22/141 [00:00<00:03, 38.78it/s]\n",
      "\u001b[A\n",
      " 20%|#9        | 28/141 [00:00<00:02, 42.85it/s]\n",
      "\u001b[A\n",
      " 23%|##3       | 33/141 [00:00<00:02, 41.49it/s]\n",
      "\u001b[A\n",
      " 30%|##9       | 42/141 [00:01<00:02, 48.63it/s]\n",
      "\u001b[A\n",
      " 38%|###8      | 54/141 [00:01<00:01, 54.70it/s]\n",
      "\u001b[A\n",
      " 43%|####2     | 60/141 [00:01<00:01, 53.93it/s]\n",
      "\u001b[A\n",
      " 47%|####6     | 66/141 [00:01<00:01, 52.23it/s]\n",
      "\u001b[A\n",
      " 51%|#####1    | 72/141 [00:01<00:01, 51.11it/s]\n",
      "\u001b[A\n",
      " 56%|#####6    | 79/141 [00:01<00:01, 54.49it/s]\n",
      "\u001b[A\n",
      " 62%|######1   | 87/141 [00:01<00:00, 60.39it/s]\n",
      "\u001b[A\n",
      " 67%|######6   | 94/141 [00:02<00:00, 51.07it/s]\n",
      "\u001b[A\n",
      " 72%|#######1  | 101/141 [00:02<00:00, 53.09it/s]\n",
      "\u001b[A\n",
      " 76%|#######5  | 107/141 [00:02<00:00, 40.72it/s]\n",
      "\u001b[A\n",
      " 81%|########  | 114/141 [00:02<00:00, 45.25it/s]\n",
      "\u001b[A\n",
      " 87%|########7 | 123/141 [00:02<00:00, 54.86it/s]\n",
      "\u001b[A\n",
      " 92%|#########2| 130/141 [00:02<00:00, 56.15it/s]\n",
      "\u001b[A\n",
      " 97%|#########7| 137/141 [00:10<00:01,  2.83it/s]\n",
      "\u001b[A\n",
      " 97%|#########7| 137/141 [00:25<00:01,  2.83it/s]\n",
      "\u001b[A\n",
      " 98%|#########7| 138/141 [00:55<00:08,  2.85s/it]\n",
      "\u001b[A\n",
      " 99%|#########8| 139/141 [01:00<00:05,  2.97s/it]\n",
      "\u001b[A\n",
      " 99%|#########8| 139/141 [01:15<00:05,  2.97s/it]\n",
      "\u001b[A\n",
      "100%|##########| 141/141 [02:20<00:00,  9.46s/it]\n",
      "\u001b[A\n",
      "100%|##########| 141/141 [02:20<00:00,  1.00it/s]\n"
     ]
    },
    {
     "name": "stdout",
     "output_type": "stream",
     "text": [
      "                                                                                                                        \n",
      "Reshaping Result Matrices...\n",
      " 54%|█████████████████████▌                  | 27/50 [25:58:30<21:58:56, 3440.71s/trial, best loss: -0.0900033600934903]"
     ]
    },
    {
     "name": "stderr",
     "output_type": "stream",
     "text": [
      "  0%|          | 0/141 [00:00<?, ?it/s]\n",
      "\u001b[A\n",
      "  2%|2         | 3/141 [00:00<00:07, 18.02it/s]\n",
      "\u001b[A\n",
      "  5%|4         | 7/141 [00:00<00:04, 27.36it/s]\n",
      "\u001b[A\n",
      "  9%|9         | 13/141 [00:00<00:03, 32.43it/s]\n",
      "\u001b[A\n",
      " 12%|#2        | 17/141 [00:00<00:04, 27.07it/s]\n",
      "\u001b[A\n",
      " 16%|#5        | 22/141 [00:00<00:03, 32.60it/s]\n",
      "\u001b[A\n",
      " 19%|#9        | 27/141 [00:00<00:03, 35.30it/s]\n",
      "\u001b[A\n",
      " 22%|##1       | 31/141 [00:00<00:03, 34.12it/s]\n",
      "\u001b[A\n",
      " 27%|##6       | 38/141 [00:01<00:02, 42.86it/s]\n",
      "\u001b[A\n",
      " 32%|###1      | 45/141 [00:01<00:01, 48.12it/s]\n",
      "\u001b[A\n",
      " 36%|###6      | 51/141 [00:01<00:01, 46.69it/s]\n",
      "\u001b[A\n",
      " 40%|###9      | 56/141 [00:01<00:01, 44.30it/s]\n",
      "\u001b[A\n",
      " 45%|####4     | 63/141 [00:01<00:01, 50.57it/s]\n",
      "\u001b[A\n",
      " 50%|####9     | 70/141 [00:01<00:01, 51.43it/s]\n",
      "\u001b[A\n",
      " 54%|#####3    | 76/141 [00:01<00:01, 41.66it/s]\n",
      "\u001b[A\n",
      " 62%|######2   | 88/141 [00:02<00:00, 55.89it/s]\n",
      "\u001b[A\n",
      " 67%|######7   | 95/141 [00:02<00:00, 52.41it/s]\n",
      "\u001b[A\n",
      " 72%|#######1  | 101/141 [00:02<00:00, 45.39it/s]\n",
      "\u001b[A\n",
      " 77%|#######6  | 108/141 [00:02<00:00, 50.46it/s]\n",
      "\u001b[A\n",
      " 81%|########  | 114/141 [00:02<00:00, 49.63it/s]\n",
      "\u001b[A\n",
      " 87%|########7 | 123/141 [00:02<00:00, 57.15it/s]\n",
      "\u001b[A\n",
      " 92%|#########2| 130/141 [00:02<00:00, 52.12it/s]\n",
      "\u001b[A\n",
      " 96%|#########6| 136/141 [00:03<00:00, 48.94it/s]\n",
      "\u001b[A\n",
      "100%|##########| 141/141 [00:03<00:00, 45.82it/s]\n"
     ]
    },
    {
     "name": "stdout",
     "output_type": "stream",
     "text": [
      "Stacking columns...                                                                                                     \n",
      "[Pipeline] ....... (step 1 of 3) Processing transformer, total=  23.0s                                                  \n",
      "[Pipeline] ...... (step 2 of 3) Processing maxabs_scale, total=  14.9s                                                  \n",
      "[Pipeline] ............. (step 3 of 3) Processing e_net, total=14.4min                                                  \n",
      " 54%|█████████████████████▌                  | 27/50 [26:13:43<21:58:56, 3440.71s/trial, best loss: -0.0900033600934903]"
     ]
    },
    {
     "name": "stderr",
     "output_type": "stream",
     "text": [
      "/home/rogertu/projects/MechRepoNet/mrn_venv/lib/python3.8/site-packages/sklearn/linear_model/_sag.py:328: ConvergenceWarning: The max_iter was reached which means the coef_ did not converge\n",
      "  warnings.warn(\"The max_iter was reached which means \"\n",
      "\n"
     ]
    },
    {
     "name": "stdout",
     "output_type": "stream",
     "text": [
      "[Pipeline] ....... (step 1 of 3) Processing transformer, total=  22.6s                                                  \n",
      "[Pipeline] ...... (step 2 of 3) Processing maxabs_scale, total=  14.4s                                                  \n",
      "[Pipeline] ............. (step 3 of 3) Processing e_net, total=14.5min                                                  \n",
      " 54%|█████████████████████▌                  | 27/50 [26:29:00<21:58:56, 3440.71s/trial, best loss: -0.0900033600934903]"
     ]
    },
    {
     "name": "stderr",
     "output_type": "stream",
     "text": [
      "/home/rogertu/projects/MechRepoNet/mrn_venv/lib/python3.8/site-packages/sklearn/linear_model/_sag.py:328: ConvergenceWarning: The max_iter was reached which means the coef_ did not converge\n",
      "  warnings.warn(\"The max_iter was reached which means \"\n",
      "\n"
     ]
    },
    {
     "name": "stdout",
     "output_type": "stream",
     "text": [
      "[Pipeline] ....... (step 1 of 3) Processing transformer, total=  25.7s                                                  \n",
      "[Pipeline] ...... (step 2 of 3) Processing maxabs_scale, total=  16.7s                                                  \n",
      "[Pipeline] ............. (step 3 of 3) Processing e_net, total=15.0min                                                  \n",
      " 54%|█████████████████████▌                  | 27/50 [26:44:50<21:58:56, 3440.71s/trial, best loss: -0.0900033600934903]"
     ]
    },
    {
     "name": "stderr",
     "output_type": "stream",
     "text": [
      "/home/rogertu/projects/MechRepoNet/mrn_venv/lib/python3.8/site-packages/sklearn/linear_model/_sag.py:328: ConvergenceWarning: The max_iter was reached which means the coef_ did not converge\n",
      "  warnings.warn(\"The max_iter was reached which means \"\n",
      "\n"
     ]
    },
    {
     "name": "stdout",
     "output_type": "stream",
     "text": [
      "[Pipeline] ....... (step 1 of 3) Processing transformer, total=  27.0s                                                  \n",
      "[Pipeline] ...... (step 2 of 3) Processing maxabs_scale, total=  17.7s                                                  \n",
      "[Pipeline] ............. (step 3 of 3) Processing e_net, total=15.1min                                                  \n",
      " 54%|█████████████████████▌                  | 27/50 [27:00:47<21:58:56, 3440.71s/trial, best loss: -0.0900033600934903]"
     ]
    },
    {
     "name": "stderr",
     "output_type": "stream",
     "text": [
      "/home/rogertu/projects/MechRepoNet/mrn_venv/lib/python3.8/site-packages/sklearn/linear_model/_sag.py:328: ConvergenceWarning: The max_iter was reached which means the coef_ did not converge\n",
      "  warnings.warn(\"The max_iter was reached which means \"\n",
      "\n"
     ]
    },
    {
     "name": "stdout",
     "output_type": "stream",
     "text": [
      "[Pipeline] ....... (step 1 of 3) Processing transformer, total=  24.2s                                                  \n",
      "[Pipeline] ...... (step 2 of 3) Processing maxabs_scale, total=  15.8s                                                  \n",
      "[Pipeline] ............. (step 3 of 3) Processing e_net, total=14.9min                                                  \n",
      " 54%|█████████████████████▌                  | 27/50 [27:16:27<21:58:56, 3440.71s/trial, best loss: -0.0900033600934903]"
     ]
    },
    {
     "name": "stderr",
     "output_type": "stream",
     "text": [
      "/home/rogertu/projects/MechRepoNet/mrn_venv/lib/python3.8/site-packages/sklearn/linear_model/_sag.py:328: ConvergenceWarning: The max_iter was reached which means the coef_ did not converge\n",
      "  warnings.warn(\"The max_iter was reached which means \"\n",
      "\n"
     ]
    },
    {
     "name": "stdout",
     "output_type": "stream",
     "text": [
      "Mean AUROC: 0.7082                                                                                                      \n",
      "Mean Avg Pre: 0.0138                                                                                                    \n",
      "STD AUROC: 0.0521                                                                                                       \n",
      "STD Avg Pre: 0.0083                                                                                                     \n",
      "Loss: -0.0894                                                                                                           \n",
      "Changing w from 0.5634420221686834 to 0.3762234645853422. Please wait...                                                \n",
      " 56%|██████████████████████▍                 | 28/50 [27:16:35<23:34:56, 3858.95s/trial, best loss: -0.0900033600934903]"
     ]
    },
    {
     "name": "stderr",
     "output_type": "stream",
     "text": [
      "  0%|          | 0/68 [00:00<?, ?it/s]\n",
      "\u001b[A\n",
      "  1%|1         | 1/68 [00:00<00:09,  6.98it/s]\n",
      "\u001b[A\n",
      "  6%|5         | 4/68 [00:00<00:03, 17.98it/s]\n",
      "\u001b[A\n",
      " 44%|####4     | 30/68 [00:00<00:00, 116.43it/s]\n",
      "\u001b[A\n",
      " 68%|######7   | 46/68 [00:00<00:00, 131.42it/s]\n",
      "\u001b[A\n",
      " 88%|########8 | 60/68 [00:00<00:00, 133.03it/s]\n",
      "\u001b[A\n",
      "100%|##########| 68/68 [00:00<00:00, 101.52it/s]\n"
     ]
    },
    {
     "name": "stdout",
     "output_type": "stream",
     "text": [
      "Preparing function arguments...                                                                                         \n",
      "Calculating DWPCs...                                                                                                    \n",
      " 56%|██████████████████████▍                 | 28/50 [27:16:40<23:34:56, 3858.95s/trial, best loss: -0.0900033600934903]"
     ]
    },
    {
     "name": "stderr",
     "output_type": "stream",
     "text": [
      "  0%|          | 0/141 [00:00<?, ?it/s]\n",
      "\u001b[A\n",
      "  1%|          | 1/141 [00:00<00:15,  8.78it/s]\n",
      "\u001b[A\n",
      "  4%|3         | 5/141 [00:00<00:05, 24.66it/s]\n",
      "\u001b[A\n",
      "  7%|7         | 10/141 [00:00<00:04, 32.11it/s]\n",
      "\u001b[A\n",
      " 10%|9         | 14/141 [00:00<00:04, 27.08it/s]\n",
      "\u001b[A\n",
      " 15%|#4        | 21/141 [00:00<00:03, 37.67it/s]\n",
      "\u001b[A\n",
      " 18%|#8        | 26/141 [00:00<00:02, 40.65it/s]\n",
      "\u001b[A\n",
      " 23%|##3       | 33/141 [00:00<00:02, 45.91it/s]\n",
      "\u001b[A\n",
      " 28%|##7       | 39/141 [00:00<00:02, 49.45it/s]\n",
      "\u001b[A\n",
      " 35%|###4      | 49/141 [00:01<00:01, 60.09it/s]\n",
      "\u001b[A\n",
      " 40%|###9      | 56/141 [00:01<00:01, 57.81it/s]\n",
      "\u001b[A\n",
      " 44%|####3     | 62/141 [00:01<00:01, 45.46it/s]\n",
      "\u001b[A\n",
      " 48%|####8     | 68/141 [00:01<00:01, 46.01it/s]\n",
      "\u001b[A\n",
      " 55%|#####5    | 78/141 [00:01<00:01, 57.65it/s]\n",
      "\u001b[A\n",
      " 60%|######    | 85/141 [00:01<00:00, 57.75it/s]\n",
      "\u001b[A\n",
      " 65%|######5   | 92/141 [00:01<00:00, 52.18it/s]\n",
      "\u001b[A\n",
      " 72%|#######2  | 102/141 [00:02<00:00, 56.08it/s]\n",
      "\u001b[A\n",
      " 77%|#######6  | 108/141 [00:02<00:00, 48.45it/s]\n",
      "\u001b[A\n",
      " 82%|########1 | 115/141 [00:02<00:00, 52.94it/s]\n",
      "\u001b[A\n",
      " 86%|########5 | 121/141 [00:02<00:00, 51.01it/s]\n",
      "\u001b[A\n",
      " 90%|######### | 127/141 [00:02<00:00, 52.69it/s]\n",
      "\u001b[A\n",
      " 96%|#########5| 135/141 [00:05<00:00,  8.43it/s]\n",
      "\u001b[A\n",
      " 96%|#########5| 135/141 [00:20<00:00,  8.43it/s]\n",
      "\u001b[A\n",
      " 98%|#########7| 138/141 [01:13<00:10,  3.63s/it]\n",
      "\u001b[A\n",
      " 99%|#########8| 139/141 [01:18<00:07,  3.68s/it]\n",
      "\u001b[A\n",
      " 99%|#########8| 139/141 [01:30<00:07,  3.68s/it]\n",
      "\u001b[A\n",
      "100%|##########| 141/141 [02:36<00:00,  9.52s/it]\n",
      "\u001b[A\n",
      "100%|##########| 141/141 [02:36<00:00,  1.11s/it]\n"
     ]
    },
    {
     "name": "stdout",
     "output_type": "stream",
     "text": [
      "                                                                                                                        \n",
      "Reshaping Result Matrices...\n",
      " 56%|██████████████████████▍                 | 28/50 [27:19:21<23:34:56, 3858.95s/trial, best loss: -0.0900033600934903]"
     ]
    },
    {
     "name": "stderr",
     "output_type": "stream",
     "text": [
      "  0%|          | 0/141 [00:00<?, ?it/s]\n",
      "\u001b[A\n",
      "  1%|1         | 2/141 [00:00<00:07, 19.63it/s]\n",
      "\u001b[A\n",
      "  4%|4         | 6/141 [00:00<00:05, 23.37it/s]\n",
      "\u001b[A\n",
      "  9%|9         | 13/141 [00:00<00:04, 32.00it/s]\n",
      "\u001b[A\n",
      " 12%|#2        | 17/141 [00:00<00:04, 26.56it/s]\n",
      "\u001b[A\n",
      " 16%|#5        | 22/141 [00:00<00:03, 31.75it/s]\n",
      "\u001b[A\n",
      " 19%|#9        | 27/141 [00:00<00:03, 34.00it/s]\n",
      "\u001b[A\n",
      " 22%|##1       | 31/141 [00:01<00:03, 32.90it/s]\n",
      "\u001b[A\n",
      " 27%|##6       | 38/141 [00:01<00:02, 41.37it/s]\n",
      "\u001b[A\n",
      " 31%|###1      | 44/141 [00:01<00:02, 46.04it/s]\n",
      "\u001b[A\n",
      " 35%|###5      | 50/141 [00:01<00:02, 43.43it/s]\n",
      "\u001b[A\n",
      " 40%|###9      | 56/141 [00:01<00:01, 43.93it/s]\n",
      "\u001b[A\n",
      " 45%|####4     | 63/141 [00:01<00:01, 49.95it/s]\n",
      "\u001b[A\n",
      " 50%|####9     | 70/141 [00:01<00:01, 50.77it/s]\n",
      "\u001b[A\n",
      " 54%|#####3    | 76/141 [00:01<00:01, 40.90it/s]\n",
      "\u001b[A\n",
      " 62%|######2   | 88/141 [00:02<00:00, 54.85it/s]\n",
      "\u001b[A\n",
      " 67%|######6   | 94/141 [00:02<00:00, 49.40it/s]\n",
      "\u001b[A\n",
      " 71%|#######   | 100/141 [00:02<00:00, 48.05it/s]\n",
      "\u001b[A\n",
      " 75%|#######5  | 106/141 [00:02<00:00, 50.75it/s]\n",
      "\u001b[A\n",
      " 79%|#######9  | 112/141 [00:02<00:00, 44.02it/s]\n",
      "\u001b[A\n",
      " 85%|########5 | 120/141 [00:02<00:00, 51.81it/s]\n",
      "\u001b[A\n",
      " 90%|######### | 127/141 [00:02<00:00, 53.29it/s]\n",
      "\u001b[A\n",
      " 94%|#########4| 133/141 [00:03<00:00, 52.16it/s]\n",
      "\u001b[A\n",
      " 99%|#########8| 139/141 [00:03<00:00, 48.47it/s]\n",
      "\u001b[A\n",
      "100%|##########| 141/141 [00:03<00:00, 44.66it/s]\n"
     ]
    },
    {
     "name": "stdout",
     "output_type": "stream",
     "text": [
      "Stacking columns...                                                                                                     \n",
      "[Pipeline] ....... (step 1 of 3) Processing transformer, total=  23.1s                                                  \n",
      "[Pipeline] ...... (step 2 of 3) Processing maxabs_scale, total=  15.0s                                                  \n",
      "[Pipeline] ............. (step 3 of 3) Processing e_net, total=14.5min                                                  \n",
      " 56%|██████████████████████▍                 | 28/50 [27:34:40<23:34:56, 3858.95s/trial, best loss: -0.0900033600934903]"
     ]
    },
    {
     "name": "stderr",
     "output_type": "stream",
     "text": [
      "/home/rogertu/projects/MechRepoNet/mrn_venv/lib/python3.8/site-packages/sklearn/linear_model/_sag.py:328: ConvergenceWarning: The max_iter was reached which means the coef_ did not converge\n",
      "  warnings.warn(\"The max_iter was reached which means \"\n",
      "\n"
     ]
    },
    {
     "name": "stdout",
     "output_type": "stream",
     "text": [
      "[Pipeline] ....... (step 1 of 3) Processing transformer, total=  22.4s                                                  \n",
      "[Pipeline] ...... (step 2 of 3) Processing maxabs_scale, total=  14.3s                                                  \n",
      "[Pipeline] ............. (step 3 of 3) Processing e_net, total=14.6min                                                  \n",
      " 56%|██████████████████████▍                 | 28/50 [27:50:03<23:34:56, 3858.95s/trial, best loss: -0.0900033600934903]"
     ]
    },
    {
     "name": "stderr",
     "output_type": "stream",
     "text": [
      "/home/rogertu/projects/MechRepoNet/mrn_venv/lib/python3.8/site-packages/sklearn/linear_model/_sag.py:328: ConvergenceWarning: The max_iter was reached which means the coef_ did not converge\n",
      "  warnings.warn(\"The max_iter was reached which means \"\n",
      "\n"
     ]
    },
    {
     "name": "stdout",
     "output_type": "stream",
     "text": [
      "[Pipeline] ....... (step 1 of 3) Processing transformer, total=  25.5s                                                  \n",
      "[Pipeline] ...... (step 2 of 3) Processing maxabs_scale, total=  16.7s                                                  \n",
      "[Pipeline] ............. (step 3 of 3) Processing e_net, total=15.1min                                                  \n",
      " 56%|██████████████████████▍                 | 28/50 [28:05:59<23:34:56, 3858.95s/trial, best loss: -0.0900033600934903]"
     ]
    },
    {
     "name": "stderr",
     "output_type": "stream",
     "text": [
      "/home/rogertu/projects/MechRepoNet/mrn_venv/lib/python3.8/site-packages/sklearn/linear_model/_sag.py:328: ConvergenceWarning: The max_iter was reached which means the coef_ did not converge\n",
      "  warnings.warn(\"The max_iter was reached which means \"\n",
      "\n"
     ]
    },
    {
     "name": "stdout",
     "output_type": "stream",
     "text": [
      "[Pipeline] ....... (step 1 of 3) Processing transformer, total=  26.9s                                                  \n",
      "[Pipeline] ...... (step 2 of 3) Processing maxabs_scale, total=  17.8s                                                  \n",
      "[Pipeline] ............. (step 3 of 3) Processing e_net, total=15.0min                                                  \n",
      " 56%|██████████████████████▍                 | 28/50 [28:21:53<23:34:56, 3858.95s/trial, best loss: -0.0900033600934903]"
     ]
    },
    {
     "name": "stderr",
     "output_type": "stream",
     "text": [
      "/home/rogertu/projects/MechRepoNet/mrn_venv/lib/python3.8/site-packages/sklearn/linear_model/_sag.py:328: ConvergenceWarning: The max_iter was reached which means the coef_ did not converge\n",
      "  warnings.warn(\"The max_iter was reached which means \"\n",
      "\n"
     ]
    },
    {
     "name": "stdout",
     "output_type": "stream",
     "text": [
      "[Pipeline] ....... (step 1 of 3) Processing transformer, total=  24.5s                                                  \n",
      "[Pipeline] ...... (step 2 of 3) Processing maxabs_scale, total=  15.8s                                                  \n",
      "[Pipeline] ............. (step 3 of 3) Processing e_net, total=14.9min                                                  \n",
      " 56%|██████████████████████▍                 | 28/50 [28:37:32<23:34:56, 3858.95s/trial, best loss: -0.0900033600934903]"
     ]
    },
    {
     "name": "stderr",
     "output_type": "stream",
     "text": [
      "/home/rogertu/projects/MechRepoNet/mrn_venv/lib/python3.8/site-packages/sklearn/linear_model/_sag.py:328: ConvergenceWarning: The max_iter was reached which means the coef_ did not converge\n",
      "  warnings.warn(\"The max_iter was reached which means \"\n",
      "\n"
     ]
    },
    {
     "name": "stdout",
     "output_type": "stream",
     "text": [
      "Mean AUROC: 0.7068                                                                                                      \n",
      "Mean Avg Pre: 0.0148                                                                                                    \n",
      "STD AUROC: 0.0536                                                                                                       \n",
      "STD Avg Pre: 0.0103                                                                                                     \n",
      "Loss: -0.0897                                                                                                           \n",
      "Changing w from 0.3762234645853422 to 0.6195740297261203. Please wait...                                                \n",
      " 58%|███████████████████████▏                | 29/50 [28:37:40<24:16:14, 4160.71s/trial, best loss: -0.0900033600934903]"
     ]
    },
    {
     "name": "stderr",
     "output_type": "stream",
     "text": [
      "  0%|          | 0/68 [00:00<?, ?it/s]\n",
      "\u001b[A\n",
      "  1%|1         | 1/68 [00:00<00:08,  7.57it/s]\n",
      "\u001b[A\n",
      " 12%|#1        | 8/68 [00:00<00:01, 39.72it/s]\n",
      "\u001b[A\n",
      " 49%|####8     | 33/68 [00:00<00:00, 125.30it/s]\n",
      "\u001b[A\n",
      " 71%|#######   | 48/68 [00:00<00:00, 132.58it/s]\n",
      "\u001b[A\n",
      " 94%|#########4| 64/68 [00:00<00:00, 141.18it/s]\n",
      "\u001b[A\n",
      "100%|##########| 68/68 [00:00<00:00, 104.64it/s]\n"
     ]
    },
    {
     "name": "stdout",
     "output_type": "stream",
     "text": [
      "Preparing function arguments...                                                                                         \n",
      "Calculating DWPCs...                                                                                                    \n",
      " 58%|███████████████████████▏                | 29/50 [28:37:45<24:16:14, 4160.71s/trial, best loss: -0.0900033600934903]"
     ]
    },
    {
     "name": "stderr",
     "output_type": "stream",
     "text": [
      "  0%|          | 0/141 [00:00<?, ?it/s]\n",
      "\u001b[A\n",
      "  1%|          | 1/141 [00:00<00:16,  8.54it/s]\n",
      "\u001b[A\n",
      "  4%|4         | 6/141 [00:00<00:05, 24.30it/s]\n",
      "\u001b[A\n",
      "  7%|7         | 10/141 [00:00<00:04, 29.86it/s]\n",
      "\u001b[A\n",
      " 10%|9         | 14/141 [00:00<00:04, 28.99it/s]\n",
      "\u001b[A\n",
      " 12%|#2        | 17/141 [00:00<00:04, 27.39it/s]\n",
      "\u001b[A\n",
      " 18%|#7        | 25/141 [00:00<00:03, 38.59it/s]\n",
      "\u001b[A\n",
      " 22%|##1       | 31/141 [00:00<00:02, 44.07it/s]\n",
      "\u001b[A\n",
      " 27%|##6       | 38/141 [00:00<00:02, 50.83it/s]\n",
      "\u001b[A\n",
      " 34%|###4      | 48/141 [00:01<00:01, 64.63it/s]\n",
      "\u001b[A\n",
      " 39%|###9      | 55/141 [00:01<00:01, 54.60it/s]\n",
      "\u001b[A\n",
      " 43%|####3     | 61/141 [00:01<00:01, 48.56it/s]\n",
      "\u001b[A\n",
      " 48%|####7     | 67/141 [00:01<00:01, 46.47it/s]\n",
      "\u001b[A\n",
      " 52%|#####1    | 73/141 [00:01<00:01, 49.61it/s]\n",
      "\u001b[A\n",
      " 60%|######    | 85/141 [00:01<00:00, 61.82it/s]\n",
      "\u001b[A\n",
      " 65%|######5   | 92/141 [00:01<00:00, 55.17it/s]\n",
      "\u001b[A\n",
      " 70%|######9   | 98/141 [00:02<00:00, 47.97it/s]\n",
      "\u001b[A\n",
      " 74%|#######3  | 104/141 [00:02<00:00, 49.52it/s]\n",
      "\u001b[A\n",
      " 78%|#######8  | 110/141 [00:02<00:00, 40.47it/s]\n",
      "\u001b[A\n",
      " 85%|########5 | 120/141 [00:02<00:00, 50.15it/s]\n",
      "\u001b[A\n",
      " 89%|########9 | 126/141 [00:02<00:00, 48.09it/s]\n",
      "\u001b[A\n",
      " 96%|#########5| 135/141 [00:05<00:00,  8.97it/s]\n",
      "\u001b[A\n",
      " 96%|#########5| 135/141 [00:15<00:00,  8.97it/s]\n",
      "\u001b[A\n",
      " 98%|#########7| 138/141 [01:10<00:09,  3.23s/it]\n",
      "\u001b[A\n",
      " 99%|#########8| 139/141 [01:20<00:07,  3.61s/it]\n",
      "\u001b[A\n",
      " 99%|#########8| 139/141 [01:35<00:07,  3.61s/it]\n",
      "\u001b[A\n",
      "100%|##########| 141/141 [02:32<00:00,  8.61s/it]\n",
      "\u001b[A\n",
      "100%|##########| 141/141 [02:32<00:00,  1.08s/it]\n"
     ]
    },
    {
     "name": "stdout",
     "output_type": "stream",
     "text": [
      "                                                                                                                        \n",
      "Reshaping Result Matrices...\n",
      " 58%|███████████████████████▏                | 29/50 [28:40:21<24:16:14, 4160.71s/trial, best loss: -0.0900033600934903]"
     ]
    },
    {
     "name": "stderr",
     "output_type": "stream",
     "text": [
      "  0%|          | 0/141 [00:00<?, ?it/s]\n",
      "\u001b[A\n",
      "  1%|1         | 2/141 [00:00<00:07, 19.70it/s]\n",
      "\u001b[A\n",
      "  4%|4         | 6/141 [00:00<00:05, 23.09it/s]\n",
      "\u001b[A\n",
      "  9%|9         | 13/141 [00:00<00:04, 31.85it/s]\n",
      "\u001b[A\n",
      " 12%|#2        | 17/141 [00:00<00:04, 26.59it/s]\n",
      "\u001b[A\n",
      " 16%|#5        | 22/141 [00:00<00:03, 31.96it/s]\n",
      "\u001b[A\n",
      " 19%|#9        | 27/141 [00:00<00:03, 34.61it/s]\n",
      "\u001b[A\n",
      " 22%|##1       | 31/141 [00:00<00:03, 33.51it/s]\n",
      "\u001b[A\n",
      " 27%|##6       | 38/141 [00:01<00:02, 41.99it/s]\n",
      "\u001b[A\n",
      " 32%|###1      | 45/141 [00:01<00:02, 47.24it/s]\n",
      "\u001b[A\n",
      " 35%|###5      | 50/141 [00:01<00:02, 44.37it/s]\n",
      "\u001b[A\n",
      " 40%|###9      | 56/141 [00:01<00:01, 44.77it/s]\n",
      "\u001b[A\n",
      " 45%|####4     | 63/141 [00:01<00:01, 50.96it/s]\n",
      "\u001b[A\n",
      " 50%|####9     | 70/141 [00:01<00:01, 52.37it/s]\n",
      "\u001b[A\n",
      " 54%|#####3    | 76/141 [00:01<00:01, 42.04it/s]\n",
      "\u001b[A\n",
      " 62%|######2   | 88/141 [00:02<00:00, 56.26it/s]\n",
      "\u001b[A\n",
      " 67%|######7   | 95/141 [00:02<00:00, 52.75it/s]\n",
      "\u001b[A\n",
      " 72%|#######1  | 101/141 [00:02<00:00, 45.85it/s]\n",
      "\u001b[A\n",
      " 77%|#######6  | 108/141 [00:02<00:00, 50.76it/s]\n",
      "\u001b[A\n",
      " 81%|########  | 114/141 [00:02<00:00, 49.86it/s]\n",
      "\u001b[A\n",
      " 86%|########5 | 121/141 [00:02<00:00, 54.66it/s]\n",
      "\u001b[A\n",
      " 90%|######### | 127/141 [00:02<00:00, 54.57it/s]\n",
      "\u001b[A\n",
      " 94%|#########4| 133/141 [00:02<00:00, 53.59it/s]\n",
      "\u001b[A\n",
      " 99%|#########8| 139/141 [00:03<00:00, 49.70it/s]\n",
      "\u001b[A\n",
      "100%|##########| 141/141 [00:03<00:00, 45.69it/s]\n"
     ]
    },
    {
     "name": "stdout",
     "output_type": "stream",
     "text": [
      "Stacking columns...                                                                                                     \n",
      "[Pipeline] ....... (step 1 of 3) Processing transformer, total=  22.8s                                                  \n",
      "[Pipeline] ...... (step 2 of 3) Processing maxabs_scale, total=  14.7s                                                  \n",
      "[Pipeline] ............. (step 3 of 3) Processing e_net, total=12.1min                                                  \n",
      " 58%|███████████████████████▏                | 29/50 [28:53:16<24:16:14, 4160.71s/trial, best loss: -0.0900033600934903]"
     ]
    },
    {
     "name": "stderr",
     "output_type": "stream",
     "text": [
      "/home/rogertu/projects/MechRepoNet/mrn_venv/lib/python3.8/site-packages/sklearn/linear_model/_sag.py:328: ConvergenceWarning: The max_iter was reached which means the coef_ did not converge\n",
      "  warnings.warn(\"The max_iter was reached which means \"\n",
      "\n"
     ]
    },
    {
     "name": "stdout",
     "output_type": "stream",
     "text": [
      "[Pipeline] ....... (step 1 of 3) Processing transformer, total=  22.2s                                                  \n",
      "[Pipeline] ...... (step 2 of 3) Processing maxabs_scale, total=  14.1s                                                  \n",
      "[Pipeline] ............. (step 3 of 3) Processing e_net, total=12.6min                                                  \n",
      " 58%|███████████████████████▏                | 29/50 [29:06:35<24:16:14, 4160.71s/trial, best loss: -0.0900033600934903]"
     ]
    },
    {
     "name": "stderr",
     "output_type": "stream",
     "text": [
      "/home/rogertu/projects/MechRepoNet/mrn_venv/lib/python3.8/site-packages/sklearn/linear_model/_sag.py:328: ConvergenceWarning: The max_iter was reached which means the coef_ did not converge\n",
      "  warnings.warn(\"The max_iter was reached which means \"\n",
      "\n"
     ]
    },
    {
     "name": "stdout",
     "output_type": "stream",
     "text": [
      "[Pipeline] ....... (step 1 of 3) Processing transformer, total=  25.2s                                                  \n",
      "[Pipeline] ...... (step 2 of 3) Processing maxabs_scale, total=  16.6s                                                  \n",
      "[Pipeline] ............. (step 3 of 3) Processing e_net, total=12.9min                                                  \n",
      " 58%|███████████████████████▏                | 29/50 [29:20:23<24:16:14, 4160.71s/trial, best loss: -0.0900033600934903]"
     ]
    },
    {
     "name": "stderr",
     "output_type": "stream",
     "text": [
      "/home/rogertu/projects/MechRepoNet/mrn_venv/lib/python3.8/site-packages/sklearn/linear_model/_sag.py:328: ConvergenceWarning: The max_iter was reached which means the coef_ did not converge\n",
      "  warnings.warn(\"The max_iter was reached which means \"\n",
      "\n"
     ]
    },
    {
     "name": "stdout",
     "output_type": "stream",
     "text": [
      "[Pipeline] ....... (step 1 of 3) Processing transformer, total=  48.9s                                                  \n",
      "[Pipeline] ...... (step 2 of 3) Processing maxabs_scale, total=  22.8s                                                  \n",
      "[Pipeline] ............. (step 3 of 3) Processing e_net, total=13.0min                                                  \n",
      " 58%|███████████████████████▏                | 29/50 [29:34:42<24:16:14, 4160.71s/trial, best loss: -0.0900033600934903]"
     ]
    },
    {
     "name": "stderr",
     "output_type": "stream",
     "text": [
      "/home/rogertu/projects/MechRepoNet/mrn_venv/lib/python3.8/site-packages/sklearn/linear_model/_sag.py:328: ConvergenceWarning: The max_iter was reached which means the coef_ did not converge\n",
      "  warnings.warn(\"The max_iter was reached which means \"\n",
      "\n"
     ]
    },
    {
     "name": "stdout",
     "output_type": "stream",
     "text": [
      "[Pipeline] ....... (step 1 of 3) Processing transformer, total=  46.0s                                                  \n",
      "[Pipeline] ...... (step 2 of 3) Processing maxabs_scale, total=  23.4s                                                  \n",
      "[Pipeline] ............. (step 3 of 3) Processing e_net, total=13.2min                                                  \n",
      " 58%|███████████████████████▏                | 29/50 [29:49:08<24:16:14, 4160.71s/trial, best loss: -0.0900033600934903]"
     ]
    },
    {
     "name": "stderr",
     "output_type": "stream",
     "text": [
      "/home/rogertu/projects/MechRepoNet/mrn_venv/lib/python3.8/site-packages/sklearn/linear_model/_sag.py:328: ConvergenceWarning: The max_iter was reached which means the coef_ did not converge\n",
      "  warnings.warn(\"The max_iter was reached which means \"\n",
      "\n"
     ]
    },
    {
     "name": "stdout",
     "output_type": "stream",
     "text": [
      "Mean AUROC: 0.6998                                                                                                      \n",
      "Mean Avg Pre: 0.0141                                                                                                    \n",
      "STD AUROC: 0.0852                                                                                                       \n",
      "STD Avg Pre: 0.0115                                                                                                     \n",
      "Loss: -0.0825                                                                                                           \n",
      "Changing w from 0.6195740297261203 to 0.7587410762906655. Please wait...                                                \n",
      " 60%|████████████████████████                | 30/50 [29:49:17<23:20:35, 4201.78s/trial, best loss: -0.0900033600934903]"
     ]
    },
    {
     "name": "stderr",
     "output_type": "stream",
     "text": [
      "  0%|          | 0/68 [00:00<?, ?it/s]\n",
      "\u001b[A\n",
      "  1%|1         | 1/68 [00:00<00:07,  8.70it/s]\n",
      "\u001b[A\n",
      " 18%|#7        | 12/68 [00:00<00:00, 58.40it/s]\n",
      "\u001b[A\n",
      " 34%|###3      | 23/68 [00:00<00:00, 76.20it/s]\n",
      "\u001b[A\n",
      " 54%|#####4    | 37/68 [00:00<00:00, 58.16it/s]\n",
      "\u001b[A\n",
      " 72%|#######2  | 49/68 [00:00<00:00, 71.96it/s]\n",
      "\u001b[A\n",
      " 85%|########5 | 58/68 [00:00<00:00, 59.71it/s]\n",
      "\u001b[A\n",
      " 99%|#########8| 67/68 [00:01<00:00, 64.59it/s]\n",
      "\u001b[A\n",
      "100%|##########| 68/68 [00:01<00:00, 58.47it/s]\n"
     ]
    },
    {
     "name": "stdout",
     "output_type": "stream",
     "text": [
      "Preparing function arguments...                                                                                         \n",
      "Calculating DWPCs...                                                                                                    \n",
      " 60%|████████████████████████                | 30/50 [29:49:23<23:20:35, 4201.78s/trial, best loss: -0.0900033600934903]"
     ]
    },
    {
     "name": "stderr",
     "output_type": "stream",
     "text": [
      "  0%|          | 0/141 [00:00<?, ?it/s]\n",
      "\u001b[A\n",
      "  1%|          | 1/141 [00:00<00:15,  8.95it/s]\n",
      "\u001b[A\n",
      "  4%|3         | 5/141 [00:00<00:05, 25.45it/s]\n",
      "\u001b[A\n",
      "  6%|5         | 8/141 [00:00<00:06, 21.92it/s]\n",
      "\u001b[A\n",
      "  8%|7         | 11/141 [00:00<00:05, 24.44it/s]\n",
      "\u001b[A\n",
      " 10%|9         | 14/141 [00:00<00:08, 14.66it/s]\n",
      "\u001b[A\n",
      " 11%|#1        | 16/141 [00:01<00:12, 10.07it/s]\n",
      "\u001b[A\n",
      " 13%|#2        | 18/141 [00:01<00:11, 10.71it/s]\n",
      "\u001b[A\n",
      " 16%|#5        | 22/141 [00:01<00:07, 15.49it/s]\n",
      "\u001b[A\n",
      " 18%|#7        | 25/141 [00:01<00:10, 10.92it/s]\n",
      "\u001b[A\n",
      " 19%|#9        | 27/141 [00:02<00:14,  8.00it/s]\n",
      "\u001b[A\n",
      " 21%|##1       | 30/141 [00:02<00:11,  9.67it/s]\n",
      "\u001b[A\n",
      " 23%|##2       | 32/141 [00:02<00:11,  9.54it/s]\n",
      "\u001b[A\n",
      " 26%|##6       | 37/141 [00:02<00:07, 14.78it/s]\n",
      "\u001b[A\n",
      " 29%|##9       | 41/141 [00:03<00:05, 18.85it/s]\n",
      "\u001b[A\n",
      " 31%|###1      | 44/141 [00:03<00:06, 15.63it/s]\n",
      "\u001b[A\n",
      " 33%|###3      | 47/141 [00:03<00:05, 17.20it/s]\n",
      "\u001b[A\n",
      " 36%|###6      | 51/141 [00:03<00:04, 18.42it/s]\n",
      "\u001b[A\n",
      " 39%|###9      | 55/141 [00:03<00:03, 21.94it/s]\n",
      "\u001b[A\n",
      " 42%|####1     | 59/141 [00:03<00:03, 25.10it/s]\n",
      "\u001b[A\n",
      " 44%|####3     | 62/141 [00:03<00:03, 22.78it/s]\n",
      "\u001b[A\n",
      " 46%|####6     | 65/141 [00:04<00:03, 23.36it/s]\n",
      "\u001b[A\n",
      " 48%|####8     | 68/141 [00:04<00:03, 23.87it/s]\n",
      "\u001b[A\n",
      " 50%|#####     | 71/141 [00:04<00:03, 21.72it/s]\n",
      "\u001b[A\n",
      " 52%|#####2    | 74/141 [00:04<00:03, 17.93it/s]\n",
      "\u001b[A\n",
      " 54%|#####3    | 76/141 [00:04<00:03, 18.02it/s]\n",
      "\u001b[A\n",
      " 55%|#####5    | 78/141 [00:04<00:03, 16.80it/s]\n",
      "\u001b[A\n",
      " 57%|#####7    | 81/141 [00:05<00:03, 18.82it/s]\n",
      "\u001b[A\n",
      " 59%|#####8    | 83/141 [00:05<00:03, 17.08it/s]\n",
      "\u001b[A\n",
      " 61%|######    | 86/141 [00:05<00:03, 14.01it/s]\n",
      "\u001b[A\n",
      " 65%|######4   | 91/141 [00:05<00:02, 18.73it/s]\n",
      "\u001b[A\n",
      " 67%|######6   | 94/141 [00:05<00:03, 15.56it/s]\n",
      "\u001b[A\n",
      " 71%|#######   | 100/141 [00:06<00:02, 20.00it/s]\n",
      "\u001b[A\n",
      " 73%|#######3  | 103/141 [00:06<00:02, 13.82it/s]\n",
      "\u001b[A\n",
      " 74%|#######4  | 105/141 [00:06<00:02, 12.54it/s]\n",
      "\u001b[A\n",
      " 76%|#######5  | 107/141 [00:06<00:02, 12.40it/s]\n",
      "\u001b[A\n",
      " 79%|#######8  | 111/141 [00:07<00:02, 14.21it/s]\n",
      "\u001b[A\n",
      " 82%|########2 | 116/141 [00:07<00:01, 19.14it/s]\n",
      "\u001b[A\n",
      " 86%|########5 | 121/141 [00:07<00:01, 17.12it/s]\n",
      "\u001b[A\n",
      " 88%|########7 | 124/141 [00:07<00:00, 17.07it/s]\n",
      "\u001b[A\n",
      " 89%|########9 | 126/141 [00:07<00:00, 16.34it/s]\n",
      "\u001b[A\n",
      " 96%|#########5| 135/141 [00:13<00:02,  2.67it/s]\n",
      "\u001b[A\n",
      " 97%|#########7| 137/141 [00:24<00:04,  1.11s/it]\n",
      "\u001b[A\n",
      " 98%|#########7| 138/141 [01:58<00:29,  9.97s/it]\n",
      "\u001b[A\n",
      " 99%|#########8| 139/141 [02:09<00:20, 10.08s/it]\n",
      "\u001b[A\n",
      " 99%|#########9| 140/141 [02:16<00:09,  9.60s/it]\n",
      "\u001b[A\n",
      "100%|##########| 141/141 [03:38<00:00, 22.09s/it]\n",
      "\u001b[A\n",
      "100%|##########| 141/141 [03:38<00:00,  1.55s/it]\n"
     ]
    },
    {
     "name": "stdout",
     "output_type": "stream",
     "text": [
      "                                                                                                                        \n",
      "Reshaping Result Matrices...\n",
      " 60%|████████████████████████                | 30/50 [29:53:05<23:20:35, 4201.78s/trial, best loss: -0.0900033600934903]"
     ]
    },
    {
     "name": "stderr",
     "output_type": "stream",
     "text": [
      "  0%|          | 0/141 [00:00<?, ?it/s]\n",
      "\u001b[A\n",
      "  1%|1         | 2/141 [00:00<00:07, 18.25it/s]\n",
      "\u001b[A\n",
      "  4%|4         | 6/141 [00:00<00:06, 22.04it/s]\n",
      "\u001b[A\n",
      "  9%|9         | 13/141 [00:00<00:04, 30.36it/s]\n",
      "\u001b[A\n",
      " 12%|#2        | 17/141 [00:00<00:04, 25.09it/s]\n",
      "\u001b[A\n",
      " 14%|#4        | 20/141 [00:00<00:04, 26.01it/s]\n",
      "\u001b[A\n",
      " 19%|#9        | 27/141 [00:00<00:03, 33.22it/s]\n",
      "\u001b[A\n",
      " 22%|##1       | 31/141 [00:01<00:03, 31.73it/s]\n",
      "\u001b[A\n",
      " 27%|##6       | 38/141 [00:01<00:02, 39.45it/s]\n",
      "\u001b[A\n",
      " 31%|###1      | 44/141 [00:01<00:02, 43.90it/s]\n",
      "\u001b[A\n",
      " 35%|###5      | 50/141 [00:01<00:02, 41.52it/s]\n",
      "\u001b[A\n",
      " 40%|###9      | 56/141 [00:01<00:02, 42.07it/s]\n",
      "\u001b[A\n",
      " 45%|####4     | 63/141 [00:01<00:01, 48.10it/s]\n",
      "\u001b[A\n",
      " 50%|####9     | 70/141 [00:01<00:01, 49.06it/s]\n",
      "\u001b[A\n",
      " 54%|#####3    | 76/141 [00:02<00:01, 39.60it/s]\n",
      "\u001b[A\n",
      " 61%|######    | 86/141 [00:02<00:01, 52.41it/s]\n",
      "\u001b[A\n",
      " 66%|######5   | 93/141 [00:02<00:01, 47.32it/s]\n",
      "\u001b[A\n",
      " 70%|#######   | 99/141 [00:02<00:00, 47.80it/s]\n",
      "\u001b[A\n",
      " 74%|#######4  | 105/141 [00:02<00:00, 45.24it/s]\n",
      "\u001b[A\n",
      " 78%|#######8  | 110/141 [00:02<00:00, 45.66it/s]\n",
      "\u001b[A\n",
      " 82%|########2 | 116/141 [00:02<00:00, 47.13it/s]\n",
      "\u001b[A\n",
      " 89%|########9 | 126/141 [00:02<00:00, 56.47it/s]\n",
      "\u001b[A\n",
      " 94%|#########3| 132/141 [00:03<00:00, 53.74it/s]\n",
      "\u001b[A\n",
      " 98%|#########7| 138/141 [00:03<00:00, 51.36it/s]\n",
      "\u001b[A\n",
      "100%|##########| 141/141 [00:03<00:00, 43.27it/s]\n"
     ]
    },
    {
     "name": "stdout",
     "output_type": "stream",
     "text": [
      "Stacking columns...                                                                                                     \n",
      "[Pipeline] ....... (step 1 of 3) Processing transformer, total=  23.7s                                                  \n",
      "[Pipeline] ...... (step 2 of 3) Processing maxabs_scale, total=  15.5s                                                  \n",
      "[Pipeline] ............. (step 3 of 3) Processing e_net, total= 5.6min                                                  \n",
      "[Pipeline] ....... (step 1 of 3) Processing transformer, total=  42.3s                                                  \n",
      "[Pipeline] ...... (step 2 of 3) Processing maxabs_scale, total=  24.8s                                                  \n",
      "[Pipeline] ............. (step 3 of 3) Processing e_net, total= 9.0min                                                  \n",
      "[Pipeline] ....... (step 1 of 3) Processing transformer, total=  43.5s                                                  \n",
      "[Pipeline] ...... (step 2 of 3) Processing maxabs_scale, total=  23.2s                                                  \n",
      "[Pipeline] ............. (step 3 of 3) Processing e_net, total= 7.4min                                                  \n",
      "[Pipeline] ....... (step 1 of 3) Processing transformer, total=  47.6s                                                  \n",
      "[Pipeline] ...... (step 2 of 3) Processing maxabs_scale, total=  21.6s                                                  \n",
      "[Pipeline] ............. (step 3 of 3) Processing e_net, total= 4.8min                                                  \n",
      "[Pipeline] ....... (step 1 of 3) Processing transformer, total=  44.9s                                                  \n",
      "[Pipeline] ...... (step 2 of 3) Processing maxabs_scale, total=  20.5s                                                  \n",
      "[Pipeline] ............. (step 3 of 3) Processing e_net, total=10.9min                                                  \n",
      "Mean AUROC: 0.7121                                                                                                      \n",
      "Mean Avg Pre: 0.0122                                                                                                    \n",
      "STD AUROC: 0.0542                                                                                                       \n",
      "STD Avg Pre: 0.0065                                                                                                     \n",
      "Loss: -0.0883                                                                                                           \n",
      "Changing w from 0.7587410762906655 to 0.2592843325327453. Please wait...                                                \n",
      " 62%|████████████████████████▊               | 31/50 [30:36:52<20:02:37, 3797.75s/trial, best loss: -0.0900033600934903]"
     ]
    },
    {
     "name": "stderr",
     "output_type": "stream",
     "text": [
      "  0%|          | 0/68 [00:00<?, ?it/s]\n",
      "\u001b[A\n",
      "  1%|1         | 1/68 [00:00<00:08,  7.78it/s]\n",
      "\u001b[A\n",
      "  6%|5         | 4/68 [00:00<00:03, 19.03it/s]\n",
      "\u001b[A\n",
      " 24%|##3       | 16/68 [00:00<00:00, 60.33it/s]\n",
      "\u001b[A\n",
      " 34%|###3      | 23/68 [00:00<00:01, 36.80it/s]\n",
      "\u001b[A\n",
      " 51%|#####1    | 35/68 [00:00<00:00, 50.40it/s]\n",
      "\u001b[A\n",
      " 62%|######1   | 42/68 [00:00<00:00, 54.76it/s]\n",
      "\u001b[A\n",
      " 72%|#######2  | 49/68 [00:01<00:00, 56.90it/s]\n",
      "\u001b[A\n",
      " 82%|########2 | 56/68 [00:01<00:00, 47.28it/s]\n",
      "\u001b[A\n",
      " 91%|#########1| 62/68 [00:01<00:00, 47.49it/s]\n",
      "\u001b[A\n",
      "100%|##########| 68/68 [00:01<00:00, 47.62it/s]\n"
     ]
    },
    {
     "name": "stdout",
     "output_type": "stream",
     "text": [
      "Preparing function arguments...                                                                                         \n",
      "Calculating DWPCs...                                                                                                    \n",
      " 62%|████████████████████████▊               | 31/50 [30:36:59<20:02:37, 3797.75s/trial, best loss: -0.0900033600934903]"
     ]
    },
    {
     "name": "stderr",
     "output_type": "stream",
     "text": [
      "  0%|          | 0/141 [00:00<?, ?it/s]\n",
      "\u001b[A\n",
      "  1%|          | 1/141 [00:00<00:15,  9.31it/s]\n",
      "\u001b[A\n",
      "  3%|2         | 4/141 [00:00<00:10, 13.52it/s]\n",
      "\u001b[A\n",
      "  6%|5         | 8/141 [00:00<00:06, 20.14it/s]\n",
      "\u001b[A\n",
      "  8%|7         | 11/141 [00:00<00:09, 13.32it/s]\n",
      "\u001b[A\n",
      "  9%|9         | 13/141 [00:01<00:14,  8.99it/s]\n",
      "\u001b[A\n",
      " 11%|#         | 15/141 [00:01<00:13,  9.10it/s]\n",
      "\u001b[A\n",
      " 12%|#2        | 17/141 [00:01<00:15,  8.22it/s]\n",
      "\u001b[A\n",
      " 14%|#4        | 20/141 [00:01<00:11, 10.80it/s]\n",
      "\u001b[A\n",
      " 16%|#6        | 23/141 [00:02<00:09, 12.51it/s]\n",
      "\u001b[A\n",
      " 18%|#7        | 25/141 [00:02<00:13,  8.90it/s]\n",
      "\u001b[A\n",
      " 19%|#9        | 27/141 [00:02<00:11,  9.54it/s]\n",
      "\u001b[A\n",
      " 21%|##        | 29/141 [00:02<00:10, 10.40it/s]\n",
      "\u001b[A\n",
      " 22%|##1       | 31/141 [00:02<00:09, 11.95it/s]\n",
      "\u001b[A\n",
      " 23%|##3       | 33/141 [00:02<00:08, 13.34it/s]\n",
      "\u001b[A\n",
      " 25%|##4       | 35/141 [00:03<00:08, 13.19it/s]\n",
      "\u001b[A\n",
      " 31%|###1      | 44/141 [00:03<00:03, 27.77it/s]\n",
      "\u001b[A\n",
      " 34%|###4      | 48/141 [00:03<00:04, 22.59it/s]\n",
      "\u001b[A\n",
      " 36%|###6      | 51/141 [00:03<00:04, 21.09it/s]\n",
      "\u001b[A\n",
      " 39%|###9      | 55/141 [00:03<00:03, 23.35it/s]\n",
      "\u001b[A\n",
      " 41%|####1     | 58/141 [00:03<00:03, 22.21it/s]\n",
      "\u001b[A\n",
      " 43%|####3     | 61/141 [00:04<00:03, 20.56it/s]\n",
      "\u001b[A\n",
      " 45%|####5     | 64/141 [00:04<00:03, 22.05it/s]\n",
      "\u001b[A\n",
      " 48%|####7     | 67/141 [00:04<00:03, 21.55it/s]\n",
      "\u001b[A\n",
      " 50%|####9     | 70/141 [00:04<00:03, 20.93it/s]\n",
      "\u001b[A\n",
      " 52%|#####1    | 73/141 [00:04<00:03, 22.23it/s]\n",
      "\u001b[A\n",
      " 54%|#####3    | 76/141 [00:04<00:03, 19.17it/s]\n",
      "\u001b[A\n",
      " 56%|#####6    | 79/141 [00:04<00:02, 21.32it/s]\n",
      "\u001b[A\n",
      " 60%|######    | 85/141 [00:05<00:02, 22.04it/s]\n",
      "\u001b[A\n",
      " 64%|######3   | 90/141 [00:05<00:02, 22.59it/s]\n",
      "\u001b[A\n",
      " 66%|######5   | 93/141 [00:05<00:02, 18.28it/s]\n",
      "\u001b[A\n",
      " 67%|######7   | 95/141 [00:05<00:02, 18.45it/s]\n",
      "\u001b[A\n",
      " 69%|######8   | 97/141 [00:06<00:02, 14.86it/s]\n",
      "\u001b[A\n",
      " 72%|#######1  | 101/141 [00:06<00:02, 15.63it/s]\n",
      "\u001b[A\n",
      " 73%|#######3  | 103/141 [00:06<00:03, 12.58it/s]\n",
      "\u001b[A\n",
      " 74%|#######4  | 105/141 [00:06<00:03, 11.80it/s]\n",
      "\u001b[A\n",
      " 76%|#######5  | 107/141 [00:06<00:02, 11.99it/s]\n",
      "\u001b[A\n",
      " 80%|########  | 113/141 [00:07<00:01, 19.78it/s]\n",
      "\u001b[A\n",
      " 85%|########5 | 120/141 [00:07<00:00, 21.66it/s]\n",
      "\u001b[A\n",
      " 87%|########7 | 123/141 [00:07<00:00, 18.78it/s]\n",
      "\u001b[A\n",
      " 89%|########9 | 126/141 [00:07<00:00, 20.56it/s]\n",
      "\u001b[A\n",
      " 95%|#########5| 134/141 [00:07<00:00, 29.08it/s]\n",
      "\u001b[A\n",
      " 95%|#########5| 134/141 [00:22<00:00, 29.08it/s]\n",
      "\u001b[A\n",
      " 97%|#########7| 137/141 [00:23<00:04,  1.11s/it]\n",
      "\u001b[A\n",
      " 98%|#########7| 138/141 [01:56<00:27,  9.20s/it]\n",
      "\u001b[A\n",
      " 99%|#########8| 139/141 [02:01<00:17,  8.71s/it]\n",
      "\u001b[A\n",
      " 99%|#########8| 139/141 [02:12<00:17,  8.71s/it]\n",
      "\u001b[A\n",
      "100%|##########| 141/141 [03:23<00:00, 16.53s/it]\n",
      "\u001b[A\n",
      "100%|##########| 141/141 [03:23<00:00,  1.44s/it]\n"
     ]
    },
    {
     "name": "stdout",
     "output_type": "stream",
     "text": [
      "                                                                                                                        \n",
      "Reshaping Result Matrices...\n",
      " 62%|████████████████████████▊               | 31/50 [30:40:26<20:02:37, 3797.75s/trial, best loss: -0.0900033600934903]"
     ]
    },
    {
     "name": "stderr",
     "output_type": "stream",
     "text": [
      "  0%|          | 0/141 [00:00<?, ?it/s]\n",
      "\u001b[A\n",
      "  1%|1         | 2/141 [00:00<00:07, 18.99it/s]\n",
      "\u001b[A\n",
      "  4%|4         | 6/141 [00:00<00:06, 22.49it/s]\n",
      "\u001b[A\n",
      "  9%|9         | 13/141 [00:00<00:04, 31.09it/s]\n",
      "\u001b[A\n",
      " 12%|#2        | 17/141 [00:00<00:04, 26.20it/s]\n",
      "\u001b[A\n",
      " 16%|#5        | 22/141 [00:00<00:03, 31.48it/s]\n",
      "\u001b[A\n",
      " 19%|#9        | 27/141 [00:00<00:03, 33.73it/s]\n",
      "\u001b[A\n",
      " 22%|##1       | 31/141 [00:01<00:03, 32.53it/s]\n",
      "\u001b[A\n",
      " 27%|##6       | 38/141 [00:01<00:02, 40.83it/s]\n",
      "\u001b[A\n",
      " 31%|###1      | 44/141 [00:01<00:02, 45.30it/s]\n",
      "\u001b[A\n",
      " 35%|###5      | 50/141 [00:01<00:02, 42.93it/s]\n",
      "\u001b[A\n",
      " 40%|###9      | 56/141 [00:01<00:01, 43.70it/s]\n",
      "\u001b[A\n",
      " 45%|####4     | 63/141 [00:01<00:01, 49.69it/s]\n",
      "\u001b[A\n",
      " 50%|####9     | 70/141 [00:01<00:01, 49.85it/s]\n",
      "\u001b[A\n",
      " 54%|#####3    | 76/141 [00:01<00:01, 39.68it/s]\n",
      "\u001b[A\n",
      " 62%|######1   | 87/141 [00:02<00:00, 54.42it/s]\n",
      "\u001b[A\n",
      " 67%|######6   | 94/141 [00:02<00:00, 48.16it/s]\n",
      "\u001b[A\n",
      " 71%|#######   | 100/141 [00:02<00:00, 47.23it/s]\n",
      "\u001b[A\n",
      " 75%|#######5  | 106/141 [00:02<00:00, 49.96it/s]\n",
      "\u001b[A\n",
      " 79%|#######9  | 112/141 [00:02<00:00, 43.14it/s]\n",
      "\u001b[A\n",
      " 85%|########5 | 120/141 [00:02<00:00, 50.77it/s]\n",
      "\u001b[A\n",
      " 90%|######### | 127/141 [00:02<00:00, 52.33it/s]\n",
      "\u001b[A\n",
      " 94%|#########4| 133/141 [00:03<00:00, 51.06it/s]\n",
      "\u001b[A\n",
      " 99%|#########8| 139/141 [00:03<00:00, 47.49it/s]\n",
      "\u001b[A\n",
      "100%|##########| 141/141 [00:03<00:00, 43.88it/s]\n"
     ]
    },
    {
     "name": "stdout",
     "output_type": "stream",
     "text": [
      "Stacking columns...                                                                                                     \n",
      "[Pipeline] ....... (step 1 of 3) Processing transformer, total=  23.2s                                                  \n",
      "[Pipeline] ...... (step 2 of 3) Processing maxabs_scale, total=  15.2s                                                  \n",
      "[Pipeline] ............. (step 3 of 3) Processing e_net, total=12.5min                                                  \n",
      " 62%|████████████████████████▊               | 31/50 [30:53:46<20:02:37, 3797.75s/trial, best loss: -0.0900033600934903]"
     ]
    },
    {
     "name": "stderr",
     "output_type": "stream",
     "text": [
      "/home/rogertu/projects/MechRepoNet/mrn_venv/lib/python3.8/site-packages/sklearn/linear_model/_sag.py:328: ConvergenceWarning: The max_iter was reached which means the coef_ did not converge\n",
      "  warnings.warn(\"The max_iter was reached which means \"\n",
      "\n"
     ]
    },
    {
     "name": "stdout",
     "output_type": "stream",
     "text": [
      "[Pipeline] ....... (step 1 of 3) Processing transformer, total=  26.4s                                                  \n",
      "[Pipeline] ...... (step 2 of 3) Processing maxabs_scale, total=  13.7s                                                  \n",
      "[Pipeline] ............. (step 3 of 3) Processing e_net, total=12.6min                                                  \n",
      " 62%|████████████████████████▊               | 31/50 [31:07:13<20:02:37, 3797.75s/trial, best loss: -0.0900033600934903]"
     ]
    },
    {
     "name": "stderr",
     "output_type": "stream",
     "text": [
      "/home/rogertu/projects/MechRepoNet/mrn_venv/lib/python3.8/site-packages/sklearn/linear_model/_sag.py:328: ConvergenceWarning: The max_iter was reached which means the coef_ did not converge\n",
      "  warnings.warn(\"The max_iter was reached which means \"\n",
      "\n"
     ]
    },
    {
     "name": "stdout",
     "output_type": "stream",
     "text": [
      "[Pipeline] ....... (step 1 of 3) Processing transformer, total=  25.3s                                                  \n",
      "[Pipeline] ...... (step 2 of 3) Processing maxabs_scale, total=  16.0s                                                  \n",
      "[Pipeline] ............. (step 3 of 3) Processing e_net, total=12.6min                                                  \n",
      " 62%|████████████████████████▊               | 31/50 [31:20:40<20:02:37, 3797.75s/trial, best loss: -0.0900033600934903]"
     ]
    },
    {
     "name": "stderr",
     "output_type": "stream",
     "text": [
      "/home/rogertu/projects/MechRepoNet/mrn_venv/lib/python3.8/site-packages/sklearn/linear_model/_sag.py:328: ConvergenceWarning: The max_iter was reached which means the coef_ did not converge\n",
      "  warnings.warn(\"The max_iter was reached which means \"\n",
      "\n"
     ]
    },
    {
     "name": "stdout",
     "output_type": "stream",
     "text": [
      "[Pipeline] ....... (step 1 of 3) Processing transformer, total=  26.5s                                                  \n",
      "[Pipeline] ...... (step 2 of 3) Processing maxabs_scale, total=  17.2s                                                  \n",
      "[Pipeline] ............. (step 3 of 3) Processing e_net, total=13.2min                                                  \n",
      " 62%|████████████████████████▊               | 31/50 [31:34:43<20:02:37, 3797.75s/trial, best loss: -0.0900033600934903]"
     ]
    },
    {
     "name": "stderr",
     "output_type": "stream",
     "text": [
      "/home/rogertu/projects/MechRepoNet/mrn_venv/lib/python3.8/site-packages/sklearn/linear_model/_sag.py:328: ConvergenceWarning: The max_iter was reached which means the coef_ did not converge\n",
      "  warnings.warn(\"The max_iter was reached which means \"\n",
      "\n"
     ]
    },
    {
     "name": "stdout",
     "output_type": "stream",
     "text": [
      "[Pipeline] ....... (step 1 of 3) Processing transformer, total=  23.2s                                                  \n",
      "[Pipeline] ...... (step 2 of 3) Processing maxabs_scale, total=  15.2s                                                  \n",
      "[Pipeline] ............. (step 3 of 3) Processing e_net, total=12.9min                                                  \n",
      " 62%|████████████████████████▊               | 31/50 [31:48:20<20:02:37, 3797.75s/trial, best loss: -0.0900033600934903]"
     ]
    },
    {
     "name": "stderr",
     "output_type": "stream",
     "text": [
      "/home/rogertu/projects/MechRepoNet/mrn_venv/lib/python3.8/site-packages/sklearn/linear_model/_sag.py:328: ConvergenceWarning: The max_iter was reached which means the coef_ did not converge\n",
      "  warnings.warn(\"The max_iter was reached which means \"\n",
      "\n"
     ]
    },
    {
     "name": "stdout",
     "output_type": "stream",
     "text": [
      "Mean AUROC: 0.6934                                                                                                      \n",
      "Mean Avg Pre: 0.0163                                                                                                    \n",
      "STD AUROC: 0.0905                                                                                                       \n",
      "STD Avg Pre: 0.0154                                                                                                     \n",
      "Loss: -0.0823                                                                                                           \n",
      "Changing w from 0.2592843325327453 to 0.6127950129037565. Please wait...                                                \n",
      " 64%|█████████████████████████▌              | 32/50 [31:48:27<19:44:03, 3946.86s/trial, best loss: -0.0900033600934903]"
     ]
    },
    {
     "name": "stderr",
     "output_type": "stream",
     "text": [
      "  0%|          | 0/68 [00:00<?, ?it/s]\n",
      "\u001b[A\n",
      "  1%|1         | 1/68 [00:00<00:11,  5.94it/s]\n",
      "\u001b[A\n",
      "  4%|4         | 3/68 [00:00<00:05, 11.68it/s]\n",
      "\u001b[A\n",
      " 44%|####4     | 30/68 [00:00<00:00, 109.94it/s]\n",
      "\u001b[A\n",
      " 69%|######9   | 47/68 [00:00<00:00, 124.27it/s]\n",
      "\u001b[A\n",
      " 90%|########9 | 61/68 [00:00<00:00, 129.15it/s]\n",
      "\u001b[A\n",
      "100%|##########| 68/68 [00:00<00:00, 96.43it/s] \n"
     ]
    },
    {
     "name": "stdout",
     "output_type": "stream",
     "text": [
      "Preparing function arguments...                                                                                         \n",
      "Calculating DWPCs...                                                                                                    \n",
      " 64%|█████████████████████████▌              | 32/50 [31:48:32<19:44:03, 3946.86s/trial, best loss: -0.0900033600934903]"
     ]
    },
    {
     "name": "stderr",
     "output_type": "stream",
     "text": [
      "  0%|          | 0/141 [00:00<?, ?it/s]\n",
      "\u001b[A\n",
      "  1%|          | 1/141 [00:00<00:15,  9.06it/s]\n",
      "\u001b[A\n",
      "  4%|4         | 6/141 [00:00<00:04, 31.13it/s]\n",
      "\u001b[A\n",
      "  7%|7         | 10/141 [00:00<00:04, 29.08it/s]\n",
      "\u001b[A\n",
      "  9%|9         | 13/141 [00:00<00:04, 25.95it/s]\n",
      "\u001b[A\n",
      " 13%|#3        | 19/141 [00:00<00:03, 34.94it/s]\n",
      "\u001b[A\n",
      " 16%|#6        | 23/141 [00:00<00:03, 35.24it/s]\n",
      "\u001b[A\n",
      " 21%|##1       | 30/141 [00:00<00:02, 45.03it/s]\n",
      "\u001b[A\n",
      " 25%|##4       | 35/141 [00:00<00:02, 43.89it/s]\n",
      "\u001b[A\n",
      " 30%|###       | 43/141 [00:01<00:01, 51.65it/s]\n",
      "\u001b[A\n",
      " 35%|###4      | 49/141 [00:01<00:01, 52.63it/s]\n",
      "\u001b[A\n",
      " 40%|###9      | 56/141 [00:01<00:01, 50.92it/s]\n",
      "\u001b[A\n",
      " 44%|####3     | 62/141 [00:01<00:01, 43.07it/s]\n",
      "\u001b[A\n",
      " 49%|####8     | 69/141 [00:01<00:01, 45.24it/s]\n",
      "\u001b[A\n",
      " 54%|#####3    | 76/141 [00:01<00:01, 50.35it/s]\n",
      "\u001b[A\n",
      " 60%|######    | 85/141 [00:01<00:00, 59.13it/s]\n",
      "\u001b[A\n",
      " 65%|######5   | 92/141 [00:01<00:00, 58.99it/s]\n",
      "\u001b[A\n",
      " 70%|#######   | 99/141 [00:02<00:00, 56.91it/s]\n",
      "\u001b[A\n",
      " 74%|#######4  | 105/141 [00:02<00:00, 43.61it/s]\n",
      "\u001b[A\n",
      " 78%|#######8  | 110/141 [00:02<00:00, 44.64it/s]\n",
      "\u001b[A\n",
      " 85%|########5 | 120/141 [00:02<00:00, 56.21it/s]\n",
      "\u001b[A\n",
      " 90%|######### | 127/141 [00:02<00:00, 50.84it/s]\n",
      "\u001b[A\n",
      " 96%|#########5| 135/141 [00:05<00:00,  7.15it/s]\n",
      "\u001b[A\n",
      " 96%|#########5| 135/141 [00:18<00:00,  7.15it/s]\n",
      "\u001b[A\n",
      " 98%|#########7| 138/141 [01:28<00:12,  4.15s/it]\n",
      "\u001b[A\n",
      " 99%|#########8| 139/141 [01:38<00:09,  4.56s/it]\n",
      "\u001b[A\n",
      " 99%|#########9| 140/141 [01:52<00:05,  5.31s/it]\n",
      "\u001b[A\n",
      "100%|##########| 141/141 [02:59<00:00, 12.04s/it]\n",
      "\u001b[A\n",
      "100%|##########| 141/141 [02:59<00:00,  1.27s/it]\n"
     ]
    },
    {
     "name": "stdout",
     "output_type": "stream",
     "text": [
      "                                                                                                                        \n",
      "Reshaping Result Matrices...\n",
      " 64%|█████████████████████████▌              | 32/50 [31:51:36<19:44:03, 3946.86s/trial, best loss: -0.0900033600934903]"
     ]
    },
    {
     "name": "stderr",
     "output_type": "stream",
     "text": [
      "  0%|          | 0/141 [00:00<?, ?it/s]\n",
      "\u001b[A\n",
      "  1%|1         | 2/141 [00:00<00:07, 18.67it/s]\n",
      "\u001b[A\n",
      "  4%|4         | 6/141 [00:00<00:05, 23.73it/s]\n",
      "\u001b[A\n",
      "  9%|9         | 13/141 [00:00<00:03, 33.33it/s]\n",
      "\u001b[A\n",
      " 12%|#2        | 17/141 [00:00<00:05, 23.52it/s]\n",
      "\u001b[A\n",
      " 14%|#4        | 20/141 [00:00<00:04, 24.81it/s]\n",
      "\u001b[A\n",
      " 19%|#9        | 27/141 [00:00<00:03, 32.54it/s]\n",
      "\u001b[A\n",
      " 22%|##1       | 31/141 [00:01<00:03, 31.58it/s]\n",
      "\u001b[A\n",
      " 27%|##6       | 38/141 [00:01<00:02, 39.39it/s]\n",
      "\u001b[A\n",
      " 31%|###1      | 44/141 [00:01<00:02, 44.18it/s]\n",
      "\u001b[A\n",
      " 35%|###5      | 50/141 [00:01<00:02, 42.31it/s]\n",
      "\u001b[A\n",
      " 40%|###9      | 56/141 [00:01<00:01, 42.71it/s]\n",
      "\u001b[A\n",
      " 45%|####4     | 63/141 [00:01<00:01, 48.19it/s]\n",
      "\u001b[A\n",
      " 50%|####9     | 70/141 [00:01<00:01, 49.53it/s]\n",
      "\u001b[A\n",
      " 54%|#####3    | 76/141 [00:02<00:01, 39.93it/s]\n",
      "\u001b[A\n",
      " 62%|######1   | 87/141 [00:02<00:00, 54.73it/s]\n",
      "\u001b[A\n",
      " 67%|######6   | 94/141 [00:02<00:00, 48.30it/s]\n",
      "\u001b[A\n",
      " 71%|#######   | 100/141 [00:02<00:00, 47.58it/s]\n",
      "\u001b[A\n",
      " 75%|#######5  | 106/141 [00:02<00:00, 50.26it/s]\n",
      "\u001b[A\n",
      " 79%|#######9  | 112/141 [00:02<00:00, 43.56it/s]\n",
      "\u001b[A\n",
      " 85%|########5 | 120/141 [00:02<00:00, 51.21it/s]\n",
      "\u001b[A\n",
      " 90%|######### | 127/141 [00:02<00:00, 52.91it/s]\n",
      "\u001b[A\n",
      " 94%|#########4| 133/141 [00:03<00:00, 51.53it/s]\n",
      "\u001b[A\n",
      " 99%|#########8| 139/141 [00:03<00:00, 47.07it/s]\n",
      "\u001b[A\n",
      "100%|##########| 141/141 [00:03<00:00, 43.20it/s]\n"
     ]
    },
    {
     "name": "stdout",
     "output_type": "stream",
     "text": [
      "Stacking columns...                                                                                                     \n",
      "[Pipeline] ....... (step 1 of 3) Processing transformer, total=  24.1s                                                  \n",
      "[Pipeline] ...... (step 2 of 3) Processing maxabs_scale, total=  14.6s                                                  \n",
      "[Pipeline] ............. (step 3 of 3) Processing e_net, total=12.8min                                                  \n",
      " 64%|█████████████████████████▌              | 32/50 [32:05:15<19:44:03, 3946.86s/trial, best loss: -0.0900033600934903]"
     ]
    },
    {
     "name": "stderr",
     "output_type": "stream",
     "text": [
      "/home/rogertu/projects/MechRepoNet/mrn_venv/lib/python3.8/site-packages/sklearn/linear_model/_sag.py:328: ConvergenceWarning: The max_iter was reached which means the coef_ did not converge\n",
      "  warnings.warn(\"The max_iter was reached which means \"\n",
      "\n"
     ]
    },
    {
     "name": "stdout",
     "output_type": "stream",
     "text": [
      "[Pipeline] ....... (step 1 of 3) Processing transformer, total=  21.9s                                                  \n",
      "[Pipeline] ...... (step 2 of 3) Processing maxabs_scale, total=  13.9s                                                  \n",
      "[Pipeline] ............. (step 3 of 3) Processing e_net, total=13.1min                                                  \n",
      " 64%|█████████████████████████▌              | 32/50 [32:19:07<19:44:03, 3946.86s/trial, best loss: -0.0900033600934903]"
     ]
    },
    {
     "name": "stderr",
     "output_type": "stream",
     "text": [
      "/home/rogertu/projects/MechRepoNet/mrn_venv/lib/python3.8/site-packages/sklearn/linear_model/_sag.py:328: ConvergenceWarning: The max_iter was reached which means the coef_ did not converge\n",
      "  warnings.warn(\"The max_iter was reached which means \"\n",
      "\n"
     ]
    },
    {
     "name": "stdout",
     "output_type": "stream",
     "text": [
      "[Pipeline] ....... (step 1 of 3) Processing transformer, total=  25.2s                                                  \n",
      "[Pipeline] ...... (step 2 of 3) Processing maxabs_scale, total=  16.2s                                                  \n",
      "[Pipeline] ............. (step 3 of 3) Processing e_net, total=13.4min                                                  \n",
      " 64%|█████████████████████████▌              | 32/50 [32:33:21<19:44:03, 3946.86s/trial, best loss: -0.0900033600934903]"
     ]
    },
    {
     "name": "stderr",
     "output_type": "stream",
     "text": [
      "/home/rogertu/projects/MechRepoNet/mrn_venv/lib/python3.8/site-packages/sklearn/linear_model/_sag.py:328: ConvergenceWarning: The max_iter was reached which means the coef_ did not converge\n",
      "  warnings.warn(\"The max_iter was reached which means \"\n",
      "\n"
     ]
    },
    {
     "name": "stdout",
     "output_type": "stream",
     "text": [
      "[Pipeline] ....... (step 1 of 3) Processing transformer, total=  26.4s                                                  \n",
      "[Pipeline] ...... (step 2 of 3) Processing maxabs_scale, total=  17.4s                                                  \n",
      "[Pipeline] ............. (step 3 of 3) Processing e_net, total=13.5min                                                  \n",
      " 64%|█████████████████████████▌              | 32/50 [32:47:43<19:44:03, 3946.86s/trial, best loss: -0.0900033600934903]"
     ]
    },
    {
     "name": "stderr",
     "output_type": "stream",
     "text": [
      "/home/rogertu/projects/MechRepoNet/mrn_venv/lib/python3.8/site-packages/sklearn/linear_model/_sag.py:328: ConvergenceWarning: The max_iter was reached which means the coef_ did not converge\n",
      "  warnings.warn(\"The max_iter was reached which means \"\n",
      "\n"
     ]
    },
    {
     "name": "stdout",
     "output_type": "stream",
     "text": [
      "[Pipeline] ....... (step 1 of 3) Processing transformer, total=  23.5s                                                  \n",
      "[Pipeline] ...... (step 2 of 3) Processing maxabs_scale, total=  15.4s                                                  \n",
      "[Pipeline] ............. (step 3 of 3) Processing e_net, total=13.3min                                                  \n",
      " 64%|█████████████████████████▌              | 32/50 [33:01:48<19:44:03, 3946.86s/trial, best loss: -0.0900033600934903]"
     ]
    },
    {
     "name": "stderr",
     "output_type": "stream",
     "text": [
      "/home/rogertu/projects/MechRepoNet/mrn_venv/lib/python3.8/site-packages/sklearn/linear_model/_sag.py:328: ConvergenceWarning: The max_iter was reached which means the coef_ did not converge\n",
      "  warnings.warn(\"The max_iter was reached which means \"\n",
      "\n"
     ]
    },
    {
     "name": "stdout",
     "output_type": "stream",
     "text": [
      "Mean AUROC: 0.7058                                                                                                      \n",
      "Mean Avg Pre: 0.0127                                                                                                    \n",
      "STD AUROC: 0.0494                                                                                                       \n",
      "STD Avg Pre: 0.0073                                                                                                     \n",
      "Loss: -0.0881                                                                                                           \n",
      "Changing w from 0.6127950129037565 to 0.9156758090968768. Please wait...                                                \n",
      " 66%|██████████████████████████▍             | 33/50 [33:01:55<19:17:26, 4085.09s/trial, best loss: -0.0900033600934903]"
     ]
    },
    {
     "name": "stderr",
     "output_type": "stream",
     "text": [
      "  0%|          | 0/68 [00:00<?, ?it/s]\n",
      "\u001b[A\n",
      "  1%|1         | 1/68 [00:00<00:19,  3.41it/s]\n",
      "\u001b[A\n",
      "  4%|4         | 3/68 [00:00<00:10,  6.17it/s]\n",
      "\u001b[A\n",
      " 24%|##3       | 16/68 [00:00<00:01, 30.09it/s]\n",
      "\u001b[A\n",
      " 82%|########2 | 56/68 [00:00<00:00, 107.10it/s]\n",
      "\u001b[A\n",
      "100%|##########| 68/68 [00:01<00:00, 64.72it/s] \n"
     ]
    },
    {
     "name": "stdout",
     "output_type": "stream",
     "text": [
      "Preparing function arguments...                                                                                         \n",
      "Calculating DWPCs...                                                                                                    \n",
      " 66%|██████████████████████████▍             | 33/50 [33:02:01<19:17:26, 4085.09s/trial, best loss: -0.0900033600934903]"
     ]
    },
    {
     "name": "stderr",
     "output_type": "stream",
     "text": [
      "  0%|          | 0/141 [00:00<?, ?it/s]\n",
      "\u001b[A\n",
      "  1%|          | 1/141 [00:00<00:15,  8.87it/s]\n",
      "\u001b[A\n",
      "  3%|2         | 4/141 [00:00<00:06, 20.59it/s]\n",
      "\u001b[A\n",
      "  5%|4         | 7/141 [00:00<00:07, 17.04it/s]\n",
      "\u001b[A\n",
      "  7%|7         | 10/141 [00:00<00:07, 17.75it/s]\n",
      "\u001b[A\n",
      " 12%|#2        | 17/141 [00:00<00:05, 24.33it/s]\n",
      "\u001b[A\n",
      " 14%|#4        | 20/141 [00:00<00:05, 23.30it/s]\n",
      "\u001b[A\n",
      " 16%|#6        | 23/141 [00:01<00:05, 22.78it/s]\n",
      "\u001b[A\n",
      " 23%|##2       | 32/141 [00:01<00:03, 34.51it/s]\n",
      "\u001b[A\n",
      " 29%|##9       | 41/141 [00:01<00:02, 46.51it/s]\n",
      "\u001b[A\n",
      " 33%|###3      | 47/141 [00:01<00:01, 48.41it/s]\n",
      "\u001b[A\n",
      " 38%|###7      | 53/141 [00:01<00:01, 50.48it/s]\n",
      "\u001b[A\n",
      " 42%|####1     | 59/141 [00:01<00:02, 40.03it/s]\n",
      "\u001b[A\n",
      " 45%|####5     | 64/141 [00:02<00:02, 31.97it/s]\n",
      "\u001b[A\n",
      " 48%|####8     | 68/141 [00:02<00:02, 31.17it/s]\n",
      "\u001b[A\n",
      " 52%|#####1    | 73/141 [00:02<00:02, 30.90it/s]\n",
      "\u001b[A\n",
      " 56%|#####6    | 79/141 [00:02<00:01, 35.95it/s]\n",
      "\u001b[A\n",
      " 62%|######1   | 87/141 [00:02<00:01, 44.62it/s]\n",
      "\u001b[A\n",
      " 65%|######5   | 92/141 [00:02<00:01, 38.31it/s]\n",
      "\u001b[A\n",
      " 71%|#######   | 100/141 [00:02<00:00, 46.36it/s]\n",
      "\u001b[A\n",
      " 75%|#######5  | 106/141 [00:03<00:00, 39.90it/s]\n",
      "\u001b[A\n",
      " 79%|#######8  | 111/141 [00:03<00:00, 41.22it/s]\n",
      "\u001b[A\n",
      " 82%|########2 | 116/141 [00:03<00:00, 43.00it/s]\n",
      "\u001b[A\n",
      " 88%|########7 | 124/141 [00:03<00:00, 51.61it/s]\n",
      "\u001b[A\n",
      " 92%|#########2| 130/141 [00:03<00:00, 53.70it/s]\n",
      "\u001b[A\n",
      " 96%|#########6| 136/141 [00:07<00:00,  5.08it/s]\n",
      "\u001b[A\n",
      " 96%|#########6| 136/141 [00:19<00:00,  5.08it/s]\n",
      "\u001b[A\n",
      " 98%|#########7| 138/141 [00:52<00:08,  2.96s/it]\n",
      "\u001b[A\n",
      " 99%|#########8| 139/141 [00:54<00:05,  2.84s/it]\n",
      "\u001b[A\n",
      " 99%|#########8| 139/141 [01:09<00:05,  2.84s/it]\n",
      "\u001b[A\n",
      " 99%|#########9| 140/141 [01:13<00:04,  4.49s/it]\n",
      "\u001b[A\n",
      "100%|##########| 141/141 [02:30<00:00, 13.77s/it]\n",
      "\u001b[A\n",
      "100%|##########| 141/141 [02:30<00:00,  1.07s/it]\n"
     ]
    },
    {
     "name": "stdout",
     "output_type": "stream",
     "text": [
      "                                                                                                                        \n",
      "Reshaping Result Matrices...\n",
      " 66%|██████████████████████████▍             | 33/50 [33:04:36<19:17:26, 4085.09s/trial, best loss: -0.0900033600934903]"
     ]
    },
    {
     "name": "stderr",
     "output_type": "stream",
     "text": [
      "  0%|          | 0/141 [00:00<?, ?it/s]\n",
      "\u001b[A\n",
      "  1%|1         | 2/141 [00:00<00:07, 19.80it/s]\n",
      "\u001b[A\n",
      "  4%|4         | 6/141 [00:00<00:05, 24.50it/s]\n",
      "\u001b[A\n",
      "  9%|9         | 13/141 [00:00<00:03, 33.94it/s]\n",
      "\u001b[A\n",
      " 12%|#2        | 17/141 [00:00<00:04, 28.29it/s]\n",
      "\u001b[A\n",
      " 16%|#6        | 23/141 [00:00<00:03, 36.47it/s]\n",
      "\u001b[A\n",
      " 19%|#9        | 27/141 [00:00<00:03, 35.69it/s]\n",
      "\u001b[A\n",
      " 22%|##1       | 31/141 [00:00<00:03, 34.78it/s]\n",
      "\u001b[A\n",
      " 27%|##6       | 38/141 [00:01<00:02, 43.75it/s]\n",
      "\u001b[A\n",
      " 32%|###1      | 45/141 [00:01<00:01, 49.50it/s]\n",
      "\u001b[A\n",
      " 36%|###6      | 51/141 [00:01<00:01, 48.70it/s]\n",
      "\u001b[A\n",
      " 40%|####      | 57/141 [00:01<00:01, 48.88it/s]\n",
      "\u001b[A\n",
      " 46%|####6     | 65/141 [00:01<00:01, 55.92it/s]\n",
      "\u001b[A\n",
      " 50%|#####     | 71/141 [00:01<00:01, 51.57it/s]\n",
      "\u001b[A\n",
      " 55%|#####4    | 77/141 [00:01<00:01, 45.56it/s]\n",
      "\u001b[A\n",
      " 62%|######2   | 88/141 [00:01<00:00, 58.45it/s]\n",
      "\u001b[A\n",
      " 67%|######7   | 95/141 [00:02<00:00, 55.04it/s]\n",
      "\u001b[A\n",
      " 72%|#######1  | 101/141 [00:02<00:00, 47.46it/s]\n",
      "\u001b[A\n",
      " 77%|#######7  | 109/141 [00:02<00:00, 54.56it/s]\n",
      "\u001b[A\n",
      " 82%|########1 | 115/141 [00:02<00:00, 53.73it/s]\n",
      "\u001b[A\n",
      " 87%|########7 | 123/141 [00:02<00:00, 59.02it/s]\n",
      "\u001b[A\n",
      " 92%|#########2| 130/141 [00:02<00:00, 54.00it/s]\n",
      "\u001b[A\n",
      " 96%|#########6| 136/141 [00:02<00:00, 50.74it/s]\n",
      "\u001b[A\n",
      "100%|##########| 141/141 [00:02<00:00, 48.11it/s]\n"
     ]
    },
    {
     "name": "stdout",
     "output_type": "stream",
     "text": [
      "Stacking columns...                                                                                                     \n",
      "[Pipeline] ....... (step 1 of 3) Processing transformer, total=  22.3s                                                  \n",
      "[Pipeline] ...... (step 2 of 3) Processing maxabs_scale, total=  14.4s                                                  \n",
      "[Pipeline] ............. (step 3 of 3) Processing e_net, total= 2.0min                                                  \n",
      "[Pipeline] ....... (step 1 of 3) Processing transformer, total=  21.6s                                                  \n",
      "[Pipeline] ...... (step 2 of 3) Processing maxabs_scale, total=  13.7s                                                  \n",
      "[Pipeline] ............. (step 3 of 3) Processing e_net, total= 2.1min                                                  \n",
      "[Pipeline] ....... (step 1 of 3) Processing transformer, total=  24.5s                                                  \n",
      "[Pipeline] ...... (step 2 of 3) Processing maxabs_scale, total=  16.0s                                                  \n",
      "[Pipeline] ............. (step 3 of 3) Processing e_net, total= 1.7min                                                  \n",
      "[Pipeline] ....... (step 1 of 3) Processing transformer, total=  26.1s                                                  \n",
      "[Pipeline] ...... (step 2 of 3) Processing maxabs_scale, total=  17.1s                                                  \n",
      "[Pipeline] ............. (step 3 of 3) Processing e_net, total= 1.7min                                                  \n",
      "[Pipeline] ....... (step 1 of 3) Processing transformer, total=  23.3s                                                  \n",
      "[Pipeline] ...... (step 2 of 3) Processing maxabs_scale, total=  15.2s                                                  \n",
      "[Pipeline] ............. (step 3 of 3) Processing e_net, total= 3.7min                                                  \n",
      "Mean AUROC: 0.7063                                                                                                      \n",
      "Mean Avg Pre: 0.0117                                                                                                    \n",
      "STD AUROC: 0.0599                                                                                                       \n",
      "STD Avg Pre: 0.0054                                                                                                     \n",
      "Loss: -0.0856                                                                                                           \n",
      "Changing w from 0.9156758090968768 to 0.7567571807366026. Please wait...                                                \n",
      " 68%|███████████████████████████▏            | 34/50 [33:19:54<14:08:52, 3183.29s/trial, best loss: -0.0900033600934903]"
     ]
    },
    {
     "name": "stderr",
     "output_type": "stream",
     "text": [
      "  0%|          | 0/68 [00:00<?, ?it/s]\n",
      "\u001b[A\n",
      "  1%|1         | 1/68 [00:00<00:14,  4.69it/s]\n",
      "\u001b[A\n",
      "  7%|7         | 5/68 [00:00<00:03, 18.73it/s]\n",
      "\u001b[A\n",
      " 19%|#9        | 13/68 [00:00<00:01, 40.74it/s]\n",
      "\u001b[A\n",
      " 29%|##9       | 20/68 [00:00<00:01, 47.23it/s]\n",
      "\u001b[A\n",
      " 62%|######1   | 42/68 [00:00<00:00, 99.52it/s]\n",
      "\u001b[A\n",
      " 82%|########2 | 56/68 [00:00<00:00, 100.56it/s]\n",
      "\u001b[A\n",
      "100%|##########| 68/68 [00:00<00:00, 97.06it/s] \n",
      "\u001b[A\n",
      "100%|##########| 68/68 [00:00<00:00, 74.30it/s]\n"
     ]
    },
    {
     "name": "stdout",
     "output_type": "stream",
     "text": [
      "Preparing function arguments...                                                                                         \n",
      "Calculating DWPCs...                                                                                                    \n",
      " 68%|███████████████████████████▏            | 34/50 [33:20:00<14:08:52, 3183.29s/trial, best loss: -0.0900033600934903]"
     ]
    },
    {
     "name": "stderr",
     "output_type": "stream",
     "text": [
      "  0%|          | 0/141 [00:00<?, ?it/s]\n",
      "\u001b[A\n",
      "  1%|          | 1/141 [00:00<00:15,  9.14it/s]\n",
      "\u001b[A\n",
      "  4%|3         | 5/141 [00:00<00:05, 25.29it/s]\n",
      "\u001b[A\n",
      "  6%|6         | 9/141 [00:00<00:04, 29.92it/s]\n",
      "\u001b[A\n",
      "  9%|9         | 13/141 [00:00<00:04, 28.30it/s]\n",
      "\u001b[A\n",
      " 13%|#2        | 18/141 [00:00<00:03, 32.72it/s]\n",
      "\u001b[A\n",
      " 16%|#6        | 23/141 [00:00<00:03, 33.95it/s]\n",
      "\u001b[A\n",
      " 23%|##3       | 33/141 [00:00<00:02, 48.02it/s]\n",
      "\u001b[A\n",
      " 27%|##6       | 38/141 [00:00<00:02, 47.85it/s]\n",
      "\u001b[A\n",
      " 35%|###4      | 49/141 [00:01<00:01, 53.87it/s]\n",
      "\u001b[A\n",
      " 40%|###9      | 56/141 [00:01<00:01, 56.75it/s]\n",
      "\u001b[A\n",
      " 44%|####3     | 62/141 [00:01<00:01, 48.52it/s]\n",
      "\u001b[A\n",
      " 50%|####9     | 70/141 [00:01<00:01, 51.54it/s]\n",
      "\u001b[A\n",
      " 55%|#####4    | 77/141 [00:01<00:01, 54.03it/s]\n",
      "\u001b[A\n",
      " 60%|######    | 85/141 [00:01<00:00, 59.00it/s]\n",
      "\u001b[A\n",
      " 66%|######5   | 93/141 [00:01<00:00, 55.16it/s]\n",
      "\u001b[A\n",
      " 72%|#######1  | 101/141 [00:02<00:00, 58.87it/s]\n",
      "\u001b[A\n",
      " 77%|#######6  | 108/141 [00:02<00:00, 47.87it/s]\n",
      "\u001b[A\n",
      " 82%|########1 | 115/141 [00:02<00:00, 51.90it/s]\n",
      "\u001b[A\n",
      " 86%|########5 | 121/141 [00:02<00:00, 52.70it/s]\n",
      "\u001b[A\n",
      " 90%|######### | 127/141 [00:02<00:00, 52.73it/s]\n",
      "\u001b[A\n",
      " 96%|#########5| 135/141 [00:05<00:00,  8.13it/s]\n",
      "\u001b[A\n",
      " 96%|#########5| 135/141 [00:20<00:00,  8.13it/s]\n",
      "\u001b[A\n",
      " 98%|#########7| 138/141 [00:52<00:07,  2.52s/it]\n",
      "\u001b[A\n",
      " 99%|#########8| 139/141 [00:56<00:05,  2.64s/it]\n",
      "\u001b[A\n",
      " 99%|#########8| 139/141 [01:10<00:05,  2.64s/it]\n",
      "\u001b[A\n",
      "100%|##########| 141/141 [02:23<00:00,  9.34s/it]\n",
      "\u001b[A\n",
      "100%|##########| 141/141 [02:23<00:00,  1.02s/it]\n"
     ]
    },
    {
     "name": "stdout",
     "output_type": "stream",
     "text": [
      "                                                                                                                        \n",
      "Reshaping Result Matrices...\n",
      " 68%|███████████████████████████▏            | 34/50 [33:22:29<14:08:52, 3183.29s/trial, best loss: -0.0900033600934903]"
     ]
    },
    {
     "name": "stderr",
     "output_type": "stream",
     "text": [
      "  0%|          | 0/141 [00:00<?, ?it/s]\n",
      "\u001b[A\n",
      "  1%|1         | 2/141 [00:00<00:07, 19.71it/s]\n",
      "\u001b[A\n",
      "  4%|4         | 6/141 [00:00<00:05, 24.65it/s]\n",
      "\u001b[A\n",
      "  9%|9         | 13/141 [00:00<00:03, 34.09it/s]\n",
      "\u001b[A\n",
      " 12%|#2        | 17/141 [00:00<00:04, 28.55it/s]\n",
      "\u001b[A\n",
      " 17%|#7        | 24/141 [00:00<00:02, 39.15it/s]\n",
      "\u001b[A\n",
      " 21%|##        | 29/141 [00:00<00:02, 39.73it/s]\n",
      "\u001b[A\n",
      " 24%|##4       | 34/141 [00:00<00:02, 36.15it/s]\n",
      "\u001b[A\n",
      " 29%|##9       | 41/141 [00:01<00:02, 43.94it/s]\n",
      "\u001b[A\n",
      " 35%|###4      | 49/141 [00:01<00:01, 50.15it/s]\n",
      "\u001b[A\n",
      " 39%|###9      | 55/141 [00:01<00:01, 48.63it/s]\n",
      "\u001b[A\n",
      " 44%|####3     | 62/141 [00:01<00:01, 51.03it/s]\n",
      "\u001b[A\n",
      " 50%|####9     | 70/141 [00:01<00:01, 52.86it/s]\n",
      "\u001b[A\n",
      " 54%|#####3    | 76/141 [00:01<00:01, 43.51it/s]\n",
      "\u001b[A\n",
      " 62%|######2   | 88/141 [00:01<00:00, 57.84it/s]\n",
      "\u001b[A\n",
      " 67%|######7   | 95/141 [00:02<00:00, 54.55it/s]\n",
      "\u001b[A\n",
      " 72%|#######1  | 101/141 [00:02<00:00, 47.48it/s]\n",
      "\u001b[A\n",
      " 77%|#######7  | 109/141 [00:02<00:00, 54.39it/s]\n",
      "\u001b[A\n",
      " 82%|########1 | 115/141 [00:02<00:00, 53.47it/s]\n",
      "\u001b[A\n",
      " 87%|########7 | 123/141 [00:02<00:00, 58.68it/s]\n",
      "\u001b[A\n",
      " 92%|#########2| 130/141 [00:02<00:00, 53.83it/s]\n",
      "\u001b[A\n",
      " 96%|#########6| 136/141 [00:02<00:00, 50.71it/s]\n",
      "\u001b[A\n",
      "100%|##########| 141/141 [00:02<00:00, 48.14it/s]\n"
     ]
    },
    {
     "name": "stdout",
     "output_type": "stream",
     "text": [
      "Stacking columns...                                                                                                     \n",
      "[Pipeline] ....... (step 1 of 3) Processing transformer, total=  22.1s                                                  \n",
      "[Pipeline] ...... (step 2 of 3) Processing maxabs_scale, total=  14.2s                                                  \n",
      "[Pipeline] ............. (step 3 of 3) Processing e_net, total= 2.3min                                                  \n",
      "[Pipeline] ....... (step 1 of 3) Processing transformer, total=  21.4s                                                  \n",
      "[Pipeline] ...... (step 2 of 3) Processing maxabs_scale, total=  13.5s                                                  \n",
      "[Pipeline] ............. (step 3 of 3) Processing e_net, total= 5.4min                                                  \n",
      "[Pipeline] ....... (step 1 of 3) Processing transformer, total=  24.3s                                                  \n",
      "[Pipeline] ...... (step 2 of 3) Processing maxabs_scale, total=  15.8s                                                  \n",
      "[Pipeline] ............. (step 3 of 3) Processing e_net, total= 3.7min                                                  \n",
      "[Pipeline] ....... (step 1 of 3) Processing transformer, total=  26.4s                                                  \n",
      "[Pipeline] ...... (step 2 of 3) Processing maxabs_scale, total=  17.4s                                                  \n",
      "[Pipeline] ............. (step 3 of 3) Processing e_net, total= 2.2min                                                  \n",
      "[Pipeline] ....... (step 1 of 3) Processing transformer, total=  23.4s                                                  \n",
      "[Pipeline] ...... (step 2 of 3) Processing maxabs_scale, total=  15.2s                                                  \n",
      "[Pipeline] ............. (step 3 of 3) Processing e_net, total= 7.3min                                                  \n",
      "Mean AUROC: 0.7137                                                                                                      \n",
      "Mean Avg Pre: 0.0136                                                                                                    \n",
      "STD AUROC: 0.0629                                                                                                       \n",
      "STD Avg Pre: 0.0083                                                                                                     \n",
      "Loss: -0.0888                                                                                                           \n",
      "Changing w from 0.7567571807366026 to 0.39845225617089863. Please wait...                                               \n",
      " 70%|████████████████████████████            | 35/50 [33:47:23<11:20:45, 2723.04s/trial, best loss: -0.0900033600934903]"
     ]
    },
    {
     "name": "stderr",
     "output_type": "stream",
     "text": [
      "  0%|          | 0/68 [00:00<?, ?it/s]\n",
      "\u001b[A\n",
      "  1%|1         | 1/68 [00:00<00:08,  7.50it/s]\n",
      "\u001b[A\n",
      " 13%|#3        | 9/68 [00:00<00:01, 44.46it/s]\n",
      "\u001b[A\n",
      " 35%|###5      | 24/68 [00:00<00:00, 86.86it/s]\n",
      "\u001b[A\n",
      " 56%|#####5    | 38/68 [00:00<00:00, 102.94it/s]\n",
      "\u001b[A\n",
      " 87%|########6 | 59/68 [00:00<00:00, 135.77it/s]\n",
      "\u001b[A\n",
      "100%|##########| 68/68 [00:00<00:00, 97.90it/s] \n"
     ]
    },
    {
     "name": "stdout",
     "output_type": "stream",
     "text": [
      "Preparing function arguments...                                                                                         \n",
      "Calculating DWPCs...                                                                                                    \n",
      " 70%|████████████████████████████            | 35/50 [33:47:29<11:20:45, 2723.04s/trial, best loss: -0.0900033600934903]"
     ]
    },
    {
     "name": "stderr",
     "output_type": "stream",
     "text": [
      "  0%|          | 0/141 [00:00<?, ?it/s]\n",
      "\u001b[A\n",
      "  1%|          | 1/141 [00:00<00:16,  8.44it/s]\n",
      "\u001b[A\n",
      "  4%|4         | 6/141 [00:00<00:04, 27.61it/s]\n",
      "\u001b[A\n",
      "  6%|6         | 9/141 [00:00<00:04, 26.79it/s]\n",
      "\u001b[A\n",
      "  9%|9         | 13/141 [00:00<00:04, 30.46it/s]\n",
      "\u001b[A\n",
      " 13%|#2        | 18/141 [00:00<00:03, 36.70it/s]\n",
      "\u001b[A\n",
      " 16%|#5        | 22/141 [00:00<00:03, 36.40it/s]\n",
      "\u001b[A\n",
      " 21%|##        | 29/141 [00:00<00:02, 44.01it/s]\n",
      "\u001b[A\n",
      " 25%|##4       | 35/141 [00:00<00:02, 47.65it/s]\n",
      "\u001b[A\n",
      " 31%|###1      | 44/141 [00:01<00:01, 59.71it/s]\n",
      "\u001b[A\n",
      " 36%|###6      | 51/141 [00:01<00:01, 62.03it/s]\n",
      "\u001b[A\n",
      " 41%|####1     | 58/141 [00:01<00:01, 54.42it/s]\n",
      "\u001b[A\n",
      " 45%|####5     | 64/141 [00:01<00:01, 44.64it/s]\n",
      "\u001b[A\n",
      " 50%|#####     | 71/141 [00:01<00:01, 50.40it/s]\n",
      "\u001b[A\n",
      " 58%|#####8    | 82/141 [00:01<00:00, 60.94it/s]\n",
      "\u001b[A\n",
      " 63%|######3   | 89/141 [00:01<00:00, 57.62it/s]\n",
      "\u001b[A\n",
      " 68%|######8   | 96/141 [00:02<00:00, 49.78it/s]\n",
      "\u001b[A\n",
      " 73%|#######3  | 103/141 [00:02<00:00, 51.73it/s]\n",
      "\u001b[A\n",
      " 77%|#######7  | 109/141 [00:02<00:00, 45.51it/s]\n",
      "\u001b[A\n",
      " 84%|########4 | 119/141 [00:02<00:00, 54.63it/s]\n",
      "\u001b[A\n",
      " 89%|########8 | 125/141 [00:02<00:00, 50.66it/s]\n",
      "\u001b[A\n",
      " 94%|#########4| 133/141 [00:02<00:00, 55.97it/s]\n",
      "\u001b[A\n",
      " 94%|#########4| 133/141 [00:21<00:00, 55.97it/s]\n",
      "\u001b[A\n",
      " 98%|#########7| 138/141 [00:54<00:06,  2.32s/it]\n",
      "\u001b[A\n",
      " 99%|#########8| 139/141 [00:55<00:04,  2.26s/it]\n",
      "\u001b[A\n",
      " 99%|#########8| 139/141 [01:11<00:04,  2.26s/it]\n",
      "\u001b[A\n",
      " 99%|#########9| 140/141 [01:13<00:03,  3.47s/it]\n",
      "\u001b[A\n",
      "100%|##########| 141/141 [02:19<00:00,  9.80s/it]\n",
      "\u001b[A\n",
      "100%|##########| 141/141 [02:19<00:00,  1.01it/s]\n"
     ]
    },
    {
     "name": "stdout",
     "output_type": "stream",
     "text": [
      "                                                                                                                        \n",
      "Reshaping Result Matrices...\n",
      " 70%|████████████████████████████            | 35/50 [33:49:53<11:20:45, 2723.04s/trial, best loss: -0.0900033600934903]"
     ]
    },
    {
     "name": "stderr",
     "output_type": "stream",
     "text": [
      "  0%|          | 0/141 [00:00<?, ?it/s]\n",
      "\u001b[A\n",
      "  1%|          | 1/141 [00:00<00:19,  7.16it/s]\n",
      "\u001b[A\n",
      "  4%|4         | 6/141 [00:00<00:06, 21.70it/s]\n",
      "\u001b[A\n",
      "  9%|9         | 13/141 [00:00<00:04, 31.79it/s]\n",
      "\u001b[A\n",
      " 12%|#2        | 17/141 [00:00<00:04, 27.44it/s]\n",
      "\u001b[A\n",
      " 16%|#6        | 23/141 [00:00<00:03, 35.58it/s]\n",
      "\u001b[A\n",
      " 19%|#9        | 27/141 [00:00<00:03, 35.10it/s]\n",
      "\u001b[A\n",
      " 22%|##1       | 31/141 [00:00<00:03, 34.27it/s]\n",
      "\u001b[A\n",
      " 27%|##6       | 38/141 [00:01<00:02, 43.37it/s]\n",
      "\u001b[A\n",
      " 32%|###1      | 45/141 [00:01<00:01, 49.27it/s]\n",
      "\u001b[A\n",
      " 36%|###6      | 51/141 [00:01<00:01, 48.41it/s]\n",
      "\u001b[A\n",
      " 40%|####      | 57/141 [00:01<00:01, 48.60it/s]\n",
      "\u001b[A\n",
      " 46%|####6     | 65/141 [00:01<00:01, 55.58it/s]\n",
      "\u001b[A\n",
      " 50%|#####     | 71/141 [00:01<00:01, 51.30it/s]\n",
      "\u001b[A\n",
      " 55%|#####4    | 77/141 [00:01<00:01, 45.23it/s]\n",
      "\u001b[A\n",
      " 62%|######2   | 88/141 [00:01<00:00, 58.02it/s]\n",
      "\u001b[A\n",
      " 67%|######7   | 95/141 [00:02<00:00, 54.52it/s]\n",
      "\u001b[A\n",
      " 72%|#######1  | 101/141 [00:02<00:00, 47.22it/s]\n",
      "\u001b[A\n",
      " 77%|#######7  | 109/141 [00:02<00:00, 54.27it/s]\n",
      "\u001b[A\n",
      " 82%|########1 | 115/141 [00:02<00:00, 53.38it/s]\n",
      "\u001b[A\n",
      " 87%|########7 | 123/141 [00:02<00:00, 58.51it/s]\n",
      "\u001b[A\n",
      " 92%|#########2| 130/141 [00:02<00:00, 53.60it/s]\n",
      "\u001b[A\n",
      " 96%|#########6| 136/141 [00:02<00:00, 50.41it/s]\n",
      "\u001b[A\n",
      "100%|##########| 141/141 [00:02<00:00, 47.10it/s]\n"
     ]
    },
    {
     "name": "stdout",
     "output_type": "stream",
     "text": [
      "Stacking columns...                                                                                                     \n",
      "[Pipeline] ....... (step 1 of 3) Processing transformer, total=  22.4s                                                  \n",
      "[Pipeline] ...... (step 2 of 3) Processing maxabs_scale, total=  14.5s                                                  \n",
      "[Pipeline] ............. (step 3 of 3) Processing e_net, total=13.4min                                                  \n",
      " 70%|████████████████████████████            | 35/50 [34:04:05<11:20:45, 2723.04s/trial, best loss: -0.0900033600934903]"
     ]
    },
    {
     "name": "stderr",
     "output_type": "stream",
     "text": [
      "/home/rogertu/projects/MechRepoNet/mrn_venv/lib/python3.8/site-packages/sklearn/linear_model/_sag.py:328: ConvergenceWarning: The max_iter was reached which means the coef_ did not converge\n",
      "  warnings.warn(\"The max_iter was reached which means \"\n",
      "\n"
     ]
    },
    {
     "name": "stdout",
     "output_type": "stream",
     "text": [
      "[Pipeline] ....... (step 1 of 3) Processing transformer, total=  21.8s                                                  \n",
      "[Pipeline] ...... (step 2 of 3) Processing maxabs_scale, total=  13.8s                                                  \n",
      "[Pipeline] ............. (step 3 of 3) Processing e_net, total=13.4min                                                  \n",
      " 70%|████████████████████████████            | 35/50 [34:18:11<11:20:45, 2723.04s/trial, best loss: -0.0900033600934903]"
     ]
    },
    {
     "name": "stderr",
     "output_type": "stream",
     "text": [
      "/home/rogertu/projects/MechRepoNet/mrn_venv/lib/python3.8/site-packages/sklearn/linear_model/_sag.py:328: ConvergenceWarning: The max_iter was reached which means the coef_ did not converge\n",
      "  warnings.warn(\"The max_iter was reached which means \"\n",
      "\n"
     ]
    },
    {
     "name": "stdout",
     "output_type": "stream",
     "text": [
      "[Pipeline] ....... (step 1 of 3) Processing transformer, total=  24.7s                                                  \n",
      "[Pipeline] ...... (step 2 of 3) Processing maxabs_scale, total=  16.4s                                                  \n",
      "[Pipeline] ............. (step 3 of 3) Processing e_net, total=13.5min                                                  \n",
      " 70%|████████████████████████████            | 35/50 [34:32:34<11:20:45, 2723.04s/trial, best loss: -0.0900033600934903]"
     ]
    },
    {
     "name": "stderr",
     "output_type": "stream",
     "text": [
      "/home/rogertu/projects/MechRepoNet/mrn_venv/lib/python3.8/site-packages/sklearn/linear_model/_sag.py:328: ConvergenceWarning: The max_iter was reached which means the coef_ did not converge\n",
      "  warnings.warn(\"The max_iter was reached which means \"\n",
      "\n"
     ]
    },
    {
     "name": "stdout",
     "output_type": "stream",
     "text": [
      "[Pipeline] ....... (step 1 of 3) Processing transformer, total=  26.2s                                                  \n",
      "[Pipeline] ...... (step 2 of 3) Processing maxabs_scale, total=  17.4s                                                  \n",
      "[Pipeline] ............. (step 3 of 3) Processing e_net, total=13.8min                                                  \n",
      " 70%|████████████████████████████            | 35/50 [34:47:14<11:20:45, 2723.04s/trial, best loss: -0.0900033600934903]"
     ]
    },
    {
     "name": "stderr",
     "output_type": "stream",
     "text": [
      "/home/rogertu/projects/MechRepoNet/mrn_venv/lib/python3.8/site-packages/sklearn/linear_model/_sag.py:328: ConvergenceWarning: The max_iter was reached which means the coef_ did not converge\n",
      "  warnings.warn(\"The max_iter was reached which means \"\n",
      "\n"
     ]
    },
    {
     "name": "stdout",
     "output_type": "stream",
     "text": [
      "[Pipeline] ....... (step 1 of 3) Processing transformer, total=  23.6s                                                  \n",
      "[Pipeline] ...... (step 2 of 3) Processing maxabs_scale, total=  15.4s                                                  \n",
      "[Pipeline] ............. (step 3 of 3) Processing e_net, total=13.9min                                                  \n",
      " 70%|████████████████████████████            | 35/50 [35:01:51<11:20:45, 2723.04s/trial, best loss: -0.0900033600934903]"
     ]
    },
    {
     "name": "stderr",
     "output_type": "stream",
     "text": [
      "/home/rogertu/projects/MechRepoNet/mrn_venv/lib/python3.8/site-packages/sklearn/linear_model/_sag.py:328: ConvergenceWarning: The max_iter was reached which means the coef_ did not converge\n",
      "  warnings.warn(\"The max_iter was reached which means \"\n",
      "\n"
     ]
    },
    {
     "name": "stdout",
     "output_type": "stream",
     "text": [
      "Mean AUROC: 0.7065                                                                                                      \n",
      "Mean Avg Pre: 0.0161                                                                                                    \n",
      "STD AUROC: 0.0668                                                                                                       \n",
      "STD Avg Pre: 0.0127                                                                                                     \n",
      "Loss: -0.0889                                                                                                           \n",
      "Changing w from 0.39845225617089863 to 0.5229552051830024. Please wait...                                               \n",
      " 72%|████████████████████████████▊           | 36/50 [35:01:59<12:38:03, 3248.85s/trial, best loss: -0.0900033600934903]"
     ]
    },
    {
     "name": "stderr",
     "output_type": "stream",
     "text": [
      "  0%|          | 0/68 [00:00<?, ?it/s]\n",
      "\u001b[A\n",
      "  1%|1         | 1/68 [00:00<00:09,  6.99it/s]\n",
      "\u001b[A\n",
      " 16%|#6        | 11/68 [00:00<00:01, 52.45it/s]\n",
      "\u001b[A\n",
      " 40%|###9      | 27/68 [00:00<00:00, 95.48it/s]\n",
      "\u001b[A\n",
      " 60%|######    | 41/68 [00:00<00:00, 101.38it/s]\n",
      "\u001b[A\n",
      " 97%|#########7| 66/68 [00:00<00:00, 148.76it/s]\n",
      "\u001b[A\n",
      "100%|##########| 68/68 [00:00<00:00, 103.40it/s]\n"
     ]
    },
    {
     "name": "stdout",
     "output_type": "stream",
     "text": [
      "Preparing function arguments...                                                                                         \n",
      "Calculating DWPCs...                                                                                                    \n",
      " 72%|████████████████████████████▊           | 36/50 [35:02:05<12:38:03, 3248.85s/trial, best loss: -0.0900033600934903]"
     ]
    },
    {
     "name": "stderr",
     "output_type": "stream",
     "text": [
      "  0%|          | 0/141 [00:00<?, ?it/s]\n",
      "\u001b[A\n",
      "  1%|          | 1/141 [00:00<00:16,  8.38it/s]\n",
      "\u001b[A\n",
      "  4%|4         | 6/141 [00:00<00:05, 23.25it/s]\n",
      "\u001b[A\n",
      "  8%|7         | 11/141 [00:00<00:04, 30.12it/s]\n",
      "\u001b[A\n",
      " 10%|9         | 14/141 [00:00<00:04, 26.63it/s]\n",
      "\u001b[A\n",
      " 15%|#4        | 21/141 [00:00<00:03, 36.54it/s]\n",
      "\u001b[A\n",
      " 20%|#9        | 28/141 [00:00<00:02, 45.18it/s]\n",
      "\u001b[A\n",
      " 24%|##4       | 34/141 [00:00<00:02, 49.06it/s]\n",
      "\u001b[A\n",
      " 30%|##9       | 42/141 [00:00<00:01, 56.69it/s]\n",
      "\u001b[A\n",
      " 35%|###4      | 49/141 [00:01<00:01, 60.27it/s]\n",
      "\u001b[A\n",
      " 40%|###9      | 56/141 [00:01<00:01, 52.74it/s]\n",
      "\u001b[A\n",
      " 44%|####3     | 62/141 [00:01<00:01, 45.08it/s]\n",
      "\u001b[A\n",
      " 48%|####8     | 68/141 [00:01<00:01, 46.17it/s]\n",
      "\u001b[A\n",
      " 54%|#####3    | 76/141 [00:01<00:01, 52.37it/s]\n",
      "\u001b[A\n",
      " 60%|######    | 85/141 [00:01<00:00, 58.40it/s]\n",
      "\u001b[A\n",
      " 65%|######5   | 92/141 [00:01<00:00, 60.66it/s]\n",
      "\u001b[A\n",
      " 70%|#######   | 99/141 [00:02<00:00, 51.18it/s]\n",
      "\u001b[A\n",
      " 74%|#######4  | 105/141 [00:02<00:00, 45.40it/s]\n",
      "\u001b[A\n",
      " 78%|#######8  | 110/141 [00:02<00:00, 46.03it/s]\n",
      "\u001b[A\n",
      " 82%|########2 | 116/141 [00:02<00:00, 48.17it/s]\n",
      "\u001b[A\n",
      " 87%|########6 | 122/141 [00:02<00:00, 48.32it/s]\n",
      "\u001b[A\n",
      " 90%|######### | 127/141 [00:02<00:00, 46.32it/s]\n",
      "\u001b[A\n",
      " 96%|#########5| 135/141 [00:05<00:00,  7.76it/s]\n",
      "\u001b[A\n",
      " 96%|#########5| 135/141 [00:16<00:00,  7.76it/s]\n",
      "\u001b[A\n",
      " 98%|#########7| 138/141 [00:52<00:08,  2.70s/it]\n",
      "\u001b[A\n",
      " 99%|#########8| 139/141 [00:54<00:05,  2.65s/it]\n",
      "\u001b[A\n",
      " 99%|#########8| 139/141 [01:06<00:05,  2.65s/it]\n",
      "\u001b[A\n",
      " 99%|#########9| 140/141 [01:10<00:03,  3.91s/it]\n",
      "\u001b[A\n",
      "100%|##########| 141/141 [02:26<00:00, 12.59s/it]\n",
      "\u001b[A\n",
      "100%|##########| 141/141 [02:26<00:00,  1.04s/it]\n"
     ]
    },
    {
     "name": "stdout",
     "output_type": "stream",
     "text": [
      "                                                                                                                        \n",
      "Reshaping Result Matrices...\n",
      " 72%|████████████████████████████▊           | 36/50 [35:04:36<12:38:03, 3248.85s/trial, best loss: -0.0900033600934903]"
     ]
    },
    {
     "name": "stderr",
     "output_type": "stream",
     "text": [
      "  0%|          | 0/141 [00:00<?, ?it/s]\n",
      "\u001b[A\n",
      "  1%|          | 1/141 [00:00<00:17,  8.12it/s]\n",
      "\u001b[A\n",
      "  4%|4         | 6/141 [00:00<00:05, 22.67it/s]\n",
      "\u001b[A\n",
      "  9%|9         | 13/141 [00:00<00:03, 32.41it/s]\n",
      "\u001b[A\n",
      " 12%|#2        | 17/141 [00:00<00:04, 27.62it/s]\n",
      "\u001b[A\n",
      " 16%|#6        | 23/141 [00:00<00:03, 35.76it/s]\n",
      "\u001b[A\n",
      " 19%|#9        | 27/141 [00:00<00:03, 35.25it/s]\n",
      "\u001b[A\n",
      " 22%|##1       | 31/141 [00:00<00:03, 34.44it/s]\n",
      "\u001b[A\n",
      " 27%|##6       | 38/141 [00:01<00:02, 43.55it/s]\n",
      "\u001b[A\n",
      " 32%|###1      | 45/141 [00:01<00:01, 49.49it/s]\n",
      "\u001b[A\n",
      " 36%|###6      | 51/141 [00:01<00:01, 48.67it/s]\n",
      "\u001b[A\n",
      " 40%|####      | 57/141 [00:01<00:01, 48.86it/s]\n",
      "\u001b[A\n",
      " 46%|####6     | 65/141 [00:01<00:01, 55.89it/s]\n",
      "\u001b[A\n",
      " 50%|#####     | 71/141 [00:01<00:01, 51.56it/s]\n",
      "\u001b[A\n",
      " 55%|#####4    | 77/141 [00:01<00:01, 45.59it/s]\n",
      "\u001b[A\n",
      " 62%|######2   | 88/141 [00:01<00:00, 58.62it/s]\n",
      "\u001b[A\n",
      " 67%|######7   | 95/141 [00:02<00:00, 55.09it/s]\n",
      "\u001b[A\n",
      " 72%|#######1  | 101/141 [00:02<00:00, 47.72it/s]\n",
      "\u001b[A\n",
      " 77%|#######7  | 109/141 [00:02<00:00, 54.83it/s]\n",
      "\u001b[A\n",
      " 82%|########1 | 115/141 [00:02<00:00, 53.95it/s]\n",
      "\u001b[A\n",
      " 87%|########7 | 123/141 [00:02<00:00, 59.20it/s]\n",
      "\u001b[A\n",
      " 92%|#########2| 130/141 [00:02<00:00, 54.03it/s]\n",
      "\u001b[A\n",
      " 96%|#########6| 136/141 [00:02<00:00, 50.75it/s]\n",
      "\u001b[A\n",
      "100%|##########| 141/141 [00:02<00:00, 47.58it/s]\n"
     ]
    },
    {
     "name": "stdout",
     "output_type": "stream",
     "text": [
      "Stacking columns...                                                                                                     \n",
      "[Pipeline] ....... (step 1 of 3) Processing transformer, total=  22.2s                                                  \n",
      "[Pipeline] ...... (step 2 of 3) Processing maxabs_scale, total=  14.3s                                                  \n",
      "[Pipeline] ............. (step 3 of 3) Processing e_net, total=12.5min                                                  \n",
      " 72%|████████████████████████████▊           | 36/50 [35:17:51<12:38:03, 3248.85s/trial, best loss: -0.0900033600934903]"
     ]
    },
    {
     "name": "stderr",
     "output_type": "stream",
     "text": [
      "/home/rogertu/projects/MechRepoNet/mrn_venv/lib/python3.8/site-packages/sklearn/linear_model/_sag.py:328: ConvergenceWarning: The max_iter was reached which means the coef_ did not converge\n",
      "  warnings.warn(\"The max_iter was reached which means \"\n",
      "\n"
     ]
    },
    {
     "name": "stdout",
     "output_type": "stream",
     "text": [
      "[Pipeline] ....... (step 1 of 3) Processing transformer, total=  21.4s                                                  \n",
      "[Pipeline] ...... (step 2 of 3) Processing maxabs_scale, total=  13.6s                                                  \n",
      "[Pipeline] ............. (step 3 of 3) Processing e_net, total=12.7min                                                  \n",
      " 72%|████████████████████████████▊           | 36/50 [35:31:16<12:38:03, 3248.85s/trial, best loss: -0.0900033600934903]"
     ]
    },
    {
     "name": "stderr",
     "output_type": "stream",
     "text": [
      "/home/rogertu/projects/MechRepoNet/mrn_venv/lib/python3.8/site-packages/sklearn/linear_model/_sag.py:328: ConvergenceWarning: The max_iter was reached which means the coef_ did not converge\n",
      "  warnings.warn(\"The max_iter was reached which means \"\n",
      "\n"
     ]
    },
    {
     "name": "stdout",
     "output_type": "stream",
     "text": [
      "[Pipeline] ....... (step 1 of 3) Processing transformer, total=  24.3s                                                  \n",
      "[Pipeline] ...... (step 2 of 3) Processing maxabs_scale, total=  15.9s                                                  \n",
      "[Pipeline] ............. (step 3 of 3) Processing e_net, total=12.6min                                                  \n",
      " 72%|████████████████████████████▊           | 36/50 [35:44:43<12:38:03, 3248.85s/trial, best loss: -0.0900033600934903]"
     ]
    },
    {
     "name": "stderr",
     "output_type": "stream",
     "text": [
      "/home/rogertu/projects/MechRepoNet/mrn_venv/lib/python3.8/site-packages/sklearn/linear_model/_sag.py:328: ConvergenceWarning: The max_iter was reached which means the coef_ did not converge\n",
      "  warnings.warn(\"The max_iter was reached which means \"\n",
      "\n"
     ]
    },
    {
     "name": "stdout",
     "output_type": "stream",
     "text": [
      "[Pipeline] ....... (step 1 of 3) Processing transformer, total=  25.6s                                                  \n",
      "[Pipeline] ...... (step 2 of 3) Processing maxabs_scale, total=  17.0s                                                  \n",
      "[Pipeline] ............. (step 3 of 3) Processing e_net, total=13.4min                                                  \n",
      " 72%|████████████████████████████▊           | 36/50 [35:58:54<12:38:03, 3248.85s/trial, best loss: -0.0900033600934903]"
     ]
    },
    {
     "name": "stderr",
     "output_type": "stream",
     "text": [
      "/home/rogertu/projects/MechRepoNet/mrn_venv/lib/python3.8/site-packages/sklearn/linear_model/_sag.py:328: ConvergenceWarning: The max_iter was reached which means the coef_ did not converge\n",
      "  warnings.warn(\"The max_iter was reached which means \"\n",
      "\n"
     ]
    },
    {
     "name": "stdout",
     "output_type": "stream",
     "text": [
      "[Pipeline] ....... (step 1 of 3) Processing transformer, total=  23.0s                                                  \n",
      "[Pipeline] ...... (step 2 of 3) Processing maxabs_scale, total=  15.1s                                                  \n",
      "[Pipeline] ............. (step 3 of 3) Processing e_net, total=13.0min                                                  \n",
      " 72%|████████████████████████████▊           | 36/50 [36:12:40<12:38:03, 3248.85s/trial, best loss: -0.0900033600934903]"
     ]
    },
    {
     "name": "stderr",
     "output_type": "stream",
     "text": [
      "/home/rogertu/projects/MechRepoNet/mrn_venv/lib/python3.8/site-packages/sklearn/linear_model/_sag.py:328: ConvergenceWarning: The max_iter was reached which means the coef_ did not converge\n",
      "  warnings.warn(\"The max_iter was reached which means \"\n",
      "\n"
     ]
    },
    {
     "name": "stdout",
     "output_type": "stream",
     "text": [
      "Mean AUROC: 0.7120                                                                                                      \n",
      "Mean Avg Pre: 0.0152                                                                                                    \n",
      "STD AUROC: 0.0648                                                                                                       \n",
      "STD Avg Pre: 0.0109                                                                                                     \n",
      "Loss: -0.0896                                                                                                           \n",
      "Changing w from 0.5229552051830024 to 0.26655999851836404. Please wait...                                               \n",
      " 74%|█████████████████████████████▌          | 37/50 [36:12:47<12:48:52, 3548.68s/trial, best loss: -0.0900033600934903]"
     ]
    },
    {
     "name": "stderr",
     "output_type": "stream",
     "text": [
      "  0%|          | 0/68 [00:00<?, ?it/s]\n",
      "\u001b[A\n",
      "  1%|1         | 1/68 [00:00<00:09,  6.70it/s]\n",
      "\u001b[A\n",
      "  7%|7         | 5/68 [00:00<00:02, 22.59it/s]\n",
      "\u001b[A\n",
      " 41%|####1     | 28/68 [00:00<00:00, 103.47it/s]\n",
      "\u001b[A\n",
      " 59%|#####8    | 40/68 [00:00<00:00, 105.52it/s]\n",
      "\u001b[A\n",
      " 87%|########6 | 59/68 [00:00<00:00, 132.82it/s]\n",
      "\u001b[A\n",
      "100%|##########| 68/68 [00:00<00:00, 98.87it/s] \n"
     ]
    },
    {
     "name": "stdout",
     "output_type": "stream",
     "text": [
      "Preparing function arguments...                                                                                         \n",
      "Calculating DWPCs...                                                                                                    \n",
      " 74%|█████████████████████████████▌          | 37/50 [36:12:53<12:48:52, 3548.68s/trial, best loss: -0.0900033600934903]"
     ]
    },
    {
     "name": "stderr",
     "output_type": "stream",
     "text": [
      "  0%|          | 0/141 [00:00<?, ?it/s]\n",
      "\u001b[A\n",
      "  1%|          | 1/141 [00:00<00:16,  8.42it/s]\n",
      "\u001b[A\n",
      "  4%|4         | 6/141 [00:00<00:05, 25.50it/s]\n",
      "\u001b[A\n",
      "  8%|7         | 11/141 [00:00<00:04, 29.75it/s]\n",
      "\u001b[A\n",
      " 10%|9         | 14/141 [00:00<00:05, 24.95it/s]\n",
      "\u001b[A\n",
      " 16%|#6        | 23/141 [00:00<00:02, 40.24it/s]\n",
      "\u001b[A\n",
      " 21%|##1       | 30/141 [00:00<00:02, 44.80it/s]\n",
      "\u001b[A\n",
      " 25%|##4       | 35/141 [00:00<00:02, 43.61it/s]\n",
      "\u001b[A\n",
      " 34%|###4      | 48/141 [00:01<00:01, 64.29it/s]\n",
      "\u001b[A\n",
      " 39%|###9      | 55/141 [00:01<00:01, 59.79it/s]\n",
      "\u001b[A\n",
      " 44%|####3     | 62/141 [00:01<00:01, 47.82it/s]\n",
      "\u001b[A\n",
      " 49%|####8     | 69/141 [00:01<00:01, 52.63it/s]\n",
      "\u001b[A\n",
      " 57%|#####6    | 80/141 [00:01<00:00, 64.15it/s]\n",
      "\u001b[A\n",
      " 62%|######1   | 87/141 [00:01<00:01, 53.84it/s]\n",
      "\u001b[A\n",
      " 66%|######5   | 93/141 [00:01<00:00, 54.79it/s]\n",
      "\u001b[A\n",
      " 70%|#######   | 99/141 [00:02<00:00, 52.72it/s]\n",
      "\u001b[A\n",
      " 74%|#######4  | 105/141 [00:02<00:00, 45.93it/s]\n",
      "\u001b[A\n",
      " 79%|#######8  | 111/141 [00:02<00:00, 49.10it/s]\n",
      "\u001b[A\n",
      " 84%|########3 | 118/141 [00:02<00:00, 52.45it/s]\n",
      "\u001b[A\n",
      " 88%|########7 | 124/141 [00:02<00:00, 50.27it/s]\n",
      "\u001b[A\n",
      " 95%|#########5| 134/141 [00:02<00:00, 56.94it/s]\n",
      "\u001b[A\n",
      " 95%|#########5| 134/141 [00:18<00:00, 56.94it/s]\n",
      "\u001b[A\n",
      " 98%|#########7| 138/141 [00:53<00:07,  2.36s/it]\n",
      "\u001b[A\n",
      " 99%|#########8| 139/141 [01:10<00:06,  3.29s/it]\n",
      "\u001b[A\n",
      " 99%|#########9| 140/141 [01:18<00:03,  3.71s/it]\n",
      "\u001b[A\n",
      " 99%|#########9| 140/141 [01:38<00:03,  3.71s/it]\n",
      "\u001b[A\n",
      "100%|##########| 141/141 [02:05<00:00,  8.14s/it]\n",
      "\u001b[A\n",
      "100%|##########| 141/141 [02:05<00:00,  1.13it/s]\n"
     ]
    },
    {
     "name": "stdout",
     "output_type": "stream",
     "text": [
      "                                                                                                                        \n",
      "Reshaping Result Matrices...\n",
      " 74%|█████████████████████████████▌          | 37/50 [36:15:03<12:48:52, 3548.68s/trial, best loss: -0.0900033600934903]"
     ]
    },
    {
     "name": "stderr",
     "output_type": "stream",
     "text": [
      "  0%|          | 0/141 [00:00<?, ?it/s]\n",
      "\u001b[A\n",
      "  2%|2         | 3/141 [00:00<00:07, 18.59it/s]\n",
      "\u001b[A\n",
      "  5%|4         | 7/141 [00:00<00:04, 28.42it/s]\n",
      "\u001b[A\n",
      "  9%|9         | 13/141 [00:00<00:03, 34.36it/s]\n",
      "\u001b[A\n",
      " 12%|#2        | 17/141 [00:00<00:04, 28.48it/s]\n",
      "\u001b[A\n",
      " 17%|#7        | 24/141 [00:00<00:02, 39.33it/s]\n",
      "\u001b[A\n",
      " 21%|##        | 29/141 [00:00<00:02, 39.74it/s]\n",
      "\u001b[A\n",
      " 24%|##4       | 34/141 [00:00<00:02, 36.03it/s]\n",
      "\u001b[A\n",
      " 29%|##9       | 41/141 [00:01<00:02, 43.98it/s]\n",
      "\u001b[A\n",
      " 35%|###4      | 49/141 [00:01<00:01, 50.20it/s]\n",
      "\u001b[A\n",
      " 39%|###9      | 55/141 [00:01<00:01, 48.59it/s]\n",
      "\u001b[A\n",
      " 44%|####3     | 62/141 [00:01<00:01, 51.16it/s]\n",
      "\u001b[A\n",
      " 50%|####9     | 70/141 [00:01<00:01, 52.94it/s]\n",
      "\u001b[A\n",
      " 54%|#####3    | 76/141 [00:01<00:01, 43.71it/s]\n",
      "\u001b[A\n",
      " 62%|######2   | 88/141 [00:01<00:00, 58.27it/s]\n",
      "\u001b[A\n",
      " 67%|######7   | 95/141 [00:02<00:00, 55.03it/s]\n",
      "\u001b[A\n",
      " 72%|#######1  | 101/141 [00:02<00:00, 47.73it/s]\n",
      "\u001b[A\n",
      " 77%|#######7  | 109/141 [00:02<00:00, 54.66it/s]\n",
      "\u001b[A\n",
      " 82%|########1 | 115/141 [00:02<00:00, 53.83it/s]\n",
      "\u001b[A\n",
      " 87%|########7 | 123/141 [00:02<00:00, 58.93it/s]\n",
      "\u001b[A\n",
      " 92%|#########2| 130/141 [00:02<00:00, 54.00it/s]\n",
      "\u001b[A\n",
      " 96%|#########6| 136/141 [00:02<00:00, 50.77it/s]\n",
      "\u001b[A\n",
      "100%|##########| 141/141 [00:02<00:00, 48.24it/s]\n"
     ]
    },
    {
     "name": "stdout",
     "output_type": "stream",
     "text": [
      "Stacking columns...                                                                                                     \n",
      "[Pipeline] ....... (step 1 of 3) Processing transformer, total=  22.1s                                                  \n",
      "[Pipeline] ...... (step 2 of 3) Processing maxabs_scale, total=  14.3s                                                  \n",
      "[Pipeline] ............. (step 3 of 3) Processing e_net, total=13.3min                                                  \n",
      " 74%|█████████████████████████████▌          | 37/50 [36:29:07<12:48:52, 3548.68s/trial, best loss: -0.0900033600934903]"
     ]
    },
    {
     "name": "stderr",
     "output_type": "stream",
     "text": [
      "/home/rogertu/projects/MechRepoNet/mrn_venv/lib/python3.8/site-packages/sklearn/linear_model/_sag.py:328: ConvergenceWarning: The max_iter was reached which means the coef_ did not converge\n",
      "  warnings.warn(\"The max_iter was reached which means \"\n",
      "\n"
     ]
    },
    {
     "name": "stdout",
     "output_type": "stream",
     "text": [
      "[Pipeline] ....... (step 1 of 3) Processing transformer, total=  21.8s                                                  \n",
      "[Pipeline] ...... (step 2 of 3) Processing maxabs_scale, total=  13.9s                                                  \n",
      "[Pipeline] ............. (step 3 of 3) Processing e_net, total=13.4min                                                  \n",
      " 74%|█████████████████████████████▌          | 37/50 [36:43:14<12:48:52, 3548.68s/trial, best loss: -0.0900033600934903]"
     ]
    },
    {
     "name": "stderr",
     "output_type": "stream",
     "text": [
      "/home/rogertu/projects/MechRepoNet/mrn_venv/lib/python3.8/site-packages/sklearn/linear_model/_sag.py:328: ConvergenceWarning: The max_iter was reached which means the coef_ did not converge\n",
      "  warnings.warn(\"The max_iter was reached which means \"\n",
      "\n"
     ]
    },
    {
     "name": "stdout",
     "output_type": "stream",
     "text": [
      "[Pipeline] ....... (step 1 of 3) Processing transformer, total=  24.7s                                                  \n",
      "[Pipeline] ...... (step 2 of 3) Processing maxabs_scale, total=  16.2s                                                  \n",
      "[Pipeline] ............. (step 3 of 3) Processing e_net, total=13.4min                                                  \n",
      " 74%|█████████████████████████████▌          | 37/50 [36:57:27<12:48:52, 3548.68s/trial, best loss: -0.0900033600934903]"
     ]
    },
    {
     "name": "stderr",
     "output_type": "stream",
     "text": [
      "/home/rogertu/projects/MechRepoNet/mrn_venv/lib/python3.8/site-packages/sklearn/linear_model/_sag.py:328: ConvergenceWarning: The max_iter was reached which means the coef_ did not converge\n",
      "  warnings.warn(\"The max_iter was reached which means \"\n",
      "\n"
     ]
    },
    {
     "name": "stdout",
     "output_type": "stream",
     "text": [
      "[Pipeline] ....... (step 1 of 3) Processing transformer, total=  26.2s                                                  \n",
      "[Pipeline] ...... (step 2 of 3) Processing maxabs_scale, total=  17.3s                                                  \n",
      "[Pipeline] ............. (step 3 of 3) Processing e_net, total=13.9min                                                  \n",
      " 74%|█████████████████████████████▌          | 37/50 [37:12:11<12:48:52, 3548.68s/trial, best loss: -0.0900033600934903]"
     ]
    },
    {
     "name": "stderr",
     "output_type": "stream",
     "text": [
      "/home/rogertu/projects/MechRepoNet/mrn_venv/lib/python3.8/site-packages/sklearn/linear_model/_sag.py:328: ConvergenceWarning: The max_iter was reached which means the coef_ did not converge\n",
      "  warnings.warn(\"The max_iter was reached which means \"\n",
      "\n"
     ]
    },
    {
     "name": "stdout",
     "output_type": "stream",
     "text": [
      "[Pipeline] ....... (step 1 of 3) Processing transformer, total=  23.2s                                                  \n",
      "[Pipeline] ...... (step 2 of 3) Processing maxabs_scale, total=  15.1s                                                  \n",
      "[Pipeline] ............. (step 3 of 3) Processing e_net, total=13.6min                                                  \n",
      " 74%|█████████████████████████████▌          | 37/50 [37:26:27<12:48:52, 3548.68s/trial, best loss: -0.0900033600934903]"
     ]
    },
    {
     "name": "stderr",
     "output_type": "stream",
     "text": [
      "/home/rogertu/projects/MechRepoNet/mrn_venv/lib/python3.8/site-packages/sklearn/linear_model/_sag.py:328: ConvergenceWarning: The max_iter was reached which means the coef_ did not converge\n",
      "  warnings.warn(\"The max_iter was reached which means \"\n",
      "\n"
     ]
    },
    {
     "name": "stdout",
     "output_type": "stream",
     "text": [
      "Mean AUROC: 0.7012                                                                                                      \n",
      "Mean Avg Pre: 0.0149                                                                                                    \n",
      "STD AUROC: 0.0511                                                                                                       \n",
      "STD Avg Pre: 0.0109                                                                                                     \n",
      "Loss: -0.0889                                                                                                           \n",
      "Changing w from 0.26655999851836404 to 0.7564695375116923. Please wait...                                               \n",
      " 76%|██████████████████████████████▍         | 38/50 [37:26:34<12:42:25, 3812.16s/trial, best loss: -0.0900033600934903]"
     ]
    },
    {
     "name": "stderr",
     "output_type": "stream",
     "text": [
      "  0%|          | 0/68 [00:00<?, ?it/s]\n",
      "\u001b[A\n",
      "  1%|1         | 1/68 [00:00<00:09,  7.16it/s]\n",
      "\u001b[A\n",
      "  7%|7         | 5/68 [00:00<00:02, 23.62it/s]\n",
      "\u001b[A\n",
      " 46%|####5     | 31/68 [00:00<00:00, 121.74it/s]\n",
      "\u001b[A\n",
      " 66%|######6   | 45/68 [00:00<00:00, 119.80it/s]\n",
      "\u001b[A\n",
      " 99%|#########8| 67/68 [00:00<00:00, 142.36it/s]\n",
      "\u001b[A\n",
      "100%|##########| 68/68 [00:00<00:00, 109.02it/s]\n"
     ]
    },
    {
     "name": "stdout",
     "output_type": "stream",
     "text": [
      "Preparing function arguments...                                                                                         \n",
      "Calculating DWPCs...                                                                                                    \n",
      " 76%|██████████████████████████████▍         | 38/50 [37:26:40<12:42:25, 3812.16s/trial, best loss: -0.0900033600934903]"
     ]
    },
    {
     "name": "stderr",
     "output_type": "stream",
     "text": [
      "  0%|          | 0/141 [00:00<?, ?it/s]\n",
      "\u001b[A\n",
      "  1%|          | 1/141 [00:00<00:16,  8.47it/s]\n",
      "\u001b[A\n",
      "  4%|3         | 5/141 [00:00<00:05, 25.12it/s]\n",
      "\u001b[A\n",
      "  8%|7         | 11/141 [00:00<00:04, 27.75it/s]\n",
      "\u001b[A\n",
      " 11%|#         | 15/141 [00:00<00:04, 28.84it/s]\n",
      "\u001b[A\n",
      " 16%|#5        | 22/141 [00:00<00:03, 37.89it/s]\n",
      "\u001b[A\n",
      " 20%|#9        | 28/141 [00:00<00:02, 42.35it/s]\n",
      "\u001b[A\n",
      " 24%|##4       | 34/141 [00:00<00:02, 42.03it/s]\n",
      "\u001b[A\n",
      " 31%|###1      | 44/141 [00:01<00:01, 53.17it/s]\n",
      "\u001b[A\n",
      " 38%|###7      | 53/141 [00:01<00:01, 58.08it/s]\n",
      "\u001b[A\n",
      " 42%|####1     | 59/141 [00:01<00:01, 56.24it/s]\n",
      "\u001b[A\n",
      " 46%|####6     | 65/141 [00:01<00:01, 46.61it/s]\n",
      "\u001b[A\n",
      " 51%|#####1    | 72/141 [00:01<00:01, 48.79it/s]\n",
      "\u001b[A\n",
      " 58%|#####8    | 82/141 [00:01<00:00, 60.45it/s]\n",
      "\u001b[A\n",
      " 63%|######3   | 89/141 [00:01<00:00, 62.60it/s]\n",
      "\u001b[A\n",
      " 68%|######8   | 96/141 [00:01<00:00, 60.61it/s]\n",
      "\u001b[A\n",
      " 73%|#######3  | 103/141 [00:02<00:00, 44.59it/s]\n",
      "\u001b[A\n",
      " 77%|#######7  | 109/141 [00:02<00:00, 40.54it/s]\n",
      "\u001b[A\n",
      " 84%|########3 | 118/141 [00:02<00:00, 50.14it/s]\n",
      "\u001b[A\n",
      " 88%|########7 | 124/141 [00:02<00:00, 47.80it/s]\n",
      "\u001b[A\n",
      " 95%|#########5| 134/141 [00:02<00:00, 53.21it/s]\n",
      "\u001b[A\n",
      " 95%|#########5| 134/141 [00:21<00:00, 53.21it/s]\n",
      "\u001b[A\n",
      " 98%|#########7| 138/141 [00:54<00:06,  2.30s/it]\n",
      "\u001b[A\n",
      " 99%|#########8| 139/141 [00:58<00:04,  2.41s/it]\n",
      "\u001b[A\n",
      " 99%|#########8| 139/141 [01:11<00:04,  2.41s/it]\n",
      "\u001b[A\n",
      "100%|##########| 141/141 [02:21<00:00,  8.10s/it]\n",
      "\u001b[A\n",
      "100%|##########| 141/141 [02:21<00:00,  1.00s/it]\n"
     ]
    },
    {
     "name": "stdout",
     "output_type": "stream",
     "text": [
      "                                                                                                                        \n",
      "Reshaping Result Matrices...\n",
      " 76%|██████████████████████████████▍         | 38/50 [37:29:06<12:42:25, 3812.16s/trial, best loss: -0.0900033600934903]"
     ]
    },
    {
     "name": "stderr",
     "output_type": "stream",
     "text": [
      "  0%|          | 0/141 [00:00<?, ?it/s]\n",
      "\u001b[A\n",
      "  1%|          | 1/141 [00:00<00:18,  7.59it/s]\n",
      "\u001b[A\n",
      "  4%|4         | 6/141 [00:00<00:06, 22.10it/s]\n",
      "\u001b[A\n",
      "  9%|9         | 13/141 [00:00<00:03, 32.05it/s]\n",
      "\u001b[A\n",
      " 12%|#2        | 17/141 [00:00<00:04, 27.47it/s]\n",
      "\u001b[A\n",
      " 16%|#5        | 22/141 [00:00<00:03, 33.13it/s]\n",
      "\u001b[A\n",
      " 19%|#9        | 27/141 [00:00<00:03, 35.63it/s]\n",
      "\u001b[A\n",
      " 22%|##1       | 31/141 [00:00<00:03, 34.67it/s]\n",
      "\u001b[A\n",
      " 27%|##6       | 38/141 [00:01<00:02, 43.62it/s]\n",
      "\u001b[A\n",
      " 32%|###1      | 45/141 [00:01<00:01, 49.47it/s]\n",
      "\u001b[A\n",
      " 36%|###6      | 51/141 [00:01<00:01, 48.38it/s]\n",
      "\u001b[A\n",
      " 40%|###9      | 56/141 [00:01<00:01, 46.07it/s]\n",
      "\u001b[A\n",
      " 46%|####6     | 65/141 [00:01<00:01, 56.14it/s]\n",
      "\u001b[A\n",
      " 50%|#####     | 71/141 [00:01<00:01, 51.61it/s]\n",
      "\u001b[A\n",
      " 55%|#####4    | 77/141 [00:01<00:01, 45.47it/s]\n",
      "\u001b[A\n",
      " 62%|######2   | 88/141 [00:01<00:00, 58.22it/s]\n",
      "\u001b[A\n",
      " 67%|######7   | 95/141 [00:02<00:00, 54.58it/s]\n",
      "\u001b[A\n",
      " 72%|#######1  | 101/141 [00:02<00:00, 47.21it/s]\n",
      "\u001b[A\n",
      " 77%|#######7  | 109/141 [00:02<00:00, 54.33it/s]\n",
      "\u001b[A\n",
      " 82%|########1 | 115/141 [00:02<00:00, 53.57it/s]\n",
      "\u001b[A\n",
      " 87%|########7 | 123/141 [00:02<00:00, 58.83it/s]\n",
      "\u001b[A\n",
      " 92%|#########2| 130/141 [00:02<00:00, 53.90it/s]\n",
      "\u001b[A\n",
      " 96%|#########6| 136/141 [00:02<00:00, 50.59it/s]\n",
      "\u001b[A\n",
      "100%|##########| 141/141 [00:02<00:00, 47.15it/s]\n"
     ]
    },
    {
     "name": "stdout",
     "output_type": "stream",
     "text": [
      "Stacking columns...                                                                                                     \n",
      "[Pipeline] ....... (step 1 of 3) Processing transformer, total=  22.7s                                                  \n",
      "[Pipeline] ...... (step 2 of 3) Processing maxabs_scale, total=  14.7s                                                  \n",
      "[Pipeline] ............. (step 3 of 3) Processing e_net, total= 5.9min                                                  \n",
      "[Pipeline] ....... (step 1 of 3) Processing transformer, total=  22.0s                                                  \n",
      "[Pipeline] ...... (step 2 of 3) Processing maxabs_scale, total=  14.0s                                                  \n",
      "[Pipeline] ............. (step 3 of 3) Processing e_net, total= 8.5min                                                  \n",
      "[Pipeline] ....... (step 1 of 3) Processing transformer, total=  24.9s                                                  \n",
      "[Pipeline] ...... (step 2 of 3) Processing maxabs_scale, total=  16.4s                                                  \n",
      "[Pipeline] ............. (step 3 of 3) Processing e_net, total= 7.4min                                                  \n",
      "[Pipeline] ....... (step 1 of 3) Processing transformer, total=  26.5s                                                  \n",
      "[Pipeline] ...... (step 2 of 3) Processing maxabs_scale, total=  17.2s                                                  \n",
      "[Pipeline] ............. (step 3 of 3) Processing e_net, total= 5.0min                                                  \n",
      "[Pipeline] ....... (step 1 of 3) Processing transformer, total=  23.9s                                                  \n",
      "[Pipeline] ...... (step 2 of 3) Processing maxabs_scale, total=  15.6s                                                  \n",
      "[Pipeline] ............. (step 3 of 3) Processing e_net, total= 8.2min                                                  \n",
      "Mean AUROC: 0.7112                                                                                                      \n",
      "Mean Avg Pre: 0.0121                                                                                                    \n",
      "STD AUROC: 0.0526                                                                                                       \n",
      "STD Avg Pre: 0.0064                                                                                                     \n",
      "Loss: -0.0882                                                                                                           \n",
      "Changing w from 0.7564695375116923 to 0.17149359413874582. Please wait...                                               \n",
      " 78%|███████████████████████████████▏        | 39/50 [38:08:08<10:26:24, 3416.76s/trial, best loss: -0.0900033600934903]"
     ]
    },
    {
     "name": "stderr",
     "output_type": "stream",
     "text": [
      "  0%|          | 0/68 [00:00<?, ?it/s]\n",
      "\u001b[A\n",
      "  1%|1         | 1/68 [00:00<00:09,  6.82it/s]\n",
      "\u001b[A\n",
      " 16%|#6        | 11/68 [00:00<00:01, 52.78it/s]\n",
      "\u001b[A\n",
      " 35%|###5      | 24/68 [00:00<00:00, 84.57it/s]\n",
      "\u001b[A\n",
      " 65%|######4   | 44/68 [00:00<00:00, 105.88it/s]\n",
      "\u001b[A\n",
      " 97%|#########7| 66/68 [00:00<00:00, 132.55it/s]\n",
      "\u001b[A\n",
      "100%|##########| 68/68 [00:00<00:00, 107.94it/s]\n"
     ]
    },
    {
     "name": "stdout",
     "output_type": "stream",
     "text": [
      "Preparing function arguments...                                                                                         \n",
      "Calculating DWPCs...                                                                                                    \n",
      " 78%|███████████████████████████████▏        | 39/50 [38:08:14<10:26:24, 3416.76s/trial, best loss: -0.0900033600934903]"
     ]
    },
    {
     "name": "stderr",
     "output_type": "stream",
     "text": [
      "  0%|          | 0/141 [00:00<?, ?it/s]\n",
      "\u001b[A\n",
      "  1%|          | 1/141 [00:00<00:16,  8.59it/s]\n",
      "\u001b[A\n",
      "  4%|3         | 5/141 [00:00<00:05, 25.61it/s]\n",
      "\u001b[A\n",
      "  6%|5         | 8/141 [00:00<00:05, 25.44it/s]\n",
      "\u001b[A\n",
      "  9%|9         | 13/141 [00:00<00:04, 31.25it/s]\n",
      "\u001b[A\n",
      " 13%|#2        | 18/141 [00:00<00:03, 35.65it/s]\n",
      "\u001b[A\n",
      " 17%|#7        | 24/141 [00:00<00:03, 37.40it/s]\n",
      "\u001b[A\n",
      " 23%|##2       | 32/141 [00:00<00:02, 48.48it/s]\n",
      "\u001b[A\n",
      " 27%|##6       | 38/141 [00:00<00:02, 47.42it/s]\n",
      "\u001b[A\n",
      " 35%|###4      | 49/141 [00:01<00:01, 63.74it/s]\n",
      "\u001b[A\n",
      " 40%|###9      | 56/141 [00:01<00:01, 56.55it/s]\n",
      "\u001b[A\n",
      " 44%|####3     | 62/141 [00:01<00:01, 41.15it/s]\n",
      "\u001b[A\n",
      " 48%|####7     | 67/141 [00:01<00:01, 42.46it/s]\n",
      "\u001b[A\n",
      " 51%|#####1    | 72/141 [00:01<00:01, 35.38it/s]\n",
      "\u001b[A\n",
      " 55%|#####4    | 77/141 [00:01<00:01, 36.07it/s]\n",
      "\u001b[A\n",
      " 58%|#####8    | 82/141 [00:02<00:01, 37.88it/s]\n",
      "\u001b[A\n",
      " 63%|######3   | 89/141 [00:02<00:01, 44.09it/s]\n",
      "\u001b[A\n",
      " 69%|######8   | 97/141 [00:02<00:00, 47.36it/s]\n",
      "\u001b[A\n",
      " 72%|#######2  | 102/141 [00:02<00:01, 34.89it/s]\n",
      "\u001b[A\n",
      " 76%|#######5  | 107/141 [00:02<00:01, 31.28it/s]\n",
      "\u001b[A\n",
      " 81%|########  | 114/141 [00:02<00:00, 38.11it/s]\n",
      "\u001b[A\n",
      " 86%|########5 | 121/141 [00:03<00:00, 41.49it/s]\n",
      "\u001b[A\n",
      " 90%|######### | 127/141 [00:03<00:00, 40.34it/s]\n",
      "\u001b[A\n",
      " 95%|#########5| 134/141 [00:03<00:00, 45.73it/s]\n",
      "\u001b[A\n",
      " 95%|#########5| 134/141 [00:17<00:00, 45.73it/s]\n",
      "\u001b[A\n",
      " 98%|#########7| 138/141 [00:54<00:08,  2.68s/it]\n",
      "\u001b[A\n",
      " 99%|#########8| 139/141 [00:56<00:05,  2.62s/it]\n",
      "\u001b[A\n",
      " 99%|#########8| 139/141 [01:07<00:05,  2.62s/it]\n",
      "\u001b[A\n",
      "100%|##########| 141/141 [02:18<00:00,  8.99s/it]\n",
      "\u001b[A\n",
      "100%|##########| 141/141 [02:18<00:00,  1.02it/s]\n"
     ]
    },
    {
     "name": "stdout",
     "output_type": "stream",
     "text": [
      "                                                                                                                        \n",
      "Reshaping Result Matrices...\n",
      " 78%|███████████████████████████████▏        | 39/50 [38:10:37<10:26:24, 3416.76s/trial, best loss: -0.0900033600934903]"
     ]
    },
    {
     "name": "stderr",
     "output_type": "stream",
     "text": [
      "  0%|          | 0/141 [00:00<?, ?it/s]\n",
      "\u001b[A\n",
      "  1%|          | 1/141 [00:00<00:18,  7.42it/s]\n",
      "\u001b[A\n",
      "  4%|4         | 6/141 [00:00<00:06, 21.82it/s]\n",
      "\u001b[A\n",
      "  9%|9         | 13/141 [00:00<00:04, 31.31it/s]\n",
      "\u001b[A\n",
      " 12%|#2        | 17/141 [00:00<00:04, 26.61it/s]\n",
      "\u001b[A\n",
      " 16%|#5        | 22/141 [00:00<00:03, 32.19it/s]\n",
      "\u001b[A\n",
      " 19%|#9        | 27/141 [00:00<00:03, 34.75it/s]\n",
      "\u001b[A\n",
      " 22%|##1       | 31/141 [00:01<00:03, 33.92it/s]\n",
      "\u001b[A\n",
      " 27%|##6       | 38/141 [00:01<00:02, 42.66it/s]\n",
      "\u001b[A\n",
      " 32%|###1      | 45/141 [00:01<00:01, 48.21it/s]\n",
      "\u001b[A\n",
      " 36%|###6      | 51/141 [00:01<00:01, 47.55it/s]\n",
      "\u001b[A\n",
      " 40%|###9      | 56/141 [00:01<00:01, 45.29it/s]\n",
      "\u001b[A\n",
      " 45%|####4     | 63/141 [00:01<00:01, 51.65it/s]\n",
      "\u001b[A\n",
      " 50%|####9     | 70/141 [00:01<00:01, 53.04it/s]\n",
      "\u001b[A\n",
      " 54%|#####3    | 76/141 [00:01<00:01, 42.68it/s]\n",
      "\u001b[A\n",
      " 62%|######2   | 88/141 [00:02<00:00, 57.72it/s]\n",
      "\u001b[A\n",
      " 67%|######7   | 95/141 [00:02<00:00, 54.53it/s]\n",
      "\u001b[A\n",
      " 72%|#######1  | 101/141 [00:02<00:00, 47.43it/s]\n",
      "\u001b[A\n",
      " 77%|#######7  | 109/141 [00:02<00:00, 54.45it/s]\n",
      "\u001b[A\n",
      " 82%|########1 | 115/141 [00:02<00:00, 53.22it/s]\n",
      "\u001b[A\n",
      " 87%|########7 | 123/141 [00:02<00:00, 58.33it/s]\n",
      "\u001b[A\n",
      " 92%|#########2| 130/141 [00:02<00:00, 53.37it/s]\n",
      "\u001b[A\n",
      " 96%|#########6| 136/141 [00:02<00:00, 50.26it/s]\n",
      "\u001b[A\n",
      "100%|##########| 141/141 [00:03<00:00, 46.37it/s]\n"
     ]
    },
    {
     "name": "stdout",
     "output_type": "stream",
     "text": [
      "Stacking columns...                                                                                                     \n",
      "[Pipeline] ....... (step 1 of 3) Processing transformer, total=  22.3s                                                  \n",
      "[Pipeline] ...... (step 2 of 3) Processing maxabs_scale, total=  14.5s                                                  \n",
      "[Pipeline] ............. (step 3 of 3) Processing e_net, total=13.3min                                                  \n",
      " 78%|███████████████████████████████▏        | 39/50 [38:24:40<10:26:24, 3416.76s/trial, best loss: -0.0900033600934903]"
     ]
    },
    {
     "name": "stderr",
     "output_type": "stream",
     "text": [
      "/home/rogertu/projects/MechRepoNet/mrn_venv/lib/python3.8/site-packages/sklearn/linear_model/_sag.py:328: ConvergenceWarning: The max_iter was reached which means the coef_ did not converge\n",
      "  warnings.warn(\"The max_iter was reached which means \"\n",
      "\n"
     ]
    },
    {
     "name": "stdout",
     "output_type": "stream",
     "text": [
      "[Pipeline] ....... (step 1 of 3) Processing transformer, total=  21.7s                                                  \n",
      "[Pipeline] ...... (step 2 of 3) Processing maxabs_scale, total=  13.8s                                                  \n",
      "[Pipeline] ............. (step 3 of 3) Processing e_net, total=13.3min                                                  \n",
      " 78%|███████████████████████████████▏        | 39/50 [38:38:39<10:26:24, 3416.76s/trial, best loss: -0.0900033600934903]"
     ]
    },
    {
     "name": "stderr",
     "output_type": "stream",
     "text": [
      "/home/rogertu/projects/MechRepoNet/mrn_venv/lib/python3.8/site-packages/sklearn/linear_model/_sag.py:328: ConvergenceWarning: The max_iter was reached which means the coef_ did not converge\n",
      "  warnings.warn(\"The max_iter was reached which means \"\n",
      "\n"
     ]
    },
    {
     "name": "stdout",
     "output_type": "stream",
     "text": [
      "[Pipeline] ....... (step 1 of 3) Processing transformer, total=  24.5s                                                  \n",
      "[Pipeline] ...... (step 2 of 3) Processing maxabs_scale, total=  16.1s                                                  \n",
      "[Pipeline] ............. (step 3 of 3) Processing e_net, total=13.5min                                                  \n",
      " 78%|███████████████████████████████▏        | 39/50 [38:53:01<10:26:24, 3416.76s/trial, best loss: -0.0900033600934903]"
     ]
    },
    {
     "name": "stderr",
     "output_type": "stream",
     "text": [
      "/home/rogertu/projects/MechRepoNet/mrn_venv/lib/python3.8/site-packages/sklearn/linear_model/_sag.py:328: ConvergenceWarning: The max_iter was reached which means the coef_ did not converge\n",
      "  warnings.warn(\"The max_iter was reached which means \"\n",
      "\n"
     ]
    },
    {
     "name": "stdout",
     "output_type": "stream",
     "text": [
      "[Pipeline] ....... (step 1 of 3) Processing transformer, total=  26.2s                                                  \n",
      "[Pipeline] ...... (step 2 of 3) Processing maxabs_scale, total=  17.5s                                                  \n",
      "[Pipeline] ............. (step 3 of 3) Processing e_net, total=13.9min                                                  \n",
      " 78%|███████████████████████████████▏        | 39/50 [39:07:48<10:26:24, 3416.76s/trial, best loss: -0.0900033600934903]"
     ]
    },
    {
     "name": "stderr",
     "output_type": "stream",
     "text": [
      "/home/rogertu/projects/MechRepoNet/mrn_venv/lib/python3.8/site-packages/sklearn/linear_model/_sag.py:328: ConvergenceWarning: The max_iter was reached which means the coef_ did not converge\n",
      "  warnings.warn(\"The max_iter was reached which means \"\n",
      "\n"
     ]
    },
    {
     "name": "stdout",
     "output_type": "stream",
     "text": [
      "[Pipeline] ....... (step 1 of 3) Processing transformer, total=  23.6s                                                  \n",
      "[Pipeline] ...... (step 2 of 3) Processing maxabs_scale, total=  15.5s                                                  \n",
      "[Pipeline] ............. (step 3 of 3) Processing e_net, total=13.7min                                                  \n",
      " 78%|███████████████████████████████▏        | 39/50 [39:22:12<10:26:24, 3416.76s/trial, best loss: -0.0900033600934903]"
     ]
    },
    {
     "name": "stderr",
     "output_type": "stream",
     "text": [
      "/home/rogertu/projects/MechRepoNet/mrn_venv/lib/python3.8/site-packages/sklearn/linear_model/_sag.py:328: ConvergenceWarning: The max_iter was reached which means the coef_ did not converge\n",
      "  warnings.warn(\"The max_iter was reached which means \"\n",
      "\n"
     ]
    },
    {
     "name": "stdout",
     "output_type": "stream",
     "text": [
      "Mean AUROC: 0.6964                                                                                                      \n",
      "Mean Avg Pre: 0.0144                                                                                                    \n",
      "STD AUROC: 0.0485                                                                                                       \n",
      "STD Avg Pre: 0.0106                                                                                                     \n",
      "Loss: -0.0876                                                                                                           \n",
      "Changing w from 0.17149359413874582 to 0.08523291756264606. Please wait...                                              \n",
      " 80%|████████████████████████████████        | 40/50 [39:22:19<10:21:10, 3727.02s/trial, best loss: -0.0900033600934903]"
     ]
    },
    {
     "name": "stderr",
     "output_type": "stream",
     "text": [
      "  0%|          | 0/68 [00:00<?, ?it/s]\n",
      "\u001b[A\n",
      "  1%|1         | 1/68 [00:00<00:10,  6.64it/s]\n",
      "\u001b[A\n",
      " 16%|#6        | 11/68 [00:00<00:01, 51.03it/s]\n",
      "\u001b[A\n",
      " 46%|####5     | 31/68 [00:00<00:00, 109.38it/s]\n",
      "\u001b[A\n",
      " 69%|######9   | 47/68 [00:00<00:00, 125.54it/s]\n",
      "\u001b[A\n",
      " 96%|#########5| 65/68 [00:00<00:00, 143.26it/s]\n",
      "\u001b[A\n",
      "100%|##########| 68/68 [00:00<00:00, 108.17it/s]\n"
     ]
    },
    {
     "name": "stdout",
     "output_type": "stream",
     "text": [
      "Preparing function arguments...                                                                                         \n",
      "Calculating DWPCs...                                                                                                    \n",
      " 80%|████████████████████████████████        | 40/50 [39:22:25<10:21:10, 3727.02s/trial, best loss: -0.0900033600934903]"
     ]
    },
    {
     "name": "stderr",
     "output_type": "stream",
     "text": [
      "  0%|          | 0/141 [00:00<?, ?it/s]\n",
      "\u001b[A\n",
      "  1%|          | 1/141 [00:00<00:17,  7.88it/s]\n",
      "\u001b[A\n",
      "  4%|3         | 5/141 [00:00<00:06, 20.53it/s]\n",
      "\u001b[A\n",
      "  8%|7         | 11/141 [00:00<00:04, 28.30it/s]\n",
      "\u001b[A\n",
      " 10%|9         | 14/141 [00:00<00:04, 26.74it/s]\n",
      "\u001b[A\n",
      " 13%|#2        | 18/141 [00:00<00:04, 30.42it/s]\n",
      "\u001b[A\n",
      " 17%|#7        | 24/141 [00:00<00:03, 36.89it/s]\n",
      "\u001b[A\n",
      " 23%|##3       | 33/141 [00:00<00:02, 47.46it/s]\n",
      "\u001b[A\n",
      " 28%|##8       | 40/141 [00:01<00:01, 51.92it/s]\n",
      "\u001b[A\n",
      " 35%|###4      | 49/141 [00:01<00:01, 58.57it/s]\n",
      "\u001b[A\n",
      " 39%|###9      | 55/141 [00:01<00:01, 55.23it/s]\n",
      "\u001b[A\n",
      " 43%|####3     | 61/141 [00:01<00:01, 47.94it/s]\n",
      "\u001b[A\n",
      " 47%|####6     | 66/141 [00:01<00:02, 31.36it/s]\n",
      "\u001b[A\n",
      " 52%|#####1    | 73/141 [00:01<00:01, 36.01it/s]\n",
      "\u001b[A\n",
      " 55%|#####5    | 78/141 [00:02<00:01, 35.47it/s]\n",
      "\u001b[A\n",
      " 61%|######    | 86/141 [00:02<00:01, 41.89it/s]\n",
      "\u001b[A\n",
      " 68%|######8   | 96/141 [00:02<00:00, 51.01it/s]\n",
      "\u001b[A\n",
      " 72%|#######2  | 102/141 [00:02<00:00, 51.33it/s]\n",
      "\u001b[A\n",
      " 77%|#######6  | 108/141 [00:02<00:00, 39.33it/s]\n",
      "\u001b[A\n",
      " 82%|########2 | 116/141 [00:02<00:00, 45.73it/s]\n",
      "\u001b[A\n",
      " 87%|########7 | 123/141 [00:02<00:00, 49.71it/s]\n",
      "\u001b[A\n",
      " 94%|#########3| 132/141 [00:03<00:00, 57.91it/s]\n",
      "\u001b[A\n",
      " 94%|#########3| 132/141 [00:16<00:00, 57.91it/s]\n",
      "\u001b[A\n",
      " 98%|#########7| 138/141 [00:52<00:06,  2.07s/it]\n",
      "\u001b[A\n",
      " 99%|#########8| 139/141 [00:52<00:03,  1.97s/it]\n",
      "\u001b[A\n",
      " 99%|#########8| 139/141 [01:06<00:03,  1.97s/it]\n",
      "\u001b[A\n",
      "100%|##########| 141/141 [02:15<00:00,  7.47s/it]\n",
      "\u001b[A\n",
      "100%|##########| 141/141 [02:15<00:00,  1.04it/s]\n"
     ]
    },
    {
     "name": "stdout",
     "output_type": "stream",
     "text": [
      "                                                                                                                        \n",
      "Reshaping Result Matrices...\n",
      " 80%|████████████████████████████████        | 40/50 [39:24:45<10:21:10, 3727.02s/trial, best loss: -0.0900033600934903]"
     ]
    },
    {
     "name": "stderr",
     "output_type": "stream",
     "text": [
      "  0%|          | 0/141 [00:00<?, ?it/s]\n",
      "\u001b[A\n",
      "  1%|1         | 2/141 [00:00<00:07, 19.61it/s]\n",
      "\u001b[A\n",
      "  4%|4         | 6/141 [00:00<00:05, 24.36it/s]\n",
      "\u001b[A\n",
      "  9%|9         | 13/141 [00:00<00:03, 33.81it/s]\n",
      "\u001b[A\n",
      " 12%|#2        | 17/141 [00:00<00:04, 28.25it/s]\n",
      "\u001b[A\n",
      " 16%|#5        | 22/141 [00:00<00:03, 33.85it/s]\n",
      "\u001b[A\n",
      " 19%|#9        | 27/141 [00:00<00:03, 36.41it/s]\n",
      "\u001b[A\n",
      " 22%|##1       | 31/141 [00:00<00:03, 35.17it/s]\n",
      "\u001b[A\n",
      " 27%|##6       | 38/141 [00:01<00:02, 44.07it/s]\n",
      "\u001b[A\n",
      " 32%|###1      | 45/141 [00:01<00:01, 49.71it/s]\n",
      "\u001b[A\n",
      " 36%|###6      | 51/141 [00:01<00:01, 48.61it/s]\n",
      "\u001b[A\n",
      " 40%|####      | 57/141 [00:01<00:01, 48.69it/s]\n",
      "\u001b[A\n",
      " 46%|####6     | 65/141 [00:01<00:01, 55.72it/s]\n",
      "\u001b[A\n",
      " 50%|#####     | 71/141 [00:01<00:01, 51.55it/s]\n",
      "\u001b[A\n",
      " 55%|#####4    | 77/141 [00:01<00:01, 45.46it/s]\n",
      "\u001b[A\n",
      " 62%|######2   | 88/141 [00:01<00:00, 58.38it/s]\n",
      "\u001b[A\n",
      " 67%|######7   | 95/141 [00:02<00:00, 54.67it/s]\n",
      "\u001b[A\n",
      " 72%|#######1  | 101/141 [00:02<00:00, 47.24it/s]\n",
      "\u001b[A\n",
      " 77%|#######7  | 109/141 [00:02<00:00, 54.32it/s]\n",
      "\u001b[A\n",
      " 82%|########1 | 115/141 [00:02<00:00, 53.46it/s]\n",
      "\u001b[A\n",
      " 87%|########7 | 123/141 [00:02<00:00, 58.64it/s]\n",
      "\u001b[A\n",
      " 92%|#########2| 130/141 [00:02<00:00, 53.70it/s]\n",
      "\u001b[A\n",
      " 96%|#########6| 136/141 [00:02<00:00, 50.42it/s]\n",
      "\u001b[A\n",
      "100%|##########| 141/141 [00:02<00:00, 47.90it/s]\n"
     ]
    },
    {
     "name": "stdout",
     "output_type": "stream",
     "text": [
      "Stacking columns...                                                                                                     \n",
      "[Pipeline] ....... (step 1 of 3) Processing transformer, total=  22.5s                                                  \n",
      "[Pipeline] ...... (step 2 of 3) Processing maxabs_scale, total=  14.6s                                                  \n",
      "[Pipeline] ............. (step 3 of 3) Processing e_net, total= 8.5min                                                  \n",
      " 80%|████████████████████████████████        | 40/50 [39:34:03<10:21:10, 3727.02s/trial, best loss: -0.0900033600934903]"
     ]
    },
    {
     "name": "stderr",
     "output_type": "stream",
     "text": [
      "/home/rogertu/projects/MechRepoNet/mrn_venv/lib/python3.8/site-packages/sklearn/linear_model/_sag.py:328: ConvergenceWarning: The max_iter was reached which means the coef_ did not converge\n",
      "  warnings.warn(\"The max_iter was reached which means \"\n",
      "\n"
     ]
    },
    {
     "name": "stdout",
     "output_type": "stream",
     "text": [
      "[Pipeline] ....... (step 1 of 3) Processing transformer, total=  23.2s                                                  \n",
      "[Pipeline] ...... (step 2 of 3) Processing maxabs_scale, total=  14.0s                                                  \n",
      "[Pipeline] ............. (step 3 of 3) Processing e_net, total= 8.4min                                                  \n",
      " 80%|████████████████████████████████        | 40/50 [39:43:15<10:21:10, 3727.02s/trial, best loss: -0.0900033600934903]"
     ]
    },
    {
     "name": "stderr",
     "output_type": "stream",
     "text": [
      "/home/rogertu/projects/MechRepoNet/mrn_venv/lib/python3.8/site-packages/sklearn/linear_model/_sag.py:328: ConvergenceWarning: The max_iter was reached which means the coef_ did not converge\n",
      "  warnings.warn(\"The max_iter was reached which means \"\n",
      "\n"
     ]
    },
    {
     "name": "stdout",
     "output_type": "stream",
     "text": [
      "[Pipeline] ....... (step 1 of 3) Processing transformer, total=  24.9s                                                  \n",
      "[Pipeline] ...... (step 2 of 3) Processing maxabs_scale, total=  16.4s                                                  \n",
      "[Pipeline] ............. (step 3 of 3) Processing e_net, total= 9.0min                                                  \n",
      " 80%|████████████████████████████████        | 40/50 [39:53:09<10:21:10, 3727.02s/trial, best loss: -0.0900033600934903]"
     ]
    },
    {
     "name": "stderr",
     "output_type": "stream",
     "text": [
      "/home/rogertu/projects/MechRepoNet/mrn_venv/lib/python3.8/site-packages/sklearn/linear_model/_sag.py:328: ConvergenceWarning: The max_iter was reached which means the coef_ did not converge\n",
      "  warnings.warn(\"The max_iter was reached which means \"\n",
      "\n"
     ]
    },
    {
     "name": "stdout",
     "output_type": "stream",
     "text": [
      "[Pipeline] ....... (step 1 of 3) Processing transformer, total=  26.3s                                                  \n",
      "[Pipeline] ...... (step 2 of 3) Processing maxabs_scale, total=  17.6s                                                  \n",
      "[Pipeline] ............. (step 3 of 3) Processing e_net, total= 9.2min                                                  \n",
      " 80%|████████████████████████████████        | 40/50 [40:03:10<10:21:10, 3727.02s/trial, best loss: -0.0900033600934903]"
     ]
    },
    {
     "name": "stderr",
     "output_type": "stream",
     "text": [
      "/home/rogertu/projects/MechRepoNet/mrn_venv/lib/python3.8/site-packages/sklearn/linear_model/_sag.py:328: ConvergenceWarning: The max_iter was reached which means the coef_ did not converge\n",
      "  warnings.warn(\"The max_iter was reached which means \"\n",
      "\n"
     ]
    },
    {
     "name": "stdout",
     "output_type": "stream",
     "text": [
      "[Pipeline] ....... (step 1 of 3) Processing transformer, total=  23.7s                                                  \n",
      "[Pipeline] ...... (step 2 of 3) Processing maxabs_scale, total=  15.6s                                                  \n",
      "[Pipeline] ............. (step 3 of 3) Processing e_net, total= 8.7min                                                  \n",
      " 80%|████████████████████████████████        | 40/50 [40:12:34<10:21:10, 3727.02s/trial, best loss: -0.0900033600934903]"
     ]
    },
    {
     "name": "stderr",
     "output_type": "stream",
     "text": [
      "/home/rogertu/projects/MechRepoNet/mrn_venv/lib/python3.8/site-packages/sklearn/linear_model/_sag.py:328: ConvergenceWarning: The max_iter was reached which means the coef_ did not converge\n",
      "  warnings.warn(\"The max_iter was reached which means \"\n",
      "\n"
     ]
    },
    {
     "name": "stdout",
     "output_type": "stream",
     "text": [
      "Mean AUROC: 0.6832                                                                                                      \n",
      "Mean Avg Pre: 0.0148                                                                                                    \n",
      "STD AUROC: 0.1043                                                                                                       \n",
      "STD Avg Pre: 0.0138                                                                                                     \n",
      "Loss: -0.0769                                                                                                           \n",
      "Changing w from 0.08523291756264606 to 0.9243769075407258. Please wait...                                               \n",
      " 82%|█████████████████████████████████▌       | 41/50 [40:12:42<8:47:20, 3515.67s/trial, best loss: -0.0900033600934903]"
     ]
    },
    {
     "name": "stderr",
     "output_type": "stream",
     "text": [
      "  0%|          | 0/68 [00:00<?, ?it/s]\n",
      "\u001b[A\n",
      "  1%|1         | 1/68 [00:00<00:09,  6.99it/s]\n",
      "\u001b[A\n",
      " 15%|#4        | 10/68 [00:00<00:01, 48.39it/s]\n",
      "\u001b[A\n",
      " 49%|####8     | 33/68 [00:00<00:00, 121.93it/s]\n",
      "\u001b[A\n",
      " 69%|######9   | 47/68 [00:00<00:00, 125.55it/s]\n",
      "\u001b[A\n",
      " 91%|#########1| 62/68 [00:00<00:00, 133.62it/s]\n",
      "\u001b[A\n",
      "100%|##########| 68/68 [00:00<00:00, 100.36it/s]\n"
     ]
    },
    {
     "name": "stdout",
     "output_type": "stream",
     "text": [
      "Preparing function arguments...                                                                                         \n",
      "Calculating DWPCs...                                                                                                    \n",
      " 82%|█████████████████████████████████▌       | 41/50 [40:12:48<8:47:20, 3515.67s/trial, best loss: -0.0900033600934903]"
     ]
    },
    {
     "name": "stderr",
     "output_type": "stream",
     "text": [
      "  0%|          | 0/141 [00:00<?, ?it/s]\n",
      "\u001b[A\n",
      "  1%|          | 1/141 [00:00<00:16,  8.28it/s]\n",
      "\u001b[A\n",
      "  4%|4         | 6/141 [00:00<00:04, 27.12it/s]\n",
      "\u001b[A\n",
      "  6%|6         | 9/141 [00:00<00:04, 27.10it/s]\n",
      "\u001b[A\n",
      "  9%|9         | 13/141 [00:00<00:04, 29.91it/s]\n",
      "\u001b[A\n",
      " 11%|#1        | 16/141 [00:00<00:04, 27.92it/s]\n",
      "\u001b[A\n",
      " 17%|#7        | 24/141 [00:00<00:02, 39.36it/s]\n",
      "\u001b[A\n",
      " 21%|##        | 29/141 [00:00<00:02, 37.97it/s]\n",
      "\u001b[A\n",
      " 26%|##5       | 36/141 [00:00<00:02, 45.80it/s]\n",
      "\u001b[A\n",
      " 32%|###1      | 45/141 [00:01<00:01, 57.14it/s]\n",
      "\u001b[A\n",
      " 36%|###6      | 51/141 [00:01<00:01, 57.22it/s]\n",
      "\u001b[A\n",
      " 40%|####      | 57/141 [00:01<00:01, 55.23it/s]\n",
      "\u001b[A\n",
      " 45%|####4     | 63/141 [00:01<00:01, 42.31it/s]\n",
      "\u001b[A\n",
      " 50%|#####     | 71/141 [00:01<00:01, 48.71it/s]\n",
      "\u001b[A\n",
      " 57%|#####6    | 80/141 [00:01<00:01, 58.23it/s]\n",
      "\u001b[A\n",
      " 62%|######1   | 87/141 [00:01<00:00, 55.04it/s]\n",
      "\u001b[A\n",
      " 66%|######5   | 93/141 [00:02<00:00, 53.97it/s]\n",
      "\u001b[A\n",
      " 70%|#######   | 99/141 [00:02<00:00, 55.32it/s]\n",
      "\u001b[A\n",
      " 74%|#######4  | 105/141 [00:02<00:00, 43.41it/s]\n",
      "\u001b[A\n",
      " 78%|#######8  | 110/141 [00:02<00:00, 42.45it/s]\n",
      "\u001b[A\n",
      " 86%|########5 | 121/141 [00:02<00:00, 50.34it/s]\n",
      "\u001b[A\n",
      " 90%|######### | 127/141 [00:02<00:00, 51.25it/s]\n",
      "\u001b[A\n",
      " 96%|#########5| 135/141 [00:05<00:00,  8.31it/s]\n",
      "\u001b[A\n",
      " 96%|#########5| 135/141 [00:24<00:00,  8.31it/s]\n",
      "\u001b[A\n",
      " 98%|#########7| 138/141 [00:54<00:07,  2.56s/it]\n",
      "\u001b[A\n",
      " 99%|#########8| 139/141 [01:01<00:05,  2.87s/it]\n",
      "\u001b[A\n",
      " 99%|#########8| 139/141 [01:14<00:05,  2.87s/it]\n",
      "\u001b[A\n",
      "100%|##########| 141/141 [02:20<00:00,  8.67s/it]\n",
      "\u001b[A\n",
      "100%|##########| 141/141 [02:20<00:00,  1.00it/s]\n"
     ]
    },
    {
     "name": "stdout",
     "output_type": "stream",
     "text": [
      "                                                                                                                        \n",
      "Reshaping Result Matrices...\n",
      " 82%|█████████████████████████████████▌       | 41/50 [40:15:13<8:47:20, 3515.67s/trial, best loss: -0.0900033600934903]"
     ]
    },
    {
     "name": "stderr",
     "output_type": "stream",
     "text": [
      "  0%|          | 0/141 [00:00<?, ?it/s]\n",
      "\u001b[A\n",
      "  1%|1         | 2/141 [00:00<00:07, 19.37it/s]\n",
      "\u001b[A\n",
      "  4%|4         | 6/141 [00:00<00:05, 24.29it/s]\n",
      "\u001b[A\n",
      "  9%|9         | 13/141 [00:00<00:03, 33.82it/s]\n",
      "\u001b[A\n",
      " 12%|#2        | 17/141 [00:00<00:04, 28.32it/s]\n",
      "\u001b[A\n",
      " 17%|#7        | 24/141 [00:00<00:03, 38.90it/s]\n",
      "\u001b[A\n",
      " 21%|##        | 29/141 [00:00<00:02, 39.47it/s]\n",
      "\u001b[A\n",
      " 24%|##4       | 34/141 [00:00<00:02, 35.93it/s]\n",
      "\u001b[A\n",
      " 29%|##9       | 41/141 [00:01<00:02, 43.86it/s]\n",
      "\u001b[A\n",
      " 35%|###4      | 49/141 [00:01<00:01, 50.08it/s]\n",
      "\u001b[A\n",
      " 39%|###9      | 55/141 [00:01<00:01, 48.44it/s]\n",
      "\u001b[A\n",
      " 44%|####3     | 62/141 [00:01<00:01, 51.01it/s]\n",
      "\u001b[A\n",
      " 50%|####9     | 70/141 [00:01<00:01, 52.78it/s]\n",
      "\u001b[A\n",
      " 54%|#####3    | 76/141 [00:01<00:01, 43.56it/s]\n",
      "\u001b[A\n",
      " 62%|######2   | 88/141 [00:01<00:00, 58.05it/s]\n",
      "\u001b[A\n",
      " 67%|######7   | 95/141 [00:02<00:00, 54.86it/s]\n",
      "\u001b[A\n",
      " 72%|#######1  | 101/141 [00:02<00:00, 47.70it/s]\n",
      "\u001b[A\n",
      " 77%|#######7  | 109/141 [00:02<00:00, 54.58it/s]\n",
      "\u001b[A\n",
      " 82%|########1 | 115/141 [00:02<00:00, 52.49it/s]\n",
      "\u001b[A\n",
      " 87%|########7 | 123/141 [00:02<00:00, 57.85it/s]\n",
      "\u001b[A\n",
      " 92%|#########2| 130/141 [00:02<00:00, 53.25it/s]\n",
      "\u001b[A\n",
      " 96%|#########6| 136/141 [00:02<00:00, 50.33it/s]\n",
      "\u001b[A\n",
      "100%|##########| 141/141 [00:02<00:00, 47.93it/s]\n"
     ]
    },
    {
     "name": "stdout",
     "output_type": "stream",
     "text": [
      "Stacking columns...                                                                                                     \n",
      "[Pipeline] ....... (step 1 of 3) Processing transformer, total=  22.3s                                                  \n",
      "[Pipeline] ...... (step 2 of 3) Processing maxabs_scale, total=  14.5s                                                  \n",
      "[Pipeline] ............. (step 3 of 3) Processing e_net, total= 1.5min                                                  \n",
      "[Pipeline] ....... (step 1 of 3) Processing transformer, total=  21.7s                                                  \n",
      "[Pipeline] ...... (step 2 of 3) Processing maxabs_scale, total=  13.7s                                                  \n",
      "[Pipeline] ............. (step 3 of 3) Processing e_net, total= 1.5min                                                  \n",
      "[Pipeline] ....... (step 1 of 3) Processing transformer, total=  24.5s                                                  \n",
      "[Pipeline] ...... (step 2 of 3) Processing maxabs_scale, total=  16.1s                                                  \n",
      "[Pipeline] ............. (step 3 of 3) Processing e_net, total= 1.6min                                                  \n",
      "[Pipeline] ....... (step 1 of 3) Processing transformer, total=  25.8s                                                  \n",
      "[Pipeline] ...... (step 2 of 3) Processing maxabs_scale, total=  17.2s                                                  \n",
      "[Pipeline] ............. (step 3 of 3) Processing e_net, total= 1.5min                                                  \n",
      "[Pipeline] ....... (step 1 of 3) Processing transformer, total=  23.4s                                                  \n",
      "[Pipeline] ...... (step 2 of 3) Processing maxabs_scale, total=  15.2s                                                  \n",
      "[Pipeline] ............. (step 3 of 3) Processing e_net, total= 3.4min                                                  \n",
      "Mean AUROC: 0.6933                                                                                                      \n",
      "Mean Avg Pre: 0.0113                                                                                                    \n",
      "STD AUROC: 0.0715                                                                                                       \n",
      "STD Avg Pre: 0.0052                                                                                                     \n",
      "Loss: -0.0807                                                                                                           \n",
      "Changing w from 0.9243769075407258 to 0.3019940958160003. Please wait...                                                \n",
      " 84%|██████████████████████████████████▍      | 42/50 [40:28:44<6:06:37, 2749.69s/trial, best loss: -0.0900033600934903]"
     ]
    },
    {
     "name": "stderr",
     "output_type": "stream",
     "text": [
      "  0%|          | 0/68 [00:00<?, ?it/s]\n",
      "\u001b[A\n",
      "  1%|1         | 1/68 [00:00<00:09,  7.06it/s]\n",
      "\u001b[A\n",
      " 12%|#1        | 8/68 [00:00<00:01, 38.52it/s]\n",
      "\u001b[A\n",
      " 50%|#####     | 34/68 [00:00<00:00, 130.09it/s]\n",
      "\u001b[A\n",
      " 72%|#######2  | 49/68 [00:00<00:00, 109.88it/s]\n",
      "\u001b[A\n",
      "100%|##########| 68/68 [00:00<00:00, 126.99it/s]\n",
      "\u001b[A\n",
      "100%|##########| 68/68 [00:00<00:00, 107.57it/s]\n"
     ]
    },
    {
     "name": "stdout",
     "output_type": "stream",
     "text": [
      "Preparing function arguments...                                                                                         \n",
      "Calculating DWPCs...                                                                                                    \n",
      " 84%|██████████████████████████████████▍      | 42/50 [40:28:50<6:06:37, 2749.69s/trial, best loss: -0.0900033600934903]"
     ]
    },
    {
     "name": "stderr",
     "output_type": "stream",
     "text": [
      "  0%|          | 0/141 [00:00<?, ?it/s]\n",
      "\u001b[A\n",
      "  1%|          | 1/141 [00:00<00:16,  8.52it/s]\n",
      "\u001b[A\n",
      "  4%|4         | 6/141 [00:00<00:04, 28.58it/s]\n",
      "\u001b[A\n",
      "  6%|6         | 9/141 [00:00<00:04, 27.00it/s]\n",
      "\u001b[A\n",
      "  9%|9         | 13/141 [00:00<00:04, 26.41it/s]\n",
      "\u001b[A\n",
      " 13%|#3        | 19/141 [00:00<00:03, 36.33it/s]\n",
      "\u001b[A\n",
      " 16%|#6        | 23/141 [00:00<00:03, 33.47it/s]\n",
      "\u001b[A\n",
      " 22%|##1       | 31/141 [00:00<00:02, 44.59it/s]\n",
      "\u001b[A\n",
      " 26%|##5       | 36/141 [00:00<00:02, 45.23it/s]\n",
      "\u001b[A\n",
      " 31%|###1      | 44/141 [00:01<00:01, 52.44it/s]\n",
      "\u001b[A\n",
      " 38%|###8      | 54/141 [00:01<00:01, 55.83it/s]\n",
      "\u001b[A\n",
      " 43%|####2     | 60/141 [00:01<00:01, 53.24it/s]\n",
      "\u001b[A\n",
      " 47%|####6     | 66/141 [00:01<00:01, 46.47it/s]\n",
      "\u001b[A\n",
      " 52%|#####1    | 73/141 [00:01<00:01, 51.59it/s]\n",
      "\u001b[A\n",
      " 60%|######    | 85/141 [00:01<00:00, 64.25it/s]\n",
      "\u001b[A\n",
      " 65%|######5   | 92/141 [00:01<00:00, 57.79it/s]\n",
      "\u001b[A\n",
      " 71%|#######   | 100/141 [00:02<00:00, 55.72it/s]\n",
      "\u001b[A\n",
      " 75%|#######5  | 106/141 [00:02<00:00, 44.91it/s]\n",
      "\u001b[A\n",
      " 82%|########2 | 116/141 [00:02<00:00, 53.43it/s]\n",
      "\u001b[A\n",
      " 87%|########6 | 122/141 [00:02<00:00, 52.50it/s]\n",
      "\u001b[A\n",
      " 94%|#########3| 132/141 [00:02<00:00, 62.56it/s]\n",
      "\u001b[A\n",
      " 94%|#########3| 132/141 [00:22<00:00, 62.56it/s]\n",
      "\u001b[A\n",
      " 98%|#########7| 138/141 [00:52<00:05,  1.98s/it]\n",
      "\u001b[A\n",
      " 99%|#########8| 139/141 [00:54<00:04,  2.01s/it]\n",
      "\u001b[A\n",
      " 99%|#########8| 139/141 [01:12<00:04,  2.01s/it]\n",
      "\u001b[A\n",
      "100%|##########| 141/141 [02:23<00:00,  7.64s/it]\n",
      "\u001b[A\n",
      "100%|##########| 141/141 [02:23<00:00,  1.02s/it]\n"
     ]
    },
    {
     "name": "stdout",
     "output_type": "stream",
     "text": [
      "                                                                                                                        \n",
      "Reshaping Result Matrices...\n",
      " 84%|██████████████████████████████████▍      | 42/50 [40:31:18<6:06:37, 2749.69s/trial, best loss: -0.0900033600934903]"
     ]
    },
    {
     "name": "stderr",
     "output_type": "stream",
     "text": [
      "  0%|          | 0/141 [00:00<?, ?it/s]\n",
      "\u001b[A\n",
      "  1%|1         | 2/141 [00:00<00:06, 19.94it/s]\n",
      "\u001b[A\n",
      "  4%|4         | 6/141 [00:00<00:05, 24.43it/s]\n",
      "\u001b[A\n",
      "  9%|9         | 13/141 [00:00<00:03, 34.11it/s]\n",
      "\u001b[A\n",
      " 12%|#2        | 17/141 [00:00<00:04, 28.43it/s]\n",
      "\u001b[A\n",
      " 17%|#7        | 24/141 [00:00<00:02, 39.01it/s]\n",
      "\u001b[A\n",
      " 21%|##        | 29/141 [00:00<00:02, 39.49it/s]\n",
      "\u001b[A\n",
      " 24%|##4       | 34/141 [00:00<00:02, 35.67it/s]\n",
      "\u001b[A\n",
      " 29%|##9       | 41/141 [00:01<00:02, 43.64it/s]\n",
      "\u001b[A\n",
      " 35%|###4      | 49/141 [00:01<00:01, 49.93it/s]\n",
      "\u001b[A\n",
      " 39%|###9      | 55/141 [00:01<00:01, 48.25it/s]\n",
      "\u001b[A\n",
      " 44%|####3     | 62/141 [00:01<00:01, 50.77it/s]\n",
      "\u001b[A\n",
      " 50%|####9     | 70/141 [00:01<00:01, 52.43it/s]\n",
      "\u001b[A\n",
      " 54%|#####3    | 76/141 [00:01<00:01, 43.41it/s]\n",
      "\u001b[A\n",
      " 62%|######2   | 88/141 [00:01<00:00, 57.89it/s]\n",
      "\u001b[A\n",
      " 67%|######7   | 95/141 [00:02<00:00, 54.66it/s]\n",
      "\u001b[A\n",
      " 72%|#######1  | 101/141 [00:02<00:00, 47.49it/s]\n",
      "\u001b[A\n",
      " 77%|#######7  | 109/141 [00:02<00:00, 54.33it/s]\n",
      "\u001b[A\n",
      " 82%|########1 | 115/141 [00:02<00:00, 53.65it/s]\n",
      "\u001b[A\n",
      " 87%|########7 | 123/141 [00:02<00:00, 58.67it/s]\n",
      "\u001b[A\n",
      " 92%|#########2| 130/141 [00:02<00:00, 53.66it/s]\n",
      "\u001b[A\n",
      " 96%|#########6| 136/141 [00:02<00:00, 50.57it/s]\n",
      "\u001b[A\n",
      "100%|##########| 141/141 [00:02<00:00, 47.99it/s]\n"
     ]
    },
    {
     "name": "stdout",
     "output_type": "stream",
     "text": [
      "Stacking columns...                                                                                                     \n",
      "[Pipeline] ....... (step 1 of 3) Processing transformer, total=  22.4s                                                  \n",
      "[Pipeline] ...... (step 2 of 3) Processing maxabs_scale, total=  14.5s                                                  \n",
      "[Pipeline] ............. (step 3 of 3) Processing e_net, total=13.7min                                                  \n",
      " 84%|██████████████████████████████████▍      | 42/50 [40:45:43<6:06:37, 2749.69s/trial, best loss: -0.0900033600934903]"
     ]
    },
    {
     "name": "stderr",
     "output_type": "stream",
     "text": [
      "/home/rogertu/projects/MechRepoNet/mrn_venv/lib/python3.8/site-packages/sklearn/linear_model/_sag.py:328: ConvergenceWarning: The max_iter was reached which means the coef_ did not converge\n",
      "  warnings.warn(\"The max_iter was reached which means \"\n",
      "\n"
     ]
    },
    {
     "name": "stdout",
     "output_type": "stream",
     "text": [
      "[Pipeline] ....... (step 1 of 3) Processing transformer, total=  21.8s                                                  \n",
      "[Pipeline] ...... (step 2 of 3) Processing maxabs_scale, total=  13.9s                                                  \n",
      "[Pipeline] ............. (step 3 of 3) Processing e_net, total=13.7min                                                  \n",
      " 84%|██████████████████████████████████▍      | 42/50 [41:00:07<6:06:37, 2749.69s/trial, best loss: -0.0900033600934903]"
     ]
    },
    {
     "name": "stderr",
     "output_type": "stream",
     "text": [
      "/home/rogertu/projects/MechRepoNet/mrn_venv/lib/python3.8/site-packages/sklearn/linear_model/_sag.py:328: ConvergenceWarning: The max_iter was reached which means the coef_ did not converge\n",
      "  warnings.warn(\"The max_iter was reached which means \"\n",
      "\n"
     ]
    },
    {
     "name": "stdout",
     "output_type": "stream",
     "text": [
      "[Pipeline] ....... (step 1 of 3) Processing transformer, total=  24.6s                                                  \n",
      "[Pipeline] ...... (step 2 of 3) Processing maxabs_scale, total=  16.2s                                                  \n",
      "[Pipeline] ............. (step 3 of 3) Processing e_net, total=14.1min                                                  \n",
      " 84%|██████████████████████████████████▍      | 42/50 [41:15:07<6:06:37, 2749.69s/trial, best loss: -0.0900033600934903]"
     ]
    },
    {
     "name": "stderr",
     "output_type": "stream",
     "text": [
      "/home/rogertu/projects/MechRepoNet/mrn_venv/lib/python3.8/site-packages/sklearn/linear_model/_sag.py:328: ConvergenceWarning: The max_iter was reached which means the coef_ did not converge\n",
      "  warnings.warn(\"The max_iter was reached which means \"\n",
      "\n"
     ]
    },
    {
     "name": "stdout",
     "output_type": "stream",
     "text": [
      "[Pipeline] ....... (step 1 of 3) Processing transformer, total=  26.0s                                                  \n",
      "[Pipeline] ...... (step 2 of 3) Processing maxabs_scale, total=  17.3s                                                  \n",
      "[Pipeline] ............. (step 3 of 3) Processing e_net, total=14.1min                                                  \n",
      " 84%|██████████████████████████████████▍      | 42/50 [41:30:03<6:06:37, 2749.69s/trial, best loss: -0.0900033600934903]"
     ]
    },
    {
     "name": "stderr",
     "output_type": "stream",
     "text": [
      "/home/rogertu/projects/MechRepoNet/mrn_venv/lib/python3.8/site-packages/sklearn/linear_model/_sag.py:328: ConvergenceWarning: The max_iter was reached which means the coef_ did not converge\n",
      "  warnings.warn(\"The max_iter was reached which means \"\n",
      "\n"
     ]
    },
    {
     "name": "stdout",
     "output_type": "stream",
     "text": [
      "[Pipeline] ....... (step 1 of 3) Processing transformer, total=  23.4s                                                  \n",
      "[Pipeline] ...... (step 2 of 3) Processing maxabs_scale, total=  15.3s                                                  \n",
      "[Pipeline] ............. (step 3 of 3) Processing e_net, total=14.0min                                                  \n",
      " 84%|██████████████████████████████████▍      | 42/50 [41:44:46<6:06:37, 2749.69s/trial, best loss: -0.0900033600934903]"
     ]
    },
    {
     "name": "stderr",
     "output_type": "stream",
     "text": [
      "/home/rogertu/projects/MechRepoNet/mrn_venv/lib/python3.8/site-packages/sklearn/linear_model/_sag.py:328: ConvergenceWarning: The max_iter was reached which means the coef_ did not converge\n",
      "  warnings.warn(\"The max_iter was reached which means \"\n",
      "\n"
     ]
    },
    {
     "name": "stdout",
     "output_type": "stream",
     "text": [
      "Mean AUROC: 0.6970                                                                                                      \n",
      "Mean Avg Pre: 0.0135                                                                                                    \n",
      "STD AUROC: 0.0447                                                                                                       \n",
      "STD Avg Pre: 0.0088                                                                                                     \n",
      "Loss: -0.0875                                                                                                           \n",
      "Changing w from 0.3019940958160003 to 0.6457263591417297. Please wait...                                                \n",
      " 86%|███████████████████████████████████▎     | 43/50 [41:44:53<6:24:29, 3295.63s/trial, best loss: -0.0900033600934903]"
     ]
    },
    {
     "name": "stderr",
     "output_type": "stream",
     "text": [
      "  0%|          | 0/68 [00:00<?, ?it/s]\n",
      "\u001b[A\n",
      "  1%|1         | 1/68 [00:00<00:09,  6.88it/s]\n",
      "\u001b[A\n",
      " 13%|#3        | 9/68 [00:00<00:01, 42.82it/s]\n",
      "\u001b[A\n",
      " 49%|####8     | 33/68 [00:00<00:00, 124.14it/s]\n",
      "\u001b[A\n",
      " 69%|######9   | 47/68 [00:00<00:00, 109.28it/s]\n",
      "\u001b[A\n",
      "100%|##########| 68/68 [00:00<00:00, 118.99it/s]\n",
      "\u001b[A\n",
      "100%|##########| 68/68 [00:00<00:00, 103.14it/s]\n"
     ]
    },
    {
     "name": "stdout",
     "output_type": "stream",
     "text": [
      "Preparing function arguments...                                                                                         \n",
      "Calculating DWPCs...                                                                                                    \n",
      " 86%|███████████████████████████████████▎     | 43/50 [41:44:59<6:24:29, 3295.63s/trial, best loss: -0.0900033600934903]"
     ]
    },
    {
     "name": "stderr",
     "output_type": "stream",
     "text": [
      "  0%|          | 0/141 [00:00<?, ?it/s]\n",
      "\u001b[A\n",
      "  1%|          | 1/141 [00:00<00:16,  8.55it/s]\n",
      "\u001b[A\n",
      "  4%|4         | 6/141 [00:00<00:04, 28.89it/s]\n",
      "\u001b[A\n",
      "  6%|6         | 9/141 [00:00<00:04, 26.66it/s]\n",
      "\u001b[A\n",
      "  9%|9         | 13/141 [00:00<00:04, 29.48it/s]\n",
      "\u001b[A\n",
      " 13%|#2        | 18/141 [00:00<00:03, 35.84it/s]\n",
      "\u001b[A\n",
      " 16%|#5        | 22/141 [00:00<00:03, 33.71it/s]\n",
      "\u001b[A\n",
      " 21%|##        | 29/141 [00:00<00:02, 42.15it/s]\n",
      "\u001b[A\n",
      " 26%|##5       | 36/141 [00:00<00:02, 45.52it/s]\n",
      "\u001b[A\n",
      " 33%|###2      | 46/141 [00:01<00:01, 58.93it/s]\n",
      "\u001b[A\n",
      " 38%|###7      | 53/141 [00:01<00:01, 60.30it/s]\n",
      "\u001b[A\n",
      " 43%|####2     | 60/141 [00:01<00:01, 50.86it/s]\n",
      "\u001b[A\n",
      " 47%|####6     | 66/141 [00:01<00:01, 45.40it/s]\n",
      "\u001b[A\n",
      " 51%|#####1    | 72/141 [00:01<00:01, 46.21it/s]\n",
      "\u001b[A\n",
      " 59%|#####8    | 83/141 [00:01<00:00, 59.84it/s]\n",
      "\u001b[A\n",
      " 64%|######3   | 90/141 [00:01<00:00, 54.82it/s]\n",
      "\u001b[A\n",
      " 68%|######8   | 96/141 [00:02<00:00, 47.45it/s]\n",
      "\u001b[A\n",
      " 73%|#######3  | 103/141 [00:02<00:00, 49.98it/s]\n",
      "\u001b[A\n",
      " 77%|#######7  | 109/141 [00:02<00:00, 46.26it/s]\n",
      "\u001b[A\n",
      " 82%|########1 | 115/141 [00:02<00:00, 46.23it/s]\n",
      "\u001b[A\n",
      " 87%|########6 | 122/141 [00:02<00:00, 51.35it/s]\n",
      "\u001b[A\n",
      " 91%|######### | 128/141 [00:02<00:00, 52.46it/s]\n",
      "\u001b[A\n",
      " 96%|#########5| 135/141 [00:05<00:00,  8.24it/s]\n",
      "\u001b[A\n",
      " 96%|#########5| 135/141 [00:22<00:00,  8.24it/s]\n",
      "\u001b[A\n",
      " 98%|#########7| 138/141 [00:51<00:07,  2.62s/it]\n",
      "\u001b[A\n",
      " 99%|#########8| 139/141 [01:09<00:07,  3.74s/it]\n",
      "\u001b[A\n",
      " 99%|#########9| 140/141 [01:14<00:03,  3.83s/it]\n",
      "\u001b[A\n",
      " 99%|#########9| 140/141 [01:32<00:03,  3.83s/it]\n",
      "\u001b[A\n",
      "100%|##########| 141/141 [02:03<00:00,  9.15s/it]\n",
      "\u001b[A\n",
      "100%|##########| 141/141 [02:03<00:00,  1.14it/s]\n"
     ]
    },
    {
     "name": "stdout",
     "output_type": "stream",
     "text": [
      "                                                                                                                        \n",
      "Reshaping Result Matrices...\n",
      " 86%|███████████████████████████████████▎     | 43/50 [41:47:08<6:24:29, 3295.63s/trial, best loss: -0.0900033600934903]"
     ]
    },
    {
     "name": "stderr",
     "output_type": "stream",
     "text": [
      "  0%|          | 0/141 [00:00<?, ?it/s]\n",
      "\u001b[A\n",
      "  1%|1         | 2/141 [00:00<00:07, 19.08it/s]\n",
      "\u001b[A\n",
      "  4%|4         | 6/141 [00:00<00:05, 23.57it/s]\n",
      "\u001b[A\n",
      "  9%|9         | 13/141 [00:00<00:03, 32.56it/s]\n",
      "\u001b[A\n",
      " 12%|#2        | 17/141 [00:00<00:04, 26.90it/s]\n",
      "\u001b[A\n",
      " 16%|#5        | 22/141 [00:00<00:03, 32.38it/s]\n",
      "\u001b[A\n",
      " 19%|#9        | 27/141 [00:00<00:03, 34.93it/s]\n",
      "\u001b[A\n",
      " 22%|##1       | 31/141 [00:00<00:03, 33.80it/s]\n",
      "\u001b[A\n",
      " 27%|##6       | 38/141 [00:01<00:02, 42.32it/s]\n",
      "\u001b[A\n",
      " 32%|###1      | 45/141 [00:01<00:02, 47.64it/s]\n",
      "\u001b[A\n",
      " 35%|###5      | 50/141 [00:01<00:02, 44.45it/s]\n",
      "\u001b[A\n",
      " 40%|###9      | 56/141 [00:01<00:01, 45.05it/s]\n",
      "\u001b[A\n",
      " 45%|####4     | 63/141 [00:01<00:01, 51.31it/s]\n",
      "\u001b[A\n",
      " 50%|####9     | 70/141 [00:01<00:01, 52.29it/s]\n",
      "\u001b[A\n",
      " 54%|#####3    | 76/141 [00:01<00:01, 42.27it/s]\n",
      "\u001b[A\n",
      " 62%|######2   | 88/141 [00:02<00:00, 56.73it/s]\n",
      "\u001b[A\n",
      " 67%|######7   | 95/141 [00:02<00:00, 53.01it/s]\n",
      "\u001b[A\n",
      " 72%|#######1  | 101/141 [00:02<00:00, 45.98it/s]\n",
      "\u001b[A\n",
      " 77%|#######7  | 109/141 [00:02<00:00, 52.82it/s]\n",
      "\u001b[A\n",
      " 82%|########1 | 115/141 [00:02<00:00, 52.28it/s]\n",
      "\u001b[A\n",
      " 87%|########7 | 123/141 [00:02<00:00, 57.66it/s]\n",
      "\u001b[A\n",
      " 92%|#########2| 130/141 [00:02<00:00, 53.15it/s]\n",
      "\u001b[A\n",
      " 96%|#########6| 136/141 [00:02<00:00, 50.20it/s]\n",
      "\u001b[A\n",
      "100%|##########| 141/141 [00:03<00:00, 46.34it/s]\n"
     ]
    },
    {
     "name": "stdout",
     "output_type": "stream",
     "text": [
      "Stacking columns...                                                                                                     \n",
      "[Pipeline] ....... (step 1 of 3) Processing transformer, total=  22.4s                                                  \n",
      "[Pipeline] ...... (step 2 of 3) Processing maxabs_scale, total=  14.5s                                                  \n",
      "[Pipeline] ............. (step 3 of 3) Processing e_net, total=11.7min                                                  \n",
      "[Pipeline] ....... (step 1 of 3) Processing transformer, total=  21.6s                                                  \n",
      "[Pipeline] ...... (step 2 of 3) Processing maxabs_scale, total=  13.8s                                                  \n",
      "[Pipeline] ............. (step 3 of 3) Processing e_net, total=12.9min                                                  \n",
      " 86%|███████████████████████████████████▎     | 43/50 [42:13:17<6:24:29, 3295.63s/trial, best loss: -0.0900033600934903]"
     ]
    },
    {
     "name": "stderr",
     "output_type": "stream",
     "text": [
      "/home/rogertu/projects/MechRepoNet/mrn_venv/lib/python3.8/site-packages/sklearn/linear_model/_sag.py:328: ConvergenceWarning: The max_iter was reached which means the coef_ did not converge\n",
      "  warnings.warn(\"The max_iter was reached which means \"\n",
      "\n"
     ]
    },
    {
     "name": "stdout",
     "output_type": "stream",
     "text": [
      "[Pipeline] ....... (step 1 of 3) Processing transformer, total=  24.5s                                                  \n",
      "[Pipeline] ...... (step 2 of 3) Processing maxabs_scale, total=  16.1s                                                  \n",
      "[Pipeline] ............. (step 3 of 3) Processing e_net, total=13.2min                                                  \n",
      " 86%|███████████████████████████████████▎     | 43/50 [42:27:18<6:24:29, 3295.63s/trial, best loss: -0.0900033600934903]"
     ]
    },
    {
     "name": "stderr",
     "output_type": "stream",
     "text": [
      "/home/rogertu/projects/MechRepoNet/mrn_venv/lib/python3.8/site-packages/sklearn/linear_model/_sag.py:328: ConvergenceWarning: The max_iter was reached which means the coef_ did not converge\n",
      "  warnings.warn(\"The max_iter was reached which means \"\n",
      "\n"
     ]
    },
    {
     "name": "stdout",
     "output_type": "stream",
     "text": [
      "[Pipeline] ....... (step 1 of 3) Processing transformer, total=  26.0s                                                  \n",
      "[Pipeline] ...... (step 2 of 3) Processing maxabs_scale, total=  17.3s                                                  \n",
      "[Pipeline] ............. (step 3 of 3) Processing e_net, total=12.0min                                                  \n",
      "[Pipeline] ....... (step 1 of 3) Processing transformer, total=  23.3s                                                  \n",
      "[Pipeline] ...... (step 2 of 3) Processing maxabs_scale, total=  15.3s                                                  \n",
      "[Pipeline] ............. (step 3 of 3) Processing e_net, total=13.5min                                                  \n",
      " 86%|███████████████████████████████████▎     | 43/50 [42:54:21<6:24:29, 3295.63s/trial, best loss: -0.0900033600934903]"
     ]
    },
    {
     "name": "stderr",
     "output_type": "stream",
     "text": [
      "/home/rogertu/projects/MechRepoNet/mrn_venv/lib/python3.8/site-packages/sklearn/linear_model/_sag.py:328: ConvergenceWarning: The max_iter was reached which means the coef_ did not converge\n",
      "  warnings.warn(\"The max_iter was reached which means \"\n",
      "\n"
     ]
    },
    {
     "name": "stdout",
     "output_type": "stream",
     "text": [
      "Mean AUROC: 0.7130                                                                                                      \n",
      "Mean Avg Pre: 0.0138                                                                                                    \n",
      "STD AUROC: 0.0564                                                                                                       \n",
      "STD Avg Pre: 0.0084                                                                                                     \n",
      "Loss: -0.0899                                                                                                           \n",
      "Changing w from 0.6457263591417297 to 0.47784803472180737. Please wait...                                               \n",
      " 88%|████████████████████████████████████     | 44/50 [42:54:28<5:55:55, 3559.27s/trial, best loss: -0.0900033600934903]"
     ]
    },
    {
     "name": "stderr",
     "output_type": "stream",
     "text": [
      "  0%|          | 0/68 [00:00<?, ?it/s]\n",
      "\u001b[A\n",
      "  1%|1         | 1/68 [00:00<00:09,  6.91it/s]\n",
      "\u001b[A\n",
      " 18%|#7        | 12/68 [00:00<00:00, 57.23it/s]\n",
      "\u001b[A\n",
      " 41%|####1     | 28/68 [00:00<00:00, 98.13it/s]\n",
      "\u001b[A\n",
      " 60%|######    | 41/68 [00:00<00:00, 98.02it/s]\n",
      "\u001b[A\n",
      " 99%|#########8| 67/68 [00:00<00:00, 148.68it/s]\n",
      "\u001b[A\n",
      "100%|##########| 68/68 [00:00<00:00, 108.34it/s]\n"
     ]
    },
    {
     "name": "stdout",
     "output_type": "stream",
     "text": [
      "Preparing function arguments...                                                                                         \n",
      "Calculating DWPCs...                                                                                                    \n",
      " 88%|████████████████████████████████████     | 44/50 [42:54:34<5:55:55, 3559.27s/trial, best loss: -0.0900033600934903]"
     ]
    },
    {
     "name": "stderr",
     "output_type": "stream",
     "text": [
      "  0%|          | 0/141 [00:00<?, ?it/s]\n",
      "\u001b[A\n",
      "  1%|          | 1/141 [00:00<00:14,  9.46it/s]\n",
      "\u001b[A\n",
      "  4%|3         | 5/141 [00:00<00:05, 26.04it/s]\n",
      "\u001b[A\n",
      "  7%|7         | 10/141 [00:00<00:04, 32.30it/s]\n",
      "\u001b[A\n",
      " 10%|9         | 14/141 [00:00<00:04, 27.44it/s]\n",
      "\u001b[A\n",
      " 13%|#2        | 18/141 [00:00<00:04, 30.59it/s]\n",
      "\u001b[A\n",
      " 18%|#7        | 25/141 [00:00<00:02, 41.21it/s]\n",
      "\u001b[A\n",
      " 23%|##3       | 33/141 [00:00<00:02, 46.55it/s]\n",
      "\u001b[A\n",
      " 31%|###1      | 44/141 [00:00<00:01, 60.77it/s]\n",
      "\u001b[A\n",
      " 36%|###6      | 51/141 [00:01<00:01, 62.70it/s]\n",
      "\u001b[A\n",
      " 41%|####1     | 58/141 [00:01<00:01, 54.66it/s]\n",
      "\u001b[A\n",
      " 45%|####5     | 64/141 [00:01<00:01, 46.48it/s]\n",
      "\u001b[A\n",
      " 49%|####8     | 69/141 [00:01<00:01, 46.61it/s]\n",
      "\u001b[A\n",
      " 56%|#####6    | 79/141 [00:01<00:01, 59.33it/s]\n",
      "\u001b[A\n",
      " 61%|######    | 86/141 [00:01<00:00, 58.46it/s]\n",
      "\u001b[A\n",
      " 66%|######5   | 93/141 [00:01<00:00, 50.54it/s]\n",
      "\u001b[A\n",
      " 72%|#######2  | 102/141 [00:02<00:00, 55.85it/s]\n",
      "\u001b[A\n",
      " 77%|#######6  | 108/141 [00:02<00:00, 46.42it/s]\n",
      "\u001b[A\n",
      " 82%|########1 | 115/141 [00:02<00:00, 51.05it/s]\n",
      "\u001b[A\n",
      " 86%|########5 | 121/141 [00:02<00:00, 51.01it/s]\n",
      "\u001b[A\n",
      " 90%|######### | 127/141 [00:02<00:00, 53.00it/s]\n",
      "\u001b[A\n",
      " 95%|#########5| 134/141 [00:02<00:00, 56.67it/s]\n",
      "\u001b[A\n",
      " 95%|#########5| 134/141 [00:18<00:00, 56.67it/s]\n",
      "\u001b[A\n",
      " 98%|#########7| 138/141 [00:51<00:07,  2.50s/it]\n",
      "\u001b[A\n",
      " 99%|#########8| 139/141 [00:56<00:05,  2.65s/it]\n",
      "\u001b[A\n",
      " 99%|#########8| 139/141 [01:08<00:05,  2.65s/it]\n",
      "\u001b[A\n",
      " 99%|#########9| 140/141 [01:16<00:04,  4.25s/it]\n",
      "\u001b[A\n",
      "100%|##########| 141/141 [02:23<00:00, 11.19s/it]\n",
      "\u001b[A\n",
      "100%|##########| 141/141 [02:23<00:00,  1.01s/it]\n"
     ]
    },
    {
     "name": "stdout",
     "output_type": "stream",
     "text": [
      "                                                                                                                        \n",
      "Reshaping Result Matrices...\n",
      " 88%|████████████████████████████████████     | 44/50 [42:57:01<5:55:55, 3559.27s/trial, best loss: -0.0900033600934903]"
     ]
    },
    {
     "name": "stderr",
     "output_type": "stream",
     "text": [
      "  0%|          | 0/141 [00:00<?, ?it/s]\n",
      "\u001b[A\n",
      "  1%|          | 1/141 [00:00<00:18,  7.74it/s]\n",
      "\u001b[A\n",
      "  4%|4         | 6/141 [00:00<00:05, 22.53it/s]\n",
      "\u001b[A\n",
      "  9%|9         | 13/141 [00:00<00:03, 32.54it/s]\n",
      "\u001b[A\n",
      " 12%|#2        | 17/141 [00:00<00:04, 27.79it/s]\n",
      "\u001b[A\n",
      " 17%|#7        | 24/141 [00:00<00:03, 38.27it/s]\n",
      "\u001b[A\n",
      " 21%|##        | 29/141 [00:00<00:02, 39.06it/s]\n",
      "\u001b[A\n",
      " 24%|##4       | 34/141 [00:01<00:02, 35.77it/s]\n",
      "\u001b[A\n",
      " 29%|##9       | 41/141 [00:01<00:02, 43.78it/s]\n",
      "\u001b[A\n",
      " 35%|###4      | 49/141 [00:01<00:01, 50.08it/s]\n",
      "\u001b[A\n",
      " 39%|###9      | 55/141 [00:01<00:01, 48.53it/s]\n",
      "\u001b[A\n",
      " 44%|####3     | 62/141 [00:01<00:01, 51.02it/s]\n",
      "\u001b[A\n",
      " 50%|####9     | 70/141 [00:01<00:01, 52.82it/s]\n",
      "\u001b[A\n",
      " 54%|#####3    | 76/141 [00:01<00:01, 43.64it/s]\n",
      "\u001b[A\n",
      " 62%|######2   | 88/141 [00:01<00:00, 58.19it/s]\n",
      "\u001b[A\n",
      " 67%|######7   | 95/141 [00:02<00:00, 54.97it/s]\n",
      "\u001b[A\n",
      " 72%|#######1  | 101/141 [00:02<00:00, 47.84it/s]\n",
      "\u001b[A\n",
      " 77%|#######7  | 109/141 [00:02<00:00, 54.73it/s]\n",
      "\u001b[A\n",
      " 82%|########1 | 115/141 [00:02<00:00, 53.80it/s]\n",
      "\u001b[A\n",
      " 87%|########7 | 123/141 [00:02<00:00, 58.88it/s]\n",
      "\u001b[A\n",
      " 92%|#########2| 130/141 [00:02<00:00, 54.05it/s]\n",
      "\u001b[A\n",
      " 96%|#########6| 136/141 [00:02<00:00, 50.80it/s]\n",
      "\u001b[A\n",
      "100%|##########| 141/141 [00:02<00:00, 47.63it/s]\n"
     ]
    },
    {
     "name": "stdout",
     "output_type": "stream",
     "text": [
      "Stacking columns...                                                                                                     \n",
      "[Pipeline] ....... (step 1 of 3) Processing transformer, total=  22.3s                                                  \n",
      "[Pipeline] ...... (step 2 of 3) Processing maxabs_scale, total=  14.4s                                                  \n",
      "[Pipeline] ............. (step 3 of 3) Processing e_net, total=13.7min                                                  \n",
      " 88%|████████████████████████████████████     | 44/50 [43:11:32<5:55:55, 3559.27s/trial, best loss: -0.0900033600934903]"
     ]
    },
    {
     "name": "stderr",
     "output_type": "stream",
     "text": [
      "/home/rogertu/projects/MechRepoNet/mrn_venv/lib/python3.8/site-packages/sklearn/linear_model/_sag.py:328: ConvergenceWarning: The max_iter was reached which means the coef_ did not converge\n",
      "  warnings.warn(\"The max_iter was reached which means \"\n",
      "\n"
     ]
    },
    {
     "name": "stdout",
     "output_type": "stream",
     "text": [
      "[Pipeline] ....... (step 1 of 3) Processing transformer, total=  21.6s                                                  \n",
      "[Pipeline] ...... (step 2 of 3) Processing maxabs_scale, total=  13.7s                                                  \n",
      "[Pipeline] ............. (step 3 of 3) Processing e_net, total=13.5min                                                  \n",
      " 88%|████████████████████████████████████     | 44/50 [43:25:47<5:55:55, 3559.27s/trial, best loss: -0.0900033600934903]"
     ]
    },
    {
     "name": "stderr",
     "output_type": "stream",
     "text": [
      "/home/rogertu/projects/MechRepoNet/mrn_venv/lib/python3.8/site-packages/sklearn/linear_model/_sag.py:328: ConvergenceWarning: The max_iter was reached which means the coef_ did not converge\n",
      "  warnings.warn(\"The max_iter was reached which means \"\n",
      "\n"
     ]
    },
    {
     "name": "stdout",
     "output_type": "stream",
     "text": [
      "[Pipeline] ....... (step 1 of 3) Processing transformer, total=  24.5s                                                  \n",
      "[Pipeline] ...... (step 2 of 3) Processing maxabs_scale, total=  16.0s                                                  \n",
      "[Pipeline] ............. (step 3 of 3) Processing e_net, total=14.0min                                                  \n",
      " 88%|████████████████████████████████████     | 44/50 [43:40:38<5:55:55, 3559.27s/trial, best loss: -0.0900033600934903]"
     ]
    },
    {
     "name": "stderr",
     "output_type": "stream",
     "text": [
      "/home/rogertu/projects/MechRepoNet/mrn_venv/lib/python3.8/site-packages/sklearn/linear_model/_sag.py:328: ConvergenceWarning: The max_iter was reached which means the coef_ did not converge\n",
      "  warnings.warn(\"The max_iter was reached which means \"\n",
      "\n"
     ]
    },
    {
     "name": "stdout",
     "output_type": "stream",
     "text": [
      "[Pipeline] ....... (step 1 of 3) Processing transformer, total=  25.9s                                                  \n",
      "[Pipeline] ...... (step 2 of 3) Processing maxabs_scale, total=  17.2s                                                  \n",
      "[Pipeline] ............. (step 3 of 3) Processing e_net, total=14.2min                                                  \n",
      " 88%|████████████████████████████████████     | 44/50 [43:55:38<5:55:55, 3559.27s/trial, best loss: -0.0900033600934903]"
     ]
    },
    {
     "name": "stderr",
     "output_type": "stream",
     "text": [
      "/home/rogertu/projects/MechRepoNet/mrn_venv/lib/python3.8/site-packages/sklearn/linear_model/_sag.py:328: ConvergenceWarning: The max_iter was reached which means the coef_ did not converge\n",
      "  warnings.warn(\"The max_iter was reached which means \"\n",
      "\n"
     ]
    },
    {
     "name": "stdout",
     "output_type": "stream",
     "text": [
      "[Pipeline] ....... (step 1 of 3) Processing transformer, total=  23.2s                                                  \n",
      "[Pipeline] ...... (step 2 of 3) Processing maxabs_scale, total=  15.2s                                                  \n",
      "[Pipeline] ............. (step 3 of 3) Processing e_net, total=13.9min                                                  \n",
      " 88%|████████████████████████████████████     | 44/50 [44:10:17<5:55:55, 3559.27s/trial, best loss: -0.0900033600934903]"
     ]
    },
    {
     "name": "stderr",
     "output_type": "stream",
     "text": [
      "/home/rogertu/projects/MechRepoNet/mrn_venv/lib/python3.8/site-packages/sklearn/linear_model/_sag.py:328: ConvergenceWarning: The max_iter was reached which means the coef_ did not converge\n",
      "  warnings.warn(\"The max_iter was reached which means \"\n",
      "\n"
     ]
    },
    {
     "name": "stdout",
     "output_type": "stream",
     "text": [
      "Mean AUROC: 0.7039                                                                                                      \n",
      "Mean Avg Pre: 0.0134                                                                                                    \n",
      "STD AUROC: 0.0455                                                                                                       \n",
      "STD Avg Pre: 0.0079                                                                                                     \n",
      "Loss: -0.0890                                                                                                           \n",
      "Changing w from 0.47784803472180737 to 0.4170655478834251. Please wait...                                               \n",
      " 90%|████████████████████████████████████▉    | 45/50 [44:10:24<5:21:31, 3858.33s/trial, best loss: -0.0900033600934903]"
     ]
    },
    {
     "name": "stderr",
     "output_type": "stream",
     "text": [
      "  0%|          | 0/68 [00:00<?, ?it/s]\n",
      "\u001b[A\n",
      "  1%|1         | 1/68 [00:00<00:09,  7.03it/s]\n",
      "\u001b[A\n",
      " 18%|#7        | 12/68 [00:00<00:00, 56.28it/s]\n",
      "\u001b[A\n",
      " 53%|#####2    | 36/68 [00:00<00:00, 127.27it/s]\n",
      "\u001b[A\n",
      " 74%|#######3  | 50/68 [00:00<00:00, 117.21it/s]\n",
      "\u001b[A\n",
      "100%|##########| 68/68 [00:00<00:00, 115.38it/s]\n",
      "\u001b[A\n",
      "100%|##########| 68/68 [00:00<00:00, 103.87it/s]\n"
     ]
    },
    {
     "name": "stdout",
     "output_type": "stream",
     "text": [
      "Preparing function arguments...                                                                                         \n",
      "Calculating DWPCs...                                                                                                    \n",
      " 90%|████████████████████████████████████▉    | 45/50 [44:10:30<5:21:31, 3858.33s/trial, best loss: -0.0900033600934903]"
     ]
    },
    {
     "name": "stderr",
     "output_type": "stream",
     "text": [
      "  0%|          | 0/141 [00:00<?, ?it/s]\n",
      "\u001b[A\n",
      "  1%|          | 1/141 [00:00<00:15,  9.17it/s]\n",
      "\u001b[A\n",
      "  4%|4         | 6/141 [00:00<00:04, 31.32it/s]\n",
      "\u001b[A\n",
      "  7%|7         | 10/141 [00:00<00:04, 29.76it/s]\n",
      "\u001b[A\n",
      " 10%|9         | 14/141 [00:00<00:04, 30.44it/s]\n",
      "\u001b[A\n",
      " 13%|#2        | 18/141 [00:00<00:03, 31.40it/s]\n",
      "\u001b[A\n",
      " 16%|#6        | 23/141 [00:00<00:03, 33.40it/s]\n",
      "\u001b[A\n",
      " 25%|##4       | 35/141 [00:00<00:01, 53.97it/s]\n",
      "\u001b[A\n",
      " 29%|##9       | 41/141 [00:00<00:01, 55.55it/s]\n",
      "\u001b[A\n",
      " 38%|###7      | 53/141 [00:01<00:01, 63.57it/s]\n",
      "\u001b[A\n",
      " 43%|####2     | 60/141 [00:01<00:01, 60.82it/s]\n",
      "\u001b[A\n",
      " 48%|####7     | 67/141 [00:01<00:01, 51.88it/s]\n",
      "\u001b[A\n",
      " 53%|#####3    | 75/141 [00:01<00:01, 55.35it/s]\n",
      "\u001b[A\n",
      " 60%|######    | 85/141 [00:01<00:00, 62.92it/s]\n",
      "\u001b[A\n",
      " 65%|######5   | 92/141 [00:01<00:00, 53.60it/s]\n",
      "\u001b[A\n",
      " 70%|######9   | 98/141 [00:01<00:00, 54.12it/s]\n",
      "\u001b[A\n",
      " 74%|#######3  | 104/141 [00:02<00:00, 48.34it/s]\n",
      "\u001b[A\n",
      " 78%|#######8  | 110/141 [00:02<00:00, 43.25it/s]\n",
      "\u001b[A\n",
      " 85%|########5 | 120/141 [00:02<00:00, 52.49it/s]\n",
      "\u001b[A\n",
      " 89%|########9 | 126/141 [00:02<00:00, 52.53it/s]\n",
      "\u001b[A\n",
      " 96%|#########5| 135/141 [00:04<00:00,  9.44it/s]\n",
      "\u001b[A\n",
      " 96%|#########5| 135/141 [00:22<00:00,  9.44it/s]\n",
      "\u001b[A\n",
      " 98%|#########7| 138/141 [00:56<00:07,  2.53s/it]\n",
      "\u001b[A\n",
      " 99%|#########8| 139/141 [01:10<00:06,  3.30s/it]\n",
      "\u001b[A\n",
      " 99%|#########9| 140/141 [01:13<00:03,  3.27s/it]\n",
      "\u001b[A\n",
      " 99%|#########9| 140/141 [01:32<00:03,  3.27s/it]\n",
      "\u001b[A\n",
      "100%|##########| 141/141 [02:11<00:00,  9.11s/it]\n",
      "\u001b[A\n",
      "100%|##########| 141/141 [02:11<00:00,  1.07it/s]\n"
     ]
    },
    {
     "name": "stdout",
     "output_type": "stream",
     "text": [
      "                                                                                                                        \n",
      "Reshaping Result Matrices...\n",
      " 90%|████████████████████████████████████▉    | 45/50 [44:12:46<5:21:31, 3858.33s/trial, best loss: -0.0900033600934903]"
     ]
    },
    {
     "name": "stderr",
     "output_type": "stream",
     "text": [
      "  0%|          | 0/141 [00:00<?, ?it/s]\n",
      "\u001b[A\n",
      "  1%|1         | 2/141 [00:00<00:07, 19.75it/s]\n",
      "\u001b[A\n",
      "  4%|4         | 6/141 [00:00<00:05, 24.57it/s]\n",
      "\u001b[A\n",
      "  9%|9         | 13/141 [00:00<00:03, 34.21it/s]\n",
      "\u001b[A\n",
      " 12%|#2        | 17/141 [00:00<00:04, 28.62it/s]\n",
      "\u001b[A\n",
      " 17%|#7        | 24/141 [00:00<00:02, 39.33it/s]\n",
      "\u001b[A\n",
      " 21%|##        | 29/141 [00:00<00:02, 39.85it/s]\n",
      "\u001b[A\n",
      " 24%|##4       | 34/141 [00:00<00:02, 36.32it/s]\n",
      "\u001b[A\n",
      " 29%|##9       | 41/141 [00:01<00:02, 44.22it/s]\n",
      "\u001b[A\n",
      " 35%|###4      | 49/141 [00:01<00:01, 50.47it/s]\n",
      "\u001b[A\n",
      " 39%|###9      | 55/141 [00:01<00:01, 48.85it/s]\n",
      "\u001b[A\n",
      " 44%|####3     | 62/141 [00:01<00:01, 51.41it/s]\n",
      "\u001b[A\n",
      " 50%|####9     | 70/141 [00:01<00:01, 53.17it/s]\n",
      "\u001b[A\n",
      " 54%|#####3    | 76/141 [00:01<00:01, 44.02it/s]\n",
      "\u001b[A\n",
      " 62%|######2   | 88/141 [00:01<00:00, 58.61it/s]\n",
      "\u001b[A\n",
      " 67%|######7   | 95/141 [00:02<00:00, 55.38it/s]\n",
      "\u001b[A\n",
      " 72%|#######1  | 101/141 [00:02<00:00, 48.07it/s]\n",
      "\u001b[A\n",
      " 77%|#######7  | 109/141 [00:02<00:00, 54.93it/s]\n",
      "\u001b[A\n",
      " 82%|########1 | 115/141 [00:02<00:00, 53.88it/s]\n",
      "\u001b[A\n",
      " 87%|########7 | 123/141 [00:02<00:00, 59.06it/s]\n",
      "\u001b[A\n",
      " 92%|#########2| 130/141 [00:02<00:00, 54.05it/s]\n",
      "\u001b[A\n",
      " 96%|#########6| 136/141 [00:02<00:00, 50.88it/s]\n",
      "\u001b[A\n",
      "100%|##########| 141/141 [00:02<00:00, 48.45it/s]\n"
     ]
    },
    {
     "name": "stdout",
     "output_type": "stream",
     "text": [
      "Stacking columns...                                                                                                     \n",
      "[Pipeline] ....... (step 1 of 3) Processing transformer, total=  22.1s                                                  \n",
      "[Pipeline] ...... (step 2 of 3) Processing maxabs_scale, total=  14.3s                                                  \n",
      "[Pipeline] ............. (step 3 of 3) Processing e_net, total=13.7min                                                  \n",
      " 90%|████████████████████████████████████▉    | 45/50 [44:27:11<5:21:31, 3858.33s/trial, best loss: -0.0900033600934903]"
     ]
    },
    {
     "name": "stderr",
     "output_type": "stream",
     "text": [
      "/home/rogertu/projects/MechRepoNet/mrn_venv/lib/python3.8/site-packages/sklearn/linear_model/_sag.py:328: ConvergenceWarning: The max_iter was reached which means the coef_ did not converge\n",
      "  warnings.warn(\"The max_iter was reached which means \"\n",
      "\n"
     ]
    },
    {
     "name": "stdout",
     "output_type": "stream",
     "text": [
      "[Pipeline] ....... (step 1 of 3) Processing transformer, total=  21.5s                                                  \n",
      "[Pipeline] ...... (step 2 of 3) Processing maxabs_scale, total=  13.6s                                                  \n",
      "[Pipeline] ............. (step 3 of 3) Processing e_net, total=13.8min                                                  \n",
      " 90%|████████████████████████████████████▉    | 45/50 [44:41:41<5:21:31, 3858.33s/trial, best loss: -0.0900033600934903]"
     ]
    },
    {
     "name": "stderr",
     "output_type": "stream",
     "text": [
      "/home/rogertu/projects/MechRepoNet/mrn_venv/lib/python3.8/site-packages/sklearn/linear_model/_sag.py:328: ConvergenceWarning: The max_iter was reached which means the coef_ did not converge\n",
      "  warnings.warn(\"The max_iter was reached which means \"\n",
      "\n"
     ]
    },
    {
     "name": "stdout",
     "output_type": "stream",
     "text": [
      "[Pipeline] ....... (step 1 of 3) Processing transformer, total=  24.4s                                                  \n",
      "[Pipeline] ...... (step 2 of 3) Processing maxabs_scale, total=  15.8s                                                  \n",
      "[Pipeline] ............. (step 3 of 3) Processing e_net, total=14.2min                                                  \n",
      " 90%|████████████████████████████████████▉    | 45/50 [44:56:45<5:21:31, 3858.33s/trial, best loss: -0.0900033600934903]"
     ]
    },
    {
     "name": "stderr",
     "output_type": "stream",
     "text": [
      "/home/rogertu/projects/MechRepoNet/mrn_venv/lib/python3.8/site-packages/sklearn/linear_model/_sag.py:328: ConvergenceWarning: The max_iter was reached which means the coef_ did not converge\n",
      "  warnings.warn(\"The max_iter was reached which means \"\n",
      "\n"
     ]
    },
    {
     "name": "stdout",
     "output_type": "stream",
     "text": [
      "[Pipeline] ....... (step 1 of 3) Processing transformer, total=  25.8s                                                  \n",
      "[Pipeline] ...... (step 2 of 3) Processing maxabs_scale, total=  17.0s                                                  \n",
      "[Pipeline] ............. (step 3 of 3) Processing e_net, total=14.1min                                                  \n",
      " 90%|████████████████████████████████████▉    | 45/50 [45:11:42<5:21:31, 3858.33s/trial, best loss: -0.0900033600934903]"
     ]
    },
    {
     "name": "stderr",
     "output_type": "stream",
     "text": [
      "/home/rogertu/projects/MechRepoNet/mrn_venv/lib/python3.8/site-packages/sklearn/linear_model/_sag.py:328: ConvergenceWarning: The max_iter was reached which means the coef_ did not converge\n",
      "  warnings.warn(\"The max_iter was reached which means \"\n",
      "\n"
     ]
    },
    {
     "name": "stdout",
     "output_type": "stream",
     "text": [
      "[Pipeline] ....... (step 1 of 3) Processing transformer, total=  23.2s                                                  \n",
      "[Pipeline] ...... (step 2 of 3) Processing maxabs_scale, total=  15.0s                                                  \n",
      "[Pipeline] ............. (step 3 of 3) Processing e_net, total=14.1min                                                  \n",
      " 90%|████████████████████████████████████▉    | 45/50 [45:26:29<5:21:31, 3858.33s/trial, best loss: -0.0900033600934903]"
     ]
    },
    {
     "name": "stderr",
     "output_type": "stream",
     "text": [
      "/home/rogertu/projects/MechRepoNet/mrn_venv/lib/python3.8/site-packages/sklearn/linear_model/_sag.py:328: ConvergenceWarning: The max_iter was reached which means the coef_ did not converge\n",
      "  warnings.warn(\"The max_iter was reached which means \"\n",
      "\n"
     ]
    },
    {
     "name": "stdout",
     "output_type": "stream",
     "text": [
      "Mean AUROC: 0.7045                                                                                                      \n",
      "Mean Avg Pre: 0.0138                                                                                                    \n",
      "STD AUROC: 0.0466                                                                                                       \n",
      "STD Avg Pre: 0.0086                                                                                                     \n",
      "Loss: -0.0893                                                                                                           \n",
      "Changing w from 0.4170655478834251 to 0.8173250660536269. Please wait...                                                \n",
      " 92%|█████████████████████████████████████▋   | 46/50 [45:26:36<4:31:29, 4072.31s/trial, best loss: -0.0900033600934903]"
     ]
    },
    {
     "name": "stderr",
     "output_type": "stream",
     "text": [
      "  0%|          | 0/68 [00:00<?, ?it/s]\n",
      "\u001b[A\n",
      "  1%|1         | 1/68 [00:00<00:09,  6.97it/s]\n",
      "\u001b[A\n",
      " 16%|#6        | 11/68 [00:00<00:01, 53.00it/s]\n",
      "\u001b[A\n",
      " 51%|#####1    | 35/68 [00:00<00:00, 130.09it/s]\n",
      "\u001b[A\n",
      " 74%|#######3  | 50/68 [00:00<00:00, 123.04it/s]\n",
      "\u001b[A\n",
      " 99%|#########8| 67/68 [00:00<00:00, 136.05it/s]\n",
      "\u001b[A\n",
      "100%|##########| 68/68 [00:00<00:00, 103.32it/s]\n"
     ]
    },
    {
     "name": "stdout",
     "output_type": "stream",
     "text": [
      "Preparing function arguments...                                                                                         \n",
      "Calculating DWPCs...                                                                                                    \n",
      " 92%|█████████████████████████████████████▋   | 46/50 [45:26:42<4:31:29, 4072.31s/trial, best loss: -0.0900033600934903]"
     ]
    },
    {
     "name": "stderr",
     "output_type": "stream",
     "text": [
      "  0%|          | 0/141 [00:00<?, ?it/s]\n",
      "\u001b[A\n",
      "  1%|          | 1/141 [00:00<00:16,  8.61it/s]\n",
      "\u001b[A\n",
      "  4%|4         | 6/141 [00:00<00:04, 27.80it/s]\n",
      "\u001b[A\n",
      "  6%|6         | 9/141 [00:00<00:04, 26.99it/s]\n",
      "\u001b[A\n",
      " 10%|9         | 14/141 [00:00<00:04, 27.67it/s]\n",
      "\u001b[A\n",
      " 15%|#4        | 21/141 [00:00<00:03, 39.12it/s]\n",
      "\u001b[A\n",
      " 20%|#9        | 28/141 [00:00<00:02, 43.29it/s]\n",
      "\u001b[A\n",
      " 25%|##4       | 35/141 [00:00<00:02, 48.05it/s]\n",
      "\u001b[A\n",
      " 30%|##9       | 42/141 [00:01<00:02, 48.92it/s]\n",
      "\u001b[A\n",
      " 39%|###9      | 55/141 [00:01<00:01, 61.74it/s]\n",
      "\u001b[A\n",
      " 44%|####3     | 62/141 [00:01<00:01, 48.98it/s]\n",
      "\u001b[A\n",
      " 48%|####8     | 68/141 [00:01<00:01, 51.06it/s]\n",
      "\u001b[A\n",
      " 56%|#####6    | 79/141 [00:01<00:00, 64.26it/s]\n",
      "\u001b[A\n",
      " 62%|######1   | 87/141 [00:01<00:00, 64.51it/s]\n",
      "\u001b[A\n",
      " 67%|######6   | 94/141 [00:01<00:00, 60.02it/s]\n",
      "\u001b[A\n",
      " 72%|#######1  | 101/141 [00:01<00:00, 61.64it/s]\n",
      "\u001b[A\n",
      " 77%|#######6  | 108/141 [00:02<00:00, 52.04it/s]\n",
      "\u001b[A\n",
      " 82%|########2 | 116/141 [00:02<00:00, 55.57it/s]\n",
      "\u001b[A\n",
      " 87%|########6 | 122/141 [00:02<00:00, 53.67it/s]\n",
      "\u001b[A\n",
      " 93%|#########2| 131/141 [00:02<00:00, 61.51it/s]\n",
      "\u001b[A\n",
      " 93%|#########2| 131/141 [00:21<00:00, 61.51it/s]\n",
      "\u001b[A\n",
      " 98%|#########7| 138/141 [00:52<00:06,  2.03s/it]\n",
      "\u001b[A\n",
      " 99%|#########8| 139/141 [00:54<00:03,  1.99s/it]\n",
      "\u001b[A\n",
      " 99%|#########8| 139/141 [01:11<00:03,  1.99s/it]\n",
      "\u001b[A\n",
      "100%|##########| 141/141 [02:20<00:00,  7.53s/it]\n",
      "\u001b[A\n",
      "100%|##########| 141/141 [02:20<00:00,  1.00it/s]\n"
     ]
    },
    {
     "name": "stdout",
     "output_type": "stream",
     "text": [
      "                                                                                                                        \n",
      "Reshaping Result Matrices...\n",
      " 92%|█████████████████████████████████████▋   | 46/50 [45:29:07<4:31:29, 4072.31s/trial, best loss: -0.0900033600934903]"
     ]
    },
    {
     "name": "stderr",
     "output_type": "stream",
     "text": [
      "  0%|          | 0/141 [00:00<?, ?it/s]\n",
      "\u001b[A\n",
      "  1%|1         | 2/141 [00:00<00:06, 19.97it/s]\n",
      "\u001b[A\n",
      "  4%|4         | 6/141 [00:00<00:05, 24.70it/s]\n",
      "\u001b[A\n",
      "  9%|9         | 13/141 [00:00<00:03, 34.20it/s]\n",
      "\u001b[A\n",
      " 12%|#2        | 17/141 [00:00<00:04, 28.71it/s]\n",
      "\u001b[A\n",
      " 17%|#7        | 24/141 [00:00<00:02, 39.33it/s]\n",
      "\u001b[A\n",
      " 21%|##        | 29/141 [00:00<00:02, 39.76it/s]\n",
      "\u001b[A\n",
      " 24%|##4       | 34/141 [00:00<00:02, 36.08it/s]\n",
      "\u001b[A\n",
      " 29%|##9       | 41/141 [00:01<00:02, 44.11it/s]\n",
      "\u001b[A\n",
      " 35%|###4      | 49/141 [00:01<00:01, 50.31it/s]\n",
      "\u001b[A\n",
      " 39%|###9      | 55/141 [00:01<00:01, 48.65it/s]\n",
      "\u001b[A\n",
      " 44%|####3     | 62/141 [00:01<00:01, 51.18it/s]\n",
      "\u001b[A\n",
      " 50%|####9     | 70/141 [00:01<00:01, 52.92it/s]\n",
      "\u001b[A\n",
      " 54%|#####3    | 76/141 [00:01<00:01, 43.73it/s]\n",
      "\u001b[A\n",
      " 62%|######2   | 88/141 [00:01<00:00, 58.19it/s]\n",
      "\u001b[A\n",
      " 67%|######7   | 95/141 [00:02<00:00, 54.88it/s]\n",
      "\u001b[A\n",
      " 72%|#######1  | 101/141 [00:02<00:00, 47.75it/s]\n",
      "\u001b[A\n",
      " 77%|#######7  | 109/141 [00:02<00:00, 54.73it/s]\n",
      "\u001b[A\n",
      " 82%|########1 | 115/141 [00:02<00:00, 53.91it/s]\n",
      "\u001b[A\n",
      " 87%|########7 | 123/141 [00:02<00:00, 59.10it/s]\n",
      "\u001b[A\n",
      " 92%|#########2| 130/141 [00:02<00:00, 54.10it/s]\n",
      "\u001b[A\n",
      " 96%|#########6| 136/141 [00:02<00:00, 50.88it/s]\n",
      "\u001b[A\n",
      "100%|##########| 141/141 [00:02<00:00, 48.33it/s]\n"
     ]
    },
    {
     "name": "stdout",
     "output_type": "stream",
     "text": [
      "Stacking columns...                                                                                                     \n",
      "[Pipeline] ....... (step 1 of 3) Processing transformer, total=  22.3s                                                  \n",
      "[Pipeline] ...... (step 2 of 3) Processing maxabs_scale, total=  14.4s                                                  \n",
      "[Pipeline] ............. (step 3 of 3) Processing e_net, total= 1.9min                                                  \n",
      "[Pipeline] ....... (step 1 of 3) Processing transformer, total=  21.5s                                                  \n",
      "[Pipeline] ...... (step 2 of 3) Processing maxabs_scale, total=  13.7s                                                  \n",
      "[Pipeline] ............. (step 3 of 3) Processing e_net, total= 1.9min                                                  \n",
      "[Pipeline] ....... (step 1 of 3) Processing transformer, total=  24.5s                                                  \n",
      "[Pipeline] ...... (step 2 of 3) Processing maxabs_scale, total=  16.0s                                                  \n",
      "[Pipeline] ............. (step 3 of 3) Processing e_net, total= 1.9min                                                  \n",
      "[Pipeline] ....... (step 1 of 3) Processing transformer, total=  25.8s                                                  \n",
      "[Pipeline] ...... (step 2 of 3) Processing maxabs_scale, total=  17.1s                                                  \n",
      "[Pipeline] ............. (step 3 of 3) Processing e_net, total= 1.9min                                                  \n",
      "[Pipeline] ....... (step 1 of 3) Processing transformer, total=  23.3s                                                  \n",
      "[Pipeline] ...... (step 2 of 3) Processing maxabs_scale, total=  15.2s                                                  \n",
      "[Pipeline] ............. (step 3 of 3) Processing e_net, total= 4.3min                                                  \n",
      "Mean AUROC: 0.7132                                                                                                      \n",
      "Mean Avg Pre: 0.0126                                                                                                    \n",
      "STD AUROC: 0.0580                                                                                                       \n",
      "STD Avg Pre: 0.0069                                                                                                     \n",
      "Loss: -0.0884                                                                                                           \n",
      "Changing w from 0.8173250660536269 to 0.722706115869318. Please wait...                                                 \n",
      " 94%|██████████████████████████████████████▌  | 47/50 [45:45:02<2:39:07, 3182.52s/trial, best loss: -0.0900033600934903]"
     ]
    },
    {
     "name": "stderr",
     "output_type": "stream",
     "text": [
      "  0%|          | 0/68 [00:00<?, ?it/s]\n",
      "\u001b[A\n",
      "  1%|1         | 1/68 [00:00<00:09,  7.21it/s]\n",
      "\u001b[A\n",
      " 18%|#7        | 12/68 [00:00<00:00, 59.03it/s]\n",
      "\u001b[A\n",
      " 53%|#####2    | 36/68 [00:00<00:00, 132.85it/s]\n",
      "\u001b[A\n",
      " 75%|#######5  | 51/68 [00:00<00:00, 127.86it/s]\n",
      "\u001b[A\n",
      "100%|##########| 68/68 [00:00<00:00, 107.51it/s]\n",
      "\u001b[A\n",
      "100%|##########| 68/68 [00:00<00:00, 101.92it/s]\n"
     ]
    },
    {
     "name": "stdout",
     "output_type": "stream",
     "text": [
      "Preparing function arguments...                                                                                         \n",
      "Calculating DWPCs...                                                                                                    \n",
      " 94%|██████████████████████████████████████▌  | 47/50 [45:45:08<2:39:07, 3182.52s/trial, best loss: -0.0900033600934903]"
     ]
    },
    {
     "name": "stderr",
     "output_type": "stream",
     "text": [
      "  0%|          | 0/141 [00:00<?, ?it/s]\n",
      "\u001b[A\n",
      "  1%|          | 1/141 [00:00<00:14,  9.72it/s]\n",
      "\u001b[A\n",
      "  3%|2         | 4/141 [00:00<00:06, 21.12it/s]\n",
      "\u001b[A\n",
      "  6%|5         | 8/141 [00:00<00:04, 27.56it/s]\n",
      "\u001b[A\n",
      "  9%|8         | 12/141 [00:00<00:04, 32.06it/s]\n",
      "\u001b[A\n",
      " 11%|#1        | 16/141 [00:00<00:04, 30.01it/s]\n",
      "\u001b[A\n",
      " 16%|#5        | 22/141 [00:00<00:03, 37.29it/s]\n",
      "\u001b[A\n",
      " 20%|#9        | 28/141 [00:00<00:02, 42.83it/s]\n",
      "\u001b[A\n",
      " 23%|##3       | 33/141 [00:00<00:02, 44.79it/s]\n",
      "\u001b[A\n",
      " 30%|##9       | 42/141 [00:00<00:01, 57.36it/s]\n",
      "\u001b[A\n",
      " 35%|###4      | 49/141 [00:01<00:01, 55.70it/s]\n",
      "\u001b[A\n",
      " 39%|###9      | 55/141 [00:01<00:01, 54.96it/s]\n",
      "\u001b[A\n",
      " 43%|####3     | 61/141 [00:01<00:01, 50.55it/s]\n",
      "\u001b[A\n",
      " 48%|####7     | 67/141 [00:01<00:01, 44.12it/s]\n",
      "\u001b[A\n",
      " 54%|#####3    | 76/141 [00:01<00:01, 54.57it/s]\n",
      "\u001b[A\n",
      " 60%|######    | 85/141 [00:01<00:01, 55.48it/s]\n",
      "\u001b[A\n",
      " 65%|######5   | 92/141 [00:01<00:00, 58.24it/s]\n",
      "\u001b[A\n",
      " 70%|#######   | 99/141 [00:02<00:00, 55.44it/s]\n",
      "\u001b[A\n",
      " 74%|#######4  | 105/141 [00:02<00:00, 45.55it/s]\n",
      "\u001b[A\n",
      " 78%|#######8  | 110/141 [00:02<00:00, 45.50it/s]\n",
      "\u001b[A\n",
      " 85%|########5 | 120/141 [00:02<00:00, 52.94it/s]\n",
      "\u001b[A\n",
      " 89%|########9 | 126/141 [00:02<00:00, 52.42it/s]\n",
      "\u001b[A\n",
      " 95%|#########5| 134/141 [00:02<00:00, 57.44it/s]\n",
      "\u001b[A\n",
      " 95%|#########5| 134/141 [00:14<00:00, 57.44it/s]\n",
      "\u001b[A\n",
      " 98%|#########7| 138/141 [00:53<00:07,  2.41s/it]\n",
      "\u001b[A\n",
      " 99%|#########8| 139/141 [00:55<00:04,  2.42s/it]\n",
      "\u001b[A\n",
      " 99%|#########8| 139/141 [01:14<00:04,  2.42s/it]\n",
      "\u001b[A\n",
      "100%|##########| 141/141 [02:18<00:00,  8.38s/it]\n",
      "\u001b[A\n",
      "100%|##########| 141/141 [02:18<00:00,  1.02it/s]\n"
     ]
    },
    {
     "name": "stdout",
     "output_type": "stream",
     "text": [
      "                                                                                                                        \n",
      "Reshaping Result Matrices...\n",
      " 94%|██████████████████████████████████████▌  | 47/50 [45:47:31<2:39:07, 3182.52s/trial, best loss: -0.0900033600934903]"
     ]
    },
    {
     "name": "stderr",
     "output_type": "stream",
     "text": [
      "  0%|          | 0/141 [00:00<?, ?it/s]\n",
      "\u001b[A\n",
      "  1%|1         | 2/141 [00:00<00:07, 19.85it/s]\n",
      "\u001b[A\n",
      "  4%|4         | 6/141 [00:00<00:05, 24.54it/s]\n",
      "\u001b[A\n",
      "  9%|9         | 13/141 [00:00<00:03, 34.23it/s]\n",
      "\u001b[A\n",
      " 12%|#2        | 17/141 [00:00<00:04, 28.60it/s]\n",
      "\u001b[A\n",
      " 17%|#7        | 24/141 [00:00<00:02, 39.29it/s]\n",
      "\u001b[A\n",
      " 21%|##        | 29/141 [00:00<00:02, 39.72it/s]\n",
      "\u001b[A\n",
      " 24%|##4       | 34/141 [00:00<00:02, 36.08it/s]\n",
      "\u001b[A\n",
      " 29%|##9       | 41/141 [00:01<00:02, 44.09it/s]\n",
      "\u001b[A\n",
      " 35%|###4      | 49/141 [00:01<00:01, 50.23it/s]\n",
      "\u001b[A\n",
      " 39%|###9      | 55/141 [00:01<00:01, 48.74it/s]\n",
      "\u001b[A\n",
      " 44%|####3     | 62/141 [00:01<00:01, 51.18it/s]\n",
      "\u001b[A\n",
      " 50%|####9     | 70/141 [00:01<00:01, 52.91it/s]\n",
      "\u001b[A\n",
      " 54%|#####3    | 76/141 [00:01<00:01, 43.82it/s]\n",
      "\u001b[A\n",
      " 62%|######2   | 88/141 [00:01<00:00, 58.42it/s]\n",
      "\u001b[A\n",
      " 67%|######7   | 95/141 [00:02<00:00, 55.26it/s]\n",
      "\u001b[A\n",
      " 72%|#######1  | 101/141 [00:02<00:00, 47.97it/s]\n",
      "\u001b[A\n",
      " 77%|#######7  | 109/141 [00:02<00:00, 54.83it/s]\n",
      "\u001b[A\n",
      " 82%|########1 | 115/141 [00:02<00:00, 54.07it/s]\n",
      "\u001b[A\n",
      " 87%|########7 | 123/141 [00:02<00:00, 59.18it/s]\n",
      "\u001b[A\n",
      " 92%|#########2| 130/141 [00:02<00:00, 54.09it/s]\n",
      "\u001b[A\n",
      " 96%|#########6| 136/141 [00:02<00:00, 50.89it/s]\n",
      "\u001b[A\n",
      "100%|##########| 141/141 [00:02<00:00, 48.38it/s]\n"
     ]
    },
    {
     "name": "stdout",
     "output_type": "stream",
     "text": [
      "Stacking columns...                                                                                                     \n",
      "[Pipeline] ....... (step 1 of 3) Processing transformer, total=  22.2s                                                  \n",
      "[Pipeline] ...... (step 2 of 3) Processing maxabs_scale, total=  14.4s                                                  \n",
      "[Pipeline] ............. (step 3 of 3) Processing e_net, total= 7.6min                                                  \n",
      "[Pipeline] ....... (step 1 of 3) Processing transformer, total=  21.5s                                                  \n",
      "[Pipeline] ...... (step 2 of 3) Processing maxabs_scale, total=  13.7s                                                  \n",
      "[Pipeline] ............. (step 3 of 3) Processing e_net, total=11.3min                                                  \n",
      "[Pipeline] ....... (step 1 of 3) Processing transformer, total=  24.5s                                                  \n",
      "[Pipeline] ...... (step 2 of 3) Processing maxabs_scale, total=  16.0s                                                  \n",
      "[Pipeline] ............. (step 3 of 3) Processing e_net, total=10.3min                                                  \n",
      "[Pipeline] ....... (step 1 of 3) Processing transformer, total=  25.8s                                                  \n",
      "[Pipeline] ...... (step 2 of 3) Processing maxabs_scale, total=  17.2s                                                  \n",
      "[Pipeline] ............. (step 3 of 3) Processing e_net, total= 8.0min                                                  \n",
      "[Pipeline] ....... (step 1 of 3) Processing transformer, total=  23.3s                                                  \n",
      "[Pipeline] ...... (step 2 of 3) Processing maxabs_scale, total=  15.2s                                                  \n",
      "[Pipeline] ............. (step 3 of 3) Processing e_net, total=12.4min                                                  \n",
      "Mean AUROC: 0.7113                                                                                                      \n",
      "Mean Avg Pre: 0.0125                                                                                                    \n",
      "STD AUROC: 0.0524                                                                                                       \n",
      "STD Avg Pre: 0.0069                                                                                                     \n",
      "Loss: -0.0886                                                                                                           \n",
      "Changing w from 0.722706115869318 to 0.8563867831013985. Please wait...                                                 \n",
      " 96%|███████████████████████████████████████▎ | 48/50 [46:41:02<1:47:51, 3235.81s/trial, best loss: -0.0900033600934903]"
     ]
    },
    {
     "name": "stderr",
     "output_type": "stream",
     "text": [
      "  0%|          | 0/68 [00:00<?, ?it/s]\n",
      "\u001b[A\n",
      "  1%|1         | 1/68 [00:00<00:09,  7.18it/s]\n",
      "\u001b[A\n",
      " 18%|#7        | 12/68 [00:00<00:00, 57.11it/s]\n",
      "\u001b[A\n",
      " 53%|#####2    | 36/68 [00:00<00:00, 127.14it/s]\n",
      "\u001b[A\n",
      " 74%|#######3  | 50/68 [00:00<00:00, 117.24it/s]\n",
      "\u001b[A\n",
      "100%|##########| 68/68 [00:00<00:00, 132.86it/s]\n",
      "\u001b[A\n",
      "100%|##########| 68/68 [00:00<00:00, 112.75it/s]\n"
     ]
    },
    {
     "name": "stdout",
     "output_type": "stream",
     "text": [
      "Preparing function arguments...                                                                                         \n",
      "Calculating DWPCs...                                                                                                    \n",
      " 96%|███████████████████████████████████████▎ | 48/50 [46:41:08<1:47:51, 3235.81s/trial, best loss: -0.0900033600934903]"
     ]
    },
    {
     "name": "stderr",
     "output_type": "stream",
     "text": [
      "  0%|          | 0/141 [00:00<?, ?it/s]\n",
      "\u001b[A\n",
      "  1%|          | 1/141 [00:00<00:16,  8.50it/s]\n",
      "\u001b[A\n",
      "  4%|4         | 6/141 [00:00<00:04, 28.01it/s]\n",
      "\u001b[A\n",
      "  6%|6         | 9/141 [00:00<00:04, 26.67it/s]\n",
      "\u001b[A\n",
      "  9%|9         | 13/141 [00:00<00:04, 29.59it/s]\n",
      "\u001b[A\n",
      " 13%|#2        | 18/141 [00:00<00:03, 33.53it/s]\n",
      "\u001b[A\n",
      " 17%|#7        | 24/141 [00:00<00:03, 34.59it/s]\n",
      "\u001b[A\n",
      " 21%|##1       | 30/141 [00:00<00:02, 40.95it/s]\n",
      "\u001b[A\n",
      " 25%|##4       | 35/141 [00:00<00:02, 41.62it/s]\n",
      "\u001b[A\n",
      " 35%|###4      | 49/141 [00:01<00:01, 63.65it/s]\n",
      "\u001b[A\n",
      " 40%|###9      | 56/141 [00:01<00:01, 56.73it/s]\n",
      "\u001b[A\n",
      " 44%|####3     | 62/141 [00:01<00:01, 51.71it/s]\n",
      "\u001b[A\n",
      " 48%|####8     | 68/141 [00:01<00:01, 50.52it/s]\n",
      "\u001b[A\n",
      " 55%|#####4    | 77/141 [00:01<00:01, 58.79it/s]\n",
      "\u001b[A\n",
      " 60%|######    | 85/141 [00:01<00:00, 63.17it/s]\n",
      "\u001b[A\n",
      " 65%|######5   | 92/141 [00:01<00:00, 54.27it/s]\n",
      "\u001b[A\n",
      " 70%|######9   | 98/141 [00:02<00:00, 50.50it/s]\n",
      "\u001b[A\n",
      " 74%|#######3  | 104/141 [00:02<00:00, 48.65it/s]\n",
      "\u001b[A\n",
      " 78%|#######8  | 110/141 [00:02<00:00, 42.10it/s]\n",
      "\u001b[A\n",
      " 85%|########5 | 120/141 [00:02<00:00, 54.24it/s]\n",
      "\u001b[A\n",
      " 90%|######### | 127/141 [00:02<00:00, 48.44it/s]\n",
      "\u001b[A\n",
      " 96%|#########5| 135/141 [00:05<00:00,  8.22it/s]\n",
      "\u001b[A\n",
      " 96%|#########5| 135/141 [00:24<00:00,  8.22it/s]\n",
      "\u001b[A\n",
      " 98%|#########7| 138/141 [00:55<00:07,  2.53s/it]\n",
      "\u001b[A\n",
      " 99%|#########8| 139/141 [00:57<00:04,  2.50s/it]\n",
      "\u001b[A\n",
      " 99%|#########8| 139/141 [01:14<00:04,  2.50s/it]\n",
      "\u001b[A\n",
      "100%|##########| 141/141 [02:18<00:00,  8.47s/it]\n",
      "\u001b[A\n",
      "100%|##########| 141/141 [02:18<00:00,  1.01it/s]\n"
     ]
    },
    {
     "name": "stdout",
     "output_type": "stream",
     "text": [
      "                                                                                                                        \n",
      "Reshaping Result Matrices...\n",
      " 96%|███████████████████████████████████████▎ | 48/50 [46:43:32<1:47:51, 3235.81s/trial, best loss: -0.0900033600934903]"
     ]
    },
    {
     "name": "stderr",
     "output_type": "stream",
     "text": [
      "  0%|          | 0/141 [00:00<?, ?it/s]\n",
      "\u001b[A\n",
      "  1%|1         | 2/141 [00:00<00:07, 19.71it/s]\n",
      "\u001b[A\n",
      "  4%|4         | 6/141 [00:00<00:05, 24.45it/s]\n",
      "\u001b[A\n",
      "  9%|9         | 13/141 [00:00<00:03, 34.04it/s]\n",
      "\u001b[A\n",
      " 12%|#2        | 17/141 [00:00<00:04, 28.00it/s]\n",
      "\u001b[A\n",
      " 17%|#7        | 24/141 [00:00<00:03, 38.56it/s]\n",
      "\u001b[A\n",
      " 21%|##        | 29/141 [00:00<00:02, 38.87it/s]\n",
      "\u001b[A\n",
      " 24%|##4       | 34/141 [00:00<00:02, 35.69it/s]\n",
      "\u001b[A\n",
      " 29%|##9       | 41/141 [00:01<00:02, 43.65it/s]\n",
      "\u001b[A\n",
      " 35%|###4      | 49/141 [00:01<00:01, 49.74it/s]\n",
      "\u001b[A\n",
      " 39%|###9      | 55/141 [00:01<00:01, 48.29it/s]\n",
      "\u001b[A\n",
      " 44%|####3     | 62/141 [00:01<00:01, 50.80it/s]\n",
      "\u001b[A\n",
      " 50%|####9     | 70/141 [00:01<00:01, 52.61it/s]\n",
      "\u001b[A\n",
      " 54%|#####3    | 76/141 [00:01<00:01, 43.64it/s]\n",
      "\u001b[A\n",
      " 62%|######2   | 88/141 [00:01<00:00, 58.17it/s]\n",
      "\u001b[A\n",
      " 67%|######7   | 95/141 [00:02<00:00, 55.11it/s]\n",
      "\u001b[A\n",
      " 72%|#######1  | 101/141 [00:02<00:00, 47.65it/s]\n",
      "\u001b[A\n",
      " 77%|#######7  | 109/141 [00:02<00:00, 54.26it/s]\n",
      "\u001b[A\n",
      " 82%|########1 | 115/141 [00:02<00:00, 53.51it/s]\n",
      "\u001b[A\n",
      " 87%|########7 | 123/141 [00:02<00:00, 58.32it/s]\n",
      "\u001b[A\n",
      " 92%|#########2| 130/141 [00:02<00:00, 52.81it/s]\n",
      "\u001b[A\n",
      " 96%|#########6| 136/141 [00:02<00:00, 49.28it/s]\n",
      "\u001b[A\n",
      "100%|##########| 141/141 [00:02<00:00, 47.68it/s]\n"
     ]
    },
    {
     "name": "stdout",
     "output_type": "stream",
     "text": [
      "Stacking columns...                                                                                                     \n",
      "[Pipeline] ....... (step 1 of 3) Processing transformer, total=  22.4s                                                  \n",
      "[Pipeline] ...... (step 2 of 3) Processing maxabs_scale, total=  14.5s                                                  \n",
      "[Pipeline] ............. (step 3 of 3) Processing e_net, total= 3.0min                                                  \n",
      "[Pipeline] ....... (step 1 of 3) Processing transformer, total=  21.7s                                                  \n",
      "[Pipeline] ...... (step 2 of 3) Processing maxabs_scale, total=  13.8s                                                  \n",
      "[Pipeline] ............. (step 3 of 3) Processing e_net, total= 4.5min                                                  \n",
      "[Pipeline] ....... (step 1 of 3) Processing transformer, total=  24.6s                                                  \n",
      "[Pipeline] ...... (step 2 of 3) Processing maxabs_scale, total=  16.1s                                                  \n",
      "[Pipeline] ............. (step 3 of 3) Processing e_net, total= 1.8min                                                  \n",
      "[Pipeline] ....... (step 1 of 3) Processing transformer, total=  26.0s                                                  \n",
      "[Pipeline] ...... (step 2 of 3) Processing maxabs_scale, total=  17.3s                                                  \n",
      "[Pipeline] ............. (step 3 of 3) Processing e_net, total= 1.8min                                                  \n",
      "[Pipeline] ....... (step 1 of 3) Processing transformer, total=  23.3s                                                  \n",
      "[Pipeline] ...... (step 2 of 3) Processing maxabs_scale, total=  15.3s                                                  \n",
      "[Pipeline] ............. (step 3 of 3) Processing e_net, total= 4.7min                                                  \n",
      "Mean AUROC: 0.6779                                                                                                      \n",
      "Mean Avg Pre: 0.0110                                                                                                    \n",
      "STD AUROC: 0.0861                                                                                                       \n",
      "STD Avg Pre: 0.0062                                                                                                     \n",
      "Loss: -0.0751                                                                                                           \n",
      "Changing w from 0.8563867831013985 to 0.669463195764347. Please wait...                                                 \n",
      " 98%|██████████████████████████████████████████▏| 49/50 [47:03:22<44:27, 2667.08s/trial, best loss: -0.0900033600934903]"
     ]
    },
    {
     "name": "stderr",
     "output_type": "stream",
     "text": [
      "  0%|          | 0/68 [00:00<?, ?it/s]\n",
      "\u001b[A\n",
      "  1%|1         | 1/68 [00:00<00:09,  7.08it/s]\n",
      "\u001b[A\n",
      " 16%|#6        | 11/68 [00:00<00:01, 52.65it/s]\n",
      "\u001b[A\n",
      " 53%|#####2    | 36/68 [00:00<00:00, 132.52it/s]\n",
      "\u001b[A\n",
      " 75%|#######5  | 51/68 [00:00<00:00, 124.07it/s]\n",
      "\u001b[A\n",
      "100%|##########| 68/68 [00:00<00:00, 124.88it/s]\n",
      "\u001b[A\n",
      "100%|##########| 68/68 [00:00<00:00, 109.87it/s]\n"
     ]
    },
    {
     "name": "stdout",
     "output_type": "stream",
     "text": [
      "Preparing function arguments...                                                                                         \n",
      "Calculating DWPCs...                                                                                                    \n",
      " 98%|██████████████████████████████████████████▏| 49/50 [47:03:28<44:27, 2667.08s/trial, best loss: -0.0900033600934903]"
     ]
    },
    {
     "name": "stderr",
     "output_type": "stream",
     "text": [
      "  0%|          | 0/141 [00:00<?, ?it/s]\n",
      "\u001b[A\n",
      "  1%|          | 1/141 [00:00<00:15,  9.23it/s]\n",
      "\u001b[A\n",
      "  4%|4         | 6/141 [00:00<00:04, 30.51it/s]\n",
      "\u001b[A\n",
      "  7%|7         | 10/141 [00:00<00:04, 28.13it/s]\n",
      "\u001b[A\n",
      " 10%|9         | 14/141 [00:00<00:04, 26.20it/s]\n",
      "\u001b[A\n",
      " 16%|#5        | 22/141 [00:00<00:03, 37.41it/s]\n",
      "\u001b[A\n",
      " 21%|##        | 29/141 [00:00<00:02, 42.90it/s]\n",
      "\u001b[A\n",
      " 24%|##4       | 34/141 [00:00<00:02, 44.62it/s]\n",
      "\u001b[A\n",
      " 32%|###1      | 45/141 [00:01<00:01, 57.27it/s]\n",
      "\u001b[A\n",
      " 37%|###6      | 52/141 [00:01<00:01, 60.51it/s]\n",
      "\u001b[A\n",
      " 42%|####1     | 59/141 [00:01<00:01, 58.15it/s]\n",
      "\u001b[A\n",
      " 46%|####6     | 65/141 [00:01<00:01, 47.09it/s]\n",
      "\u001b[A\n",
      " 51%|#####1    | 72/141 [00:01<00:01, 49.45it/s]\n",
      "\u001b[A\n",
      " 58%|#####8    | 82/141 [00:01<00:00, 59.79it/s]\n",
      "\u001b[A\n",
      " 65%|######4   | 91/141 [00:01<00:00, 61.86it/s]\n",
      "\u001b[A\n",
      " 70%|######9   | 98/141 [00:02<00:00, 52.92it/s]\n",
      "\u001b[A\n",
      " 74%|#######3  | 104/141 [00:02<00:00, 49.94it/s]\n",
      "\u001b[A\n",
      " 78%|#######8  | 110/141 [00:02<00:00, 44.72it/s]\n",
      "\u001b[A\n",
      " 82%|########2 | 116/141 [00:02<00:00, 47.17it/s]\n",
      "\u001b[A\n",
      " 87%|########6 | 122/141 [00:02<00:00, 49.67it/s]\n",
      "\u001b[A\n",
      " 91%|######### | 128/141 [00:02<00:00, 51.36it/s]\n",
      "\u001b[A\n",
      " 96%|#########5| 135/141 [00:05<00:00,  7.88it/s]\n",
      "\u001b[A\n",
      " 96%|#########5| 135/141 [00:24<00:00,  7.88it/s]\n",
      "\u001b[A\n",
      " 98%|#########7| 138/141 [00:52<00:08,  2.70s/it]\n",
      "\u001b[A\n",
      " 99%|#########8| 139/141 [00:53<00:05,  2.58s/it]\n",
      "\u001b[A\n",
      " 99%|#########8| 139/141 [01:04<00:05,  2.58s/it]\n",
      "\u001b[A\n",
      " 99%|#########9| 140/141 [01:15<00:04,  4.38s/it]\n",
      "\u001b[A\n",
      "100%|##########| 141/141 [02:16<00:00, 11.19s/it]\n",
      "\u001b[A\n",
      "100%|##########| 141/141 [02:16<00:00,  1.03it/s]\n"
     ]
    },
    {
     "name": "stdout",
     "output_type": "stream",
     "text": [
      "                                                                                                                        \n",
      "Reshaping Result Matrices...\n",
      " 98%|██████████████████████████████████████████▏| 49/50 [47:05:50<44:27, 2667.08s/trial, best loss: -0.0900033600934903]"
     ]
    },
    {
     "name": "stderr",
     "output_type": "stream",
     "text": [
      "  0%|          | 0/141 [00:00<?, ?it/s]\n",
      "\u001b[A\n",
      "  1%|1         | 2/141 [00:00<00:07, 19.84it/s]\n",
      "\u001b[A\n",
      "  4%|4         | 6/141 [00:00<00:05, 24.47it/s]\n",
      "\u001b[A\n",
      "  9%|9         | 13/141 [00:00<00:03, 34.07it/s]\n",
      "\u001b[A\n",
      " 12%|#2        | 17/141 [00:00<00:04, 28.43it/s]\n",
      "\u001b[A\n",
      " 16%|#6        | 23/141 [00:00<00:03, 36.61it/s]\n",
      "\u001b[A\n",
      " 19%|#9        | 27/141 [00:00<00:03, 35.75it/s]\n",
      "\u001b[A\n",
      " 22%|##1       | 31/141 [00:00<00:03, 34.76it/s]\n",
      "\u001b[A\n",
      " 27%|##6       | 38/141 [00:01<00:02, 43.85it/s]\n",
      "\u001b[A\n",
      " 32%|###1      | 45/141 [00:01<00:01, 49.64it/s]\n",
      "\u001b[A\n",
      " 36%|###6      | 51/141 [00:01<00:01, 48.61it/s]\n",
      "\u001b[A\n",
      " 40%|####      | 57/141 [00:01<00:01, 48.68it/s]\n",
      "\u001b[A\n",
      " 46%|####6     | 65/141 [00:01<00:01, 55.73it/s]\n",
      "\u001b[A\n",
      " 50%|#####     | 71/141 [00:01<00:01, 51.40it/s]\n",
      "\u001b[A\n",
      " 55%|#####4    | 77/141 [00:01<00:01, 45.29it/s]\n",
      "\u001b[A\n",
      " 62%|######2   | 88/141 [00:01<00:00, 58.21it/s]\n",
      "\u001b[A\n",
      " 67%|######7   | 95/141 [00:02<00:00, 54.90it/s]\n",
      "\u001b[A\n",
      " 72%|#######1  | 101/141 [00:02<00:00, 47.41it/s]\n",
      "\u001b[A\n",
      " 77%|#######7  | 109/141 [00:02<00:00, 54.53it/s]\n",
      "\u001b[A\n",
      " 82%|########1 | 115/141 [00:02<00:00, 53.64it/s]\n",
      "\u001b[A\n",
      " 87%|########7 | 123/141 [00:02<00:00, 58.80it/s]\n",
      "\u001b[A\n",
      " 92%|#########2| 130/141 [00:02<00:00, 53.82it/s]\n",
      "\u001b[A\n",
      " 96%|#########6| 136/141 [00:02<00:00, 50.60it/s]\n",
      "\u001b[A\n",
      "100%|##########| 141/141 [00:02<00:00, 48.04it/s]\n"
     ]
    },
    {
     "name": "stdout",
     "output_type": "stream",
     "text": [
      "Stacking columns...                                                                                                     \n",
      "[Pipeline] ....... (step 1 of 3) Processing transformer, total=  22.3s                                                  \n",
      "[Pipeline] ...... (step 2 of 3) Processing maxabs_scale, total=  14.5s                                                  \n",
      "[Pipeline] ............. (step 3 of 3) Processing e_net, total=10.1min                                                  \n",
      "[Pipeline] ....... (step 1 of 3) Processing transformer, total=  21.7s                                                  \n",
      "[Pipeline] ...... (step 2 of 3) Processing maxabs_scale, total=  13.8s                                                  \n",
      "[Pipeline] ............. (step 3 of 3) Processing e_net, total=11.9min                                                  \n",
      " 98%|██████████████████████████████████████████▏| 49/50 [47:29:19<44:27, 2667.08s/trial, best loss: -0.0900033600934903]"
     ]
    },
    {
     "name": "stderr",
     "output_type": "stream",
     "text": [
      "/home/rogertu/projects/MechRepoNet/mrn_venv/lib/python3.8/site-packages/sklearn/linear_model/_sag.py:328: ConvergenceWarning: The max_iter was reached which means the coef_ did not converge\n",
      "  warnings.warn(\"The max_iter was reached which means \"\n",
      "\n"
     ]
    },
    {
     "name": "stdout",
     "output_type": "stream",
     "text": [
      "[Pipeline] ....... (step 1 of 3) Processing transformer, total=  24.6s                                                  \n",
      "[Pipeline] ...... (step 2 of 3) Processing maxabs_scale, total=  16.1s                                                  \n",
      "[Pipeline] ............. (step 3 of 3) Processing e_net, total=11.7min                                                  \n",
      "[Pipeline] ....... (step 1 of 3) Processing transformer, total=  26.1s                                                  \n",
      "[Pipeline] ...... (step 2 of 3) Processing maxabs_scale, total=  17.3s                                                  \n",
      "[Pipeline] ............. (step 3 of 3) Processing e_net, total= 9.9min                                                  \n",
      "[Pipeline] ....... (step 1 of 3) Processing transformer, total=  23.3s                                                  \n",
      "[Pipeline] ...... (step 2 of 3) Processing maxabs_scale, total=  15.3s                                                  \n",
      "[Pipeline] ............. (step 3 of 3) Processing e_net, total=12.3min                                                  \n",
      " 98%|██████████████████████████████████████████▏| 49/50 [48:05:36<44:27, 2667.08s/trial, best loss: -0.0900033600934903]"
     ]
    },
    {
     "name": "stderr",
     "output_type": "stream",
     "text": [
      "/home/rogertu/projects/MechRepoNet/mrn_venv/lib/python3.8/site-packages/sklearn/linear_model/_sag.py:328: ConvergenceWarning: The max_iter was reached which means the coef_ did not converge\n",
      "  warnings.warn(\"The max_iter was reached which means \"\n",
      "\n"
     ]
    },
    {
     "name": "stdout",
     "output_type": "stream",
     "text": [
      "Mean AUROC: 0.7104                                                                                                      \n",
      "Mean Avg Pre: 0.0138                                                                                                    \n",
      "STD AUROC: 0.0693                                                                                                       \n",
      "STD Avg Pre: 0.0092                                                                                                     \n",
      "Loss: -0.0871                                                                                                           \n",
      "100%|███████████████████████████████████████████| 50/50 [48:05:43<00:00, 3462.88s/trial, best loss: -0.0900033600934903]\n",
      "173143.87306571007\n"
     ]
    }
   ],
   "source": [
    "trials, best_param = hyperopt(param_hyperopt, y[train_index], 50)"
   ]
  },
  {
   "cell_type": "code",
   "execution_count": 34,
   "metadata": {},
   "outputs": [],
   "source": [
    "pickle.dump(best_param, open(out_dir.joinpath('best_param.pkl'), 'wb'))\n",
    "pickle.dump(trials, open(out_dir.joinpath('trials.pkl'), 'wb'))"
   ]
  },
  {
   "cell_type": "code",
   "execution_count": 35,
   "metadata": {},
   "outputs": [
    {
     "data": {
      "text/plain": [
       "{'C': 0.043780838941356225,\n",
       " 'l1_ratio': 0.2562399979401899,\n",
       " 'w': 0.5772970361687382}"
      ]
     },
     "execution_count": 35,
     "metadata": {},
     "output_type": "execute_result"
    }
   ],
   "source": [
    "best_param"
   ]
  },
  {
   "cell_type": "markdown",
   "metadata": {},
   "source": [
    "# Use the selected params to do the feature selection\n"
   ]
  },
  {
   "cell_type": "code",
   "execution_count": 36,
   "metadata": {},
   "outputs": [],
   "source": [
    "enet_params = {k: v for k, v in best_param.items() if k != 'w'}\n",
    "\n",
    "post_extraction_pipeline = Pipeline(\n",
    "    [('transformer', MeanScaledArcsinhTransformer()),\n",
    "     ('feature_selection', FeatureSelector(num_features=500, min_selections=4, n_jobs=30,\n",
    "                                           feature_names=to_xtract, always_keep=dmdb_feat,\n",
    "                                           random_state=4))], verbose=True)"
   ]
  },
  {
   "cell_type": "code",
   "execution_count": 37,
   "metadata": {},
   "outputs": [
    {
     "name": "stdout",
     "output_type": "stream",
     "text": [
      "Changing w from 0.669463195764347 to 0.5772970361687382. Please wait...\n"
     ]
    },
    {
     "name": "stderr",
     "output_type": "stream",
     "text": [
      "100%|██████████████████████████████████████████████████████████████████████████████████| 68/68 [00:00<00:00, 105.48it/s]\n",
      "100%|██████████████████████████████████████████████████████████████████████████████████| 21/21 [43:55<00:00, 125.49s/it]\n"
     ]
    }
   ],
   "source": [
    "mg.update_w(best_param['w'])\n",
    "(a, b), dwpc = piecewise_extraction(function=mg.extract_dwpc, \n",
    "                                 to_split='metapaths', block_size=block_size,\n",
    "                                 axis=1,\n",
    "                                 metapaths=to_xtract, \n",
    "                                 start_nodes=list(keep_comps), \n",
    "                                 end_nodes=list(keep_dis),\n",
    "                                 return_sparse=True,\n",
    "                                 sparse_df=False,\n",
    "                                 n_jobs=30)"
   ]
  },
  {
   "cell_type": "code",
   "execution_count": 38,
   "metadata": {},
   "outputs": [
    {
     "name": "stdout",
     "output_type": "stream",
     "text": [
      "[Pipeline] ....... (step 1 of 2) Processing transformer, total= 6.2min\n",
      "Running Cor\n"
     ]
    },
    {
     "name": "stderr",
     "output_type": "stream",
     "text": [
      "/home/rogertu/projects/MechRepoNet/mrn_venv/lib/python3.8/site-packages/numpy/lib/function_base.py:2691: RuntimeWarning: invalid value encountered in true_divide\n",
      "  c /= stddev[:, None]\n",
      "/home/rogertu/projects/MechRepoNet/mrn_venv/lib/python3.8/site-packages/numpy/lib/function_base.py:2692: RuntimeWarning: invalid value encountered in true_divide\n",
      "  c /= stddev[None, :]\n"
     ]
    },
    {
     "name": "stdout",
     "output_type": "stream",
     "text": [
      "Running Chi2\n",
      "Running RFE\n",
      "Fitting estimator with 7012 features.\n",
      "Fitting estimator with 5610 features.\n",
      "Fitting estimator with 4208 features.\n",
      "Fitting estimator with 2806 features.\n",
      "Fitting estimator with 1404 features.\n",
      "Running LR\n",
      "Running RF\n",
      "Running XG\n"
     ]
    },
    {
     "name": "stderr",
     "output_type": "stream",
     "text": [
      "/home/rogertu/projects/MechRepoNet/mrn_venv/lib/python3.8/site-packages/xgboost/sklearn.py:1146: UserWarning: The use of label encoder in XGBClassifier is deprecated and will be removed in a future release. To remove this warning, do the following: 1) Pass option use_label_encoder=False when constructing XGBClassifier object; and 2) Encode your labels (y) as integers starting with 0, i.e. 0, 1, 2, ..., [num_class - 1].\n",
      "  warnings.warn(label_encoder_deprecation_msg, UserWarning)\n"
     ]
    },
    {
     "name": "stdout",
     "output_type": "stream",
     "text": [
      "[13:30:02] WARNING: ../src/learner.cc:1095: Starting in XGBoost 1.3.0, the default evaluation metric used with the objective 'binary:logistic' was changed from 'error' to 'logloss'. Explicitly set eval_metric if you'd like to restore the old behavior.\n"
     ]
    },
    {
     "name": "stderr",
     "output_type": "stream",
     "text": [
      "/home/rogertu/projects/MechRepoNet/mrn_venv/lib/python3.8/site-packages/numpy/core/fromnumeric.py:84: FutureWarning: Dropping of nuisance columns in DataFrame reductions (with 'numeric_only=None') is deprecated; in a future version this will raise TypeError.  Select only valid columns before calling the reduction.\n",
      "  return reduction(axis=axis, out=out, **passkwargs)\n"
     ]
    },
    {
     "name": "stdout",
     "output_type": "stream",
     "text": [
      "[Pipeline]  (step 2 of 2) Processing feature_selection, total=312.3min\n"
     ]
    },
    {
     "data": {
      "text/plain": [
       "Pipeline(steps=[('transformer',\n",
       "                 <__main__.MeanScaledArcsinhTransformer object at 0x7f3a2b151d60>),\n",
       "                ('feature_selection',\n",
       "                 FeatureSelector(always_keep={'CaBPawD', 'CaGitThiBPawD',\n",
       "                                              'CaGitTitBPawD', 'CaGnr>GnrBPawD',\n",
       "                                              'CaGnr>GpoBPawD',\n",
       "                                              'CaGnr>GprBPawD', 'CaGnr>GrxCmD',\n",
       "                                              'CaGnrBPawD', 'CaGnrBPpoCmD',\n",
       "                                              'CaGpoAcoBPawD', 'CaGpoApBPawD',\n",
       "                                              'CaGpoAsoD', 'CaGpoBPawD',\n",
       "                                              'CaGpoBPpoCmD'...\n",
       "                                                'CpoGnr>Gnr>GmD',\n",
       "                                                'CnrG<rGr>GawD',\n",
       "                                                'CrxGnrBPrPWawD',\n",
       "                                                'CprG<rGr>GawD',\n",
       "                                                'CaG<nrGpr>GmD',\n",
       "                                                'CinGpr>GprBPawD',\n",
       "                                                'CrxGr>GprCtD',\n",
       "                                                'CrG<prGprBPawD',\n",
       "                                                'CprG<nrGnr>GmD',\n",
       "                                                'CafGpoBPrPWawD',\n",
       "                                                'CaBPprGnrCpvD',\n",
       "                                                'CrGnr>Gnr>GawD', 'CrGpoGrCplD',\n",
       "                                                'CpoGpoG<rGawD',\n",
       "                                                'CafGnrCawPWdD', 'CrxGprCinGtD',\n",
       "                                                'CafG<rGrCtD', 'CaGpoBPprGtD', ...],\n",
       "                                 n_jobs=30, num_features=500,\n",
       "                                 random_state=4))],\n",
       "         verbose=True)"
      ]
     },
     "execution_count": 38,
     "metadata": {},
     "output_type": "execute_result"
    }
   ],
   "source": [
    "post_extraction_pipeline.fit(dwpc[train_index], y[train_index])"
   ]
  },
  {
   "cell_type": "code",
   "execution_count": 39,
   "metadata": {},
   "outputs": [],
   "source": [
    "pe_feats = post_extraction_pipeline[1].keep_features_"
   ]
  },
  {
   "cell_type": "code",
   "execution_count": 40,
   "metadata": {},
   "outputs": [
    {
     "data": {
      "text/plain": [
       "(146, 141)"
      ]
     },
     "execution_count": 40,
     "metadata": {},
     "output_type": "execute_result"
    }
   ],
   "source": [
    "len(pe_feats), len(keep_features) "
   ]
  },
  {
   "cell_type": "code",
   "execution_count": 41,
   "metadata": {},
   "outputs": [
    {
     "data": {
      "text/plain": [
       "27"
      ]
     },
     "execution_count": 41,
     "metadata": {},
     "output_type": "execute_result"
    }
   ],
   "source": [
    "len(set(keep_features) - set(pe_feats))"
   ]
  },
  {
   "cell_type": "code",
   "execution_count": 42,
   "metadata": {},
   "outputs": [],
   "source": [
    "feat_df = post_extraction_pipeline[1].feature_selection_df_\n",
    "feat_df.sort_values('total', ascending=False).to_csv(out_dir.joinpath('feature_selection_df.csv'), index=False)"
   ]
  },
  {
   "cell_type": "code",
   "execution_count": 43,
   "metadata": {},
   "outputs": [],
   "source": [
    "pickle.dump(post_extraction_pipeline[1], open(out_dir.joinpath('feature_selector.pkl'), 'wb'))\n",
    "pd.Series(post_extraction_pipeline[1].keep_features_).to_csv(out_dir.joinpath('kept_features.txt'), index=False)"
   ]
  },
  {
   "cell_type": "code",
   "execution_count": 44,
   "metadata": {},
   "outputs": [
    {
     "name": "stdout",
     "output_type": "stream",
     "text": [
      "Preparing function arguments...\n",
      "Calculating DWPCs...\n"
     ]
    },
    {
     "name": "stderr",
     "output_type": "stream",
     "text": [
      "100%|█████████████████████████████████████████████████████████████████████████████████| 146/146 [02:15<00:00,  1.08it/s]\n"
     ]
    },
    {
     "name": "stdout",
     "output_type": "stream",
     "text": [
      "\n",
      "Reshaping Result Matrices...\n"
     ]
    },
    {
     "name": "stderr",
     "output_type": "stream",
     "text": [
      "100%|█████████████████████████████████████████████████████████████████████████████████| 146/146 [00:03<00:00, 47.24it/s]\n"
     ]
    },
    {
     "name": "stdout",
     "output_type": "stream",
     "text": [
      "Stacking columns...\n"
     ]
    }
   ],
   "source": [
    "enet_params = {k: v for k, v in best_param.items() if k != 'w'}\n",
    "\n",
    "\n",
    "# Set up the post feature extraction pipeline\n",
    "post_extraction_pipeline = Pipeline(\n",
    "    [('transformer', MeanScaledArcsinhTransformer()),\n",
    "     ('maxabs_scale', MaxAbsScaler()),\n",
    "     ('e_net', LogisticRegression(penalty='elasticnet', solver='saga', max_iter=100, **enet_params,\n",
    "                                  random_state=rs+6))], verbose=True)\n",
    "\n",
    "## Get the dwpc information for the current pairs\n",
    "(stuff), dwpc = mg.extract_dwpc(metapaths=pe_feats, \n",
    "                                start_nodes=list(keep_comps), \n",
    "                                end_nodes=list(keep_dis),\n",
    "                                return_sparse=True,\n",
    "                                sparse_df=False,\n",
    "                                n_jobs=30)"
   ]
  },
  {
   "cell_type": "code",
   "execution_count": 45,
   "metadata": {},
   "outputs": [],
   "source": [
    "this_dwpc = dwpc[train_index]\n",
    "this_y = y[train_index]"
   ]
  },
  {
   "cell_type": "code",
   "execution_count": 46,
   "metadata": {},
   "outputs": [
    {
     "name": "stdout",
     "output_type": "stream",
     "text": [
      "[Pipeline] ....... (step 1 of 3) Processing transformer, total=  23.4s\n",
      "[Pipeline] ...... (step 2 of 3) Processing maxabs_scale, total=  15.3s\n"
     ]
    },
    {
     "name": "stderr",
     "output_type": "stream",
     "text": [
      "/home/rogertu/projects/MechRepoNet/mrn_venv/lib/python3.8/site-packages/sklearn/linear_model/_sag.py:328: ConvergenceWarning: The max_iter was reached which means the coef_ did not converge\n",
      "  warnings.warn(\"The max_iter was reached which means \"\n"
     ]
    },
    {
     "name": "stdout",
     "output_type": "stream",
     "text": [
      "[Pipeline] ............. (step 3 of 3) Processing e_net, total=13.5min\n",
      "[Pipeline] ....... (step 1 of 3) Processing transformer, total=  22.6s\n",
      "[Pipeline] ...... (step 2 of 3) Processing maxabs_scale, total=  14.8s\n"
     ]
    },
    {
     "name": "stderr",
     "output_type": "stream",
     "text": [
      "/home/rogertu/projects/MechRepoNet/mrn_venv/lib/python3.8/site-packages/sklearn/linear_model/_sag.py:328: ConvergenceWarning: The max_iter was reached which means the coef_ did not converge\n",
      "  warnings.warn(\"The max_iter was reached which means \"\n"
     ]
    },
    {
     "name": "stdout",
     "output_type": "stream",
     "text": [
      "[Pipeline] ............. (step 3 of 3) Processing e_net, total=13.4min\n",
      "[Pipeline] ....... (step 1 of 3) Processing transformer, total=  25.7s\n",
      "[Pipeline] ...... (step 2 of 3) Processing maxabs_scale, total=  17.2s\n"
     ]
    },
    {
     "name": "stderr",
     "output_type": "stream",
     "text": [
      "/home/rogertu/projects/MechRepoNet/mrn_venv/lib/python3.8/site-packages/sklearn/linear_model/_sag.py:328: ConvergenceWarning: The max_iter was reached which means the coef_ did not converge\n",
      "  warnings.warn(\"The max_iter was reached which means \"\n"
     ]
    },
    {
     "name": "stdout",
     "output_type": "stream",
     "text": [
      "[Pipeline] ............. (step 3 of 3) Processing e_net, total=13.7min\n",
      "[Pipeline] ....... (step 1 of 3) Processing transformer, total=  27.1s\n",
      "[Pipeline] ...... (step 2 of 3) Processing maxabs_scale, total=  18.4s\n"
     ]
    },
    {
     "name": "stderr",
     "output_type": "stream",
     "text": [
      "/home/rogertu/projects/MechRepoNet/mrn_venv/lib/python3.8/site-packages/sklearn/linear_model/_sag.py:328: ConvergenceWarning: The max_iter was reached which means the coef_ did not converge\n",
      "  warnings.warn(\"The max_iter was reached which means \"\n"
     ]
    },
    {
     "name": "stdout",
     "output_type": "stream",
     "text": [
      "[Pipeline] ............. (step 3 of 3) Processing e_net, total=14.2min\n",
      "[Pipeline] ....... (step 1 of 3) Processing transformer, total=  24.4s\n",
      "[Pipeline] ...... (step 2 of 3) Processing maxabs_scale, total=  16.2s\n"
     ]
    },
    {
     "name": "stderr",
     "output_type": "stream",
     "text": [
      "/home/rogertu/projects/MechRepoNet/mrn_venv/lib/python3.8/site-packages/sklearn/linear_model/_sag.py:328: ConvergenceWarning: The max_iter was reached which means the coef_ did not converge\n",
      "  warnings.warn(\"The max_iter was reached which means \"\n"
     ]
    },
    {
     "name": "stdout",
     "output_type": "stream",
     "text": [
      "[Pipeline] ............. (step 3 of 3) Processing e_net, total=13.7min\n"
     ]
    }
   ],
   "source": [
    "cv = cross_validate(post_extraction_pipeline, this_dwpc, this_y, cv=5, \n",
    "                    scoring=['average_precision', 'roc_auc'], return_estimator=True)\n",
    "\n",
    "auroc_mean = cv['test_roc_auc'].mean()\n",
    "avg_pre_mean = cv['test_average_precision'].mean()\n",
    "auroc_std = cv['test_roc_auc'].std()\n",
    "avg_pre_std = cv['test_average_precision'].std()\n",
    "\n",
    "score = calc_loss(auroc_mean, avg_pre_mean, auroc_std, avg_pre_std)"
   ]
  },
  {
   "cell_type": "code",
   "execution_count": 47,
   "metadata": {},
   "outputs": [
    {
     "name": "stdout",
     "output_type": "stream",
     "text": [
      "AUROC Scores: 0.7456, 0.7216, 0.7920, 0.7324, 0.6119, \n",
      "Mean AUROC: 0.7207\n",
      "Avg Pre. Scores: 0.0109, 0.0064, 0.0154, 0.0290, 0.0059, \n",
      "Mean Avg Pre: 0.0135\n",
      "STD AUROC: 0.0595\n",
      "STD Avg Pre: 0.0085\n",
      "Loss: -0.0907\n"
     ]
    }
   ],
   "source": [
    "print(('AUROC Scores: '+5*'{:1.4f}, ').format(*cv['test_roc_auc'].tolist()))\n",
    "print('Mean AUROC: {:1.4f}'.format(auroc_mean))\n",
    "print(('Avg Pre. Scores: '+5*'{:1.4f}, ').format(*cv['test_average_precision'].tolist()))\n",
    "print('Mean Avg Pre: {:1.4f}'.format(avg_pre_mean))\n",
    "print('STD AUROC: {:1.4f}'.format(auroc_std))\n",
    "print('STD Avg Pre: {:1.4f}'.format(avg_pre_std))\n",
    "print('Loss: {:1.4f}'.format(score))"
   ]
  }
 ],
 "metadata": {
  "kernelspec": {
   "display_name": "Python 3 (ipykernel)",
   "language": "python",
   "name": "python3"
  },
  "language_info": {
   "codemirror_mode": {
    "name": "ipython",
    "version": 3
   },
   "file_extension": ".py",
   "mimetype": "text/x-python",
   "name": "python",
   "nbconvert_exporter": "python",
   "pygments_lexer": "ipython3",
   "version": "3.8.5"
  }
 },
 "nbformat": 4,
 "nbformat_minor": 2
}
